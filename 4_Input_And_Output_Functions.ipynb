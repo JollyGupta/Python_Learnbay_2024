{
 "cells": [
  {
   "cell_type": "markdown",
   "id": "88504e93",
   "metadata": {},
   "source": [
    "# Input function\n",
    "\n",
    "- It allows the user to enter the values\n",
    "- Input will always be in a form of a string"
   ]
  },
  {
   "cell_type": "code",
   "execution_count": null,
   "id": "905cf93b-5406-41f7-aae1-be690b243e1f",
   "metadata": {},
   "outputs": [],
   "source": [
    "a = input('Enter a number : ') # ctrl+ enter to run the programme\n",
    "\n",
    "print(a , type(a))"
   ]
  },
  {
   "cell_type": "code",
   "execution_count": null,
   "id": "a325d11e-0764-4ce8-8074-8ec5c6d38c42",
   "metadata": {},
   "outputs": [],
   "source": [
    "a = eval(input('first number : '))\n",
    "b = eval(input('second nuber : '))\n",
    "\n",
    "print(a+b)"
   ]
  },
  {
   "cell_type": "code",
   "execution_count": null,
   "id": "a1664537",
   "metadata": {},
   "outputs": [],
   "source": [
    "a = eval(input('first number : '))\n",
    "b = eval(input('second nuber : '))\n",
    "\n",
    "print(a+b)"
   ]
  },
  {
   "cell_type": "code",
   "execution_count": null,
   "id": "93bc29a1-ce90-44b2-a760-c27c57828eb5",
   "metadata": {},
   "outputs": [],
   "source": [
    "a = input('Enter a number : ')\n",
    "\n",
    "print(a , type(a))"
   ]
  },
  {
   "cell_type": "code",
   "execution_count": 6,
   "id": "aa0a2ba9",
   "metadata": {},
   "outputs": [
    {
     "name": "stdout",
     "output_type": "stream",
     "text": [
      "Enter a number : 'jolly'\n",
      "jolly <class 'str'>\n"
     ]
    }
   ],
   "source": [
    "a = eval(input('Enter a number : '))\n",
    "\n",
    "print(a , type(a))"
   ]
  },
  {
   "cell_type": "code",
   "execution_count": null,
   "id": "2c40c0c9-d9b7-464f-9a76-f7a3b6c86ace",
   "metadata": {},
   "outputs": [],
   "source": [
    "a = 'xyz'\n",
    "b = 'abc'\n",
    "\n",
    "print(a+b)"
   ]
  },
  {
   "cell_type": "code",
   "execution_count": null,
   "id": "d02fb8ae",
   "metadata": {},
   "outputs": [],
   "source": [
    "a = eval(input('first number : '))\n",
    "b = eval(input('second nuber : '))\n",
    "\n",
    "print(a+b)"
   ]
  },
  {
   "cell_type": "code",
   "execution_count": 45,
   "id": "c54867cb-d071-4c98-841c-62a208c1c3e0",
   "metadata": {},
   "outputs": [
    {
     "name": "stdin",
     "output_type": "stream",
     "text": [
      "first number :  10\n",
      "second nuber :  20\n"
     ]
    },
    {
     "name": "stdout",
     "output_type": "stream",
     "text": [
      "The addition of 10 and 20 = 30\n"
     ]
    }
   ],
   "source": [
    "a = eval(input('first number : '))\n",
    "b = eval(input('second nuber : '))\n",
    "\n",
    "print('The addition of ' + str(a) + ' and ' + str(b) +' = ' +str(a+b)) # Concatination"
   ]
  },
  {
   "cell_type": "code",
   "execution_count": null,
   "id": "c048f8c3-fe95-41dc-b8c9-fe7e212aa9ff",
   "metadata": {},
   "outputs": [],
   "source": [
    "The addition of 10 and 20 = 30"
   ]
  },
  {
   "cell_type": "code",
   "execution_count": 44,
   "id": "bd384571-307b-4705-ac05-6fa58afe1535",
   "metadata": {},
   "outputs": [
    {
     "data": {
      "text/plain": [
       "'xyz20'"
      ]
     },
     "execution_count": 44,
     "metadata": {},
     "output_type": "execute_result"
    }
   ],
   "source": [
    "'xyz'+ str(20)"
   ]
  },
  {
   "cell_type": "markdown",
   "id": "b425494b-3291-4802-b2ed-4bc0479d71f2",
   "metadata": {},
   "source": [
    "# Format string"
   ]
  },
  {
   "cell_type": "code",
   "execution_count": 49,
   "id": "8ee73252-7310-4f43-a731-34e4d6480d62",
   "metadata": {},
   "outputs": [
    {
     "name": "stdin",
     "output_type": "stream",
     "text": [
      "first number :  10\n",
      "second nuber :  20\n"
     ]
    },
    {
     "name": "stdout",
     "output_type": "stream",
     "text": [
      "The addition of 10 and 20 = 30\n"
     ]
    }
   ],
   "source": [
    "# Syntax 1\n",
    "\n",
    "a = eval(input('first number : '))\n",
    "b = eval(input('second nuber : '))\n",
    "\n",
    "c = 'The addition of {} and {} = {}'.format(a , b , a+b)\n",
    "\n",
    "print(c)"
   ]
  },
  {
   "cell_type": "code",
   "execution_count": 50,
   "id": "443e135b-72aa-4212-83d5-89217a0296f7",
   "metadata": {},
   "outputs": [
    {
     "name": "stdin",
     "output_type": "stream",
     "text": [
      "first number :  10\n",
      "second nuber :  20\n"
     ]
    },
    {
     "name": "stdout",
     "output_type": "stream",
     "text": [
      "The addition of 10 and 20 = 30\n"
     ]
    }
   ],
   "source": [
    "# Syntax 2\n",
    "\n",
    "a = eval(input('first number : '))\n",
    "b = eval(input('second nuber : '))\n",
    "\n",
    "c = f'The addition of {a} and {b} = {a+b}'\n",
    "\n",
    "print(c)"
   ]
  },
  {
   "cell_type": "code",
   "execution_count": null,
   "id": "e3248794-6560-488d-b5ef-40fe0bd1d232",
   "metadata": {},
   "outputs": [],
   "source": [
    "WAP\n",
    "\n",
    "2 inputs from the user\n",
    "\n",
    "first name -> xyz\n",
    "second name -> abc\n",
    "\n",
    "My first name is xyz,second name is abc"
   ]
  },
  {
   "cell_type": "code",
   "execution_count": 52,
   "id": "5e0e35ea-f822-4aba-a768-a46a6d902b9a",
   "metadata": {},
   "outputs": [
    {
     "name": "stdin",
     "output_type": "stream",
     "text": [
      "Enter the first name :  xyz\n",
      "Enter the second name :  abc\n"
     ]
    },
    {
     "name": "stdout",
     "output_type": "stream",
     "text": [
      "My first name is xyz,second name is abc\n"
     ]
    }
   ],
   "source": [
    "first_name = input('Enter the first name : ')\n",
    "second_name = input('Enter the second name : ')\n",
    "\n",
    "c = f\"My first name is {first_name},second name is {second_name}\"\n",
    "\n",
    "print(c)"
   ]
  },
  {
   "cell_type": "code",
   "execution_count": 55,
   "id": "1c726a69-c45b-4d76-99dc-8ebcfee6300e",
   "metadata": {},
   "outputs": [
    {
     "name": "stdin",
     "output_type": "stream",
     "text": [
      "enter your no :  87687678\n"
     ]
    },
    {
     "name": "stdout",
     "output_type": "stream",
     "text": [
      "+91-87687678\n"
     ]
    }
   ],
   "source": [
    "a = int(input(\"enter your no : \"))\n",
    "\n",
    "print(f\"+91-{a}\")"
   ]
  },
  {
   "cell_type": "code",
   "execution_count": 66,
   "id": "20df3d29-9502-4cf8-a705-aacb7ff6a94a",
   "metadata": {},
   "outputs": [
    {
     "name": "stdin",
     "output_type": "stream",
     "text": [
      "Enter  34+54j\n"
     ]
    },
    {
     "name": "stdout",
     "output_type": "stream",
     "text": [
      "The real part part of the entered number is 34 and imag number is 54.0\n"
     ]
    }
   ],
   "source": [
    "a = complex(input('Enter '))\n",
    "b = f\"The real part part of the entered number is {int(a.real)} and imag number is {a.imag}\"\n",
    "print(b)"
   ]
  },
  {
   "cell_type": "code",
   "execution_count": 60,
   "id": "7e8b18b6-d52b-4643-b1cd-aff5315b0053",
   "metadata": {},
   "outputs": [
    {
     "name": "stdin",
     "output_type": "stream",
     "text": [
      "Enter  45\n"
     ]
    },
    {
     "name": "stdout",
     "output_type": "stream",
     "text": [
      "The real part part of the entered number is 45 and imag number is 0\n"
     ]
    }
   ],
   "source": [
    "a = eval(input('Enter '))\n",
    "b = f\"The real part part of the entered number is {a.real} and imag number is {a.imag}\"\n",
    "print(b)"
   ]
  },
  {
   "cell_type": "markdown",
   "id": "5888ab71-440b-43c5-8fc5-a78ec7f84993",
   "metadata": {},
   "source": [
    "# Output\n",
    "\n",
    "- print"
   ]
  },
  {
   "cell_type": "code",
   "execution_count": 69,
   "id": "d131088a-6eed-4fd1-9ba9-da99b757f194",
   "metadata": {},
   "outputs": [
    {
     "name": "stdout",
     "output_type": "stream",
     "text": [
      "10 20 30\n"
     ]
    }
   ],
   "source": [
    "a = 10\n",
    "b = 20\n",
    "c = 30\n",
    "\n",
    "print(a,b,c)"
   ]
  },
  {
   "cell_type": "code",
   "execution_count": 68,
   "id": "63a6587e-be88-40eb-9ebd-0c4c7f539d96",
   "metadata": {},
   "outputs": [
    {
     "name": "stdout",
     "output_type": "stream",
     "text": [
      "10\n",
      "20\n"
     ]
    }
   ],
   "source": [
    "a = 10\n",
    "b = 20\n",
    "\n",
    "print(a)\n",
    "print(b)"
   ]
  },
  {
   "cell_type": "code",
   "execution_count": null,
   "id": "74a4938b-245d-4a26-9b42-812076d2611e",
   "metadata": {},
   "outputs": [],
   "source": [
    "sep=' ', end='\\n',"
   ]
  },
  {
   "cell_type": "code",
   "execution_count": 70,
   "id": "9fe961dd-5bdc-4315-8a89-5fc42f31c465",
   "metadata": {},
   "outputs": [
    {
     "name": "stdout",
     "output_type": "stream",
     "text": [
      "hello\n",
      "world\n"
     ]
    }
   ],
   "source": [
    "a = 'hello\\nworld'\n",
    "\n",
    "print(a)"
   ]
  },
  {
   "cell_type": "code",
   "execution_count": 73,
   "id": "69c5e690-f6a2-4a8f-9bf8-b4b92d8fe8ce",
   "metadata": {},
   "outputs": [
    {
     "name": "stdout",
     "output_type": "stream",
     "text": [
      "10$20$30\n"
     ]
    }
   ],
   "source": [
    "a = 10\n",
    "b = 20\n",
    "c = 30\n",
    "\n",
    "print(a,b,c , sep = '$')"
   ]
  },
  {
   "cell_type": "code",
   "execution_count": 74,
   "id": "3a9819d7-866d-4707-abc8-be9094401503",
   "metadata": {},
   "outputs": [
    {
     "name": "stdout",
     "output_type": "stream",
     "text": [
      "10\n",
      "20\n"
     ]
    }
   ],
   "source": [
    "a = 10\n",
    "b = 20\n",
    "c = 30\n",
    "\n",
    "print(a , sep = '$')\n",
    "print(b)"
   ]
  },
  {
   "cell_type": "code",
   "execution_count": 75,
   "id": "095ed4eb-ab45-4ffa-9820-6b9c4b63cab0",
   "metadata": {},
   "outputs": [
    {
     "name": "stdout",
     "output_type": "stream",
     "text": [
      "10\n",
      "20\n",
      "30\n"
     ]
    }
   ],
   "source": [
    "a = 10\n",
    "b = 20\n",
    "c = 30\n",
    "\n",
    "print(a,b,c , sep = '\\n')"
   ]
  },
  {
   "cell_type": "code",
   "execution_count": 83,
   "id": "060c68ba-5f48-4689-b935-7868c0c0677c",
   "metadata": {},
   "outputs": [
    {
     "name": "stdout",
     "output_type": "stream",
     "text": [
      "10--->20^^30"
     ]
    }
   ],
   "source": [
    "a = 10\n",
    "b = 20\n",
    "c = 30\n",
    "\n",
    "print(a , end= '--->')\n",
    "print(b , end = '^^')\n",
    "print(c , end = '')\n"
   ]
  },
  {
   "cell_type": "code",
   "execution_count": 97,
   "id": "28ff189f-3888-4bb6-8cfa-24cba75a7250",
   "metadata": {},
   "outputs": [
    {
     "name": "stdout",
     "output_type": "stream",
     "text": [
      "10+++20---30**50\n",
      "40\n",
      "10&&&20&&&50%%%"
     ]
    }
   ],
   "source": [
    "a = 10\n",
    "b = 20\n",
    "c = 30\n",
    "d = 40\n",
    "e = 50\n",
    "\n",
    "print(a,b , sep = '+++' , end='---')\n",
    "print(c,e , sep = '**')\n",
    "print(d , sep = '###')\n",
    "print(a,b,e , sep = '&&&', end = '%%%')"
   ]
  },
  {
   "cell_type": "markdown",
   "id": "114a4a0c-e2c1-4dc4-8061-a33619861ac8",
   "metadata": {},
   "source": [
    "# Range , Comments, Indentation, Data type INT"
   ]
  },
  {
   "cell_type": "code",
   "execution_count": null,
   "id": "30713b08-e491-47c9-8515-6f5cd9e1cb9b",
   "metadata": {},
   "outputs": [],
   "source": []
  }
 ],
 "metadata": {
  "kernelspec": {
   "display_name": "Python 3 (ipykernel)",
   "language": "python",
   "name": "python3"
  },
  "language_info": {
   "codemirror_mode": {
    "name": "ipython",
    "version": 3
   },
   "file_extension": ".py",
   "mimetype": "text/x-python",
   "name": "python",
   "nbconvert_exporter": "python",
   "pygments_lexer": "ipython3",
   "version": "3.9.13"
  }
 },
 "nbformat": 4,
 "nbformat_minor": 5
}
