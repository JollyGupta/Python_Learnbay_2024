{
 "cells": [
  {
   "cell_type": "markdown",
   "id": "f013e4c7",
   "metadata": {},
   "source": [
    "# Numpy --- Numerical python\n",
    "\n",
    "- A python package used for computing and processing single dim and multi dimesion array\n",
    "- It is written in C\n",
    "- An array can contain only homogeneous data\n",
    "\n",
    "- NumPy arrays are stored at one continuous place in memory unlike lists, so processes can access and manipulate them very efficiently. This behavior is called locality of reference in computer science. This is the main reason why NumPy is faster than lists. Also it is optimized to work with latest CPU architectures."
   ]
  },
  {
   "cell_type": "code",
   "execution_count": 17,
   "id": "72519829",
   "metadata": {},
   "outputs": [
    {
     "name": "stdout",
     "output_type": "stream",
     "text": [
      "Requirement already satisfied: numpy in c:\\users\\hp\\anaconda3\\lib\\site-packages (1.21.5)Note: you may need to restart the kernel to use updated packages.\n",
      "\n"
     ]
    }
   ],
   "source": [
    "pip install numpy"
   ]
  },
  {
   "cell_type": "code",
   "execution_count": 18,
   "id": "d3e7fec8",
   "metadata": {},
   "outputs": [
    {
     "name": "stdout",
     "output_type": "stream",
     "text": [
      "My numpy version is:  1.21.5\n"
     ]
    }
   ],
   "source": [
    "import numpy as np\n",
    " \n",
    "print(\"My numpy version is: \", np.__version__)"
   ]
  },
  {
   "cell_type": "code",
   "execution_count": 2,
   "id": "e0565de7-e142-46fd-99d4-c1889e18983c",
   "metadata": {},
   "outputs": [],
   "source": [
    "import time"
   ]
  },
  {
   "cell_type": "code",
   "execution_count": 3,
   "id": "53cd2d86-ba01-4c2f-b973-3f5c9843f7b4",
   "metadata": {},
   "outputs": [
    {
     "data": {
      "text/plain": [
       "4.396277189254761"
      ]
     },
     "execution_count": 3,
     "metadata": {},
     "output_type": "execute_result"
    }
   ],
   "source": [
    "lst_1 = range(10000000)\n",
    "lst_2 = range(10000000)\n",
    "\n",
    "initial = time.time()\n",
    "e_list = []\n",
    "\n",
    "for i,j in zip(lst_1 , lst_2):\n",
    "    e_list.append(i+j)\n",
    "\n",
    "time.time() - initial"
   ]
  },
  {
   "cell_type": "code",
   "execution_count": 4,
   "id": "006057f6-be65-4c6a-9bb6-06497178a089",
   "metadata": {},
   "outputs": [],
   "source": [
    "import numpy as np"
   ]
  },
  {
   "cell_type": "code",
   "execution_count": 16,
   "id": "c4c8b488-c219-43f3-bee1-87e08f7f6816",
   "metadata": {},
   "outputs": [
    {
     "data": {
      "text/plain": [
       "0.26184892654418945"
      ]
     },
     "execution_count": 16,
     "metadata": {},
     "output_type": "execute_result"
    }
   ],
   "source": [
    "arr_1 = np.arange(10000000)\n",
    "arr_2 = np.arange(10000000)\n",
    "\n",
    "initial = time.time()\n",
    "\n",
    "e_list = arr_1 + arr_2\n",
    "\n",
    "time.time() - initial"
   ]
  },
  {
   "cell_type": "code",
   "execution_count": 17,
   "id": "51d61dcb-bfcc-40d8-8a90-b720aa804694",
   "metadata": {},
   "outputs": [
    {
     "name": "stdout",
     "output_type": "stream",
     "text": [
      "Requirement already satisfied: numpy in c:\\users\\mohammed israr\\anaconda3\\lib\\site-packages (1.26.4)Note: you may need to restart the kernel to use updated packages.\n",
      "\n"
     ]
    }
   ],
   "source": [
    "pip install numpy"
   ]
  },
  {
   "cell_type": "code",
   "execution_count": 6,
   "id": "00ed9348-6d87-4035-941c-072b4f539039",
   "metadata": {},
   "outputs": [],
   "source": [
    "import numpy as np"
   ]
  },
  {
   "cell_type": "code",
   "execution_count": null,
   "id": "6f982176-43d5-4b5d-9835-d48f46adf3f8",
   "metadata": {},
   "outputs": [],
   "source": [
    "math --> matrix\n",
    "program --> arrays\n",
    "deeplearnin --> tensors"
   ]
  },
  {
   "cell_type": "markdown",
   "id": "7f5037ba-f11f-4fec-9307-77ff11f73713",
   "metadata": {},
   "source": [
    "# Creating an arrays"
   ]
  },
  {
   "cell_type": "markdown",
   "id": "f92ad1ec-4ab4-45e5-96a2-7a94a6e94bc3",
   "metadata": {},
   "source": [
    "# Array function"
   ]
  },
  {
   "cell_type": "code",
   "execution_count": 5,
   "id": "2c114b4d-101f-4e8f-b952-66c3aa97ef82",
   "metadata": {},
   "outputs": [
    {
     "name": "stdout",
     "output_type": "stream",
     "text": [
      "[ 2  3 54 56  6]\n"
     ]
    }
   ],
   "source": [
    "import numpy as np\n",
    "lst = [2,3,54,56,6]\n",
    "\n",
    "arr = np.array(lst)\n",
    "\n",
    "print(arr)"
   ]
  },
  {
   "cell_type": "code",
   "execution_count": 7,
   "id": "8b7f06fe-c08a-4310-a1b3-43777bdc4523",
   "metadata": {},
   "outputs": [
    {
     "name": "stdout",
     "output_type": "stream",
     "text": [
      "[[2 3 4]\n",
      " [5 6 7]]\n"
     ]
    }
   ],
   "source": [
    "lst = [[2,3,4] , [5,6,7]] # 2d beacuse 2 brackets\n",
    "\n",
    "arr = np.array(lst)\n",
    "\n",
    "print(arr)"
   ]
  },
  {
   "cell_type": "code",
   "execution_count": 8,
   "id": "12a4f1fc-bd9c-4d9f-acca-4b2504762b8e",
   "metadata": {},
   "outputs": [
    {
     "name": "stdout",
     "output_type": "stream",
     "text": [
      "[[1 2]\n",
      " [6 7]\n",
      " [6 7]\n",
      " [6 7]]\n"
     ]
    }
   ],
   "source": [
    "lst = [[1,2], [6,7],[6,7],[6,7]] # 2 d matrix, row , column\n",
    "\n",
    "arr = np.array(lst)\n",
    "\n",
    "print(arr)\n"
   ]
  },
  {
   "cell_type": "code",
   "execution_count": 9,
   "id": "e116038e-4a0e-440d-9040-e0b58e10583b",
   "metadata": {},
   "outputs": [
    {
     "name": "stdout",
     "output_type": "stream",
     "text": [
      "[[[ 1  2  3]\n",
      "  [ 4  5  6]]\n",
      "\n",
      " [[ 7  8  9]\n",
      "  [10 11 12]]]\n"
     ]
    }
   ],
   "source": [
    "lst = [[[1,2,3] , [4,5,6]] , [[7,8,9] , [10,11,12]]] # 3 d, depth, row, column\n",
    "\n",
    "arr = np.array(lst)\n",
    "\n",
    "print(arr)"
   ]
  },
  {
   "cell_type": "code",
   "execution_count": 13,
   "id": "445d98e1-a76f-4043-ade7-971e069ec1db",
   "metadata": {},
   "outputs": [
    {
     "name": "stdout",
     "output_type": "stream",
     "text": [
      "[[[ 1  2]\n",
      "  [ 3  4]\n",
      "  [ 5  6]]\n",
      "\n",
      " [[ 7  8]\n",
      "  [ 9 10]\n",
      "  [11 12]]\n",
      "\n",
      " [[ 7  8]\n",
      "  [ 9 10]\n",
      "  [11 12]]]\n"
     ]
    }
   ],
   "source": [
    "lst = [[[1,2],[3,4],[5,6]],[[7,8],[9,10],[11,12]] , [[7,8],[9,10],[11,12]]]\n",
    "\n",
    "arr = np.array(lst)\n",
    "\n",
    "print(arr)"
   ]
  },
  {
   "cell_type": "code",
   "execution_count": 2,
   "id": "73282dfb-add7-4fb5-be86-a6626fc8e157",
   "metadata": {},
   "outputs": [
    {
     "name": "stdout",
     "output_type": "stream",
     "text": [
      "[[2 3 4]\n",
      " [5 6 7]]\n",
      "2\n",
      "(2, 3)\n"
     ]
    }
   ],
   "source": [
    "import numpy as np\n",
    "lst = [[2,3,4] , [5,6,7]]\n",
    "\n",
    "arr = np.array(lst)\n",
    "\n",
    "print(arr)\n",
    "print(arr.ndim)\n",
    "print(arr.shape)"
   ]
  },
  {
   "cell_type": "code",
   "execution_count": 37,
   "id": "7a2f64b7-1957-4791-9b6b-977c5a881eef",
   "metadata": {},
   "outputs": [
    {
     "name": "stdout",
     "output_type": "stream",
     "text": [
      "6\n",
      "(2, 3)\n",
      "2\n"
     ]
    }
   ],
   "source": [
    "# A few import attributes \n",
    "\n",
    "# size --> total num of elements\n",
    "print(arr.size)\n",
    "\n",
    "# shape -->\n",
    "print(arr.shape)\n",
    "\n",
    "# ndim --> \n",
    "\n",
    "print(arr.ndim)"
   ]
  },
  {
   "cell_type": "code",
   "execution_count": 19,
   "id": "24b5d46a-e0b0-4c75-8aad-01cd752d449f",
   "metadata": {},
   "outputs": [
    {
     "name": "stdout",
     "output_type": "stream",
     "text": [
      "[[1 2]\n",
      " [6 7]\n",
      " [6 7]\n",
      " [6 7]]\n"
     ]
    }
   ],
   "source": [
    "lst = [[1,2], [6,7],[6,7],[6,7]]\n",
    "\n",
    "arr = np.array(lst)\n",
    "\n",
    "print(arr)\n"
   ]
  },
  {
   "cell_type": "code",
   "execution_count": 20,
   "id": "c9b48fdb-296b-4b95-ba75-b04fc8f3401c",
   "metadata": {},
   "outputs": [
    {
     "name": "stdout",
     "output_type": "stream",
     "text": [
      "8\n",
      "(4, 2)\n",
      "2\n"
     ]
    }
   ],
   "source": [
    "print(arr.size)\n",
    "\n",
    "# shape -->\n",
    "print(arr.shape)\n",
    "\n",
    "# ndim --> \n",
    "\n",
    "print(arr.ndim)"
   ]
  },
  {
   "cell_type": "code",
   "execution_count": 41,
   "id": "6f56a3d4-1c2c-47b7-bde1-0a557d90498c",
   "metadata": {},
   "outputs": [
    {
     "name": "stdout",
     "output_type": "stream",
     "text": [
      "[[[ 1  2  3]\n",
      "  [ 4  5  6]]\n",
      "\n",
      " [[ 7  8  9]\n",
      "  [10 11 12]]]\n"
     ]
    }
   ],
   "source": [
    "lst = [[[1,2,3] , [4,5,6]] , [[7,8,9] , [10,11,12]]]\n",
    "\n",
    "arr = np.array(lst)\n",
    "\n",
    "print(arr)"
   ]
  },
  {
   "cell_type": "code",
   "execution_count": 42,
   "id": "4ee9e5cf-c413-4185-b185-d2bf64a317d1",
   "metadata": {},
   "outputs": [
    {
     "name": "stdout",
     "output_type": "stream",
     "text": [
      "12\n",
      "(2, 2, 3)\n",
      "3\n"
     ]
    }
   ],
   "source": [
    "print(arr.size)\n",
    "\n",
    "# shape --> depth , rows , column\n",
    "print(arr.shape)\n",
    "\n",
    "# ndim --> \n",
    "\n",
    "print(arr.ndim)"
   ]
  },
  {
   "cell_type": "code",
   "execution_count": 43,
   "id": "db783921-57e5-4fcf-b732-d5948db8314b",
   "metadata": {},
   "outputs": [
    {
     "name": "stdout",
     "output_type": "stream",
     "text": [
      "[[[ 1  2]\n",
      "  [ 3  4]\n",
      "  [ 5  6]]\n",
      "\n",
      " [[ 7  8]\n",
      "  [ 9 10]\n",
      "  [11 12]]\n",
      "\n",
      " [[ 7  8]\n",
      "  [ 9 10]\n",
      "  [11 12]]]\n"
     ]
    }
   ],
   "source": [
    "lst = [[[1,2],[3,4],[5,6]],[[7,8],[9,10],[11,12]] , [[7,8],[9,10],[11,12]]]\n",
    "\n",
    "arr = np.array(lst)\n",
    "\n",
    "print(arr)"
   ]
  },
  {
   "cell_type": "code",
   "execution_count": 44,
   "id": "69a22261-0c6f-47a0-9cdf-43520aef344b",
   "metadata": {},
   "outputs": [
    {
     "name": "stdout",
     "output_type": "stream",
     "text": [
      "18\n",
      "(3, 3, 2)\n",
      "3\n"
     ]
    }
   ],
   "source": [
    "print(arr.size)\n",
    "\n",
    "# shape --> depth , rows , column\n",
    "print(arr.shape) # 3,3,2\n",
    "\n",
    "# ndim --> \n",
    "\n",
    "print(arr.ndim)"
   ]
  },
  {
   "cell_type": "markdown",
   "id": "acc01977-413a-4762-8a97-b65811522077",
   "metadata": {},
   "source": [
    "# Arrange"
   ]
  },
  {
   "cell_type": "code",
   "execution_count": 53,
   "id": "bd17acc7-2a4a-4cb1-8b18-450dbf036a47",
   "metadata": {},
   "outputs": [
    {
     "data": {
      "text/plain": [
       "[0, 1, 2, 3, 4, 5, 6, 7, 8, 9]"
      ]
     },
     "execution_count": 53,
     "metadata": {},
     "output_type": "execute_result"
    }
   ],
   "source": [
    "list(range(10))"
   ]
  },
  {
   "cell_type": "code",
   "execution_count": 54,
   "id": "8300c8c2-c2bf-4fe9-a399-6df1dab34864",
   "metadata": {},
   "outputs": [
    {
     "data": {
      "text/plain": [
       "array([0, 1, 2, 3, 4, 5, 6, 7, 8, 9])"
      ]
     },
     "execution_count": 54,
     "metadata": {},
     "output_type": "execute_result"
    }
   ],
   "source": [
    "np.arange(10)"
   ]
  },
  {
   "cell_type": "code",
   "execution_count": 55,
   "id": "db24e58f-7ae9-48d8-b7d8-f66299e58544",
   "metadata": {},
   "outputs": [
    {
     "data": {
      "text/plain": [
       "[2, 3, 4, 5, 6, 7, 8, 9]"
      ]
     },
     "execution_count": 55,
     "metadata": {},
     "output_type": "execute_result"
    }
   ],
   "source": [
    "list(range(2,10))"
   ]
  },
  {
   "cell_type": "code",
   "execution_count": 56,
   "id": "51154ce7-29ea-4acd-ace9-3d1e9459517f",
   "metadata": {},
   "outputs": [
    {
     "data": {
      "text/plain": [
       "[2, 4, 6, 8]"
      ]
     },
     "execution_count": 56,
     "metadata": {},
     "output_type": "execute_result"
    }
   ],
   "source": [
    "list(range(2,10 , 2))"
   ]
  },
  {
   "cell_type": "code",
   "execution_count": 22,
   "id": "e3540c76-0c9c-4ed9-9f17-0aa8e886fe4c",
   "metadata": {},
   "outputs": [
    {
     "data": {
      "text/plain": [
       "array([2, 4, 6, 8])"
      ]
     },
     "execution_count": 22,
     "metadata": {},
     "output_type": "execute_result"
    }
   ],
   "source": [
    "np.arange(2,10 , 2)"
   ]
  },
  {
   "cell_type": "code",
   "execution_count": 60,
   "id": "464e48a7-c001-4460-a7bb-359e83671acb",
   "metadata": {},
   "outputs": [
    {
     "ename": "TypeError",
     "evalue": "'float' object cannot be interpreted as an integer",
     "output_type": "error",
     "traceback": [
      "\u001b[1;31m---------------------------------------------------------------------------\u001b[0m",
      "\u001b[1;31mTypeError\u001b[0m                                 Traceback (most recent call last)",
      "Cell \u001b[1;32mIn[60], line 1\u001b[0m\n\u001b[1;32m----> 1\u001b[0m \u001b[38;5;28mlist\u001b[39m(\u001b[38;5;28mrange\u001b[39m(\u001b[38;5;241m5.5\u001b[39m,\u001b[38;5;241m11\u001b[39m ))\n",
      "\u001b[1;31mTypeError\u001b[0m: 'float' object cannot be interpreted as an integer"
     ]
    }
   ],
   "source": [
    "list(range(5.5,11 ))"
   ]
  },
  {
   "cell_type": "code",
   "execution_count": 61,
   "id": "51f8ff6b-ffee-4f60-a940-3e4993958a9b",
   "metadata": {},
   "outputs": [
    {
     "data": {
      "text/plain": [
       "array([5.5, 6.5, 7.5, 8.5, 9.5])"
      ]
     },
     "execution_count": 61,
     "metadata": {},
     "output_type": "execute_result"
    }
   ],
   "source": [
    "np.arange(5.5 , 10.5)"
   ]
  },
  {
   "cell_type": "code",
   "execution_count": 62,
   "id": "2d4e1629-0edf-4638-9060-440e1f4106cf",
   "metadata": {},
   "outputs": [
    {
     "data": {
      "text/plain": [
       "array([ 5.5,  6. ,  6.5,  7. ,  7.5,  8. ,  8.5,  9. ,  9.5, 10. ])"
      ]
     },
     "execution_count": 62,
     "metadata": {},
     "output_type": "execute_result"
    }
   ],
   "source": [
    "np.arange(5.5 , 10.5 , 0.5)"
   ]
  },
  {
   "cell_type": "code",
   "execution_count": 67,
   "id": "b889d470-aa2f-4ba8-8bcf-8c8228cf59c0",
   "metadata": {},
   "outputs": [
    {
     "data": {
      "text/plain": [
       "array(['2024-05-28', '2024-05-29', '2024-05-30', '2024-05-31',\n",
       "       '2024-06-01', '2024-06-02', '2024-06-03', '2024-06-04',\n",
       "       '2024-06-05', '2024-06-06', '2024-06-07', '2024-06-08',\n",
       "       '2024-06-09', '2024-06-10', '2024-06-11', '2024-06-12',\n",
       "       '2024-06-13', '2024-06-14', '2024-06-15', '2024-06-16',\n",
       "       '2024-06-17', '2024-06-18', '2024-06-19', '2024-06-20',\n",
       "       '2024-06-21', '2024-06-22', '2024-06-23', '2024-06-24',\n",
       "       '2024-06-25', '2024-06-26', '2024-06-27', '2024-06-28',\n",
       "       '2024-06-29'], dtype='datetime64[D]')"
      ]
     },
     "execution_count": 67,
     "metadata": {},
     "output_type": "execute_result"
    }
   ],
   "source": [
    "np.arange('2024-05-28' , '2024-06-30' , 1 , dtype = 'datetime64')"
   ]
  },
  {
   "cell_type": "code",
   "execution_count": 68,
   "id": "5eff881c-0fea-4dce-92c8-cdb326dba003",
   "metadata": {},
   "outputs": [
    {
     "data": {
      "text/plain": [
       "array([ 0,  1,  2,  3,  4,  5,  6,  7,  8,  9, 10, 11, 12, 13, 14, 15, 16,\n",
       "       17, 18, 19, 20, 21, 22, 23, 24, 25, 26, 27, 28, 29, 30, 31, 32, 33,\n",
       "       34, 35, 36, 37, 38, 39, 40, 41, 42, 43, 44, 45, 46, 47, 48, 49, 50,\n",
       "       51, 52, 53, 54, 55, 56, 57, 58, 59, 60, 61, 62, 63, 64, 65, 66, 67,\n",
       "       68, 69, 70, 71, 72, 73, 74, 75, 76, 77, 78, 79, 80, 81, 82, 83, 84,\n",
       "       85, 86, 87, 88, 89, 90, 91, 92, 93, 94, 95, 96, 97, 98, 99])"
      ]
     },
     "execution_count": 68,
     "metadata": {},
     "output_type": "execute_result"
    }
   ],
   "source": [
    "np.arange(100)"
   ]
  },
  {
   "cell_type": "markdown",
   "id": "95a0458c-d483-4aff-8813-bbbd8eabdf97",
   "metadata": {},
   "source": [
    "# Zero , zero like"
   ]
  },
  {
   "cell_type": "code",
   "execution_count": 69,
   "id": "9b491853-9303-45d7-a838-f145277f1250",
   "metadata": {},
   "outputs": [
    {
     "data": {
      "text/plain": [
       "array([[0., 0., 0., 0., 0.],\n",
       "       [0., 0., 0., 0., 0.]])"
      ]
     },
     "execution_count": 69,
     "metadata": {},
     "output_type": "execute_result"
    }
   ],
   "source": [
    "np.zeros((2,5)) # 2 rows, 5 columns"
   ]
  },
  {
   "cell_type": "code",
   "execution_count": 74,
   "id": "f4c906e1-8ea1-4150-94b5-339fd48d8ee2",
   "metadata": {},
   "outputs": [
    {
     "data": {
      "text/plain": [
       "array([[[0, 0, 0, 0, 0, 0, 0, 0],\n",
       "        [0, 0, 0, 0, 0, 0, 0, 0],\n",
       "        [0, 0, 0, 0, 0, 0, 0, 0],\n",
       "        [0, 0, 0, 0, 0, 0, 0, 0],\n",
       "        [0, 0, 0, 0, 0, 0, 0, 0]],\n",
       "\n",
       "       [[0, 0, 0, 0, 0, 0, 0, 0],\n",
       "        [0, 0, 0, 0, 0, 0, 0, 0],\n",
       "        [0, 0, 0, 0, 0, 0, 0, 0],\n",
       "        [0, 0, 0, 0, 0, 0, 0, 0],\n",
       "        [0, 0, 0, 0, 0, 0, 0, 0]],\n",
       "\n",
       "       [[0, 0, 0, 0, 0, 0, 0, 0],\n",
       "        [0, 0, 0, 0, 0, 0, 0, 0],\n",
       "        [0, 0, 0, 0, 0, 0, 0, 0],\n",
       "        [0, 0, 0, 0, 0, 0, 0, 0],\n",
       "        [0, 0, 0, 0, 0, 0, 0, 0]]])"
      ]
     },
     "execution_count": 74,
     "metadata": {},
     "output_type": "execute_result"
    }
   ],
   "source": [
    "np.zeros((3,5,8) , dtype = int)"
   ]
  },
  {
   "cell_type": "code",
   "execution_count": 28,
   "id": "fb4f1fbd-fdf2-40a5-8f23-feff24332311",
   "metadata": {},
   "outputs": [
    {
     "data": {
      "text/plain": [
       "array([[[0, 0, 0, 0, 0, 0, 0, 0],\n",
       "        [0, 0, 0, 0, 0, 0, 0, 0],\n",
       "        [0, 0, 0, 0, 0, 0, 0, 0],\n",
       "        [0, 0, 0, 0, 0, 0, 0, 0],\n",
       "        [0, 0, 0, 0, 0, 0, 0, 0]],\n",
       "\n",
       "       [[0, 0, 0, 0, 0, 0, 0, 0],\n",
       "        [0, 0, 0, 0, 0, 0, 0, 0],\n",
       "        [0, 0, 0, 0, 0, 0, 0, 0],\n",
       "        [0, 0, 0, 0, 0, 0, 0, 0],\n",
       "        [0, 0, 0, 0, 0, 0, 0, 0]],\n",
       "\n",
       "       [[0, 0, 0, 0, 0, 0, 0, 0],\n",
       "        [0, 0, 0, 0, 0, 0, 0, 0],\n",
       "        [0, 0, 0, 0, 0, 0, 0, 0],\n",
       "        [0, 0, 0, 0, 0, 0, 0, 0],\n",
       "        [0, 0, 0, 0, 0, 0, 0, 0]]])"
      ]
     },
     "execution_count": 28,
     "metadata": {},
     "output_type": "execute_result"
    }
   ],
   "source": [
    "np.zeros((3,5,8) , dtype = int)\n",
    "#in the zeros method we are creating a new array of our desired shape and data type \n",
    "#having all the values as 0. But, here, we are directly passing an array or an array-\n",
    "#like object to get an array of the same shape and data type.19\n"
   ]
  },
  {
   "cell_type": "code",
   "execution_count": 75,
   "id": "74b554b2-f95c-45f2-b301-94a01cef55cc",
   "metadata": {},
   "outputs": [
    {
     "name": "stdout",
     "output_type": "stream",
     "text": [
      "[[[ 1  2  3]\n",
      "  [ 4  5  6]]\n",
      "\n",
      " [[ 7  8  9]\n",
      "  [10 11 12]]]\n"
     ]
    }
   ],
   "source": [
    "lst = [[[1,2,3] , [4,5,6]] , [[7,8,9] , [10,11,12]]]\n",
    "\n",
    "arr = np.array(lst)\n",
    "\n",
    "print(arr)"
   ]
  },
  {
   "cell_type": "code",
   "execution_count": 29,
   "id": "ee0c31b7-0bcd-4b95-99b2-7867e6d68cc9",
   "metadata": {},
   "outputs": [
    {
     "name": "stdout",
     "output_type": "stream",
     "text": [
      "[[0 0]\n",
      " [0 0]\n",
      " [0 0]\n",
      " [0 0]]\n"
     ]
    }
   ],
   "source": [
    "print(np.zeros_like(arr))\n"
   ]
  },
  {
   "cell_type": "code",
   "execution_count": 77,
   "id": "e201867d-1b7f-4998-a71b-96d5fa71bf03",
   "metadata": {},
   "outputs": [],
   "source": [
    "a = np.array([1,2,3,4])\n",
    "b = np.array([5,6,7,8])"
   ]
  },
  {
   "cell_type": "code",
   "execution_count": 80,
   "id": "4c60dd5c-d543-4dd4-8eea-e2979586619d",
   "metadata": {},
   "outputs": [],
   "source": [
    "c = np.zeros_like(a)"
   ]
  },
  {
   "cell_type": "code",
   "execution_count": 81,
   "id": "ebd60504-2e34-400c-949e-829b6bc135af",
   "metadata": {},
   "outputs": [
    {
     "data": {
      "text/plain": [
       "array([0, 0, 0, 0])"
      ]
     },
     "execution_count": 81,
     "metadata": {},
     "output_type": "execute_result"
    }
   ],
   "source": [
    "c"
   ]
  },
  {
   "cell_type": "code",
   "execution_count": 82,
   "id": "6b2a8bcf-1321-4177-ab00-3f7ddf12287f",
   "metadata": {},
   "outputs": [
    {
     "data": {
      "text/plain": [
       "array([ 6,  8, 10, 12])"
      ]
     },
     "execution_count": 82,
     "metadata": {},
     "output_type": "execute_result"
    }
   ],
   "source": [
    "np.add(a,b,c)"
   ]
  },
  {
   "cell_type": "code",
   "execution_count": 83,
   "id": "9187850d-391d-4b95-93ba-ea88fc3f36df",
   "metadata": {},
   "outputs": [
    {
     "data": {
      "text/plain": [
       "array([ 6,  8, 10, 12])"
      ]
     },
     "execution_count": 83,
     "metadata": {},
     "output_type": "execute_result"
    }
   ],
   "source": [
    "c"
   ]
  },
  {
   "cell_type": "markdown",
   "id": "4400eae6-1c5c-4231-9e2a-9d56471708b3",
   "metadata": {},
   "source": [
    "# Ones , Ones like"
   ]
  },
  {
   "cell_type": "code",
   "execution_count": 85,
   "id": "6660529e-0757-41dd-9328-a1de063643e9",
   "metadata": {},
   "outputs": [
    {
     "data": {
      "text/plain": [
       "array([[1, 1, 1],\n",
       "       [1, 1, 1]])"
      ]
     },
     "execution_count": 85,
     "metadata": {},
     "output_type": "execute_result"
    }
   ],
   "source": [
    "np.ones((2,3) , dtype = int)"
   ]
  },
  {
   "cell_type": "code",
   "execution_count": 86,
   "id": "ee181ed7-c9e2-443a-8535-969a02933fb1",
   "metadata": {},
   "outputs": [
    {
     "data": {
      "text/plain": [
       "array([[[ 1,  2,  3],\n",
       "        [ 4,  5,  6]],\n",
       "\n",
       "       [[ 7,  8,  9],\n",
       "        [10, 11, 12]]])"
      ]
     },
     "execution_count": 86,
     "metadata": {},
     "output_type": "execute_result"
    }
   ],
   "source": [
    "arr"
   ]
  },
  {
   "cell_type": "code",
   "execution_count": 87,
   "id": "929ea847-4982-4536-8e0b-ff54cc7ca163",
   "metadata": {},
   "outputs": [
    {
     "data": {
      "text/plain": [
       "array([[[1, 1, 1],\n",
       "        [1, 1, 1]],\n",
       "\n",
       "       [[1, 1, 1],\n",
       "        [1, 1, 1]]])"
      ]
     },
     "execution_count": 87,
     "metadata": {},
     "output_type": "execute_result"
    }
   ],
   "source": [
    "np.ones_like(arr)"
   ]
  },
  {
   "cell_type": "markdown",
   "id": "63452581-2b32-435c-b245-c6220b15ca43",
   "metadata": {},
   "source": [
    "# Identity\n",
    "rows = columns\n",
    "\n",
    "dia = 1 and rest all 0"
   ]
  },
  {
   "cell_type": "code",
   "execution_count": 88,
   "id": "65049c74-97b1-4356-b1bc-697d313da472",
   "metadata": {},
   "outputs": [
    {
     "data": {
      "text/plain": [
       "array([[1., 0., 0., 0.],\n",
       "       [0., 1., 0., 0.],\n",
       "       [0., 0., 1., 0.],\n",
       "       [0., 0., 0., 1.]])"
      ]
     },
     "execution_count": 88,
     "metadata": {},
     "output_type": "execute_result"
    }
   ],
   "source": [
    "np.identity(4)"
   ]
  },
  {
   "cell_type": "markdown",
   "id": "12bfe23f-85c3-43ba-b75b-c0afc42b9e5d",
   "metadata": {},
   "source": [
    "# Random"
   ]
  },
  {
   "cell_type": "code",
   "execution_count": 93,
   "id": "d7b8dddb-aba3-46bf-a272-d089728d5364",
   "metadata": {},
   "outputs": [
    {
     "data": {
      "text/plain": [
       "array([[0.77883555, 0.69711092, 0.98713668, 0.1722151 , 0.11761203],\n",
       "       [0.3382612 , 0.28362089, 0.45436882, 0.145053  , 0.27414366]])"
      ]
     },
     "execution_count": 93,
     "metadata": {},
     "output_type": "execute_result"
    }
   ],
   "source": [
    "np.random.rand(2,5)"
   ]
  },
  {
   "cell_type": "code",
   "execution_count": 14,
   "id": "2fb63ed9-bfdb-4a24-91d5-946b3f6e97ba",
   "metadata": {},
   "outputs": [
    {
     "data": {
      "text/plain": [
       "array([[ 1.85425225, -0.80799614, -1.22036513, -1.00133351,  0.56374262],\n",
       "       [-1.92857608, -0.72382261, -1.11847395, -1.27873003, -1.24334417],\n",
       "       [-1.35035291, -0.35698753, -0.73668023, -2.02527646, -0.44601248],\n",
       "       [-0.8370312 ,  1.03503697, -1.98489507, -1.57530078,  0.21943079],\n",
       "       [ 1.19093386, -1.22805209, -1.75747549,  1.66066237, -1.00148601]])"
      ]
     },
     "execution_count": 14,
     "metadata": {},
     "output_type": "execute_result"
    }
   ],
   "source": [
    "np.random.randn(5,5)"
   ]
  },
  {
   "cell_type": "code",
   "execution_count": 13,
   "id": "48840337-87c1-4c4d-8781-4fdb1d626dce",
   "metadata": {},
   "outputs": [
    {
     "data": {
      "text/plain": [
       "5"
      ]
     },
     "execution_count": 13,
     "metadata": {},
     "output_type": "execute_result"
    }
   ],
   "source": [
    "np.random.randint(5,10)"
   ]
  },
  {
   "cell_type": "code",
   "execution_count": 8,
   "id": "6f0929fe-55ff-4c33-a6ae-76753549d377",
   "metadata": {},
   "outputs": [
    {
     "data": {
      "text/plain": [
       "5"
      ]
     },
     "execution_count": 8,
     "metadata": {},
     "output_type": "execute_result"
    }
   ],
   "source": [
    "np.random.randint(1,7)"
   ]
  },
  {
   "cell_type": "code",
   "execution_count": 126,
   "id": "ef275111-eae3-44e7-b1df-ec825c3abca6",
   "metadata": {},
   "outputs": [
    {
     "data": {
      "text/plain": [
       "array([[4, 1, 1, 5, 5],\n",
       "       [4, 2, 1, 5, 2],\n",
       "       [4, 2, 6, 3, 5]])"
      ]
     },
     "execution_count": 126,
     "metadata": {},
     "output_type": "execute_result"
    }
   ],
   "source": [
    "np.random.randint(1,7 , size = (3,5))"
   ]
  },
  {
   "cell_type": "code",
   "execution_count": 127,
   "id": "b8459b6f-ed93-4eb5-a53c-74179ebbb38a",
   "metadata": {},
   "outputs": [
    {
     "data": {
      "text/plain": [
       "487"
      ]
     },
     "execution_count": 127,
     "metadata": {},
     "output_type": "execute_result"
    }
   ],
   "source": [
    "np.random.randint(400 , 500)"
   ]
  },
  {
   "cell_type": "markdown",
   "id": "9a4ffe05-92a3-47f1-bf08-95c144dae995",
   "metadata": {},
   "source": [
    "# Remaining functions"
   ]
  },
  {
   "cell_type": "code",
   "execution_count": 138,
   "id": "4a95af75-83d9-4c63-9812-cbbed6d257d4",
   "metadata": {},
   "outputs": [
    {
     "name": "stdout",
     "output_type": "stream",
     "text": [
      "67\n",
      "18\n",
      "48\n",
      "25\n",
      "28\n",
      "22\n",
      "6\n",
      "2\n",
      "17\n",
      "66\n",
      "48\n",
      "59\n",
      "81\n",
      "50\n"
     ]
    }
   ],
   "source": [
    "while True:\n",
    "    a = np.random.randint(1 , 100)\n",
    "    print(a)\n",
    "    if a == 50:\n",
    "        break"
   ]
  },
  {
   "cell_type": "code",
   "execution_count": null,
   "id": "c3fb3f72-f79d-43d8-a063-e81126c6fb36",
   "metadata": {},
   "outputs": [],
   "source": [
    "lst = ['emp_132' , '254emp_' , 'emp87687_' , 'emp_87687']\n",
    "\n"
   ]
  }
 ],
 "metadata": {
  "kernelspec": {
   "display_name": "Python 3 (ipykernel)",
   "language": "python",
   "name": "python3"
  },
  "language_info": {
   "codemirror_mode": {
    "name": "ipython",
    "version": 3
   },
   "file_extension": ".py",
   "mimetype": "text/x-python",
   "name": "python",
   "nbconvert_exporter": "python",
   "pygments_lexer": "ipython3",
   "version": "3.9.13"
  }
 },
 "nbformat": 4,
 "nbformat_minor": 5
}
