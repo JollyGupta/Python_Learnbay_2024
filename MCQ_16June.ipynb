{
 "cells": [
  {
   "cell_type": "code",
   "execution_count": 2,
   "id": "71040278",
   "metadata": {},
   "outputs": [
    {
     "name": "stdout",
     "output_type": "stream",
     "text": [
      "[5 6 6 7 7 8]\n"
     ]
    }
   ],
   "source": [
    "import numpy as np\n",
    "\n",
    "# Define input vectors\n",
    "a = np.array([1, 2, 3])\n",
    "b = np.array([4, 5])\n",
    "\n",
    "# Use ix_ to create the grid\n",
    "grid = np.ix_(a, b)\n",
    "\n",
    "# Combine the vectors to get all n-uplets\n",
    "result = np.array([x + y for x in a for y in b])\n",
    "\n",
    "print(result)\n"
   ]
  },
  {
   "cell_type": "code",
   "execution_count": null,
   "id": "e5824c25",
   "metadata": {},
   "outputs": [],
   "source": [
    "a = np.array([1, 2, 3])\n",
    "b = np.array([4, 5])\n",
    "print(a+b)"
   ]
  },
  {
   "cell_type": "code",
   "execution_count": null,
   "id": "3ddbafb6",
   "metadata": {},
   "outputs": [],
   "source": [
    "import numpy as np\n",
    "# Set the buffer size to a specific value\n",
    "np.setbufsize(8192)  # The size is specified in bytes\n"
   ]
  },
  {
   "cell_type": "code",
   "execution_count": null,
   "id": "97f21898",
   "metadata": {},
   "outputs": [],
   "source": [
    "import numpy as np\n",
    "\n",
    "# Check if np.add is a ufunc\n",
    "is_ufunc = isinstance(np.add, np.ufunc)\n",
    "print(is_ufunc)  # This will print True\n",
    "\n",
    "# Check if np.sum is a ufunc\n",
    "is_ufunc = isinstance(np.sum, np.ufunc)\n",
    "print(is_ufunc)  # This will print False, because np.sum is not a ufunc\n"
   ]
  },
  {
   "cell_type": "code",
   "execution_count": 3,
   "id": "f46c33b7",
   "metadata": {},
   "outputs": [
    {
     "name": "stdout",
     "output_type": "stream",
     "text": [
      "['??->?', 'bb->b', 'BB->B', 'hh->h', 'HH->H', 'ii->i', 'II->I', 'll->l', 'LL->L', 'qq->q', 'QQ->Q', 'ee->e', 'ff->f', 'dd->d', 'gg->g', 'FF->F', 'DD->D', 'GG->G', 'Mm->M', 'mm->m', 'mM->M', 'OO->O']\n"
     ]
    }
   ],
   "source": [
    "import numpy as np\n",
    "\n",
    "# Get the type combinations for the np.add ufunc\n",
    "types = np.add.types\n",
    "print(types)\n"
   ]
  },
  {
   "cell_type": "code",
   "execution_count": null,
   "id": "063adeea",
   "metadata": {},
   "outputs": [],
   "source": [
    "np.seterr(all='ignore')"
   ]
  },
  {
   "cell_type": "code",
   "execution_count": null,
   "id": "f7f689ea",
   "metadata": {},
   "outputs": [],
   "source": [
    "np.seterr(divide='raise', over='raise', under='raise', invalid='raise')"
   ]
  },
  {
   "cell_type": "code",
   "execution_count": 4,
   "id": "4b40c189",
   "metadata": {},
   "outputs": [
    {
     "name": "stdout",
     "output_type": "stream",
     "text": [
      "Caught a division by zero error.\n"
     ]
    },
    {
     "name": "stderr",
     "output_type": "stream",
     "text": [
      "C:\\Users\\hp\\AppData\\Local\\Temp\\ipykernel_13772\\2550294659.py:13: RuntimeWarning: overflow encountered in exp\n",
      "  large_array = np.exp(np.array([1000.0]))\n"
     ]
    }
   ],
   "source": [
    "import numpy as np\n",
    "\n",
    "# Set division by zero to raise an error and overflow to warn\n",
    "np.seterr(divide='raise', over='warn')\n",
    "\n",
    "# This will raise an error\n",
    "try:\n",
    "    result = np.array([1.0]) / 0.0\n",
    "except FloatingPointError:\n",
    "    print(\"Caught a division by zero error.\")\n",
    "\n",
    "# This will warn but not raise an error\n",
    "large_array = np.exp(np.array([1000.0]))\n"
   ]
  },
  {
   "cell_type": "code",
   "execution_count": 5,
   "id": "4b1fec53",
   "metadata": {},
   "outputs": [
    {
     "name": "stdout",
     "output_type": "stream",
     "text": [
      "fmod: [-1  0 -1  1  0  1]\n",
      "mod: [1 0 1 1 0 1]\n"
     ]
    }
   ],
   "source": [
    "import numpy as np\n",
    "\n",
    "x1 = np.array([-3, -2, -1, 1, 2, 3])\n",
    "x2 = 2\n",
    "\n",
    "result_fmod = np.fmod(x1, x2)\n",
    "result_mod = np.mod(x1, x2)\n",
    "\n",
    "print(\"fmod:\", result_fmod)  # Output: [-1 -0 -1  1  0  1]\n",
    "print(\"mod:\", result_mod)    # Output: [ 1  0  1  1  0  1]\n"
   ]
  },
  {
   "cell_type": "code",
   "execution_count": null,
   "id": "335cc7ab",
   "metadata": {},
   "outputs": [],
   "source": [
    "import numpy as np\n",
    "\n",
    "# Example 1: Basic usage\n",
    "x1 = np.array([5.5, 7.8, -1.2])\n",
    "x2 = np.array([2.1, 2.5, 2.0])\n",
    "result = np.fmod(x1, x2)\n",
    "print(result)  # Output: [ 1.3  2.8 -1.2]\n",
    "\n",
    "# Example 2: Using scalars\n",
    "result = np.fmod(5.5, 2.1)\n",
    "print(result)  # Output: 1.3\n",
    "\n",
    "# Example 3: Broadcasting\n",
    "x1 = np.array([5.5, 7.8, -1.2])\n",
    "x2 = 2.1\n",
    "result = np.fmod(x1, x2)\n",
    "print(result)  # Output: [ 1.3  1.5 -1.2]\n",
    "\n",
    "# Example 4: Using the out parameter\n",
    "x1 = np.array([5.5, 7.8, -1.2])\n",
    "x2 = np.array([2.1, 2.5, 2.0])\n",
    "out = np.empty_like(x1)\n",
    "np.fmod(x1, x2, out=out)\n",
    "print(out)  # Output: [ 1.3  2.8 -1.2]\n"
   ]
  },
  {
   "cell_type": "code",
   "execution_count": null,
   "id": "09256faf",
   "metadata": {},
   "outputs": [],
   "source": [
    "import numpy as np\n",
    "print(np.iscomplex(3 + 4j))  # Output: True\n",
    "print(np.iscomplex(5))       # Output: False\n"
   ]
  },
  {
   "cell_type": "code",
   "execution_count": null,
   "id": "13b4c7cd",
   "metadata": {},
   "outputs": [],
   "source": [
    "import numpy as np \n",
    "\n",
    "a = np.array([10, 20, 30, 40])\n",
    "b = np.array([18, 15, 14])\n",
    "c = np.array([25, 24, 26, 28, 23])\n",
    "\n",
    "x, y, z = np.ix_(a, b, c)\n",
    "\n",
    "print(x)"
   ]
  },
  {
   "cell_type": "code",
   "execution_count": 6,
   "id": "743aa7af",
   "metadata": {},
   "outputs": [
    {
     "name": "stdout",
     "output_type": "stream",
     "text": [
      "4\n"
     ]
    }
   ],
   "source": [
    "import numpy as np\n",
    "\n",
    "a = np.array([(10,20,30)])\n",
    "print(a.itemsize)\n"
   ]
  },
  {
   "cell_type": "code",
   "execution_count": null,
   "id": "d8fd6e28",
   "metadata": {},
   "outputs": [],
   "source": [
    "arr = np.array([[1,2,3,4,5], [6,7,8,9,10]])\n",
    "print(arr[1, 2]) "
   ]
  },
  {
   "cell_type": "code",
   "execution_count": null,
   "id": "9cf9c239",
   "metadata": {},
   "outputs": [],
   "source": [
    "arr = np.array([1,2,3,4,5,6,7])\n",
    "arr[3:]"
   ]
  },
  {
   "cell_type": "code",
   "execution_count": null,
   "id": "c5e840a1",
   "metadata": {},
   "outputs": [],
   "source": [
    "a = np.array([1, 2, 3, 4])\n",
    "b = np.array([1, 3, 4, 5])\n",
    "print(a*b)\n"
   ]
  },
  {
   "cell_type": "code",
   "execution_count": 7,
   "id": "3b498d24",
   "metadata": {},
   "outputs": [
    {
     "name": "stdout",
     "output_type": "stream",
     "text": [
      "39\n"
     ]
    }
   ],
   "source": [
    "a = np.array([1, 2, 3, 4])\n",
    "b = np.array([1, 3, 4, 5])\n",
    "print(a.dot(b))\n"
   ]
  },
  {
   "cell_type": "code",
   "execution_count": 8,
   "id": "b674fbe5",
   "metadata": {},
   "outputs": [
    {
     "name": "stdout",
     "output_type": "stream",
     "text": [
      "<class 'list'>\n"
     ]
    }
   ],
   "source": [
    "df_lotuples = [(2002, 'Japan', 'Brazil', 161), (2006, 'Germany', 'Italy', 147), (2010, 'South Africa', 'Spain', 145),(2014, 'Brazil', 'Germany', 171)\n",
    "              ]\n",
    "print(type(df_lotuples))"
   ]
  },
  {
   "cell_type": "code",
   "execution_count": 9,
   "id": "44f8c619",
   "metadata": {},
   "outputs": [
    {
     "name": "stdout",
     "output_type": "stream",
     "text": [
      "   Year\n",
      "0  1990\n",
      "1  1994\n",
      "2  1998\n",
      "3  2002\n",
      "2002\n"
     ]
    }
   ],
   "source": [
    "import pandas as pd\n",
    "df_dict_series = {'Year': pd.Series([1990, 1994, 1998, 2002])}\n",
    "df_series = pd.DataFrame(df_dict_series)\n",
    "print(df_series)\n",
    "print(df_series['Year'].max())"
   ]
  },
  {
   "cell_type": "code",
   "execution_count": null,
   "id": "eb5aec7c",
   "metadata": {},
   "outputs": [],
   "source": [
    "import pandas as pd\n",
    "df_dict_series1 = {'Year':[1990, 1994, 1998, 2002]}\n",
    "df_series1 = pd.DataFrame(df_dict_series)\n",
    "print(df_series1)\n",
    "max(df_series1['Year'])"
   ]
  },
  {
   "cell_type": "code",
   "execution_count": null,
   "id": "93991514",
   "metadata": {},
   "outputs": [],
   "source": [
    "df_series1.max"
   ]
  },
  {
   "cell_type": "code",
   "execution_count": 10,
   "id": "49ae8b2e",
   "metadata": {},
   "outputs": [
    {
     "name": "stdout",
     "output_type": "stream",
     "text": [
      "Max Year (Series): 2002\n",
      "Max Year (List): 2002\n"
     ]
    }
   ],
   "source": [
    "import pandas as pd\n",
    "\n",
    "# Case 1: Using pandas Series\n",
    "df_dict_series = {'Year': pd.Series([1990, 1994, 1998, 2002])}\n",
    "max_year_series = df_dict_series['Year'].max()\n",
    "print(f\"Max Year (Series): {max_year_series}\")\n",
    "\n",
    "# Case 2: Using a Python list\n",
    "df_dict_list = {'Year': [1990, 1994, 1998, 2002]}\n",
    "max_year_list = max(df_dict_list['Year'])\n",
    "print(f\"Max Year (List): {max_year_list}\")\n"
   ]
  },
  {
   "cell_type": "code",
   "execution_count": null,
   "id": "288f1d15",
   "metadata": {},
   "outputs": [],
   "source": [
    "#https://www.youtube.com/watch?v=sZfm63OjWGE   series youtube"
   ]
  },
  {
   "cell_type": "code",
   "execution_count": 17,
   "id": "c19f823b",
   "metadata": {},
   "outputs": [
    {
     "name": "stdout",
     "output_type": "stream",
     "text": [
      "      A  B   C\n",
      "row1  1  5   9\n",
      "row2  2  6  10\n",
      "row3  3  7  11\n",
      "row4  4  8  12\n",
      "A     2\n",
      "B     6\n",
      "C    10\n",
      "Name: row2, dtype: int64\n",
      "      A  B\n",
      "row2  2  6\n",
      "row3  3  7\n",
      "row4  4  8\n",
      "A     2\n",
      "B     6\n",
      "C    10\n",
      "Name: row2, dtype: int64\n",
      "      A  B\n",
      "row2  2  6\n",
      "row3  3  7\n",
      "row4  4  8\n"
     ]
    }
   ],
   "source": [
    "import pandas as pd\n",
    "data = {\n",
    "    'A': [1, 2, 3, 4],\n",
    "    'B': [5, 6, 7, 8],\n",
    "    'C': [9, 10, 11, 12]\n",
    "}\n",
    "df = pd.DataFrame(data, index=['row1', 'row2', 'row3', 'row4'])\n",
    "\n",
    "print(df)\n",
    "print(df.loc['row2']) #Selecting a single row by label:\n",
    "print(df.loc['row2':'row4', 'A':'B'])#Selecting multiple rows and specific columns by label:\n",
    "\n",
    "print(df.iloc[1]) #Selecting a single row by integer position\n",
    "print(df.iloc[1:4, 0:2]) #Selecting multiple rows and specific columns by integer position:"
   ]
  },
  {
   "cell_type": "code",
   "execution_count": 18,
   "id": "4e9b0326",
   "metadata": {},
   "outputs": [
    {
     "name": "stdout",
     "output_type": "stream",
     "text": [
      "    name  age\n",
      "0  Sally   50\n",
      "1   Mary   40\n"
     ]
    }
   ],
   "source": [
    "data = {\n",
    "  \"name\": [\"Sally\", \"Mary\", \"John\"],\n",
    "  \"age\": [50, 40, 30]\n",
    "}\n",
    "\n",
    "df = pd.DataFrame(data)\n",
    "\n",
    "print(df.query('age > 35'))"
   ]
  },
  {
   "cell_type": "code",
   "execution_count": 20,
   "id": "20cbf23f",
   "metadata": {},
   "outputs": [
    {
     "ename": "SyntaxError",
     "evalue": "invalid syntax (1402523538.py, line 1)",
     "output_type": "error",
     "traceback": [
      "\u001b[1;36m  Cell \u001b[1;32mIn[20], line 1\u001b[1;36m\u001b[0m\n\u001b[1;33m    Import pandas as pd\u001b[0m\n\u001b[1;37m           ^\u001b[0m\n\u001b[1;31mSyntaxError\u001b[0m\u001b[1;31m:\u001b[0m invalid syntax\n"
     ]
    }
   ],
   "source": [
    "Import pandas as pd\n",
    "Import numpy as np  \n",
    "df = pd.DataFrame(np.array([[4,6,9],[5,1,3]]))\n",
    "print(df.shape)"
   ]
  },
  {
   "cell_type": "code",
   "execution_count": 21,
   "id": "a784d07b",
   "metadata": {},
   "outputs": [
    {
     "name": "stdout",
     "output_type": "stream",
     "text": [
      "(2, 3)\n"
     ]
    }
   ],
   "source": [
    "import pandas as pd\n",
    "import numpy as np\n",
    "df = pd.DataFrame(np.array([[4, 6, 9], [5, 1, 3]]))\n",
    "print(df.shape)"
   ]
  },
  {
   "cell_type": "code",
   "execution_count": null,
   "id": "3fb61ec6",
   "metadata": {},
   "outputs": [],
   "source": []
  }
 ],
 "metadata": {
  "kernelspec": {
   "display_name": "Python 3 (ipykernel)",
   "language": "python",
   "name": "python3"
  },
  "language_info": {
   "codemirror_mode": {
    "name": "ipython",
    "version": 3
   },
   "file_extension": ".py",
   "mimetype": "text/x-python",
   "name": "python",
   "nbconvert_exporter": "python",
   "pygments_lexer": "ipython3",
   "version": "3.9.13"
  }
 },
 "nbformat": 4,
 "nbformat_minor": 5
}
