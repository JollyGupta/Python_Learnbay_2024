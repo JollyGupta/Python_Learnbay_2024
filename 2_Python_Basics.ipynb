{
 "cells": [
  {
   "cell_type": "markdown",
   "id": "42dfc3eb-7a91-45dd-a9b2-a76fdd6254a6",
   "metadata": {},
   "source": [
    "# OS ?\n",
    "\n",
    "\n",
    "A operating system is a system software that manages your computer hardwares and software resources\n",
    "\n",
    "- window\n",
    "- mac\n",
    "- linux\n",
    "      "
   ]
  },
  {
   "cell_type": "markdown",
   "id": "b4a44dba-7c05-4bdb-a5df-2da3ca44ff27",
   "metadata": {},
   "source": [
    "# What is an programing language ?\n",
    "\n",
    "- A set of instruction to perform a specific task\n",
    "\n",
    "# Types of programing lang\n",
    "- HLL high level language\n",
    "- LLL Low level language"
   ]
  },
  {
   "cell_type": "code",
   "execution_count": null,
   "id": "4039da4b-1dc5-4442-8663-fba411eb6301",
   "metadata": {},
   "outputs": [],
   "source": [
    "High level lang\n",
    "\n",
    "- user friendly\n",
    "\n",
    "eg: Java , C , python"
   ]
  },
  {
   "cell_type": "code",
   "execution_count": null,
   "id": "4ff09da3-b05f-4d18-99b5-271f6ce15f3d",
   "metadata": {},
   "outputs": [],
   "source": [
    "# Low level lang\n",
    "\n",
    "- system\n",
    "\n",
    "eg:- Assembly language"
   ]
  },
  {
   "cell_type": "code",
   "execution_count": 2,
   "id": "0f83d235-fdb5-4616-9b85-b39eb266f406",
   "metadata": {},
   "outputs": [],
   "source": [
    "a = 10 # HLL"
   ]
  },
  {
   "cell_type": "code",
   "execution_count": null,
   "id": "88444d3d-0d9f-4fdf-b5c1-084e2be65e26",
   "metadata": {},
   "outputs": [],
   "source": [
    "1100001 111101 1010 # LLL"
   ]
  },
  {
   "cell_type": "code",
   "execution_count": null,
   "id": "13d512f4-3a55-4474-bb8d-5b354562b0fc",
   "metadata": {},
   "outputs": [],
   "source": [
    "a --> 97 ---> 1100001\n",
    "\n",
    "= --> 61 ----> 111101\n",
    "\n",
    "10 -----> 1010"
   ]
  },
  {
   "cell_type": "code",
   "execution_count": null,
   "id": "fac18799-004b-4ccd-9435-2a24176b562c",
   "metadata": {},
   "outputs": [],
   "source": [
    "2     97      1\n",
    "2     48      0\n",
    "2     24      0\n",
    "2     12      0\n",
    "2     6       0\n",
    "2     3       1\n",
    "      1"
   ]
  },
  {
   "cell_type": "code",
   "execution_count": 7,
   "id": "c201987b-0c02-49d8-af4a-0e64a0baeb6b",
   "metadata": {},
   "outputs": [
    {
     "data": {
      "text/plain": [
       "'0b1010'"
      ]
     },
     "execution_count": 7,
     "metadata": {},
     "output_type": "execute_result"
    }
   ],
   "source": [
    "bin(10)"
   ]
  },
  {
   "cell_type": "markdown",
   "id": "0fb940bf-64dc-426f-91b7-3f2bfcf31e2c",
   "metadata": {},
   "source": [
    "# High level lang\n",
    "\n",
    "\n",
    "- compiler\n",
    "  1. comparitively more fast\n",
    "  2. Hard to debug\n",
    " \n",
    "     eg: C , C++ , JAVA\n",
    "\n",
    "- interpretor\n",
    "  1. slower\n",
    "  2. Easy to debug\n",
    " \n",
    "     eg:- Python"
   ]
  },
  {
   "cell_type": "code",
   "execution_count": 1,
   "id": "7886afe5-9969-467a-a2aa-97a96e782d38",
   "metadata": {},
   "outputs": [
    {
     "name": "stdout",
     "output_type": "stream",
     "text": [
      "10\n",
      "20\n",
      "30\n"
     ]
    }
   ],
   "source": [
    "a = 10\n",
    "b = 20\n",
    "\n",
    "print(a)\n",
    "print(b)\n",
    "print(a+b)"
   ]
  },
  {
   "cell_type": "code",
   "execution_count": 2,
   "id": "5b348364-68bf-490a-a7c0-b173359c9dc7",
   "metadata": {},
   "outputs": [
    {
     "name": "stdout",
     "output_type": "stream",
     "text": [
      "10\n",
      "20\n",
      "30\n"
     ]
    }
   ],
   "source": [
    "a = 10\n",
    "b = 20\n",
    "\n",
    "print(a)\n",
    "print(b)\n",
    "print(a+b)"
   ]
  },
  {
   "cell_type": "code",
   "execution_count": 8,
   "id": "acaa1f34-8f5b-47a1-a12b-151756927b1c",
   "metadata": {},
   "outputs": [
    {
     "ename": "NameError",
     "evalue": "name 'c' is not defined",
     "output_type": "error",
     "traceback": [
      "\u001b[1;31m---------------------------------------------------------------------------\u001b[0m",
      "\u001b[1;31mNameError\u001b[0m                                 Traceback (most recent call last)",
      "Cell \u001b[1;32mIn[8], line 1\u001b[0m\n\u001b[1;32m----> 1\u001b[0m \u001b[38;5;28mprint\u001b[39m(c)\n",
      "\u001b[1;31mNameError\u001b[0m: name 'c' is not defined"
     ]
    }
   ],
   "source": [
    "print(c)"
   ]
  },
  {
   "cell_type": "code",
   "execution_count": 10,
   "id": "4eb0426c-12a7-41bb-852b-0a4e44d37ae9",
   "metadata": {},
   "outputs": [
    {
     "name": "stdout",
     "output_type": "stream",
     "text": [
      "10\n",
      "20\n",
      "30\n"
     ]
    },
    {
     "ename": "NameError",
     "evalue": "name 'c' is not defined",
     "output_type": "error",
     "traceback": [
      "\u001b[1;31m---------------------------------------------------------------------------\u001b[0m",
      "\u001b[1;31mNameError\u001b[0m                                 Traceback (most recent call last)",
      "Cell \u001b[1;32mIn[10], line 7\u001b[0m\n\u001b[0;32m      5\u001b[0m \u001b[38;5;28mprint\u001b[39m(b)\n\u001b[0;32m      6\u001b[0m \u001b[38;5;28mprint\u001b[39m(a\u001b[38;5;241m+\u001b[39mb)\n\u001b[1;32m----> 7\u001b[0m \u001b[38;5;28mprint\u001b[39m(c)\n\u001b[0;32m      8\u001b[0m \u001b[38;5;28mprint\u001b[39m(a\u001b[38;5;241m+\u001b[39mb)\n",
      "\u001b[1;31mNameError\u001b[0m: name 'c' is not defined"
     ]
    }
   ],
   "source": [
    "a = 10\n",
    "b = 20\n",
    "\n",
    "print(a)\n",
    "print(b)\n",
    "print(a+b)\n",
    "print(c)\n",
    "print(a+b)"
   ]
  },
  {
   "cell_type": "code",
   "execution_count": 3,
   "id": "f4f0a46a-0915-40fb-99ae-36836ca32c8b",
   "metadata": {},
   "outputs": [
    {
     "ename": "SyntaxError",
     "evalue": "invalid syntax (2762113925.py, line 8)",
     "output_type": "error",
     "traceback": [
      "\u001b[1;36m  Cell \u001b[1;32mIn[3], line 8\u001b[1;36m\u001b[0m\n\u001b[1;33m    print(a+b)\u001b[0m\n\u001b[1;37m    ^\u001b[0m\n\u001b[1;31mSyntaxError\u001b[0m\u001b[1;31m:\u001b[0m invalid syntax\n"
     ]
    }
   ],
   "source": [
    "a = 10\n",
    "b = 20\n",
    "\n",
    "print(a)\n",
    "print(b)\n",
    "print(a+b)\n",
    "print(c\n",
    "print(a+b)"
   ]
  },
  {
   "cell_type": "markdown",
   "id": "7c15fc91-cc92-4421-a2fe-1a66b82dbaea",
   "metadata": {},
   "source": [
    "# Why Python ?\n",
    "\n",
    "- easy syntax\n",
    "- open soure\n",
    "- platform independent\n",
    "- labraries and packpages\n",
    "- Dynamically typed language\n",
    "- large community"
   ]
  },
  {
   "cell_type": "code",
   "execution_count": null,
   "id": "4b244ebe-3488-4c33-9a8e-1f437dbb3ff8",
   "metadata": {},
   "outputs": [],
   "source": [
    "# Java\n",
    "\n",
    "public class hello_world\n",
    "{\n",
    "    public static void main(string args[])\n",
    "    {\n",
    "    System.out.println(\"hello world\")\n",
    "    }\n",
    "}\n",
    "\n",
    "\n",
    "# C\n",
    "\n",
    "# include<stdio.h>\n",
    "void int(int args , char **args) \n",
    "{\n",
    "    printf('hello world')\n",
    "}\n",
    "\n",
    "# Python\n",
    "print(\"hello world\")"
   ]
  },
  {
   "cell_type": "code",
   "execution_count": 11,
   "id": "a0c7c4df-9520-4ff0-a4a9-794816b0f3d0",
   "metadata": {},
   "outputs": [
    {
     "data": {
      "text/plain": [
       "3.0"
      ]
     },
     "execution_count": 11,
     "metadata": {},
     "output_type": "execute_result"
    }
   ],
   "source": [
    "(9)**(1/2)"
   ]
  },
  {
   "cell_type": "code",
   "execution_count": null,
   "id": "d8b8b7d4-03d8-40c2-8eba-3f6938de29ca",
   "metadata": {},
   "outputs": [],
   "source": [
    "50 --> lines"
   ]
  },
  {
   "cell_type": "code",
   "execution_count": 12,
   "id": "c9ce0810-e5ec-48d6-9b04-2c874a1e7a94",
   "metadata": {},
   "outputs": [],
   "source": [
    "import math"
   ]
  },
  {
   "cell_type": "code",
   "execution_count": 15,
   "id": "d20bd974-2888-490b-9fa9-cd14a8625f26",
   "metadata": {},
   "outputs": [
    {
     "data": {
      "text/plain": [
       "3.0"
      ]
     },
     "execution_count": 15,
     "metadata": {},
     "output_type": "execute_result"
    }
   ],
   "source": [
    "math.sqrt(9)"
   ]
  },
  {
   "cell_type": "code",
   "execution_count": null,
   "id": "f44b3062-7bea-4d18-8bd7-31434ba207ec",
   "metadata": {},
   "outputs": [],
   "source": [
    "Dynamically typed language"
   ]
  },
  {
   "cell_type": "code",
   "execution_count": 17,
   "id": "2d50446f-c44e-4ec7-a737-99713522a370",
   "metadata": {},
   "outputs": [
    {
     "name": "stdout",
     "output_type": "stream",
     "text": [
      "34.78 <class 'float'>\n"
     ]
    }
   ],
   "source": [
    "a = 34.78\n",
    "\n",
    "print(a , type(a))"
   ]
  },
  {
   "cell_type": "markdown",
   "id": "a645c071-c75b-418d-b6b5-e5055c3bf1a9",
   "metadata": {},
   "source": [
    "# Identifiers rules\n",
    "\n",
    "\n",
    "- Allowed char are a-z , A-Z , 0-9 , _\n",
    "- not allowed char are special char\n",
    "- cannot start with a number\n",
    "- you cannot use keywords\n",
    "- Python is an case sensitive lang\n",
    "- You should not use built in function"
   ]
  },
  {
   "cell_type": "code",
   "execution_count": 32,
   "id": "72ab6a19-e559-487f-b400-f56f6442e050",
   "metadata": {},
   "outputs": [],
   "source": [
    "hello_WORLD_123 = 100"
   ]
  },
  {
   "cell_type": "code",
   "execution_count": 28,
   "id": "aab49319-8609-4b31-bae9-38f7849b4853",
   "metadata": {},
   "outputs": [
    {
     "ename": "SyntaxError",
     "evalue": "invalid syntax (3795881697.py, line 1)",
     "output_type": "error",
     "traceback": [
      "\u001b[1;36m  Cell \u001b[1;32mIn[28], line 1\u001b[1;36m\u001b[0m\n\u001b[1;33m    hello WORLD = 100\u001b[0m\n\u001b[1;37m          ^\u001b[0m\n\u001b[1;31mSyntaxError\u001b[0m\u001b[1;31m:\u001b[0m invalid syntax\n"
     ]
    }
   ],
   "source": [
    "hello WORLD = 100"
   ]
  },
  {
   "cell_type": "code",
   "execution_count": 34,
   "id": "66072d93-76b8-4881-9155-3577697e77ab",
   "metadata": {},
   "outputs": [],
   "source": [
    "_123hello_WORLD = 100"
   ]
  },
  {
   "cell_type": "code",
   "execution_count": 35,
   "id": "144c59ca-9cca-4632-927b-30cdd8a5bb52",
   "metadata": {},
   "outputs": [
    {
     "ename": "SyntaxError",
     "evalue": "cannot assign to True (2676624481.py, line 1)",
     "output_type": "error",
     "traceback": [
      "\u001b[1;36m  Cell \u001b[1;32mIn[35], line 1\u001b[1;36m\u001b[0m\n\u001b[1;33m    True = 4534\u001b[0m\n\u001b[1;37m    ^\u001b[0m\n\u001b[1;31mSyntaxError\u001b[0m\u001b[1;31m:\u001b[0m cannot assign to True\n"
     ]
    }
   ],
   "source": [
    "True = 4534"
   ]
  },
  {
   "cell_type": "code",
   "execution_count": 36,
   "id": "0941e577-5f21-4421-b67d-d46ff4ec8ccb",
   "metadata": {},
   "outputs": [
    {
     "ename": "SyntaxError",
     "evalue": "invalid syntax (99353930.py, line 1)",
     "output_type": "error",
     "traceback": [
      "\u001b[1;36m  Cell \u001b[1;32mIn[36], line 1\u001b[1;36m\u001b[0m\n\u001b[1;33m    for = 100\u001b[0m\n\u001b[1;37m        ^\u001b[0m\n\u001b[1;31mSyntaxError\u001b[0m\u001b[1;31m:\u001b[0m invalid syntax\n"
     ]
    }
   ],
   "source": [
    "for = 100"
   ]
  },
  {
   "cell_type": "code",
   "execution_count": 37,
   "id": "83c016b7-da3c-425f-b7fd-b096fcf8c58e",
   "metadata": {},
   "outputs": [
    {
     "ename": "SyntaxError",
     "evalue": "cannot assign to False (1410733628.py, line 1)",
     "output_type": "error",
     "traceback": [
      "\u001b[1;36m  Cell \u001b[1;32mIn[37], line 1\u001b[1;36m\u001b[0m\n\u001b[1;33m    False = 100\u001b[0m\n\u001b[1;37m    ^\u001b[0m\n\u001b[1;31mSyntaxError\u001b[0m\u001b[1;31m:\u001b[0m cannot assign to False\n"
     ]
    }
   ],
   "source": [
    "False = 100"
   ]
  },
  {
   "cell_type": "code",
   "execution_count": 15,
   "id": "1c13f089-e8fc-49b5-93df-b2e2a262a57e",
   "metadata": {},
   "outputs": [
    {
     "name": "stdout",
     "output_type": "stream",
     "text": [
      "['__all__', '__builtins__', '__cached__', '__doc__', '__file__', '__loader__', '__name__', '__package__', '__spec__', 'iskeyword', 'issoftkeyword', 'kwlist', 'softkwlist']\n",
      "---------------------------------------------------------------------------------------\n",
      "['False', 'None', 'True', '__peg_parser__', 'and', 'as', 'assert', 'async', 'await', 'break', 'class', 'continue', 'def', 'del', 'elif', 'else', 'except', 'finally', 'for', 'from', 'global', 'if', 'import', 'in', 'is', 'lambda', 'nonlocal', 'not', 'or', 'pass', 'raise', 'return', 'try', 'while', 'with', 'yield']\n"
     ]
    }
   ],
   "source": [
    "import keyword\n",
    "\n",
    "print(dir(keyword))\n",
    "print('---------------------------------------------------------------------------------------')\n",
    "print(keyword.kwlist)\n",
    "\n",
    "\n"
   ]
  },
  {
   "cell_type": "code",
   "execution_count": 44,
   "id": "1d44d3c1-75a9-4eff-93c4-16582df69a30",
   "metadata": {},
   "outputs": [
    {
     "ename": "SyntaxError",
     "evalue": "invalid syntax (1429163820.py, line 1)",
     "output_type": "error",
     "traceback": [
      "\u001b[1;36m  Cell \u001b[1;32mIn[44], line 1\u001b[1;36m\u001b[0m\n\u001b[1;33m    raise = 23\u001b[0m\n\u001b[1;37m          ^\u001b[0m\n\u001b[1;31mSyntaxError\u001b[0m\u001b[1;31m:\u001b[0m invalid syntax\n"
     ]
    }
   ],
   "source": [
    "raise = 23"
   ]
  },
  {
   "cell_type": "code",
   "execution_count": 16,
   "id": "6c9e9a82",
   "metadata": {},
   "outputs": [
    {
     "name": "stdout",
     "output_type": "stream",
     "text": [
      "['__doc__', '__loader__', '__name__', '__package__', '__spec__', 'acos', 'acosh', 'asin', 'asinh', 'atan', 'atan2', 'atanh', 'ceil', 'comb', 'copysign', 'cos', 'cosh', 'degrees', 'dist', 'e', 'erf', 'erfc', 'exp', 'expm1', 'fabs', 'factorial', 'floor', 'fmod', 'frexp', 'fsum', 'gamma', 'gcd', 'hypot', 'inf', 'isclose', 'isfinite', 'isinf', 'isnan', 'isqrt', 'lcm', 'ldexp', 'lgamma', 'log', 'log10', 'log1p', 'log2', 'modf', 'nan', 'nextafter', 'perm', 'pi', 'pow', 'prod', 'radians', 'remainder', 'sin', 'sinh', 'sqrt', 'tan', 'tanh', 'tau', 'trunc', 'ulp']\n",
      "<built-in function tan>\n"
     ]
    }
   ],
   "source": [
    "# DOUBT if want to print all keywords of math \n",
    "\n",
    "import math\n",
    "\n",
    "print(dir(math))\n",
    "\n",
    "print(math.tan)\n",
    "\n"
   ]
  },
  {
   "cell_type": "code",
   "execution_count": 45,
   "id": "c0d9b913-8a0f-4cf4-adcb-7db9de84e1f0",
   "metadata": {},
   "outputs": [
    {
     "ename": "SyntaxError",
     "evalue": "cannot assign to True (1488504101.py, line 1)",
     "output_type": "error",
     "traceback": [
      "\u001b[1;36m  Cell \u001b[1;32mIn[45], line 1\u001b[1;36m\u001b[0m\n\u001b[1;33m    True = 100\u001b[0m\n\u001b[1;37m    ^\u001b[0m\n\u001b[1;31mSyntaxError\u001b[0m\u001b[1;31m:\u001b[0m cannot assign to True\n"
     ]
    }
   ],
   "source": [
    "True = 100"
   ]
  },
  {
   "cell_type": "code",
   "execution_count": 46,
   "id": "0e58890c-1816-454a-bab4-f833894327ff",
   "metadata": {},
   "outputs": [],
   "source": [
    "true = 100"
   ]
  },
  {
   "cell_type": "code",
   "execution_count": 17,
   "id": "53d1dded-69e0-4e6a-8017-e054ad7dca99",
   "metadata": {},
   "outputs": [
    {
     "name": "stdout",
     "output_type": "stream",
     "text": [
      "100\n"
     ]
    }
   ],
   "source": [
    "a = 100\n",
    "\n",
    "A = 200\n",
    "\n",
    "print(a)"
   ]
  },
  {
   "cell_type": "code",
   "execution_count": 25,
   "id": "11098cf0-126c-48d4-9fdc-2357988fc85a",
   "metadata": {},
   "outputs": [
    {
     "name": "stdout",
     "output_type": "stream",
     "text": [
      "100\n"
     ]
    }
   ],
   "source": [
    "# DOUBT why output?\n",
    "\n",
    "python = 100\n",
    "print(Python)"
   ]
  },
  {
   "cell_type": "code",
   "execution_count": 28,
   "id": "2d818190-f301-461b-ba9e-507430396304",
   "metadata": {},
   "outputs": [
    {
     "name": "stdout",
     "output_type": "stream",
     "text": [
      "['ArithmeticError', 'AssertionError', 'AttributeError', 'BaseException', 'BlockingIOError', 'BrokenPipeError', 'BufferError', 'BytesWarning', 'ChildProcessError', 'ConnectionAbortedError', 'ConnectionError', 'ConnectionRefusedError', 'ConnectionResetError', 'DeprecationWarning', 'EOFError', 'Ellipsis', 'EnvironmentError', 'Exception', 'False', 'FileExistsError', 'FileNotFoundError', 'FloatingPointError', 'FutureWarning', 'GeneratorExit', 'IOError', 'ImportError', 'ImportWarning', 'IndentationError', 'IndexError', 'InterruptedError', 'IsADirectoryError', 'KeyError', 'KeyboardInterrupt', 'LookupError', 'MemoryError', 'ModuleNotFoundError', 'NameError', 'None', 'NotADirectoryError', 'NotImplemented', 'NotImplementedError', 'OSError', 'OverflowError', 'PendingDeprecationWarning', 'PermissionError', 'ProcessLookupError', 'RecursionError', 'ReferenceError', 'ResourceWarning', 'RuntimeError', 'RuntimeWarning', 'StopAsyncIteration', 'StopIteration', 'SyntaxError', 'SyntaxWarning', 'SystemError', 'SystemExit', 'TabError', 'TimeoutError', 'True', 'TypeError', 'UnboundLocalError', 'UnicodeDecodeError', 'UnicodeEncodeError', 'UnicodeError', 'UnicodeTranslateError', 'UnicodeWarning', 'UserWarning', 'ValueError', 'Warning', 'WindowsError', 'ZeroDivisionError', '__IPYTHON__', '__build_class__', '__debug__', '__doc__', '__import__', '__loader__', '__name__', '__package__', '__spec__', 'abs', 'all', 'any', 'ascii', 'bin', 'bool', 'breakpoint', 'bytearray', 'bytes', 'callable', 'chr', 'classmethod', 'compile', 'complex', 'copyright', 'credits', 'delattr', 'dict', 'dir', 'display', 'divmod', 'enumerate', 'eval', 'exec', 'execfile', 'filter', 'float', 'format', 'frozenset', 'get_ipython', 'getattr', 'globals', 'hasattr', 'hash', 'help', 'hex', 'id', 'input', 'int', 'isinstance', 'issubclass', 'iter', 'len', 'license', 'list', 'locals', 'map', 'max', 'memoryview', 'min', 'next', 'object', 'oct', 'open', 'ord', 'pow', 'print', 'property', 'range', 'repr', 'reversed', 'round', 'runfile', 'set', 'setattr', 'slice', 'sorted', 'staticmethod', 'str', 'sum', 'super', 'tuple', 'type', 'vars', 'zip']\n",
      "-------------\n",
      "['__call__', '__class__', '__delattr__', '__dict__', '__dir__', '__doc__', '__eq__', '__format__', '__ge__', '__getattribute__', '__gt__', '__hash__', '__init__', '__init_subclass__', '__le__', '__lt__', '__module__', '__ne__', '__new__', '__reduce__', '__reduce_ex__', '__repr__', '__setattr__', '__sizeof__', '__str__', '__subclasshook__', '__weakref__']\n"
     ]
    }
   ],
   "source": [
    "print(dir(__builtins__))\n",
    "print('-------------')\n",
    "\n",
    "# DOUBT what is this??\n",
    "\n",
    "print(dir(help))"
   ]
  },
  {
   "cell_type": "code",
   "execution_count": 29,
   "id": "b239eecf-8d83-4981-8cc4-e2b887ed9152",
   "metadata": {},
   "outputs": [
    {
     "name": "stdout",
     "output_type": "stream",
     "text": [
      "30\n"
     ]
    }
   ],
   "source": [
    "a = 10\n",
    "b = 20\n",
    "\n",
    "print(a+b)"
   ]
  },
  {
   "cell_type": "code",
   "execution_count": 52,
   "id": "5a053aad-56d8-4f0e-851b-bb9e1b8e23ac",
   "metadata": {},
   "outputs": [],
   "source": [
    "print = 100"
   ]
  },
  {
   "cell_type": "code",
   "execution_count": 53,
   "id": "3366a06b-bc5c-4968-b5cc-716f23a34899",
   "metadata": {},
   "outputs": [
    {
     "ename": "TypeError",
     "evalue": "'int' object is not callable",
     "output_type": "error",
     "traceback": [
      "\u001b[1;31m---------------------------------------------------------------------------\u001b[0m",
      "\u001b[1;31mTypeError\u001b[0m                                 Traceback (most recent call last)",
      "Cell \u001b[1;32mIn[53], line 4\u001b[0m\n\u001b[0;32m      1\u001b[0m a \u001b[38;5;241m=\u001b[39m \u001b[38;5;241m10\u001b[39m\n\u001b[0;32m      2\u001b[0m b \u001b[38;5;241m=\u001b[39m \u001b[38;5;241m20\u001b[39m\n\u001b[1;32m----> 4\u001b[0m \u001b[38;5;28mprint\u001b[39m(a\u001b[38;5;241m+\u001b[39mb)\n",
      "\u001b[1;31mTypeError\u001b[0m: 'int' object is not callable"
     ]
    }
   ],
   "source": [
    "a = 10\n",
    "b = 20\n",
    "\n",
    "print(a+b)"
   ]
  },
  {
   "cell_type": "code",
   "execution_count": 54,
   "id": "e2cec5d2-5850-4e13-8a17-55439e49b608",
   "metadata": {},
   "outputs": [
    {
     "data": {
      "text/plain": [
       "100"
      ]
     },
     "execution_count": 54,
     "metadata": {},
     "output_type": "execute_result"
    }
   ],
   "source": [
    "print"
   ]
  },
  {
   "cell_type": "code",
   "execution_count": 55,
   "id": "8ce06ed1-a12d-4c86-8b01-8e7be9feb21d",
   "metadata": {},
   "outputs": [
    {
     "data": {
      "text/plain": [
       "15"
      ]
     },
     "execution_count": 55,
     "metadata": {},
     "output_type": "execute_result"
    }
   ],
   "source": [
    "a = [1,2,3,4,5]\n",
    "\n",
    "sum = sum(a)\n",
    "\n",
    "sum"
   ]
  },
  {
   "cell_type": "code",
   "execution_count": 56,
   "id": "67b98175-f875-40e9-94c6-0d17c1ec1484",
   "metadata": {},
   "outputs": [
    {
     "data": {
      "text/plain": [
       "15"
      ]
     },
     "execution_count": 56,
     "metadata": {},
     "output_type": "execute_result"
    }
   ],
   "source": [
    "sum"
   ]
  },
  {
   "cell_type": "code",
   "execution_count": 57,
   "id": "b0186243-82e3-494e-b9bc-e41bc86491e6",
   "metadata": {},
   "outputs": [
    {
     "ename": "TypeError",
     "evalue": "'int' object is not callable",
     "output_type": "error",
     "traceback": [
      "\u001b[1;31m---------------------------------------------------------------------------\u001b[0m",
      "\u001b[1;31mTypeError\u001b[0m                                 Traceback (most recent call last)",
      "Cell \u001b[1;32mIn[57], line 3\u001b[0m\n\u001b[0;32m      1\u001b[0m a \u001b[38;5;241m=\u001b[39m [\u001b[38;5;241m1\u001b[39m,\u001b[38;5;241m2\u001b[39m,\u001b[38;5;241m3\u001b[39m,\u001b[38;5;241m4\u001b[39m,\u001b[38;5;241m5\u001b[39m]\n\u001b[1;32m----> 3\u001b[0m \u001b[38;5;28msum\u001b[39m \u001b[38;5;241m=\u001b[39m \u001b[38;5;28msum\u001b[39m(a)\n\u001b[0;32m      5\u001b[0m \u001b[38;5;28msum\u001b[39m\n",
      "\u001b[1;31mTypeError\u001b[0m: 'int' object is not callable"
     ]
    }
   ],
   "source": [
    "a = [1,2,3,4,5]\n",
    "\n",
    "sum = sum(a)\n",
    "\n",
    "sum"
   ]
  },
  {
   "cell_type": "code",
   "execution_count": 3,
   "id": "b5da1425-e85c-41a9-b08d-63ffca104efa",
   "metadata": {},
   "outputs": [
    {
     "name": "stdout",
     "output_type": "stream",
     "text": [
      "['ArithmeticError', 'AssertionError', 'AttributeError', 'BaseException', 'BaseExceptionGroup', 'BlockingIOError', 'BrokenPipeError', 'BufferError', 'BytesWarning', 'ChildProcessError', 'ConnectionAbortedError', 'ConnectionError', 'ConnectionRefusedError', 'ConnectionResetError', 'DeprecationWarning', 'EOFError', 'Ellipsis', 'EncodingWarning', 'EnvironmentError', 'Exception', 'ExceptionGroup', 'False', 'FileExistsError', 'FileNotFoundError', 'FloatingPointError', 'FutureWarning', 'GeneratorExit', 'IOError', 'ImportError', 'ImportWarning', 'IndentationError', 'IndexError', 'InterruptedError', 'IsADirectoryError', 'KeyError', 'KeyboardInterrupt', 'LookupError', 'MemoryError', 'ModuleNotFoundError', 'NameError', 'None', 'NotADirectoryError', 'NotImplemented', 'NotImplementedError', 'OSError', 'OverflowError', 'PendingDeprecationWarning', 'PermissionError', 'ProcessLookupError', 'RecursionError', 'ReferenceError', 'ResourceWarning', 'RuntimeError', 'RuntimeWarning', 'StopAsyncIteration', 'StopIteration', 'SyntaxError', 'SyntaxWarning', 'SystemError', 'SystemExit', 'TabError', 'TimeoutError', 'True', 'TypeError', 'UnboundLocalError', 'UnicodeDecodeError', 'UnicodeEncodeError', 'UnicodeError', 'UnicodeTranslateError', 'UnicodeWarning', 'UserWarning', 'ValueError', 'Warning', 'WindowsError', 'ZeroDivisionError', '__IPYTHON__', '__build_class__', '__debug__', '__doc__', '__import__', '__loader__', '__name__', '__package__', '__spec__', 'abs', 'aiter', 'all', 'anext', 'any', 'ascii', 'bin', 'bool', 'breakpoint', 'bytearray', 'bytes', 'callable', 'chr', 'classmethod', 'compile', 'complex', 'copyright', 'credits', 'delattr', 'dict', 'dir', 'display', 'divmod', 'enumerate', 'eval', 'exec', 'execfile', 'filter', 'float', 'format', 'frozenset', 'get_ipython', 'getattr', 'globals', 'hasattr', 'hash', 'help', 'hex', 'id', 'input', 'int', 'isinstance', 'issubclass', 'iter', 'len', 'license', 'list', 'locals', 'map', 'max', 'memoryview', 'min', 'next', 'object', 'oct', 'open', 'ord', 'pow', 'print', 'property', 'range', 'repr', 'reversed', 'round', 'runfile', 'set', 'setattr', 'slice', 'sorted', 'staticmethod', 'str', 'sum', 'super', 'tuple', 'type', 'vars', 'zip']\n"
     ]
    }
   ],
   "source": [
    "print(dir(__builtins__))"
   ]
  },
  {
   "cell_type": "code",
   "execution_count": null,
   "id": "fab1b07a-2505-4444-b7ee-3853f56a1a9b",
   "metadata": {},
   "outputs": [],
   "source": [
    "abc  # \n",
    "1bc # \n",
    "abc1_ # \n",
    "abc__@ # \n",
    "sum #\n",
    "if # \n",
    "If # \n",
    "False # \n",
    "type = #\n",
    "false # \n",
    "@info # \n",
    "abc@123 # \n",
    "print #\n"
   ]
  },
  {
   "cell_type": "code",
   "execution_count": null,
   "id": "70c5e03e-d9f6-4859-b1c5-d73adb4a4ec0",
   "metadata": {},
   "outputs": [],
   "source": [
    "abc  # Identifiers\n",
    "1abc # Number in beginning not allowed\n",
    "abc1_ # Identifier\n",
    "abc__@ # Syntax error, special characters are not allowed\n",
    "sum # Can be used but should avoid as it's a function\n",
    "if # reserved word\n",
    "If # can be used as identifier\n",
    "False #  reserved word\n",
    "type #  Can be used but should avoid as it's a function\n",
    "false # can be used\n",
    "@info # special character not allowed so no identifier\n",
    "abc@123 # special character not allowed\n",
    "print # can be used but should avoid\n"
   ]
  },
  {
   "cell_type": "code",
   "execution_count": 31,
   "id": "f49e097c-b5de-454d-a111-4d9ab14e9ba2",
   "metadata": {},
   "outputs": [
    {
     "name": "stdout",
     "output_type": "stream",
     "text": [
      "100\n",
      "100\n"
     ]
    }
   ],
   "source": [
    "type =100\n",
    "print(type)\n",
    "\n",
    "sum =100\n",
    "print(sum)\n"
   ]
  },
  {
   "cell_type": "code",
   "execution_count": null,
   "id": "ac287e0e",
   "metadata": {},
   "outputs": [],
   "source": []
  }
 ],
 "metadata": {
  "kernelspec": {
   "display_name": "Python 3 (ipykernel)",
   "language": "python",
   "name": "python3"
  },
  "language_info": {
   "codemirror_mode": {
    "name": "ipython",
    "version": 3
   },
   "file_extension": ".py",
   "mimetype": "text/x-python",
   "name": "python",
   "nbconvert_exporter": "python",
   "pygments_lexer": "ipython3",
   "version": "3.9.13"
  }
 },
 "nbformat": 4,
 "nbformat_minor": 5
}
