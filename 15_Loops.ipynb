{
 "cells": [
  {
   "cell_type": "markdown",
   "id": "644c3965-f6e1-4e0a-8fc9-c6f0eeaa8a05",
   "metadata": {},
   "source": [
    "# For loop - Fixed no of iteration\n",
    "\n",
    "for var in iterable:\n",
    "    stat\n",
    "    stat2"
   ]
  },
  {
   "cell_type": "code",
   "execution_count": null,
   "id": "6058f4c1-56dc-418f-ae94-f119aee58b46",
   "metadata": {},
   "outputs": [],
   "source": [
    "- len function should work\n",
    "\n",
    "- print(dir(object)) ---> __iter__"
   ]
  },
  {
   "cell_type": "code",
   "execution_count": 4,
   "id": "c054e4b3-87cc-4726-a820-2c25802a33ee",
   "metadata": {},
   "outputs": [
    {
     "name": "stdout",
     "output_type": "stream",
     "text": [
      "6\n",
      "7\n"
     ]
    }
   ],
   "source": [
    "for i in '67': # i without range it will print values\n",
    "    print(i)\n",
    "    \n",
    "  "
   ]
  },
  {
   "cell_type": "code",
   "execution_count": 3,
   "id": "341e66ad",
   "metadata": {},
   "outputs": [
    {
     "name": "stdout",
     "output_type": "stream",
     "text": [
      "0\n",
      "6\n",
      "1\n",
      "7\n"
     ]
    }
   ],
   "source": [
    "a= '67'\n",
    "for i in range(len(a)):  # i with range it will print index value\n",
    "    print(i)\n",
    "    print(a[i]) "
   ]
  },
  {
   "cell_type": "code",
   "execution_count": 2,
   "id": "defa47e2-5172-4ae1-9ac1-ecf1f7b78713",
   "metadata": {},
   "outputs": [
    {
     "name": "stdout",
     "output_type": "stream",
     "text": [
      "['__class__', '__class_getitem__', '__contains__', '__delattr__', '__delitem__', '__dir__', '__doc__', '__eq__', '__format__', '__ge__', '__getattribute__', '__getitem__', '__getstate__', '__gt__', '__hash__', '__init__', '__init_subclass__', '__ior__', '__iter__', '__le__', '__len__', '__lt__', '__ne__', '__new__', '__or__', '__reduce__', '__reduce_ex__', '__repr__', '__reversed__', '__ror__', '__setattr__', '__setitem__', '__sizeof__', '__str__', '__subclasshook__', 'clear', 'copy', 'fromkeys', 'get', 'items', 'keys', 'pop', 'popitem', 'setdefault', 'update', 'values']\n"
     ]
    }
   ],
   "source": [
    "print(dir(dict))"
   ]
  },
  {
   "cell_type": "code",
   "execution_count": 3,
   "id": "056dd3f3-5825-4703-b495-ef4bc8bbe43f",
   "metadata": {},
   "outputs": [
    {
     "ename": "TypeError",
     "evalue": "object of type 'int' has no len()",
     "output_type": "error",
     "traceback": [
      "\u001b[1;31m---------------------------------------------------------------------------\u001b[0m",
      "\u001b[1;31mTypeError\u001b[0m                                 Traceback (most recent call last)",
      "Cell \u001b[1;32mIn[3], line 1\u001b[0m\n\u001b[1;32m----> 1\u001b[0m \u001b[38;5;28mlen\u001b[39m(\u001b[38;5;241m8766\u001b[39m)\n",
      "\u001b[1;31mTypeError\u001b[0m: object of type 'int' has no len()"
     ]
    }
   ],
   "source": [
    "len(8766)"
   ]
  },
  {
   "cell_type": "code",
   "execution_count": 4,
   "id": "a26c3ad0-2f21-4b41-b598-562b666dd346",
   "metadata": {},
   "outputs": [
    {
     "name": "stdout",
     "output_type": "stream",
     "text": [
      "0\n",
      "1\n",
      "2\n",
      "3\n",
      "4\n",
      "5\n",
      "6\n",
      "7\n",
      "8\n",
      "9\n",
      "10\n",
      "11\n",
      "12\n",
      "13\n",
      "14\n",
      "15\n",
      "16\n",
      "17\n",
      "18\n",
      "19\n",
      "20\n",
      "21\n",
      "22\n",
      "23\n",
      "24\n",
      "25\n",
      "26\n",
      "27\n",
      "28\n",
      "29\n",
      "30\n",
      "31\n",
      "32\n",
      "33\n",
      "34\n",
      "35\n",
      "36\n",
      "37\n",
      "38\n",
      "39\n",
      "40\n",
      "41\n",
      "42\n",
      "43\n",
      "44\n",
      "45\n",
      "46\n",
      "47\n",
      "48\n",
      "49\n",
      "50\n",
      "51\n",
      "52\n",
      "53\n",
      "54\n",
      "55\n",
      "56\n",
      "57\n",
      "58\n",
      "59\n",
      "60\n",
      "61\n",
      "62\n",
      "63\n",
      "64\n",
      "65\n",
      "66\n",
      "67\n",
      "68\n",
      "69\n",
      "70\n",
      "71\n",
      "72\n",
      "73\n",
      "74\n",
      "75\n",
      "76\n",
      "77\n",
      "78\n",
      "79\n",
      "80\n",
      "81\n",
      "82\n",
      "83\n",
      "84\n",
      "85\n",
      "86\n",
      "87\n",
      "88\n",
      "89\n",
      "90\n",
      "91\n",
      "92\n",
      "93\n",
      "94\n",
      "95\n",
      "96\n",
      "97\n",
      "98\n",
      "99\n"
     ]
    }
   ],
   "source": [
    "for i in range(100):\n",
    "    print(i)"
   ]
  },
  {
   "cell_type": "markdown",
   "id": "8a2987e3-c34d-4982-b2dd-50409a1e3a8b",
   "metadata": {},
   "source": [
    "# While loop --> Unknown iteration\n",
    "\n",
    "syntax\n",
    "\n",
    "1. initilization\n",
    "2. condition checking\n",
    "3. inc / dec"
   ]
  },
  {
   "cell_type": "code",
   "execution_count": 7,
   "id": "654b53d6-4995-4581-9c4a-7d7879a84796",
   "metadata": {},
   "outputs": [
    {
     "name": "stdout",
     "output_type": "stream",
     "text": [
      "Hello world\n",
      "Hello world\n",
      "Hello world\n",
      "Hello world\n",
      "Hello world\n"
     ]
    }
   ],
   "source": [
    "i = 0 # initilization\n",
    "\n",
    "while i < 5: # condition checking\n",
    "    print('Hello world')\n",
    "    i += 1 # inc"
   ]
  },
  {
   "cell_type": "code",
   "execution_count": 9,
   "id": "63674036-b1f5-4fca-af9f-261537bcab9b",
   "metadata": {},
   "outputs": [
    {
     "name": "stdout",
     "output_type": "stream",
     "text": [
      "Hello world\n",
      "Hello world\n",
      "Hello world\n",
      "Hello world\n",
      "Hello world\n"
     ]
    }
   ],
   "source": [
    "i = 5\n",
    "\n",
    "while i > 0: # condition checking\n",
    "    print('Hello world')\n",
    "    i -= 1 # dec"
   ]
  },
  {
   "cell_type": "code",
   "execution_count": 14,
   "id": "4b8edea7-87b9-429f-9bce-61b8851ce50c",
   "metadata": {},
   "outputs": [
    {
     "name": "stdout",
     "output_type": "stream",
     "text": [
      "p\n",
      "yy\n",
      "ttt\n",
      "hhhh\n",
      "ooooo\n",
      "nnnnnn\n"
     ]
    }
   ],
   "source": [
    "a = 'python'\n",
    "\n",
    "# p\n",
    "# yy\n",
    "# ttt\n",
    "# hhhh\n",
    "# ooooo\n",
    "# nnnnnn\n",
    "\n",
    "# For loop\n",
    "for i in range(len(a)): # with range i will print index value\n",
    "    print(a[i] * (i+1)) # a[0]=p p*1 "
   ]
  },
  {
   "cell_type": "code",
   "execution_count": 18,
   "id": "762940fd-f9d7-45d1-a522-b39840cd1397",
   "metadata": {},
   "outputs": [
    {
     "name": "stdout",
     "output_type": "stream",
     "text": [
      "p\n",
      "yy\n",
      "ttt\n",
      "hhhh\n",
      "ooooo\n",
      "nnnnnn\n"
     ]
    }
   ],
   "source": [
    "a = 'python'\n",
    "\n",
    "i = 0\n",
    "\n",
    "while i < len(a):\n",
    "    print(a[i] * (i+1))\n",
    "    i += 1"
   ]
  },
  {
   "cell_type": "code",
   "execution_count": 27,
   "id": "72f397a7-3d8c-43b0-8fcc-ffdd6601e1ad",
   "metadata": {},
   "outputs": [
    {
     "name": "stdout",
     "output_type": "stream",
     "text": [
      "nnnnnn\n",
      "ooooo\n",
      "hhhh\n",
      "ttt\n",
      "yy\n",
      "p\n"
     ]
    }
   ],
   "source": [
    "a = 'python'\n",
    "\n",
    "# nnnnnn\n",
    "# ooooo\n",
    "# hhhh\n",
    "# ttt\n",
    "# yy\n",
    "# p\n",
    "\n",
    "# print(a[5] * 6)\n",
    "# print(a[4] * 5)\n",
    "# print(a[3] * 4)\n",
    "# print(a[2] * 3)\n",
    "# print(a[1] * 2)\n",
    "# print(a[0] * 1)\n",
    "\n",
    "i = len(a) \n",
    "\n",
    "while i > 0:\n",
    "    print(a[i-1] * i)\n",
    "    i -= 1"
   ]
  },
  {
   "cell_type": "markdown",
   "id": "fac39c08-3212-4d64-bce1-74d441319512",
   "metadata": {},
   "source": [
    "# Break , continue , pass"
   ]
  },
  {
   "cell_type": "markdown",
   "id": "6355f581-0842-4d3a-aae7-fb0c2fa46452",
   "metadata": {},
   "source": [
    "# Break\n",
    "\n",
    "- It is a keyword that'll help to break out of the loop"
   ]
  },
  {
   "cell_type": "code",
   "execution_count": 5,
   "id": "5e13f277",
   "metadata": {},
   "outputs": [
    {
     "name": "stdout",
     "output_type": "stream",
     "text": [
      "Lily\n",
      "Brad\n",
      "Fatima\n"
     ]
    }
   ],
   "source": [
    "# My example\n",
    "our_list = ['Lily', 'Brad', 'Fatima', 'Zining']\n",
    "for name in our_list:\n",
    "    if name == 'Zining':\n",
    "        break # immediately come out of break\n",
    "    print(name)\n",
    "    "
   ]
  },
  {
   "cell_type": "code",
   "execution_count": 28,
   "id": "22e1f5f1-6f2e-4404-9b87-71c1bcb1aaca",
   "metadata": {},
   "outputs": [
    {
     "data": {
      "text/plain": [
       "[0, 1, 2, 3, 4, 5, 6, 7, 8, 9]"
      ]
     },
     "execution_count": 28,
     "metadata": {},
     "output_type": "execute_result"
    }
   ],
   "source": [
    "list(range(10))"
   ]
  },
  {
   "cell_type": "code",
   "execution_count": 30,
   "id": "1fead2b2-2d5a-4f08-b4ff-5ad0835c4864",
   "metadata": {},
   "outputs": [
    {
     "name": "stdout",
     "output_type": "stream",
     "text": [
      "0\n",
      "1\n",
      "2\n",
      "3\n",
      "4\n",
      "5\n",
      "6\n",
      "7\n",
      "8\n",
      "9\n",
      "Loop completed\n"
     ]
    }
   ],
   "source": [
    "for i in range(10):\n",
    "    print(i)\n",
    "    \n",
    "print('Loop completed')"
   ]
  },
  {
   "cell_type": "code",
   "execution_count": 32,
   "id": "f6e7566a-bc80-4773-a05a-344907314388",
   "metadata": {},
   "outputs": [
    {
     "name": "stdout",
     "output_type": "stream",
     "text": [
      "0\n",
      "1\n",
      "2\n",
      "Loop completed\n"
     ]
    }
   ],
   "source": [
    "for i in range(10):\n",
    "    if i == 3: # when it encounters 3 it will come out immediately\n",
    "        break\n",
    "    print(i)\n",
    "    \n",
    "print('Loop completed')"
   ]
  },
  {
   "cell_type": "code",
   "execution_count": 31,
   "id": "88853835-6b20-4880-861f-bf8e19d44893",
   "metadata": {},
   "outputs": [
    {
     "data": {
      "text/plain": [
       "[0, 1, 2, 3, 4, 5, 6, 7, 8, 9]"
      ]
     },
     "execution_count": 31,
     "metadata": {},
     "output_type": "execute_result"
    }
   ],
   "source": [
    "list(range(10))"
   ]
  },
  {
   "cell_type": "markdown",
   "id": "c6d60188-ed0c-48ca-99c7-3ad04f3b22e6",
   "metadata": {},
   "source": [
    "# Continue\n",
    "\n",
    "It only end the current iteration"
   ]
  },
  {
   "cell_type": "code",
   "execution_count": 33,
   "id": "cb5e24eb-37c7-47c5-a864-eb06b6811bf1",
   "metadata": {},
   "outputs": [
    {
     "name": "stdout",
     "output_type": "stream",
     "text": [
      "0\n",
      "1\n",
      "2\n",
      "4\n",
      "5\n",
      "6\n",
      "7\n",
      "8\n",
      "9\n",
      "Loop completed\n"
     ]
    }
   ],
   "source": [
    "for i in range(10):\n",
    "    if i == 3:\n",
    "        continue # stops only current execution\n",
    "    print(i)\n",
    "    \n",
    "print('Loop completed')"
   ]
  },
  {
   "cell_type": "code",
   "execution_count": 6,
   "id": "05e3ab7f-1f3b-4e05-80d4-6ffafe3649a6",
   "metadata": {},
   "outputs": [
    {
     "name": "stdout",
     "output_type": "stream",
     "text": [
      "Enter the number : 6\n",
      "Enter the number : 9\n",
      "Enter the number : 0\n"
     ]
    }
   ],
   "source": [
    "while True:\n",
    "    a = eval(input('Enter the number : '))\n",
    "    if a == 0:\n",
    "        break\n",
    "    else:\n",
    "        continue\n",
    "    \n"
   ]
  },
  {
   "cell_type": "code",
   "execution_count": 37,
   "id": "8e5e2c24-f31d-4268-9513-612f0977d398",
   "metadata": {},
   "outputs": [],
   "source": [
    "# internet banking \n",
    "\n",
    "bal = 50000\n",
    "\n",
    "trigger --> \n",
    "amount which you want to transfer\n",
    "eg 5000\n",
    "\n",
    "subtract the transfered from the balance ---> print('Amount Has been transfered')\n",
    "\n",
    "do you want to resend y / n\n",
    "\n",
    "y --> repeat the whole process from the begining\n",
    "n --> Have a nice day and close the program"
   ]
  },
  {
   "cell_type": "code",
   "execution_count": 1,
   "id": "a4d22adc",
   "metadata": {},
   "outputs": [
    {
     "name": "stdout",
     "output_type": "stream",
     "text": [
      "result: 45000\n",
      "Do you want to retry : y\n",
      "result: 45000\n",
      "Do you want to retry : n\n",
      "Have a nice day\n"
     ]
    }
   ],
   "source": [
    "bal =50000\n",
    "amt=5000\n",
    "while True:\n",
    "    result=(bal-amt)\n",
    "    print(\"result:\", result)\n",
    "    d = input('Do you want to retry : ')\n",
    "    if d == 'y':\n",
    "        continue # will break the current execution, go back to amt entered\n",
    "    else:\n",
    "        print('Have a nice day')\n",
    "        break\n",
    "        "
   ]
  },
  {
   "cell_type": "code",
   "execution_count": 40,
   "id": "ede6f280-35dc-4239-90a8-24543c430dc7",
   "metadata": {},
   "outputs": [
    {
     "name": "stdin",
     "output_type": "stream",
     "text": [
      "Enter the amount :  5000\n"
     ]
    },
    {
     "name": "stdout",
     "output_type": "stream",
     "text": [
      "Amount is transfered the current bal is 45000\n"
     ]
    },
    {
     "name": "stdin",
     "output_type": "stream",
     "text": [
      "Do you want to retry :  y\n",
      "Enter the amount :  5000\n"
     ]
    },
    {
     "name": "stdout",
     "output_type": "stream",
     "text": [
      "Amount is transfered the current bal is 40000\n"
     ]
    },
    {
     "name": "stdin",
     "output_type": "stream",
     "text": [
      "Do you want to retry :  n\n"
     ]
    },
    {
     "name": "stdout",
     "output_type": "stream",
     "text": [
      "Have a nice day\n"
     ]
    }
   ],
   "source": [
    "bal = 50000\n",
    "\n",
    "while True:\n",
    "    amt = eval(input('Enter the amount : '))\n",
    "    bal -= amt\n",
    "    print(f'Amount is transfered the current bal is {bal}')\n",
    "    d = input('Do you want to retry : ')\n",
    "    if d == 'y':\n",
    "        continue # will break the current execution, go back to amt entered\n",
    "    else:\n",
    "        print('Have a nice day')\n",
    "        break"
   ]
  },
  {
   "cell_type": "code",
   "execution_count": 84,
   "id": "f960afa3-c575-4f1a-93d3-0707d41e4784",
   "metadata": {},
   "outputs": [
    {
     "name": "stdout",
     "output_type": "stream",
     "text": [
      "Please enter the amount you want to transfer:60\n",
      "Amount has been transfered, curretn bal is 49940\n",
      "Do you want to repeat y/ny\n",
      "Please enter the amount you want to transfer:79\n",
      "Amount has been transfered, curretn bal is 49861\n",
      "Do you want to repeat y/nn\n",
      "have a nice day\n"
     ]
    }
   ],
   "source": [
    "bal = 50000\n",
    "while(True):\n",
    "    transfer_amount = int(input(\"Please enter the amount you want to transfer:\"))\n",
    "    if bal >= transfer_amount:\n",
    "        bal -= transfer_amount\n",
    "        print(f\"Amount has been transfered, curretn bal is {bal}\")\n",
    "        can_continue = input(\"Do you want to repeat y/n\")\n",
    "        if can_continue.lower() != 'y':\n",
    "            print(\"have a nice day\")\n",
    "            break\n",
    "        \n",
    "    else:\n",
    "        print(\"Insufficient balance\")\n",
    "        break\n"
   ]
  },
  {
   "cell_type": "code",
   "execution_count": 42,
   "id": "0ddc2e22",
   "metadata": {},
   "outputs": [
    {
     "ename": "SyntaxError",
     "evalue": "invalid syntax (506888760.py, line 10)",
     "output_type": "error",
     "traceback": [
      "\u001b[1;36m  Cell \u001b[1;32mIn[42], line 10\u001b[1;36m\u001b[0m\n\u001b[1;33m    elif\u001b[0m\n\u001b[1;37m        ^\u001b[0m\n\u001b[1;31mSyntaxError\u001b[0m\u001b[1;31m:\u001b[0m invalid syntax\n"
     ]
    }
   ],
   "source": [
    "#doubt\n",
    "\n",
    "bal = 50000\n",
    "while(True):\n",
    "    transfer_amount = int(input(\"Please enter the amount you want to transfer:\"))\n",
    "    if bal >= transfer_amount:\n",
    "        bal -= transfer_amount\n",
    "        print(f\"Amount has been transfered, curretn bal is {bal}\")\n",
    "        can_continue = input(\"Do you want to repeat y/n\")\n",
    "        if can_continue.lower() != 'y':\n",
    "            break\n",
    "        elif\n",
    "        print(\"have a nice day\")\n",
    "         \n",
    "        \n",
    "    else:\n",
    "        print(\"Insufficient balance\")\n",
    "        break\n"
   ]
  },
  {
   "cell_type": "markdown",
   "id": "b474a4d1-4f3b-485a-a13c-a9c2ed9018cd",
   "metadata": {},
   "source": [
    "# Else"
   ]
  },
  {
   "cell_type": "code",
   "execution_count": 44,
   "id": "0f7eb0e2-0b0c-4e61-b703-3da99b2bbaa4",
   "metadata": {},
   "outputs": [
    {
     "data": {
      "text/plain": [
       "[0, 1, 2, 3, 4, 5, 6, 7, 8, 9]"
      ]
     },
     "execution_count": 44,
     "metadata": {},
     "output_type": "execute_result"
    }
   ],
   "source": [
    "list(range(10))"
   ]
  },
  {
   "cell_type": "code",
   "execution_count": 46,
   "id": "56069d43-4f0f-4cfd-9f98-7ec4e074684b",
   "metadata": {},
   "outputs": [
    {
     "name": "stdout",
     "output_type": "stream",
     "text": [
      "0\n",
      "1\n",
      "2\n",
      "3\n",
      "4\n",
      "5\n",
      "6\n",
      "7\n",
      "8\n",
      "9\n",
      "Loop completed\n"
     ]
    }
   ],
   "source": [
    "for i in range(10):\n",
    "    print(i)\n",
    "print('Loop completed')"
   ]
  },
  {
   "cell_type": "code",
   "execution_count": 44,
   "id": "3c3067de-df40-4c9c-95d2-dbe41524d952",
   "metadata": {},
   "outputs": [
    {
     "name": "stdout",
     "output_type": "stream",
     "text": [
      "0\n",
      "1\n",
      "2\n",
      "3\n",
      "4\n",
      "5\n",
      "6\n",
      "7\n",
      "8\n",
      "9\n",
      "Loop completed\n"
     ]
    }
   ],
   "source": [
    "for i in range(10): # complete execution including else because no break is used \n",
    "    print(i)\n",
    "else:\n",
    "    print('Loop completed')"
   ]
  },
  {
   "cell_type": "code",
   "execution_count": 58,
   "id": "05653bc5",
   "metadata": {},
   "outputs": [
    {
     "name": "stdout",
     "output_type": "stream",
     "text": [
      "0\n",
      "1\n",
      "2\n",
      "Loop completed\n"
     ]
    }
   ],
   "source": [
    "for i in range(10):\n",
    "    if i == 3:\n",
    "        break\n",
    "    print(i)\n",
    "print('Loop completed')"
   ]
  },
  {
   "cell_type": "code",
   "execution_count": 66,
   "id": "3c6b08bd-c9de-4723-80a6-68c198b12a1f",
   "metadata": {},
   "outputs": [
    {
     "name": "stdout",
     "output_type": "stream",
     "text": [
      "0\n",
      "Loop completed\n",
      "1\n",
      "Loop completed\n",
      "2\n",
      "Loop completed\n"
     ]
    }
   ],
   "source": [
    "# BY ME\n",
    "for i in range(10):\n",
    "    if i == 3:\n",
    "        break\n",
    "    print(i)\n",
    "    print('Loop completed')\n",
    "else:\n",
    "    print('because break so else part is not executed')\n",
    "        "
   ]
  },
  {
   "cell_type": "code",
   "execution_count": 50,
   "id": "99020dd2-5b76-4439-a1cc-ce62010cbcc7",
   "metadata": {},
   "outputs": [
    {
     "name": "stdout",
     "output_type": "stream",
     "text": [
      "0\n",
      "1\n",
      "2\n"
     ]
    }
   ],
   "source": [
    "for i in range(10):\n",
    "    if i == 3:\n",
    "        break # because break is used so else is not printing\n",
    "    print(i)\n",
    "else:\n",
    "    print('Loop completed')"
   ]
  },
  {
   "cell_type": "code",
   "execution_count": 49,
   "id": "7ce31bcc-f687-48e9-bfa1-53185877752a",
   "metadata": {},
   "outputs": [
    {
     "data": {
      "text/plain": [
       "[0, 1, 2, 3, 4, 5, 6, 7, 8, 9]"
      ]
     },
     "execution_count": 49,
     "metadata": {},
     "output_type": "execute_result"
    }
   ],
   "source": [
    "list(range(10))"
   ]
  },
  {
   "cell_type": "code",
   "execution_count": 2,
   "id": "daa6ad22-434a-4696-9478-270ce381e061",
   "metadata": {},
   "outputs": [
    {
     "name": "stdout",
     "output_type": "stream",
     "text": [
      "Enter the file you are searching for  : a\n",
      "File has been found at 0\n"
     ]
    }
   ],
   "source": [
    "lst = ['a' , 'b' , 'c' , 'd' , 'e']\n",
    "\n",
    "a = input('Enter the file you are searching for  : ')\n",
    "\n",
    "for i in range(len(lst)):\n",
    "    if lst[i] == a: # a is char entered by user\n",
    "        print(f'File has been found at {i}')\n",
    "        break # beacsue of breal no else part will execute\n",
    "else:\n",
    "    print('No such file in the DB')"
   ]
  },
  {
   "cell_type": "code",
   "execution_count": null,
   "id": "d649972f-1961-4b2b-948e-597b70c84d17",
   "metadata": {},
   "outputs": [],
   "source": [
    "2,3,4,5"
   ]
  },
  {
   "cell_type": "code",
   "execution_count": 82,
   "id": "0cf9b6b1",
   "metadata": {},
   "outputs": [
    {
     "name": "stdout",
     "output_type": "stream",
     "text": [
      "1\n",
      "1\n",
      "3\n"
     ]
    }
   ],
   "source": [
    "print(5//5) # returned quotient\n",
    "print(3//2)\n",
    "print(10//3)\n"
   ]
  },
  {
   "cell_type": "code",
   "execution_count": 83,
   "id": "7e9326b3-ae01-4c24-b23b-cd8d4fa0000f",
   "metadata": {},
   "outputs": [
    {
     "name": "stdout",
     "output_type": "stream",
     "text": [
      "Enter a number :3\n",
      "Prime number\n"
     ]
    }
   ],
   "source": [
    "a = int(input(\"Enter a number :\"))\n",
    "\n",
    "for i in range(2 , a//2): # 2,1   \n",
    "    if a %i == 0:\n",
    "        print('Not a prime number')\n",
    "        break\n",
    "else:\n",
    "    print('Prime number')"
   ]
  },
  {
   "cell_type": "code",
   "execution_count": 6,
   "id": "d9f6eef7",
   "metadata": {},
   "outputs": [
    {
     "name": "stdout",
     "output_type": "stream",
     "text": [
      "Enter a number :9\n",
      "Prime number\n"
     ]
    }
   ],
   "source": [
    "# wrong 9 has 1, 3, 9, it is not prime no\n",
    "a = int(input(\"Enter a number :\"))\n",
    "\n",
    "for i in range(a):   \n",
    "    if a %2 == 0:\n",
    "        print('Not a prime number')\n",
    "        break\n",
    "else:\n",
    "    print('Prime number')"
   ]
  },
  {
   "cell_type": "code",
   "execution_count": 72,
   "id": "49b708ad-b39a-41ef-a91a-c77baaa9ba49",
   "metadata": {},
   "outputs": [
    {
     "name": "stdout",
     "output_type": "stream",
     "text": [
      "Enter a number :1\n",
      "1 is not a prime number\n"
     ]
    }
   ],
   "source": [
    "num = int(input(\"Enter a number :\"))\n",
    "if num > 1:\n",
    "    for i in range(2, (num//2)+1):\n",
    "        if (num % i) == 0:\n",
    "            print(num, \"is not a prime number\")\n",
    "            break\n",
    "    else:\n",
    "        print(num, \"is a prime number\")\n",
    "else:\n",
    "    print(num, \"is not a prime number\")\n"
   ]
  },
  {
   "cell_type": "code",
   "execution_count": 81,
   "id": "f16a3598-2877-4bb2-8055-1b158802e584",
   "metadata": {},
   "outputs": [
    {
     "name": "stdout",
     "output_type": "stream",
     "text": [
      "Enter a Number: 1\n",
      "Not a Prime Number\n"
     ]
    }
   ],
   "source": [
    "user_input = eval(input('Enter a Number: '))\n",
    "i=2\n",
    "while(i<=user_input//2):\n",
    "    if(user_input%i==0):\n",
    "        print('Not a Prime Number')\n",
    "        break\n",
    "    i+=1\n",
    "else:\n",
    "    if(i!=1):\n",
    "        print('Not a Prime Number')\n",
    "    else:\n",
    "        print('prime number')\n"
   ]
  },
  {
   "cell_type": "code",
   "execution_count": 7,
   "id": "cb39a7ca",
   "metadata": {},
   "outputs": [
    {
     "name": "stdout",
     "output_type": "stream",
     "text": [
      "Enter a Number: 9\n",
      "Not a prime number\n"
     ]
    }
   ],
   "source": [
    "# by me\n",
    "\n",
    "num = eval(input('Enter a Number: '))\n",
    "if num == 1: #. Since 1 only has one positive divisor (itself), it doesn't meet \n",
    "             #the criteria for a prime number.\n",
    "    print('1 is Not a prime number')  \n",
    "for i in range(2 , num):# #if num=7   7/2, 7/3, 7/4, 7/5, 7/6  range 2,7 (7 exlusive)\n",
    "    if num %i == 0: # 7%2 is not equal to zero so it is a prime no\n",
    "        print('Not a prime number')\n",
    "        break\n",
    "else:\n",
    "    print('Prime number')"
   ]
  },
  {
   "cell_type": "code",
   "execution_count": 92,
   "id": "d21c788f",
   "metadata": {},
   "outputs": [
    {
     "name": "stdout",
     "output_type": "stream",
     "text": [
      "Enter a Number: 4\n",
      "Not a prime number\n"
     ]
    }
   ],
   "source": [
    "num = eval(input('Enter a Number: '))\n",
    "if num == 1: #. Since 1 only has one positive divisor (itself), it doesn't meet \n",
    "             #the criteria for a prime number.\n",
    "    print('1 is Not a prime number')  \n",
    "else:\n",
    "    for i in range(2 , num):# #if num=7   7/2, 7/3, 7/4, 7/5, 7/6  range 2,7 (7 is not counted)\n",
    "        if num %i == 0:# 7%2 is not equal to zero so it is a prime no\n",
    "            print('Not a prime number')\n",
    "            break\n",
    "    else:\n",
    "        print('Prime number')\n"
   ]
  },
  {
   "cell_type": "code",
   "execution_count": 6,
   "id": "a3d12990",
   "metadata": {},
   "outputs": [
    {
     "ename": "IndentationError",
     "evalue": "unindent does not match any outer indentation level (<tokenize>, line 12)",
     "output_type": "error",
     "traceback": [
      "\u001b[1;36m  File \u001b[1;32m<tokenize>:12\u001b[1;36m\u001b[0m\n\u001b[1;33m    else:\u001b[0m\n\u001b[1;37m    ^\u001b[0m\n\u001b[1;31mIndentationError\u001b[0m\u001b[1;31m:\u001b[0m unindent does not match any outer indentation level\n"
     ]
    }
   ],
   "source": [
    "  # by me \n",
    "  \n",
    "num = eval(input('Enter a Number: ')) \n",
    "if num == 1: #. Since 1 only has one positive divisor (itself), it doesn't meet \n",
    "             #the criteria for a prime number. \n",
    "     print('1 is Not a prime number') \n",
    " else: \n",
    "      for i in range(2 , num):# #if num=7   7/2, 7/3, 7/4, 7/5, 7/6  range 2,7 (7 is not counted) \n",
    "         if num %i == 0: # 7%2 is not equal to zero so it is a prime no \n",
    "             print('Not a prime number') \n",
    "             break \n",
    "        else: \n",
    "        print('Prime number')"
   ]
  },
  {
   "cell_type": "markdown",
   "id": "c1622465-8f70-4b89-9c19-e3cfca9a7443",
   "metadata": {},
   "source": [
    "# pass"
   ]
  },
  {
   "cell_type": "code",
   "execution_count": null,
   "id": "240d29de-7ad5-4379-ac8c-01823ed8ec16",
   "metadata": {},
   "outputs": [],
   "source": [
    "break and continue ---> Only inside a loop"
   ]
  },
  {
   "cell_type": "code",
   "execution_count": 8,
   "id": "eb2ff718-3200-453d-9aa8-09d255cd2d93",
   "metadata": {},
   "outputs": [],
   "source": [
    "a = 10\n",
    "b = 20\n",
    "\n",
    "if a < b:\n",
    "    pass\n",
    "else:\n",
    "    print('Alternate logic')"
   ]
  },
  {
   "cell_type": "code",
   "execution_count": 100,
   "id": "9855ba4f-7955-4629-bfbe-0daedede9f84",
   "metadata": {},
   "outputs": [
    {
     "name": "stdout",
     "output_type": "stream",
     "text": [
      "v1 fa\n",
      "v1 fb\n",
      "v2 Fc\n",
      "v1 fd\n"
     ]
    }
   ],
   "source": [
    "#https://pythontutor.com/render.html#mode=display\n",
    "lst = ['a' , 'b' , 'c' , 'd']\n",
    "\n",
    "for i in lst: # if i=a, v1fa, then it will execute all 5 statements , if i=b 5 statements..\n",
    "    if i == 'a':\n",
    "        print('v1 fa')\n",
    "    if i == 'b':\n",
    "        print('v1 fb')\n",
    "    if i == 'c':\n",
    "        pass\n",
    "    if i == 'd':\n",
    "        print('v1 fd')\n",
    "    if i == 'c':\n",
    "        print('v2 Fc')"
   ]
  },
  {
   "cell_type": "code",
   "execution_count": 65,
   "id": "fee4aa96-57bb-455a-ae87-380231cbd7e5",
   "metadata": {},
   "outputs": [
    {
     "name": "stdout",
     "output_type": "stream",
     "text": [
      "v1 fa\n",
      "v1 fb\n",
      "v1 fd\n"
     ]
    }
   ],
   "source": [
    "lst = ['a' , 'b' , 'c' , 'd']\n",
    "\n",
    "for i in lst:\n",
    "    if i == 'a':\n",
    "        print('v1 fa')\n",
    "    if i == 'b':\n",
    "        print('v1 fb')\n",
    "    if i == 'c': # stop current execution\n",
    "        continue\n",
    "    if i == 'd':\n",
    "        print('v1 fd')\n",
    "    if i == 'c':\n",
    "        print('v2 Fc')"
   ]
  },
  {
   "cell_type": "code",
   "execution_count": 66,
   "id": "aa88d93a-92d8-49ec-a2e6-6ce312f2d13e",
   "metadata": {},
   "outputs": [
    {
     "name": "stdout",
     "output_type": "stream",
     "text": [
      "v1 fa\n",
      "v1 fb\n"
     ]
    }
   ],
   "source": [
    "lst = ['a' , 'b' , 'c' , 'd']\n",
    "\n",
    "for i in lst:\n",
    "    if i == 'a':\n",
    "        print('v1 fa')\n",
    "    if i == 'b':\n",
    "        print('v1 fb')\n",
    "    if i == 'c': # immediately break the execution\n",
    "        break\n",
    "    if i == 'd':\n",
    "        print('v1 fd')\n",
    "    if i == 'c':\n",
    "        print('v2 Fc')"
   ]
  },
  {
   "cell_type": "code",
   "execution_count": 101,
   "id": "d66510a3-e96f-4474-9db7-103aee7218f2",
   "metadata": {},
   "outputs": [],
   "source": [
    "# when we don't know how many times\n",
    "lst = ['a' , 'b' , 'c' , 'd' , 'a' , 'a' , 'a']\n",
    "\n",
    "while 'a' in lst:\n",
    "    lst.remove('a')"
   ]
  },
  {
   "cell_type": "code",
   "execution_count": 70,
   "id": "d4a71a76-475d-4fa0-b20e-73810270bdda",
   "metadata": {},
   "outputs": [
    {
     "data": {
      "text/plain": [
       "['b', 'c', 'd']"
      ]
     },
     "execution_count": 70,
     "metadata": {},
     "output_type": "execute_result"
    }
   ],
   "source": [
    "lst"
   ]
  },
  {
   "cell_type": "code",
   "execution_count": 72,
   "id": "12e2f759-059e-4e7e-90b4-ace7b7d76312",
   "metadata": {},
   "outputs": [],
   "source": [
    "# when we  know how many times\n",
    "lst = ['a' , 'b' , 'c' , 'd' , 'a' , 'a' , 'a']\n",
    "\n",
    "for i in range(lst.count('a')):\n",
    "    lst.remove('a')"
   ]
  },
  {
   "cell_type": "code",
   "execution_count": 73,
   "id": "610f2307-ba5b-48ad-a5a6-8169eb0ce675",
   "metadata": {},
   "outputs": [
    {
     "data": {
      "text/plain": [
       "['b', 'c', 'd']"
      ]
     },
     "execution_count": 73,
     "metadata": {},
     "output_type": "execute_result"
    }
   ],
   "source": [
    "lst"
   ]
  },
  {
   "cell_type": "code",
   "execution_count": null,
   "id": "1504f7ae-5ba3-4737-8b02-b6d96d4ca347",
   "metadata": {},
   "outputs": [],
   "source": []
  }
 ],
 "metadata": {
  "kernelspec": {
   "display_name": "Python 3 (ipykernel)",
   "language": "python",
   "name": "python3"
  },
  "language_info": {
   "codemirror_mode": {
    "name": "ipython",
    "version": 3
   },
   "file_extension": ".py",
   "mimetype": "text/x-python",
   "name": "python",
   "nbconvert_exporter": "python",
   "pygments_lexer": "ipython3",
   "version": "3.9.13"
  }
 },
 "nbformat": 4,
 "nbformat_minor": 5
}
