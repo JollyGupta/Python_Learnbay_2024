{
 "cells": [
  {
   "cell_type": "markdown",
   "id": "1a85ac16-1755-4662-98f3-a46e7780f6fb",
   "metadata": {},
   "source": [
    "# For loop\n",
    "- A for loop iA for loop is used for iterating over a sequence (that is either a list, a tuple, a dictionary, a set, or a string).s used for iterating over a sequence (that is either a list, a tuple, a dictionary, a set, or a string).\n",
    "\n",
    "-A for loop is used for iterating over a sequence (that is either a list, a tuple, a dictionary, a set, or a string).\n"
   ]
  },
  {
   "cell_type": "code",
   "execution_count": null,
   "id": "9a416518-3fdb-4237-907d-be71efb136cc",
   "metadata": {},
   "outputs": [],
   "source": [
    "syntax \n",
    "\n",
    "for var in iterable:\n",
    "    stat1\n",
    "    stat2\n",
    "    stat3\n",
    "stat4"
   ]
  },
  {
   "cell_type": "code",
   "execution_count": 2,
   "id": "86b6fccc-cf35-4247-b12d-1a8006caa339",
   "metadata": {},
   "outputs": [
    {
     "ename": "SyntaxError",
     "evalue": "invalid syntax (652683902.py, line 3)",
     "output_type": "error",
     "traceback": [
      "\u001b[1;36m  Cell \u001b[1;32mIn[2], line 3\u001b[1;36m\u001b[0m\n\u001b[1;33m    1. the len function should work\u001b[0m\n\u001b[1;37m       ^\u001b[0m\n\u001b[1;31mSyntaxError\u001b[0m\u001b[1;31m:\u001b[0m invalid syntax\n"
     ]
    }
   ],
   "source": [
    "# How to identify if any data type is iterable?\n",
    "\n",
    "1. the len function should work\n",
    "\n",
    "2. print(dir(object)) ----> __iter__"
   ]
  },
  {
   "cell_type": "code",
   "execution_count": 17,
   "id": "8e920a43-027a-469c-9065-928cf45bd07f",
   "metadata": {},
   "outputs": [
    {
     "data": {
      "text/plain": [
       "2"
      ]
     },
     "execution_count": 17,
     "metadata": {},
     "output_type": "execute_result"
    }
   ],
   "source": [
    "a = {'a' : 1 , 'b':45}\n",
    "\n",
    "len(a)"
   ]
  },
  {
   "cell_type": "code",
   "execution_count": 1,
   "id": "a3f0675e",
   "metadata": {},
   "outputs": [
    {
     "data": {
      "text/plain": [
       "2"
      ]
     },
     "execution_count": 1,
     "metadata": {},
     "output_type": "execute_result"
    }
   ],
   "source": [
    "a = ( 1 , 2)\n",
    "\n",
    "len(a)"
   ]
  },
  {
   "cell_type": "code",
   "execution_count": 2,
   "id": "49b20abe",
   "metadata": {},
   "outputs": [
    {
     "data": {
      "text/plain": [
       "2"
      ]
     },
     "execution_count": 2,
     "metadata": {},
     "output_type": "execute_result"
    }
   ],
   "source": [
    "a = [1 , 2]\n",
    "\n",
    "len(a)"
   ]
  },
  {
   "cell_type": "code",
   "execution_count": 19,
   "id": "9534b3a0-2c9d-407f-bc57-4207c02ccf48",
   "metadata": {},
   "outputs": [
    {
     "name": "stdout",
     "output_type": "stream",
     "text": [
      "['__and__', '__class__', '__class_getitem__', '__contains__', '__delattr__', '__dir__', '__doc__', '__eq__', '__format__', '__ge__', '__getattribute__', '__getstate__', '__gt__', '__hash__', '__iand__', '__init__', '__init_subclass__', '__ior__', '__isub__', '__iter__', '__ixor__', '__le__', '__len__', '__lt__', '__ne__', '__new__', '__or__', '__rand__', '__reduce__', '__reduce_ex__', '__repr__', '__ror__', '__rsub__', '__rxor__', '__setattr__', '__sizeof__', '__str__', '__sub__', '__subclasshook__', '__xor__', 'add', 'clear', 'copy', 'difference', 'difference_update', 'discard', 'intersection', 'intersection_update', 'isdisjoint', 'issubset', 'issuperset', 'pop', 'remove', 'symmetric_difference', 'symmetric_difference_update', 'union', 'update']\n"
     ]
    }
   ],
   "source": [
    "print(dir(set))"
   ]
  },
  {
   "cell_type": "code",
   "execution_count": 3,
   "id": "a46829cd-c78c-490e-ab82-de116a28f08f",
   "metadata": {},
   "outputs": [
    {
     "name": "stdout",
     "output_type": "stream",
     "text": [
      "3\n",
      "Hello world\n",
      "Hello world\n",
      "Hello world\n"
     ]
    }
   ],
   "source": [
    "a = 'abc' #strings are iterable objects\n",
    "print(len(a))\n",
    "for char in a:\n",
    "    print('Hello world')"
   ]
  },
  {
   "cell_type": "code",
   "execution_count": null,
   "id": "454348d1-460e-41ba-8ee8-49c5eea2992a",
   "metadata": {},
   "outputs": [],
   "source": [
    "for iteration 1 the char = a\n",
    "\n",
    "Hello world\n",
    "\n",
    "for iteration 2 the char = b\n",
    "\n",
    "Hello world\n",
    "\n",
    "for iteration 3 the char = c\n",
    "\n",
    "Hello world"
   ]
  },
  {
   "cell_type": "code",
   "execution_count": 10,
   "id": "05c55fd6",
   "metadata": {},
   "outputs": [
    {
     "name": "stdout",
     "output_type": "stream",
     "text": [
      "[0, 1, 2, 3, 4, 5, 6, 7, 8]\n"
     ]
    }
   ],
   "source": [
    "a=[0,1,2,3,4,5,6,7,8,9,10]\n",
    "print(a[0:9])\n"
   ]
  },
  {
   "cell_type": "code",
   "execution_count": 2,
   "id": "b3e64701-730e-4086-b7b4-b993c447e10a",
   "metadata": {},
   "outputs": [
    {
     "name": "stdout",
     "output_type": "stream",
     "text": [
      "a Hello world\n",
      "b Hello world\n",
      "c Hello world\n"
     ]
    }
   ],
   "source": [
    "a = 'abc'\n",
    "\n",
    "for i in a:\n",
    "    print(i, 'Hello world')"
   ]
  },
  {
   "cell_type": "code",
   "execution_count": 3,
   "id": "f928b12d-94f8-41d7-a831-dc70d164da61",
   "metadata": {},
   "outputs": [
    {
     "ename": "SyntaxError",
     "evalue": "invalid syntax (1099867918.py, line 1)",
     "output_type": "error",
     "traceback": [
      "\u001b[1;36m  Cell \u001b[1;32mIn[3], line 1\u001b[1;36m\u001b[0m\n\u001b[1;33m    for iteration 1 the char = a\u001b[0m\n\u001b[1;37m                  ^\u001b[0m\n\u001b[1;31mSyntaxError\u001b[0m\u001b[1;31m:\u001b[0m invalid syntax\n"
     ]
    }
   ],
   "source": [
    "for iteration 1 the char = a\n",
    "\n",
    "a Hello world\n",
    "\n",
    "for iteration 2 the char = b\n",
    "\n",
    "b Hello world\n",
    "\n",
    "for iteration 3 the char = c\n",
    "\n",
    "c Hello world"
   ]
  },
  {
   "cell_type": "code",
   "execution_count": 5,
   "id": "29fedf72-132b-42a7-a1bb-f0a3eca4d8bb",
   "metadata": {},
   "outputs": [
    {
     "name": "stdout",
     "output_type": "stream",
     "text": [
      "10 20\n"
     ]
    }
   ],
   "source": [
    "print(10,20)"
   ]
  },
  {
   "cell_type": "code",
   "execution_count": 4,
   "id": "ce01230b-259d-4f58-81b4-4a16b756d085",
   "metadata": {},
   "outputs": [
    {
     "name": "stdout",
     "output_type": "stream",
     "text": [
      "2\n",
      "abc Hello world\n",
      "xyz Hello world\n"
     ]
    }
   ],
   "source": [
    "a = ['abc' , 'xyz']\n",
    "print(len(a))\n",
    "for ele in a:\n",
    "    print(ele , 'Hello world')"
   ]
  },
  {
   "cell_type": "code",
   "execution_count": 5,
   "id": "cac8f7ab-7737-4bbb-940f-be49ee3fbe84",
   "metadata": {},
   "outputs": [
    {
     "name": "stdout",
     "output_type": "stream",
     "text": [
      "[1, 2, 3, 4, 5, 6, 7, 8, 9, 10]\n",
      "1 Hello world\n",
      "2 Hello world\n",
      "3 Hello world\n",
      "4 Hello world\n",
      "5 Hello world\n",
      "6 Hello world\n",
      "7 Hello world\n",
      "8 Hello world\n",
      "9 Hello world\n",
      "10 Hello world\n"
     ]
    }
   ],
   "source": [
    "a = [1,2,3,4,5,6,7,8,9,10]\n",
    "print(a)\n",
    "for ele in a:\n",
    "    print(ele , 'Hello world')"
   ]
  },
  {
   "cell_type": "code",
   "execution_count": 6,
   "id": "572a60e4-deb5-4a00-85ee-c1e7ce7e01fd",
   "metadata": {},
   "outputs": [
    {
     "name": "stdout",
     "output_type": "stream",
     "text": [
      "[1, 2, 3, 4, 5, 6, 7, 8, 9, 10]\n",
      "2\n",
      "4\n",
      "6\n",
      "8\n",
      "10\n",
      "12\n",
      "14\n",
      "16\n",
      "18\n",
      "20\n"
     ]
    }
   ],
   "source": [
    "a = [1,2,3,4,5,6,7,8,9,10]\n",
    "print(a)\n",
    "for ele in a:\n",
    "    print(ele * 2)"
   ]
  },
  {
   "cell_type": "code",
   "execution_count": 7,
   "id": "99ea84a0-43ea-42de-bd36-d1ac1452afbe",
   "metadata": {},
   "outputs": [
    {
     "name": "stdout",
     "output_type": "stream",
     "text": [
      "[1, 2, 3, 4, 5, 6, 7, 8, 9, 10]\n",
      "2  *  1  =  2\n",
      "2  *  2  =  4\n",
      "2  *  3  =  6\n",
      "2  *  4  =  8\n",
      "2  *  5  =  10\n",
      "2  *  6  =  12\n",
      "2  *  7  =  14\n",
      "2  *  8  =  16\n",
      "2  *  9  =  18\n",
      "2  *  10  =  20\n"
     ]
    }
   ],
   "source": [
    "a = [1,2,3,4,5,6,7,8,9,10]\n",
    "print(a)\n",
    "for i in a:\n",
    "    print(f\"2  *  {i}  =  {i*2}\")"
   ]
  },
  {
   "cell_type": "code",
   "execution_count": 33,
   "id": "5e79dea6-fac6-41ee-8b00-c71637edd70c",
   "metadata": {},
   "outputs": [
    {
     "name": "stdin",
     "output_type": "stream",
     "text": [
      "Enter a number :  7\n"
     ]
    },
    {
     "name": "stdout",
     "output_type": "stream",
     "text": [
      "7    *    1   =    7\n",
      "7    *    2   =    14\n",
      "7    *    3   =    21\n",
      "7    *    4   =    28\n",
      "7    *    5   =    35\n",
      "7    *    6   =    42\n",
      "7    *    7   =    49\n",
      "7    *    8   =    56\n",
      "7    *    9   =    63\n",
      "7    *    10   =    70\n"
     ]
    }
   ],
   "source": [
    "#instead of manually typing \n",
    "a = [1,2,3,4,5,6,7,8,9,10]\n",
    "\n",
    "n = eval(input('Enter a number : '))\n",
    "\n",
    "for i in a:\n",
    "    print(f\"{n}    *    {i}   =    {i*n}\")"
   ]
  },
  {
   "cell_type": "code",
   "execution_count": 44,
   "id": "a8198952-e18d-4132-af29-9e2cdd890455",
   "metadata": {},
   "outputs": [
    {
     "name": "stdout",
     "output_type": "stream",
     "text": [
      "[46, 86, 1128, 46, 46, 108, 112]\n"
     ]
    }
   ],
   "source": [
    "# e_list is used to create list\n",
    "\n",
    "a = [23,43,564,23,23,54,56]\n",
    "e_list = []\n",
    "\n",
    "for i in a:\n",
    "    e_list.append(i * 2)\n",
    "\n",
    "print(e_list)"
   ]
  },
  {
   "cell_type": "code",
   "execution_count": 1,
   "id": "8d31b292",
   "metadata": {},
   "outputs": [
    {
     "name": "stdout",
     "output_type": "stream",
     "text": [
      "[46, 86, 1128, 46, 46, 108, 112]\n"
     ]
    }
   ],
   "source": [
    "# e_list is used to create list\n",
    "\n",
    "a = [23,43,564,23,23,54,56]\n",
    "e_list = []\n",
    "\n",
    "for i in a:\n",
    "    e_list.append(i * 2)\n",
    "print(e_list)\n",
    "\n",
    "     "
   ]
  },
  {
   "cell_type": "code",
   "execution_count": 16,
   "id": "4f998945-c5af-42a5-988c-d870f813a357",
   "metadata": {},
   "outputs": [
    {
     "name": "stdout",
     "output_type": "stream",
     "text": [
      "[564, 54, 56]\n"
     ]
    }
   ],
   "source": [
    "a = [23,43,564,23,23,54,56]\n",
    "e_list = []\n",
    "\n",
    "for i in a:\n",
    "    if i%2 == 0:\n",
    "        e_list.append(i)\n",
    "\n",
    "print(e_list)"
   ]
  },
  {
   "cell_type": "code",
   "execution_count": 42,
   "id": "d75145d1-a5c5-4d59-8926-dc5e4113369c",
   "metadata": {},
   "outputs": [
    {
     "data": {
      "text/plain": [
       "True"
      ]
     },
     "execution_count": 42,
     "metadata": {},
     "output_type": "execute_result"
    }
   ],
   "source": [
    "36 % 2 == 0"
   ]
  },
  {
   "cell_type": "code",
   "execution_count": 19,
   "id": "03f4f3ad-99d1-458c-bff0-0d4cf150c54f",
   "metadata": {},
   "outputs": [
    {
     "name": "stdout",
     "output_type": "stream",
     "text": [
      "['Salahudin@gmail.com', 'Abdul@gmail.com', 'Aditya@gmail.com']\n"
     ]
    }
   ],
   "source": [
    "a = ['Salahudin@gmail.com' , 'Vijay@yahoo.com' , 'Abdul@gmail.com' , 'Abhijeet@hotmail.com' ,\n",
    "    'Aditya@gmail.com']\n",
    "\n",
    "e_list = []\n",
    "# Extract the mail ID's which are from gmail\n",
    "\n",
    "for i in a:\n",
    "    if i.split('@')[1] == 'gmail.com': # i.split('@')[1] 1 refer gmail.com \n",
    "        e_list.append(i) # e_list is used to store the output so necessary to append this\n",
    "\n",
    "print(e_list)"
   ]
  },
  {
   "cell_type": "code",
   "execution_count": 66,
   "id": "4541e5d6-20c2-474c-bd10-b31a7923ab6e",
   "metadata": {},
   "outputs": [
    {
     "data": {
      "text/plain": [
       "['Vijay', 'gmail.com']"
      ]
     },
     "execution_count": 66,
     "metadata": {},
     "output_type": "execute_result"
    }
   ],
   "source": [
    "'Vijay@gmail.com'.split('@')"
   ]
  },
  {
   "cell_type": "code",
   "execution_count": 58,
   "id": "81dae44d-088e-4b4a-85ed-4bf5f6cc5ab2",
   "metadata": {},
   "outputs": [
    {
     "data": {
      "text/plain": [
       "True"
      ]
     },
     "execution_count": 58,
     "metadata": {},
     "output_type": "execute_result"
    }
   ],
   "source": [
    "'Vijay@gmail.com'.split('@')[1] == 'gmail.com'"
   ]
  },
  {
   "cell_type": "code",
   "execution_count": 60,
   "id": "04b8beb0-7998-4c76-b32a-607ca89d7840",
   "metadata": {},
   "outputs": [
    {
     "data": {
      "text/plain": [
       "False"
      ]
     },
     "execution_count": 60,
     "metadata": {},
     "output_type": "execute_result"
    }
   ],
   "source": [
    "'gmail' in 'Vijay@yahoo.com'"
   ]
  },
  {
   "cell_type": "code",
   "execution_count": 62,
   "id": "29467572-c2cb-471d-8192-bc3d7bb73463",
   "metadata": {},
   "outputs": [
    {
     "data": {
      "text/plain": [
       "True"
      ]
     },
     "execution_count": 62,
     "metadata": {},
     "output_type": "execute_result"
    }
   ],
   "source": [
    "'Vijay@gmail.com'.endswith('gmail.com')   #Check if the string ends with a punctuation sign"
   ]
  },
  {
   "cell_type": "code",
   "execution_count": 68,
   "id": "1867e47c-58ac-4098-8ebe-41d4a8139ef2",
   "metadata": {},
   "outputs": [
    {
     "name": "stdout",
     "output_type": "stream",
     "text": [
      "['Salahudin', 'Abdul', 'Aditya']\n"
     ]
    }
   ],
   "source": [
    "a = ['Salahudin@gmail.com' , 'Vijay@yahoo.com' , 'Abdul@gmail.com' , 'Abhijeet@hotmail.com' ,\n",
    "    'Aditya@gmail.com']\n",
    "\n",
    "e_list = []\n",
    "# Extract the mail ID's which are from gmail\n",
    "\n",
    "for i in a:\n",
    "    if i.split('@')[1] == 'gmail.com':\n",
    "        e_list.append(i.split('@')[0])\n",
    "\n",
    "print(e_list)"
   ]
  },
  {
   "cell_type": "code",
   "execution_count": 74,
   "id": "f3bfdd2d",
   "metadata": {},
   "outputs": [
    {
     "ename": "IndentationError",
     "evalue": "unexpected indent (4114204714.py, line 25)",
     "output_type": "error",
     "traceback": [
      "\u001b[1;36m  Cell \u001b[1;32mIn[74], line 25\u001b[1;36m\u001b[0m\n\u001b[1;33m    for i in range(len(e_list2)):\u001b[0m\n\u001b[1;37m    ^\u001b[0m\n\u001b[1;31mIndentationError\u001b[0m\u001b[1;31m:\u001b[0m unexpected indent\n"
     ]
    }
   ],
   "source": [
    "#by me \n",
    "\n",
    "a = ['Salahudin@gmail.com' , 'Vijay@yahoo.com' , 'Abdul@gmail.com' , 'Abhijeet@hotmail.com' ,\n",
    "    'Aditya@gmail.com']\n",
    "\n",
    "e_list = []\n",
    "e_list1 = []\n",
    "e_list3 = []\n",
    "e_list4 = []\n",
    "e_list5 = []\n",
    "c=[]\n",
    "\n",
    "# Extract the mail ID's which are from gmail\n",
    "\n",
    "for i in a:\n",
    "    print(i.split('@'))\n",
    "    print('-------------------')\n",
    "    print(i.split('@')[0])\n",
    "    print(i.split('@')[1])\n",
    "    print('-------------------')\n",
    "    if i.split('@')[1] == 'gmail.com': # if condition will executed after completing full \n",
    "        e_list.append(i.split('@')[0])\n",
    "        e_list1.append(i.split('@')[1])\n",
    "        \n",
    "        e_list2 = [e_list + e_list1]\n",
    "        e_list3 = (\"@\".join((e_list) + (e_list1)))\n",
    "           for i in range(len(e_list2)):\n",
    "            c.append(e_list3[0] + [e_list3])\n",
    "  #    e_list4 = (\"@\".join((e_list[0]) + (e_list1[1])))\n",
    "#Doubt  how to collect it   abc@gmail.com, cde@gmail.com\n",
    "    \n",
    "#print(e_list)\n",
    "#print(e_list1)\n",
    "#print(e_list2)\n",
    "#print(e_list3)\n",
    "#print(e_list4)\n",
    "#print(c)\n",
    "\n",
    "#print(e_list5)"
   ]
  },
  {
   "cell_type": "code",
   "execution_count": 75,
   "id": "2a2a415f-106c-4cc2-bfa3-e138538ee348",
   "metadata": {},
   "outputs": [
    {
     "name": "stdout",
     "output_type": "stream",
     "text": [
      "7\n",
      "9\n",
      "11\n",
      "13\n",
      "15\n"
     ]
    }
   ],
   "source": [
    "a = [1,2,3,4,5]\n",
    "b = [6,7,8,9,10]\n",
    "\n",
    "print(a[0] + b[0])\n",
    "print(a[1] + b[1])\n",
    "print(a[2] + b[2])\n",
    "print(a[3] + b[3])\n",
    "print(a[4] + b[4])"
   ]
  },
  {
   "cell_type": "code",
   "execution_count": 26,
   "id": "d2b9cfec-6747-4d68-9ef5-6b36c9c2bdf9",
   "metadata": {},
   "outputs": [
    {
     "data": {
      "text/plain": [
       "[7, 9, 11, 13, 15]"
      ]
     },
     "execution_count": 26,
     "metadata": {},
     "output_type": "execute_result"
    }
   ],
   "source": [
    "c = []\n",
    "\n",
    "for i in range(len(a)):\n",
    "    c.append(a[i] + b[i])\n",
    "\n",
    "c"
   ]
  },
  {
   "cell_type": "code",
   "execution_count": 84,
   "id": "8c8978f0-2f92-433c-bfa3-447b8ff4623c",
   "metadata": {},
   "outputs": [
    {
     "data": {
      "text/plain": [
       "[0, 1, 2, 3, 4]"
      ]
     },
     "execution_count": 84,
     "metadata": {},
     "output_type": "execute_result"
    }
   ],
   "source": [
    "list(range(len(a)))"
   ]
  },
  {
   "cell_type": "code",
   "execution_count": 4,
   "id": "2d34448b-5509-45f6-9caa-ff26345ad1af",
   "metadata": {},
   "outputs": [
    {
     "name": "stdout",
     "output_type": "stream",
     "text": [
      "['Salahudin : TCS', 'Vijay : Infosys', 'Abdul : LTI', 'Abhijeet : MSFT', 'Aditya : Google']\n",
      "['SalahudinTCS', 'VijayInfosys', 'AbdulLTI', 'AbhijeetMSFT', 'AdityaGoogle']\n"
     ]
    }
   ],
   "source": [
    "l1 = ['Salahudin', 'Vijay', 'Abdul', 'Abhijeet', 'Aditya']\n",
    "\n",
    "l2 = ['TCS' , 'Infosys' , 'LTI' , 'MSFT' , 'Google']\n",
    "\n",
    "l3 = []\n",
    "\n",
    "l4 = []\n",
    "\n",
    "l5 = []\n",
    "\n",
    "for i in range(len(l1)):\n",
    "    l3.append(f\"{l1[i]} : {l2[i]}\")\n",
    "    l4.append(l1[i] + l2[i])\n",
    "    #l5.append( \":\".join((l1[i] + l2[i]))) # \"#\".join(myTuple) 'S:a:l:a:h:u:d:i:n:T:C:S \n",
    "    \n",
    "print(l3)\n",
    "print(l4)\n",
    "#print(l5)"
   ]
  },
  {
   "cell_type": "markdown",
   "id": "bba72162-766c-47eb-a4e6-97e63aaded27",
   "metadata": {},
   "source": [
    "# List comprehension\n",
    "\n",
    "- List comprehension offers a shorter syntax when you want to create a new list based on the values of an existing list.\n",
    "\n",
    "- newlist = [expression for item in iterable if condition == True]\n",
    "syntax\n",
    "\n",
    "for var in iterable:\n",
    "    stat1\n",
    "    stat2\n",
    "\n",
    "[expression for var in iterable if condition]"
   ]
  },
  {
   "cell_type": "code",
   "execution_count": 100,
   "id": "5a6d0ef7-0416-4ba4-ae00-be4fcd0077dc",
   "metadata": {},
   "outputs": [
    {
     "name": "stdout",
     "output_type": "stream",
     "text": [
      "[46, 86, 1128, 46, 46, 108, 112]\n"
     ]
    }
   ],
   "source": [
    "a = [23,43,564,23,23,54,56]\n",
    "e_list = []\n",
    "\n",
    "for i in a:\n",
    "    e_list.append(i * 2)\n",
    "\n",
    "print(e_list)"
   ]
  },
  {
   "cell_type": "code",
   "execution_count": 84,
   "id": "68178258",
   "metadata": {},
   "outputs": [
    {
     "name": "stdout",
     "output_type": "stream",
     "text": [
      "[0, 1, 2, 3, 4, 5, 6, 7, 8, 9]\n"
     ]
    }
   ],
   "source": [
    "newlist = [x for x in range(10)]\n",
    "print(newlist)"
   ]
  },
  {
   "cell_type": "code",
   "execution_count": 88,
   "id": "0f9c1927-ddd6-4835-a52b-d64af950e368",
   "metadata": {},
   "outputs": [
    {
     "name": "stdout",
     "output_type": "stream",
     "text": [
      "[46, 86, 1128, 46, 46, 108, 112]\n",
      "[0, 2, 4, 6, 8, 10, 12]\n"
     ]
    }
   ],
   "source": [
    "a = [23,43,564,23,23,54,56]\n",
    "e_list = [i * 2 for i in a] # short cut method\n",
    "e_list1 = [i * 2 for i in range(len(a))] # 0*2 1*2 2*2 3*2 ----\n",
    "\n",
    "\n",
    "print(e_list)\n",
    "print(e_list1)\n"
   ]
  },
  {
   "cell_type": "code",
   "execution_count": 102,
   "id": "d72f8c09-1528-4ddf-af76-0b431c50d3b1",
   "metadata": {},
   "outputs": [
    {
     "name": "stdout",
     "output_type": "stream",
     "text": [
      "[564, 54, 56]\n"
     ]
    }
   ],
   "source": [
    "a = [23,43,564,23,23,54,56]\n",
    "e_list = []\n",
    "\n",
    "for i in a:\n",
    "    if i%2 == 0:\n",
    "        e_list.append(i)\n",
    "\n",
    "print(e_list)"
   ]
  },
  {
   "cell_type": "code",
   "execution_count": 104,
   "id": "fc9b1417-d3a0-4875-b840-01039052f5e4",
   "metadata": {},
   "outputs": [
    {
     "data": {
      "text/plain": [
       "[564, 54, 56]"
      ]
     },
     "execution_count": 104,
     "metadata": {},
     "output_type": "execute_result"
    }
   ],
   "source": [
    "a = [23,43,564,23,23,54,56]\n",
    "e_list = [i for i in a if i%2 == 0]\n",
    "\n",
    "e_list"
   ]
  },
  {
   "cell_type": "code",
   "execution_count": 89,
   "id": "91fa5979-4ce9-4acd-ab10-f2998d803548",
   "metadata": {},
   "outputs": [
    {
     "name": "stdout",
     "output_type": "stream",
     "text": [
      "['Salahudin@gmail.com', 'Abdul@gmail.com', 'Aditya@gmail.com']\n"
     ]
    }
   ],
   "source": [
    "a = ['Salahudin@gmail.com' , 'Vijay@yahoo.com' , 'Abdul@gmail.com' , 'Abhijeet@hotmail.com' ,\n",
    "    'Aditya@gmail.com']\n",
    "\n",
    "e_list = [i for i in a if i.split('@')[1] == 'gmail.com']\n",
    "# Extract the mail ID's which are from gmail\n",
    "\n",
    "# for i in a:\n",
    "#     if i.split('@')[1] == 'gmail.com':\n",
    "#         e_list.append(i)\n",
    "\n",
    "print(e_list)"
   ]
  },
  {
   "cell_type": "code",
   "execution_count": 82,
   "id": "0bdb3418-f5c5-4366-ad94-54b8e7711e7a",
   "metadata": {},
   "outputs": [
    {
     "name": "stdout",
     "output_type": "stream",
     "text": [
      "['Salahudin', 'Abdul', 'Aditya']\n"
     ]
    }
   ],
   "source": [
    "a = ['Salahudin@gmail.com' , 'Vijay@yahoo.com' , 'Abdul@gmail.com' , 'Abhijeet@hotmail.com' ,\n",
    "    'Aditya@gmail.com']\n",
    "\n",
    "e_list = [i.split('@')[0] for i in a if i.split('@')[1] == 'gmail.com']\n",
    "# Extract the mail ID's which are from gmail\n",
    "\n",
    "# for i in a:\n",
    "#     if i.split('@')[1] == 'gmail.com':\n",
    "#         e_list.append(i.split('@')[0])\n",
    "\n",
    "print(e_list)"
   ]
  },
  {
   "cell_type": "code",
   "execution_count": 110,
   "id": "afd85f0a-9386-4626-90d5-16510a008649",
   "metadata": {},
   "outputs": [
    {
     "data": {
      "text/plain": [
       "['Salahudin : TCS',\n",
       " 'Vijay : Infosys',\n",
       " 'Abdul : LTI',\n",
       " 'Abhijeet : MSFT',\n",
       " 'Aditya : Google']"
      ]
     },
     "execution_count": 110,
     "metadata": {},
     "output_type": "execute_result"
    }
   ],
   "source": [
    "l1 = ['Salahudin', 'Vijay', 'Abdul', 'Abhijeet', 'Aditya']\n",
    "\n",
    "l2 = ['TCS' , 'Infosys' , 'LTI' , 'MSFT' , 'Google']\n",
    "\n",
    "l3 = [f\"{l1[i]} : {l2[i]}\" for i in range(len(l1))] # In case of string, can use range\n",
    "\n",
    "# for i in range(len(l1)):\n",
    "#     l3.append(f\"{l1[i]} : {l2[i]}\")\n",
    "\n",
    "l3"
   ]
  },
  {
   "cell_type": "code",
   "execution_count": 120,
   "id": "44091303-eeea-4ec5-9379-5637f15ea544",
   "metadata": {},
   "outputs": [
    {
     "data": {
      "text/plain": [
       "['abdul', 'Abhijeet', 'aditya']"
      ]
     },
     "execution_count": 120,
     "metadata": {},
     "output_type": "execute_result"
    }
   ],
   "source": [
    "l1 = ['Salahudin', 'Vijay', 'abdul', 'Abhijeet', 'aditya']\n",
    "\n",
    "# Name of those whose fist char is a\n",
    "\n",
    "l = [i for i in l1 if i[0].lower() == 'a']\n",
    "\n",
    "l"
   ]
  },
  {
   "cell_type": "code",
   "execution_count": null,
   "id": "e3c88a92-b1ae-449e-b030-6e43788f89d8",
   "metadata": {},
   "outputs": [],
   "source": [
    "fruits = [\"apple\", \"banana\", \"cherry\", \"kiwi\", \"mango\"]\n"
   ]
  },
  {
   "cell_type": "code",
   "execution_count": 91,
   "id": "aa760b6f-546f-4d79-b6fc-22199be4cda3",
   "metadata": {},
   "outputs": [],
   "source": [
    "#The pass Statement\n",
    "#for loops cannot be empty, but if you for some reason have a for loop with no content, \n",
    "#put in the pass statement to avoid getting an error.\n",
    "\n",
    "for x in [0, 1, 2]:\n",
    "  pass\n"
   ]
  },
  {
   "cell_type": "code",
   "execution_count": null,
   "id": "d7d9d7fb",
   "metadata": {},
   "outputs": [],
   "source": []
  }
 ],
 "metadata": {
  "kernelspec": {
   "display_name": "Python 3 (ipykernel)",
   "language": "python",
   "name": "python3"
  },
  "language_info": {
   "codemirror_mode": {
    "name": "ipython",
    "version": 3
   },
   "file_extension": ".py",
   "mimetype": "text/x-python",
   "name": "python",
   "nbconvert_exporter": "python",
   "pygments_lexer": "ipython3",
   "version": "3.9.13"
  }
 },
 "nbformat": 4,
 "nbformat_minor": 5
}
