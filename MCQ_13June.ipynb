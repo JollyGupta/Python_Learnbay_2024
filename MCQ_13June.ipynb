{
 "cells": [
  {
   "cell_type": "code",
   "execution_count": 1,
   "id": "8f2ad2c5",
   "metadata": {},
   "outputs": [
    {
     "data": {
      "text/plain": [
       "[1, 2, 'hello']"
      ]
     },
     "execution_count": 1,
     "metadata": {},
     "output_type": "execute_result"
    }
   ],
   "source": [
    "#https://www.sanfoundry.com/1000-python-questions-answers/\n",
    "\n",
    "l=[1, 0, 2, 0, 'hello', '', []]\n",
    "list(filter(bool, l))\n",
    "#which do not amount to zero"
   ]
  },
  {
   "cell_type": "code",
   "execution_count": 2,
   "id": "721d145e",
   "metadata": {},
   "outputs": [],
   "source": [
    "def f(x):\n",
    "    def f1(*args, **kwargs):\n",
    "           print(\"Sanfoundry\")\n",
    "           return x(*args, **kwargs)\n",
    "    return f1\n",
    "#general decorator which can work with any number of arguments."
   ]
  },
  {
   "cell_type": "code",
   "execution_count": 3,
   "id": "4809ba5f",
   "metadata": {},
   "outputs": [
    {
     "data": {
      "text/plain": [
       "False"
      ]
     },
     "execution_count": 3,
     "metadata": {},
     "output_type": "execute_result"
    }
   ],
   "source": [
    "min(max(False,-3,-4), 2,7) # false 0\n",
    "\n",
    "#Class is a user-defined data type."
   ]
  },
  {
   "cell_type": "code",
   "execution_count": 4,
   "id": "e387682d",
   "metadata": {},
   "outputs": [
    {
     "name": "stdout",
     "output_type": "stream",
     "text": [
      "56.24\n"
     ]
    }
   ],
   "source": [
    "x=56.236\n",
    "print(\"%.2f\"%x)"
   ]
  },
  {
   "cell_type": "code",
   "execution_count": 5,
   "id": "83106130",
   "metadata": {},
   "outputs": [
    {
     "name": "stdout",
     "output_type": "stream",
     "text": [
      "4 3 2 1 "
     ]
    }
   ],
   "source": [
    "#https://www.youtube.com/watch?v=YaD4NkFSQt8 slice\n",
    "for i in [1, 2, 3, 4][::-1]:\n",
    "    print(i, end=' ')"
   ]
  },
  {
   "cell_type": "code",
   "execution_count": 7,
   "id": "47290121",
   "metadata": {},
   "outputs": [
    {
     "data": {
      "text/plain": [
       "'abc'"
      ]
     },
     "execution_count": 7,
     "metadata": {},
     "output_type": "execute_result"
    }
   ],
   "source": [
    "\"a\"+\"bc\""
   ]
  },
  {
   "cell_type": "code",
   "execution_count": null,
   "id": "9351826f",
   "metadata": {},
   "outputs": [],
   "source": [
    "33. Which function is called when the following Python program is executed?\n",
    "\n",
    "f = foo()\n",
    "format(f)\n",
    "a) str()\n",
    "b) format()\n",
    "c) __str__()\n",
    "d) __format__()"
   ]
  },
  {
   "cell_type": "code",
   "execution_count": 10,
   "id": "82775d5b",
   "metadata": {},
   "outputs": [
    {
     "name": "stdout",
     "output_type": "stream",
     "text": [
      "12\n"
     ]
    }
   ],
   "source": [
    "#Doubt\n",
    "class tester:\n",
    "    def __init__(self, id):\n",
    "        self.id = str(id)\n",
    "        id=\"224\"\n",
    "temp = tester(12)\n",
    "print(temp.id)\n",
    "#Id in this case will be the attribute of the instance."
   ]
  },
  {
   "cell_type": "code",
   "execution_count": 17,
   "id": "700308b8",
   "metadata": {},
   "outputs": [
    {
     "name": "stdout",
     "output_type": "stream",
     "text": [
      "True\n"
     ]
    }
   ],
   "source": [
    "#doubt\n",
    "def foo(x):\n",
    "    x[0] = ['def']\n",
    "    x[1] = ['abc']\n",
    "    return id(x)\n",
    "q = ['abc', 'def']\n",
    "print(id(q) == foo(q))\n",
    "\n",
    "#The same object is modified in the function."
   ]
  },
  {
   "cell_type": "code",
   "execution_count": 18,
   "id": "ab066a59",
   "metadata": {},
   "outputs": [
    {
     "data": {
      "text/plain": [
       "{'a', 'b', 'c', 'p', 'q', 'san'}"
      ]
     },
     "execution_count": 18,
     "metadata": {},
     "output_type": "execute_result"
    }
   ],
   "source": [
    "z=set('abc')\n",
    "z.add('san')\n",
    "z.update(set(['p', 'q']))\n",
    "z\n",
    "#first adds the element ‘san’ to the set z. The set z is then updated and two more elements, namely, ‘p’ and ‘q’ are added to it.\n",
    "#Hence the output is: {‘a’, ‘b’, ‘c’, ‘p’, ‘q’, ‘san’}"
   ]
  },
  {
   "cell_type": "code",
   "execution_count": 24,
   "id": "f36420db",
   "metadata": {},
   "outputs": [
    {
     "name": "stdout",
     "output_type": "stream",
     "text": [
      "None\n",
      "None\n",
      "None\n"
     ]
    },
    {
     "data": {
      "text/plain": [
       "'Here, ‘result’ is a list which is extending three times. When first time ‘extend’ function is called for ‘result’, the inner code generates a generator object, which is further used in ‘extend’ function. This generator object contains the values which are in ‘list1’ only (not in ‘list2’ and ‘list3’).\\nSame is happening in second and third call of ‘extend’ function in these generator object contains values only in ‘list2’ and ‘list3’ respectively.\\nSo, ‘result’ variable will contain elements which are only in one list (not more than 1 list).'"
      ]
     },
     "execution_count": 24,
     "metadata": {},
     "output_type": "execute_result"
    }
   ],
   "source": [
    "list1 = [1,2,3,4]\n",
    "list2 = [2,4,5,6]\n",
    "list3 = [2,6,7,8]\n",
    "result = list()\n",
    "\n",
    "print(result.extend(i for i in list1 if i not in (list2+list3) and i not in result))\n",
    "print(result.extend(i for i in list2 if i not in (list1+list3) and i not in result))\n",
    "print(result.extend(i for i in list3 if i not in (list1+list2) and i not in result))\n",
    "\n",
    "'''Here, ‘result’ is a list which is extending three times. When first time ‘extend’ function \n",
    "is called for ‘result’, the inner code generates a generator object, which is further used in\n",
    "‘extend’ function. This generator object contains the values which are in ‘list1’ only\n",
    "(not in ‘list2’ and ‘list3’).\n",
    "Same is happening in second and third call of ‘extend’ function in these generator object \n",
    "contains values only in ‘list2’ and ‘list3’ respectively.\n",
    "So, ‘result’ variable will contain elements which are only in one list (not more than 1 list).\n",
    "'''"
   ]
  },
  {
   "cell_type": "code",
   "execution_count": 42,
   "id": "d239a0be",
   "metadata": {},
   "outputs": [
    {
     "name": "stdout",
     "output_type": "stream",
     "text": [
      "*abcde*\n",
      "*   abcde   *\n",
      "*abcde *\n",
      "*   abcde    *\n"
     ]
    }
   ],
   "source": [
    "print('*', \"abcde\".center(5), '*', sep='')\n",
    "print('*', \"abcde\".center(5), '*', sep='   ')\n",
    "\n",
    "print('*', \"abcde\".center(6), '*', sep='')\n",
    "print('*', \"abcde\".center(6), '*', sep='   ')\n"
   ]
  },
  {
   "cell_type": "code",
   "execution_count": 43,
   "id": "5c2580ee",
   "metadata": {},
   "outputs": [
    {
     "name": "stdout",
     "output_type": "stream",
     "text": [
      "[4, 3]\n"
     ]
    }
   ],
   "source": [
    "list1 = [1, 3]\n",
    "list2 = list1\n",
    "list1[0] = 4\n",
    "print(list2)"
   ]
  },
  {
   "cell_type": "code",
   "execution_count": 44,
   "id": "80606bff",
   "metadata": {},
   "outputs": [
    {
     "name": "stdout",
     "output_type": "stream",
     "text": [
      "0\n",
      "1\n",
      "2\n"
     ]
    }
   ],
   "source": [
    "i = 0\n",
    "while i < 5:\n",
    "    print(i)\n",
    "    i += 1\n",
    "    if i == 3:\n",
    "        break\n",
    "else:\n",
    "    print(0)"
   ]
  },
  {
   "cell_type": "code",
   "execution_count": 45,
   "id": "24d72466",
   "metadata": {},
   "outputs": [
    {
     "name": "stdout",
     "output_type": "stream",
     "text": [
      "0\n",
      "1\n",
      "2\n",
      "3\n"
     ]
    }
   ],
   "source": [
    "x = 'abcd'\n",
    "for i in range(len(x)):\n",
    "    print(i)"
   ]
  },
  {
   "cell_type": "code",
   "execution_count": 46,
   "id": "3b8f1f81",
   "metadata": {},
   "outputs": [
    {
     "name": "stdout",
     "output_type": "stream",
     "text": [
      "5\n"
     ]
    }
   ],
   "source": [
    "def addItem(listParam):\n",
    "    listParam += [1]\n",
    " \n",
    "mylist = [1, 2, 3, 4]\n",
    "addItem(mylist)\n",
    "print(len(mylist))"
   ]
  },
  {
   "cell_type": "code",
   "execution_count": null,
   "id": "21b19f15",
   "metadata": {},
   "outputs": [],
   "source": [
    "'''Which of the following is a feature of Python DocString?\n",
    "a) In Python all functions should have a docstring\n",
    "b) Docstrings can be accessed by the __doc__ attribute on objects\n",
    "c) It provides a convenient way of associating documentation with Python modules, functions, classes, and methods\n",
    "d) All of the mentioned\n",
    "all '''"
   ]
  },
  {
   "cell_type": "code",
   "execution_count": 50,
   "id": "ffbba44a",
   "metadata": {},
   "outputs": [
    {
     "name": "stdout",
     "output_type": "stream",
     "text": [
      "Hello foo and bin\n"
     ]
    }
   ],
   "source": [
    "print(\"Hello {0[0]} and {0[1]}\".format(('foo', 'bin')))"
   ]
  },
  {
   "cell_type": "code",
   "execution_count": 51,
   "id": "768ddae4",
   "metadata": {},
   "outputs": [
    {
     "name": "stdout",
     "output_type": "stream",
     "text": [
      "('[0] [1]',)\n"
     ]
    }
   ],
   "source": [
    "x = [[0], [1]]\n",
    "print((' '.join(list(map(str, x))),))"
   ]
  },
  {
   "cell_type": "code",
   "execution_count": 55,
   "id": "6cf36917",
   "metadata": {},
   "outputs": [
    {
     "name": "stdout",
     "output_type": "stream",
     "text": [
      "2\n"
     ]
    }
   ],
   "source": [
    "def foo():\n",
    "    try:\n",
    "        return 1\n",
    "    finally:\n",
    "        return 2\n",
    "k = foo()\n",
    "print(k)\n",
    "#The finally block is executed even there is a return statement in the try block."
   ]
  },
  {
   "cell_type": "code",
   "execution_count": 57,
   "id": "187ee271",
   "metadata": {},
   "outputs": [
    {
     "data": {
      "text/plain": [
       "'hello2hello2'"
      ]
     },
     "execution_count": 57,
     "metadata": {},
     "output_type": "execute_result"
    }
   ],
   "source": [
    "def example(a):\n",
    "    a = a + '2'\n",
    "    a = a*2\n",
    "    return a\n",
    "\n",
    "example(\"hello\")"
   ]
  },
  {
   "cell_type": "code",
   "execution_count": 61,
   "id": "b5f5c8c3",
   "metadata": {},
   "outputs": [
    {
     "name": "stdout",
     "output_type": "stream",
     "text": [
      "hello-how-are-you\n",
      "hello-how-areyou\n"
     ]
    }
   ],
   "source": [
    " print('hello-' + 'how-are-you')\n",
    "print('hello' + '-' + 'how' + '-' + 'are' + 'you')"
   ]
  },
  {
   "cell_type": "code",
   "execution_count": 62,
   "id": "5b4a14eb",
   "metadata": {},
   "outputs": [
    {
     "name": "stdout",
     "output_type": "stream",
     "text": [
      "False\n"
     ]
    }
   ],
   "source": [
    "print (0.1 + 0.2 == 0.3)\n",
    "#Neither of 0.1, 0.2 and 0.3 can be represented accurately in binary. The round off errors from 0.1 and 0.2 accumulate and hence there is a difference of \n",
    "#5.5511e-17 between (0.1 + 0.2) and 0.3."
   ]
  },
  {
   "cell_type": "code",
   "execution_count": 69,
   "id": "b41e2c2e",
   "metadata": {},
   "outputs": [
    {
     "ename": "SyntaxError",
     "evalue": "EOL while scanning string literal (3345731429.py, line 1)",
     "output_type": "error",
     "traceback": [
      "\u001b[1;36m  Cell \u001b[1;32mIn[69], line 1\u001b[1;36m\u001b[0m\n\u001b[1;33m    print(float('56'+'78’))\u001b[0m\n\u001b[1;37m                           ^\u001b[0m\n\u001b[1;31mSyntaxError\u001b[0m\u001b[1;31m:\u001b[0m EOL while scanning string literal\n"
     ]
    }
   ],
   "source": [
    "print(float('56'+'78’))"
   ]
  },
  {
   "cell_type": "code",
   "execution_count": 68,
   "id": "71f85cff",
   "metadata": {},
   "outputs": [
    {
     "ename": "SyntaxError",
     "evalue": "EOL while scanning string literal (3607500480.py, line 1)",
     "output_type": "error",
     "traceback": [
      "\u001b[1;36m  Cell \u001b[1;32mIn[68], line 1\u001b[1;36m\u001b[0m\n\u001b[1;33m    print(float('12+34′))\u001b[0m\n\u001b[1;37m                         ^\u001b[0m\n\u001b[1;31mSyntaxError\u001b[0m\u001b[1;31m:\u001b[0m EOL while scanning string literal\n"
     ]
    }
   ],
   "source": [
    "print(float('12+34′))"
   ]
  },
  {
   "cell_type": "code",
   "execution_count": 71,
   "id": "9685dee3",
   "metadata": {},
   "outputs": [
    {
     "name": "stdout",
     "output_type": "stream",
     "text": [
      "2\n",
      "4\n",
      "0\n",
      "0\n"
     ]
    }
   ],
   "source": [
    "print(round(2.5))\n",
    "print(round(3.5))\n",
    "print(round(0.5))\n",
    "print(round(-0.5))"
   ]
  },
  {
   "cell_type": "code",
   "execution_count": 74,
   "id": "1ffb9b71",
   "metadata": {},
   "outputs": [
    {
     "name": "stdout",
     "output_type": "stream",
     "text": [
      "newline\n"
     ]
    }
   ],
   "source": [
    "print('new' 'line')\n",
    "#String literal separated by whitespace are allowed. They are concatenated."
   ]
  },
  {
   "cell_type": "code",
   "execution_count": 76,
   "id": "916ba14d",
   "metadata": {},
   "outputs": [
    {
     "name": "stdout",
     "output_type": "stream",
     "text": [
      "x\\97\n"
     ]
    }
   ],
   "source": [
    "print('x\\97\\x98')\n",
    "# \\x is an escape sequence that means the following 2 digits are a hexadecimal number\n",
    "#encoding a character."
   ]
  },
  {
   "cell_type": "code",
   "execution_count": 77,
   "id": "68e4b645",
   "metadata": {},
   "outputs": [
    {
     "name": "stdout",
     "output_type": "stream",
     "text": [
      "33\n"
     ]
    }
   ],
   "source": [
    "print(0xA + 0xB + 0xC) # 10 11 12"
   ]
  },
  {
   "cell_type": "code",
   "execution_count": 78,
   "id": "c925c45f",
   "metadata": {},
   "outputs": [
    {
     "name": "stdout",
     "output_type": "stream",
     "text": [
      "Number: 1234.57\n"
     ]
    }
   ],
   "source": [
    "number = 1234.56789\n",
    "formatted_string = \"Number: {:.2f}\".format(number)  # Two decimal places\n",
    "print(formatted_string)\n"
   ]
  },
  {
   "cell_type": "code",
   "execution_count": 81,
   "id": "ab42bcd6",
   "metadata": {},
   "outputs": [
    {
     "ename": "SyntaxError",
     "evalue": "invalid syntax (3259460070.py, line 10)",
     "output_type": "error",
     "traceback": [
      "\u001b[1;36m  Cell \u001b[1;32mIn[81], line 10\u001b[1;36m\u001b[0m\n\u001b[1;33m    print \"%d %d\" % (obj.o1, obj.o2)\u001b[0m\n\u001b[1;37m          ^\u001b[0m\n\u001b[1;31mSyntaxError\u001b[0m\u001b[1;31m:\u001b[0m invalid syntax\n"
     ]
    }
   ],
   "source": [
    "class father:\n",
    "    def __init__(self, param):\n",
    "        self.o1 = param\n",
    "        \n",
    "class child(father):\n",
    "    def __init__(self, param):\n",
    "        self.o2 = param\n",
    "        \n",
    "obj = child(22)\n",
    "print \"%d %d\" % (obj.o1, obj.o2)"
   ]
  },
  {
   "cell_type": "code",
   "execution_count": 82,
   "id": "240fd134",
   "metadata": {},
   "outputs": [
    {
     "name": "stdout",
     "output_type": "stream",
     "text": [
      "12\n"
     ]
    }
   ],
   "source": [
    "class tester:\n",
    "    def __init__(self, id):\n",
    "        self.id = str(id)\n",
    "        id=\"224\"\n",
    "temp = tester(12)\n",
    "print(temp.id)"
   ]
  },
  {
   "cell_type": "code",
   "execution_count": 83,
   "id": "4e9b8f52",
   "metadata": {},
   "outputs": [
    {
     "data": {
      "text/plain": [
       "'y'"
      ]
     },
     "execution_count": 83,
     "metadata": {},
     "output_type": "execute_result"
    }
   ],
   "source": [
    "max(\"what are you\") # Max returns the character with the highest ascii value."
   ]
  },
  {
   "cell_type": "code",
   "execution_count": 85,
   "id": "ae9b1909",
   "metadata": {},
   "outputs": [
    {
     "data": {
      "text/plain": [
       "2"
      ]
     },
     "execution_count": 85,
     "metadata": {},
     "output_type": "execute_result"
    }
   ],
   "source": [
    "example='hello'\n",
    "example.count('l')"
   ]
  },
  {
   "cell_type": "code",
   "execution_count": 86,
   "id": "e26d2552",
   "metadata": {},
   "outputs": [
    {
     "data": {
      "text/plain": [
       "1"
      ]
     },
     "execution_count": 86,
     "metadata": {},
     "output_type": "execute_result"
    }
   ],
   "source": [
    "example = \"helle\"\n",
    "example.find(\"e\") #return lowest index"
   ]
  },
  {
   "cell_type": "code",
   "execution_count": 87,
   "id": "2347f4d6",
   "metadata": {},
   "outputs": [
    {
     "data": {
      "text/plain": [
       "4"
      ]
     },
     "execution_count": 87,
     "metadata": {},
     "output_type": "execute_result"
    }
   ],
   "source": [
    "example = \"helle\"\n",
    "example.rfind(\"e\") # return highest index"
   ]
  },
  {
   "cell_type": "code",
   "execution_count": 88,
   "id": "1b485a25",
   "metadata": {},
   "outputs": [
    {
     "data": {
      "text/plain": [
       "True"
      ]
     },
     "execution_count": 88,
     "metadata": {},
     "output_type": "execute_result"
    }
   ],
   "source": [
    "example=\"helloworld\"\n",
    "example[::-1].startswith(\"d\")\n",
    "#Starts with checks if the given string starts with the parameter that is passed."
   ]
  },
  {
   "cell_type": "code",
   "execution_count": 92,
   "id": "5d96f701",
   "metadata": {},
   "outputs": [
    {
     "name": "stdout",
     "output_type": "stream",
     "text": [
      "ab\n"
     ]
    }
   ],
   "source": [
    "s1='a'\n",
    "s2='b'\n",
    "s3 = s1.__add__(s2)\n",
    "print(s3)\n",
    "#__add__ is another method that can be used for concatenation."
   ]
  },
  {
   "cell_type": "code",
   "execution_count": 93,
   "id": "9de91f77",
   "metadata": {},
   "outputs": [
    {
     "data": {
      "text/plain": [
       "'A'"
      ]
     },
     "execution_count": 93,
     "metadata": {},
     "output_type": "execute_result"
    }
   ],
   "source": [
    "chr(ord('A'))"
   ]
  },
  {
   "cell_type": "code",
   "execution_count": 94,
   "id": "bf2e706e",
   "metadata": {},
   "outputs": [
    {
     "name": "stdout",
     "output_type": "stream",
     "text": [
      "c\n"
     ]
    }
   ],
   "source": [
    "print(chr(ord('b')+1))"
   ]
  },
  {
   "cell_type": "code",
   "execution_count": 97,
   "id": "451ab232",
   "metadata": {},
   "outputs": [
    {
     "name": "stdout",
     "output_type": "stream",
     "text": [
      "hello\\example\\test.txt\n"
     ]
    }
   ],
   "source": [
    "print('hello\\\\example\\\\test.txt')\n",
    "#print(hello\\example\\test.txt)"
   ]
  },
  {
   "cell_type": "code",
   "execution_count": 98,
   "id": "b7dc33a3",
   "metadata": {},
   "outputs": [
    {
     "data": {
      "text/plain": [
       "'World'"
      ]
     },
     "execution_count": 98,
     "metadata": {},
     "output_type": "execute_result"
    }
   ],
   "source": [
    "s='\\t\\tWorld\\n'\n",
    "s.strip() # help(string.strip)"
   ]
  },
  {
   "cell_type": "code",
   "execution_count": 101,
   "id": "daf313e3",
   "metadata": {},
   "outputs": [
    {
     "name": "stdout",
     "output_type": "stream",
     "text": [
      "Customer: Alice, Balance: $1,234.57\n"
     ]
    }
   ],
   "source": [
    "name = \"Alice\"\n",
    "balance = 1234.567\n",
    "formatted_string = \"Customer: {0}, Balance: ${1:,.2f}\".format(name, balance)\n",
    "print(formatted_string)"
   ]
  },
  {
   "cell_type": "code",
   "execution_count": 103,
   "id": "4393da89",
   "metadata": {},
   "outputs": [
    {
     "name": "stdout",
     "output_type": "stream",
     "text": [
      "Welcome   # 111#924.66\n"
     ]
    }
   ],
   "source": [
    "print(format(\"Welcome\", \"10s\"), end = '#')\n",
    "print(format(111, \"4d\"), end = '#')\n",
    "print(format(924.656, \"3.2f\"))"
   ]
  },
  {
   "cell_type": "code",
   "execution_count": 110,
   "id": "f321f351",
   "metadata": {},
   "outputs": [
    {
     "name": "stdout",
     "output_type": "stream",
     "text": [
      "1\n"
     ]
    }
   ],
   "source": [
    "print(ord('b')-ord('a'))\n",
    "#ASCII value of b is one more than a. Hence the output of this code is 98-97, which is equal to 1."
   ]
  },
  {
   "cell_type": "code",
   "execution_count": 112,
   "id": "816b24c1",
   "metadata": {},
   "outputs": [
    {
     "data": {
      "text/plain": [
       "5"
      ]
     },
     "execution_count": 112,
     "metadata": {},
     "output_type": "execute_result"
    }
   ],
   "source": [
    "s='Hello'\n",
    "s.__getitem__(3)\n",
    "s.__len__()\n",
    "#len(s) is a built-in function in Python to get the length of the string s, whereas s.__len__() calls the __len__ method of the string object s. It’s less common but\n",
    "#functionally equivalent to len(s). So, we can use either of these."
   ]
  },
  {
   "cell_type": "code",
   "execution_count": null,
   "id": "abc4feb9",
   "metadata": {},
   "outputs": [],
   "source": [
    "If a class defines the __str__(self) method, for an object obj for the class, you can use which command to invoke the __str__ method.\n",
    "a) obj.__str__()\n",
    "b) str(obj)\n",
    "c) print obj\n",
    "d) all of the mentioned all"
   ]
  },
  {
   "cell_type": "code",
   "execution_count": 116,
   "id": "61e6d172",
   "metadata": {},
   "outputs": [
    {
     "name": "stdout",
     "output_type": "stream",
     "text": [
      "True\n"
     ]
    },
    {
     "ename": "AttributeError",
     "evalue": "'str' object has no attribute 'contains'",
     "output_type": "error",
     "traceback": [
      "\u001b[1;31m---------------------------------------------------------------------------\u001b[0m",
      "\u001b[1;31mAttributeError\u001b[0m                            Traceback (most recent call last)",
      "Cell \u001b[1;32mIn[116], line 4\u001b[0m\n\u001b[0;32m      2\u001b[0m s2\u001b[38;5;241m=\u001b[39m\u001b[38;5;124m'\u001b[39m\u001b[38;5;124mString\u001b[39m\u001b[38;5;124m'\u001b[39m\n\u001b[0;32m      3\u001b[0m \u001b[38;5;28mprint\u001b[39m(s1\u001b[38;5;241m.\u001b[39m\u001b[38;5;21m__contains__\u001b[39m(s2))\n\u001b[1;32m----> 4\u001b[0m \u001b[38;5;28mprint\u001b[39m(\u001b[43ms1\u001b[49m\u001b[38;5;241;43m.\u001b[39;49m\u001b[43mcontains\u001b[49m(s2))\n",
      "\u001b[1;31mAttributeError\u001b[0m: 'str' object has no attribute 'contains'"
     ]
    }
   ],
   "source": [
    "s1='JollyString' \n",
    "s2='String'\n",
    "print(s1.__contains__(s2))\n",
    "print(s1.contains(s2)) #'str' object has no attribute 'contains'"
   ]
  },
  {
   "cell_type": "code",
   "execution_count": 124,
   "id": "3d934caf",
   "metadata": {},
   "outputs": [
    {
     "data": {
      "text/plain": [
       "7"
      ]
     },
     "execution_count": 124,
     "metadata": {},
     "output_type": "execute_result"
    }
   ],
   "source": [
    "i=3\n",
    "j=4\n",
    "i.__add__(j) # i+j \n",
    "#print(i+j)\n",
    "#add(i+j) # not work name 'add' is not defined\n",
    "i+j"
   ]
  },
  {
   "cell_type": "code",
   "execution_count": 125,
   "id": "cce4c2fc",
   "metadata": {},
   "outputs": [
    {
     "name": "stdout",
     "output_type": "stream",
     "text": [
      "False True\n"
     ]
    }
   ],
   "source": [
    "class Count:\n",
    "    def __init__(self, count = 0):\n",
    "       self.__count = count\n",
    " \n",
    "c1 = Count(2)\n",
    "c2 = Count(2)\n",
    "print(id(c1) == id(c2), end = \" \")\n",
    " \n",
    "s1 = \"Good\"\n",
    "s2 = \"Good\"\n",
    "print(id(s1) == id(s2))\n",
    "#Execute in the shell objects cannot have same id, however in the case of strings its different."
   ]
  },
  {
   "cell_type": "code",
   "execution_count": 126,
   "id": "8e241692",
   "metadata": {},
   "outputs": [
    {
     "name": "stdout",
     "output_type": "stream",
     "text": [
      "John Pan\n"
     ]
    }
   ],
   "source": [
    "class Name:\n",
    "    def __init__(self, firstName, mi, lastName):\n",
    "        self.firstName = firstName\n",
    "        self.mi = mi\n",
    "        self.lastName = lastName\n",
    "        \n",
    "firstName = \"John\"\n",
    "name = Name(firstName, 'F', \"Smith\")\n",
    "firstName = \"Peter\"\n",
    "name.lastName = \"Pan\"\n",
    "print(name.firstName, name.lastName)"
   ]
  },
  {
   "cell_type": "code",
   "execution_count": 127,
   "id": "c3e1f1a8",
   "metadata": {},
   "outputs": [
    {
     "name": "stdout",
     "output_type": "stream",
     "text": [
      "   345.355\n"
     ]
    }
   ],
   "source": [
    "x = 345.3546\n",
    "formatted_string = format(x, \"10.3f\") # total width should be 10\n",
    "print(formatted_string)"
   ]
  },
  {
   "cell_type": "code",
   "execution_count": 130,
   "id": "536146b2",
   "metadata": {},
   "outputs": [
    {
     "name": "stdout",
     "output_type": "stream",
     "text": [
      "abcdef\n"
     ]
    }
   ],
   "source": [
    "print(\"abcdef\".center(0)) # atleast one parmeter needed"
   ]
  },
  {
   "cell_type": "code",
   "execution_count": 131,
   "id": "d04687fa",
   "metadata": {},
   "outputs": [
    {
     "name": "stdout",
     "output_type": "stream",
     "text": [
      "*  abcdef *\n"
     ]
    }
   ],
   "source": [
    "print('*', \"abcdef\".center(7), '*') #Padding is done towards the left-hand-side first\n",
    "#when the final string is of odd length. Extra spaces are present since\n",
    "#we haven’t overridden the value of sep.\n"
   ]
  },
  {
   "cell_type": "code",
   "execution_count": 133,
   "id": "8d938459",
   "metadata": {},
   "outputs": [
    {
     "name": "stdout",
     "output_type": "stream",
     "text": [
      "*  abcdef *\n"
     ]
    }
   ],
   "source": [
    "print('*', \"abcdef\".center(7), '*', sep='')"
   ]
  },
  {
   "cell_type": "code",
   "execution_count": 134,
   "id": "c895ccdc",
   "metadata": {},
   "outputs": [
    {
     "name": "stdout",
     "output_type": "stream",
     "text": [
      "*abcde *\n"
     ]
    }
   ],
   "source": [
    "print('*', \"abcde\".center(6), '*', sep='') # Padding is done towards the right-hand-side first when the final string is of even length."
   ]
  },
  {
   "cell_type": "code",
   "execution_count": 135,
   "id": "e1c31a72",
   "metadata": {},
   "outputs": [
    {
     "ename": "TypeError",
     "evalue": "The fill character must be a unicode character, not int",
     "output_type": "error",
     "traceback": [
      "\u001b[1;31m---------------------------------------------------------------------------\u001b[0m",
      "\u001b[1;31mTypeError\u001b[0m                                 Traceback (most recent call last)",
      "Cell \u001b[1;32mIn[135], line 1\u001b[0m\n\u001b[1;32m----> 1\u001b[0m \u001b[38;5;28mprint\u001b[39m(\u001b[38;5;124;43m\"\u001b[39;49m\u001b[38;5;124;43mabcdef\u001b[39;49m\u001b[38;5;124;43m\"\u001b[39;49m\u001b[38;5;241;43m.\u001b[39;49m\u001b[43mcenter\u001b[49m\u001b[43m(\u001b[49m\u001b[38;5;241;43m7\u001b[39;49m\u001b[43m,\u001b[49m\u001b[43m \u001b[49m\u001b[38;5;241;43m1\u001b[39;49m\u001b[43m)\u001b[49m)\n",
      "\u001b[1;31mTypeError\u001b[0m: The fill character must be a unicode character, not int"
     ]
    }
   ],
   "source": [
    "print(\"abcdef\".center(7, 1))"
   ]
  },
  {
   "cell_type": "code",
   "execution_count": 140,
   "id": "57e45076",
   "metadata": {},
   "outputs": [
    {
     "name": "stdout",
     "output_type": "stream",
     "text": [
      "1abcdef\n"
     ]
    }
   ],
   "source": [
    "print(\"abcdef\".center(7, '1'))"
   ]
  },
  {
   "cell_type": "code",
   "execution_count": 141,
   "id": "59e2f1c9",
   "metadata": {},
   "outputs": [
    {
     "name": "stdout",
     "output_type": "stream",
     "text": [
      "11abcdef11\n"
     ]
    }
   ],
   "source": [
    "print(\"abcdef\".center(10, '1'))"
   ]
  },
  {
   "cell_type": "code",
   "execution_count": 142,
   "id": "c76c79ad",
   "metadata": {},
   "outputs": [
    {
     "ename": "TypeError",
     "evalue": "The fill character must be exactly one character long",
     "output_type": "error",
     "traceback": [
      "\u001b[1;31m---------------------------------------------------------------------------\u001b[0m",
      "\u001b[1;31mTypeError\u001b[0m                                 Traceback (most recent call last)",
      "Cell \u001b[1;32mIn[142], line 1\u001b[0m\n\u001b[1;32m----> 1\u001b[0m \u001b[38;5;28mprint\u001b[39m(\u001b[38;5;124;43m\"\u001b[39;49m\u001b[38;5;124;43mabcdef\u001b[39;49m\u001b[38;5;124;43m\"\u001b[39;49m\u001b[38;5;241;43m.\u001b[39;49m\u001b[43mcenter\u001b[49m\u001b[43m(\u001b[49m\u001b[38;5;241;43m10\u001b[39;49m\u001b[43m,\u001b[49m\u001b[43m \u001b[49m\u001b[38;5;124;43m'\u001b[39;49m\u001b[38;5;124;43m12\u001b[39;49m\u001b[38;5;124;43m'\u001b[39;49m\u001b[43m)\u001b[49m)\n",
      "\u001b[1;31mTypeError\u001b[0m: The fill character must be exactly one character long"
     ]
    }
   ],
   "source": [
    "print(\"abcdef\".center(10, '12'))"
   ]
  },
  {
   "cell_type": "code",
   "execution_count": null,
   "id": "d1399b83",
   "metadata": {},
   "outputs": [],
   "source": [
    "print(\"xyyzxyzxzxyy\".count('yy', 1)) #Counts the number of times the substring ‘yy’ is present in the given string,\n",
    "#starting from position 1."
   ]
  },
  {
   "cell_type": "code",
   "execution_count": 143,
   "id": "41269662",
   "metadata": {},
   "outputs": [
    {
     "name": "stdout",
     "output_type": "stream",
     "text": [
      "2\n"
     ]
    }
   ],
   "source": [
    "print(\"xyyzxyzxzxyy\".count('xyy', 0, 100))# An error will not occur if the end value\n",
    "#is greater than the length of the string itself."
   ]
  },
  {
   "cell_type": "code",
   "execution_count": 144,
   "id": "51818280",
   "metadata": {},
   "outputs": [
    {
     "name": "stdout",
     "output_type": "stream",
     "text": [
      "0\n"
     ]
    }
   ],
   "source": [
    "print(\"xyyzxyzxzxyy\".count('xyy', 2, 11))#Counts the number of times the substring ‘xyy’ is present in the given string, starting from position 2 and\n",
    "#ending at position 11."
   ]
  },
  {
   "cell_type": "code",
   "execution_count": 145,
   "id": "bb618ed0",
   "metadata": {},
   "outputs": [
    {
     "name": "stdout",
     "output_type": "stream",
     "text": [
      "0\n"
     ]
    }
   ],
   "source": [
    "print(\"xyyzxyzxzxyy\".count('xyy', -10, -1))"
   ]
  },
  {
   "cell_type": "code",
   "execution_count": 146,
   "id": "99dd5395",
   "metadata": {},
   "outputs": [
    {
     "name": "stdout",
     "output_type": "stream",
     "text": [
      "b'abc'\n"
     ]
    }
   ],
   "source": [
    "print('abc'.encode()) # A bytes object is returned by encode."
   ]
  },
  {
   "cell_type": "code",
   "execution_count": 149,
   "id": "bf4f7b33",
   "metadata": {},
   "outputs": [
    {
     "name": "stdout",
     "output_type": "stream",
     "text": [
      "True\n"
     ]
    }
   ],
   "source": [
    "print(\"xyyzxyzxzxyy\".endswith(\"xyy\"))"
   ]
  },
  {
   "cell_type": "code",
   "execution_count": 150,
   "id": "c7ce9a3f",
   "metadata": {},
   "outputs": [
    {
     "name": "stdout",
     "output_type": "stream",
     "text": [
      "False\n"
     ]
    }
   ],
   "source": [
    "print(\"xyyzxyzxzxyy\".endswith(\"xyy\", 0, 2))#The function returns False if the given string does not end with the specified substring."
   ]
  },
  {
   "cell_type": "code",
   "execution_count": 151,
   "id": "b5b82ca6",
   "metadata": {},
   "outputs": [
    {
     "name": "stdout",
     "output_type": "stream",
     "text": [
      "ab      cd      ef\n"
     ]
    }
   ],
   "source": [
    "print(\"ab\\tcd\\tef\".expandtabs()) #Each \\t is converted to 8 blank spaces by default."
   ]
  },
  {
   "cell_type": "code",
   "execution_count": 152,
   "id": "bfcc13a6",
   "metadata": {},
   "outputs": [
    {
     "name": "stdout",
     "output_type": "stream",
     "text": [
      "ab  cd  ef\n"
     ]
    }
   ],
   "source": [
    "print(\"ab\\tcd\\tef\".expandtabs(4))"
   ]
  },
  {
   "cell_type": "code",
   "execution_count": 153,
   "id": "c594c772",
   "metadata": {},
   "outputs": [
    {
     "ename": "TypeError",
     "evalue": "an integer is required (got type str)",
     "output_type": "error",
     "traceback": [
      "\u001b[1;31m---------------------------------------------------------------------------\u001b[0m",
      "\u001b[1;31mTypeError\u001b[0m                                 Traceback (most recent call last)",
      "Cell \u001b[1;32mIn[153], line 1\u001b[0m\n\u001b[1;32m----> 1\u001b[0m \u001b[38;5;28mprint\u001b[39m(\u001b[38;5;124;43m\"\u001b[39;49m\u001b[38;5;124;43mab\u001b[39;49m\u001b[38;5;130;43;01m\\t\u001b[39;49;00m\u001b[38;5;124;43mcd\u001b[39;49m\u001b[38;5;130;43;01m\\t\u001b[39;49;00m\u001b[38;5;124;43mef\u001b[39;49m\u001b[38;5;124;43m\"\u001b[39;49m\u001b[38;5;241;43m.\u001b[39;49m\u001b[43mexpandtabs\u001b[49m\u001b[43m(\u001b[49m\u001b[38;5;124;43m'\u001b[39;49m\u001b[38;5;124;43m+\u001b[39;49m\u001b[38;5;124;43m'\u001b[39;49m\u001b[43m)\u001b[49m)\n",
      "\u001b[1;31mTypeError\u001b[0m: an integer is required (got type str)"
     ]
    }
   ],
   "source": [
    "print(\"ab\\tcd\\tef\".expandtabs('+')) # integer should be passed"
   ]
  },
  {
   "cell_type": "code",
   "execution_count": 154,
   "id": "a7736c97",
   "metadata": {},
   "outputs": [
    {
     "name": "stdout",
     "output_type": "stream",
     "text": [
      "False\n"
     ]
    }
   ],
   "source": [
    "print(\"abcdef\".find(\"cd\") == \"cd\" in \"abcdef\") # find() returns the position of the sunstring in the given string whereas the in keyword returns a value of\n",
    "#Boolean type."
   ]
  },
  {
   "cell_type": "code",
   "execution_count": 158,
   "id": "18a27321",
   "metadata": {},
   "outputs": [
    {
     "name": "stdout",
     "output_type": "stream",
     "text": [
      "2\n"
     ]
    }
   ],
   "source": [
    "print(\"abcdef\".find(\"cd\"))"
   ]
  },
  {
   "cell_type": "code",
   "execution_count": 159,
   "id": "c3fb2aab",
   "metadata": {},
   "outputs": [
    {
     "name": "stdout",
     "output_type": "stream",
     "text": [
      "Hello foo and bin\n"
     ]
    }
   ],
   "source": [
    "print(\"Hello {} and {}\".format('foo', 'bin'))"
   ]
  },
  {
   "cell_type": "code",
   "execution_count": 161,
   "id": "50815da6",
   "metadata": {},
   "outputs": [
    {
     "ename": "KeyError",
     "evalue": "'name1'",
     "output_type": "error",
     "traceback": [
      "\u001b[1;31m---------------------------------------------------------------------------\u001b[0m",
      "\u001b[1;31mKeyError\u001b[0m                                  Traceback (most recent call last)",
      "Cell \u001b[1;32mIn[161], line 1\u001b[0m\n\u001b[1;32m----> 1\u001b[0m \u001b[38;5;28mprint\u001b[39m(\u001b[38;5;124;43m\"\u001b[39;49m\u001b[38;5;124;43mHello \u001b[39;49m\u001b[38;5;132;43;01m{name1}\u001b[39;49;00m\u001b[38;5;124;43m and \u001b[39;49m\u001b[38;5;132;43;01m{name2}\u001b[39;49;00m\u001b[38;5;124;43m\"\u001b[39;49m\u001b[38;5;241;43m.\u001b[39;49m\u001b[43mformat\u001b[49m\u001b[43m(\u001b[49m\u001b[38;5;124;43m'\u001b[39;49m\u001b[38;5;124;43mfoo\u001b[39;49m\u001b[38;5;124;43m'\u001b[39;49m\u001b[43m,\u001b[49m\u001b[43m \u001b[49m\u001b[38;5;124;43m'\u001b[39;49m\u001b[38;5;124;43mbin\u001b[39;49m\u001b[38;5;124;43m'\u001b[39;49m\u001b[43m)\u001b[49m)\n",
      "\u001b[1;31mKeyError\u001b[0m: 'name1'"
     ]
    }
   ],
   "source": [
    "print(\"Hello {name1} and {name2}\".format('foo', 'bin'))#The arguments passed to the function format \n",
    "#aren’t keyword arguments"
   ]
  },
  {
   "cell_type": "code",
   "execution_count": 162,
   "id": "b7dbfdc9",
   "metadata": {},
   "outputs": [
    {
     "name": "stdout",
     "output_type": "stream",
     "text": [
      "Hello foo and bin\n"
     ]
    }
   ],
   "source": [
    "print(\"Hello {name1} and {name2}\".format(name1='foo', name2='bin')) #The arguments are\n",
    "#accessed by their names."
   ]
  },
  {
   "cell_type": "code",
   "execution_count": 163,
   "id": "97142189",
   "metadata": {},
   "outputs": [
    {
     "name": "stdout",
     "output_type": "stream",
     "text": [
      "Hello 'foo' and foo\n"
     ]
    }
   ],
   "source": [
    "print(\"Hello {0!r} and {0!s}\".format('foo', 'bin'))\n",
    "\n",
    "'''{0} refers to the first argument ('foo').\n",
    "{0!r} uses repr('foo'), which results in the string \"'foo'\" (including the quotes).\n",
    "{0!s} uses str('foo'), which results in the string \"foo\" (without the quotes).'''"
   ]
  },
  {
   "cell_type": "code",
   "execution_count": 164,
   "id": "7aa506a6",
   "metadata": {},
   "outputs": [
    {
     "ename": "IndexError",
     "evalue": "Replacement index 1 out of range for positional args tuple",
     "output_type": "error",
     "traceback": [
      "\u001b[1;31m---------------------------------------------------------------------------\u001b[0m",
      "\u001b[1;31mIndexError\u001b[0m                                Traceback (most recent call last)",
      "Cell \u001b[1;32mIn[164], line 1\u001b[0m\n\u001b[1;32m----> 1\u001b[0m \u001b[38;5;28mprint\u001b[39m(\u001b[38;5;124;43m\"\u001b[39;49m\u001b[38;5;124;43mHello \u001b[39;49m\u001b[38;5;132;43;01m{0}\u001b[39;49;00m\u001b[38;5;124;43m and \u001b[39;49m\u001b[38;5;132;43;01m{1}\u001b[39;49;00m\u001b[38;5;124;43m\"\u001b[39;49m\u001b[38;5;241;43m.\u001b[39;49m\u001b[43mformat\u001b[49m\u001b[43m(\u001b[49m\u001b[43m(\u001b[49m\u001b[38;5;124;43m'\u001b[39;49m\u001b[38;5;124;43mfoo\u001b[39;49m\u001b[38;5;124;43m'\u001b[39;49m\u001b[43m,\u001b[49m\u001b[43m \u001b[49m\u001b[38;5;124;43m'\u001b[39;49m\u001b[38;5;124;43mbin\u001b[39;49m\u001b[38;5;124;43m'\u001b[39;49m\u001b[43m)\u001b[49m\u001b[43m)\u001b[49m)\n",
      "\u001b[1;31mIndexError\u001b[0m: Replacement index 1 out of range for positional args tuple"
     ]
    }
   ],
   "source": [
    "print(\"Hello {0} and {1}\".format(('foo', 'bin')))"
   ]
  },
  {
   "cell_type": "code",
   "execution_count": 166,
   "id": "2af722de",
   "metadata": {},
   "outputs": [
    {
     "name": "stdout",
     "output_type": "stream",
     "text": [
      "Hello foo and bin\n"
     ]
    }
   ],
   "source": [
    "print(\"Hello {0} and {1}\".format(*('foo', 'bin')))"
   ]
  },
  {
   "cell_type": "code",
   "execution_count": 165,
   "id": "be33c2dd",
   "metadata": {},
   "outputs": [
    {
     "name": "stdout",
     "output_type": "stream",
     "text": [
      "Hello foo and bin\n"
     ]
    }
   ],
   "source": [
    "print(\"Hello {0[0]} and {0[1]}\".format(('foo', 'bin'))) \n",
    "#The elements of the tuple are accessed by their indices."
   ]
  },
  {
   "cell_type": "code",
   "execution_count": 167,
   "id": "600a326b",
   "metadata": {},
   "outputs": [
    {
     "name": "stdout",
     "output_type": "stream",
     "text": [
      "The sum of 2 and 10 is 12\n"
     ]
    }
   ],
   "source": [
    "print('The sum of {0} and {1} is {2}'.format(2, 10, 12))\n",
    "#The arguments passed to the function format can be integers also."
   ]
  },
  {
   "cell_type": "code",
   "execution_count": 168,
   "id": "b5b49ff6",
   "metadata": {},
   "outputs": [
    {
     "name": "stdout",
     "output_type": "stream",
     "text": [
      "The sum of 10 and a is 14\n"
     ]
    }
   ],
   "source": [
    "print('The sum of {0:b} and {1:x} is {2:o}'.format(2, 10, 12))\n",
    "#Explanation: 2 is converted to binary, 10 to hexadecimal and 12 to octal."
   ]
  },
  {
   "cell_type": "code",
   "execution_count": 169,
   "id": "cd7c8249",
   "metadata": {},
   "outputs": [
    {
     "name": "stdout",
     "output_type": "stream",
     "text": [
      "1,112,223,334\n"
     ]
    }
   ],
   "source": [
    "print('{:,}'.format(1112223334))\n",
    "#A comma is added after every third digit from the right"
   ]
  },
  {
   "cell_type": "code",
   "execution_count": 170,
   "id": "374276a3",
   "metadata": {},
   "outputs": [
    {
     "ename": "ValueError",
     "evalue": "Cannot specify ',' with 's'.",
     "output_type": "error",
     "traceback": [
      "\u001b[1;31m---------------------------------------------------------------------------\u001b[0m",
      "\u001b[1;31mValueError\u001b[0m                                Traceback (most recent call last)",
      "Cell \u001b[1;32mIn[170], line 1\u001b[0m\n\u001b[1;32m----> 1\u001b[0m \u001b[38;5;28mprint\u001b[39m(\u001b[38;5;124;43m'\u001b[39;49m\u001b[38;5;132;43;01m{:,}\u001b[39;49;00m\u001b[38;5;124;43m'\u001b[39;49m\u001b[38;5;241;43m.\u001b[39;49m\u001b[43mformat\u001b[49m\u001b[43m(\u001b[49m\u001b[38;5;124;43m'\u001b[39;49m\u001b[38;5;124;43m1112223334\u001b[39;49m\u001b[38;5;124;43m'\u001b[39;49m\u001b[43m)\u001b[49m)\n",
      "\u001b[1;31mValueError\u001b[0m: Cannot specify ',' with 's'."
     ]
    }
   ],
   "source": [
    "print('{:,}'.format('1112223334'))\n",
    "#An integer is expected."
   ]
  },
  {
   "cell_type": "code",
   "execution_count": 171,
   "id": "39757119",
   "metadata": {},
   "outputs": [
    {
     "ename": "ValueError",
     "evalue": "Unknown format code '$' for object of type 'int'",
     "output_type": "error",
     "traceback": [
      "\u001b[1;31m---------------------------------------------------------------------------\u001b[0m",
      "\u001b[1;31mValueError\u001b[0m                                Traceback (most recent call last)",
      "Cell \u001b[1;32mIn[171], line 1\u001b[0m\n\u001b[1;32m----> 1\u001b[0m \u001b[38;5;28mprint\u001b[39m(\u001b[38;5;124;43m'\u001b[39;49m\u001b[38;5;124;43m{\u001b[39;49m\u001b[38;5;124;43m:$}\u001b[39;49m\u001b[38;5;124;43m'\u001b[39;49m\u001b[38;5;241;43m.\u001b[39;49m\u001b[43mformat\u001b[49m\u001b[43m(\u001b[49m\u001b[38;5;241;43m1112223334\u001b[39;49m\u001b[43m)\u001b[49m)\n",
      "\u001b[1;31mValueError\u001b[0m: Unknown format code '$' for object of type 'int'"
     ]
    }
   ],
   "source": [
    "print('{:$}'.format(1112223334))\n",
    "#$ is an invalid format code."
   ]
  },
  {
   "cell_type": "code",
   "execution_count": 172,
   "id": "b6788fbc",
   "metadata": {},
   "outputs": [
    {
     "name": "stdout",
     "output_type": "stream",
     "text": [
      "1112223334\n"
     ]
    }
   ],
   "source": [
    "print('{:#}'.format(1112223334))"
   ]
  },
  {
   "cell_type": "code",
   "execution_count": 173,
   "id": "f29ed03f",
   "metadata": {},
   "outputs": [
    {
     "name": "stdout",
     "output_type": "stream",
     "text": [
      "0.33\n"
     ]
    }
   ],
   "source": [
    "print('{0:.2}'.format(1/3))\n",
    "# .2 specifies the precision"
   ]
  },
  {
   "cell_type": "code",
   "execution_count": 174,
   "id": "346f18f9",
   "metadata": {},
   "outputs": [
    {
     "name": "stdout",
     "output_type": "stream",
     "text": [
      "33.33%\n"
     ]
    }
   ],
   "source": [
    "print('{0:.2%}'.format(1/3))\n",
    "#The symbol % is used to represent the result of an expression as a percentage."
   ]
  },
  {
   "cell_type": "code",
   "execution_count": 175,
   "id": "6b0b28d9",
   "metadata": {},
   "outputs": [
    {
     "name": "stdout",
     "output_type": "stream",
     "text": [
      "True\n"
     ]
    }
   ],
   "source": [
    "print('my_string'.isidentifier())"
   ]
  },
  {
   "cell_type": "code",
   "execution_count": 176,
   "id": "02b30f88",
   "metadata": {},
   "outputs": [
    {
     "name": "stdout",
     "output_type": "stream",
     "text": [
      "True\n"
     ]
    }
   ],
   "source": [
    "print('__foo__'.isidentifier())"
   ]
  },
  {
   "cell_type": "code",
   "execution_count": 182,
   "id": "026f514d",
   "metadata": {},
   "outputs": [
    {
     "name": "stdout",
     "output_type": "stream",
     "text": [
      "True\n"
     ]
    }
   ],
   "source": [
    "print('for'.isidentifier())\n",
    "#Even keywords are considered as valid identifiers."
   ]
  },
  {
   "cell_type": "code",
   "execution_count": 183,
   "id": "9ffba9a2",
   "metadata": {},
   "outputs": [
    {
     "name": "stdout",
     "output_type": "stream",
     "text": [
      "True\n"
     ]
    }
   ],
   "source": [
    "print('abc'.islower())"
   ]
  },
  {
   "cell_type": "code",
   "execution_count": 184,
   "id": "33d95da1",
   "metadata": {},
   "outputs": [
    {
     "name": "stdout",
     "output_type": "stream",
     "text": [
      "True\n"
     ]
    }
   ],
   "source": [
    "print('a@ 1,'.islower())"
   ]
  },
  {
   "cell_type": "code",
   "execution_count": 186,
   "id": "5a1a0bdb",
   "metadata": {},
   "outputs": [
    {
     "name": "stdout",
     "output_type": "stream",
     "text": [
      "False\n"
     ]
    }
   ],
   "source": [
    "print('1.1'.isnumeric())"
   ]
  },
  {
   "cell_type": "code",
   "execution_count": 187,
   "id": "4a1c754f",
   "metadata": {},
   "outputs": [
    {
     "name": "stdout",
     "output_type": "stream",
     "text": [
      "True\n"
     ]
    }
   ],
   "source": [
    "print('1@ a'.isprintable())"
   ]
  },
  {
   "cell_type": "code",
   "execution_count": 188,
   "id": "63d192df",
   "metadata": {},
   "outputs": [
    {
     "name": "stdout",
     "output_type": "stream",
     "text": [
      "False\n"
     ]
    }
   ],
   "source": [
    "print(''''''.isspace())"
   ]
  },
  {
   "cell_type": "code",
   "execution_count": 189,
   "id": "ccb8fe65",
   "metadata": {},
   "outputs": [
    {
     "name": "stdout",
     "output_type": "stream",
     "text": [
      "True\n"
     ]
    }
   ],
   "source": [
    "print('\\t'.isspace())\n",
    "#Tab Spaces are considered as spaces."
   ]
  },
  {
   "cell_type": "code",
   "execution_count": 190,
   "id": "c18646ae",
   "metadata": {},
   "outputs": [
    {
     "name": "stdout",
     "output_type": "stream",
     "text": [
      "False\n"
     ]
    }
   ],
   "source": [
    "print('HelloWorld'.istitle())"
   ]
  },
  {
   "cell_type": "code",
   "execution_count": 191,
   "id": "14f5db2d",
   "metadata": {},
   "outputs": [
    {
     "name": "stdout",
     "output_type": "stream",
     "text": [
      "True\n"
     ]
    }
   ],
   "source": [
    "print('Hello World'.istitle())"
   ]
  },
  {
   "cell_type": "code",
   "execution_count": 192,
   "id": "6b5c6ddf",
   "metadata": {},
   "outputs": [
    {
     "name": "stdout",
     "output_type": "stream",
     "text": [
      "foo\n"
     ]
    }
   ],
   "source": [
    "print('''\n",
    " \\tfoo'''.lstrip())"
   ]
  },
  {
   "cell_type": "code",
   "execution_count": 193,
   "id": "1ca11af8",
   "metadata": {},
   "outputs": [
    {
     "name": "stdout",
     "output_type": "stream",
     "text": [
      "zxxyxyy\n"
     ]
    }
   ],
   "source": [
    "print('xyyzxxyxyy'.lstrip('xyy'))"
   ]
  },
  {
   "cell_type": "code",
   "execution_count": 194,
   "id": "ed2fda96",
   "metadata": {},
   "outputs": [
    {
     "name": "stdout",
     "output_type": "stream",
     "text": [
      "zxxy\n"
     ]
    }
   ],
   "source": [
    "print('xyxxyyzxxy'.lstrip('xyy'))"
   ]
  },
  {
   "cell_type": "code",
   "execution_count": 195,
   "id": "c8a0b527",
   "metadata": {},
   "outputs": [
    {
     "name": "stdout",
     "output_type": "stream",
     "text": [
      "{97: 49, 98: 50, 99: 51}\n"
     ]
    }
   ],
   "source": [
    "print('cba'.maketrans('abc', '123'))\n",
    "#A translation table is returned by maketrans.\n",
    "#The character 'a' from the first string is mapped to '1' from the second string.\n",
    "#97: 49 means that the character with Unicode code point 97 (which is 'a') is mapped to the character with Unicode code\n",
    "#point 49 (which is '1')."
   ]
  },
  {
   "cell_type": "code",
   "execution_count": 196,
   "id": "65c5b61a",
   "metadata": {},
   "outputs": [
    {
     "name": "stdout",
     "output_type": "stream",
     "text": [
      "{65: 49, 66: 50, 67: 51}\n"
     ]
    }
   ],
   "source": [
    "print('a'.maketrans('ABC', '123'))\n",
    "#maketrans() is a static method so it’s behaviour does not depend on the object from which it is being called."
   ]
  },
  {
   "cell_type": "code",
   "execution_count": 197,
   "id": "010640c7",
   "metadata": {},
   "outputs": [
    {
     "name": "stdout",
     "output_type": "stream",
     "text": [
      "('ab', 'cd', 'ef')\n"
     ]
    }
   ],
   "source": [
    "print('abcdef'.partition('cd'))\n",
    "#The string is split into three parts by partition"
   ]
  },
  {
   "cell_type": "code",
   "execution_count": 198,
   "id": "f2a5fe12",
   "metadata": {},
   "outputs": [
    {
     "name": "stdout",
     "output_type": "stream",
     "text": [
      "('ab', 'cd', 'efcdgh')\n"
     ]
    }
   ],
   "source": [
    "print('abcdefcdgh'.partition('cd'))"
   ]
  },
  {
   "cell_type": "code",
   "execution_count": 199,
   "id": "218db800",
   "metadata": {},
   "outputs": [
    {
     "name": "stdout",
     "output_type": "stream",
     "text": [
      "('ab', 'cd', '')\n"
     ]
    }
   ],
   "source": [
    "print('abcd'.partition('cd'))\n",
    "#The last item is a null string."
   ]
  },
  {
   "cell_type": "code",
   "execution_count": null,
   "id": "23c660ad",
   "metadata": {},
   "outputs": [],
   "source": [
    "print('cd'.partition('cd'))\n",
    "#The entire string has been passed as the separator hence the first\n",
    "#and the last item of the tuple returned are null strings."
   ]
  },
  {
   "cell_type": "code",
   "execution_count": 200,
   "id": "77131f32",
   "metadata": {},
   "outputs": [
    {
     "name": "stdout",
     "output_type": "stream",
     "text": [
      "('abef', '', '')\n"
     ]
    }
   ],
   "source": [
    "print('abef'.partition('cd'))\n",
    "#The separator is not present in the string hence the second and the third elements of\n",
    "#the tuple are null strings."
   ]
  },
  {
   "cell_type": "code",
   "execution_count": 203,
   "id": "438fb002",
   "metadata": {},
   "outputs": [
    {
     "name": "stdout",
     "output_type": "stream",
     "text": [
      "12yxyyxyxyxxy\n",
      "xyyxyyxyxyxxy\n"
     ]
    }
   ],
   "source": [
    "print('xyyxyyxyxyxxy'.replace('xy', '12', 1))\n",
    "print('xyyxyyxyxyxxy'.replace('xy', '12', 0))"
   ]
  },
  {
   "cell_type": "code",
   "execution_count": 204,
   "id": "32d3befa",
   "metadata": {},
   "outputs": [
    {
     "name": "stdout",
     "output_type": "stream",
     "text": [
      "12y12y1212x12\n"
     ]
    }
   ],
   "source": [
    "print('xyyxyyxyxyxxy'.replace('xy', '12', 100))\n",
    "#The first 100 occurrences of the given substring are replaced."
   ]
  },
  {
   "cell_type": "code",
   "execution_count": 205,
   "id": "3baf4a1e",
   "metadata": {},
   "outputs": [
    {
     "name": "stdout",
     "output_type": "stream",
     "text": [
      "['ab', 'ef', 'gh', '']\n"
     ]
    }
   ],
   "source": [
    "print('abcdefcdghcd'.split('cd'))\n",
    "#The given string is split and a list of substrings is returned."
   ]
  },
  {
   "cell_type": "code",
   "execution_count": 210,
   "id": "3ce0e477",
   "metadata": {},
   "outputs": [
    {
     "name": "stdout",
     "output_type": "stream",
     "text": [
      "['abcdefcdghcd']\n",
      "['ab', 'efcdghcd']\n",
      "['ab', 'ef', 'ghcd']\n"
     ]
    }
   ],
   "source": [
    "print('abcdefcdghcd'.split('cd', 0))\n",
    "#The given string is split at 0 occurances of the specified substring.\n",
    "print('abcdefcdghcd'.split('cd', 1))\n",
    "print('abcdefcdghcd'.split('cd', 2))\n",
    "#he string is split into a maximum of maxsplit+1 substrings."
   ]
  },
  {
   "cell_type": "code",
   "execution_count": 208,
   "id": "aaab52dd",
   "metadata": {},
   "outputs": [
    {
     "name": "stdout",
     "output_type": "stream",
     "text": [
      "['ab', 'ef', 'gh', '']\n"
     ]
    }
   ],
   "source": [
    "print('abcdefcdghcd'.split('cd', -1))\n",
    "#Calling the function with a negative value for maxsplit is the same as calling it without any maxsplit specified. The string will be split\n",
    "#into as many substring s as possible."
   ]
  },
  {
   "cell_type": "code",
   "execution_count": 212,
   "id": "aed82e2f",
   "metadata": {},
   "outputs": [
    {
     "name": "stdout",
     "output_type": "stream",
     "text": [
      "['ab', 'cd', 'ef']\n"
     ]
    }
   ],
   "source": [
    "print('ab\\ncd\\nef'.splitlines())\n",
    "# It is similar to calling split(‘\\n’)"
   ]
  },
  {
   "cell_type": "code",
   "execution_count": 213,
   "id": "2a486fa8",
   "metadata": {},
   "outputs": [
    {
     "name": "stdout",
     "output_type": "stream",
     "text": [
      "aB!2\n"
     ]
    }
   ],
   "source": [
    "print('Ab!2'.swapcase())\n",
    "#Lowercase letters are converted to uppercase and vice-versa."
   ]
  },
  {
   "cell_type": "code",
   "execution_count": 214,
   "id": "4985f74c",
   "metadata": {},
   "outputs": [
    {
     "name": "stdout",
     "output_type": "stream",
     "text": [
      "bcdd\n"
     ]
    }
   ],
   "source": [
    "#DOUBT\n",
    "print('abcd'.translate('a'.maketrans('abc', 'bcd')))\n",
    "#The output is bcdd since no translation is provided for d"
   ]
  },
  {
   "cell_type": "code",
   "execution_count": 215,
   "id": "30fda395",
   "metadata": {},
   "outputs": [
    {
     "name": "stdout",
     "output_type": "stream",
     "text": [
      "bcdd\n"
     ]
    }
   ],
   "source": [
    "print('abcd'.translate({97: 98, 98: 99, 99: 100})) # B IN C"
   ]
  },
  {
   "cell_type": "code",
   "execution_count": 216,
   "id": "f8f5c95d",
   "metadata": {},
   "outputs": [
    {
     "name": "stdout",
     "output_type": "stream",
     "text": [
      "abcd\n"
     ]
    }
   ],
   "source": [
    "print('abcd'.translate({'a': '1', 'b': '2', 'c': '3', 'd': '4'}))\n",
    "#The function translate expects a dictionary of integers. Use maketrans() instead of doing the above."
   ]
  },
  {
   "cell_type": "code",
   "execution_count": 217,
   "id": "8b275399",
   "metadata": {},
   "outputs": [
    {
     "name": "stdout",
     "output_type": "stream",
     "text": [
      "{97: '1', 98: '2', 99: '3', 100: '4'}\n"
     ]
    }
   ],
   "source": [
    "print('abcd'.maketrans({'a': '1', 'b': '2', 'c': '3', 'd': '4'}))"
   ]
  },
  {
   "cell_type": "code",
   "execution_count": 218,
   "id": "dae6e9ce",
   "metadata": {},
   "outputs": [
    {
     "name": "stdout",
     "output_type": "stream",
     "text": [
      "000ab\n"
     ]
    }
   ],
   "source": [
    "print('ab'.zfill(5))\n",
    "#The string is padded with zeros on the left hand side. It is useful for formatting numbers."
   ]
  },
  {
   "cell_type": "code",
   "execution_count": 219,
   "id": "2b40d9f4",
   "metadata": {},
   "outputs": [
    {
     "name": "stdout",
     "output_type": "stream",
     "text": [
      "+0099\n"
     ]
    }
   ],
   "source": [
    "print('+99'.zfill(5))\n",
    "#zeros are filled in between the first sign and the rest of the string."
   ]
  },
  {
   "cell_type": "code",
   "execution_count": null,
   "id": "c19511ae",
   "metadata": {},
   "outputs": [],
   "source": []
  },
  {
   "cell_type": "code",
   "execution_count": null,
   "id": "27b3adc3",
   "metadata": {},
   "outputs": [],
   "source": []
  },
  {
   "cell_type": "code",
   "execution_count": null,
   "id": "e85fcd7e",
   "metadata": {},
   "outputs": [],
   "source": []
  },
  {
   "cell_type": "code",
   "execution_count": null,
   "id": "99ec532d",
   "metadata": {},
   "outputs": [],
   "source": []
  },
  {
   "cell_type": "code",
   "execution_count": null,
   "id": "148641c4",
   "metadata": {},
   "outputs": [],
   "source": []
  }
 ],
 "metadata": {
  "kernelspec": {
   "display_name": "Python 3 (ipykernel)",
   "language": "python",
   "name": "python3"
  },
  "language_info": {
   "codemirror_mode": {
    "name": "ipython",
    "version": 3
   },
   "file_extension": ".py",
   "mimetype": "text/x-python",
   "name": "python",
   "nbconvert_exporter": "python",
   "pygments_lexer": "ipython3",
   "version": "3.9.13"
  }
 },
 "nbformat": 4,
 "nbformat_minor": 5
}
