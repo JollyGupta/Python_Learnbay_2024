{
 "cells": [
  {
   "cell_type": "code",
   "execution_count": null,
   "id": "06f4601c-9d8d-41c5-85fb-70598f7863cf",
   "metadata": {},
   "outputs": [],
   "source": [
    "- textfiles --> .txt , .pdf , .doc\n",
    "\n",
    "- binary --> images , audio , video "
   ]
  },
  {
   "cell_type": "markdown",
   "id": "b19138fa-cce0-4146-ab76-cbef9857d574",
   "metadata": {},
   "source": [
    "# Point to remember \n",
    "\n",
    "1. To read or write into the file first we need to open the file\n",
    "\n",
    "syntax:-\n",
    "    var = open('file_path/file_name.ext' , 'mode')\n",
    "\n",
    "    var.close()\n",
    "\n",
    "            Closing a file is very imp ortherwise the changes will not reflect\n",
    "\n",
    "2. The data read from a file will always be in a form of string\n",
    "\n",
    "3. modes of operation --> text files\n",
    "- read mode ---> 'r'\n",
    "- write mode ---> 'w'\n",
    "- append mode ---> 'a'\n",
    "- read and write mode --> 'r+'\n",
    "- write and read mode --> 'w+'\n",
    "- append and read mode ---> 'a+'\n",
    "\n",
    "4. modes of operation ---> binary files\n",
    "- read mode ---> 'rb'\n",
    "- write mode ---> 'wb'\n",
    "- append mode ---> 'ab'\n",
    "- read and write mode --> 'r+b'\n",
    "- write and read mode --> 'w+b'\n",
    "- append and read mode ---> 'a+b'\n",
    "\n",
    "5. methods on file object\n",
    "- read() ---> Read the content from the file\n",
    "- write() ----> write the content into the file\n",
    "- tell() ---> tells us the position of the cursor\n",
    "- seek() ---> move the cursor to any specific index value\n",
    "- flush()"
   ]
  },
  {
   "cell_type": "code",
   "execution_count": null,
   "id": "9121a6b0-0ca9-4eb9-99c6-012c801dd455",
   "metadata": {},
   "outputs": [],
   "source": [
    "# read mode --> 'r'\n",
    "\n",
    "- If the file does not exist It'll throw an FileNotFound error\n",
    "- If the file exist then it'll open the file And placess the cursor at the begining of the file\n",
    "- You can only read the data from the file, But never write into it"
   ]
  },
  {
   "cell_type": "code",
   "execution_count": 3,
   "id": "fda46bcb-5862-432c-bb9f-0c7c6adc60ce",
   "metadata": {},
   "outputs": [
    {
     "ename": "FileNotFoundError",
     "evalue": "[Errno 2] No such file or directory: 'file_handling/read_mode.txt'",
     "output_type": "error",
     "traceback": [
      "\u001b[1;31m---------------------------------------------------------------------------\u001b[0m",
      "\u001b[1;31mFileNotFoundError\u001b[0m                         Traceback (most recent call last)",
      "Cell \u001b[1;32mIn[3], line 3\u001b[0m\n\u001b[0;32m      1\u001b[0m \u001b[38;5;66;03m# If the file does not exist It'll throw an FileNotFound error\u001b[39;00m\n\u001b[1;32m----> 3\u001b[0m f \u001b[38;5;241m=\u001b[39m \u001b[38;5;28mopen\u001b[39m(\u001b[38;5;124m'\u001b[39m\u001b[38;5;124mfile_handling/read_mode.txt\u001b[39m\u001b[38;5;124m'\u001b[39m , \u001b[38;5;124m'\u001b[39m\u001b[38;5;124mr\u001b[39m\u001b[38;5;124m'\u001b[39m)\n",
      "File \u001b[1;32m~\\anaconda3\\Lib\\site-packages\\IPython\\core\\interactiveshell.py:310\u001b[0m, in \u001b[0;36m_modified_open\u001b[1;34m(file, *args, **kwargs)\u001b[0m\n\u001b[0;32m    303\u001b[0m \u001b[38;5;28;01mif\u001b[39;00m file \u001b[38;5;129;01min\u001b[39;00m {\u001b[38;5;241m0\u001b[39m, \u001b[38;5;241m1\u001b[39m, \u001b[38;5;241m2\u001b[39m}:\n\u001b[0;32m    304\u001b[0m     \u001b[38;5;28;01mraise\u001b[39;00m \u001b[38;5;167;01mValueError\u001b[39;00m(\n\u001b[0;32m    305\u001b[0m         \u001b[38;5;124mf\u001b[39m\u001b[38;5;124m\"\u001b[39m\u001b[38;5;124mIPython won\u001b[39m\u001b[38;5;124m'\u001b[39m\u001b[38;5;124mt let you open fd=\u001b[39m\u001b[38;5;132;01m{\u001b[39;00mfile\u001b[38;5;132;01m}\u001b[39;00m\u001b[38;5;124m by default \u001b[39m\u001b[38;5;124m\"\u001b[39m\n\u001b[0;32m    306\u001b[0m         \u001b[38;5;124m\"\u001b[39m\u001b[38;5;124mas it is likely to crash IPython. If you know what you are doing, \u001b[39m\u001b[38;5;124m\"\u001b[39m\n\u001b[0;32m    307\u001b[0m         \u001b[38;5;124m\"\u001b[39m\u001b[38;5;124myou can use builtins\u001b[39m\u001b[38;5;124m'\u001b[39m\u001b[38;5;124m open.\u001b[39m\u001b[38;5;124m\"\u001b[39m\n\u001b[0;32m    308\u001b[0m     )\n\u001b[1;32m--> 310\u001b[0m \u001b[38;5;28;01mreturn\u001b[39;00m io_open(file, \u001b[38;5;241m*\u001b[39margs, \u001b[38;5;241m*\u001b[39m\u001b[38;5;241m*\u001b[39mkwargs)\n",
      "\u001b[1;31mFileNotFoundError\u001b[0m: [Errno 2] No such file or directory: 'file_handling/read_mode.txt'"
     ]
    }
   ],
   "source": [
    "# If the file does not exist It'll throw an FileNotFound error\n",
    "\n",
    "f = open('file_handling/read_mode.txt' , 'r')"
   ]
  },
  {
   "cell_type": "code",
   "execution_count": null,
   "id": "85dfb5d8-3381-46d8-b59c-ae2977731d3a",
   "metadata": {},
   "outputs": [],
   "source": []
  },
  {
   "cell_type": "code",
   "execution_count": 4,
   "id": "42728604-1c58-409b-ae9e-4de8d688de88",
   "metadata": {},
   "outputs": [
    {
     "name": "stdout",
     "output_type": "stream",
     "text": [
      "0\n"
     ]
    }
   ],
   "source": [
    "# If the file exist then it'll open the file And placess the cursor at the begining of the file\n",
    "\n",
    "f = open('file_handling/read_mode.txt' , 'r')\n",
    "\n",
    "print(f.tell())"
   ]
  },
  {
   "cell_type": "code",
   "execution_count": 9,
   "id": "867711f6-7e15-402a-ba34-eb3f41cab32f",
   "metadata": {},
   "outputs": [
    {
     "name": "stdout",
     "output_type": "stream",
     "text": [
      "0\n"
     ]
    }
   ],
   "source": [
    "f = open('C:/Users/Mohammed Israr/Desktop/Ongoing classes/19_April_Weekday_morning/file_handling/read_mode.txt' , 'r')\n",
    "\n",
    "print(f.tell())"
   ]
  },
  {
   "cell_type": "code",
   "execution_count": 12,
   "id": "5a9831c0-94b2-4646-ada0-e67dd3126e0a",
   "metadata": {},
   "outputs": [
    {
     "name": "stdout",
     "output_type": "stream",
     "text": [
      "0\n",
      "Hello world <class 'str'>\n"
     ]
    }
   ],
   "source": [
    "f = open('file_handling/read_mode.txt' , 'r')\n",
    "\n",
    "print(f.tell())\n",
    "\n",
    "a = f.read()\n",
    "\n",
    "print(a , type(a))"
   ]
  },
  {
   "cell_type": "code",
   "execution_count": 13,
   "id": "75064f4f-24bc-41e0-bad6-51b6ff3f8b8d",
   "metadata": {},
   "outputs": [
    {
     "name": "stdout",
     "output_type": "stream",
     "text": [
      "0\n",
      "2323232 <class 'str'>\n"
     ]
    }
   ],
   "source": [
    "f = open('file_handling/read_mode.txt' , 'r')\n",
    "\n",
    "print(f.tell())\n",
    "\n",
    "a = f.read()\n",
    "\n",
    "print(a , type(a))"
   ]
  },
  {
   "cell_type": "code",
   "execution_count": 16,
   "id": "a3385521-a6fc-4131-9a57-f821ed86d586",
   "metadata": {},
   "outputs": [
    {
     "name": "stdout",
     "output_type": "stream",
     "text": [
      "0\n",
      "world <class 'str'>\n"
     ]
    }
   ],
   "source": [
    "f = open('file_handling/read_mode.txt' , 'r')\n",
    "\n",
    "print(f.tell())\n",
    "\n",
    "f.seek(6)\n",
    "\n",
    "a = f.read()\n",
    "\n",
    "print(a , type(a))"
   ]
  },
  {
   "cell_type": "code",
   "execution_count": 18,
   "id": "da5fa2b1-e1fc-416c-882d-ed7db36cbe7c",
   "metadata": {},
   "outputs": [
    {
     "name": "stdout",
     "output_type": "stream",
     "text": [
      "0\n",
      "world <class 'str'>\n"
     ]
    }
   ],
   "source": [
    "f = open('file_handling/read_mode.txt' , 'r')\n",
    "\n",
    "print(f.tell())\n",
    "\n",
    "f.seek(6)\n",
    "\n",
    "a = f.read()\n",
    "\n",
    "print(a , type(a))"
   ]
  },
  {
   "cell_type": "code",
   "execution_count": 21,
   "id": "d814ba2e-d485-44ee-a083-9eca0b67d6e0",
   "metadata": {},
   "outputs": [
    {
     "name": "stdout",
     "output_type": "stream",
     "text": [
      "0\n",
      "w <class 'str'>\n"
     ]
    }
   ],
   "source": [
    "f = open('file_handling/read_mode.txt' , 'r')\n",
    "\n",
    "print(f.tell())\n",
    "\n",
    "f.seek(6)\n",
    "\n",
    "a = f.read(1)\n",
    "\n",
    "print(a , type(a))"
   ]
  },
  {
   "cell_type": "code",
   "execution_count": 22,
   "id": "c8e24f57-2f19-466a-9ff6-ba97d6b35d3a",
   "metadata": {},
   "outputs": [
    {
     "name": "stdout",
     "output_type": "stream",
     "text": [
      "0\n",
      "Hello world\n",
      "python\n",
      "java <class 'str'>\n"
     ]
    }
   ],
   "source": [
    "f = open('file_handling/read_mode.txt' , 'r')\n",
    "\n",
    "print(f.tell())\n",
    "\n",
    "a = f.read()\n",
    "\n",
    "print(a , type(a))"
   ]
  },
  {
   "cell_type": "code",
   "execution_count": null,
   "id": "04005200-cb4c-4c56-9367-be4908dba752",
   "metadata": {},
   "outputs": [],
   "source": [
    "f = open('file_handling/read_mode.txt' , 'r')\n",
    "\n",
    "print(f.tell())\n",
    "\n",
    "a = f.read()\n",
    "\n",
    "print(a , type(a))"
   ]
  },
  {
   "cell_type": "code",
   "execution_count": 26,
   "id": "58d88c6f-49cc-472c-b726-af69005dd388",
   "metadata": {},
   "outputs": [
    {
     "name": "stdout",
     "output_type": "stream",
     "text": [
      "0\n",
      "Hello world\n",
      "11\n"
     ]
    }
   ],
   "source": [
    "f = open('file_handling/read_mode.txt' , 'r')\n",
    "\n",
    "print(f.tell())\n",
    "\n",
    "print(f.read())\n",
    "\n",
    "print(f.tell())"
   ]
  },
  {
   "cell_type": "code",
   "execution_count": 27,
   "id": "583e33b7-e224-4333-a760-f9fc14159438",
   "metadata": {},
   "outputs": [
    {
     "name": "stdout",
     "output_type": "stream",
     "text": [
      "0\n"
     ]
    },
    {
     "ename": "UnsupportedOperation",
     "evalue": "not writable",
     "output_type": "error",
     "traceback": [
      "\u001b[1;31m---------------------------------------------------------------------------\u001b[0m",
      "\u001b[1;31mUnsupportedOperation\u001b[0m                      Traceback (most recent call last)",
      "Cell \u001b[1;32mIn[27], line 5\u001b[0m\n\u001b[0;32m      1\u001b[0m f \u001b[38;5;241m=\u001b[39m \u001b[38;5;28mopen\u001b[39m(\u001b[38;5;124m'\u001b[39m\u001b[38;5;124mfile_handling/read_mode.txt\u001b[39m\u001b[38;5;124m'\u001b[39m , \u001b[38;5;124m'\u001b[39m\u001b[38;5;124mr\u001b[39m\u001b[38;5;124m'\u001b[39m)\n\u001b[0;32m      3\u001b[0m \u001b[38;5;28mprint\u001b[39m(f\u001b[38;5;241m.\u001b[39mtell())\n\u001b[1;32m----> 5\u001b[0m f\u001b[38;5;241m.\u001b[39mwrite(\u001b[38;5;124m'\u001b[39m\u001b[38;5;124mNew_data\u001b[39m\u001b[38;5;124m'\u001b[39m)\n",
      "\u001b[1;31mUnsupportedOperation\u001b[0m: not writable"
     ]
    }
   ],
   "source": [
    "f = open('file_handling/read_mode.txt' , 'r')\n",
    "\n",
    "print(f.tell())\n",
    "\n",
    "f.write('New_data')"
   ]
  },
  {
   "cell_type": "markdown",
   "id": "1fdd9b17-f6fc-472b-a432-3809ad7ffb4f",
   "metadata": {},
   "source": [
    "# write mode --> 'w'\n",
    "\n",
    "- If the file does not exist It'll create a file with the name and extension\n",
    "- If the file exist then it'll open the file And deletes the previous data\n",
    "- You can only write the data into the file, But never read from it"
   ]
  },
  {
   "cell_type": "code",
   "execution_count": 28,
   "id": "f00b1f90-e3d0-4839-a987-0039188eb9b8",
   "metadata": {},
   "outputs": [],
   "source": [
    "f = open('file_handling/write_mode.txt' , 'w')"
   ]
  },
  {
   "cell_type": "code",
   "execution_count": 32,
   "id": "c5b5a51b-4467-4396-bdd0-0eaa1cbea98b",
   "metadata": {},
   "outputs": [
    {
     "name": "stdout",
     "output_type": "stream",
     "text": [
      "11\n"
     ]
    }
   ],
   "source": [
    "f = open('file_handling/write_mode.txt' , 'w')\n",
    "\n",
    "f.write('Hello world')\n",
    "\n",
    "print(f.tell())\n",
    "\n",
    "f.close()"
   ]
  },
  {
   "cell_type": "code",
   "execution_count": 38,
   "id": "e2039248-7954-4332-a2f3-71baf5a0d474",
   "metadata": {},
   "outputs": [],
   "source": [
    "f = open('file_handling/write_mode.txt' , 'w')\n",
    "\n",
    "f.write('Hello world')\n",
    "\n",
    "f.seek(6)\n",
    "\n",
    "f.write('New_insert')\n",
    "\n",
    "f.close()"
   ]
  },
  {
   "cell_type": "code",
   "execution_count": 39,
   "id": "a03d3ea2-7913-479d-858d-23070a990c8e",
   "metadata": {},
   "outputs": [
    {
     "name": "stdout",
     "output_type": "stream",
     "text": [
      "0\n"
     ]
    },
    {
     "ename": "UnsupportedOperation",
     "evalue": "not readable",
     "output_type": "error",
     "traceback": [
      "\u001b[1;31m---------------------------------------------------------------------------\u001b[0m",
      "\u001b[1;31mUnsupportedOperation\u001b[0m                      Traceback (most recent call last)",
      "Cell \u001b[1;32mIn[39], line 10\u001b[0m\n\u001b[0;32m      6\u001b[0m f\u001b[38;5;241m.\u001b[39mseek(\u001b[38;5;241m0\u001b[39m)\n\u001b[0;32m      8\u001b[0m \u001b[38;5;28mprint\u001b[39m(f\u001b[38;5;241m.\u001b[39mtell())\n\u001b[1;32m---> 10\u001b[0m f\u001b[38;5;241m.\u001b[39mread()\n",
      "\u001b[1;31mUnsupportedOperation\u001b[0m: not readable"
     ]
    }
   ],
   "source": [
    "f = open('file_handling/write_mode.txt' , 'w')\n",
    "\n",
    "f.write('Hello world')\n",
    "\n",
    "\n",
    "f.seek(0)\n",
    "\n",
    "print(f.tell())\n",
    "\n",
    "f.read()"
   ]
  },
  {
   "cell_type": "markdown",
   "id": "030b6902-db1e-4e59-936a-e97b70a7a9f6",
   "metadata": {},
   "source": [
    "# New syntax"
   ]
  },
  {
   "cell_type": "code",
   "execution_count": 41,
   "id": "fb0dc0ce-566b-464e-b898-416c0c2e49ef",
   "metadata": {},
   "outputs": [],
   "source": [
    "f = open('file_handling/write_mode.txt' , 'w')\n",
    "\n",
    "f.write('Hello world')\n",
    "\n",
    "f.seek(6)\n",
    "\n",
    "f.write('New_insert')\n",
    "\n",
    "f.close()"
   ]
  },
  {
   "cell_type": "code",
   "execution_count": 42,
   "id": "6ed2290b-3f8a-4ab9-a513-f026ba5b01f7",
   "metadata": {},
   "outputs": [
    {
     "ename": "ValueError",
     "evalue": "I/O operation on closed file.",
     "output_type": "error",
     "traceback": [
      "\u001b[1;31m---------------------------------------------------------------------------\u001b[0m",
      "\u001b[1;31mValueError\u001b[0m                                Traceback (most recent call last)",
      "Cell \u001b[1;32mIn[42], line 1\u001b[0m\n\u001b[1;32m----> 1\u001b[0m f\u001b[38;5;241m.\u001b[39mwrite(\u001b[38;5;124m'\u001b[39m\u001b[38;5;124mHello world\u001b[39m\u001b[38;5;124m'\u001b[39m)\n",
      "\u001b[1;31mValueError\u001b[0m: I/O operation on closed file."
     ]
    }
   ],
   "source": [
    "f.write('Hello world')"
   ]
  },
  {
   "cell_type": "code",
   "execution_count": 43,
   "id": "6f80450f-d988-48d3-94e2-aaf0d725bd8e",
   "metadata": {},
   "outputs": [],
   "source": [
    "f = open('file_handling/write_mode.txt' , 'w')\n",
    "\n",
    "f.write('Hello world')\n",
    "\n",
    "f.seek(6)\n",
    "\n",
    "f.write('New_insert')\n",
    "\n",
    "f.flush()"
   ]
  },
  {
   "cell_type": "code",
   "execution_count": 44,
   "id": "0c7ff307-e050-44b2-864c-d9ef12621036",
   "metadata": {},
   "outputs": [],
   "source": [
    "f.write('Hello world')\n",
    "\n",
    "f.close()"
   ]
  },
  {
   "cell_type": "code",
   "execution_count": 47,
   "id": "b135e6bc-6b80-49d1-828d-ca9c6d4b34b1",
   "metadata": {},
   "outputs": [
    {
     "name": "stdout",
     "output_type": "stream",
     "text": [
      "Hello\n"
     ]
    }
   ],
   "source": [
    "with open('file_handling/write_mode.txt' , 'w') as f:\n",
    "    f.write('Hello world')\n",
    "    f.seek(6)\n",
    "    f.flush()\n",
    "    f.write('New_insert')\n",
    "print('Hello')"
   ]
  },
  {
   "cell_type": "markdown",
   "id": "c4435d97-ee0a-437c-8578-319ee65ccfd1",
   "metadata": {},
   "source": [
    "# append mode --> 'a'\n",
    "\n",
    "- If the file does not exist It'll create a file with the name and extension\n",
    "- If the file exist then it'll open the file And places the cursor at the end of the file \n",
    "- You can only write the data into the file, But never read from it"
   ]
  },
  {
   "cell_type": "code",
   "execution_count": 48,
   "id": "8ebf397c-f2d3-4260-9e77-762e611f59fa",
   "metadata": {},
   "outputs": [],
   "source": [
    "with open('file_handling/append_mode.txt' , 'a') as f:\n",
    "    pass"
   ]
  },
  {
   "cell_type": "code",
   "execution_count": 49,
   "id": "2dbf8e65-e9de-4324-adee-bfdc96cb11b2",
   "metadata": {},
   "outputs": [
    {
     "name": "stdout",
     "output_type": "stream",
     "text": [
      "11\n"
     ]
    }
   ],
   "source": [
    "with open('file_handling/append_mode.txt' , 'a') as f:\n",
    "    print(f.tell())"
   ]
  },
  {
   "cell_type": "code",
   "execution_count": 50,
   "id": "f2ab4956-257b-4512-9dcf-6ccae546ae53",
   "metadata": {},
   "outputs": [],
   "source": [
    "with open('file_handling/append_mode.txt' , 'a') as f:\n",
    "    f.write('New_insert')"
   ]
  },
  {
   "cell_type": "code",
   "execution_count": 57,
   "id": "1aceeee2-7d89-4a3b-83f2-5c22474a3be5",
   "metadata": {},
   "outputs": [
    {
     "name": "stdout",
     "output_type": "stream",
     "text": [
      "71\n"
     ]
    }
   ],
   "source": [
    "with open('file_handling/append_mode.txt' , 'a') as f:\n",
    "    print(f.tell())\n",
    "    f.write('\\nNew_insert')"
   ]
  },
  {
   "cell_type": "code",
   "execution_count": 58,
   "id": "5078e7bb-39cc-4732-9f37-93b906b7ef16",
   "metadata": {},
   "outputs": [],
   "source": [
    "with open('file_handling/append_mode.txt' , 'a') as f:\n",
    "    f.write('hello world')\n",
    "    f.seek(6)\n",
    "    f.write('New_data')"
   ]
  },
  {
   "cell_type": "code",
   "execution_count": 59,
   "id": "f17b16ba-ef93-4a48-aab3-b75450f19a8e",
   "metadata": {},
   "outputs": [
    {
     "ename": "UnsupportedOperation",
     "evalue": "not readable",
     "output_type": "error",
     "traceback": [
      "\u001b[1;31m---------------------------------------------------------------------------\u001b[0m",
      "\u001b[1;31mUnsupportedOperation\u001b[0m                      Traceback (most recent call last)",
      "Cell \u001b[1;32mIn[59], line 4\u001b[0m\n\u001b[0;32m      2\u001b[0m f\u001b[38;5;241m.\u001b[39mwrite(\u001b[38;5;124m'\u001b[39m\u001b[38;5;124mhello world\u001b[39m\u001b[38;5;124m'\u001b[39m)\n\u001b[0;32m      3\u001b[0m f\u001b[38;5;241m.\u001b[39mseek(\u001b[38;5;241m0\u001b[39m)\n\u001b[1;32m----> 4\u001b[0m \u001b[38;5;28mprint\u001b[39m(f\u001b[38;5;241m.\u001b[39mread())\n",
      "\u001b[1;31mUnsupportedOperation\u001b[0m: not readable"
     ]
    }
   ],
   "source": [
    "with open('file_handling/append_mode.txt' , 'a') as f:\n",
    "    f.write('hello world')\n",
    "    f.seek(0)\n",
    "    print(f.read())"
   ]
  },
  {
   "cell_type": "code",
   "execution_count": null,
   "id": "683bdf05-e182-4bb9-a3c2-b23daf770445",
   "metadata": {},
   "outputs": [],
   "source": [
    "# "
   ]
  },
  {
   "cell_type": "code",
   "execution_count": null,
   "id": "ad0798f5-a327-427a-9afc-a836fb708aa8",
   "metadata": {},
   "outputs": [],
   "source": []
  }
 ],
 "metadata": {
  "kernelspec": {
   "display_name": "Python 3 (ipykernel)",
   "language": "python",
   "name": "python3"
  },
  "language_info": {
   "codemirror_mode": {
    "name": "ipython",
    "version": 3
   },
   "file_extension": ".py",
   "mimetype": "text/x-python",
   "name": "python",
   "nbconvert_exporter": "python",
   "pygments_lexer": "ipython3",
   "version": "3.11.7"
  }
 },
 "nbformat": 4,
 "nbformat_minor": 5
}
