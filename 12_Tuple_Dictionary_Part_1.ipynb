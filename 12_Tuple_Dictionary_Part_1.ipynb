{
 "cells": [
  {
   "cell_type": "markdown",
   "id": "ac8ea1a4-83a0-40b8-bad4-b06925b330d0",
   "metadata": {},
   "source": [
    "# Tuple \n",
    "- Tuples can be created by placing elements inside parentheses, separated by commas. For example, a tuple of three elements could be created like this: (1,\" hello\", True). Once created, the elements of a tuple can be accessed using indexing, just like with lists.\n",
    "\n",
    "- a tuple is a built-in data type that allows you to create immutable sequences of values. The values or items in a tuple can be of any type. This makes tuples pretty useful in those situations where you need to store heterogeneous data"
   ]
  },
  {
   "cell_type": "code",
   "execution_count": 12,
   "id": "ce41dd05-c663-4f92-ab97-f6e568fbd885",
   "metadata": {},
   "outputs": [
    {
     "name": "stdout",
     "output_type": "stream",
     "text": [
      "(2, 3, 4, 5) <class 'tuple'>\n"
     ]
    }
   ],
   "source": [
    "a = (2,3,4,5)\n",
    "\n",
    "print(a , type(a))"
   ]
  },
  {
   "cell_type": "markdown",
   "id": "0064c8cf-2e38-4fdb-ae3b-b08f59be60ee",
   "metadata": {},
   "source": [
    "# Creating a tuple"
   ]
  },
  {
   "cell_type": "code",
   "execution_count": 13,
   "id": "c672ac1d-cf8e-434e-9aea-67d704bee1f4",
   "metadata": {},
   "outputs": [
    {
     "name": "stdout",
     "output_type": "stream",
     "text": [
      "(2, 3, 4, 5) <class 'tuple'>\n"
     ]
    }
   ],
   "source": [
    "# If you already know the elements\n",
    "\n",
    "a = (2,3,4,5)\n",
    "\n",
    "print(a , type(a))"
   ]
  },
  {
   "cell_type": "code",
   "execution_count": 4,
   "id": "c4591b98-791f-44ab-a2fd-9f03276c8674",
   "metadata": {},
   "outputs": [
    {
     "name": "stdout",
     "output_type": "stream",
     "text": [
      "Enter a tuple 1,2,3\n",
      "(1, 2, 3) <class 'tuple'>\n"
     ]
    }
   ],
   "source": [
    "# taking an inpput fromthe user\n",
    "\n",
    "a = eval(input('Enter a tuple '))\n",
    "\n",
    "print(a , type(a))"
   ]
  },
  {
   "cell_type": "code",
   "execution_count": 2,
   "id": "c33d90a0-52f1-4d9d-884b-88530e3d7680",
   "metadata": {},
   "outputs": [
    {
     "name": "stdout",
     "output_type": "stream",
     "text": [
      "('p', 'y', 't', 'h', 'o', 'n') <class 'tuple'>\n"
     ]
    }
   ],
   "source": [
    "# Type casting\n",
    "\n",
    "a = tuple('python')\n",
    "\n",
    "print(a , type(a))"
   ]
  },
  {
   "cell_type": "code",
   "execution_count": 5,
   "id": "6adbef9d-8fb6-4d2f-a0c2-057037375e63",
   "metadata": {},
   "outputs": [
    {
     "name": "stdout",
     "output_type": "stream",
     "text": [
      "(2, 4, 5, 65) <class 'tuple'>\n"
     ]
    }
   ],
   "source": [
    "'''If we need to convert a list to a tuple, we have to pass this whole list to the tuple() function as an argument,\n",
    "and in return, it will give the tuple data type. '''\n",
    "\n",
    "a = tuple([2,4,5,65])\n",
    "\n",
    "print(a , type(a))"
   ]
  },
  {
   "cell_type": "markdown",
   "id": "a7dc3810-ccc7-4922-b0b4-736bed4cabcb",
   "metadata": {},
   "source": [
    "# Tuple packing and unpacking\n",
    "- The process of assigning values to a tuple is known as packing. While on the other hand, the unpacking or tuple assignment is the process that assigns the values on the right-hand side to the left-hand side variables. In unpacking, we basically extract the values of the tuple into a single variable.\n"
   ]
  },
  {
   "cell_type": "code",
   "execution_count": 20,
   "id": "a89a3663-2bda-47f7-a984-667052c79878",
   "metadata": {},
   "outputs": [
    {
     "name": "stdout",
     "output_type": "stream",
     "text": [
      "(2, 23, 34, 43) <class 'tuple'>\n"
     ]
    }
   ],
   "source": [
    "# Tuple packing :- Assigning multiple values to a single variable\n",
    "\n",
    "a = (2,23,34,43)\n",
    "\n",
    "print(a , type(a))"
   ]
  },
  {
   "cell_type": "code",
   "execution_count": 23,
   "id": "b3b4a707-a391-4240-bd48-ee1d37de4866",
   "metadata": {},
   "outputs": [
    {
     "name": "stdout",
     "output_type": "stream",
     "text": [
      "(43, 65, 345.45, 'hello') <class 'tuple'>\n"
     ]
    }
   ],
   "source": [
    "a = 43,65,345.45 , 'hello'\n",
    "\n",
    "print(a , type(a))"
   ]
  },
  {
   "cell_type": "code",
   "execution_count": null,
   "id": "8904af8e-26eb-40ed-9ba4-9ddef35a9cb9",
   "metadata": {},
   "outputs": [],
   "source": [
    "# Tuple unpacking :- Assigning multiple values to a multiple variables\n",
    "\n",
    "LHS == RHS"
   ]
  },
  {
   "cell_type": "code",
   "execution_count": 28,
   "id": "49f17cdb-6c95-4557-af0a-861c87dcb1e5",
   "metadata": {},
   "outputs": [
    {
     "name": "stdout",
     "output_type": "stream",
     "text": [
      "23 <class 'int'>\n",
      "43.34 <class 'float'>\n",
      "abc <class 'str'>\n"
     ]
    }
   ],
   "source": [
    "a ,b ,c = 23,43.34,'abc'\n",
    "\n",
    "print(a , type(a))\n",
    "print(b , type(b))\n",
    "print(c , type(c))"
   ]
  },
  {
   "cell_type": "code",
   "execution_count": 34,
   "id": "5da9c923-5a88-43ec-8c04-7d17662b2d3e",
   "metadata": {},
   "outputs": [
    {
     "ename": "ValueError",
     "evalue": "too many values to unpack (expected 3)",
     "output_type": "error",
     "traceback": [
      "\u001b[1;31m---------------------------------------------------------------------------\u001b[0m",
      "\u001b[1;31mValueError\u001b[0m                                Traceback (most recent call last)",
      "Cell \u001b[1;32mIn[34], line 1\u001b[0m\n\u001b[1;32m----> 1\u001b[0m a ,b ,c \u001b[38;5;241m=\u001b[39m \u001b[38;5;241m23\u001b[39m,\u001b[38;5;241m43\u001b[39m,\u001b[38;5;241m65\u001b[39m,\u001b[38;5;241m23\u001b[39m\n\u001b[0;32m      3\u001b[0m \u001b[38;5;28mprint\u001b[39m(a , \u001b[38;5;28mtype\u001b[39m(a))\n\u001b[0;32m      4\u001b[0m \u001b[38;5;28mprint\u001b[39m(b , \u001b[38;5;28mtype\u001b[39m(b))\n",
      "\u001b[1;31mValueError\u001b[0m: too many values to unpack (expected 3)"
     ]
    }
   ],
   "source": [
    "a ,b ,c = 23,43,65,23\n",
    "\n",
    "print(a , type(a))\n",
    "print(b , type(b))\n",
    "print(c , type(c))"
   ]
  },
  {
   "cell_type": "code",
   "execution_count": 49,
   "id": "f0e57c65-cb40-4dee-90d3-a4fa35b0816b",
   "metadata": {},
   "outputs": [
    {
     "name": "stdout",
     "output_type": "stream",
     "text": [
      "3\n",
      "6\n",
      "14\n",
      "19\n",
      "20\n"
     ]
    }
   ],
   "source": [
    "\n",
    "'''The enumerate () method adds a counter to an iterable and returns it in the form of an \n",
    "enumerating object. This enumerated object can then be used directly for loops or converted\n",
    "into a list of tuples using the list() function.'''\n",
    "\n",
    "'''enumerate(a) creates an iterator that yields pairs of\n",
    "(index, character) for each character in the string a.\n",
    "In the for loop, i represents the index of the character in the string,\n",
    "and j represents the character itself.'''\n",
    "\n",
    "a = 'this is pythons class'\n",
    "for i ,j in enumerate(a):\n",
    "    if j == 's':\n",
    "        print(i)"
   ]
  },
  {
   "cell_type": "code",
   "execution_count": 12,
   "id": "7d1905d8",
   "metadata": {},
   "outputs": [
    {
     "name": "stdout",
     "output_type": "stream",
     "text": [
      "(0, 't')\n",
      "(1, 'h')\n",
      "(2, 'i')\n",
      "(3, 's')\n",
      "(4, ' ')\n",
      "(5, 'i')\n",
      "(6, 's')\n",
      "(7, ' ')\n",
      "(8, 'p')\n",
      "(9, 'y')\n",
      "(10, 't')\n",
      "(11, 'h')\n",
      "(12, 'o')\n",
      "(13, 'n')\n",
      "(14, 's')\n",
      "(15, ' ')\n",
      "(16, 'c')\n",
      "(17, 'l')\n",
      "(18, 'a')\n",
      "(19, 's')\n",
      "(20, 's')\n"
     ]
    }
   ],
   "source": [
    "\n",
    "a = 'this is pythons class'\n",
    "for i in enumerate(a):\n",
    "    print(i)"
   ]
  },
  {
   "cell_type": "code",
   "execution_count": 10,
   "id": "958e4d72-e0c8-47bd-97d9-a512c8a63cab",
   "metadata": {},
   "outputs": [
    {
     "name": "stdout",
     "output_type": "stream",
     "text": [
      "[(51, 't'), (52, 'h'), (53, 'i'), (54, 's'), (55, ' '), (56, 'i'), (57, 's'), (58, ' '), (59, 'p'), (60, 'y'), (61, 't'), (62, 'h'), (63, 'o'), (64, 'n'), (65, 's'), (66, ' '), (67, 'c'), (68, 'l'), (69, 'a'), (70, 's'), (71, 's')]\n"
     ]
    }
   ],
   "source": [
    "\n",
    "''' changing start index to 51 from 0'''\n",
    "\n",
    "a = 'this is pythons class'\n",
    "\n",
    "print(list(enumerate(a , 51)))\n",
    "\n"
   ]
  },
  {
   "cell_type": "code",
   "execution_count": 14,
   "id": "51303972",
   "metadata": {},
   "outputs": [
    {
     "name": "stdout",
     "output_type": "stream",
     "text": [
      "(0, 'eat')\n",
      "(1, 'sleep')\n",
      "(2, 'repeat')\n",
      "100 eat\n",
      "101 sleep\n",
      "102 repeat\n",
      "0\n",
      "eat\n",
      "1\n",
      "sleep\n",
      "2\n",
      "repeat\n"
     ]
    }
   ],
   "source": [
    "l1 = [\"eat\", \"sleep\", \"repeat\"]\n",
    " \n",
    "# printing the tuples in object directly\n",
    "for i in enumerate(l1):\n",
    "    print (i)\n",
    " \n",
    "# changing index and printing separately\n",
    "for i,count                                                                                                                    in enumerate(l1, 100):\n",
    "    print (i,count)\n",
    " \n",
    "# getting desired output from tuple\n",
    "for i, count in enumerate(l1):\n",
    "    print(i)\n",
    "    print(count)"
   ]
  },
  {
   "cell_type": "markdown",
   "id": "d92eb4dc-0ff5-4506-b286-367ca1e31d3b",
   "metadata": {},
   "source": [
    "# Properties of tuple\n",
    "\n",
    "- It is an seq data (It allows indexing and slicing)\n",
    "- It allows duplication\n",
    "- It is hetrogeneous - can contain multiple data type\n",
    "- basic op - concatination , repetations , identity , memebership\n",
    "\n",
    "#### It is an immutable data type"
   ]
  },
  {
   "cell_type": "code",
   "execution_count": 51,
   "id": "c2c32b22-0859-4a06-854d-3911b00f90e6",
   "metadata": {},
   "outputs": [
    {
     "ename": "TypeError",
     "evalue": "'tuple' object does not support item assignment",
     "output_type": "error",
     "traceback": [
      "\u001b[1;31m---------------------------------------------------------------------------\u001b[0m",
      "\u001b[1;31mTypeError\u001b[0m                                 Traceback (most recent call last)",
      "Cell \u001b[1;32mIn[51], line 3\u001b[0m\n\u001b[0;32m      1\u001b[0m a \u001b[38;5;241m=\u001b[39m (\u001b[38;5;241m1\u001b[39m,\u001b[38;5;241m2\u001b[39m,\u001b[38;5;241m3\u001b[39m,\u001b[38;5;241m4\u001b[39m)\n\u001b[1;32m----> 3\u001b[0m a[\u001b[38;5;241m2\u001b[39m] \u001b[38;5;241m=\u001b[39m \u001b[38;5;241m999\u001b[39m\n",
      "\u001b[1;31mTypeError\u001b[0m: 'tuple' object does not support item assignment"
     ]
    }
   ],
   "source": [
    "a = (1,2,3,4)\n",
    "\n",
    "a[2] = 999"
   ]
  },
  {
   "cell_type": "code",
   "execution_count": 52,
   "id": "c58d1be5-01ba-49de-b85d-eb1e4aa4d034",
   "metadata": {},
   "outputs": [
    {
     "name": "stdout",
     "output_type": "stream",
     "text": [
      "['__add__', '__class__', '__class_getitem__', '__contains__', '__delattr__', '__dir__', '__doc__', '__eq__', '__format__', '__ge__', '__getattribute__', '__getitem__', '__getnewargs__', '__getstate__', '__gt__', '__hash__', '__init__', '__init_subclass__', '__iter__', '__le__', '__len__', '__lt__', '__mul__', '__ne__', '__new__', '__reduce__', '__reduce_ex__', '__repr__', '__rmul__', '__setattr__', '__sizeof__', '__str__', '__subclasshook__', 'count', 'index']\n"
     ]
    }
   ],
   "source": [
    "print(dir(tuple))"
   ]
  },
  {
   "cell_type": "code",
   "execution_count": 53,
   "id": "32ba5c00-08cc-4bd6-8445-b9136f51a868",
   "metadata": {},
   "outputs": [
    {
     "data": {
      "text/plain": [
       "4"
      ]
     },
     "execution_count": 53,
     "metadata": {},
     "output_type": "execute_result"
    }
   ],
   "source": [
    "a = (23,54,'xyz' ,'xyz' , 'xyz' , 'xyz')\n",
    "\n",
    "a.count('xyz')"
   ]
  },
  {
   "cell_type": "code",
   "execution_count": 54,
   "id": "e9c0c1a1-6366-476e-9cd4-2211b3bb66a9",
   "metadata": {},
   "outputs": [
    {
     "data": {
      "text/plain": [
       "1"
      ]
     },
     "execution_count": 54,
     "metadata": {},
     "output_type": "execute_result"
    }
   ],
   "source": [
    "a = (23,54,'xyz' ,'xyz' , 'xyz' , 'xyz')\n",
    "\n",
    "a.index(54)"
   ]
  },
  {
   "cell_type": "code",
   "execution_count": 58,
   "id": "5d40ca34-2b9d-466d-b8fe-8fd2de811457",
   "metadata": {},
   "outputs": [
    {
     "data": {
      "text/plain": [
       "(2, 3, 4, [999, 4, 5])"
      ]
     },
     "execution_count": 58,
     "metadata": {},
     "output_type": "execute_result"
    }
   ],
   "source": [
    "a = (2,3,4,[3,4,5])\n",
    "\n",
    "a[-1][0] = 999\n",
    "\n",
    "a"
   ]
  },
  {
   "cell_type": "markdown",
   "id": "80854835-4a20-49b8-b5df-dcbf0e9577a0",
   "metadata": {},
   "source": [
    "# Dictionary\n",
    "- mutable data structures that allow you to store key-value pairs"
   ]
  },
  {
   "cell_type": "code",
   "execution_count": 61,
   "id": "d4a229bc-9ed9-4216-b773-544215f5da7b",
   "metadata": {},
   "outputs": [
    {
     "name": "stdout",
     "output_type": "stream",
     "text": [
      "{'name': 'xyz', 'age': 54} <class 'dict'>\n"
     ]
    }
   ],
   "source": [
    "a = {'name' : 'xyz' , 'age':54}\n",
    "\n",
    "print(a , type(a))"
   ]
  },
  {
   "cell_type": "markdown",
   "id": "53a8817b-76c7-4d6c-bca8-e604e71af01b",
   "metadata": {},
   "source": [
    "# Creating a dictionary"
   ]
  },
  {
   "cell_type": "code",
   "execution_count": 62,
   "id": "36994bef-6cfc-40c2-b62b-b7c772cb7958",
   "metadata": {},
   "outputs": [
    {
     "name": "stdout",
     "output_type": "stream",
     "text": [
      "{'name': 'xyz', 'age': 54} <class 'dict'>\n"
     ]
    }
   ],
   "source": [
    "# If you already know the elements\n",
    "\n",
    "a = {'name' : 'xyz' , 'age':54}\n",
    "\n",
    "print(a , type(a))"
   ]
  },
  {
   "cell_type": "code",
   "execution_count": 17,
   "id": "eda18ef1-684e-41c1-9483-254a4ebf6f3d",
   "metadata": {},
   "outputs": [
    {
     "name": "stdout",
     "output_type": "stream",
     "text": [
      "Enter a dict : {'name': 'xyz', 'age': 54} \n",
      "{'name': 'xyz', 'age': 54} <class 'dict'>\n"
     ]
    }
   ],
   "source": [
    "# Taking an input from the user\n",
    "\n",
    "a = eval(input('Enter a dict : '))\n",
    "\n",
    "print(a , type(a))"
   ]
  },
  {
   "cell_type": "code",
   "execution_count": 18,
   "id": "9a7eeb2e-b3c4-454d-b98d-c28f78524b9a",
   "metadata": {},
   "outputs": [
    {
     "ename": "ValueError",
     "evalue": "dictionary update sequence element #0 has length 1; 2 is required",
     "output_type": "error",
     "traceback": [
      "\u001b[1;31m---------------------------------------------------------------------------\u001b[0m",
      "\u001b[1;31mValueError\u001b[0m                                Traceback (most recent call last)",
      "Cell \u001b[1;32mIn[18], line 4\u001b[0m\n\u001b[0;32m      1\u001b[0m \u001b[38;5;66;03m# type casting Typecasting is the process of converting the value of a single data type (such as an integer [int], float, or double) into another data type. \u001b[39;00m\n\u001b[0;32m      2\u001b[0m \u001b[38;5;66;03m#This conversion is done either automatically or manually. \u001b[39;00m\n\u001b[1;32m----> 4\u001b[0m a \u001b[38;5;241m=\u001b[39m \u001b[38;5;28;43mdict\u001b[39;49m\u001b[43m(\u001b[49m\u001b[38;5;124;43m'\u001b[39;49m\u001b[38;5;124;43mabc\u001b[39;49m\u001b[38;5;124;43m'\u001b[39;49m\u001b[43m)\u001b[49m\n\u001b[0;32m      6\u001b[0m \u001b[38;5;28mprint\u001b[39m(a , \u001b[38;5;28mtype\u001b[39m(a))\n",
      "\u001b[1;31mValueError\u001b[0m: dictionary update sequence element #0 has length 1; 2 is required"
     ]
    }
   ],
   "source": [
    "# type casting Typecasting is the process of converting the value of a single data type (such as an integer [int], float, or double) into another data type. \n",
    "#This conversion is done either automatically or manually. \n",
    "\n",
    "a = dict('abc')\n",
    "\n",
    "print(a , type(a))"
   ]
  },
  {
   "cell_type": "code",
   "execution_count": 65,
   "id": "07bca40e-4a04-4b14-a2ee-5ed709ec0077",
   "metadata": {},
   "outputs": [
    {
     "ename": "TypeError",
     "evalue": "cannot convert dictionary update sequence element #0 to a sequence",
     "output_type": "error",
     "traceback": [
      "\u001b[1;31m---------------------------------------------------------------------------\u001b[0m",
      "\u001b[1;31mTypeError\u001b[0m                                 Traceback (most recent call last)",
      "Cell \u001b[1;32mIn[65], line 1\u001b[0m\n\u001b[1;32m----> 1\u001b[0m a \u001b[38;5;241m=\u001b[39m \u001b[38;5;28mdict\u001b[39m([\u001b[38;5;241m3\u001b[39m,\u001b[38;5;241m4\u001b[39m,\u001b[38;5;241m5\u001b[39m,\u001b[38;5;241m6\u001b[39m])\n\u001b[0;32m      3\u001b[0m \u001b[38;5;28mprint\u001b[39m(a , \u001b[38;5;28mtype\u001b[39m(a))\n",
      "\u001b[1;31mTypeError\u001b[0m: cannot convert dictionary update sequence element #0 to a sequence"
     ]
    }
   ],
   "source": [
    "\n",
    "a = dict([3,4,5,6])\n",
    "\n",
    "print(a , type(a))"
   ]
  },
  {
   "cell_type": "markdown",
   "id": "77ec01b4-ddaa-4a0b-9fe6-32391614a3e0",
   "metadata": {},
   "source": [
    "# In order for us to type caste any data into a dict , it has to be a seq inside a seq"
   ]
  },
  {
   "cell_type": "code",
   "execution_count": 19,
   "id": "522e1e44-ff8f-4b10-af63-d9fb0ad68fae",
   "metadata": {},
   "outputs": [
    {
     "name": "stdout",
     "output_type": "stream",
     "text": [
      "{'a': 2, 'b': 54} <class 'dict'>\n"
     ]
    }
   ],
   "source": [
    "\n",
    "a = dict((['a' , 2] , ('b' , 54)))\n",
    "\n",
    "print(a , type(a))"
   ]
  },
  {
   "cell_type": "markdown",
   "id": "54a3a6f5-fa1c-46b8-91df-8ce863a9c20b",
   "metadata": {},
   "source": [
    "### zip \n",
    "- Python zip() method takes iterable containers and returns a single iterator object, having mapped values from all the containers. "
   ]
  },
  {
   "cell_type": "code",
   "execution_count": 73,
   "id": "3aa59c61-b72c-44db-bf7a-1d184b7a3596",
   "metadata": {},
   "outputs": [
    {
     "data": {
      "text/plain": [
       "[('Salahudin', 'TCS'),\n",
       " ('Vijay', 'Infosys'),\n",
       " ('Abdul', 'LTI'),\n",
       " ('Abhijeet', 'MSFT'),\n",
       " ('Aditya', 'Google')]"
      ]
     },
     "execution_count": 73,
     "metadata": {},
     "output_type": "execute_result"
    }
   ],
   "source": [
    "l1 = ['Salahudin', 'Vijay', 'Abdul', 'Abhijeet', 'Aditya']\n",
    "\n",
    "l2 = ['TCS' , 'Infosys' , 'LTI' , 'MSFT' , 'Google']\n",
    "\n",
    "list(zip(l1 , l2))"
   ]
  },
  {
   "cell_type": "code",
   "execution_count": 82,
   "id": "acd90372-9f8d-4430-adb6-a7b423d44a2e",
   "metadata": {},
   "outputs": [
    {
     "name": "stdout",
     "output_type": "stream",
     "text": [
      "{'Salahudin': 'TCS', 'Vijay': 'Infosys', 'Abdul': 'LTI', 'Abhijeet': 'MSFT', 'Aditya': 'Google'}\n"
     ]
    }
   ],
   "source": [
    "print(dict(zip(l1 , l2)))"
   ]
  },
  {
   "cell_type": "code",
   "execution_count": 20,
   "id": "a62e3ed5-d56d-4152-bae2-ff2ad6d89a69",
   "metadata": {},
   "outputs": [
    {
     "name": "stdout",
     "output_type": "stream",
     "text": [
      "[('Salahudin', 'TCS'), ('Vijay', 'Infosys'), ('Abdul', 'LTI'), ('Abhijeet', 'MSFT'), ('Aditya', 'Google')]\n"
     ]
    }
   ],
   "source": [
    "l1 = ['Salahudin', 'Vijay', 'Abdul', 'Abhijeet', 'Aditya' , 'new_emp']\n",
    "\n",
    "l2 = ['TCS' , 'Infosys' , 'LTI' , 'MSFT' , 'Google']\n",
    "\n",
    "print(list(zip(l1 , l2)))"
   ]
  },
  {
   "cell_type": "code",
   "execution_count": 78,
   "id": "380454c9-ce4d-4dc2-ad20-bf63abd63d12",
   "metadata": {},
   "outputs": [
    {
     "name": "stdout",
     "output_type": "stream",
     "text": [
      "{'Salahudin': None, 'Vijay': None, 'Abdul': None, 'Abhijeet': None, 'Aditya': None, 'new_emp': None}\n"
     ]
    }
   ],
   "source": [
    "#fromkeys() is used to create a new dictionary from the given sequence of elements \n",
    "#and the values the users provide to create a key-value pair in the dictionary\n",
    "\n",
    "l1 = ['Salahudin', 'Vijay', 'Abdul', 'Abhijeet', 'Aditya' , 'new_emp']\n",
    "\n",
    "d = dict.fromkeys(l1)\n",
    "\n",
    "print(d)"
   ]
  },
  {
   "cell_type": "code",
   "execution_count": 123,
   "id": "1c195589-00f9-41d3-8739-77d502ef549e",
   "metadata": {},
   "outputs": [
    {
     "name": "stdout",
     "output_type": "stream",
     "text": [
      "{'Salahudin': 0, 'Vijay': 0, 'Abdul': 0, 'Abhijeet': 0, 'Aditya': 0, 'new_emp': 0}\n"
     ]
    }
   ],
   "source": [
    "l1 = ('Salahudin', 'Vijay', 'Abdul', 'Abhijeet', 'Aditya' , 'new_emp')\n",
    "\n",
    "d = dict.fromkeys(l1 , 0)\n",
    "\n",
    "print(d)"
   ]
  },
  {
   "cell_type": "code",
   "execution_count": 23,
   "id": "a044e0a1-fbe3-4a56-90f5-ba622bfb41a3",
   "metadata": {},
   "outputs": [
    {
     "name": "stdout",
     "output_type": "stream",
     "text": [
      "Enter the names : abc,def\n",
      "Enter the age : 23,34\n",
      "['abc', 'def']\n",
      "(23, 34)\n"
     ]
    },
    {
     "data": {
      "text/plain": [
       "{'abc': 23, 'def': 34}"
      ]
     },
     "execution_count": 23,
     "metadata": {},
     "output_type": "execute_result"
    }
   ],
   "source": [
    "# 2 inputs from the user\n",
    "\n",
    "a = input('Enter the names : ').split(',')\n",
    "b = eval(input('Enter the age : '))\n",
    "\n",
    "print(a)\n",
    "print(b)\n",
    "\n",
    "dict(zip(a,b))"
   ]
  },
  {
   "cell_type": "code",
   "execution_count": 25,
   "id": "0720cbf2",
   "metadata": {},
   "outputs": [
    {
     "name": "stdout",
     "output_type": "stream",
     "text": [
      "Enter the names : abc,def\n",
      "Enter the age : 23,45\n",
      "abc,def\n",
      "(23, 45)\n"
     ]
    },
    {
     "data": {
      "text/plain": [
       "{'a': 23, 'b': 45}"
      ]
     },
     "execution_count": 25,
     "metadata": {},
     "output_type": "execute_result"
    }
   ],
   "source": [
    "# by me , split is necessary ??\n",
    "#DOUBT----------------------\n",
    "\n",
    "a = input('Enter the names : ')\n",
    "b = eval(input('Enter the age : '))\n",
    "\n",
    "print(a)\n",
    "print(b)\n",
    "\n",
    "dict(zip(a,b))"
   ]
  },
  {
   "cell_type": "code",
   "execution_count": 26,
   "id": "657d9849-c14b-4366-af0c-9c604c57b0d9",
   "metadata": {},
   "outputs": [
    {
     "name": "stdout",
     "output_type": "stream",
     "text": [
      "Enter the emp id\"s : 1,2,3,\n"
     ]
    },
    {
     "data": {
      "text/plain": [
       "{'1': 0, '2': 0, '3': 0, '': 0}"
      ]
     },
     "execution_count": 26,
     "metadata": {},
     "output_type": "execute_result"
    }
   ],
   "source": [
    "a = input('Enter the emp id\"s : ').split(',')\n",
    "\n",
    "dict.fromkeys(a , 0)"
   ]
  },
  {
   "cell_type": "code",
   "execution_count": 5,
   "id": "c7fb6cbb",
   "metadata": {},
   "outputs": [
    {
     "name": "stdout",
     "output_type": "stream",
     "text": [
      "Enter the emp id\"s : 2,4,6\n"
     ]
    },
    {
     "data": {
      "text/plain": [
       "{'2': 0, ',': 0, '4': 0, '6': 0}"
      ]
     },
     "execution_count": 5,
     "metadata": {},
     "output_type": "execute_result"
    }
   ],
   "source": [
    "a = input('Enter the emp id\"s : ')\n",
    "\n",
    "dict.fromkeys(a , 0)"
   ]
  },
  {
   "cell_type": "markdown",
   "id": "380f3b8a-3886-45f8-a8ad-ce18c9453d3b",
   "metadata": {},
   "source": [
    "# properties of dictionary\n",
    "\n",
    "- It is a collection of key and value pair\n",
    "- A key and a value is called as an item\n",
    "- each items are seperated by ,\n",
    "- each key and a value is seperated by :\n",
    "- A key cannot be duplicated where as value can be duplicated\n",
    "- A key cannot be an mutable data type\n",
    "- where as value can be anything (mutable / immutable)\n",
    "- It is not a seq, Hence no indexing, slicing , concatination , repetation\n",
    "- Membership op are possible but only on the keys"
   ]
  },
  {
   "cell_type": "code",
   "execution_count": 27,
   "id": "795799ab-4255-4f99-8b68-863a0e6fc265",
   "metadata": {},
   "outputs": [
    {
     "name": "stdout",
     "output_type": "stream",
     "text": [
      "{'name': 'xyz', 'age': 34, 'salary': 54354} <class 'dict'>\n"
     ]
    }
   ],
   "source": [
    "a = {'name':'xyz' , 'age':34 , 'salary':54354}\n",
    "\n",
    "print(a , type(a))"
   ]
  },
  {
   "cell_type": "code",
   "execution_count": 29,
   "id": "800961e2-855d-46f4-95c6-0cec241e97b6",
   "metadata": {},
   "outputs": [
    {
     "name": "stdout",
     "output_type": "stream",
     "text": [
      "{'name': 'abc', 'age': 34, 'salary': 54354}\n"
     ]
    }
   ],
   "source": [
    "#  A key cannot be duplicated where as value can be duplicated\n",
    "\n",
    "a = {'name':'xyz' , 'age':34 , 'salary':54354 , 'name' : 'abc'}\n",
    "\n",
    "print(a)"
   ]
  },
  {
   "cell_type": "code",
   "execution_count": 30,
   "id": "1f3e4c91-745e-4f1a-9206-87bb0bfcff34",
   "metadata": {},
   "outputs": [
    {
     "name": "stdout",
     "output_type": "stream",
     "text": [
      "{'name': 'xyz', 'age': 34, 'salary': 54354, 'second name': 'xyz'}\n"
     ]
    }
   ],
   "source": [
    "a = {'name':'xyz' , 'age':34 , 'salary':54354 , 'second name' : 'xyz'}\n",
    "\n",
    "print(a)"
   ]
  },
  {
   "cell_type": "code",
   "execution_count": 6,
   "id": "470c2ccd-3171-420d-868f-65eb2f35cd43",
   "metadata": {},
   "outputs": [
    {
     "ename": "TypeError",
     "evalue": "unhashable type: 'list'",
     "output_type": "error",
     "traceback": [
      "\u001b[1;31m---------------------------------------------------------------------------\u001b[0m",
      "\u001b[1;31mTypeError\u001b[0m                                 Traceback (most recent call last)",
      "Cell \u001b[1;32mIn[6], line 2\u001b[0m\n\u001b[0;32m      1\u001b[0m \u001b[38;5;66;03m# key can't be in list \u001b[39;00m\n\u001b[1;32m----> 2\u001b[0m a \u001b[38;5;241m=\u001b[39m {[\u001b[38;5;124m'\u001b[39m\u001b[38;5;124mname\u001b[39m\u001b[38;5;124m'\u001b[39m , \u001b[38;5;124m'\u001b[39m\u001b[38;5;124madhar\u001b[39m\u001b[38;5;124m'\u001b[39m]:\u001b[38;5;124m'\u001b[39m\u001b[38;5;124mxyz\u001b[39m\u001b[38;5;124m'\u001b[39m , \u001b[38;5;124m'\u001b[39m\u001b[38;5;124mage\u001b[39m\u001b[38;5;124m'\u001b[39m:\u001b[38;5;241m34\u001b[39m , \u001b[38;5;124m'\u001b[39m\u001b[38;5;124msalary\u001b[39m\u001b[38;5;124m'\u001b[39m:\u001b[38;5;241m54354\u001b[39m }\n\u001b[0;32m      4\u001b[0m \u001b[38;5;28mprint\u001b[39m(a)\n",
      "\u001b[1;31mTypeError\u001b[0m: unhashable type: 'list'"
     ]
    }
   ],
   "source": [
    "# key can't be in list \n",
    "a = {['name' , 'adhar']:'xyz' , 'age':34 , 'salary':54354 }\n",
    "\n",
    "print(a)"
   ]
  },
  {
   "cell_type": "code",
   "execution_count": 31,
   "id": "98abc224",
   "metadata": {},
   "outputs": [
    {
     "name": "stdout",
     "output_type": "stream",
     "text": [
      "{('name', 'adhar'): 'xyz', 'age': 34, 'salary': 54354}\n"
     ]
    }
   ],
   "source": [
    "# key can be comibination of tuple\n",
    "a = {('name' , 'adhar'):'xyz' , 'age':34 , 'salary':54354 }\n",
    "\n",
    "print(a)"
   ]
  },
  {
   "cell_type": "code",
   "execution_count": 34,
   "id": "e52a58c4",
   "metadata": {},
   "outputs": [
    {
     "name": "stdout",
     "output_type": "stream",
     "text": [
      "{(0, 0): 100, (1, 1): 200, (1, 0): 150, (0, 1): 125}\n",
      "{(0, 0): 100, (1, 1): 200, (1, 0): 150, (0, 1): 125}\n"
     ]
    }
   ],
   "source": [
    "#a tuple is a hashable value and can be used as a dictionary key. A tuple would be \n",
    "#useful as a key when storing values associated with a grid or some other coordinate type system.\n",
    "#The following code example shows a dictionary with keys representing a simple x,y grid system.\n",
    "\n",
    "# DOUBT why it is printing in form of dictionary ??  \n",
    "coordinates = { (0,0) : 100, (1,1) : 200}\n",
    "coordinates[(1,0)] = 150 # its a list \n",
    "coordinates[(0,1)] = 125\n",
    "\n",
    "print(coordinates)\n",
    "\n",
    "coordinates1 = {(0 , 0):100 , (1,1) :200 ,(1,0):150, (0,1):125 }\n",
    "print(coordinates1)\n",
    "\n",
    "# {(0, 0): 100, (1, 1): 200, (1, 0): 150, (0, 1): 125}"
   ]
  },
  {
   "cell_type": "code",
   "execution_count": 35,
   "id": "95e9d38a-d235-4296-bdc2-e1358bd0da90",
   "metadata": {},
   "outputs": [
    {
     "name": "stdout",
     "output_type": "stream",
     "text": [
      "{(32, 4, 5): ['xyz', 'abc'], 'age': 34, 'salary': 54354}\n"
     ]
    }
   ],
   "source": [
    "a = {(32,4,5):['xyz' , 'abc'] , 'age':34 , 'salary':54354 }\n",
    "\n",
    "print(a)"
   ]
  },
  {
   "cell_type": "code",
   "execution_count": 36,
   "id": "9dc4173f-5b53-4ed5-b966-31f1b928725f",
   "metadata": {},
   "outputs": [
    {
     "name": "stdout",
     "output_type": "stream",
     "text": [
      "{34: ['xyz', 'abc'], 'age': 34, 'salary': 54354}\n"
     ]
    }
   ],
   "source": [
    "# keys is enclosed with (), pair can be []\n",
    "\n",
    "a = { 34 : ['xyz' , 'abc'] , 'age':34 , 'salary':54354 }\n",
    "\n",
    "print(a)"
   ]
  },
  {
   "cell_type": "markdown",
   "id": "34f974a8-9716-411d-9907-34dd43a8044f",
   "metadata": {},
   "source": [
    "A key can be \n",
    "\n",
    "- Basic data type\n",
    "- str\n",
    "- tuple\n",
    "\n",
    "A key cannot be \n",
    "- list\n",
    "- dict\n",
    "- set"
   ]
  },
  {
   "cell_type": "code",
   "execution_count": 37,
   "id": "30c26a32-1e6e-4597-9123-1ef52c25e98c",
   "metadata": {},
   "outputs": [
    {
     "ename": "KeyError",
     "evalue": "0",
     "output_type": "error",
     "traceback": [
      "\u001b[1;31m---------------------------------------------------------------------------\u001b[0m",
      "\u001b[1;31mKeyError\u001b[0m                                  Traceback (most recent call last)",
      "Cell \u001b[1;32mIn[37], line 3\u001b[0m\n\u001b[0;32m      1\u001b[0m a \u001b[38;5;241m=\u001b[39m {\u001b[38;5;124m'\u001b[39m\u001b[38;5;124mname\u001b[39m\u001b[38;5;124m'\u001b[39m:\u001b[38;5;124m'\u001b[39m\u001b[38;5;124mxyz\u001b[39m\u001b[38;5;124m'\u001b[39m , \u001b[38;5;124m'\u001b[39m\u001b[38;5;124mage\u001b[39m\u001b[38;5;124m'\u001b[39m:\u001b[38;5;241m34\u001b[39m , \u001b[38;5;124m'\u001b[39m\u001b[38;5;124msalary\u001b[39m\u001b[38;5;124m'\u001b[39m:\u001b[38;5;241m54354\u001b[39m}\n\u001b[1;32m----> 3\u001b[0m \u001b[43ma\u001b[49m\u001b[43m[\u001b[49m\u001b[38;5;241;43m0\u001b[39;49m\u001b[43m]\u001b[49m\n",
      "\u001b[1;31mKeyError\u001b[0m: 0"
     ]
    }
   ],
   "source": [
    "a = {'name':'xyz' , 'age':34 , 'salary':54354}\n",
    "\n",
    "a[0]"
   ]
  },
  {
   "cell_type": "code",
   "execution_count": 103,
   "id": "424d5d7b-2ce3-4521-8535-095f398eb623",
   "metadata": {},
   "outputs": [
    {
     "ename": "TypeError",
     "evalue": "unhashable type: 'slice'",
     "output_type": "error",
     "traceback": [
      "\u001b[1;31m---------------------------------------------------------------------------\u001b[0m",
      "\u001b[1;31mTypeError\u001b[0m                                 Traceback (most recent call last)",
      "Cell \u001b[1;32mIn[103], line 3\u001b[0m\n\u001b[0;32m      1\u001b[0m a \u001b[38;5;241m=\u001b[39m {\u001b[38;5;124m'\u001b[39m\u001b[38;5;124mname\u001b[39m\u001b[38;5;124m'\u001b[39m:\u001b[38;5;124m'\u001b[39m\u001b[38;5;124mxyz\u001b[39m\u001b[38;5;124m'\u001b[39m , \u001b[38;5;124m'\u001b[39m\u001b[38;5;124mage\u001b[39m\u001b[38;5;124m'\u001b[39m:\u001b[38;5;241m34\u001b[39m , \u001b[38;5;124m'\u001b[39m\u001b[38;5;124msalary\u001b[39m\u001b[38;5;124m'\u001b[39m:\u001b[38;5;241m54354\u001b[39m}\n\u001b[1;32m----> 3\u001b[0m a[\u001b[38;5;241m0\u001b[39m:]\n",
      "\u001b[1;31mTypeError\u001b[0m: unhashable type: 'slice'"
     ]
    }
   ],
   "source": [
    "a = {'name':'xyz' , 'age':34 , 'salary':54354}\n",
    "\n",
    "a[0:]"
   ]
  },
  {
   "cell_type": "code",
   "execution_count": 104,
   "id": "72891d01-9b14-46b6-9b84-8e64f8bab049",
   "metadata": {},
   "outputs": [
    {
     "ename": "TypeError",
     "evalue": "unsupported operand type(s) for +: 'dict' and 'dict'",
     "output_type": "error",
     "traceback": [
      "\u001b[1;31m---------------------------------------------------------------------------\u001b[0m",
      "\u001b[1;31mTypeError\u001b[0m                                 Traceback (most recent call last)",
      "Cell \u001b[1;32mIn[104], line 5\u001b[0m\n\u001b[0;32m      1\u001b[0m a \u001b[38;5;241m=\u001b[39m {\u001b[38;5;124m'\u001b[39m\u001b[38;5;124mname\u001b[39m\u001b[38;5;124m'\u001b[39m:\u001b[38;5;124m'\u001b[39m\u001b[38;5;124mxyz\u001b[39m\u001b[38;5;124m'\u001b[39m , \u001b[38;5;124m'\u001b[39m\u001b[38;5;124mage\u001b[39m\u001b[38;5;124m'\u001b[39m:\u001b[38;5;241m34\u001b[39m , \u001b[38;5;124m'\u001b[39m\u001b[38;5;124msalary\u001b[39m\u001b[38;5;124m'\u001b[39m:\u001b[38;5;241m54354\u001b[39m}\n\u001b[0;32m      2\u001b[0m b \u001b[38;5;241m=\u001b[39m {\u001b[38;5;124m'\u001b[39m\u001b[38;5;124mname\u001b[39m\u001b[38;5;124m'\u001b[39m:\u001b[38;5;124m'\u001b[39m\u001b[38;5;124mxyz\u001b[39m\u001b[38;5;124m'\u001b[39m , \u001b[38;5;124m'\u001b[39m\u001b[38;5;124mage\u001b[39m\u001b[38;5;124m'\u001b[39m:\u001b[38;5;241m34\u001b[39m , \u001b[38;5;124m'\u001b[39m\u001b[38;5;124msalary\u001b[39m\u001b[38;5;124m'\u001b[39m:\u001b[38;5;241m54354\u001b[39m}\n\u001b[1;32m----> 5\u001b[0m a \u001b[38;5;241m+\u001b[39m b\n",
      "\u001b[1;31mTypeError\u001b[0m: unsupported operand type(s) for +: 'dict' and 'dict'"
     ]
    }
   ],
   "source": [
    "a = {'name':'xyz' , 'age':34 , 'salary':54354}\n",
    "b = {'name':'xyz' , 'age':34 , 'salary':54354}\n",
    "\n",
    "\n",
    "a + b"
   ]
  },
  {
   "cell_type": "code",
   "execution_count": 105,
   "id": "59a77753-5c35-4697-87f7-cc1082e3257d",
   "metadata": {},
   "outputs": [
    {
     "ename": "TypeError",
     "evalue": "unsupported operand type(s) for *: 'dict' and 'int'",
     "output_type": "error",
     "traceback": [
      "\u001b[1;31m---------------------------------------------------------------------------\u001b[0m",
      "\u001b[1;31mTypeError\u001b[0m                                 Traceback (most recent call last)",
      "Cell \u001b[1;32mIn[105], line 5\u001b[0m\n\u001b[0;32m      1\u001b[0m a \u001b[38;5;241m=\u001b[39m {\u001b[38;5;124m'\u001b[39m\u001b[38;5;124mname\u001b[39m\u001b[38;5;124m'\u001b[39m:\u001b[38;5;124m'\u001b[39m\u001b[38;5;124mxyz\u001b[39m\u001b[38;5;124m'\u001b[39m , \u001b[38;5;124m'\u001b[39m\u001b[38;5;124mage\u001b[39m\u001b[38;5;124m'\u001b[39m:\u001b[38;5;241m34\u001b[39m , \u001b[38;5;124m'\u001b[39m\u001b[38;5;124msalary\u001b[39m\u001b[38;5;124m'\u001b[39m:\u001b[38;5;241m54354\u001b[39m}\n\u001b[0;32m      2\u001b[0m b \u001b[38;5;241m=\u001b[39m \u001b[38;5;241m3\u001b[39m\n\u001b[1;32m----> 5\u001b[0m a \u001b[38;5;241m*\u001b[39m b\n",
      "\u001b[1;31mTypeError\u001b[0m: unsupported operand type(s) for *: 'dict' and 'int'"
     ]
    }
   ],
   "source": [
    "a = {'name':'xyz' , 'age':34 , 'salary':54354}\n",
    "b = 3\n",
    "\n",
    "\n",
    "a * b"
   ]
  },
  {
   "cell_type": "code",
   "execution_count": 106,
   "id": "05cc1d3b-cb8a-41b3-b958-eab98fcaed2f",
   "metadata": {},
   "outputs": [
    {
     "data": {
      "text/plain": [
       "34"
      ]
     },
     "execution_count": 106,
     "metadata": {},
     "output_type": "execute_result"
    }
   ],
   "source": [
    "a = {'name':'xyz' , 'age':34 , 'salary':54354}\n",
    "\n",
    "a['age']"
   ]
  },
  {
   "cell_type": "code",
   "execution_count": 38,
   "id": "f0080c12-69c5-4085-a83b-ba7f41f91276",
   "metadata": {},
   "outputs": [
    {
     "name": "stdout",
     "output_type": "stream",
     "text": [
      "Name :  xyz\n",
      "Age :  43\n",
      "Salary :  5643645654\n"
     ]
    }
   ],
   "source": [
    "a = ['xyz' , 43 , 5643645654]\n",
    "\n",
    "print('Name : ' , a[0] )\n",
    "\n",
    "print('Age : ' , a[1] )\n",
    "\n",
    "print('Salary : ' , a[2] )"
   ]
  },
  {
   "cell_type": "code",
   "execution_count": 39,
   "id": "0493a136-e7ee-4438-8dde-1aefdf3e4e39",
   "metadata": {},
   "outputs": [
    {
     "name": "stdout",
     "output_type": "stream",
     "text": [
      "Name :  43\n",
      "Age :  5643645654\n",
      "Salary :  xyz\n"
     ]
    }
   ],
   "source": [
    "a = [ 43 , 5643645654 , 'xyz']\n",
    "\n",
    "print('Name : ' , a[0] )\n",
    "\n",
    "print('Age : ' , a[1] )\n",
    "\n",
    "print('Salary : ' , a[2] )"
   ]
  },
  {
   "cell_type": "code",
   "execution_count": 40,
   "id": "f278ee23-d15c-4d4b-8591-a3216d8d0dd8",
   "metadata": {},
   "outputs": [
    {
     "name": "stdout",
     "output_type": "stream",
     "text": [
      "Name :  xyz\n",
      "Age :  34\n",
      "Salary :  54354\n"
     ]
    }
   ],
   "source": [
    "a = { 'age':34 , 'salary':54354 , 'name':'xyz'}\n",
    "\n",
    "print('Name : ' , a['name'] )\n",
    "\n",
    "print('Age : ' , a['age'] )\n",
    "\n",
    "print('Salary : ' , a['salary'] )"
   ]
  },
  {
   "cell_type": "code",
   "execution_count": 7,
   "id": "7d1b5d99-3217-4988-ad48-cda4fbeb57a6",
   "metadata": {},
   "outputs": [
    {
     "name": "stdout",
     "output_type": "stream",
     "text": [
      "True\n",
      "False\n"
     ]
    }
   ],
   "source": [
    "# DOUBT why False, it will serach Key\n",
    "\n",
    "a = {'name':'xyz' , 'age':34 , 'salary':54354}\n",
    "\n",
    "print ('age' in a)\n",
    "print (34 in a)"
   ]
  },
  {
   "cell_type": "code",
   "execution_count": 112,
   "id": "867dff6d-c29c-4613-b921-4943a0585fab",
   "metadata": {},
   "outputs": [
    {
     "data": {
      "text/plain": [
       "False"
      ]
     },
     "execution_count": 112,
     "metadata": {},
     "output_type": "execute_result"
    }
   ],
   "source": [
    "a = {'name':'xyz' , 'age':34 , 'salary':54354}\n",
    "\n",
    "'xyz' in a"
   ]
  },
  {
   "cell_type": "code",
   "execution_count": 47,
   "id": "ea9b2ff7-2751-437d-956e-f06104a051e6",
   "metadata": {},
   "outputs": [
    {
     "name": "stdout",
     "output_type": "stream",
     "text": [
      "2032633979200\n",
      "2032633954112\n"
     ]
    }
   ],
   "source": [
    "a = {'name':'xyz' , 'age':34 , 'salary':54354}\n",
    "b = {'name':'xyz' , 'age':34 , 'salary':54354}\n",
    "\n",
    "a == b\n",
    "print(id(a))\n",
    "print(id(b))"
   ]
  },
  {
   "cell_type": "code",
   "execution_count": 114,
   "id": "d6e6b602-e257-4945-8afb-557835896692",
   "metadata": {},
   "outputs": [
    {
     "data": {
      "text/plain": [
       "False"
      ]
     },
     "execution_count": 114,
     "metadata": {},
     "output_type": "execute_result"
    }
   ],
   "source": [
    "# This occurs because dictionaries are mutable objects. When you create a and b, Python allocates memory for each dictionary separately, even though their contents are the same. \n",
    "#This is because dictionaries can be modified independently, \n",
    "#so Python creates separate objects in memory to hold their data.\n",
    "\n",
    "a = {'name':'xyz' , 'age':34 , 'salary':54354}\n",
    "b = {'name':'xyz' , 'age':34 , 'salary':54354}\n",
    "\n",
    "a is b"
   ]
  },
  {
   "cell_type": "markdown",
   "id": "6384b12c-894d-41f8-804d-b39996eed374",
   "metadata": {},
   "source": [
    "# Extracting the data in the dict"
   ]
  },
  {
   "cell_type": "code",
   "execution_count": 71,
   "id": "492b04c0-e7ce-4b2f-beb4-fc34708b4255",
   "metadata": {},
   "outputs": [
    {
     "data": {
      "text/plain": [
       "23"
      ]
     },
     "execution_count": 71,
     "metadata": {},
     "output_type": "execute_result"
    }
   ],
   "source": [
    "emp_data = {'emp_1' : {'name' :'Salahudin' , 'age':34 , 'Salary' : 343434} , \n",
    "            'emp_2' : {'name' :'Vijay' , 'age':23 , 'Salary' : 564754645} , \n",
    "            'emp_3' : {'name' :'Abdul' , 'age':54 , 'Salary' : 45345345} , \n",
    "            'emp_4' : {'name' :'Abhijeet' , 'age':28 , 'Salary' : 34534534} ,\n",
    "           'emp_5' : {'name' :'Vijay' , 'age':23 , 'Salary' : 564754645}}\n",
    "\n",
    "emp_data['emp_2']['age']"
   ]
  },
  {
   "cell_type": "code",
   "execution_count": 72,
   "id": "8af58c89-0c85-454d-b091-6a83f8801eb2",
   "metadata": {},
   "outputs": [
    {
     "name": "stdout",
     "output_type": "stream",
     "text": [
      "Vijay\n",
      "Abhijeet\n",
      "Vijay\n"
     ]
    }
   ],
   "source": [
    "# Extract the names of those emp whose age < 30\n",
    "# i shows indexing of each key\n",
    "for i in emp_data:\n",
    "    if emp_data[i]['age'] < 30:\n",
    "        print(emp_data[i]['name'])"
   ]
  },
  {
   "cell_type": "code",
   "execution_count": 73,
   "id": "8ff0b0a2-089f-4c2a-a6a8-18739588121a",
   "metadata": {},
   "outputs": [
    {
     "name": "stdout",
     "output_type": "stream",
     "text": [
      "{'name': 'Vijay', 'age': 23, 'Salary': 564754645}\n",
      "{'name': 'Vijay', 'age': 23, 'Salary': 564754645}\n"
     ]
    }
   ],
   "source": [
    "#DOUBT Vijay is printing 2 times and why use lower? \n",
    "for i in emp_data:\n",
    "    if emp_data[i]['name'].lower() == 'vijay': \n",
    "        print(emp_data[i])"
   ]
  },
  {
   "cell_type": "code",
   "execution_count": 70,
   "id": "3cf798a1-56d8-4d5a-bd3d-5dde23fdce92",
   "metadata": {},
   "outputs": [
    {
     "name": "stdout",
     "output_type": "stream",
     "text": [
      "{'name': 'Vijay', 'age': 23, 'Salary': 564754645}\n"
     ]
    }
   ],
   "source": [
    "# DOUBT Vijay is printing 1 time only?\n",
    "for i in emp_data:\n",
    "    if emp_data[i]['name']=='Vijay':\n",
    "        print(emp_data[i])"
   ]
  },
  {
   "cell_type": "code",
   "execution_count": 8,
   "id": "8e4a2f18",
   "metadata": {},
   "outputs": [
    {
     "name": "stdout",
     "output_type": "stream",
     "text": [
      "hello world\n"
     ]
    }
   ],
   "source": [
    "a = \"HELLO World\"\n",
    "b = a.lower()\n",
    "print(b)  # Output: hello world"
   ]
  },
  {
   "cell_type": "code",
   "execution_count": 81,
   "id": "722e9efc",
   "metadata": {},
   "outputs": [
    {
     "name": "stdout",
     "output_type": "stream",
     "text": [
      "{'name': 'xyz', 'name1': 'xyz', 'age': 34, 'salary': 54354}\n"
     ]
    }
   ],
   "source": [
    "a = {'name':'xyz' ,'name1':'xyz',  'age':34 , 'salary':54354}\n",
    "print(a)"
   ]
  },
  {
   "cell_type": "code",
   "execution_count": null,
   "id": "25046179",
   "metadata": {},
   "outputs": [],
   "source": []
  }
 ],
 "metadata": {
  "kernelspec": {
   "display_name": "Python 3 (ipykernel)",
   "language": "python",
   "name": "python3"
  },
  "language_info": {
   "codemirror_mode": {
    "name": "ipython",
    "version": 3
   },
   "file_extension": ".py",
   "mimetype": "text/x-python",
   "name": "python",
   "nbconvert_exporter": "python",
   "pygments_lexer": "ipython3",
   "version": "3.9.13"
  }
 },
 "nbformat": 4,
 "nbformat_minor": 5
}
