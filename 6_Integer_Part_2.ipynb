{
 "cells": [
  {
   "cell_type": "markdown",
   "id": "e1e05cdc-4d41-4e49-80df-3acae7fe9261",
   "metadata": {},
   "source": [
    "# Logical operators\n",
    "\n",
    "and\n",
    "or\n",
    "not"
   ]
  },
  {
   "cell_type": "code",
   "execution_count": 9,
   "id": "4dcce6de-0e92-4802-b7f8-6367773851d4",
   "metadata": {},
   "outputs": [
    {
     "data": {
      "text/plain": [
       "False"
      ]
     },
     "execution_count": 9,
     "metadata": {},
     "output_type": "execute_result"
    }
   ],
   "source": [
    "True and False"
   ]
  },
  {
   "cell_type": "code",
   "execution_count": 10,
   "id": "2c5ad6dc-cf52-480d-885a-ce0335fffa42",
   "metadata": {},
   "outputs": [
    {
     "data": {
      "text/plain": [
       "False"
      ]
     },
     "execution_count": 10,
     "metadata": {},
     "output_type": "execute_result"
    }
   ],
   "source": [
    "False and False"
   ]
  },
  {
   "cell_type": "code",
   "execution_count": 12,
   "id": "293e40d1-df08-4b59-a0cc-911a52c58ffd",
   "metadata": {},
   "outputs": [
    {
     "data": {
      "text/plain": [
       "True"
      ]
     },
     "execution_count": 12,
     "metadata": {},
     "output_type": "execute_result"
    }
   ],
   "source": [
    "True or True"
   ]
  },
  {
   "cell_type": "markdown",
   "id": "6600e086-7ff3-4f93-9df4-10ae6c34074f",
   "metadata": {},
   "source": [
    "# Values in logical operators"
   ]
  },
  {
   "cell_type": "code",
   "execution_count": null,
   "id": "6f9ef7ac-aa93-418d-ab90-675dee264b43",
   "metadata": {},
   "outputs": [],
   "source": [
    "int --> 0 is false and rest all are True\n",
    "float ---> 0.0 is False and rest all are True\n",
    "complex --> 0+0j is false rest all are True\n",
    "None --> Is always False\n",
    "string --> empty string is false and rest all are True\n",
    "\n",
    "\n",
    "[] , () , {}"
   ]
  },
  {
   "cell_type": "code",
   "execution_count": 13,
   "id": "a3437744-d5fb-45ea-93e2-c3a26dce48a2",
   "metadata": {},
   "outputs": [
    {
     "name": "stdout",
     "output_type": "stream",
     "text": [
      "True\n"
     ]
    }
   ],
   "source": [
    "a = 43\n",
    "\n",
    "print(bool(a))"
   ]
  },
  {
   "cell_type": "code",
   "execution_count": 14,
   "id": "3126d27b-e44f-4598-9535-1ad7eeb6fdaa",
   "metadata": {},
   "outputs": [
    {
     "name": "stdout",
     "output_type": "stream",
     "text": [
      "True\n"
     ]
    }
   ],
   "source": [
    "a = -43\n",
    "\n",
    "print(bool(a))"
   ]
  },
  {
   "cell_type": "code",
   "execution_count": 15,
   "id": "2de2d40b-2ca5-4ceb-98ac-4e0a6d17d907",
   "metadata": {},
   "outputs": [
    {
     "name": "stdout",
     "output_type": "stream",
     "text": [
      "False\n"
     ]
    }
   ],
   "source": [
    "a = 0\n",
    "\n",
    "print(bool(a))"
   ]
  },
  {
   "cell_type": "code",
   "execution_count": 16,
   "id": "792fd8b2-339f-45b0-be32-64d2f4b98e81",
   "metadata": {},
   "outputs": [
    {
     "name": "stdout",
     "output_type": "stream",
     "text": [
      "False\n"
     ]
    }
   ],
   "source": [
    "a = 0.0\n",
    "\n",
    "print(bool(a))"
   ]
  },
  {
   "cell_type": "code",
   "execution_count": 17,
   "id": "6055473e-10b7-4574-93f7-6bfea55afe66",
   "metadata": {},
   "outputs": [
    {
     "name": "stdout",
     "output_type": "stream",
     "text": [
      "True\n"
     ]
    }
   ],
   "source": [
    "a = 0.000000000000000000000000001\n",
    "\n",
    "print(bool(a))"
   ]
  },
  {
   "cell_type": "code",
   "execution_count": 19,
   "id": "f1e19b50-71bc-4321-aa79-87e81f265276",
   "metadata": {},
   "outputs": [
    {
     "name": "stdout",
     "output_type": "stream",
     "text": [
      "True\n"
     ]
    }
   ],
   "source": [
    "a = 10+0j\n",
    "\n",
    "print(bool(a))"
   ]
  },
  {
   "cell_type": "code",
   "execution_count": 20,
   "id": "2618a567-9ca4-4891-85cf-b9b1c45b2d23",
   "metadata": {},
   "outputs": [
    {
     "name": "stdout",
     "output_type": "stream",
     "text": [
      "True\n"
     ]
    }
   ],
   "source": [
    "a = ' ' # space is there its not an empty\n",
    "\n",
    "print(bool(a))"
   ]
  },
  {
   "cell_type": "code",
   "execution_count": 21,
   "id": "b95ac972-4853-4d0e-811c-0bc25041751e",
   "metadata": {},
   "outputs": [
    {
     "name": "stdout",
     "output_type": "stream",
     "text": [
      "False\n"
     ]
    }
   ],
   "source": [
    "a = ''\n",
    "\n",
    "print(bool(a))"
   ]
  },
  {
   "cell_type": "code",
   "execution_count": 22,
   "id": "e0bc9da0-08c5-4cac-bac2-7f603ce0736c",
   "metadata": {},
   "outputs": [
    {
     "data": {
      "text/plain": [
       "False"
      ]
     },
     "execution_count": 22,
     "metadata": {},
     "output_type": "execute_result"
    }
   ],
   "source": [
    "True and False"
   ]
  },
  {
   "cell_type": "code",
   "execution_count": 23,
   "id": "87ecad16-4594-4e75-9c98-b4773861bc6c",
   "metadata": {},
   "outputs": [
    {
     "data": {
      "text/plain": [
       "20"
      ]
     },
     "execution_count": 23,
     "metadata": {},
     "output_type": "execute_result"
    }
   ],
   "source": [
    "10 and 20"
   ]
  },
  {
   "cell_type": "code",
   "execution_count": 24,
   "id": "3b64239f-53d3-4248-9d03-de7aa33446d9",
   "metadata": {},
   "outputs": [
    {
     "data": {
      "text/plain": [
       "True"
      ]
     },
     "execution_count": 24,
     "metadata": {},
     "output_type": "execute_result"
    }
   ],
   "source": [
    "True or False"
   ]
  },
  {
   "cell_type": "code",
   "execution_count": 25,
   "id": "ec168ce0-0d2c-40a7-8d76-af192c7457c9",
   "metadata": {},
   "outputs": [
    {
     "data": {
      "text/plain": [
       "10"
      ]
     },
     "execution_count": 25,
     "metadata": {},
     "output_type": "execute_result"
    }
   ],
   "source": [
    "10 or 20"
   ]
  },
  {
   "cell_type": "markdown",
   "id": "05618ee1-74c6-4755-a661-07130c30a644",
   "metadata": {},
   "source": [
    "# There is a small deviation with the values\n",
    "\n",
    "A and B \n",
    "\n",
    "A and B --> result will be A if A is False else B, \n",
    "and is looking for false, \n",
    "\n",
    "A or B ---> result will be A if A is True else B"
   ]
  },
  {
   "cell_type": "code",
   "execution_count": 26,
   "id": "04bded78-d8f2-48a1-a387-19bdb3d3f773",
   "metadata": {},
   "outputs": [
    {
     "data": {
      "text/plain": [
       "20"
      ]
     },
     "execution_count": 26,
     "metadata": {},
     "output_type": "execute_result"
    }
   ],
   "source": [
    "10 and 20 # and is looking for false so 10 is true so it will print 20"
   ]
  },
  {
   "cell_type": "code",
   "execution_count": 27,
   "id": "23d29d59-61e5-4cbc-a649-2c5243469a59",
   "metadata": {},
   "outputs": [
    {
     "data": {
      "text/plain": [
       "0"
      ]
     },
     "execution_count": 27,
     "metadata": {},
     "output_type": "execute_result"
    }
   ],
   "source": [
    "0 and 20 # and is looking for false so 0 is false so it will print 20"
   ]
  },
  {
   "cell_type": "code",
   "execution_count": 36,
   "id": "e20821ab-09f5-4392-8f4d-380386f4ea57",
   "metadata": {},
   "outputs": [
    {
     "data": {
      "text/plain": [
       "0"
      ]
     },
     "execution_count": 36,
     "metadata": {},
     "output_type": "execute_result"
    }
   ],
   "source": [
    "0 and 65"
   ]
  },
  {
   "cell_type": "code",
   "execution_count": 39,
   "id": "951e3089-4ac7-419a-898e-1ad5f6e8a495",
   "metadata": {},
   "outputs": [
    {
     "data": {
      "text/plain": [
       "65"
      ]
     },
     "execution_count": 39,
     "metadata": {},
     "output_type": "execute_result"
    }
   ],
   "source": [
    "45 and 65"
   ]
  },
  {
   "cell_type": "code",
   "execution_count": null,
   "id": "e4e70625-07df-4ec3-9369-dc36b9229093",
   "metadata": {},
   "outputs": [],
   "source": [
    "45 and 65"
   ]
  },
  {
   "cell_type": "code",
   "execution_count": 40,
   "id": "09ef71fd-b23b-4ff7-9af1-453b6f90c26f",
   "metadata": {},
   "outputs": [
    {
     "data": {
      "text/plain": [
       "45"
      ]
     },
     "execution_count": 40,
     "metadata": {},
     "output_type": "execute_result"
    }
   ],
   "source": [
    "45 or 65 # or is looking for true, so 45 is true"
   ]
  },
  {
   "cell_type": "code",
   "execution_count": 41,
   "id": "eb069442-29bc-4777-9c86-2da434fba38d",
   "metadata": {},
   "outputs": [
    {
     "data": {
      "text/plain": [
       "0"
      ]
     },
     "execution_count": 41,
     "metadata": {},
     "output_type": "execute_result"
    }
   ],
   "source": [
    "0 and 65"
   ]
  },
  {
   "cell_type": "code",
   "execution_count": 42,
   "id": "fbd848ee-f998-4c58-abb6-778584561db5",
   "metadata": {},
   "outputs": [
    {
     "data": {
      "text/plain": [
       "65"
      ]
     },
     "execution_count": 42,
     "metadata": {},
     "output_type": "execute_result"
    }
   ],
   "source": [
    "0 or 65"
   ]
  },
  {
   "cell_type": "code",
   "execution_count": 43,
   "id": "229e83b6-8af1-4d0e-9280-2c2492dc051d",
   "metadata": {},
   "outputs": [
    {
     "data": {
      "text/plain": [
       "''"
      ]
     },
     "execution_count": 43,
     "metadata": {},
     "output_type": "execute_result"
    }
   ],
   "source": [
    "0 or ''"
   ]
  },
  {
   "cell_type": "markdown",
   "id": "1772a0b9-f0ec-40e8-a08f-5889bdc1c567",
   "metadata": {},
   "source": [
    "# Bitwise operators\n",
    "\n",
    "bitwise and &\n",
    "botwise or |\n",
    "bitwise xor ^\n",
    "bitwise left shift <<\n",
    "bitwise right shift >>\n",
    "bitwise not  ~"
   ]
  },
  {
   "cell_type": "code",
   "execution_count": 77,
   "id": "589628a1-ebbc-4927-87e2-c2d219b6d72c",
   "metadata": {},
   "outputs": [
    {
     "name": "stdout",
     "output_type": "stream",
     "text": [
      "4\n"
     ]
    }
   ],
   "source": [
    "a = 10\n",
    "b = 4\n",
    "\n",
    "print(a and b)"
   ]
  },
  {
   "cell_type": "code",
   "execution_count": 78,
   "id": "bcc06031-0b2f-4b4b-99da-f0250ace8c62",
   "metadata": {},
   "outputs": [
    {
     "name": "stdout",
     "output_type": "stream",
     "text": [
      "0\n"
     ]
    }
   ],
   "source": [
    "a = 10\n",
    "b = 4\n",
    "\n",
    "print(a & b)  #bitwise and "
   ]
  },
  {
   "cell_type": "code",
   "execution_count": null,
   "id": "c9b424cb-3a8e-42e9-9b99-05607bc5858c",
   "metadata": {},
   "outputs": [],
   "source": [
    "10 -----> 1     0      1     0\n",
    "4  -----> 0     1      0     0\n",
    "\n",
    "\n",
    "          0       0       0      0"
   ]
  },
  {
   "cell_type": "code",
   "execution_count": 79,
   "id": "daa1e644-277d-4fb9-9570-849ed7dbcc58",
   "metadata": {},
   "outputs": [
    {
     "data": {
      "text/plain": [
       "'0b1010'"
      ]
     },
     "execution_count": 79,
     "metadata": {},
     "output_type": "execute_result"
    }
   ],
   "source": [
    "bin(10)"
   ]
  },
  {
   "cell_type": "code",
   "execution_count": 80,
   "id": "2f017ec3-d691-4e45-95a8-3b1112d34ced",
   "metadata": {},
   "outputs": [
    {
     "data": {
      "text/plain": [
       "'0b100'"
      ]
     },
     "execution_count": 80,
     "metadata": {},
     "output_type": "execute_result"
    }
   ],
   "source": [
    "bin(4)"
   ]
  },
  {
   "cell_type": "code",
   "execution_count": 81,
   "id": "1a3f4844-8c12-4b2c-944f-a58b9276c985",
   "metadata": {},
   "outputs": [
    {
     "data": {
      "text/plain": [
       "0"
      ]
     },
     "execution_count": 81,
     "metadata": {},
     "output_type": "execute_result"
    }
   ],
   "source": [
    "int(0b0000)"
   ]
  },
  {
   "cell_type": "code",
   "execution_count": 82,
   "id": "f5f1c6d4-0a88-4361-a9d2-a520f4b850a5",
   "metadata": {},
   "outputs": [
    {
     "name": "stdout",
     "output_type": "stream",
     "text": [
      "40\n"
     ]
    }
   ],
   "source": [
    "a = 44\n",
    "b = 56\n",
    "\n",
    "print(a & b)# bitwise and"
   ]
  },
  {
   "cell_type": "code",
   "execution_count": null,
   "id": "0ee0757a-68ce-4a57-947b-5deba9e11649",
   "metadata": {},
   "outputs": [],
   "source": [
    "44 ----> 1    0    1     1    0    0\n",
    "\n",
    "56  ---> 1    1    1    0    0    0\n",
    "\n",
    "         1    0    1     0    0      0"
   ]
  },
  {
   "cell_type": "code",
   "execution_count": 84,
   "id": "a94ca2ad-465e-4e91-975d-5462d90d7f07",
   "metadata": {},
   "outputs": [
    {
     "data": {
      "text/plain": [
       "'0b111000'"
      ]
     },
     "execution_count": 84,
     "metadata": {},
     "output_type": "execute_result"
    }
   ],
   "source": [
    "bin(56)"
   ]
  },
  {
   "cell_type": "code",
   "execution_count": 85,
   "id": "e27dd450-d1d3-40bf-8c39-07aab50ac26c",
   "metadata": {},
   "outputs": [
    {
     "data": {
      "text/plain": [
       "40"
      ]
     },
     "execution_count": 85,
     "metadata": {},
     "output_type": "execute_result"
    }
   ],
   "source": [
    "int(0b101000)"
   ]
  },
  {
   "cell_type": "code",
   "execution_count": 86,
   "id": "8f2fe558-091b-498c-9e7b-a3ea54e426fc",
   "metadata": {},
   "outputs": [
    {
     "name": "stdout",
     "output_type": "stream",
     "text": [
      "44\n"
     ]
    }
   ],
   "source": [
    "a = 44\n",
    "b = 56\n",
    "\n",
    "print(a or b)"
   ]
  },
  {
   "cell_type": "code",
   "execution_count": 87,
   "id": "93d24a34-548a-44dc-b38e-acc9095c0cba",
   "metadata": {},
   "outputs": [
    {
     "name": "stdout",
     "output_type": "stream",
     "text": [
      "60\n"
     ]
    }
   ],
   "source": [
    "a = 44\n",
    "b = 56\n",
    "\n",
    "print(a | b)"
   ]
  },
  {
   "cell_type": "code",
   "execution_count": null,
   "id": "a54504a2-7e26-4135-adf3-3e9713b66f57",
   "metadata": {},
   "outputs": [],
   "source": [
    "44 ----> 1     0      1     1     0    0\n",
    "\n",
    "56  ---> 1     1      1     0     0    0\n",
    "\n",
    "         1     1      1     1     0    0"
   ]
  },
  {
   "cell_type": "code",
   "execution_count": 88,
   "id": "1899a7b1-9589-4554-89bd-4d445cb6441c",
   "metadata": {},
   "outputs": [
    {
     "data": {
      "text/plain": [
       "60"
      ]
     },
     "execution_count": 88,
     "metadata": {},
     "output_type": "execute_result"
    }
   ],
   "source": [
    "int(0b111100)"
   ]
  },
  {
   "cell_type": "code",
   "execution_count": 89,
   "id": "fdcf8b90-d100-4dc1-9518-047ae3e80960",
   "metadata": {},
   "outputs": [
    {
     "name": "stdout",
     "output_type": "stream",
     "text": [
      "20\n"
     ]
    }
   ],
   "source": [
    "a = 44\n",
    "b = 56\n",
    "\n",
    "print(a ^ b) # a xor b"
   ]
  },
  {
   "cell_type": "code",
   "execution_count": null,
   "id": "c79d2dde-9dc0-401b-a6fa-de089bae2fd5",
   "metadata": {},
   "outputs": [],
   "source": [
    "44 ----> 1      0    1     1    0    0\n",
    "\n",
    "56  ---> 1      1    1     0     0    0\n",
    "\n",
    "         0      1     0     1      0    0"
   ]
  },
  {
   "cell_type": "code",
   "execution_count": 90,
   "id": "d5688e9f-8463-4d78-800c-10c462ab40b6",
   "metadata": {},
   "outputs": [
    {
     "data": {
      "text/plain": [
       "20"
      ]
     },
     "execution_count": 90,
     "metadata": {},
     "output_type": "execute_result"
    }
   ],
   "source": [
    "int(0b010100)"
   ]
  },
  {
   "cell_type": "markdown",
   "id": "85b9d06e-401c-4d18-a025-abebb33c6f06",
   "metadata": {},
   "source": [
    "# bitwise left shift <<\n",
    "\n",
    "A * (2 **n)"
   ]
  },
  {
   "cell_type": "code",
   "execution_count": 92,
   "id": "44e02033-8b56-4456-85c0-df6ddcac6eab",
   "metadata": {},
   "outputs": [
    {
     "name": "stdout",
     "output_type": "stream",
     "text": [
      "272\n"
     ]
    }
   ],
   "source": [
    "x = 34\n",
    "\n",
    "print(x << 3)"
   ]
  },
  {
   "cell_type": "code",
   "execution_count": 93,
   "id": "d509fa1c-ee9e-4965-9216-44db0c95dec9",
   "metadata": {},
   "outputs": [
    {
     "data": {
      "text/plain": [
       "272"
      ]
     },
     "execution_count": 93,
     "metadata": {},
     "output_type": "execute_result"
    }
   ],
   "source": [
    "34 * (8)"
   ]
  },
  {
   "cell_type": "code",
   "execution_count": 94,
   "id": "b3c490ba-0d8d-4518-a222-cb4f9d9cd0f3",
   "metadata": {},
   "outputs": [
    {
     "data": {
      "text/plain": [
       "'0b100010'"
      ]
     },
     "execution_count": 94,
     "metadata": {},
     "output_type": "execute_result"
    }
   ],
   "source": [
    "bin(34)"
   ]
  },
  {
   "cell_type": "code",
   "execution_count": 95,
   "id": "88fd5adc-704a-441b-a68a-05604e26accb",
   "metadata": {},
   "outputs": [
    {
     "data": {
      "text/plain": [
       "272"
      ]
     },
     "execution_count": 95,
     "metadata": {},
     "output_type": "execute_result"
    }
   ],
   "source": [
    "int(0b100010000)"
   ]
  },
  {
   "cell_type": "code",
   "execution_count": 98,
   "id": "c8ef3bc4-4f48-433f-a592-b89a4fd366b5",
   "metadata": {},
   "outputs": [
    {
     "name": "stdout",
     "output_type": "stream",
     "text": [
      "896\n"
     ]
    }
   ],
   "source": [
    "x = 56\n",
    "\n",
    "print(x << 4)"
   ]
  },
  {
   "cell_type": "code",
   "execution_count": 96,
   "id": "435adcd4-4ad7-416e-8e26-fdcab08eca74",
   "metadata": {},
   "outputs": [
    {
     "data": {
      "text/plain": [
       "'0b111000'"
      ]
     },
     "execution_count": 96,
     "metadata": {},
     "output_type": "execute_result"
    }
   ],
   "source": [
    "bin(56)  #0b111000 0000"
   ]
  },
  {
   "cell_type": "code",
   "execution_count": 97,
   "id": "2a2b44d1-081a-4546-9c32-3420e1cfc074",
   "metadata": {},
   "outputs": [
    {
     "data": {
      "text/plain": [
       "896"
      ]
     },
     "execution_count": 97,
     "metadata": {},
     "output_type": "execute_result"
    }
   ],
   "source": [
    "int(0b1110000000)"
   ]
  },
  {
   "cell_type": "code",
   "execution_count": null,
   "id": "f41ffdb9",
   "metadata": {},
   "outputs": [],
   "source": [
    "#Example 1:\n",
    "#a = 5 = 0000 0101 (Binary)\n",
    "#a << 1 = 0000 1010 = 10\n",
    "#a << 2 = 0001 0100 = 20 \n",
    "\n",
    "#Example 2:\n",
    "#b = -10 = 1111 0110 (Binary)\n",
    "#b << 1 = 1110 1100 = -20\n",
    "#b << 2 = 1101 1000 = -40 "
   ]
  },
  {
   "cell_type": "markdown",
   "id": "7f82497f-939d-4f14-8946-b0b71e4e051f",
   "metadata": {},
   "source": [
    "# Bitwise right shift >>\n",
    "\n",
    "- A // (2**n) \n",
    "- The left operand’s value is moved toward right by the number of bits \n",
    "- specified by the right operand."
   ]
  },
  {
   "cell_type": "code",
   "execution_count": 99,
   "id": "e4003820-c6fa-4443-9071-18d4530f3aaf",
   "metadata": {},
   "outputs": [
    {
     "name": "stdout",
     "output_type": "stream",
     "text": [
      "3\n"
     ]
    }
   ],
   "source": [
    "x = 56\n",
    "\n",
    "print(x >> 4)"
   ]
  },
  {
   "cell_type": "code",
   "execution_count": 1,
   "id": "3d13e661",
   "metadata": {},
   "outputs": [
    {
     "data": {
      "text/plain": [
       "'0b111000'"
      ]
     },
     "execution_count": 1,
     "metadata": {},
     "output_type": "execute_result"
    }
   ],
   "source": [
    "bin(56) # 0000 11"
   ]
  },
  {
   "cell_type": "code",
   "execution_count": 100,
   "id": "7d456ab1-73b5-4ec2-b847-80528ec57ed4",
   "metadata": {},
   "outputs": [
    {
     "data": {
      "text/plain": [
       "3"
      ]
     },
     "execution_count": 100,
     "metadata": {},
     "output_type": "execute_result"
    }
   ],
   "source": [
    "int(0b000011)"
   ]
  },
  {
   "cell_type": "code",
   "execution_count": null,
   "id": "fbcc48b0",
   "metadata": {},
   "outputs": [],
   "source": [
    "#a = 10 = 0000 1010 (Binary)\n",
    "#a >> 1 = 0000 0101 = 5\n",
    "\n",
    "#a = -10 = 1111 0110 (Binary)\n",
    "#a >> 1 = 1111 1011 = -5 "
   ]
  },
  {
   "cell_type": "markdown",
   "id": "24607068-fc8a-4923-b26b-0e1bef78a0f7",
   "metadata": {},
   "source": [
    "# bitwise not  ~\n",
    "\n",
    "- Adds 1 to the existing value\n",
    "- It converts it's sign"
   ]
  },
  {
   "cell_type": "code",
   "execution_count": 101,
   "id": "6c16e526-0e5d-4907-ba59-9fa89a1af11a",
   "metadata": {},
   "outputs": [
    {
     "name": "stdout",
     "output_type": "stream",
     "text": [
      "-57\n"
     ]
    }
   ],
   "source": [
    "x = 56\n",
    "\n",
    "print(~x)"
   ]
  },
  {
   "cell_type": "code",
   "execution_count": 103,
   "id": "ed31bf18-2aba-4498-9e59-c189641cf966",
   "metadata": {},
   "outputs": [
    {
     "name": "stdout",
     "output_type": "stream",
     "text": [
      "98\n"
     ]
    }
   ],
   "source": [
    "x = -99\n",
    "\n",
    "print(~x)"
   ]
  },
  {
   "cell_type": "markdown",
   "id": "2c701c75-b7ec-492a-a815-b9a5ebf33633",
   "metadata": {},
   "source": [
    "# Assignment operators\n",
    "\n",
    "="
   ]
  },
  {
   "cell_type": "code",
   "execution_count": 5,
   "id": "13006fd8-f408-41ed-8f64-12e5952dab22",
   "metadata": {},
   "outputs": [],
   "source": [
    "x = 55"
   ]
  },
  {
   "cell_type": "code",
   "execution_count": 6,
   "id": "f7801691-7f68-44d7-a0c8-d36104582b8e",
   "metadata": {},
   "outputs": [
    {
     "name": "stdout",
     "output_type": "stream",
     "text": [
      "60\n"
     ]
    }
   ],
   "source": [
    "# Add 5 to the existing value and re assign it to the same x\n",
    "\n",
    "x = x + 5\n",
    "\n",
    "print(x)"
   ]
  },
  {
   "cell_type": "code",
   "execution_count": 8,
   "id": "cb2bf6f8-5208-4645-957b-2a8d56f77bd4",
   "metadata": {},
   "outputs": [],
   "source": [
    "x = 55"
   ]
  },
  {
   "cell_type": "code",
   "execution_count": 9,
   "id": "3e68307a-91e7-43ec-82bc-8760529c1c1f",
   "metadata": {},
   "outputs": [
    {
     "data": {
      "text/plain": [
       "60"
      ]
     },
     "execution_count": 9,
     "metadata": {},
     "output_type": "execute_result"
    }
   ],
   "source": [
    "# Add 5 to the existing value and re assign it to the same x\n",
    "\n",
    "x += 5\n",
    "\n",
    "x"
   ]
  },
  {
   "cell_type": "code",
   "execution_count": 10,
   "id": "d836d6e6-5ceb-4a1a-9806-d1620a1f84b5",
   "metadata": {},
   "outputs": [
    {
     "data": {
      "text/plain": [
       "50"
      ]
     },
     "execution_count": 10,
     "metadata": {},
     "output_type": "execute_result"
    }
   ],
   "source": [
    "x = 55\n",
    "\n",
    "x -= 5\n",
    "\n",
    "x"
   ]
  },
  {
   "cell_type": "code",
   "execution_count": 11,
   "id": "d3f4104d-76ae-4d52-bca5-9e7838837c8e",
   "metadata": {},
   "outputs": [
    {
     "data": {
      "text/plain": [
       "50"
      ]
     },
     "execution_count": 11,
     "metadata": {},
     "output_type": "execute_result"
    }
   ],
   "source": [
    "x = 10\n",
    "\n",
    "x *= 5\n",
    "\n",
    "x"
   ]
  },
  {
   "cell_type": "code",
   "execution_count": 12,
   "id": "e4c0d30f-4428-433b-9c6c-9f83b98c3053",
   "metadata": {},
   "outputs": [
    {
     "data": {
      "text/plain": [
       "100000"
      ]
     },
     "execution_count": 12,
     "metadata": {},
     "output_type": "execute_result"
    }
   ],
   "source": [
    "x = 10\n",
    "\n",
    "x **= 5\n",
    "\n",
    "x"
   ]
  },
  {
   "cell_type": "code",
   "execution_count": 114,
   "id": "cf76a2bd-9919-4a84-8809-6ef9711dcdb7",
   "metadata": {},
   "outputs": [
    {
     "data": {
      "text/plain": [
       "0"
      ]
     },
     "execution_count": 114,
     "metadata": {},
     "output_type": "execute_result"
    }
   ],
   "source": [
    "x = 10\n",
    "\n",
    "x &= 5\n",
    "\n",
    "x"
   ]
  },
  {
   "cell_type": "markdown",
   "id": "73e48d5d-d73a-449e-88be-4974d68c62a1",
   "metadata": {},
   "source": [
    "# Identity operators\n",
    "\n",
    "\n",
    "is \n",
    "\n",
    "is not"
   ]
  },
  {
   "cell_type": "code",
   "execution_count": 125,
   "id": "60aec563-058e-4445-ad9f-9d7c1f1021d9",
   "metadata": {},
   "outputs": [
    {
     "name": "stdout",
     "output_type": "stream",
     "text": [
      "140721377559624\n",
      "140721377559944\n"
     ]
    }
   ],
   "source": [
    "a = 10\n",
    "b = 20\n",
    "\n",
    "print(id(a))\n",
    "print(id(b))"
   ]
  },
  {
   "cell_type": "code",
   "execution_count": 13,
   "id": "a52f62b0-b291-435d-a4aa-3fe9011322c1",
   "metadata": {},
   "outputs": [
    {
     "name": "stdout",
     "output_type": "stream",
     "text": [
      "2337240148560\n",
      "2337240148880\n",
      "2337240148880\n"
     ]
    }
   ],
   "source": [
    "a = 10\n",
    "b = 20\n",
    "c = 20\n",
    "\n",
    "print(id(a))\n",
    "print(id(b))\n",
    "print(id(c))"
   ]
  },
  {
   "cell_type": "markdown",
   "id": "27af8557",
   "metadata": {},
   "source": [
    "memory reuseability \n",
    "\n",
    "1. applicable for\n",
    "int ---> -5 to 256\n",
    "bool\n",
    "None\n",
    "str (a-z , A-Z , 0-9 , _)\n",
    "\n",
    "\n",
    "2. not applicable for\n",
    "float\n",
    "complex\n",
    "derived data type"
   ]
  },
  {
   "cell_type": "code",
   "execution_count": 130,
   "id": "83771659-7fef-4c6e-8518-ec174aa1ddb7",
   "metadata": {},
   "outputs": [
    {
     "name": "stdout",
     "output_type": "stream",
     "text": [
      "1861508952944\n",
      "1861508952240\n",
      "False\n"
     ]
    }
   ],
   "source": [
    "a = 355\n",
    "b = 355\n",
    "\n",
    "\n",
    "print(id(a))\n",
    "print(id(b))\n",
    "#For larger integers or other types of objects, Python creates separate objects in memory\n",
    "#even if they have the same value.\n",
    "print(a is b) #"
   ]
  },
  {
   "cell_type": "code",
   "execution_count": 131,
   "id": "03525cb8-ba16-4a49-b40e-cc6d74804475",
   "metadata": {},
   "outputs": [
    {
     "name": "stdout",
     "output_type": "stream",
     "text": [
      "140721377560424\n",
      "140721377560424\n",
      "True\n"
     ]
    }
   ],
   "source": [
    "a = 35\n",
    "b = 35\n",
    "\n",
    "\n",
    "print(id(a))\n",
    "print(id(b))\n",
    "\n",
    "print(a is b)\n",
    "# small integers within range"
   ]
  },
  {
   "cell_type": "code",
   "execution_count": 132,
   "id": "19d53f1f-18d8-47b7-b6ae-e72df8a95c6a",
   "metadata": {},
   "outputs": [
    {
     "name": "stdout",
     "output_type": "stream",
     "text": [
      "True\n",
      "True\n"
     ]
    }
   ],
   "source": [
    "a = 35\n",
    "b = 35\n",
    "\n",
    "\n",
    "# print(id(a))\n",
    "# print(id(b))\n",
    "\n",
    "print(a == b)\n",
    "\n",
    "print(a is b)"
   ]
  },
  {
   "cell_type": "code",
   "execution_count": 133,
   "id": "2bfcf0f4-395c-473a-9508-2a1c174db8ca",
   "metadata": {},
   "outputs": [
    {
     "name": "stdout",
     "output_type": "stream",
     "text": [
      "True\n",
      "False\n"
     ]
    }
   ],
   "source": [
    "a = 350\n",
    "b = 350\n",
    "\n",
    "\n",
    "# print(id(a))\n",
    "# print(id(b))\n",
    "\n",
    "print(a == b)\n",
    "\n",
    "print(a is b)# out of int range"
   ]
  },
  {
   "cell_type": "code",
   "execution_count": 135,
   "id": "c477c00b-31f3-4697-983b-b2e79e9b567d",
   "metadata": {},
   "outputs": [
    {
     "name": "stdout",
     "output_type": "stream",
     "text": [
      "1861506389904\n",
      "1861508952272\n",
      "True\n",
      "False\n"
     ]
    }
   ],
   "source": [
    "a = 35.45\n",
    "b = 35.45\n",
    "\n",
    "\n",
    "print(id(a))\n",
    "print(id(b))\n",
    "\n",
    "print(a == b)\n",
    "\n",
    "print(a is b)# not applicaple for floats"
   ]
  },
  {
   "cell_type": "code",
   "execution_count": 136,
   "id": "3d3e57b1-da84-4ee4-94f1-bba082ce521d",
   "metadata": {},
   "outputs": [
    {
     "name": "stdout",
     "output_type": "stream",
     "text": [
      "1861508953136\n",
      "1861508952528\n",
      "True\n",
      "False\n"
     ]
    }
   ],
   "source": [
    "a = 23+43j\n",
    "b = 23+43j\n",
    "\n",
    "\n",
    "print(id(a))\n",
    "print(id(b))\n",
    "\n",
    "print(a == b)\n",
    "\n",
    "print(a is b) # not applicaple for complex"
   ]
  },
  {
   "cell_type": "code",
   "execution_count": 137,
   "id": "a46705d0-d6e5-45ca-ac60-9c860500b0d3",
   "metadata": {},
   "outputs": [
    {
     "name": "stdout",
     "output_type": "stream",
     "text": [
      "1861492797808\n",
      "1861492797808\n",
      "True\n",
      "True\n"
     ]
    }
   ],
   "source": [
    "a = 'DATA_science123'\n",
    "b = 'DATA_science123'\n",
    "\n",
    "\n",
    "print(id(a))\n",
    "print(id(b))\n",
    "\n",
    "print(a == b)\n",
    "\n",
    "print(a is b) # str (a-z , A-Z , 0-9 , _)"
   ]
  },
  {
   "cell_type": "code",
   "execution_count": 138,
   "id": "b798b6bd-9ae1-462d-b397-0a71b85d7c73",
   "metadata": {},
   "outputs": [
    {
     "name": "stdout",
     "output_type": "stream",
     "text": [
      "1861498216496\n",
      "1861498223792\n",
      "True\n",
      "False\n"
     ]
    }
   ],
   "source": [
    "a = 'DATA science123'\n",
    "b = 'DATA science123'\n",
    "\n",
    "\n",
    "print(id(a))\n",
    "print(id(b))\n",
    "\n",
    "print(a == b)\n",
    "\n",
    "print(a is b)  #str (a-z , A-Z , 0-9 , _)"
   ]
  },
  {
   "cell_type": "code",
   "execution_count": null,
   "id": "6ac2ed82-be1a-469e-9592-9c87b7ea9fb2",
   "metadata": {},
   "outputs": [],
   "source": [
    "# \n",
    "\n",
    "\n",
    "Float\n",
    "\n",
    "and \n",
    "\n",
    "Complex"
   ]
  },
  {
   "cell_type": "code",
   "execution_count": null,
   "id": "86fb5efc-1cdd-4d2e-a364-fb466ec14c18",
   "metadata": {},
   "outputs": [],
   "source": []
  },
  {
   "cell_type": "code",
   "execution_count": null,
   "id": "964d603e-eaf1-46e4-9c02-e68719cc40a2",
   "metadata": {},
   "outputs": [],
   "source": []
  },
  {
   "cell_type": "code",
   "execution_count": null,
   "id": "ba773090-d686-4370-812a-a6434261d7f3",
   "metadata": {},
   "outputs": [],
   "source": []
  },
  {
   "cell_type": "code",
   "execution_count": null,
   "id": "11a05f40-359a-49f1-81d3-e1521da50224",
   "metadata": {},
   "outputs": [],
   "source": []
  },
  {
   "cell_type": "code",
   "execution_count": null,
   "id": "a38cb6c2-f825-4dee-bba3-3c47cffe7d72",
   "metadata": {},
   "outputs": [],
   "source": []
  },
  {
   "cell_type": "code",
   "execution_count": null,
   "id": "86d7786b-16f4-4a0c-8feb-f70ec366a081",
   "metadata": {},
   "outputs": [],
   "source": []
  }
 ],
 "metadata": {
  "kernelspec": {
   "display_name": "Python 3 (ipykernel)",
   "language": "python",
   "name": "python3"
  },
  "language_info": {
   "codemirror_mode": {
    "name": "ipython",
    "version": 3
   },
   "file_extension": ".py",
   "mimetype": "text/x-python",
   "name": "python",
   "nbconvert_exporter": "python",
   "pygments_lexer": "ipython3",
   "version": "3.9.13"
  }
 },
 "nbformat": 4,
 "nbformat_minor": 5
}
