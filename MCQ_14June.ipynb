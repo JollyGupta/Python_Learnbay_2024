{
 "cells": [
  {
   "cell_type": "code",
   "execution_count": 11,
   "id": "e661982f",
   "metadata": {},
   "outputs": [],
   "source": [
    " list1 = list()"
   ]
  },
  {
   "cell_type": "code",
   "execution_count": 17,
   "id": "4479b55a",
   "metadata": {},
   "outputs": [
    {
     "ename": "NameError",
     "evalue": "name 'random' is not defined",
     "output_type": "error",
     "traceback": [
      "\u001b[1;31m---------------------------------------------------------------------------\u001b[0m",
      "\u001b[1;31mNameError\u001b[0m                                 Traceback (most recent call last)",
      "Cell \u001b[1;32mIn[17], line 2\u001b[0m\n\u001b[0;32m      1\u001b[0m list1\u001b[38;5;241m=\u001b[39m[\u001b[38;5;241m1\u001b[39m,\u001b[38;5;241m2\u001b[39m,\u001b[38;5;241m3\u001b[39m]\n\u001b[1;32m----> 2\u001b[0m \u001b[43mrandom\u001b[49m\u001b[38;5;241m.\u001b[39mshuffle(list1)\n",
      "\u001b[1;31mNameError\u001b[0m: name 'random' is not defined"
     ]
    }
   ],
   "source": [
    "list1=[1,2,3]\n",
    "random.shuffle(list1)"
   ]
  },
  {
   "cell_type": "code",
   "execution_count": 18,
   "id": "8a35a542",
   "metadata": {},
   "outputs": [
    {
     "name": "stdout",
     "output_type": "stream",
     "text": [
      "[4, 2, 2, 4, 5, 2]\n"
     ]
    }
   ],
   "source": [
    "l=[4, 2, 2, 4, 5, 2, 1, 0]\n",
    "print(l[:-2])"
   ]
  },
  {
   "cell_type": "code",
   "execution_count": 19,
   "id": "cf969126",
   "metadata": {},
   "outputs": [
    {
     "name": "stdout",
     "output_type": "stream",
     "text": [
      "n\n"
     ]
    }
   ],
   "source": [
    "names = ['Amir', 'Bear', 'Charlton', 'Daman']\n",
    "print(names[-1][-1])"
   ]
  },
  {
   "cell_type": "code",
   "execution_count": 22,
   "id": "fa4114a9",
   "metadata": {},
   "outputs": [
    {
     "name": "stdout",
     "output_type": "stream",
     "text": [
      "12\n"
     ]
    }
   ],
   "source": [
    "names1 = ['Amir', 'Bear', 'Charlton', 'Daman']\n",
    "names2 = names1\n",
    "names3 = names1[:]\n",
    " \n",
    "names2[0] = 'Alice'\n",
    "names3[1] = 'Bob'\n",
    " \n",
    "sum = 0\n",
    "for ls in (names1, names2, names3):\n",
    "    if ls[0] == 'Alice':\n",
    "        sum += 1\n",
    "    if ls[1] == 'Bob':\n",
    "        sum += 10\n",
    "        \n",
    "print (sum)"
   ]
  },
  {
   "cell_type": "code",
   "execution_count": 25,
   "id": "1d76d8bf",
   "metadata": {},
   "outputs": [
    {
     "data": {
      "text/plain": [
       "[0.0, 0.5, 1.0, 1.5]"
      ]
     },
     "execution_count": 25,
     "metadata": {},
     "output_type": "execute_result"
    }
   ],
   "source": [
    "list1 = [0.5 * x for x in range(0, 4)]\n",
    "list1"
   ]
  },
  {
   "cell_type": "code",
   "execution_count": 26,
   "id": "6845131a",
   "metadata": {},
   "outputs": [
    {
     "name": "stdout",
     "output_type": "stream",
     "text": [
      "[1, 2, 3]\n"
     ]
    }
   ],
   "source": [
    "def f(i, values = []):\n",
    "    values.append(i)\n",
    "    return values\n",
    " \n",
    "f(1)\n",
    "f(2)\n",
    "v = f(3)\n",
    "print(v)"
   ]
  },
  {
   "cell_type": "code",
   "execution_count": 27,
   "id": "27f5e392",
   "metadata": {},
   "outputs": [
    {
     "data": {
      "text/plain": [
       "[[0, 1, 2], [1, 2, 3], [2, 3, 4]]"
      ]
     },
     "execution_count": 27,
     "metadata": {},
     "output_type": "execute_result"
    }
   ],
   "source": [
    "m = [[x, x + 1, x + 2] for x in range(0, 3)]\n",
    "m"
   ]
  },
  {
   "cell_type": "code",
   "execution_count": 29,
   "id": "733ec327",
   "metadata": {},
   "outputs": [
    {
     "data": {
      "text/plain": [
       "[[0, 0],\n",
       " [0, 1],\n",
       " [0, 2],\n",
       " [0, 3],\n",
       " [1, 0],\n",
       " [1, 1],\n",
       " [1, 2],\n",
       " [1, 3],\n",
       " [2, 0],\n",
       " [2, 1],\n",
       " [2, 2],\n",
       " [2, 3],\n",
       " [3, 0],\n",
       " [3, 1],\n",
       " [3, 2],\n",
       " [3, 3]]"
      ]
     },
     "execution_count": 29,
     "metadata": {},
     "output_type": "execute_result"
    }
   ],
   "source": [
    "m = [[x, y] for x in range(0, 4) for y in range(0, 4)]\n",
    "m\n"
   ]
  },
  {
   "cell_type": "code",
   "execution_count": 30,
   "id": "9e6c5231",
   "metadata": {},
   "outputs": [
    {
     "name": "stdout",
     "output_type": "stream",
     "text": [
      "33\n"
     ]
    }
   ],
   "source": [
    "#net\n",
    "values = [[3, 4, 5, 1], [33, 6, 1, 2]]\n",
    " \n",
    "v = values[0][0]\n",
    "for row in range(0, len(values)): ##2 stop\n",
    "    for column in range(0, len(values[row])): #2 0,1\n",
    "        if v < values[row][column]: # 3 <2,2 ()\n",
    "            v = values[row][column]\n",
    "print(v)"
   ]
  },
  {
   "cell_type": "code",
   "execution_count": 31,
   "id": "deb025b2",
   "metadata": {},
   "outputs": [
    {
     "name": "stdout",
     "output_type": "stream",
     "text": [
      "1\n"
     ]
    }
   ],
   "source": [
    "values = [[3, 4, 5, 1], [33, 6, 1, 2]]\n",
    " \n",
    "v = values[0][0]\n",
    "for lst in values:\n",
    "    for element in lst:\n",
    "        if v > element: #3>1 \n",
    "            v = element # 1 to v\n",
    "print(v)"
   ]
  },
  {
   "cell_type": "code",
   "execution_count": 32,
   "id": "5fdeac9c",
   "metadata": {},
   "outputs": [
    {
     "data": {
      "text/plain": [
       "3"
      ]
     },
     "execution_count": 32,
     "metadata": {},
     "output_type": "execute_result"
    }
   ],
   "source": [
    "values = [[3, 4, 5, 1], [33, 6, 1, 2]]\n",
    "values[0][0]"
   ]
  },
  {
   "cell_type": "code",
   "execution_count": 33,
   "id": "0e2e7dc6",
   "metadata": {},
   "outputs": [
    {
     "name": "stdout",
     "output_type": "stream",
     "text": [
      "1 3 4 5 \n",
      "1 2 6 33 \n"
     ]
    }
   ],
   "source": [
    "#doubt\n",
    "values = [[3, 4, 5, 1 ], [33, 6, 1, 2]]\n",
    " \n",
    "for row in values:\n",
    "    row.sort()\n",
    "    for element in row:\n",
    "        print(element, end = \" \")\n",
    "    print()"
   ]
  },
  {
   "cell_type": "code",
   "execution_count": 43,
   "id": "654e009e",
   "metadata": {},
   "outputs": [],
   "source": [
    "values = [[3, 4, 5, 1 ], [33, 6, 1, 2]]\n",
    "values.sort()"
   ]
  },
  {
   "cell_type": "code",
   "execution_count": 44,
   "id": "cd8d3a83",
   "metadata": {},
   "outputs": [
    {
     "name": "stdout",
     "output_type": "stream",
     "text": [
      "2 5 9 13 "
     ]
    }
   ],
   "source": [
    "matrix = [[1, 2, 3, 4],\n",
    "       [4, 5, 6, 7],\n",
    "       [8, 9, 10, 11],\n",
    "       [12, 13, 14, 15]]\n",
    " \n",
    "for i in range(0, 4):\n",
    "    print(matrix[i][1], end = \" \")"
   ]
  },
  {
   "cell_type": "code",
   "execution_count": 45,
   "id": "506c5100",
   "metadata": {},
   "outputs": [
    {
     "name": "stdout",
     "output_type": "stream",
     "text": [
      "5 33 "
     ]
    }
   ],
   "source": [
    "def m(list):\n",
    "    v = list[0]\n",
    "    for e in list:\n",
    "      if v < e: v = e\n",
    "    return v\n",
    " \n",
    "values = [[3, 4, 5, 1], [33, 6, 1, 2]]\n",
    " \n",
    "for row in values: \n",
    "    print(m(row), end = \" \")"
   ]
  },
  {
   "cell_type": "code",
   "execution_count": null,
   "id": "e03e04cf",
   "metadata": {},
   "outputs": [],
   "source": [
    "a=[14,52,7]\n",
    "b=a.copy()\n",
    "b is a\n",
    "# List b is just a copy of the original list. Any copy made in list b will\n",
    "#not be reflected in list a."
   ]
  },
  {
   "cell_type": "code",
   "execution_count": 46,
   "id": "89bd675f",
   "metadata": {},
   "outputs": [
    {
     "name": "stdout",
     "output_type": "stream",
     "text": [
      "[13, 56, 17, [87], 45, 67]\n"
     ]
    }
   ],
   "source": [
    "a=[13,56,17]\n",
    "a.append([87])\n",
    "a.extend([45,67])\n",
    "print(a)"
   ]
  },
  {
   "cell_type": "code",
   "execution_count": 47,
   "id": "c723db94",
   "metadata": {},
   "outputs": [
    {
     "name": "stdout",
     "output_type": "stream",
     "text": [
      "180\n",
      "[45, 45, 45, 45]\n"
     ]
    }
   ],
   "source": [
    "a=list((45,)*4)\n",
    "print((45)*4)\n",
    "print(a)\n",
    "#(45) is an int while (45,) is a tuple of one element. Thus when a tuple is multiplied, it created references\n",
    "#of itself which is later converted to a list."
   ]
  },
  {
   "cell_type": "code",
   "execution_count": 51,
   "id": "50b290b1",
   "metadata": {},
   "outputs": [
    {
     "ename": "TypeError",
     "evalue": "'int' object is not callable",
     "output_type": "error",
     "traceback": [
      "\u001b[1;31m---------------------------------------------------------------------------\u001b[0m",
      "\u001b[1;31mTypeError\u001b[0m                                 Traceback (most recent call last)",
      "Cell \u001b[1;32mIn[51], line 2\u001b[0m\n\u001b[0;32m      1\u001b[0m lst\u001b[38;5;241m=\u001b[39m[[\u001b[38;5;241m1\u001b[39m,\u001b[38;5;241m2\u001b[39m],[\u001b[38;5;241m3\u001b[39m,\u001b[38;5;241m4\u001b[39m]]\n\u001b[1;32m----> 2\u001b[0m \u001b[38;5;28mprint\u001b[39m(\u001b[38;5;28;43msum\u001b[39;49m\u001b[43m(\u001b[49m\u001b[43mlst\u001b[49m\u001b[43m,\u001b[49m\u001b[43m[\u001b[49m\u001b[43m]\u001b[49m\u001b[43m)\u001b[49m)\n",
      "\u001b[1;31mTypeError\u001b[0m: 'int' object is not callable"
     ]
    }
   ],
   "source": [
    "#doubt\n",
    "lst=[[1,2],[3,4]]\n",
    "print(sum(lst,[]))"
   ]
  },
  {
   "cell_type": "code",
   "execution_count": 52,
   "id": "af530190",
   "metadata": {},
   "outputs": [
    {
     "name": "stdout",
     "output_type": "stream",
     "text": [
      "True\n",
      "False\n"
     ]
    }
   ],
   "source": [
    "word1=\"Apple\"\n",
    "word2=\"Apple\"\n",
    "list1=[1,2,3]\n",
    "list2=[1,2,3]\n",
    "print(word1 is word2)\n",
    "print(list1 is list2)"
   ]
  },
  {
   "cell_type": "code",
   "execution_count": 53,
   "id": "4a78c7bf",
   "metadata": {},
   "outputs": [
    {
     "name": "stdout",
     "output_type": "stream",
     "text": [
      "5\n"
     ]
    }
   ],
   "source": [
    "def unpack(a,b,c,d):\n",
    "    print(a+d)\n",
    "x = [1,2,3,4]\n",
    "unpack(*x)"
   ]
  },
  {
   "cell_type": "code",
   "execution_count": 55,
   "id": "301a286a",
   "metadata": {},
   "outputs": [
    {
     "name": "stdout",
     "output_type": "stream",
     "text": [
      "['Bangalore', 'Mumbai', 'Delhi']\n"
     ]
    }
   ],
   "source": [
    "#https://www.sanfoundry.com/python-questions-answers-lists-7/\n",
    "places = ['Bangalore', 'Mumbai', 'Delhi']\n",
    "<br class=\"blank\" />places1 = places\n",
    "places2 = places[:]\n",
    "<br class=\"blank\" />places1[1]=\"Pune\"\n",
    "places2[2]=\"Hyderabad\"\n",
    "print(places)\n",
    "#places1 is an alias of the list places. Hence, any change made to places1 is reflected in places. places2 is a copy of the list places. Thus,\n",
    "#any change made to places2 isn’t reflected in places."
   ]
  },
  {
   "cell_type": "code",
   "execution_count": 56,
   "id": "3d906a11",
   "metadata": {},
   "outputs": [
    {
     "name": "stdout",
     "output_type": "stream",
     "text": [
      "[1] [2]\n"
     ]
    }
   ],
   "source": [
    "x=[[1],[2]]\n",
    "print(\" \".join(list(map(str,x))))\n",
    "#The elements 1 and 2 are first put into separate lists and then \n",
    "#combined with a space in between using the join attribute."
   ]
  },
  {
   "cell_type": "code",
   "execution_count": 59,
   "id": "764ce02d",
   "metadata": {},
   "outputs": [
    {
     "ename": "TypeError",
     "evalue": "map() must have at least two arguments.",
     "output_type": "error",
     "traceback": [
      "\u001b[1;31m---------------------------------------------------------------------------\u001b[0m",
      "\u001b[1;31mTypeError\u001b[0m                                 Traceback (most recent call last)",
      "Cell \u001b[1;32mIn[59], line 2\u001b[0m\n\u001b[0;32m      1\u001b[0m a\u001b[38;5;241m=\u001b[39m\u001b[38;5;241m165\u001b[39m\n\u001b[1;32m----> 2\u001b[0m b\u001b[38;5;241m=\u001b[39m\u001b[38;5;28msum\u001b[39m(\u001b[38;5;28mlist\u001b[39m(\u001b[38;5;28;43mmap\u001b[39;49m\u001b[43m(\u001b[49m\u001b[38;5;28;43mstr\u001b[39;49m\u001b[43m(\u001b[49m\u001b[43ma\u001b[49m\u001b[43m)\u001b[49m\u001b[43m)\u001b[49m))\n\u001b[0;32m      3\u001b[0m \u001b[38;5;28mprint\u001b[39m(b)\n\u001b[0;32m      4\u001b[0m \u001b[38;5;66;03m#first, map converts the number to string and then places the individual digits in a list. Then, sum finds the sum of the digits in the list.\u001b[39;00m\n\u001b[0;32m      5\u001b[0m \u001b[38;5;66;03m#The code basically finds the sum of digits in the number.\u001b[39;00m\n",
      "\u001b[1;31mTypeError\u001b[0m: map() must have at least two arguments."
     ]
    }
   ],
   "source": [
    "a=165\n",
    "b=sum(list(map(int,str(a))))\n",
    "print(b)\n",
    "#first, map converts the number to string and then places the individual digits in a list. Then, sum finds the sum of the digits in the list.\n",
    "#The code basically finds the sum of digits in the number."
   ]
  },
  {
   "cell_type": "code",
   "execution_count": 60,
   "id": "6f5d7c69",
   "metadata": {},
   "outputs": [
    {
     "name": "stdout",
     "output_type": "stream",
     "text": [
      "2 3 4 5 5 "
     ]
    }
   ],
   "source": [
    "a= [1, 2, 3, 4, 5]\n",
    "for i in range(1, 5):\n",
    "    a[i-1] = a[i]\n",
    "for i in range(0, 5): \n",
    "    print(a[i],end = \" \")\n",
    "    #The items having indexes from 1 to 4 are shifted forward by one index due to the first for-loop \n",
    "    #and the item of index four is printed again because of the second for-loop."
   ]
  },
  {
   "cell_type": "code",
   "execution_count": 61,
   "id": "7cb68117",
   "metadata": {},
   "outputs": [
    {
     "name": "stdout",
     "output_type": "stream",
     "text": [
      "3\n",
      "[44, 2, 3]\n"
     ]
    }
   ],
   "source": [
    "def change(var, lst):\n",
    "    var = 1\n",
    "    lst[0] = 44\n",
    "k = 3\n",
    "a = [1, 2, 3]\n",
    "change(k, a)\n",
    "print(k)\n",
    "print(a)"
   ]
  },
  {
   "cell_type": "code",
   "execution_count": 62,
   "id": "f9b11dc9",
   "metadata": {},
   "outputs": [
    {
     "name": "stdout",
     "output_type": "stream",
     "text": [
      "4\n"
     ]
    }
   ],
   "source": [
    "#doubt\n",
    "a = [1, 5, 7, 9, 9, 1]\n",
    "b=a[0]\n",
    "x= 0\n",
    "for x in range(1, len(a)): # 1,6\n",
    "    if a[x] > b: # 1> 1\n",
    "        b = a[x]\n",
    "        b= x\n",
    "print(b)\n",
    "#The above piece of code basically prints the index of the largest element in the list."
   ]
  },
  {
   "cell_type": "code",
   "execution_count": 64,
   "id": "6457d7ca",
   "metadata": {},
   "outputs": [
    {
     "name": "stdout",
     "output_type": "stream",
     "text": [
      "['Ball', 'Apple', 'Cobra']\n"
     ]
    }
   ],
   "source": [
    "a=[\"Apple\",\"Ball\",\"Cobra\"]\n",
    "a.sort(key=len)\n",
    "print(a)"
   ]
  },
  {
   "cell_type": "code",
   "execution_count": 65,
   "id": "5e3a0066",
   "metadata": {},
   "outputs": [
    {
     "name": "stdout",
     "output_type": "stream",
     "text": [
      "0: One 1: Two 2: Three "
     ]
    }
   ],
   "source": [
    "num = ['One', 'Two', 'Three']\n",
    "for i, x in enumerate(num):\n",
    "    print('{}: {}'.format(i, x),end=\" \")"
   ]
  },
  {
   "cell_type": "code",
   "execution_count": null,
   "id": "88ce7bbe",
   "metadata": {},
   "outputs": [],
   "source": [
    "#https://www.sanfoundry.com/python-questions-answers-lists-6/"
   ]
  },
  {
   "cell_type": "code",
   "execution_count": null,
   "id": "8e05308e",
   "metadata": {},
   "outputs": [],
   "source": []
  },
  {
   "cell_type": "code",
   "execution_count": null,
   "id": "a6dbf1d5",
   "metadata": {},
   "outputs": [],
   "source": []
  }
 ],
 "metadata": {
  "kernelspec": {
   "display_name": "Python 3 (ipykernel)",
   "language": "python",
   "name": "python3"
  },
  "language_info": {
   "codemirror_mode": {
    "name": "ipython",
    "version": 3
   },
   "file_extension": ".py",
   "mimetype": "text/x-python",
   "name": "python",
   "nbconvert_exporter": "python",
   "pygments_lexer": "ipython3",
   "version": "3.9.13"
  }
 },
 "nbformat": 4,
 "nbformat_minor": 5
}
