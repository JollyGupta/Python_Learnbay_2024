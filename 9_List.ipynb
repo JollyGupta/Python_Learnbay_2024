{
 "cells": [
  {
   "cell_type": "markdown",
   "id": "50ce89f3-4d69-4c08-a308-7b4012f39565",
   "metadata": {},
   "source": [
    "# Replace\n",
    "\n",
    "- All occurrences of the specified phrase will be replaced, if nothing else is specified.\n",
    "- string.replace(oldvalue, newvalue, count)"
   ]
  },
  {
   "cell_type": "code",
   "execution_count": 1,
   "id": "01928deb-6376-49c7-9410-e0880b9c1e16",
   "metadata": {},
   "outputs": [
    {
     "data": {
      "text/plain": [
       "'this is jythons class, jython is jrograming lang, jython has an easy syntax'"
      ]
     },
     "execution_count": 1,
     "metadata": {},
     "output_type": "execute_result"
    }
   ],
   "source": [
    "a = 'this is pythons class, python is programing lang, python has an easy syntax'\n",
    "\n",
    "a.replace('p' , 'j')"
   ]
  },
  {
   "cell_type": "code",
   "execution_count": 2,
   "id": "2cd7aa13-40f3-4767-ac80-7b993f2cc6d1",
   "metadata": {},
   "outputs": [
    {
     "data": {
      "text/plain": [
       "'this is javas class, java is programing lang, java has an easy syntax'"
      ]
     },
     "execution_count": 2,
     "metadata": {},
     "output_type": "execute_result"
    }
   ],
   "source": [
    "a = 'this is pythons class, python is programing lang, python has an easy syntax'\n",
    "\n",
    "a.replace('python' , 'java')"
   ]
  },
  {
   "cell_type": "code",
   "execution_count": 3,
   "id": "51aa062a-43a7-4d43-89ee-0f645ccc6317",
   "metadata": {},
   "outputs": [
    {
     "data": {
      "text/plain": [
       "'this is javas class, java is programing lang, python has an easy syntax'"
      ]
     },
     "execution_count": 3,
     "metadata": {},
     "output_type": "execute_result"
    }
   ],
   "source": [
    "a = 'this is pythons class, python is programing lang, python has an easy syntax'\n",
    "\n",
    "a.replace('python' , 'java' ,  2)"
   ]
  },
  {
   "cell_type": "markdown",
   "id": "dbd6f7af-a9c6-479f-a86f-4424db791350",
   "metadata": {},
   "source": [
    "# Split\n",
    "- The split() method splits a string into a list.\n",
    "- splits a string into a list of strings after breaking the given string by the specified separator.\n",
    "\n",
    "- You can specify the separator, default separator is any whitespace.\n",
    "\n",
    "- Note: When maxsplit is specified, the list will contain the specified number of elements plus one. It is a number, that tells us to split the string into a maximum of the provided number of times. If it is not provided then the default is -1 which means there is no limit.\n",
    "\n",
    "- Syntax\n",
    "- string.split(separator, maxsplit)"
   ]
  },
  {
   "cell_type": "code",
   "execution_count": 12,
   "id": "cdbafce2-9c6a-49b6-8d36-12280a9290dd",
   "metadata": {},
   "outputs": [
    {
     "data": {
      "text/plain": [
       "['this',\n",
       " 'is',\n",
       " 'pythons',\n",
       " 'class,',\n",
       " 'python',\n",
       " 'is',\n",
       " 'programing',\n",
       " 'lang,',\n",
       " 'python',\n",
       " 'has',\n",
       " 'an',\n",
       " 'easy',\n",
       " 'syntax']"
      ]
     },
     "execution_count": 12,
     "metadata": {},
     "output_type": "execute_result"
    }
   ],
   "source": [
    "a = 'this is pythons class, python is programing lang, python has an easy syntax'\n",
    "\n",
    "a.split()"
   ]
  },
  {
   "cell_type": "code",
   "execution_count": 1,
   "id": "4517d3f2",
   "metadata": {},
   "outputs": [
    {
     "name": "stdout",
     "output_type": "stream",
     "text": [
      "['this is pythons class', ' python is programing lang, python has an easy syntax']\n",
      "['this is pythons class', ' python is programing lang', ' python has an easy syntax']\n",
      "['this', 'is pythons class, python is programing lang, python has an easy syntax']\n",
      "['this', 'is', 'pythons class, python is programing lang, python has an easy syntax']\n"
     ]
    }
   ],
   "source": [
    "#https://www.youtube.com/watch?v=-dynY515NsY\n",
    "a = 'this is pythons class, python is programing lang, python has an easy syntax'\n",
    "\n",
    "#a.split()\n",
    "\n",
    "print(a.split(',', 1))\n",
    "print(a.split(',', 2))\n",
    "\n",
    "\n",
    "print(a.split(' ', 1)) # into 2 parts by white space whenever it encounter white space \n",
    "print(a.split(' ', 2)) # into 3 parts\n"
   ]
  },
  {
   "cell_type": "code",
   "execution_count": 20,
   "id": "43038e36-cf48-4cd2-ad4e-c86b482c2b22",
   "metadata": {},
   "outputs": [
    {
     "name": "stdout",
     "output_type": "stream",
     "text": [
      "['xyz', 'gmail', 'com']\n",
      "['xyz', 'gmail@com']\n"
     ]
    }
   ],
   "source": [
    "a = 'xyz@gmail@com'\n",
    "\n",
    "print(a.split(\"@\"))\n",
    "\n",
    "print(a.split('@', 1))"
   ]
  },
  {
   "cell_type": "code",
   "execution_count": 25,
   "id": "b19b3d7a-9e2e-49f6-a14b-5b9946abf1f0",
   "metadata": {},
   "outputs": [
    {
     "name": "stdout",
     "output_type": "stream",
     "text": [
      "['this is pythons class', ' python is programing lang', ' python has an easy syntax']\n",
      "['this is pythons class', ' python is programing lang', ' python has an easy syntax']\n"
     ]
    },
    {
     "data": {
      "text/plain": [
       "['this is pythons class',\n",
       " ' python is programing lang',\n",
       " ' python has an easy syntax']"
      ]
     },
     "execution_count": 25,
     "metadata": {},
     "output_type": "execute_result"
    }
   ],
   "source": [
    "a = 'this is pythons class, python is programing lang, python has an easy syntax'\n",
    "\n",
    "print (a.split(\",\"))\n",
    "print (a.split(','))\n",
    "a.split(\",\") # if u use no print statement it will pick the last one value"
   ]
  },
  {
   "cell_type": "code",
   "execution_count": 3,
   "id": "c6984538-66f1-478b-882d-a76e9f3dfd29",
   "metadata": {},
   "outputs": [
    {
     "name": "stdout",
     "output_type": "stream",
     "text": [
      "['this', 'is', 'pythons', 'class,', 'java', 'is', 'programing', 'lang,', 'python', 'has', 'an', 'easy', 'syntax']\n"
     ]
    }
   ],
   "source": [
    "a = 'this is pythons class, python is programing lang, python has an easy syntax'\n",
    "\n",
    "b = a.split()\n",
    "b[4] = 'java'\n",
    "print(b)\n"
   ]
  },
  {
   "cell_type": "markdown",
   "id": "6dcf9971-8754-4361-abc1-60662a95a7fa",
   "metadata": {},
   "source": [
    "# Join\n",
    "\n",
    "- This function joins elements of a sequence and makes it a string.\n",
    "\n",
    "- Iterable – objects capable of returning their members one at a time. Some examples are List, Tuple, String, Dictionary, and Set\n",
    "\n",
    "- Return Value: The join() method returns a string concatenated with the elements of iterable.\n",
    " \n",
    "- Type Error: If the iterable contains any non-string values, it raises a TypeError exception.\n"
   ]
  },
  {
   "cell_type": "code",
   "execution_count": 4,
   "id": "618d4e12-3e66-46b1-b2f0-f9b14ce7a9e2",
   "metadata": {},
   "outputs": [
    {
     "data": {
      "text/plain": [
       "'this is pythons class, java is programing lang, python has an easy syntax'"
      ]
     },
     "execution_count": 4,
     "metadata": {},
     "output_type": "execute_result"
    }
   ],
   "source": [
    "' '.join(b) # pass pass in hindi \n",
    "# ' '.join(tuple(b))"
   ]
  },
  {
   "cell_type": "code",
   "execution_count": 5,
   "id": "93f4484e-3a09-4062-9acc-bd3a3bc130ac",
   "metadata": {},
   "outputs": [
    {
     "data": {
      "text/plain": [
       "'this@is@pythons@class,@java@is@programing@lang,@python@has@an@easy@syntax'"
      ]
     },
     "execution_count": 5,
     "metadata": {},
     "output_type": "execute_result"
    }
   ],
   "source": [
    "'@'.join(b)"
   ]
  },
  {
   "cell_type": "code",
   "execution_count": 6,
   "id": "8d69f6ce-efc4-4f89-925d-7e93f80ad8fc",
   "metadata": {},
   "outputs": [
    {
     "name": "stdout",
     "output_type": "stream",
     "text": [
      "this is pythons class, python is programing lang, python has an easy syntax\n"
     ]
    }
   ],
   "source": [
    "print(a)"
   ]
  },
  {
   "cell_type": "code",
   "execution_count": 7,
   "id": "a4cb703d-580e-416b-935b-bcb50ce2936c",
   "metadata": {},
   "outputs": [
    {
     "data": {
      "text/plain": [
       "'this is pythons class, java is programing lang, python has an easy syntax'"
      ]
     },
     "execution_count": 7,
     "metadata": {},
     "output_type": "execute_result"
    }
   ],
   "source": [
    "\n",
    "' '.join(tuple(b))  # tuple immutable \n",
    "\n",
    "# doubt------------if want to insert 2 elements then? \n",
    "\n"
   ]
  },
  {
   "cell_type": "code",
   "execution_count": 9,
   "id": "06cd9a71-0b33-41dd-8eca-28e5e639a56b",
   "metadata": {},
   "outputs": [
    {
     "name": "stdout",
     "output_type": "stream",
     "text": [
      "['Salahudin', 'gmail.com']\n",
      "['Vijay', 'yahoo.com']\n",
      "['Abdul', 'gmail.com']\n",
      "['Abhijeet', 'hotmail.com']\n",
      "['Aditya', 'gmail.com']\n",
      "Salahudin\n",
      "Vijay\n",
      "Abdul\n",
      "Abhijeet\n",
      "Aditya\n",
      "gmail.com\n",
      "yahoo.com\n",
      "gmail.com\n",
      "hotmail.com\n",
      "gmail.com\n",
      "S\n",
      "V\n",
      "A\n",
      "A\n",
      "A\n",
      "a\n",
      "i\n",
      "b\n",
      "b\n",
      "d\n",
      "['gupta.jolly28@gmail.com', 'Vijay@yahoo.com', 'Abdul@gmail.com', 'Abhijeet@hotmail.com', 'Aditya@gmail.com']\n"
     ]
    }
   ],
   "source": [
    "# list [], mutable\n",
    "# tuple (), immutable \n",
    "# splits break the string into list \n",
    "\n",
    "a = ['Salahudin@gmail.com' , 'Vijay@yahoo.com' , 'Abdul@gmail.com' , 'Abhijeet@hotmail.com' ,\n",
    "    'Aditya@gmail.com']\n",
    "\n",
    "#for -This is a loop statement that iterates over each element in the iterable a.\n",
    "\n",
    "\n",
    "# i=0th element, \n",
    "for i in a:\n",
    "    print (i.split('@'))\n",
    "    \n",
    "\n",
    "#After splitting, [0] selects the first element of the resulting list, \n",
    "#which effectively extracts the part of the string before the \"@\" symbol.\n",
    "for i in a:\n",
    "    print(i.split('@')[0])\n",
    "   \n",
    "    \n",
    "for i in a:\n",
    "     print(i.split('@')[1])\n",
    "        \n",
    "for i in a:\n",
    "    print(i.split('@')[0][0])\n",
    "    \n",
    "for i in a:\n",
    "    print(i.split('@')[0][1])  # list [], mutable so it will pick 2nd item from every name \n",
    "    \n",
    "a[0]= 'gupta.jolly28@gmail.com'   \n",
    "    \n",
    "print(a) # list [], mutable"
   ]
  },
  {
   "cell_type": "code",
   "execution_count": 62,
   "id": "1007cf6a",
   "metadata": {},
   "outputs": [
    {
     "name": "stdout",
     "output_type": "stream",
     "text": [
      "['axaa', 'gmail.com']\n",
      "['bybb', 'yahoo.com']\n",
      "['czcc', 'gmail.com']\n",
      "['dhdd', 'hotmail.com']\n",
      "['epee', 'gmail.com']\n",
      "gmail.com\n",
      "yahoo.com\n",
      "gmail.com\n",
      "hotmail.com\n",
      "gmail.com\n",
      "axaa\n",
      "bybb\n",
      "czcc\n",
      "dhdd\n",
      "epee\n",
      "['axaa@gmail.com', 'bybb@yahoo.com', 'czcc@gmail.com', 'dhdd@hotmail.com', 'epee@gmail.com']\n"
     ]
    }
   ],
   "source": [
    "a = ['axaa@gmail.com' , 'bybb@yahoo.com' , 'czcc@gmail.com' , 'dhdd@hotmail.com' ,\n",
    "    'epee@gmail.com']\n",
    "\n",
    "for i in a:\n",
    "    print (i.split('@'))\n",
    "    \n",
    "for i in a:\n",
    "    print(i.split('@')[1])  \n",
    "    \n",
    "for i in a:\n",
    "    print(i.split('@')[0]) \n",
    "    \n",
    "    \n",
    "print(a)  "
   ]
  },
  {
   "cell_type": "code",
   "execution_count": 58,
   "id": "38ab3d48",
   "metadata": {},
   "outputs": [
    {
     "name": "stdout",
     "output_type": "stream",
     "text": [
      "['axaa', 'gmail.com']\n",
      "['bybb', 'yahoo.com']\n",
      "['czcc', 'gmail.com']\n",
      "['dhdd', 'hotmail.com']\n",
      "['epee', 'gmail.com']\n",
      "gmail.com\n",
      "yahoo.com\n",
      "gmail.com\n",
      "hotmail.com\n",
      "gmail.com\n",
      "axaa\n",
      "bybb\n",
      "czcc\n",
      "dhdd\n",
      "epee\n"
     ]
    }
   ],
   "source": [
    "a = ('axaa@gmail.com' , 'bybb@yahoo.com' , 'czcc@gmail.com' , 'dhdd@hotmail.com' ,\n",
    "    'epee@gmail.com')\n",
    "\n",
    "for i in a:\n",
    "    print (i.split('@'))\n",
    "    \n",
    "    \n",
    "for i in a:\n",
    "    print(i.split('@')[1])  \n",
    "    \n",
    "for i in a:\n",
    "    print(i.split('@')[0]) \n",
    "    \n",
    "    \n",
    "print(a)     "
   ]
  },
  {
   "cell_type": "code",
   "execution_count": 69,
   "id": "911a00e4",
   "metadata": {},
   "outputs": [
    {
     "name": "stdout",
     "output_type": "stream",
     "text": [
      "['Salahudin', 'gmail.com']\n",
      "['Vijay', 'yahoo.com']\n",
      "['Abdul', 'gmail.com']\n",
      "['Abhijeet', 'hotmail.com']\n",
      "['Aditya', 'gmail.com']\n",
      "Salahudin\n",
      "Vijay\n",
      "Abdul\n",
      "Abhijeet\n",
      "Aditya\n",
      "a\n",
      "i\n",
      "b\n",
      "b\n",
      "d\n",
      "('Salahudin@gmail.com', 'Vijay@yahoo.com', 'Abdul@gmail.com', 'Abhijeet@hotmail.com', 'Aditya@gmail.com')\n"
     ]
    }
   ],
   "source": [
    "a = ('Salahudin@gmail.com' , 'Vijay@yahoo.com' , 'Abdul@gmail.com' , 'Abhijeet@hotmail.com' ,\n",
    "    'Aditya@gmail.com')\n",
    "\n",
    " \n",
    "for i in a:\n",
    "    print (i.split('@')) # first split from original\n",
    "    \n",
    "\n",
    "for i in a:\n",
    "    print(i.split('@')[0]) # second split from output from first\n",
    "    \n",
    "    \n",
    "for i in a:\n",
    "    print(i.split('@')[0][1])# third split from output from second   # tuple (), immmutable \n",
    "    \n",
    "     \n",
    "print(a)\n",
    "     \n"
   ]
  },
  {
   "cell_type": "code",
   "execution_count": 95,
   "id": "544342b6-d263-49f7-ad10-b29b70b16692",
   "metadata": {},
   "outputs": [
    {
     "name": "stdout",
     "output_type": "stream",
     "text": [
      "['2024', '05', '06']\n",
      "['2024', '05', '07']\n",
      "['2024', '05', '08']\n",
      "['2024', '05', '09']\n",
      "['2024', '05', '10']\n",
      "['2024', '05', '11']\n",
      "['2024', '05', '12']\n",
      "['2024', '05', '13']\n",
      "['2024', '05', '14']\n",
      "['2024', '05', '15']\n",
      "2024/05/06\n",
      "2024/05/07\n",
      "2024/05/08\n",
      "2024/05/09\n",
      "2024/05/10\n",
      "2024/05/11\n",
      "2024/05/12\n",
      "2024/05/13\n",
      "2024/05/14\n",
      "2024/05/15\n",
      "06/05/2024\n",
      "07/05/2024\n",
      "08/05/2024\n",
      "09/05/2024\n",
      "10/05/2024\n",
      "11/05/2024\n",
      "12/05/2024\n",
      "13/05/2024\n",
      "14/05/2024\n",
      "15/05/2024\n"
     ]
    }
   ],
   "source": [
    "a =   ['2024-05-06', '2024-05-07', '2024-05-08', '2024-05-09',\n",
    "       '2024-05-10', '2024-05-11', '2024-05-12', '2024-05-13',\n",
    "       '2024-05-14', '2024-05-15']\n",
    "\n",
    "# YYYY-MM-DD ----------->  DD/MM/YYYY\n",
    "\n",
    "#for i in a:\n",
    "#    print(i.split('-'))\n",
    "#    print('/'.join)\n",
    "\n",
    "#DOUBT ----------can not collect output after spliting then join?\n",
    "\n",
    "#for i in a:\n",
    "#        c = i.split('-')\n",
    "#              print('/'.join(c))\n",
    "\n",
    "for i in a:\n",
    "    print(i.split('-'))\n",
    "\n",
    "for i in a:\n",
    "    print('/'.join(i.split('-')))\n",
    "    \n",
    "            \n",
    "\n",
    "for i in a:\n",
    "    print('/'.join(i.split('-')[::-1]))"
   ]
  },
  {
   "cell_type": "code",
   "execution_count": 104,
   "id": "d5b528cc-2213-4985-afce-0f582798c781",
   "metadata": {},
   "outputs": [
    {
     "name": "stdout",
     "output_type": "stream",
     "text": [
      "2024/05/06\n",
      "2024/05/07\n",
      "2024/05/08\n",
      "2024/05/09\n",
      "2024/05/10\n",
      "2024/05/11\n",
      "2024/05/12\n",
      "2024/05/13\n",
      "2024/05/14\n",
      "2024/05/15\n",
      "60/50/4202\n",
      "70/50/4202\n",
      "80/50/4202\n",
      "90/50/4202\n",
      "01/50/4202\n",
      "11/50/4202\n",
      "21/50/4202\n",
      "31/50/4202\n",
      "41/50/4202\n",
      "51/50/4202\n"
     ]
    }
   ],
   "source": [
    "a =   ['2024-05-06', '2024-05-07', '2024-05-08', '2024-05-09',\n",
    "       '2024-05-10', '2024-05-11', '2024-05-12', '2024-05-13',\n",
    "       '2024-05-14', '2024-05-15']\n",
    "\n",
    "# YYYY-MM-DD ----------->  DD/MM/YYYY\n",
    "#The replace() method replaces a specified phrase with another specified phrase.\n",
    "\n",
    "for i in a:\n",
    "    print(i.replace('-' , '/'))\n",
    "    \n",
    "#DOUBT------------How to reverse   \n",
    "for i in a:\n",
    "  print(i.replace('-' , '/')[::-1]) \n",
    "    \n",
    "    \n",
    "#for i in a:\n",
    " #   print(i.split[::-1]) "
   ]
  },
  {
   "cell_type": "markdown",
   "id": "e8da6668-af31-435a-9482-d8499e4208cc",
   "metadata": {},
   "source": [
    "# find , rfind , index , rindex\n",
    "\n",
    "- The find() method finds the first occurrence of the specified value.\n",
    "- The find() method returns -1 if the value is not found.\n",
    "\n",
    "- string.find(search value, start, end)\n",
    "\n",
    "\n",
    "\n",
    "- The rfind() method finds the last occurrence of the specified value.\n",
    "- The rfind() method returns -1 if the value is not found.\n",
    "- The rfind() method is almost the same as the rindex()\n",
    "\n",
    "- string.rfind(value, start, end)\n",
    "\n",
    "\n",
    "\n",
    "- The index() method returns the position at the first occurrence of the specified value.\n",
    "- list.index(elmnt)\n",
    "\n",
    "- If the value is not found, the rfind() method returns -1, but the rindex() method will raise an exception:\n",
    "\n",
    "- string.rindex(value, start, end)\n",
    "\n",
    "\n",
    "\n",
    "\n"
   ]
  },
  {
   "cell_type": "code",
   "execution_count": 66,
   "id": "1ef9dfce-afe4-4751-b7ce-c440e59784fb",
   "metadata": {},
   "outputs": [
    {
     "data": {
      "text/plain": [
       "3"
      ]
     },
     "execution_count": 66,
     "metadata": {},
     "output_type": "execute_result"
    }
   ],
   "source": [
    "a = 'this is pythons class' # first occurence index\n",
    "\n",
    "a.find('s')"
   ]
  },
  {
   "cell_type": "code",
   "execution_count": 10,
   "id": "d478a1e5-bffd-4abc-a234-82a10031719d",
   "metadata": {},
   "outputs": [
    {
     "data": {
      "text/plain": [
       "20"
      ]
     },
     "execution_count": 10,
     "metadata": {},
     "output_type": "execute_result"
    }
   ],
   "source": [
    "a = 'this is pythons class going on' # last occurence\n",
    "\n",
    "a.rfind('s')"
   ]
  },
  {
   "cell_type": "code",
   "execution_count": 68,
   "id": "af9d874d-4130-4234-94a4-0963b962d4e2",
   "metadata": {},
   "outputs": [
    {
     "data": {
      "text/plain": [
       "3"
      ]
     },
     "execution_count": 68,
     "metadata": {},
     "output_type": "execute_result"
    }
   ],
   "source": [
    "a = 'this is pythons class' # first occurence\n",
    "\n",
    "a.index('s')"
   ]
  },
  {
   "cell_type": "code",
   "execution_count": 69,
   "id": "b69f628c-a156-460f-aa89-216deac7ea27",
   "metadata": {},
   "outputs": [
    {
     "data": {
      "text/plain": [
       "20"
      ]
     },
     "execution_count": 69,
     "metadata": {},
     "output_type": "execute_result"
    }
   ],
   "source": [
    "a = 'this is pythons class going on' # last occurence\n",
    "\n",
    "a.rindex('s')"
   ]
  },
  {
   "cell_type": "code",
   "execution_count": 105,
   "id": "41fc5a40-5322-464d-919d-368a866ea93b",
   "metadata": {},
   "outputs": [
    {
     "data": {
      "text/plain": [
       "-1"
      ]
     },
     "execution_count": 105,
     "metadata": {},
     "output_type": "execute_result"
    }
   ],
   "source": [
    "a = 'this is pythons class' # return -1 if value is not found\n",
    "\n",
    "a.find('z')"
   ]
  },
  {
   "cell_type": "code",
   "execution_count": 71,
   "id": "6004117d-e8bd-4f84-9db9-af2bb73ae038",
   "metadata": {},
   "outputs": [
    {
     "ename": "ValueError",
     "evalue": "substring not found",
     "output_type": "error",
     "traceback": [
      "\u001b[1;31m---------------------------------------------------------------------------\u001b[0m",
      "\u001b[1;31mValueError\u001b[0m                                Traceback (most recent call last)",
      "Cell \u001b[1;32mIn[71], line 3\u001b[0m\n\u001b[0;32m      1\u001b[0m a \u001b[38;5;241m=\u001b[39m \u001b[38;5;124m'\u001b[39m\u001b[38;5;124mthis is pythons class\u001b[39m\u001b[38;5;124m'\u001b[39m\n\u001b[1;32m----> 3\u001b[0m a\u001b[38;5;241m.\u001b[39mindex(\u001b[38;5;124m'\u001b[39m\u001b[38;5;124mz\u001b[39m\u001b[38;5;124m'\u001b[39m)\n",
      "\u001b[1;31mValueError\u001b[0m: substring not found"
     ]
    }
   ],
   "source": [
    "a = 'this is pythons class' # return error if value is not found\n",
    "\n",
    "a.index('z')"
   ]
  },
  {
   "cell_type": "code",
   "execution_count": 106,
   "id": "0bc49121-4263-4a86-8a58-48c40ca19d66",
   "metadata": {},
   "outputs": [
    {
     "name": "stdout",
     "output_type": "stream",
     "text": [
      "Salahudin\n",
      "Vijay\n",
      "Abdul\n",
      "Abhijeet\n",
      "Aditya\n"
     ]
    }
   ],
   "source": [
    "a = ['Salahudin@gmail.com' , 'Vijay@yahoo.com' , 'Abdul@gmail.com' , 'Abhijeet@hotmail.com' ,\n",
    "    'Aditya@gmail.com']\n",
    "\n",
    "for i in a:\n",
    "    print(i.split('@')[0])"
   ]
  },
  {
   "cell_type": "code",
   "execution_count": 11,
   "id": "b3110cd9-0399-4f4a-8291-f2912756450b",
   "metadata": {},
   "outputs": [
    {
     "name": "stdout",
     "output_type": "stream",
     "text": [
      "Salahudin\n",
      "Vijay\n",
      "Abdul\n",
      "Abhijeet\n",
      "Aditya\n"
     ]
    }
   ],
   "source": [
    "#DOUBT-------------------------------\n",
    "\n",
    "a = ['Salahudin@gmail.com' , 'Vijay@yahoo.com' , 'Abdul@gmail.com' , 'Abhijeet@hotmail.com' ,\n",
    "    'Aditya@gmail.com']\n",
    "   \n",
    "for i in a:\n",
    "    print(i[:i.find('@')])"
   ]
  },
  {
   "cell_type": "code",
   "execution_count": 111,
   "id": "038b0dee-3813-491f-a86b-2eea9b9a968c",
   "metadata": {},
   "outputs": [
    {
     "name": "stdout",
     "output_type": "stream",
     "text": [
      "Salahudin\n",
      "Vijay\n",
      "Abdul\n",
      "Abhijeet\n",
      "Aditya\n"
     ]
    }
   ],
   "source": [
    "a = ['Salahudin@gmail.com' , 'Vijay@yahoo.com' , 'Abdul@gmail.com' , 'Abhijeet@hotmail.com' ,\n",
    "    'Aditya@gmail.com']\n",
    "\n",
    "for i in a:\n",
    "    print(i[ : i.find('@')])"
   ]
  },
  {
   "cell_type": "markdown",
   "id": "93fc75b7-935b-4a01-b9bb-92782f9590be",
   "metadata": {},
   "source": [
    "# Count \n",
    "- The count() method returns the number of elements with the specified value."
   ]
  },
  {
   "cell_type": "code",
   "execution_count": 113,
   "id": "38f1ae85-eb9f-4daa-981c-02790f6e9e7e",
   "metadata": {},
   "outputs": [
    {
     "data": {
      "text/plain": [
       "4"
      ]
     },
     "execution_count": 113,
     "metadata": {},
     "output_type": "execute_result"
    }
   ],
   "source": [
    "a = 'this is pythons class, python is programing lang, python has an easy syntax'\n",
    "\n",
    "\n",
    "a.count('p')"
   ]
  },
  {
   "cell_type": "code",
   "execution_count": 116,
   "id": "ef0aa1db-7a20-4265-b2d4-31b07345b756",
   "metadata": {},
   "outputs": [
    {
     "data": {
      "text/plain": [
       "3"
      ]
     },
     "execution_count": 116,
     "metadata": {},
     "output_type": "execute_result"
    }
   ],
   "source": [
    "a = 'this is pythons class, python is programing lang, python has an easy syntax'\n",
    "\n",
    "\n",
    "a.count('python')"
   ]
  },
  {
   "cell_type": "code",
   "execution_count": 117,
   "id": "8e17c4cf-4923-4608-9d91-4420c4e66595",
   "metadata": {},
   "outputs": [
    {
     "data": {
      "text/plain": [
       "0"
      ]
     },
     "execution_count": 117,
     "metadata": {},
     "output_type": "execute_result"
    }
   ],
   "source": [
    "a = 'this is pythons class, python is programing lang, python has an easy syntax'\n",
    "\n",
    "\n",
    "a.count('java')"
   ]
  },
  {
   "cell_type": "markdown",
   "id": "a773f86a-17b6-40a8-8e29-5236589566c5",
   "metadata": {},
   "source": [
    "# List\n",
    "\n",
    "- Anything written inside [] and each elements are sep by ,"
   ]
  },
  {
   "cell_type": "code",
   "execution_count": 118,
   "id": "3248d609-85c4-42b0-9644-00d46f9a7eaa",
   "metadata": {},
   "outputs": [
    {
     "name": "stdout",
     "output_type": "stream",
     "text": [
      "[34, 345, 45, 56] <class 'list'>\n"
     ]
    }
   ],
   "source": [
    "a = [34,345,45,56]\n",
    "\n",
    "print(a , type(a))"
   ]
  },
  {
   "cell_type": "markdown",
   "id": "0252a63d-9b1a-442a-a97f-916c9d61b51a",
   "metadata": {},
   "source": [
    "# Different methods to Create a list"
   ]
  },
  {
   "cell_type": "code",
   "execution_count": 119,
   "id": "302dad67-3109-424e-9c68-b0a5984a023f",
   "metadata": {},
   "outputs": [
    {
     "name": "stdout",
     "output_type": "stream",
     "text": [
      "[34, 345, 45, 56] <class 'list'>\n"
     ]
    }
   ],
   "source": [
    "# If you already know the elements\n",
    "\n",
    "a = [34,345,45,56]\n",
    "\n",
    "print(a , type(a))"
   ]
  },
  {
   "cell_type": "code",
   "execution_count": 120,
   "id": "49031c1c-7e0f-44c3-98ed-a71bfbc20b0c",
   "metadata": {},
   "outputs": [
    {
     "name": "stdout",
     "output_type": "stream",
     "text": [
      "1\n",
      "1 <class 'int'>\n"
     ]
    }
   ],
   "source": [
    "# Taking an user input\n",
    "\n",
    "a = eval(input())\n",
    "\n",
    "print(a , type(a))"
   ]
  },
  {
   "cell_type": "code",
   "execution_count": 121,
   "id": "017aa61a-8d7a-4312-afd9-487d43712058",
   "metadata": {},
   "outputs": [
    {
     "name": "stdout",
     "output_type": "stream",
     "text": [
      "23,34,56,67\n",
      "(23, 34, 56, 67) <class 'tuple'>\n"
     ]
    }
   ],
   "source": [
    "a = eval(input())\n",
    "\n",
    "print(a , type(a))"
   ]
  },
  {
   "cell_type": "markdown",
   "id": "9896a8c1-6e7b-41e8-98aa-c41d24bd893f",
   "metadata": {},
   "source": [
    "# Type casting\n",
    "- There may be times when you want to specify a type on to a variable. This can be done with casting.\n",
    "\n",
    "- Convert String to Number Methods\n",
    "- We have explained the methods to convert a string into a integer datatype. Here is the list of the functions:\n",
    "\n",
    "- Using int() function\n",
    "- Using eval() function\n",
    "- Using ast.literal_eval\n",
    "- Using str.isdigit() function"
   ]
  },
  {
   "cell_type": "code",
   "execution_count": 122,
   "id": "14f50795-5b74-4eeb-b1b3-f82a11e4ff96",
   "metadata": {},
   "outputs": [
    {
     "name": "stdout",
     "output_type": "stream",
     "text": [
      "[2, 3, 4, 5]\n",
      "['h', 'e', 'l', 'l', 'o']\n"
     ]
    }
   ],
   "source": [
    "a = (2,3,4,5)\n",
    "b = 'hello'\n",
    "\n",
    "print(list(a))\n",
    "print(list(b))"
   ]
  },
  {
   "cell_type": "code",
   "execution_count": 132,
   "id": "63056ec0-8ce5-4707-9777-cdd6433bd5ff",
   "metadata": {},
   "outputs": [
    {
     "name": "stdout",
     "output_type": "stream",
     "text": [
      "7\n",
      "<class 'int'>\n",
      "['h', 'e', 'l', 'l', 'o', ' ', 'w', 'o', 'r', 'l', 'd']\n",
      "('h', 'e', 'l', 'l', 'o', ' ', 'w', 'o', 'r', 'l', 'd')\n"
     ]
    }
   ],
   "source": [
    "#convert string to int data type\n",
    "print(int(\"7\"))\n",
    "\n",
    "#check the data type with type() method\n",
    "print(type(int(\"7\")))\n",
    "\n",
    "\n",
    "a = 'hello world'\n",
    "print(list(a))\n",
    "print(tuple(a))\n",
    "\n",
    "# DOUBT not able to convert string to int\n",
    "#print(int(\"a\"))\n",
    "#print(type(int(\"a\")))"
   ]
  },
  {
   "cell_type": "code",
   "execution_count": 133,
   "id": "18ee900d-51cb-43d7-8edd-ca29b726637b",
   "metadata": {},
   "outputs": [
    {
     "data": {
      "text/plain": [
       "['hello', 'world']"
      ]
     },
     "execution_count": 133,
     "metadata": {},
     "output_type": "execute_result"
    }
   ],
   "source": [
    "a = 'hello world'\n",
    "\n",
    "a.split()"
   ]
  },
  {
   "cell_type": "code",
   "execution_count": 134,
   "id": "de70ba20-d4f6-49fe-b38c-1bf35641e15b",
   "metadata": {},
   "outputs": [
    {
     "name": "stdout",
     "output_type": "stream",
     "text": [
      "34,56,67\n",
      "[34, 56, 67] <class 'list'>\n"
     ]
    }
   ],
   "source": [
    "a = list(eval(input()))\n",
    "\n",
    "print(a , type(a))"
   ]
  },
  {
   "cell_type": "code",
   "execution_count": 135,
   "id": "a2f89d14-f83f-4239-8cff-921bd12283c8",
   "metadata": {},
   "outputs": [
    {
     "data": {
      "text/plain": [
       "['3', '4', ',', '5', ',', '6']"
      ]
     },
     "execution_count": 135,
     "metadata": {},
     "output_type": "execute_result"
    }
   ],
   "source": [
    "a = '34,5,6'\n",
    "\n",
    "list(a)"
   ]
  },
  {
   "cell_type": "markdown",
   "id": "dc203fd9-71a0-4504-848d-8a687a65f865",
   "metadata": {},
   "source": [
    "# Properties of list\n",
    "\n",
    "- It is an seq data (It allows indexing and slicing)\n",
    "- It allows duplication\n",
    "- It is hetrogeneous - can contain multiple data type\n",
    "- basic op - concatination , repetations , identity , memebership\n",
    "\n",
    "#### It is an mutable data type"
   ]
  },
  {
   "cell_type": "code",
   "execution_count": 137,
   "id": "8aa306d9-5337-47fa-9f18-34a3b28c7ed4",
   "metadata": {},
   "outputs": [
    {
     "name": "stdout",
     "output_type": "stream",
     "text": [
      "Vijay@yahoo.com\n"
     ]
    }
   ],
   "source": [
    "a = ['Salahudin@gmail.com' , 'Vijay@yahoo.com' , 'Abdul@gmail.com' , 'Abhijeet@hotmail.com' ,\n",
    "    'Aditya@gmail.com']\n",
    "\n",
    "print(a[1])"
   ]
  },
  {
   "cell_type": "code",
   "execution_count": 138,
   "id": "1ff0330c-b98b-4ee8-b001-7b6a1492559e",
   "metadata": {},
   "outputs": [
    {
     "name": "stdout",
     "output_type": "stream",
     "text": [
      "['Vijay@yahoo.com', 'Abdul@gmail.com', 'Abhijeet@hotmail.com']\n"
     ]
    }
   ],
   "source": [
    "a = ['Salahudin@gmail.com' , 'Vijay@yahoo.com' , 'Abdul@gmail.com' , 'Abhijeet@hotmail.com' ,\n",
    "    'Aditya@gmail.com']\n",
    "\n",
    "print(a[1 : 4])"
   ]
  },
  {
   "cell_type": "code",
   "execution_count": 139,
   "id": "da6b3430-d847-4d22-9a8c-d4405f3c068e",
   "metadata": {},
   "outputs": [
    {
     "name": "stdout",
     "output_type": "stream",
     "text": [
      "['Abhijeet@hotmail.com', 'Abdul@gmail.com', 'Vijay@yahoo.com']\n"
     ]
    }
   ],
   "source": [
    "a = ['Salahudin@gmail.com' , 'Vijay@yahoo.com' , 'Abdul@gmail.com' , 'Abhijeet@hotmail.com' ,\n",
    "    'Aditya@gmail.com']\n",
    "\n",
    "print(a[-2 : -5 : -1])"
   ]
  },
  {
   "cell_type": "code",
   "execution_count": 12,
   "id": "6da8d978-c212-424a-9113-bf4bbad43694",
   "metadata": {},
   "outputs": [
    {
     "name": "stdout",
     "output_type": "stream",
     "text": [
      "['Salahudin@gmail.com', 'Vijay@yahoo.com', 'Abdul@gmail.com', 'Abdul@gmail.com', 'Abdul@gmail.com', 'Abdul@gmail.com', 'Abdul@gmail.com', 'Abhijeet@hotmail.com', 'Aditya@gmail.com']\n"
     ]
    }
   ],
   "source": [
    "a = ['Salahudin@gmail.com' , 'Vijay@yahoo.com' , 'Abdul@gmail.com' , 'Abdul@gmail.com' ,'Abdul@gmail.com' , 'Abdul@gmail.com'\n",
    "     ,'Abdul@gmail.com', 'Abhijeet@hotmail.com' ,\n",
    "    'Aditya@gmail.com']\n",
    "\n",
    "print(a)"
   ]
  },
  {
   "cell_type": "code",
   "execution_count": 142,
   "id": "e4ba5208-d668-4132-a302-f8f9691b4b02",
   "metadata": {},
   "outputs": [
    {
     "name": "stdout",
     "output_type": "stream",
     "text": [
      "{'Abhijeet@hotmail.com', 'Abdul@gmail.com', 'Salahudin@gmail.com', 'Vijay@yahoo.com', 'Aditya@gmail.com'}\n"
     ]
    }
   ],
   "source": [
    "a = {'Salahudin@gmail.com' , 'Vijay@yahoo.com' , 'Abdul@gmail.com' , 'Abdul@gmail.com' ,'Abdul@gmail.com' , 'Abdul@gmail.com'\n",
    "     ,'Abdul@gmail.com', 'Abhijeet@hotmail.com' ,'Aditya@gmail.com'}\n",
    "\n",
    "print(a) # in set duplicate no"
   ]
  },
  {
   "cell_type": "code",
   "execution_count": 143,
   "id": "95aa6380",
   "metadata": {},
   "outputs": [
    {
     "name": "stdout",
     "output_type": "stream",
     "text": [
      "('Salahudin@gmail.com', 'Vijay@yahoo.com', 'Abdul@gmail.com', 'Abdul@gmail.com', 'Abdul@gmail.com', 'Abdul@gmail.com', 'Abdul@gmail.com', 'Abhijeet@hotmail.com', 'Aditya@gmail.com')\n"
     ]
    }
   ],
   "source": [
    "a = ('Salahudin@gmail.com' , 'Vijay@yahoo.com' , 'Abdul@gmail.com' , 'Abdul@gmail.com' ,'Abdul@gmail.com' , 'Abdul@gmail.com'\n",
    "     ,'Abdul@gmail.com', 'Abhijeet@hotmail.com' ,\n",
    "    'Aditya@gmail.com')\n",
    "\n",
    "print(a)"
   ]
  },
  {
   "cell_type": "code",
   "execution_count": 144,
   "id": "8c776fc4-1fe6-4e27-98d0-dc2a2ef8fde6",
   "metadata": {},
   "outputs": [
    {
     "name": "stdout",
     "output_type": "stream",
     "text": [
      "['Salahudin@gmail.com', 34, 45.56, ['a', 'b'], {'a': 54}]\n"
     ]
    }
   ],
   "source": [
    "a = ['Salahudin@gmail.com' , 34 , 45.56 , ['a' , 'b'] , {'a' :54}]\n",
    "\n",
    "print(a)"
   ]
  },
  {
   "cell_type": "code",
   "execution_count": 145,
   "id": "09f3a1f6-2c98-4781-a3ff-fa043025c154",
   "metadata": {},
   "outputs": [
    {
     "name": "stdout",
     "output_type": "stream",
     "text": [
      "[1, 2, 3, 4, 5, 6, 7, 8, 9, 10]\n"
     ]
    }
   ],
   "source": [
    "a = [1,2,3,4,5]\n",
    "b = [6,7,8,9,10]\n",
    "\n",
    "\n",
    "print(a + b)"
   ]
  },
  {
   "cell_type": "code",
   "execution_count": 146,
   "id": "d9fdaa73-41f9-464f-a6e7-865f757b40b0",
   "metadata": {},
   "outputs": [
    {
     "name": "stdout",
     "output_type": "stream",
     "text": [
      "[1, 2, 3, 4, 5, 1, 2, 3, 4, 5]\n"
     ]
    }
   ],
   "source": [
    "a = [1,2,3,4,5]\n",
    "b = 2\n",
    "\n",
    "\n",
    "print(a * b)"
   ]
  },
  {
   "cell_type": "code",
   "execution_count": 147,
   "id": "ccabc7b2-2685-4207-bbb3-0fc2fa83a137",
   "metadata": {},
   "outputs": [
    {
     "name": "stdout",
     "output_type": "stream",
     "text": [
      "1572703295104\n",
      "1572703425728\n",
      "False\n",
      "True\n"
     ]
    }
   ],
   "source": [
    "a = [1,2,3,4,5]\n",
    "b = [1,2,3,4,5]\n",
    "\n",
    "print(id(a))\n",
    "\n",
    "print(id(b))\n",
    "\n",
    "print(a is b)\n",
    "\n",
    "print(a == b)"
   ]
  },
  {
   "cell_type": "code",
   "execution_count": 148,
   "id": "8921e699-3367-4876-8102-933f6b999034",
   "metadata": {},
   "outputs": [
    {
     "data": {
      "text/plain": [
       "False"
      ]
     },
     "execution_count": 148,
     "metadata": {},
     "output_type": "execute_result"
    }
   ],
   "source": [
    "a = [1,2,3,4,5]\n",
    "\n",
    "33 in a"
   ]
  },
  {
   "cell_type": "code",
   "execution_count": 149,
   "id": "2d534cdf-1a78-4df7-a6ee-98bdcb4121ba",
   "metadata": {},
   "outputs": [
    {
     "data": {
      "text/plain": [
       "True"
      ]
     },
     "execution_count": 149,
     "metadata": {},
     "output_type": "execute_result"
    }
   ],
   "source": [
    "a = [1,2,3,4,5]\n",
    "\n",
    "\n",
    "33 not in a"
   ]
  },
  {
   "cell_type": "markdown",
   "id": "9249fdc6-a174-435d-89ca-6bbbec4606c6",
   "metadata": {},
   "source": [
    "# Nested list"
   ]
  },
  {
   "cell_type": "code",
   "execution_count": null,
   "id": "bd45f0ad-15a2-491b-8307-19e1049a79c3",
   "metadata": {},
   "outputs": [],
   "source": [
    "a = [1,2,3,4] --> list\n",
    "\n",
    "a = [[1,2],3,4] --> nested list"
   ]
  },
  {
   "cell_type": "code",
   "execution_count": 150,
   "id": "174f83ae-6542-47c0-b159-5c7bb578779a",
   "metadata": {},
   "outputs": [
    {
     "data": {
      "text/plain": [
       "5"
      ]
     },
     "execution_count": 150,
     "metadata": {},
     "output_type": "execute_result"
    }
   ],
   "source": [
    "a = [34,54,567,65,34]\n",
    "\n",
    "len(a)"
   ]
  },
  {
   "cell_type": "code",
   "execution_count": 151,
   "id": "7d97f53d-c40e-442f-9340-f43c0ded2fc0",
   "metadata": {},
   "outputs": [
    {
     "data": {
      "text/plain": [
       "4"
      ]
     },
     "execution_count": 151,
     "metadata": {},
     "output_type": "execute_result"
    }
   ],
   "source": [
    "a = [[34,54],567,65,34]\n",
    "\n",
    "len(a)"
   ]
  },
  {
   "cell_type": "code",
   "execution_count": 153,
   "id": "77bc073d-f553-420d-8221-a8bffc21f650",
   "metadata": {},
   "outputs": [
    {
     "name": "stdout",
     "output_type": "stream",
     "text": [
      "34\n"
     ]
    }
   ],
   "source": [
    "a = [34,54,567,65,34]\n",
    "\n",
    "print(a[0])"
   ]
  },
  {
   "cell_type": "code",
   "execution_count": 155,
   "id": "3e5fca15-b365-48e6-8542-b3b8a0cdd26e",
   "metadata": {},
   "outputs": [
    {
     "name": "stdout",
     "output_type": "stream",
     "text": [
      "54\n",
      "567\n"
     ]
    }
   ],
   "source": [
    "a = [[34,54],567,65,34]\n",
    "\n",
    "print(a[0][1])\n",
    "print(a[1])"
   ]
  },
  {
   "cell_type": "code",
   "execution_count": 156,
   "id": "d9791d80-044e-47ac-9137-4d85b687d929",
   "metadata": {},
   "outputs": [
    {
     "data": {
      "text/plain": [
       "'color'"
      ]
     },
     "execution_count": 156,
     "metadata": {},
     "output_type": "execute_result"
    }
   ],
   "source": [
    "a = ['product' , 'quantity' , 'price' , ['ram' , 'color' , 'screen']]\n",
    "\n",
    "a[3][1]"
   ]
  },
  {
   "cell_type": "code",
   "execution_count": 159,
   "id": "3d3efd4f-6aa7-4e92-a9ba-e5bd1c4c9e4b",
   "metadata": {},
   "outputs": [
    {
     "name": "stdout",
     "output_type": "stream",
     "text": [
      "color\n",
      "screen\n"
     ]
    }
   ],
   "source": [
    "a = ['product' , 'quantity' , 'price' , ['ram' , 'color' , 'screen']]\n",
    "\n",
    "print(a[3][-2])# in forward dir\n",
    "print(a[3][-1])\n"
   ]
  },
  {
   "cell_type": "code",
   "execution_count": 162,
   "id": "8d804b59",
   "metadata": {},
   "outputs": [
    {
     "name": "stdout",
     "output_type": "stream",
     "text": [
      "screen\n",
      "ram\n",
      "color\n"
     ]
    }
   ],
   "source": [
    "a = ['product' , 'quantity' , 'price' , [['ram' , 'color'] , 'screen']]\n",
    "\n",
    "print(a[3][1])# in forward dir\n",
    "print(a[3][0][0])\n",
    "print(a[3][0][1])"
   ]
  },
  {
   "cell_type": "code",
   "execution_count": 163,
   "id": "35ffb495-64d7-478b-b9c5-8df8b92ffcef",
   "metadata": {},
   "outputs": [
    {
     "name": "stdout",
     "output_type": "stream",
     "text": [
      "screen\n",
      "ram\n",
      "color\n"
     ]
    }
   ],
   "source": [
    "a = ['product' , 'quantity' , 'price' , [['ram' , 'color'] , 'screen']]\n",
    "\n",
    "# [['ram' , 'color'] , 'screen']] this whole is -1\n",
    "\n",
    "\n",
    "print(a[-1][1]) # in reverse dir\n",
    "print(a[-1][0][0])\n",
    "print(a[-1][0][1])"
   ]
  },
  {
   "cell_type": "code",
   "execution_count": 166,
   "id": "7b0ae5a8-d195-4e94-a4c8-4c0958147dc9",
   "metadata": {},
   "outputs": [
    {
     "name": "stdout",
     "output_type": "stream",
     "text": [
      "[361, 400, 441, 484]\n",
      "[361, 400, 441, 484]\n",
      "[484, 441, 400, 361]\n",
      "[484, 441, 400, 361]\n"
     ]
    }
   ],
   "source": [
    "lst_1= [[   0,    1,    4,    9,   16,   25],\n",
    "       [  36,   49,   64,   81,  100,  121],\n",
    "       [ 144,  169,  196,  225,  256,  289],\n",
    "       [ 324,  361,  400,  441,  484,  529],\n",
    "       [ 576,  625,  676,  729,  784,  841],\n",
    "       [ 900,  961, 1024, 1089, 1156, 1225]]\n",
    "\n",
    "# 361,  400,  441,  484\n",
    "\n",
    "\n",
    "# print(lst_1[3][1:-1]) # logic of sir  -1 value stop and exclusive \n",
    "print(lst_1[3][1:5])    # logic of mine which one is more correct and why?\n",
    "\n",
    "# 484 , 441 , 400 , 361\n",
    "\n",
    "# print(lst_1[3][-2: 0 :-1]) # logic of sir  0 is stop value and exclusive \n",
    "print(lst_1[3][-2: -6:-1]) # logic of mine"
   ]
  },
  {
   "cell_type": "code",
   "execution_count": 175,
   "id": "5fc4b43d-31e4-44f2-8794-58e330a629ca",
   "metadata": {},
   "outputs": [
    {
     "name": "stdout",
     "output_type": "stream",
     "text": [
      "[[0, 1, 4, 9, 16, 25], [36, 49, 64, 81, 100, 121], [144, 169, 196, 225, 256, 289]]\n",
      "[[324, 361, 400, 441, 484, 529], [576, 625, 676, 729, 784, 841], [900, 961, 1024, 1089, 1156, 1225]]\n",
      "[0, 1, 4, 9, 16, 25]\n",
      "[324, 361, 400, 441, 484, 529]\n",
      "324\n",
      "[361, 400, 441, 484]\n",
      "[361, 400, 441, 484]\n",
      "[484, 441, 400, 361]\n",
      "[484, 441, 400, 361]\n"
     ]
    }
   ],
   "source": [
    "lst_2 = [[[   0,    1,    4,    9,   16,   25],[  36,   49,   64,   81,  100,  121],[ 144,  169,  196,  225,  256,  289]],\n",
    "\n",
    "       [[ 324,  361,  400,  441,  484,  529],\n",
    "        [ 576,  625,  676,  729,  784,  841],\n",
    "        [ 900,  961, 1024, 1089, 1156, 1225]]]\n",
    "\n",
    "print(lst_2[0])\n",
    "print(lst_2[1])\n",
    "\n",
    "print(lst_2[0][0])\n",
    "print(lst_2[1][0])\n",
    "print(lst_2[1][0][0])\n",
    "\n",
    "# 361,  400,  441,  484\n",
    "print(lst_2[1][0][1:5]) # mine logic\n",
    "print(lst_2[1][0][1:-1])\n",
    "\n",
    "# 484 , 441 , 400 , 361\n",
    "\n",
    "print(lst_2[1][0][-2: 0 :-1])\n",
    "print(lst_2[1][0][-2:-6:-1])  # mine logic\n"
   ]
  },
  {
   "cell_type": "code",
   "execution_count": null,
   "id": "7ec86001-bc9e-45ee-9c0b-c28795948321",
   "metadata": {},
   "outputs": [],
   "source": []
  }
 ],
 "metadata": {
  "kernelspec": {
   "display_name": "Python 3 (ipykernel)",
   "language": "python",
   "name": "python3"
  },
  "language_info": {
   "codemirror_mode": {
    "name": "ipython",
    "version": 3
   },
   "file_extension": ".py",
   "mimetype": "text/x-python",
   "name": "python",
   "nbconvert_exporter": "python",
   "pygments_lexer": "ipython3",
   "version": "3.9.13"
  }
 },
 "nbformat": 4,
 "nbformat_minor": 5
}
