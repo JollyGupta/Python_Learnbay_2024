{
 "cells": [
  {
   "cell_type": "markdown",
   "id": "d9e4edac-7a33-4a9e-a3ee-3bc6f1103190",
   "metadata": {},
   "source": [
    "# Return\n",
    "\n",
    "- It is optional\n",
    "- If not used by default every function returns None\n",
    "\n",
    "# By me\n",
    "\n",
    "- A return statement is used to end the execution of the function call and “returns” the result (value of the expression following the return keyword) to the caller. The statements after the return statements are not executed. If the return statement is without any expression, then the special value None is returned\n",
    " \n",
    "- Note: Return statement can not be used outside the function. \n",
    "\n",
    "  def fun():\n",
    "    statements\n",
    "    .\n",
    "    .\n",
    "    return [expression]\n",
    " "
   ]
  },
  {
   "cell_type": "code",
   "execution_count": 7,
   "id": "f125aab3-60a4-4b95-9441-41e0045cb2e7",
   "metadata": {},
   "outputs": [
    {
     "name": "stdout",
     "output_type": "stream",
     "text": [
      "30\n"
     ]
    }
   ],
   "source": [
    "def adder(a ,b):\n",
    "    print(a + b)\n",
    "\n",
    "\n",
    "re = adder(10,20)"
   ]
  },
  {
   "cell_type": "code",
   "execution_count": 3,
   "id": "3c0661c1-d6a4-4ff9-8b20-38968c407295",
   "metadata": {},
   "outputs": [
    {
     "name": "stdout",
     "output_type": "stream",
     "text": [
      "None\n"
     ]
    }
   ],
   "source": [
    "print(re) #If not used by default every function returns None"
   ]
  },
  {
   "cell_type": "code",
   "execution_count": 8,
   "id": "4c609ce5",
   "metadata": {},
   "outputs": [
    {
     "name": "stdout",
     "output_type": "stream",
     "text": [
      "30\n"
     ]
    }
   ],
   "source": [
    "#by me\n",
    "def adder(a ,b):\n",
    "    print(a + b)\n",
    "\n",
    "\n",
    "adder(10,20)"
   ]
  },
  {
   "cell_type": "code",
   "execution_count": 9,
   "id": "eae02a0d-837c-4f68-a817-58219aca98cd",
   "metadata": {},
   "outputs": [
    {
     "name": "stdout",
     "output_type": "stream",
     "text": [
      "30\n"
     ]
    }
   ],
   "source": [
    "def adder(a ,b):\n",
    "    return (a + b)\n",
    "\n",
    "\n",
    "re = adder(10,20)  # if return is inside the function, result will be stored in re \n",
    "print(re)"
   ]
  },
  {
   "cell_type": "code",
   "execution_count": 10,
   "id": "8002ba20-d4e3-4e35-bb72-41db86c8f4ee",
   "metadata": {},
   "outputs": [
    {
     "name": "stdout",
     "output_type": "stream",
     "text": [
      "30\n"
     ]
    }
   ],
   "source": [
    "def adder(a ,b):\n",
    "    c = a+b\n",
    "    return c\n",
    "\n",
    "re = adder(10,20)\n",
    "print(re)"
   ]
  },
  {
   "cell_type": "code",
   "execution_count": 11,
   "id": "7b4181ed-5273-4913-9aed-fba23ff13063",
   "metadata": {},
   "outputs": [
    {
     "name": "stdout",
     "output_type": "stream",
     "text": [
      "hello\n"
     ]
    }
   ],
   "source": [
    "def adder(a ,b):\n",
    "    c = a+b\n",
    "    return 'hello'\n",
    "\n",
    "re = adder(10,20)\n",
    "print(re)"
   ]
  },
  {
   "cell_type": "code",
   "execution_count": 13,
   "id": "fbbbe8cb-e291-4813-b876-3b0eb6d2cf29",
   "metadata": {},
   "outputs": [
    {
     "name": "stdout",
     "output_type": "stream",
     "text": [
      "30\n"
     ]
    }
   ],
   "source": [
    "def adder(a ,b):\n",
    "    c = a+b\n",
    "    d = a-b\n",
    "    return c  # The statements after the return statements are not executed\n",
    "    return d\n",
    "\n",
    "re = adder(10,20)\n",
    "print(re)"
   ]
  },
  {
   "cell_type": "code",
   "execution_count": 14,
   "id": "d6ea8c54-14b3-4dc1-acc3-cedac620fbbe",
   "metadata": {},
   "outputs": [
    {
     "name": "stdout",
     "output_type": "stream",
     "text": [
      "30\n"
     ]
    }
   ],
   "source": [
    "print(re)"
   ]
  },
  {
   "cell_type": "code",
   "execution_count": 15,
   "id": "5e158c5e-cf52-44d7-9e0f-2880060be425",
   "metadata": {},
   "outputs": [
    {
     "name": "stdout",
     "output_type": "stream",
     "text": [
      "(30, -10)\n"
     ]
    }
   ],
   "source": [
    "def adder(a ,b):\n",
    "    c = a+b\n",
    "    d = a-b\n",
    "    return c,d  # can add multiple statements at one go\n",
    "    \n",
    "re_1  = adder(10,20)\n",
    "print(re_1)"
   ]
  },
  {
   "cell_type": "code",
   "execution_count": 20,
   "id": "d5083d6e-8803-489c-bd66-86a773f83228",
   "metadata": {},
   "outputs": [],
   "source": [
    "#a = 23,345"
   ]
  },
  {
   "cell_type": "code",
   "execution_count": 25,
   "id": "41b571bf-6cc5-4eaf-bd7a-de51a91d6f3c",
   "metadata": {},
   "outputs": [],
   "source": [
    "def palindrom(a):\n",
    "    if a == a[::-1]:\n",
    "        return ('Palindrom')\n",
    "    else:\n",
    "        return ('Not a palindrom')"
   ]
  },
  {
   "cell_type": "code",
   "execution_count": 26,
   "id": "76ed47c5-073d-49aa-aef5-23d640340ba2",
   "metadata": {},
   "outputs": [
    {
     "data": {
      "text/plain": [
       "'Palindrom'"
      ]
     },
     "execution_count": 26,
     "metadata": {},
     "output_type": "execute_result"
    }
   ],
   "source": [
    "palindrom('level')"
   ]
  },
  {
   "cell_type": "code",
   "execution_count": 27,
   "id": "fa6be280-e097-4fa9-9773-c035e6d73c8b",
   "metadata": {},
   "outputs": [
    {
     "data": {
      "text/plain": [
       "'Not a palindrom'"
      ]
     },
     "execution_count": 27,
     "metadata": {},
     "output_type": "execute_result"
    }
   ],
   "source": [
    "palindrom('python')"
   ]
  },
  {
   "cell_type": "code",
   "execution_count": 28,
   "id": "b16b8420-62ea-426a-b63c-bae037749299",
   "metadata": {},
   "outputs": [
    {
     "name": "stdout",
     "output_type": "stream",
     "text": [
      "[2, 4, 6, 6, 8, 32, 8]\n",
      "[3, 5, 7, 7]\n"
     ]
    }
   ],
   "source": [
    "lst = [2,3,4,5,6,6,7,7,8,32,8]\n",
    "\n",
    "def sep(a):\n",
    "    even=[]\n",
    "    odd=[]\n",
    "    for i in a:\n",
    "        if i%2==0:\n",
    "            even.append(i)\n",
    "        else:\n",
    "            odd.append(i)\n",
    "    return even, odd\n",
    "\n",
    "\n",
    "\n",
    "evn_l , odd_l = sep(lst)\n",
    "\n",
    "print(evn_l)\n",
    "print(odd_l)"
   ]
  },
  {
   "cell_type": "code",
   "execution_count": 30,
   "id": "98ec25ad-fb25-47ac-96f9-2d593ccbb93c",
   "metadata": {},
   "outputs": [
    {
     "name": "stdout",
     "output_type": "stream",
     "text": [
      "[2, 4, 6, 8, 32, 8]\n",
      "[3, 5, 7, 7]\n"
     ]
    }
   ],
   "source": [
    "lst = [2,3,4,5,6,7,7,8,32,8]\n",
    "\n",
    "def seggregator(lst):\n",
    "    even = [i for i in lst if i%2==0] # list comprehension Facilitates writing the code in fewer lines.\n",
    "    odd = [i for i in lst if i%2!=0]\n",
    "    return even,odd\n",
    "\n",
    "even,odd = seggregator(lst)\n",
    "print(even)\n",
    "print(odd)\n"
   ]
  },
  {
   "cell_type": "code",
   "execution_count": 34,
   "id": "754533a5",
   "metadata": {},
   "outputs": [
    {
     "name": "stdout",
     "output_type": "stream",
     "text": [
      "[512, 729, 1000, 1331]\n"
     ]
    }
   ],
   "source": [
    "list1 = [8, 9, 10, 11]\n",
    "new_cube_list = [i**3 for i in list1]\n",
    "\n",
    "print (new_cube_list)"
   ]
  },
  {
   "cell_type": "code",
   "execution_count": 35,
   "id": "58fa3ce4-e519-489f-8e44-e26862180a27",
   "metadata": {},
   "outputs": [
    {
     "name": "stdout",
     "output_type": "stream",
     "text": [
      "30 <class 'int'>\n",
      "-10 <class 'int'>\n"
     ]
    }
   ],
   "source": [
    "def adder(a ,b):\n",
    "    c = a+b\n",
    "    d = a-b\n",
    "    return c,d\n",
    "    \n",
    "a,b = adder(10,20)\n",
    "print(a , type(a))\n",
    "print(b , type(b))"
   ]
  },
  {
   "cell_type": "markdown",
   "id": "9cbe1ad2-08f2-45f0-8443-83ef546aca46",
   "metadata": {},
   "source": [
    "# Global and local variable\n",
    "- Local variables in Python are those which are initialized inside a function and belong only to that particular function.\n",
    "- These are those which are defined outside any function and which are accessible throughout the program, i.e., inside and outside of every function"
   ]
  },
  {
   "cell_type": "code",
   "execution_count": 38,
   "id": "72862d65-fc54-49dd-a2d9-3cebd90e0d8a",
   "metadata": {},
   "outputs": [
    {
     "name": "stdout",
     "output_type": "stream",
     "text": [
      "70\n",
      "30\n",
      "10\n",
      "20\n"
     ]
    }
   ],
   "source": [
    "#https://www.geeksforgeeks.org/python-return-statement/\n",
    "x = 10  # global variable\n",
    "y = 20\n",
    "\n",
    "def func(a,b):\n",
    "    c = a+b # c,d local \n",
    "    d = x+y\n",
    "    print(c) # work because inside the function\n",
    "    print(d)\n",
    "\n",
    "func(30,40)\n",
    "\n",
    "print(x)\n",
    "print(y)\n",
    "#print(c) # local variable can not be accessed outside the function\n",
    "#print(d)"
   ]
  },
  {
   "cell_type": "code",
   "execution_count": 39,
   "id": "32d62bcc-8abf-44b4-89c1-b53861e3a514",
   "metadata": {},
   "outputs": [
    {
     "name": "stdout",
     "output_type": "stream",
     "text": [
      "[2, 4, 6, 8, 32, 8]\n",
      "[3, 5, 7, 7]\n"
     ]
    }
   ],
   "source": [
    "lst = [2,3,4,5,6,7,7,8,32,8]\n",
    "\n",
    "def seggregator(lst):\n",
    "    global even \n",
    "    even = [i for i in lst if i%2==0]\n",
    "    global odd\n",
    "    odd = [i for i in lst if i%2!=0]\n",
    "    return even,odd\n",
    "\n",
    "seggregator(lst)\n",
    "print(even)\n",
    "print(odd)\n"
   ]
  },
  {
   "cell_type": "code",
   "execution_count": 41,
   "id": "e357c2d8-35f3-4e04-9e3d-0fbc0b34ad47",
   "metadata": {},
   "outputs": [
    {
     "name": "stdout",
     "output_type": "stream",
     "text": [
      "30\n"
     ]
    }
   ],
   "source": [
    "def adder(a ,b):\n",
    "    global c\n",
    "    c = a+b\n",
    "    d = a-b  # d local \n",
    "    return c,d\n",
    "    \n",
    "adder(10,20)\n",
    "print(c)\n"
   ]
  },
  {
   "cell_type": "code",
   "execution_count": 59,
   "id": "f947921f-1eb4-43c3-9798-cfa74a21b9e3",
   "metadata": {},
   "outputs": [
    {
     "name": "stdout",
     "output_type": "stream",
     "text": [
      "80\n"
     ]
    }
   ],
   "source": [
    "n = 80\n",
    "def adder(a ,b):\n",
    "    n = a+b\n",
    "    return n\n",
    "    \n",
    "adder(10,20)\n",
    "print(n) # print value of global variable"
   ]
  },
  {
   "cell_type": "code",
   "execution_count": 62,
   "id": "aa79124e-dd40-4c26-9743-09399383be75",
   "metadata": {},
   "outputs": [],
   "source": [
    "n = 0\n",
    "def adder(a ,b):\n",
    "    global n\n",
    "    n += 3\n",
    "    \n",
    "adder(10,20)"
   ]
  },
  {
   "cell_type": "code",
   "execution_count": 55,
   "id": "e74a980c-9342-4f68-afad-5c66c326ad99",
   "metadata": {},
   "outputs": [
    {
     "data": {
      "text/plain": [
       "3"
      ]
     },
     "execution_count": 55,
     "metadata": {},
     "output_type": "execute_result"
    }
   ],
   "source": [
    "n # global variable "
   ]
  },
  {
   "cell_type": "code",
   "execution_count": 63,
   "id": "a5c8e43c-1a35-46fd-a4b2-e783d16d60eb",
   "metadata": {},
   "outputs": [],
   "source": [
    "bal = 40000\n",
    "\n",
    "def function():\n",
    "    amt = eval(input('Enter the amount you want to transfer : '))\n",
    "    global bal # bal is local so make it global, local & global variable is same\n",
    "    bal -= amt"
   ]
  },
  {
   "cell_type": "code",
   "execution_count": 57,
   "id": "270149f2-c7fa-45c1-a12d-19c35fa51540",
   "metadata": {},
   "outputs": [
    {
     "name": "stdout",
     "output_type": "stream",
     "text": [
      "Enter the amount you want to transfer : 500\n"
     ]
    }
   ],
   "source": [
    "function()"
   ]
  },
  {
   "cell_type": "code",
   "execution_count": 58,
   "id": "744c673d-5ad4-4b35-9e32-72606734af23",
   "metadata": {},
   "outputs": [
    {
     "data": {
      "text/plain": [
       "39500"
      ]
     },
     "execution_count": 58,
     "metadata": {},
     "output_type": "execute_result"
    }
   ],
   "source": [
    "bal"
   ]
  },
  {
   "cell_type": "markdown",
   "id": "43096615-580b-4d5f-b770-381ed5357a06",
   "metadata": {},
   "source": [
    "# Yield\n",
    "- The yield keyword is used to return a list of values from a function.\n",
    "\n",
    "- Unlike the return keyword which stops further execution of the function, the yield keyword continues to the end of the function.\n",
    "\n",
    "- When you call a function with yield keyword(s), the return value will be a list of values, one for each yield."
   ]
  },
  {
   "cell_type": "code",
   "execution_count": 66,
   "id": "842e10f0-69e7-4e10-a541-0e5418a510a4",
   "metadata": {},
   "outputs": [],
   "source": [
    "def funct(l):\n",
    "    for i in l:\n",
    "        if i%2==0:\n",
    "            return i  # it will return only one value so make list to append\n",
    "    print('Hello')"
   ]
  },
  {
   "cell_type": "code",
   "execution_count": 67,
   "id": "643964ea-6921-4478-94dc-480996d95e9a",
   "metadata": {},
   "outputs": [
    {
     "data": {
      "text/plain": [
       "4"
      ]
     },
     "execution_count": 67,
     "metadata": {},
     "output_type": "execute_result"
    }
   ],
   "source": [
    "funct([3,4,5,6])"
   ]
  },
  {
   "cell_type": "code",
   "execution_count": 68,
   "id": "732f9d83-c5cd-489c-a92c-68f098b25cfc",
   "metadata": {},
   "outputs": [
    {
     "data": {
      "text/plain": [
       "[4, 6]"
      ]
     },
     "execution_count": 68,
     "metadata": {},
     "output_type": "execute_result"
    }
   ],
   "source": [
    "def funct(l):\n",
    "    e_l = []\n",
    "    for i in l:\n",
    "        if i%2==0:\n",
    "            e_l.append(i)   \n",
    "    return e_l \n",
    "\n",
    "funct([3,4,5,6])"
   ]
  },
  {
   "cell_type": "code",
   "execution_count": 19,
   "id": "310e640f-ed31-4f62-8e9b-ca9188cd4f55",
   "metadata": {},
   "outputs": [],
   "source": [
    "def funct(l):\n",
    "    for i in l:\n",
    "        if i%2==0:\n",
    "            yield i"
   ]
  },
  {
   "cell_type": "code",
   "execution_count": 22,
   "id": "529a9f14-4ddc-4bc6-9044-80ea1bd53814",
   "metadata": {},
   "outputs": [
    {
     "data": {
      "text/plain": [
       "(4, 6)"
      ]
     },
     "execution_count": 22,
     "metadata": {},
     "output_type": "execute_result"
    }
   ],
   "source": [
    "tuple(funct([3,4,5,6]))"
   ]
  },
  {
   "cell_type": "code",
   "execution_count": 70,
   "id": "581059d9",
   "metadata": {},
   "outputs": [
    {
     "name": "stdout",
     "output_type": "stream",
     "text": [
      "Hello\n",
      "51\n",
      "Good Bye\n"
     ]
    }
   ],
   "source": [
    "def myFunc():\n",
    "    yield \"Hello\"\n",
    "    yield 51\n",
    "    yield \"Good Bye\"\n",
    "x = myFunc()\n",
    "for z in x:\n",
    "    print(z)\n"
   ]
  },
  {
   "cell_type": "markdown",
   "id": "0872373d-2d72-45e6-a7c3-2875b8a31176",
   "metadata": {},
   "source": [
    "return\n",
    "- It terminates the function\n",
    "- As soon as return is executed the function is closed\n",
    "- can return single or mutiple value (As a form of tuple)\n",
    "- Mulitple return statements cannot be used\n",
    "- only the value can be returned\n",
    "\n",
    "global\n",
    "- To make changes in the global variable\n",
    "- to push any variable along with the value outside the function\n",
    "- can be used to push multiple variables out \n",
    "\n",
    "yield\n",
    "- It does not terminate the complete function\n",
    "- It can be used to return multiple values outside the function\n",
    "- Need not wait for proceesing the complete data, But can throw out ecach value at a time seperately"
   ]
  },
  {
   "cell_type": "code",
   "execution_count": 74,
   "id": "382a08f0-30d8-42bc-a961-4eafce448a6f",
   "metadata": {},
   "outputs": [],
   "source": [
    "lst = ['xyz@gmail.com' , 'abc@yahoo.com']"
   ]
  },
  {
   "cell_type": "code",
   "execution_count": 75,
   "id": "4a103341-a84b-4911-afcb-d10fad9219e4",
   "metadata": {},
   "outputs": [],
   "source": [
    "def func(l):\n",
    "    e_li = []\n",
    "    for i in l:\n",
    "        e_li.append(i.split('@')[0])\n",
    "    return e_li"
   ]
  },
  {
   "cell_type": "code",
   "execution_count": 76,
   "id": "6338c56d-1117-4960-91d9-0706fd676a81",
   "metadata": {},
   "outputs": [
    {
     "data": {
      "text/plain": [
       "['xyz', 'abc']"
      ]
     },
     "execution_count": 76,
     "metadata": {},
     "output_type": "execute_result"
    }
   ],
   "source": [
    "func(lst)"
   ]
  },
  {
   "cell_type": "code",
   "execution_count": 28,
   "id": "91b790cb-be4e-4ce1-b4ca-d528f57a974e",
   "metadata": {},
   "outputs": [],
   "source": [
    "def func(l):\n",
    "    for i in l:\n",
    "        yield i.split('@')[0]"
   ]
  },
  {
   "cell_type": "code",
   "execution_count": 31,
   "id": "25e1ee1a-1237-482b-b3ca-2fbb3b3052f6",
   "metadata": {},
   "outputs": [
    {
     "data": {
      "text/plain": [
       "['xyz', 'abc']"
      ]
     },
     "execution_count": 31,
     "metadata": {},
     "output_type": "execute_result"
    }
   ],
   "source": [
    "list(func(lst))"
   ]
  },
  {
   "cell_type": "code",
   "execution_count": 92,
   "id": "fe406b9d",
   "metadata": {},
   "outputs": [
    {
     "name": "stdout",
     "output_type": "stream",
     "text": [
      "<generator object creator1 at 0x00000193E9500F20>\n",
      "1\n",
      "2\n",
      "3\n"
     ]
    }
   ],
   "source": [
    "#https://www.youtube.com/watch?v=eF7y34nS724\n",
    "def creator1():\n",
    "    i=1\n",
    "    while i<200:\n",
    "        yield i\n",
    "        i+=1\n",
    "print(creator1())    \n",
    "x=creator1()\n",
    "print(next(x))\n",
    "print(next(x))\n",
    "print(next(x))"
   ]
  },
  {
   "cell_type": "code",
   "execution_count": 90,
   "id": "4d5f03e2",
   "metadata": {},
   "outputs": [
    {
     "name": "stdout",
     "output_type": "stream",
     "text": [
      "<generator object creator1 at 0x00000193E9500C10>\n",
      "1\n"
     ]
    }
   ],
   "source": [
    "def creator1():\n",
    "    i = 1\n",
    "    while i < 200:\n",
    "        yield i\n",
    "        i += 1\n",
    "\n",
    "print(creator1())    \n",
    "x = creator1()\n",
    "print(next(x))\n"
   ]
  },
  {
   "cell_type": "code",
   "execution_count": null,
   "id": "d1fab5f1",
   "metadata": {},
   "outputs": [],
   "source": [
    "#https://www.youtube.com/watch?v=XBRlAxdUWDc"
   ]
  },
  {
   "cell_type": "markdown",
   "id": "5c19a621-abe4-4340-b05b-64c78368cbed",
   "metadata": {},
   "source": [
    "# Recursive function\n",
    "- This means that the function will continue to call itself and repeat its behavior until some condition is met to return a result."
   ]
  },
  {
   "cell_type": "code",
   "execution_count": 40,
   "id": "0e4a7fc5-e4af-4ad0-a338-a3412141611b",
   "metadata": {},
   "outputs": [],
   "source": [
    "def funct():\n",
    "    a = eval(input())\n",
    "    if a == 0:\n",
    "        return 'Comming outside the function'\n",
    "    else:\n",
    "        return funct()\n"
   ]
  },
  {
   "cell_type": "code",
   "execution_count": 41,
   "id": "6167abd2-2659-41f9-92e7-92d18241efcb",
   "metadata": {},
   "outputs": [
    {
     "name": "stdin",
     "output_type": "stream",
     "text": [
      " 6\n",
      " 5\n",
      " 56\n",
      " 45\n",
      " 4\n",
      " 5\n",
      " 56\n",
      " 67\n",
      " 7\n",
      " 56\n",
      " 5\n",
      " 5\n",
      " 6\n",
      " 7\n",
      " 87\n",
      " 8\n",
      " 0\n"
     ]
    },
    {
     "data": {
      "text/plain": [
       "'Comming outside the function'"
      ]
     },
     "execution_count": 41,
     "metadata": {},
     "output_type": "execute_result"
    }
   ],
   "source": [
    "funct()"
   ]
  },
  {
   "cell_type": "code",
   "execution_count": 93,
   "id": "2d96e515-4a4c-47b2-8124-48560971f3a4",
   "metadata": {},
   "outputs": [],
   "source": [
    "def function():\n",
    "    amt = eval(input('Enter the amount you want to transfer : '))\n",
    "    print('Amount has been transfered')\n",
    "    d = input('Do you want to retry : ')\n",
    "    if d == 'y':\n",
    "        return function()\n",
    "    else:\n",
    "        return \"have a nice day\""
   ]
  },
  {
   "cell_type": "code",
   "execution_count": 94,
   "id": "b163c3a0-8f16-468d-b638-7e73313ed7b3",
   "metadata": {},
   "outputs": [
    {
     "name": "stdout",
     "output_type": "stream",
     "text": [
      "Enter the amount you want to transfer : 500\n",
      "Amount has been transfered\n",
      "Do you want to retry : y\n",
      "Enter the amount you want to transfer : 78\n",
      "Amount has been transfered\n",
      "Do you want to retry : n\n"
     ]
    },
    {
     "data": {
      "text/plain": [
       "'have a nice day'"
      ]
     },
     "execution_count": 94,
     "metadata": {},
     "output_type": "execute_result"
    }
   ],
   "source": [
    "function()"
   ]
  },
  {
   "cell_type": "code",
   "execution_count": 95,
   "id": "469e019d-0eff-41e0-9d4c-c44b64f65ef7",
   "metadata": {},
   "outputs": [],
   "source": [
    "def func(num):\n",
    "    if num == 0:\n",
    "        return 1\n",
    "    else:\n",
    "        return  num * func(num -1)  # 6* f(0)=1 so return=1"
   ]
  },
  {
   "cell_type": "code",
   "execution_count": 98,
   "id": "4967e491-ca2e-4534-a1b8-1616a503c829",
   "metadata": {},
   "outputs": [
    {
     "data": {
      "text/plain": [
       "6"
      ]
     },
     "execution_count": 98,
     "metadata": {},
     "output_type": "execute_result"
    }
   ],
   "source": [
    "func(3)"
   ]
  },
  {
   "cell_type": "code",
   "execution_count": 74,
   "id": "2722e191-dce3-4728-8651-bcdc60aed555",
   "metadata": {},
   "outputs": [
    {
     "data": {
      "text/plain": [
       "3628800"
      ]
     },
     "execution_count": 74,
     "metadata": {},
     "output_type": "execute_result"
    }
   ],
   "source": [
    "func(10)"
   ]
  },
  {
   "cell_type": "markdown",
   "id": "702038cd-b055-4931-af8f-03cacfd431d3",
   "metadata": {},
   "source": [
    "# Lambda "
   ]
  }
 ],
 "metadata": {
  "kernelspec": {
   "display_name": "Python 3 (ipykernel)",
   "language": "python",
   "name": "python3"
  },
  "language_info": {
   "codemirror_mode": {
    "name": "ipython",
    "version": 3
   },
   "file_extension": ".py",
   "mimetype": "text/x-python",
   "name": "python",
   "nbconvert_exporter": "python",
   "pygments_lexer": "ipython3",
   "version": "3.9.13"
  }
 },
 "nbformat": 4,
 "nbformat_minor": 5
}
