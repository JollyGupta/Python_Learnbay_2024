{
 "cells": [
  {
   "cell_type": "markdown",
   "id": "69a6e09c",
   "metadata": {},
   "source": [
    "# String data type"
   ]
  },
  {
   "cell_type": "code",
   "execution_count": 7,
   "id": "e6adfcc7",
   "metadata": {},
   "outputs": [
    {
     "name": "stdout",
     "output_type": "stream",
     "text": [
      "56 <class 'str'>\n"
     ]
    }
   ],
   "source": [
    "a = '56'\n",
    "\n",
    "print(a , type(a))\n"
   ]
  },
  {
   "cell_type": "code",
   "execution_count": null,
   "id": "e0d73111",
   "metadata": {},
   "outputs": [],
   "source": [
    "# Properties of string \n",
    "\n",
    "- It is an seq data type (Allows us to perform Indexing and slicing)"
   ]
  },
  {
   "cell_type": "markdown",
   "id": "985032ab",
   "metadata": {},
   "source": [
    "# Indexing\n",
    "Extracting or accessing 1 char at a time\n",
    "syntax : var[index]\n",
    "\n",
    "There are 2 types of Index values assigned\n",
    "+ve --> Assigned in L-R direction -----> By default starts from 0\n",
    "-ve --> Assigned in R-L direction -----> By default starts from -1\n",
    "var[index] --> Here the index value can be passed as +ve or -ve to extract the same char\n",
    "\n",
    "\n",
    "# Slicing\n",
    "Extracting or accessing multiple char at a time\n",
    "syntax: var[start_index : stop_index : step]\n",
    "\n",
    "start is inclusive\n",
    "stop is exclusive\n",
    "By default the step is +ve 1\n",
    "Step +ve means read from L- R direction Step -ve means read from R-L direction\n",
    "\n",
    "Default values\n",
    "\n",
    "If step is +ve start = 0 stop = len(str)\n",
    "\n",
    "-ve\n",
    "\n",
    "start = -1 stop = -(len(str) + 1)"
   ]
  },
  {
   "cell_type": "code",
   "execution_count": 1,
   "id": "4f7e03f5",
   "metadata": {},
   "outputs": [
    {
     "name": "stdout",
     "output_type": "stream",
     "text": [
      "H\n",
      "H\n",
      "6\n"
     ]
    }
   ],
   "source": [
    "a = 'PYTHON'\n",
    "\n",
    "print(a[3])\n",
    "print(a[-3])\n",
    "print(len(a))"
   ]
  },
  {
   "cell_type": "code",
   "execution_count": 10,
   "id": "405343a7",
   "metadata": {},
   "outputs": [
    {
     "name": "stdout",
     "output_type": "stream",
     "text": [
      "O\n",
      "O\n"
     ]
    }
   ],
   "source": [
    "a = 'PYTHON'\n",
    "\n",
    "print(a[4])\n",
    "print(a[-2])"
   ]
  },
  {
   "cell_type": "code",
   "execution_count": 11,
   "id": "d6056004",
   "metadata": {},
   "outputs": [
    {
     "name": "stdout",
     "output_type": "stream",
     "text": [
      "DATA\n",
      "DATA\n",
      "DATA\n",
      "DATA\n",
      "DATA\n"
     ]
    }
   ],
   "source": [
    "\n",
    "a = 'DATA SCIENCE' \n",
    "\n",
    "print(a[0:4])\n",
    "\n",
    "print(a[-12:-8])\n",
    "\n",
    "print(a[0:-8])\n",
    "\n",
    "print(a[-12:4])\n",
    "\n",
    "print(a[:-8])"
   ]
  },
  {
   "cell_type": "code",
   "execution_count": 2,
   "id": "c98d0d37",
   "metadata": {},
   "outputs": [
    {
     "name": "stdout",
     "output_type": "stream",
     "text": [
      "\n",
      "\n",
      "DATA\n",
      "DATA\n",
      "DATA\n"
     ]
    }
   ],
   "source": [
    "a = 'DATA SCIENCE'\n",
    "\n",
    "# print(a[5:4]) # doubt can't extract from between ??  \n",
    "print(a[5:4])\n",
    "\n",
    "print(a[5:0])\n",
    "\n",
    "print(a[-12:-8])\n",
    "\n",
    "print(a[0:-8])\n",
    "\n",
    "print(a[-12:4])"
   ]
  },
  {
   "cell_type": "code",
   "execution_count": 4,
   "id": "98049194",
   "metadata": {},
   "outputs": [
    {
     "name": "stdout",
     "output_type": "stream",
     "text": [
      "ATAD\n",
      "ATAD\n",
      "ATA\n",
      "ATA\n"
     ]
    }
   ],
   "source": [
    "a = 'DATA SCIENCE'\n",
    "\n",
    "print(a[3 : -13 : -1])\n",
    "\n",
    "print(a[-9 : -13 : -1])\n",
    "\n",
    "print(a[3 : 0 : -1])\n",
    "print(a[-9 : 0 : -1])"
   ]
  },
  {
   "cell_type": "code",
   "execution_count": 26,
   "id": "78c8d190",
   "metadata": {},
   "outputs": [
    {
     "name": "stdout",
     "output_type": "stream",
     "text": [
      "DATA SCIENCE\n",
      "DATA SCIENCE\n",
      "DT CEC\n",
      "ECNEICS ATAD\n",
      "ENISAA\n"
     ]
    }
   ],
   "source": [
    "a = 'DATA SCIENCE'\n",
    "\n",
    "print(a[:])\n",
    "print(a[: : 1])\n",
    "print(a[: : 2])# jump 2 not from 1 from forward\n",
    "\n",
    "print(a[: : -1])\n",
    "print(a[: : -2]) # jump 2 not from -2 from -1  from reverse"
   ]
  },
  {
   "cell_type": "code",
   "execution_count": 29,
   "id": "766cf36e",
   "metadata": {},
   "outputs": [
    {
     "data": {
      "text/plain": [
       "'SCIENCE'"
      ]
     },
     "execution_count": 29,
     "metadata": {},
     "output_type": "execute_result"
    }
   ],
   "source": [
    "a[5:]\n"
   ]
  },
  {
   "cell_type": "code",
   "execution_count": 30,
   "id": "9ddb84aa",
   "metadata": {},
   "outputs": [
    {
     "data": {
      "text/plain": [
       "'SCIENCE'"
      ]
     },
     "execution_count": 30,
     "metadata": {},
     "output_type": "execute_result"
    }
   ],
   "source": [
    "a[-7:] # starts from -7 not in reverse order"
   ]
  },
  {
   "cell_type": "code",
   "execution_count": 31,
   "id": "e5bee17d",
   "metadata": {},
   "outputs": [
    {
     "name": "stdout",
     "output_type": "stream",
     "text": [
      "ATAD\n"
     ]
    }
   ],
   "source": [
    "a = 'DATA SCIENCE'\n",
    "\n",
    "print(a[3 :  : -1]) # reverse order because -1, jump 1 "
   ]
  },
  {
   "cell_type": "code",
   "execution_count": 32,
   "id": "5468d40d",
   "metadata": {},
   "outputs": [
    {
     "data": {
      "text/plain": [
       "'02-05-2024'"
      ]
     },
     "execution_count": 32,
     "metadata": {},
     "output_type": "execute_result"
    }
   ],
   "source": [
    "a = '02-05-2024'\n",
    "\n",
    "a"
   ]
  },
  {
   "cell_type": "code",
   "execution_count": 33,
   "id": "082c2e4d",
   "metadata": {},
   "outputs": [
    {
     "name": "stdout",
     "output_type": "stream",
     "text": [
      "05\n",
      "05\n",
      "05\n",
      "05\n"
     ]
    }
   ],
   "source": [
    "# Extract month - 05\n",
    "\n",
    "a = '02-05-2024'\n",
    "\n",
    "print(a[3:5])\n",
    "print(a[-7: - 5])\n",
    "print(a[ 3 : - 5])\n",
    "\n",
    "print(a[ -7 : 5])"
   ]
  },
  {
   "cell_type": "code",
   "execution_count": 1,
   "id": "c0476e17",
   "metadata": {},
   "outputs": [
    {
     "name": "stdout",
     "output_type": "stream",
     "text": [
      "50\n",
      "50\n",
      "50\n",
      "50\n"
     ]
    }
   ],
   "source": [
    "# Extract month in reverse - 50\n",
    "# https://www.youtube.com/watch?v=YaD4NkFSQt8  nice \n",
    "a = '02-05-2024'\n",
    "print(a[-6 : -8 : -1])\n",
    "\n",
    "print(a[ 4 : 2 : -1]) \n",
    "\n",
    "print(a[ 4 : -8 : -1])\n",
    "\n",
    "print(a[ -6 : 2 : -1])\n",
    "\n"
   ]
  },
  {
   "cell_type": "code",
   "execution_count": 2,
   "id": "b559086f",
   "metadata": {},
   "outputs": [
    {
     "name": "stdout",
     "output_type": "stream",
     "text": [
      "2024\n",
      "2024\n",
      "2024\n",
      "2024\n"
     ]
    }
   ],
   "source": [
    "# Extract - 2024\n",
    "\n",
    "a = '02-05-2024'\n",
    "\n",
    "print(a[6:10])\n",
    "print(a[-4:10])\n",
    "\n",
    "print(a[6:])\n",
    "print(a[-4:])"
   ]
  },
  {
   "cell_type": "code",
   "execution_count": 3,
   "id": "f80a32ce",
   "metadata": {},
   "outputs": [
    {
     "name": "stdout",
     "output_type": "stream",
     "text": [
      "4202\n",
      "4202\n",
      "4202\n",
      "4202\n",
      "4202\n",
      "4202\n"
     ]
    }
   ],
   "source": [
    "# Extract - 4202\n",
    "\n",
    "\n",
    "a = '02-05-2024'\n",
    "\n",
    "print(a[9:5 : -1])\n",
    "print(a[-1: -5 : -1])\n",
    "print(a[9 : -5 : -1])\n",
    "print(a[-1: 5 : -1])\n",
    "\n",
    "print(a[: -5 : -1])\n",
    "print(a[: 5 : -1])"
   ]
  },
  {
   "cell_type": "code",
   "execution_count": 4,
   "id": "ceb55db6",
   "metadata": {},
   "outputs": [
    {
     "data": {
      "text/plain": [
       "'nohtyp'"
      ]
     },
     "execution_count": 4,
     "metadata": {},
     "output_type": "execute_result"
    }
   ],
   "source": [
    "# WAP \n",
    "\n",
    "# input from the user --> \n",
    "\n",
    "# find if the word is palindrom or not\n",
    "\n",
    "# rotor ---> rotor\n",
    "# level ---> level\n",
    "\n",
    "a = 'python'\n",
    "\n",
    "a[::-1]"
   ]
  },
  {
   "cell_type": "code",
   "execution_count": 6,
   "id": "786e534b",
   "metadata": {},
   "outputs": [
    {
     "name": "stdout",
     "output_type": "stream",
     "text": [
      "Enter a word:joj\n",
      "It is a palindrome\n"
     ]
    }
   ],
   "source": [
    "a = input((\"Enter a word:\"))\n",
    "\n",
    "if(a == a[::-1]):\n",
    "     print(\"It is a palindrome\")\n",
    "else:\n",
    "     print(\"It is not a palindrome\")"
   ]
  },
  {
   "cell_type": "code",
   "execution_count": 8,
   "id": "f9e5c18c",
   "metadata": {},
   "outputs": [
    {
     "name": "stdout",
     "output_type": "stream",
     "text": [
      "Enter a word:joj\n",
      "It is a palindrome\n"
     ]
    }
   ],
   "source": [
    "a = input((\"Enter a word:\"))\n",
    "n= int(len(a))\n",
    "\n",
    "if(a[0:n+1] == a[-1: :-1]):\n",
    "     print(\"It is a palindrome\")\n",
    "else:\n",
    "     print(\"It is not a palindrome\")"
   ]
  },
  {
   "cell_type": "code",
   "execution_count": 9,
   "id": "a5ded915",
   "metadata": {},
   "outputs": [
    {
     "name": "stdout",
     "output_type": "stream",
     "text": [
      "Enter a word:joj\n",
      "It is a palindrome\n"
     ]
    }
   ],
   "source": [
    "a = input((\"Enter a word:\"))\n",
    "\n",
    "\n",
    "if(a[0:] == a[-1: :-1]):\n",
    "     print(\"It is a palindrome\")\n",
    "else:\n",
    "     print(\"It is not a palindrome\")"
   ]
  },
  {
   "cell_type": "code",
   "execution_count": null,
   "id": "a477d093",
   "metadata": {},
   "outputs": [],
   "source": []
  }
 ],
 "metadata": {
  "kernelspec": {
   "display_name": "Python 3 (ipykernel)",
   "language": "python",
   "name": "python3"
  },
  "language_info": {
   "codemirror_mode": {
    "name": "ipython",
    "version": 3
   },
   "file_extension": ".py",
   "mimetype": "text/x-python",
   "name": "python",
   "nbconvert_exporter": "python",
   "pygments_lexer": "ipython3",
   "version": "3.9.13"
  }
 },
 "nbformat": 4,
 "nbformat_minor": 5
}
