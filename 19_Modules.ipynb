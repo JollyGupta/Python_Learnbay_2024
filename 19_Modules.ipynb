{
 "cells": [
  {
   "cell_type": "code",
   "execution_count": null,
   "id": "ab2007b6-2cde-48fb-a481-a437da858a66",
   "metadata": {},
   "outputs": [],
   "source": [
    "# Flipkart\n",
    "\n",
    "payment \n",
    "\n",
    "\n",
    "COD\n",
    "Debit \n",
    "credit \n",
    "UPI\n",
    "Netbanking"
   ]
  },
  {
   "cell_type": "code",
   "execution_count": null,
   "id": "295e2fb8-f137-4a71-a155-6e1fd34063cb",
   "metadata": {},
   "outputs": [],
   "source": [
    "# module \n",
    "\n",
    "- A python with an extension of .py\n",
    "\n",
    "# Types of modules\n",
    "- builtin eg: math , os , sys , datetime , random\n",
    "\n",
    "- user defined"
   ]
  },
  {
   "cell_type": "markdown",
   "id": "216ecc00-b01e-441b-b286-6324ced0490d",
   "metadata": {},
   "source": [
    "# Different methods to import a module"
   ]
  },
  {
   "cell_type": "code",
   "execution_count": 1,
   "id": "bc5b9067-a2ed-4411-990a-10553dd251fe",
   "metadata": {},
   "outputs": [
    {
     "name": "stdout",
     "output_type": "stream",
     "text": [
      "['In', 'Out', '_', '__', '___', '__builtin__', '__builtins__', '__doc__', '__loader__', '__name__', '__package__', '__session__', '__spec__', '_dh', '_i', '_i1', '_ih', '_ii', '_iii', '_oh', 'exit', 'get_ipython', 'open', 'quit']\n"
     ]
    }
   ],
   "source": [
    "# Global name space\n",
    "\n",
    "print(dir())"
   ]
  },
  {
   "cell_type": "code",
   "execution_count": 2,
   "id": "bb44bb00-952e-4b9a-a2b7-3609b49229ac",
   "metadata": {},
   "outputs": [],
   "source": [
    "a = 20"
   ]
  },
  {
   "cell_type": "code",
   "execution_count": 3,
   "id": "9067c84b-ebff-49bf-934a-addf4b2c938a",
   "metadata": {},
   "outputs": [
    {
     "name": "stdout",
     "output_type": "stream",
     "text": [
      "['In', 'Out', '_', '__', '___', '__builtin__', '__builtins__', '__doc__', '__loader__', '__name__', '__package__', '__session__', '__spec__', '_dh', '_i', '_i1', '_i2', '_i3', '_ih', '_ii', '_iii', '_oh', 'a', 'exit', 'get_ipython', 'open', 'quit']\n"
     ]
    }
   ],
   "source": [
    "print(dir())"
   ]
  },
  {
   "cell_type": "code",
   "execution_count": 4,
   "id": "1c49b347-50d0-4d2a-9d0a-1d75efbf9d22",
   "metadata": {},
   "outputs": [
    {
     "data": {
      "text/plain": [
       "20"
      ]
     },
     "execution_count": 4,
     "metadata": {},
     "output_type": "execute_result"
    }
   ],
   "source": [
    "a"
   ]
  },
  {
   "cell_type": "code",
   "execution_count": 5,
   "id": "d3776986-54d0-4688-baaa-b825bc0b831e",
   "metadata": {},
   "outputs": [
    {
     "ename": "NameError",
     "evalue": "name 'b' is not defined",
     "output_type": "error",
     "traceback": [
      "\u001b[1;31m---------------------------------------------------------------------------\u001b[0m",
      "\u001b[1;31mNameError\u001b[0m                                 Traceback (most recent call last)",
      "Cell \u001b[1;32mIn[5], line 1\u001b[0m\n\u001b[1;32m----> 1\u001b[0m b\n",
      "\u001b[1;31mNameError\u001b[0m: name 'b' is not defined"
     ]
    }
   ],
   "source": [
    "b"
   ]
  },
  {
   "cell_type": "code",
   "execution_count": 6,
   "id": "7a3c6e02-8ae4-4b2f-829e-04d7371df40a",
   "metadata": {},
   "outputs": [],
   "source": [
    "def palindrom(a):\n",
    "    if a == a[::-1]:\n",
    "        return ('Palindrom')\n",
    "    else:\n",
    "        return ('Not a palindrom')"
   ]
  },
  {
   "cell_type": "code",
   "execution_count": 7,
   "id": "eff01163-3088-4c27-84e7-3bb7be333026",
   "metadata": {},
   "outputs": [
    {
     "name": "stdout",
     "output_type": "stream",
     "text": [
      "['In', 'Out', '_', '_4', '__', '___', '__builtin__', '__builtins__', '__doc__', '__loader__', '__name__', '__package__', '__session__', '__spec__', '_dh', '_i', '_i1', '_i2', '_i3', '_i4', '_i5', '_i6', '_i7', '_ih', '_ii', '_iii', '_oh', 'a', 'exit', 'get_ipython', 'open', 'palindrom', 'quit']\n"
     ]
    }
   ],
   "source": [
    "print(dir())"
   ]
  },
  {
   "cell_type": "code",
   "execution_count": 8,
   "id": "3e2c38e2-7485-462c-9259-8e0c77ea00b4",
   "metadata": {},
   "outputs": [
    {
     "data": {
      "text/plain": [
       "'Palindrom'"
      ]
     },
     "execution_count": 8,
     "metadata": {},
     "output_type": "execute_result"
    }
   ],
   "source": [
    "palindrom('sdfds')"
   ]
  },
  {
   "cell_type": "code",
   "execution_count": 1,
   "id": "beea154b-94be-492e-a24e-01fd95032ae0",
   "metadata": {},
   "outputs": [
    {
     "name": "stdout",
     "output_type": "stream",
     "text": [
      "['In', 'Out', '_', '__', '___', '__builtin__', '__builtins__', '__doc__', '__loader__', '__name__', '__package__', '__session__', '__spec__', '_dh', '_i', '_i1', '_ih', '_ii', '_iii', '_oh', 'exit', 'get_ipython', 'open', 'quit']\n",
      "\n",
      "\n",
      "['In', 'Out', '_', '__', '___', '__builtin__', '__builtins__', '__doc__', '__loader__', '__name__', '__package__', '__session__', '__spec__', '_dh', '_i', '_i1', '_ih', '_ii', '_iii', '_oh', 'exit', 'get_ipython', 'math', 'open', 'quit']\n"
     ]
    }
   ],
   "source": [
    "# 1st\n",
    "\n",
    "print(dir() , end = '\\n\\n\\n')\n",
    "\n",
    "import math\n",
    "\n",
    "print(dir())"
   ]
  },
  {
   "cell_type": "code",
   "execution_count": 2,
   "id": "8f4908c0-4d62-4fbd-8542-daa8d552eb7a",
   "metadata": {},
   "outputs": [
    {
     "name": "stdout",
     "output_type": "stream",
     "text": [
      "['__doc__', '__loader__', '__name__', '__package__', '__spec__', 'acos', 'acosh', 'asin', 'asinh', 'atan', 'atan2', 'atanh', 'cbrt', 'ceil', 'comb', 'copysign', 'cos', 'cosh', 'degrees', 'dist', 'e', 'erf', 'erfc', 'exp', 'exp2', 'expm1', 'fabs', 'factorial', 'floor', 'fmod', 'frexp', 'fsum', 'gamma', 'gcd', 'hypot', 'inf', 'isclose', 'isfinite', 'isinf', 'isnan', 'isqrt', 'lcm', 'ldexp', 'lgamma', 'log', 'log10', 'log1p', 'log2', 'modf', 'nan', 'nextafter', 'perm', 'pi', 'pow', 'prod', 'radians', 'remainder', 'sin', 'sinh', 'sqrt', 'tan', 'tanh', 'tau', 'trunc', 'ulp']\n"
     ]
    }
   ],
   "source": [
    "print(dir(math))"
   ]
  },
  {
   "cell_type": "code",
   "execution_count": 3,
   "id": "622537a0-4a4d-4983-bcb8-b1c59f6fd98a",
   "metadata": {},
   "outputs": [
    {
     "data": {
      "text/plain": [
       "3.0"
      ]
     },
     "execution_count": 3,
     "metadata": {},
     "output_type": "execute_result"
    }
   ],
   "source": [
    "math.sqrt(9)"
   ]
  },
  {
   "cell_type": "code",
   "execution_count": 4,
   "id": "8584d630-9e63-442b-aa5a-3f2e867dbc50",
   "metadata": {},
   "outputs": [
    {
     "ename": "NameError",
     "evalue": "name 'sqrt' is not defined",
     "output_type": "error",
     "traceback": [
      "\u001b[1;31m---------------------------------------------------------------------------\u001b[0m",
      "\u001b[1;31mNameError\u001b[0m                                 Traceback (most recent call last)",
      "Cell \u001b[1;32mIn[4], line 1\u001b[0m\n\u001b[1;32m----> 1\u001b[0m sqrt(\u001b[38;5;241m9\u001b[39m)\n",
      "\u001b[1;31mNameError\u001b[0m: name 'sqrt' is not defined"
     ]
    }
   ],
   "source": [
    "sqrt(9)"
   ]
  },
  {
   "cell_type": "code",
   "execution_count": 1,
   "id": "431ee394-06b6-4607-b519-c2dc4dddb058",
   "metadata": {},
   "outputs": [
    {
     "name": "stdout",
     "output_type": "stream",
     "text": [
      "['In', 'Out', '_', '__', '___', '__builtin__', '__builtins__', '__doc__', '__loader__', '__name__', '__package__', '__session__', '__spec__', '_dh', '_i', '_i1', '_ih', '_ii', '_iii', '_oh', 'exit', 'get_ipython', 'open', 'quit']\n",
      "\n",
      "\n",
      "['In', 'Out', '_', '__', '___', '__builtin__', '__builtins__', '__doc__', '__loader__', '__name__', '__package__', '__session__', '__spec__', '_dh', '_i', '_i1', '_ih', '_ii', '_iii', '_oh', 'acos', 'acosh', 'asin', 'asinh', 'atan', 'atan2', 'atanh', 'cbrt', 'ceil', 'comb', 'copysign', 'cos', 'cosh', 'degrees', 'dist', 'e', 'erf', 'erfc', 'exit', 'exp', 'exp2', 'expm1', 'fabs', 'factorial', 'floor', 'fmod', 'frexp', 'fsum', 'gamma', 'gcd', 'get_ipython', 'hypot', 'inf', 'isclose', 'isfinite', 'isinf', 'isnan', 'isqrt', 'lcm', 'ldexp', 'lgamma', 'log', 'log10', 'log1p', 'log2', 'modf', 'nan', 'nextafter', 'open', 'perm', 'pi', 'pow', 'prod', 'quit', 'radians', 'remainder', 'sin', 'sinh', 'sqrt', 'tan', 'tanh', 'tau', 'trunc', 'ulp']\n"
     ]
    }
   ],
   "source": [
    "# 2nd\n",
    "\n",
    "print(dir() , end = '\\n\\n\\n')\n",
    "\n",
    "from math import *\n",
    "\n",
    "print(dir())"
   ]
  },
  {
   "cell_type": "code",
   "execution_count": 2,
   "id": "2380c7be-ba6b-4112-a69b-e381c3f0e613",
   "metadata": {},
   "outputs": [
    {
     "data": {
      "text/plain": [
       "3.0"
      ]
     },
     "execution_count": 2,
     "metadata": {},
     "output_type": "execute_result"
    }
   ],
   "source": [
    "sqrt(9)"
   ]
  },
  {
   "cell_type": "code",
   "execution_count": 1,
   "id": "d1751568-6010-45e0-b743-01d169e076ac",
   "metadata": {},
   "outputs": [
    {
     "name": "stdout",
     "output_type": "stream",
     "text": [
      "['In', 'Out', '_', '__', '___', '__builtin__', '__builtins__', '__doc__', '__loader__', '__name__', '__package__', '__session__', '__spec__', '_dh', '_i', '_i1', '_ih', '_ii', '_iii', '_oh', 'exit', 'get_ipython', 'open', 'quit']\n",
      "\n",
      "\n",
      "['In', 'Out', '_', '__', '___', '__builtin__', '__builtins__', '__doc__', '__loader__', '__name__', '__package__', '__session__', '__spec__', '_dh', '_i', '_i1', '_ih', '_ii', '_iii', '_oh', 'exit', 'get_ipython', 'open', 'quit', 'remainder', 'sin', 'sqrt']\n"
     ]
    }
   ],
   "source": [
    "# 3rd\n",
    "\n",
    "print(dir() , end = '\\n\\n\\n')\n",
    "\n",
    "from math import sqrt,sin,remainder\n",
    "\n",
    "print(dir())"
   ]
  },
  {
   "cell_type": "code",
   "execution_count": 2,
   "id": "993e55c1-50ab-48bc-bfb3-39a0f2431bef",
   "metadata": {},
   "outputs": [
    {
     "data": {
      "text/plain": [
       "3.0"
      ]
     },
     "execution_count": 2,
     "metadata": {},
     "output_type": "execute_result"
    }
   ],
   "source": [
    "sqrt(9)"
   ]
  },
  {
   "cell_type": "code",
   "execution_count": 1,
   "id": "05a8029c-6b15-4d1c-9ad3-68445e050c0b",
   "metadata": {},
   "outputs": [
    {
     "name": "stdout",
     "output_type": "stream",
     "text": [
      "['In', 'Out', '_', '__', '___', '__builtin__', '__builtins__', '__doc__', '__loader__', '__name__', '__package__', '__session__', '__spec__', '_dh', '_i', '_i1', '_ih', '_ii', '_iii', '_oh', 'exit', 'get_ipython', 'open', 'quit']\n",
      "\n",
      "\n",
      "['In', 'Out', '_', '__', '___', '__builtin__', '__builtins__', '__doc__', '__loader__', '__name__', '__package__', '__session__', '__spec__', '_dh', '_i', '_i1', '_ih', '_ii', '_iii', '_oh', 'exit', 'get_ipython', 'mt', 'open', 'quit']\n"
     ]
    }
   ],
   "source": [
    "# 4th - aliasing\n",
    "\n",
    "print(dir() , end = '\\n\\n\\n')\n",
    "\n",
    "import math as mt\n",
    "\n",
    "print(dir())"
   ]
  },
  {
   "cell_type": "code",
   "execution_count": 2,
   "id": "f551edcc-c9ca-41e2-80ee-9dcd0d39fddf",
   "metadata": {},
   "outputs": [
    {
     "name": "stdout",
     "output_type": "stream",
     "text": [
      "['__doc__', '__loader__', '__name__', '__package__', '__spec__', 'acos', 'acosh', 'asin', 'asinh', 'atan', 'atan2', 'atanh', 'cbrt', 'ceil', 'comb', 'copysign', 'cos', 'cosh', 'degrees', 'dist', 'e', 'erf', 'erfc', 'exp', 'exp2', 'expm1', 'fabs', 'factorial', 'floor', 'fmod', 'frexp', 'fsum', 'gamma', 'gcd', 'hypot', 'inf', 'isclose', 'isfinite', 'isinf', 'isnan', 'isqrt', 'lcm', 'ldexp', 'lgamma', 'log', 'log10', 'log1p', 'log2', 'modf', 'nan', 'nextafter', 'perm', 'pi', 'pow', 'prod', 'radians', 'remainder', 'sin', 'sinh', 'sqrt', 'tan', 'tanh', 'tau', 'trunc', 'ulp']\n"
     ]
    }
   ],
   "source": [
    "print(dir(mt))"
   ]
  },
  {
   "cell_type": "code",
   "execution_count": 3,
   "id": "1ccfb746-1691-428b-83c7-76ef8390baa6",
   "metadata": {},
   "outputs": [
    {
     "data": {
      "text/plain": [
       "3.0"
      ]
     },
     "execution_count": 3,
     "metadata": {},
     "output_type": "execute_result"
    }
   ],
   "source": [
    "mt.sqrt(9)"
   ]
  },
  {
   "cell_type": "code",
   "execution_count": 1,
   "id": "ed9465bb-abaa-422a-b315-9761f31bb267",
   "metadata": {},
   "outputs": [
    {
     "name": "stdout",
     "output_type": "stream",
     "text": [
      "['In', 'Out', '_', '__', '___', '__builtin__', '__builtins__', '__doc__', '__loader__', '__name__', '__package__', '__session__', '__spec__', '_dh', '_i', '_i1', '_ih', '_ii', '_iii', '_oh', 'exit', 'get_ipython', 'open', 'quit']\n",
      "\n",
      "\n",
      "['In', 'Out', '_', '__', '___', '__builtin__', '__builtins__', '__doc__', '__loader__', '__name__', '__package__', '__session__', '__spec__', '_dh', '_i', '_i1', '_ih', '_ii', '_iii', '_oh', 'exit', 'get_ipython', 'open', 'quit', 'rm']\n"
     ]
    }
   ],
   "source": [
    "print(dir() , end = '\\n\\n\\n')\n",
    "\n",
    "from math import remainder as rm\n",
    "\n",
    "print(dir())"
   ]
  },
  {
   "cell_type": "code",
   "execution_count": 2,
   "id": "8aacbdd6-a11f-463c-a08c-d04498936ea9",
   "metadata": {},
   "outputs": [
    {
     "data": {
      "text/plain": [
       "-1.0"
      ]
     },
     "execution_count": 2,
     "metadata": {},
     "output_type": "execute_result"
    }
   ],
   "source": [
    "rm(2,3)"
   ]
  },
  {
   "cell_type": "markdown",
   "id": "cca90535-e8cf-4b4e-9fc5-98fa4e03d27b",
   "metadata": {},
   "source": [
    "# User defined module"
   ]
  },
  {
   "cell_type": "code",
   "execution_count": 2,
   "id": "195825fc-919a-42cf-9ee5-ec2b5178cdf6",
   "metadata": {},
   "outputs": [
    {
     "name": "stdout",
     "output_type": "stream",
     "text": [
      "['In', 'Out', '_', '__', '___', '__builtin__', '__builtins__', '__doc__', '__loader__', '__name__', '__package__', '__session__', '__spec__', '_dh', '_i', '_i1', '_i2', '_ih', '_ii', '_iii', '_oh', 'exit', 'get_ipython', 'open', 'quit']\n",
      "\n",
      "\n",
      "['In', 'Out', '_', '__', '___', '__builtin__', '__builtins__', '__doc__', '__loader__', '__name__', '__package__', '__session__', '__spec__', '_dh', '_i', '_i1', '_i2', '_ih', '_ii', '_iii', '_oh', 'ccm', 'exit', 'get_ipython', 'open', 'quit']\n"
     ]
    }
   ],
   "source": [
    "print(dir() , end = '\\n\\n\\n')\n",
    "\n",
    "import credit_card_module as ccm\n",
    "\n",
    "print(dir())"
   ]
  },
  {
   "cell_type": "code",
   "execution_count": 2,
   "id": "0e08ea23-61a0-4a70-a240-2f47a68d8be3",
   "metadata": {},
   "outputs": [
    {
     "name": "stdout",
     "output_type": "stream",
     "text": [
      "['__builtins__', '__cached__', '__doc__', '__file__', '__loader__', '__name__', '__package__', '__spec__', 'adder', 'palindrom']\n"
     ]
    }
   ],
   "source": [
    "print(dir(ccm))"
   ]
  },
  {
   "cell_type": "code",
   "execution_count": 3,
   "id": "3ca15d72-e0d5-43a4-b819-e8b7f033d599",
   "metadata": {},
   "outputs": [
    {
     "data": {
      "text/plain": [
       "'Palindrom'"
      ]
     },
     "execution_count": 3,
     "metadata": {},
     "output_type": "execute_result"
    }
   ],
   "source": [
    "ccm.palindrom ('level')"
   ]
  },
  {
   "cell_type": "markdown",
   "id": "d443b88a-4120-4a28-9a84-ea5dcf39a24e",
   "metadata": {},
   "source": [
    "# User defined path"
   ]
  },
  {
   "cell_type": "code",
   "execution_count": 1,
   "id": "bd0ccba2-5f69-4601-be49-36735fd0da29",
   "metadata": {},
   "outputs": [
    {
     "name": "stdout",
     "output_type": "stream",
     "text": [
      "['In', 'Out', '_', '__', '___', '__builtin__', '__builtins__', '__doc__', '__loader__', '__name__', '__package__', '__session__', '__spec__', '_dh', '_i', '_i1', '_ih', '_ii', '_iii', '_oh', 'exit', 'get_ipython', 'open', 'quit']\n",
      "\n",
      "\n"
     ]
    },
    {
     "ename": "ModuleNotFoundError",
     "evalue": "No module named 'credit_card_module'",
     "output_type": "error",
     "traceback": [
      "\u001b[1;31m---------------------------------------------------------------------------\u001b[0m",
      "\u001b[1;31mModuleNotFoundError\u001b[0m                       Traceback (most recent call last)",
      "Cell \u001b[1;32mIn[1], line 3\u001b[0m\n\u001b[0;32m      1\u001b[0m \u001b[38;5;28mprint\u001b[39m(\u001b[38;5;28mdir\u001b[39m() , end \u001b[38;5;241m=\u001b[39m \u001b[38;5;124m'\u001b[39m\u001b[38;5;130;01m\\n\u001b[39;00m\u001b[38;5;130;01m\\n\u001b[39;00m\u001b[38;5;130;01m\\n\u001b[39;00m\u001b[38;5;124m'\u001b[39m)\n\u001b[1;32m----> 3\u001b[0m \u001b[38;5;28;01mimport\u001b[39;00m \u001b[38;5;21;01mcredit_card_module\u001b[39;00m \u001b[38;5;28;01mas\u001b[39;00m \u001b[38;5;21;01mccm\u001b[39;00m\n\u001b[0;32m      5\u001b[0m \u001b[38;5;28mprint\u001b[39m(\u001b[38;5;28mdir\u001b[39m())\n",
      "\u001b[1;31mModuleNotFoundError\u001b[0m: No module named 'credit_card_module'"
     ]
    }
   ],
   "source": [
    "print(dir() , end = '\\n\\n\\n')\n",
    "\n",
    "import credit_card_module as ccm\n",
    "\n",
    "print(dir())"
   ]
  },
  {
   "cell_type": "code",
   "execution_count": 2,
   "id": "9223bfdc-0ec6-462a-b48d-d8f168dd15c3",
   "metadata": {},
   "outputs": [
    {
     "name": "stdout",
     "output_type": "stream",
     "text": [
      "['C:\\\\Users\\\\Mohammed Israr\\\\Desktop\\\\Ongoing classes\\\\19_April_Weekday_morning', 'C:\\\\Users\\\\Mohammed Israr\\\\anaconda3\\\\python311.zip', 'C:\\\\Users\\\\Mohammed Israr\\\\anaconda3\\\\DLLs', 'C:\\\\Users\\\\Mohammed Israr\\\\anaconda3\\\\Lib', 'C:\\\\Users\\\\Mohammed Israr\\\\anaconda3', '', 'C:\\\\Users\\\\Mohammed Israr\\\\anaconda3\\\\Lib\\\\site-packages', 'C:\\\\Users\\\\Mohammed Israr\\\\anaconda3\\\\Lib\\\\site-packages\\\\win32', 'C:\\\\Users\\\\Mohammed Israr\\\\anaconda3\\\\Lib\\\\site-packages\\\\win32\\\\lib', 'C:\\\\Users\\\\Mohammed Israr\\\\anaconda3\\\\Lib\\\\site-packages\\\\Pythonwin']\n"
     ]
    }
   ],
   "source": [
    "import sys\n",
    "\n",
    "print(sys.path)"
   ]
  },
  {
   "cell_type": "code",
   "execution_count": 3,
   "id": "69c168d1-8c1a-4728-8a11-3089f82652c0",
   "metadata": {},
   "outputs": [],
   "source": [
    "sys.path.append('C:\\\\Users\\\\Mohammed Israr\\\\Desktop\\\\Flipkart')"
   ]
  },
  {
   "cell_type": "code",
   "execution_count": 4,
   "id": "552471c0-b7cc-4b6b-8a2b-f75fea7dbbd0",
   "metadata": {},
   "outputs": [
    {
     "name": "stdout",
     "output_type": "stream",
     "text": [
      "['C:\\\\Users\\\\Mohammed Israr\\\\Desktop\\\\Ongoing classes\\\\19_April_Weekday_morning', 'C:\\\\Users\\\\Mohammed Israr\\\\anaconda3\\\\python311.zip', 'C:\\\\Users\\\\Mohammed Israr\\\\anaconda3\\\\DLLs', 'C:\\\\Users\\\\Mohammed Israr\\\\anaconda3\\\\Lib', 'C:\\\\Users\\\\Mohammed Israr\\\\anaconda3', '', 'C:\\\\Users\\\\Mohammed Israr\\\\anaconda3\\\\Lib\\\\site-packages', 'C:\\\\Users\\\\Mohammed Israr\\\\anaconda3\\\\Lib\\\\site-packages\\\\win32', 'C:\\\\Users\\\\Mohammed Israr\\\\anaconda3\\\\Lib\\\\site-packages\\\\win32\\\\lib', 'C:\\\\Users\\\\Mohammed Israr\\\\anaconda3\\\\Lib\\\\site-packages\\\\Pythonwin', 'C:\\\\Users\\\\Mohammed Israr\\\\Desktop\\\\Flipkart']\n"
     ]
    }
   ],
   "source": [
    "print(sys.path)"
   ]
  },
  {
   "cell_type": "code",
   "execution_count": 5,
   "id": "8a89dcc6-9260-480e-8255-267f95f1db8f",
   "metadata": {},
   "outputs": [
    {
     "name": "stdout",
     "output_type": "stream",
     "text": [
      "['In', 'Out', '_', '__', '___', '__builtin__', '__builtins__', '__doc__', '__loader__', '__name__', '__package__', '__session__', '__spec__', '_dh', '_i', '_i1', '_i2', '_i3', '_i4', '_i5', '_ih', '_ii', '_iii', '_oh', 'exit', 'get_ipython', 'open', 'quit', 'sys']\n",
      "\n",
      "\n",
      "['In', 'Out', '_', '__', '___', '__builtin__', '__builtins__', '__doc__', '__loader__', '__name__', '__package__', '__session__', '__spec__', '_dh', '_i', '_i1', '_i2', '_i3', '_i4', '_i5', '_ih', '_ii', '_iii', '_oh', 'ccm', 'exit', 'get_ipython', 'open', 'quit', 'sys']\n"
     ]
    }
   ],
   "source": [
    "print(dir() , end = '\\n\\n\\n')\n",
    "\n",
    "import credit_card_module as ccm\n",
    "\n",
    "print(dir())"
   ]
  },
  {
   "cell_type": "code",
   "execution_count": 6,
   "id": "7b03ddab-b3f8-4358-8008-ab3b184d9639",
   "metadata": {},
   "outputs": [
    {
     "data": {
      "text/plain": [
       "30"
      ]
     },
     "execution_count": 6,
     "metadata": {},
     "output_type": "execute_result"
    }
   ],
   "source": [
    "ccm.adder(10,20)"
   ]
  },
  {
   "cell_type": "markdown",
   "id": "bc16aaf8-4681-4c31-ad17-03811188d3c9",
   "metadata": {},
   "source": [
    "# __name__"
   ]
  },
  {
   "cell_type": "code",
   "execution_count": 1,
   "id": "af56a976-394b-4431-8c73-657ab6af3625",
   "metadata": {},
   "outputs": [
    {
     "name": "stdout",
     "output_type": "stream",
     "text": [
      "40\n",
      "Hello world\n"
     ]
    }
   ],
   "source": [
    "import credit_card_module as ccm"
   ]
  },
  {
   "cell_type": "code",
   "execution_count": 2,
   "id": "d5375573-9b3e-45da-8bcb-0a483859528f",
   "metadata": {},
   "outputs": [],
   "source": [
    "import credit_card_module as ccm"
   ]
  },
  {
   "cell_type": "code",
   "execution_count": 3,
   "id": "ed7e0d35-b248-499f-b5f0-c8f2076ca8c8",
   "metadata": {},
   "outputs": [
    {
     "data": {
      "text/plain": [
       "'Not a palindrom'"
      ]
     },
     "execution_count": 3,
     "metadata": {},
     "output_type": "execute_result"
    }
   ],
   "source": [
    "ccm.palindrom('level')"
   ]
  },
  {
   "cell_type": "code",
   "execution_count": 1,
   "id": "a8d518d3-9f8e-49c2-a245-9947993c7618",
   "metadata": {},
   "outputs": [],
   "source": [
    "import credit_card_module as ccm"
   ]
  },
  {
   "cell_type": "code",
   "execution_count": 4,
   "id": "38aabb71-9269-4e56-835d-badd9ccfc974",
   "metadata": {},
   "outputs": [
    {
     "data": {
      "text/plain": [
       "'Not a palindrom'"
      ]
     },
     "execution_count": 4,
     "metadata": {},
     "output_type": "execute_result"
    }
   ],
   "source": [
    "ccm.palindrom('level')"
   ]
  },
  {
   "cell_type": "code",
   "execution_count": 3,
   "id": "ed1b517e-1016-4c38-a831-47488c94cbae",
   "metadata": {},
   "outputs": [
    {
     "name": "stdout",
     "output_type": "stream",
     "text": [
      "['In', 'Out', '_', '__', '___', '__builtin__', '__builtins__', '__doc__', '__loader__', '__name__', '__package__', '__session__', '__spec__', '_dh', '_i', '_i1', '_i2', '_i3', '_ih', '_ii', '_iii', '_oh', 'ccm', 'exit', 'get_ipython', 'open', 'quit']\n"
     ]
    }
   ],
   "source": [
    "print(dir())"
   ]
  },
  {
   "cell_type": "code",
   "execution_count": 15,
   "id": "1cae1780-219d-4237-a685-a4c616f63ff4",
   "metadata": {},
   "outputs": [
    {
     "name": "stdout",
     "output_type": "stream",
     "text": [
      "Palindrom has a logical error\n"
     ]
    }
   ],
   "source": [
    "def palindrom(a):\n",
    "    if a == a[::-2]:\n",
    "        return ('Palindrom')\n",
    "    else:\n",
    "        return ('Not a palindrom')\n",
    "\n",
    "def adder(a,b):\n",
    "    return a+b\n",
    "\n",
    "if __name__ == '__main__':\n",
    "    if palindrom('level') == 'Palindrom':\n",
    "        pass\n",
    "    else:\n",
    "        print('Palindrom has a logical error')"
   ]
  },
  {
   "cell_type": "code",
   "execution_count": null,
   "id": "20165593-a407-4756-a04d-d3cfa5172c8a",
   "metadata": {},
   "outputs": [],
   "source": [
    "import credit_card_module as ccm"
   ]
  },
  {
   "cell_type": "code",
   "execution_count": 8,
   "id": "362282e5-765c-417d-b86e-028a1d326b14",
   "metadata": {},
   "outputs": [
    {
     "data": {
      "text/plain": [
       "32.0"
      ]
     },
     "execution_count": 8,
     "metadata": {},
     "output_type": "execute_result"
    }
   ],
   "source": [
    "a = 32+43j\n",
    "\n",
    "a.real"
   ]
  },
  {
   "cell_type": "code",
   "execution_count": 1,
   "id": "d62d3963-2f6e-433d-9690-12743e85eb0a",
   "metadata": {},
   "outputs": [],
   "source": [
    "import credit_card_module as ccm"
   ]
  },
  {
   "cell_type": "code",
   "execution_count": 3,
   "id": "99bceca3-0953-4dbc-aa00-4fa61b42e523",
   "metadata": {},
   "outputs": [
    {
     "name": "stdout",
     "output_type": "stream",
     "text": [
      "['__builtins__', '__cached__', '__doc__', '__file__', '__loader__', '__name__', '__package__', '__spec__', 'adder', 'palindrom', 'var']\n"
     ]
    }
   ],
   "source": [
    "print(dir(ccm))"
   ]
  },
  {
   "cell_type": "code",
   "execution_count": 5,
   "id": "13baaefb-4305-4145-bef0-4c6732cf1f4a",
   "metadata": {},
   "outputs": [
    {
     "data": {
      "text/plain": [
       "324"
      ]
     },
     "execution_count": 5,
     "metadata": {},
     "output_type": "execute_result"
    }
   ],
   "source": [
    "ccm.var"
   ]
  },
  {
   "cell_type": "code",
   "execution_count": null,
   "id": "52b9b21c-a224-4b65-86e1-4efa3db848f9",
   "metadata": {},
   "outputs": [],
   "source": [
    "navigate tio that folder\n",
    "\n",
    "cd folder_name\n",
    "\n",
    "cd 'folder name'\n",
    "\n",
    "python file_name.ext"
   ]
  }
 ],
 "metadata": {
  "kernelspec": {
   "display_name": "Python 3 (ipykernel)",
   "language": "python",
   "name": "python3"
  },
  "language_info": {
   "codemirror_mode": {
    "name": "ipython",
    "version": 3
   },
   "file_extension": ".py",
   "mimetype": "text/x-python",
   "name": "python",
   "nbconvert_exporter": "python",
   "pygments_lexer": "ipython3",
   "version": "3.11.7"
  }
 },
 "nbformat": 4,
 "nbformat_minor": 5
}
