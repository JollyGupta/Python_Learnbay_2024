{
 "cells": [
  {
   "cell_type": "markdown",
   "id": "047c95e1-b4e9-4485-9022-48433ff7e76e",
   "metadata": {},
   "source": [
    "# read and write mode --> 'r+'\n",
    "\n",
    "\n",
    "- If the file does not exist It'll throw an FileNotFound error\n",
    "- If the file exist then it'll open the file And placess the cursor at the begining of the file\n",
    "- You can read and write the data into the file\n"
   ]
  },
  {
   "cell_type": "code",
   "execution_count": 1,
   "id": "82995973-0374-47ba-a8dc-6f4455c1f080",
   "metadata": {},
   "outputs": [
    {
     "ename": "FileNotFoundError",
     "evalue": "[Errno 2] No such file or directory: 'file_handling/read_write_mode.txt'",
     "output_type": "error",
     "traceback": [
      "\u001b[1;31m---------------------------------------------------------------------------\u001b[0m",
      "\u001b[1;31mFileNotFoundError\u001b[0m                         Traceback (most recent call last)",
      "Cell \u001b[1;32mIn[1], line 1\u001b[0m\n\u001b[1;32m----> 1\u001b[0m a \u001b[38;5;241m=\u001b[39m \u001b[38;5;28mopen\u001b[39m(\u001b[38;5;124m'\u001b[39m\u001b[38;5;124mfile_handling/read_write_mode.txt\u001b[39m\u001b[38;5;124m'\u001b[39m , \u001b[38;5;124m'\u001b[39m\u001b[38;5;124mr+\u001b[39m\u001b[38;5;124m'\u001b[39m)\n",
      "File \u001b[1;32m~\\anaconda3\\Lib\\site-packages\\IPython\\core\\interactiveshell.py:310\u001b[0m, in \u001b[0;36m_modified_open\u001b[1;34m(file, *args, **kwargs)\u001b[0m\n\u001b[0;32m    303\u001b[0m \u001b[38;5;28;01mif\u001b[39;00m file \u001b[38;5;129;01min\u001b[39;00m {\u001b[38;5;241m0\u001b[39m, \u001b[38;5;241m1\u001b[39m, \u001b[38;5;241m2\u001b[39m}:\n\u001b[0;32m    304\u001b[0m     \u001b[38;5;28;01mraise\u001b[39;00m \u001b[38;5;167;01mValueError\u001b[39;00m(\n\u001b[0;32m    305\u001b[0m         \u001b[38;5;124mf\u001b[39m\u001b[38;5;124m\"\u001b[39m\u001b[38;5;124mIPython won\u001b[39m\u001b[38;5;124m'\u001b[39m\u001b[38;5;124mt let you open fd=\u001b[39m\u001b[38;5;132;01m{\u001b[39;00mfile\u001b[38;5;132;01m}\u001b[39;00m\u001b[38;5;124m by default \u001b[39m\u001b[38;5;124m\"\u001b[39m\n\u001b[0;32m    306\u001b[0m         \u001b[38;5;124m\"\u001b[39m\u001b[38;5;124mas it is likely to crash IPython. If you know what you are doing, \u001b[39m\u001b[38;5;124m\"\u001b[39m\n\u001b[0;32m    307\u001b[0m         \u001b[38;5;124m\"\u001b[39m\u001b[38;5;124myou can use builtins\u001b[39m\u001b[38;5;124m'\u001b[39m\u001b[38;5;124m open.\u001b[39m\u001b[38;5;124m\"\u001b[39m\n\u001b[0;32m    308\u001b[0m     )\n\u001b[1;32m--> 310\u001b[0m \u001b[38;5;28;01mreturn\u001b[39;00m io_open(file, \u001b[38;5;241m*\u001b[39margs, \u001b[38;5;241m*\u001b[39m\u001b[38;5;241m*\u001b[39mkwargs)\n",
      "\u001b[1;31mFileNotFoundError\u001b[0m: [Errno 2] No such file or directory: 'file_handling/read_write_mode.txt'"
     ]
    }
   ],
   "source": [
    "a = open('file_handling/read_write_mode.txt' , 'r+')"
   ]
  },
  {
   "cell_type": "code",
   "execution_count": 4,
   "id": "c92de436-a2d3-4c1e-9365-eb022f2892fa",
   "metadata": {},
   "outputs": [
    {
     "name": "stdout",
     "output_type": "stream",
     "text": [
      "0\n"
     ]
    }
   ],
   "source": [
    "f = open('file_handling/read_write_mode.txt' , 'r+')\n",
    "\n",
    "print(f.tell())"
   ]
  },
  {
   "cell_type": "code",
   "execution_count": 6,
   "id": "4c85c5e3-ee7d-4fb6-a785-c26946006a3c",
   "metadata": {},
   "outputs": [
    {
     "name": "stdout",
     "output_type": "stream",
     "text": [
      "0\n",
      "Hello world\n",
      "11\n"
     ]
    }
   ],
   "source": [
    "f = open('file_handling/read_write_mode.txt' , 'r+')\n",
    "\n",
    "print(f.tell())\n",
    "\n",
    "print(f.read())\n",
    "\n",
    "print(f.tell())\n",
    "\n",
    "f.write('New_data')\n",
    "\n",
    "f.close()"
   ]
  },
  {
   "cell_type": "code",
   "execution_count": 7,
   "id": "a2f17ae0-e624-47df-a5ef-0e76423d5c6d",
   "metadata": {},
   "outputs": [],
   "source": [
    "f = open('file_handling/read_write_mode.txt' , 'r+')\n",
    "\n",
    "# print(f.tell())\n",
    "\n",
    "# print(f.read())\n",
    "\n",
    "# print(f.tell())\n",
    "\n",
    "f.write('New_data')\n",
    "\n",
    "f.close()"
   ]
  },
  {
   "cell_type": "markdown",
   "id": "b8b3b099-3f58-4cf5-a660-7718b8f9e568",
   "metadata": {},
   "source": [
    "# Write and read mode 'w+'\n",
    "\n",
    "- If the file does not exist It'll create a file with the name and extension\n",
    "- If the file exist then it'll open the file And deletes the previous data\n",
    "- You can read and write the data into the file"
   ]
  },
  {
   "cell_type": "code",
   "execution_count": 9,
   "id": "e36b0d09-6dce-45c7-b976-2eadf3f1da2a",
   "metadata": {},
   "outputs": [],
   "source": [
    "f = open('file_handling/write_read_mode.txt' , 'w+')\n",
    "\n",
    "f.write('New_data')\n",
    "\n",
    "f.close()"
   ]
  },
  {
   "cell_type": "code",
   "execution_count": 10,
   "id": "04550f9b-f491-4702-9dea-b24ec7dc1b0f",
   "metadata": {},
   "outputs": [
    {
     "name": "stdout",
     "output_type": "stream",
     "text": [
      "New_data\n"
     ]
    }
   ],
   "source": [
    "f = open('file_handling/write_read_mode.txt' , 'w+')\n",
    "\n",
    "f.write('New_data')\n",
    "\n",
    "f.seek(0)\n",
    "print(f.read())\n",
    "\n",
    "f.close()"
   ]
  },
  {
   "cell_type": "markdown",
   "id": "e33028d7-61ca-4c05-835a-971802d98fb9",
   "metadata": {},
   "source": [
    "# append and read mode --> 'a+'\n",
    "\n",
    "\n",
    "- If the file does not exist It'll create a file with the name and extension\n",
    "- If the file exist then it'll open the file And places the cursor at the end of the file \n",
    "- You can read and write the data into the file"
   ]
  },
  {
   "cell_type": "code",
   "execution_count": 11,
   "id": "6d15d52d-8eae-4a1d-afa8-014c4b8c6c4a",
   "metadata": {},
   "outputs": [],
   "source": [
    "f = open('file_handling/append_read_mode.txt' , 'a+')\n",
    "\n",
    "f.write('New_data')\n",
    "\n",
    "f.close()"
   ]
  },
  {
   "cell_type": "code",
   "execution_count": 16,
   "id": "68f6f296-4cdd-4a39-ac49-348417b0d34b",
   "metadata": {},
   "outputs": [],
   "source": [
    "f = open('file_handling/append_read_mode.txt' , 'a+')\n",
    "\n",
    "f.write('\\nNew_data')\n",
    "\n",
    "f.close()"
   ]
  },
  {
   "cell_type": "code",
   "execution_count": 17,
   "id": "3174af7f-bded-4005-acaf-09ee1b452d7c",
   "metadata": {},
   "outputs": [
    {
     "name": "stdout",
     "output_type": "stream",
     "text": [
      "Hello world\n",
      "New_data\n",
      "New_data\n",
      "New_data\n",
      "New_data\n",
      "New_data\n"
     ]
    }
   ],
   "source": [
    "f = open('file_handling/append_read_mode.txt' , 'a+')\n",
    "\n",
    "f.seek(0)\n",
    "\n",
    "print(f.read())\n",
    "\n",
    "f.close()"
   ]
  },
  {
   "cell_type": "code",
   "execution_count": null,
   "id": "7225508b-d52c-40d4-8542-d8a537b38878",
   "metadata": {},
   "outputs": [],
   "source": [
    "# Methods similar to the read function\n",
    "\n",
    "- read() --> It the read the complete content from the current position, it return the output in a string\n",
    "- read(char) ---> It read the sppecified char from the current location\n",
    "- readline() ---> It only reads the current line from the current position\n",
    "- readlines() ---> It read the complete content from the current position, it return each line as an element in a list"
   ]
  },
  {
   "cell_type": "code",
   "execution_count": 19,
   "id": "ef571c56-0350-4e37-ac32-1a83ff28a44c",
   "metadata": {},
   "outputs": [
    {
     "name": "stdout",
     "output_type": "stream",
     "text": [
      "0\n"
     ]
    },
    {
     "data": {
      "text/plain": [
       "'Dhoni plays for Chennai\\nVirat plays for RCB\\nRohit plays for MI'"
      ]
     },
     "execution_count": 19,
     "metadata": {},
     "output_type": "execute_result"
    }
   ],
   "source": [
    "f = open('file_handling/append_read_mode.txt' , 'r')\n",
    "\n",
    "print(f.tell())\n",
    "\n",
    "f.read()"
   ]
  },
  {
   "cell_type": "code",
   "execution_count": 20,
   "id": "c01635c3-fb15-4f44-b4ae-51345125ab60",
   "metadata": {},
   "outputs": [
    {
     "name": "stdout",
     "output_type": "stream",
     "text": [
      "0\n"
     ]
    },
    {
     "data": {
      "text/plain": [
       "'plays for Chennai\\nVirat plays for RCB\\nRohit plays for MI'"
      ]
     },
     "execution_count": 20,
     "metadata": {},
     "output_type": "execute_result"
    }
   ],
   "source": [
    "f = open('file_handling/append_read_mode.txt' , 'r')\n",
    "\n",
    "print(f.tell())\n",
    "f.seek(6)\n",
    "\n",
    "f.read()"
   ]
  },
  {
   "cell_type": "code",
   "execution_count": 21,
   "id": "f1548719-56a6-4dec-9918-0a1ae8aa49de",
   "metadata": {},
   "outputs": [
    {
     "name": "stdout",
     "output_type": "stream",
     "text": [
      "0\n"
     ]
    },
    {
     "data": {
      "text/plain": [
       "'plays'"
      ]
     },
     "execution_count": 21,
     "metadata": {},
     "output_type": "execute_result"
    }
   ],
   "source": [
    "f = open('file_handling/append_read_mode.txt' , 'r')\n",
    "\n",
    "print(f.tell())\n",
    "\n",
    "f.seek(6)\n",
    "\n",
    "f.read(5)"
   ]
  },
  {
   "cell_type": "code",
   "execution_count": 22,
   "id": "bc032620-fe4f-4714-a7b8-5f13a4ad93ef",
   "metadata": {},
   "outputs": [
    {
     "name": "stdout",
     "output_type": "stream",
     "text": [
      "0\n"
     ]
    },
    {
     "data": {
      "text/plain": [
       "'Dhoni plays for Chennai\\n'"
      ]
     },
     "execution_count": 22,
     "metadata": {},
     "output_type": "execute_result"
    }
   ],
   "source": [
    "f = open('file_handling/append_read_mode.txt' , 'r')\n",
    "\n",
    "print(f.tell())\n",
    "\n",
    "# f.seek(6)\n",
    "\n",
    "f.readline()"
   ]
  },
  {
   "cell_type": "code",
   "execution_count": 23,
   "id": "acf46167-659a-4004-b3f4-efff3696dda0",
   "metadata": {},
   "outputs": [
    {
     "data": {
      "text/plain": [
       "'Virat plays for RCB\\n'"
      ]
     },
     "execution_count": 23,
     "metadata": {},
     "output_type": "execute_result"
    }
   ],
   "source": [
    "f.readline()"
   ]
  },
  {
   "cell_type": "code",
   "execution_count": 24,
   "id": "2fd7c1a1-6545-4c1d-8ca7-e3ffd3df74d2",
   "metadata": {},
   "outputs": [
    {
     "data": {
      "text/plain": [
       "'Rohit plays for MI'"
      ]
     },
     "execution_count": 24,
     "metadata": {},
     "output_type": "execute_result"
    }
   ],
   "source": [
    "f.readline()"
   ]
  },
  {
   "cell_type": "code",
   "execution_count": 25,
   "id": "cf682bb0-74d2-42a2-bf61-bd76464ad9e4",
   "metadata": {},
   "outputs": [
    {
     "name": "stdout",
     "output_type": "stream",
     "text": [
      "0\n"
     ]
    },
    {
     "data": {
      "text/plain": [
       "['Dhoni plays for Chennai\\n', 'Virat plays for RCB\\n', 'Rohit plays for MI']"
      ]
     },
     "execution_count": 25,
     "metadata": {},
     "output_type": "execute_result"
    }
   ],
   "source": [
    "f = open('file_handling/append_read_mode.txt' , 'r')\n",
    "\n",
    "print(f.tell())\n",
    "\n",
    "# f.seek(6)\n",
    "\n",
    "f.readlines()"
   ]
  },
  {
   "cell_type": "code",
   "execution_count": 26,
   "id": "51030ee0-f044-45fd-96a3-df52d1e53b37",
   "metadata": {},
   "outputs": [
    {
     "name": "stdout",
     "output_type": "stream",
     "text": [
      "0\n"
     ]
    },
    {
     "data": {
      "text/plain": [
       "'Dhoni plays for Chennai\\nVirat plays for RCB\\nRohit plays for MI'"
      ]
     },
     "execution_count": 26,
     "metadata": {},
     "output_type": "execute_result"
    }
   ],
   "source": [
    "f = open('file_handling/append_read_mode.txt' , 'r')\n",
    "\n",
    "print(f.tell())\n",
    "\n",
    "f.read()"
   ]
  },
  {
   "cell_type": "markdown",
   "id": "84abb6b7-35f3-4f8a-88c4-358c521aae44",
   "metadata": {},
   "source": [
    "# Task1"
   ]
  },
  {
   "cell_type": "code",
   "execution_count": 27,
   "id": "9fde3023-2342-4066-a147-38b9713083e0",
   "metadata": {},
   "outputs": [
    {
     "name": "stdin",
     "output_type": "stream",
     "text": [
      "first number :  10\n",
      "second nuber :  20\n"
     ]
    },
    {
     "name": "stdout",
     "output_type": "stream",
     "text": [
      "The addition of 10 and 20 = 30\n"
     ]
    }
   ],
   "source": [
    "a = eval(input('first number : '))\n",
    "b = eval(input('second nuber : '))\n",
    "\n",
    "c = f'The addition of {a} and {b} = {a+b}'\n",
    "\n",
    "print(c)"
   ]
  },
  {
   "cell_type": "code",
   "execution_count": 35,
   "id": "4ec3edc6-d609-4eea-907e-8385353504e7",
   "metadata": {},
   "outputs": [
    {
     "name": "stdin",
     "output_type": "stream",
     "text": [
      "first number :  20\n",
      "second nuber :  30\n"
     ]
    },
    {
     "name": "stdout",
     "output_type": "stream",
     "text": [
      "The addition of 20 and 30 = 50\n"
     ]
    }
   ],
   "source": [
    "import time\n",
    "\n",
    "a = eval(input('first number : '))\n",
    "b = eval(input('second nuber : '))\n",
    "\n",
    "c = f'The addition of {a} and {b} = {a+b}'\n",
    "\n",
    "with open('file_handling/append_read_mode.txt' , 'a+') as f:\n",
    "    f.write(f'{time.strftime(\"%Y-%m-%d  %I:%M:%S %p\")} ----> {c}\\n')\n",
    "\n",
    "print(c)"
   ]
  },
  {
   "cell_type": "code",
   "execution_count": 37,
   "id": "75b3f3e4-9c49-417c-9d00-4f84e4015d98",
   "metadata": {},
   "outputs": [
    {
     "name": "stdin",
     "output_type": "stream",
     "text": [
      "first number:  20\n",
      "first number:  30\n"
     ]
    },
    {
     "name": "stdout",
     "output_type": "stream",
     "text": [
      "the addition of 20 and 30 is 50\n"
     ]
    }
   ],
   "source": [
    "import time\n",
    "\n",
    "a=eval(input('first number: '))\n",
    "b=eval(input('first number: '))\n",
    "\n",
    "print(f'the addition of {a} and {b} is {a+b}')\n",
    "\n",
    "with open('logs.txt','a') as f:\n",
    "    t = time.strftime(\"%Y-%m-%d  %I:%M:%S %p\")\n",
    "    f.write(f'{t} --- the addition of {a} and {b} is {a+b} \\n')\n"
   ]
  },
  {
   "cell_type": "markdown",
   "id": "cafca8c3-289c-4f5f-b902-2252d223b0a3",
   "metadata": {},
   "source": [
    "# Task 2\n",
    "\n",
    "- no of lines\n",
    "- no of words\n",
    "- no of chars"
   ]
  },
  {
   "cell_type": "code",
   "execution_count": null,
   "id": "0e29291a-af39-4a7b-8c02-6c7df013e7e0",
   "metadata": {},
   "outputs": [],
   "source": [
    "Today is the anniversary of the publication of Robert Frost's iconic poem \"Stopping by Woods on a Snowy Evening,\" a fact that spurred the \n",
    "Literary Hub office into a long conversation about their favorite poems, the most iconic poems written in English, and which poems we should all \n",
    "have already read (or at least be reading next). Turns out, despite frequent (false) claims that poetry is dead and/or irrelevant and/or boring, there are plenty of poems that have sunk deep into our collective consciousness as cultural icons. (What makes a poem iconic? For our purposes\n",
    "here, it's primarily a matter of cultural ubiquity, though unimpeachable excellence helps any case.) So for those of you who were not present\n",
    "for our epic office argument, I have listed some of them here.\n",
    "NB that I limited myself to one poem per poet—which means that the impetus for this list actually gets bumped for the widely quoted (and\n",
    "misunderstood) \"The Road Not Taken,\" but so it goes. I also excluded book-length poems, because they're really a different form. Finally,\n",
    "despite the headline, I'm sure there are many, many iconic poems out there that I’ve missed—so feel free to extend this list in the comments.\n",
    "But for now, happy reading (and re-reading):"
   ]
  },
  {
   "cell_type": "markdown",
   "id": "bfa3577e-3b89-4109-97c3-a89e35f59880",
   "metadata": {},
   "source": [
    "# Task 3"
   ]
  },
  {
   "cell_type": "code",
   "execution_count": null,
   "id": "d4138024-e654-4044-8ad7-fbb33f8e9ada",
   "metadata": {},
   "outputs": [],
   "source": [
    "create a new image of img.png in a format of .jpeg"
   ]
  },
  {
   "cell_type": "code",
   "execution_count": null,
   "id": "20bee71a-dee4-45fa-8d9c-64bb00bdd2d6",
   "metadata": {},
   "outputs": [],
   "source": [
    "- read mode ---> 'rb'\n",
    "- write mode ---> 'wb'\n",
    "- append mode ---> 'ab'\n",
    "- read and write mode --> 'r+b'\n",
    "- write and read mode --> 'w+b'\n",
    "- append and read mode ---> 'a+b'"
   ]
  },
  {
   "cell_type": "markdown",
   "id": "05ca13c2-7f90-4ce0-8251-a76eb842a1f7",
   "metadata": {},
   "source": [
    "# Exceptional handling"
   ]
  },
  {
   "cell_type": "code",
   "execution_count": null,
   "id": "4951fd1b-7ee1-43f8-985e-de4513fa78a2",
   "metadata": {},
   "outputs": [],
   "source": [
    "Types of errors present in python\n",
    "\n",
    "1. compile time error eg:- syntax , indentation\n",
    "2. runtime error eg :- ZeroDivisionError , NameError , TypeEror \n",
    "3. logical error --> users make whilecreating a logic\n",
    "\n",
    "Note:- Exceptional handling can only handle runtime error"
   ]
  },
  {
   "cell_type": "code",
   "execution_count": 39,
   "id": "dec7fb35-aa03-48ad-a78a-34180e9029ca",
   "metadata": {},
   "outputs": [
    {
     "name": "stdin",
     "output_type": "stream",
     "text": [
      "first number :  abc\n"
     ]
    },
    {
     "ename": "NameError",
     "evalue": "name 'abc' is not defined",
     "output_type": "error",
     "traceback": [
      "\u001b[1;31m---------------------------------------------------------------------------\u001b[0m",
      "\u001b[1;31mNameError\u001b[0m                                 Traceback (most recent call last)",
      "Cell \u001b[1;32mIn[39], line 1\u001b[0m\n\u001b[1;32m----> 1\u001b[0m a \u001b[38;5;241m=\u001b[39m \u001b[38;5;28meval\u001b[39m(\u001b[38;5;28minput\u001b[39m(\u001b[38;5;124m'\u001b[39m\u001b[38;5;124mfirst number : \u001b[39m\u001b[38;5;124m'\u001b[39m))\n\u001b[0;32m      2\u001b[0m b \u001b[38;5;241m=\u001b[39m \u001b[38;5;28meval\u001b[39m(\u001b[38;5;28minput\u001b[39m(\u001b[38;5;124m'\u001b[39m\u001b[38;5;124msecond nuber : \u001b[39m\u001b[38;5;124m'\u001b[39m))\n\u001b[0;32m      4\u001b[0m c \u001b[38;5;241m=\u001b[39m \u001b[38;5;124mf\u001b[39m\u001b[38;5;124m'\u001b[39m\u001b[38;5;124mThe addition of \u001b[39m\u001b[38;5;132;01m{\u001b[39;00ma\u001b[38;5;132;01m}\u001b[39;00m\u001b[38;5;124m and \u001b[39m\u001b[38;5;132;01m{\u001b[39;00mb\u001b[38;5;132;01m}\u001b[39;00m\u001b[38;5;124m = \u001b[39m\u001b[38;5;132;01m{\u001b[39;00ma\u001b[38;5;241m+\u001b[39mb\u001b[38;5;132;01m}\u001b[39;00m\u001b[38;5;124m'\u001b[39m\n",
      "File \u001b[1;32m<string>:1\u001b[0m\n",
      "\u001b[1;31mNameError\u001b[0m: name 'abc' is not defined"
     ]
    }
   ],
   "source": [
    "a = eval(input('first number : '))\n",
    "b = eval(input('second nuber : '))\n",
    "\n",
    "c = f'The addition of {a} and {b} = {a+b}'\n",
    "\n",
    "print(c)\n",
    "print('Next function')"
   ]
  },
  {
   "cell_type": "code",
   "execution_count": 42,
   "id": "8ca4c735-99d6-4a96-aa64-08956c46a6c4",
   "metadata": {},
   "outputs": [
    {
     "name": "stdout",
     "output_type": "stream",
     "text": [
      "10\n"
     ]
    },
    {
     "ename": "ZeroDivisionError",
     "evalue": "division by zero",
     "output_type": "error",
     "traceback": [
      "\u001b[1;31m---------------------------------------------------------------------------\u001b[0m",
      "\u001b[1;31mZeroDivisionError\u001b[0m                         Traceback (most recent call last)",
      "Cell \u001b[1;32mIn[42], line 5\u001b[0m\n\u001b[0;32m      2\u001b[0m b \u001b[38;5;241m=\u001b[39m \u001b[38;5;241m0\u001b[39m\n\u001b[0;32m      4\u001b[0m \u001b[38;5;28mprint\u001b[39m(a)\n\u001b[1;32m----> 5\u001b[0m \u001b[38;5;28mprint\u001b[39m(a \u001b[38;5;241m/\u001b[39m b)\n\u001b[0;32m      6\u001b[0m \u001b[38;5;28mprint\u001b[39m(b)\n",
      "\u001b[1;31mZeroDivisionError\u001b[0m: division by zero"
     ]
    }
   ],
   "source": [
    "a = 10\n",
    "b = 0\n",
    "\n",
    "print(a)\n",
    "print(a / b)\n",
    "print(b)"
   ]
  },
  {
   "cell_type": "code",
   "execution_count": 43,
   "id": "287ec404-4f0a-4840-8d72-0e9dc0e162c8",
   "metadata": {},
   "outputs": [
    {
     "ename": "SyntaxError",
     "evalue": "'(' was never closed (2365115565.py, line 5)",
     "output_type": "error",
     "traceback": [
      "\u001b[1;36m  Cell \u001b[1;32mIn[43], line 5\u001b[1;36m\u001b[0m\n\u001b[1;33m    print(a / b\u001b[0m\n\u001b[1;37m         ^\u001b[0m\n\u001b[1;31mSyntaxError\u001b[0m\u001b[1;31m:\u001b[0m '(' was never closed\n"
     ]
    }
   ],
   "source": [
    "a = 10\n",
    "b = 0\n",
    "\n",
    "print(a)\n",
    "print(a / b\n",
    "print(b)"
   ]
  },
  {
   "cell_type": "code",
   "execution_count": 45,
   "id": "2cc721d8-08e4-4193-ba21-632984458a2e",
   "metadata": {},
   "outputs": [
    {
     "name": "stdout",
     "output_type": "stream",
     "text": [
      "10\n",
      "-20\n",
      "30\n"
     ]
    }
   ],
   "source": [
    "a = 10\n",
    "b = 30\n",
    "\n",
    "print(a)\n",
    "print(a - b)\n",
    "print(b)"
   ]
  },
  {
   "cell_type": "markdown",
   "id": "c3a56d60-25b9-429c-aca1-5a33478f8328",
   "metadata": {},
   "source": [
    "# Keywords\n",
    "\n",
    "- try\n",
    "- except\n",
    "- else\n",
    "- finally\n",
    "- raise\n"
   ]
  },
  {
   "cell_type": "code",
   "execution_count": 47,
   "id": "99e2dc14-e995-4a7e-9e40-563b22a5f394",
   "metadata": {},
   "outputs": [
    {
     "name": "stdout",
     "output_type": "stream",
     "text": [
      "0.3333333333333333\n",
      "Next function\n"
     ]
    }
   ],
   "source": [
    "a = 10\n",
    "b = 30\n",
    "\n",
    "print(a / b)\n",
    "print('Next function')"
   ]
  },
  {
   "cell_type": "code",
   "execution_count": 48,
   "id": "09b291ef-64bc-48b2-8f7c-0e455f4ed3f7",
   "metadata": {},
   "outputs": [
    {
     "ename": "ZeroDivisionError",
     "evalue": "division by zero",
     "output_type": "error",
     "traceback": [
      "\u001b[1;31m---------------------------------------------------------------------------\u001b[0m",
      "\u001b[1;31mZeroDivisionError\u001b[0m                         Traceback (most recent call last)",
      "Cell \u001b[1;32mIn[48], line 4\u001b[0m\n\u001b[0;32m      1\u001b[0m a \u001b[38;5;241m=\u001b[39m \u001b[38;5;241m10\u001b[39m\n\u001b[0;32m      2\u001b[0m b \u001b[38;5;241m=\u001b[39m \u001b[38;5;241m0\u001b[39m\n\u001b[1;32m----> 4\u001b[0m \u001b[38;5;28mprint\u001b[39m(a \u001b[38;5;241m/\u001b[39m b)\n\u001b[0;32m      5\u001b[0m \u001b[38;5;28mprint\u001b[39m(\u001b[38;5;124m'\u001b[39m\u001b[38;5;124mNext function\u001b[39m\u001b[38;5;124m'\u001b[39m)\n",
      "\u001b[1;31mZeroDivisionError\u001b[0m: division by zero"
     ]
    }
   ],
   "source": [
    "a = 10\n",
    "b = 0\n",
    "\n",
    "print(a / b)\n",
    "print('Next function')"
   ]
  },
  {
   "cell_type": "code",
   "execution_count": null,
   "id": "6b9f3013-99f1-4107-9fe7-1a1b3d621fe8",
   "metadata": {},
   "outputs": [],
   "source": [
    "try:\n",
    "    # some code\n",
    "except:\n",
    "    # back up code "
   ]
  },
  {
   "cell_type": "code",
   "execution_count": 53,
   "id": "12565a1c-7477-4538-b362-74d9d14299ac",
   "metadata": {},
   "outputs": [
    {
     "name": "stdout",
     "output_type": "stream",
     "text": [
      "Back up code\n",
      "Next function\n"
     ]
    }
   ],
   "source": [
    "a = 10\n",
    "b = 'abc'\n",
    "\n",
    "try:\n",
    "    print(a / b)\n",
    "except:\n",
    "    print('Back up code')\n",
    "    \n",
    "print('Next function')"
   ]
  },
  {
   "cell_type": "code",
   "execution_count": 54,
   "id": "9d066551-1825-4469-b569-8098eb0f681f",
   "metadata": {},
   "outputs": [
    {
     "ename": "IndentationError",
     "evalue": "expected an indented block after 'try' statement on line 1 (3352493132.py, line 3)",
     "output_type": "error",
     "traceback": [
      "\u001b[1;36m  Cell \u001b[1;32mIn[54], line 3\u001b[1;36m\u001b[0m\n\u001b[1;33m    except:\u001b[0m\n\u001b[1;37m    ^\u001b[0m\n\u001b[1;31mIndentationError\u001b[0m\u001b[1;31m:\u001b[0m expected an indented block after 'try' statement on line 1\n"
     ]
    }
   ],
   "source": [
    "try:\n",
    "    # some code\n",
    "except:\n",
    "    # back up code \n",
    "else:\n",
    "    # continue code\n",
    "\n",
    "except ----> if try fails\n",
    "else -----> if try does not fail"
   ]
  },
  {
   "cell_type": "code",
   "execution_count": 55,
   "id": "450ff067-a795-4664-91eb-c958256a716f",
   "metadata": {},
   "outputs": [
    {
     "name": "stdout",
     "output_type": "stream",
     "text": [
      "5.0\n",
      "Continue code\n",
      "Next function\n"
     ]
    }
   ],
   "source": [
    "a = 10\n",
    "b = 2\n",
    "\n",
    "try:\n",
    "    print(a / b)\n",
    "except:\n",
    "    print('Back up code')\n",
    "else:\n",
    "    print('Continue code')\n",
    "    \n",
    "print('Next function')"
   ]
  },
  {
   "cell_type": "code",
   "execution_count": 56,
   "id": "2928def8-d25a-4752-8599-a96b1f632da9",
   "metadata": {},
   "outputs": [
    {
     "name": "stdout",
     "output_type": "stream",
     "text": [
      "Back up code\n",
      "Next function\n"
     ]
    }
   ],
   "source": [
    "a = 10\n",
    "b = 0\n",
    "\n",
    "try:\n",
    "    print(a / b)\n",
    "except:\n",
    "    print('Back up code')\n",
    "else:\n",
    "    print('Continue code')\n",
    "    \n",
    "print('Next function')"
   ]
  },
  {
   "cell_type": "code",
   "execution_count": 59,
   "id": "a65f2514-da05-4fa2-b3cc-4d1fee716b7e",
   "metadata": {},
   "outputs": [
    {
     "name": "stdout",
     "output_type": "stream",
     "text": [
      "wrong input\n",
      "Next function\n"
     ]
    }
   ],
   "source": [
    "try:\n",
    "    a = int('345.345')\n",
    "except:\n",
    "    print('wrong input')\n",
    "else:\n",
    "    print('+91-'+str(a))\n",
    "    \n",
    "print('Next function')"
   ]
  },
  {
   "cell_type": "code",
   "execution_count": 60,
   "id": "8df5668c-d81a-4fd8-93ba-96b74cd8e01b",
   "metadata": {},
   "outputs": [
    {
     "name": "stdout",
     "output_type": "stream",
     "text": [
      "5.0\n",
      "Continue code\n",
      "Next function\n"
     ]
    }
   ],
   "source": [
    "a = 10\n",
    "b = 2\n",
    "\n",
    "try:\n",
    "    print(a / b)\n",
    "    print('Continue code')\n",
    "except:\n",
    "    print('Back up code')\n",
    "    \n",
    "    \n",
    "print('Next function')"
   ]
  },
  {
   "cell_type": "markdown",
   "id": "806a5c70-db31-441c-85f3-7fd5a074b513",
   "metadata": {},
   "source": [
    "# Finally"
   ]
  },
  {
   "cell_type": "code",
   "execution_count": 61,
   "id": "56ffb728-f534-4081-8783-933869a7eebe",
   "metadata": {},
   "outputs": [
    {
     "name": "stdout",
     "output_type": "stream",
     "text": [
      "5.0\n",
      "Continue code\n",
      "Super back up code\n",
      "Next function\n"
     ]
    }
   ],
   "source": [
    "a = 10\n",
    "b = 2\n",
    "\n",
    "try:\n",
    "    print(a / b)\n",
    "except:\n",
    "    print('Back up code')\n",
    "else:\n",
    "    print('Continue code')\n",
    "finally:\n",
    "    print('Super back up code')\n",
    "    \n",
    "print('Next function')"
   ]
  },
  {
   "cell_type": "code",
   "execution_count": 62,
   "id": "c5ef3af7-c93e-4694-af2a-3cf542123079",
   "metadata": {},
   "outputs": [
    {
     "name": "stdout",
     "output_type": "stream",
     "text": [
      "Back up code\n",
      "Super back up code\n",
      "Next function\n"
     ]
    }
   ],
   "source": [
    "a = 10\n",
    "b = 0\n",
    "\n",
    "try:\n",
    "    print(a / b)\n",
    "except:\n",
    "    print('Back up code')\n",
    "else:\n",
    "    print('Continue code')\n",
    "finally:\n",
    "    print('Super back up code')\n",
    "    \n",
    "print('Next function')"
   ]
  },
  {
   "cell_type": "code",
   "execution_count": 63,
   "id": "89879064-91ff-4d9b-ac9f-bfb3bb8d983e",
   "metadata": {},
   "outputs": [
    {
     "name": "stdout",
     "output_type": "stream",
     "text": [
      "Super back up code\n"
     ]
    },
    {
     "ename": "TypeError",
     "evalue": "unsupported operand type(s) for +: 'int' and 'str'",
     "output_type": "error",
     "traceback": [
      "\u001b[1;31m---------------------------------------------------------------------------\u001b[0m",
      "\u001b[1;31mTypeError\u001b[0m                                 Traceback (most recent call last)",
      "Cell \u001b[1;32mIn[63], line 5\u001b[0m\n\u001b[0;32m      4\u001b[0m \u001b[38;5;28;01mtry\u001b[39;00m:\n\u001b[1;32m----> 5\u001b[0m     \u001b[38;5;28mprint\u001b[39m(a \u001b[38;5;241m/\u001b[39m b)\n\u001b[0;32m      6\u001b[0m \u001b[38;5;28;01mexcept\u001b[39;00m:\n",
      "\u001b[1;31mTypeError\u001b[0m: unsupported operand type(s) for /: 'int' and 'str'",
      "\nDuring handling of the above exception, another exception occurred:\n",
      "\u001b[1;31mTypeError\u001b[0m                                 Traceback (most recent call last)",
      "Cell \u001b[1;32mIn[63], line 7\u001b[0m\n\u001b[0;32m      5\u001b[0m     \u001b[38;5;28mprint\u001b[39m(a \u001b[38;5;241m/\u001b[39m b)\n\u001b[0;32m      6\u001b[0m \u001b[38;5;28;01mexcept\u001b[39;00m:\n\u001b[1;32m----> 7\u001b[0m     \u001b[38;5;28mprint\u001b[39m(a \u001b[38;5;241m+\u001b[39m b)\n\u001b[0;32m      8\u001b[0m \u001b[38;5;28;01melse\u001b[39;00m:\n\u001b[0;32m      9\u001b[0m     \u001b[38;5;28mprint\u001b[39m(\u001b[38;5;124m'\u001b[39m\u001b[38;5;124mContinue code\u001b[39m\u001b[38;5;124m'\u001b[39m)\n",
      "\u001b[1;31mTypeError\u001b[0m: unsupported operand type(s) for +: 'int' and 'str'"
     ]
    }
   ],
   "source": [
    "a = 10\n",
    "b = 'abc'\n",
    "\n",
    "try:\n",
    "    print(a / b)\n",
    "except:\n",
    "    print(a + b)\n",
    "else:\n",
    "    print('Continue code')\n",
    "finally:\n",
    "    print('Super back up code')\n",
    "    \n",
    "print('Next function')"
   ]
  },
  {
   "cell_type": "code",
   "execution_count": 64,
   "id": "b9e53956-bcbf-440c-9b43-432302bae03a",
   "metadata": {},
   "outputs": [
    {
     "name": "stdout",
     "output_type": "stream",
     "text": [
      "Super back up code\n",
      "Some message\n",
      "Next function\n"
     ]
    }
   ],
   "source": [
    "a = 10\n",
    "b = 'abc'\n",
    "\n",
    "try:\n",
    "    try:\n",
    "        print(a / b)\n",
    "    except:\n",
    "        print(a + b)\n",
    "    else:\n",
    "        print('Continue code')\n",
    "    finally:\n",
    "        print('Super back up code')\n",
    "except:\n",
    "    print('Some message')\n",
    "    \n",
    "print('Next function')"
   ]
  },
  {
   "cell_type": "markdown",
   "id": "13915216-4ea1-4b46-a9ce-4fa96157c96b",
   "metadata": {},
   "source": [
    "# Showing error to the user"
   ]
  },
  {
   "cell_type": "code",
   "execution_count": 68,
   "id": "a6330583-62f1-4b25-b4fe-dc7aa4dc7752",
   "metadata": {},
   "outputs": [
    {
     "name": "stdout",
     "output_type": "stream",
     "text": [
      "Back up code\n",
      "Next function\n"
     ]
    }
   ],
   "source": [
    "a = 10\n",
    "b = 'abc'\n",
    "\n",
    "try:\n",
    "    print(a / b)\n",
    "except:\n",
    "    print('Back up code')\n",
    "    \n",
    "    \n",
    "print('Next function')"
   ]
  },
  {
   "cell_type": "code",
   "execution_count": 70,
   "id": "b43031ad-62a7-499e-a75d-45a11988274e",
   "metadata": {},
   "outputs": [
    {
     "name": "stdout",
     "output_type": "stream",
     "text": [
      "division by zero\n",
      "Back up code\n",
      "Next function\n"
     ]
    }
   ],
   "source": [
    "a = 10\n",
    "b = 0\n",
    "\n",
    "try:\n",
    "    print(a / b)\n",
    "except Exception as e:\n",
    "    print(e)\n",
    "    print('Back up code')\n",
    "    \n",
    "    \n",
    "print('Next function')"
   ]
  },
  {
   "cell_type": "code",
   "execution_count": 65,
   "id": "58b57c92-84b6-4469-8be4-82f0829725a7",
   "metadata": {},
   "outputs": [
    {
     "ename": "ZeroDivisionError",
     "evalue": "division by zero",
     "output_type": "error",
     "traceback": [
      "\u001b[1;31m---------------------------------------------------------------------------\u001b[0m",
      "\u001b[1;31mZeroDivisionError\u001b[0m                         Traceback (most recent call last)",
      "Cell \u001b[1;32mIn[65], line 1\u001b[0m\n\u001b[1;32m----> 1\u001b[0m \u001b[38;5;241m23\u001b[39m \u001b[38;5;241m/\u001b[39m \u001b[38;5;241m0\u001b[39m\n",
      "\u001b[1;31mZeroDivisionError\u001b[0m: division by zero"
     ]
    }
   ],
   "source": [
    "23 / 0"
   ]
  },
  {
   "cell_type": "code",
   "execution_count": 66,
   "id": "1a9e4db7-ca08-48fe-a4c0-601bd89019f6",
   "metadata": {},
   "outputs": [
    {
     "ename": "TypeError",
     "evalue": "unsupported operand type(s) for /: 'int' and 'str'",
     "output_type": "error",
     "traceback": [
      "\u001b[1;31m---------------------------------------------------------------------------\u001b[0m",
      "\u001b[1;31mTypeError\u001b[0m                                 Traceback (most recent call last)",
      "Cell \u001b[1;32mIn[66], line 1\u001b[0m\n\u001b[1;32m----> 1\u001b[0m \u001b[38;5;241m23\u001b[39m \u001b[38;5;241m/\u001b[39m \u001b[38;5;124m'\u001b[39m\u001b[38;5;124mabc\u001b[39m\u001b[38;5;124m'\u001b[39m\n",
      "\u001b[1;31mTypeError\u001b[0m: unsupported operand type(s) for /: 'int' and 'str'"
     ]
    }
   ],
   "source": [
    "23 / 'abc'"
   ]
  },
  {
   "cell_type": "code",
   "execution_count": 71,
   "id": "750a9025-0817-433a-9814-0f673767ad30",
   "metadata": {},
   "outputs": [
    {
     "name": "stdout",
     "output_type": "stream",
     "text": [
      "['ArithmeticError', 'AssertionError', 'AttributeError', 'BaseException', 'BaseExceptionGroup', 'BlockingIOError', 'BrokenPipeError', 'BufferError', 'BytesWarning', 'ChildProcessError', 'ConnectionAbortedError', 'ConnectionError', 'ConnectionRefusedError', 'ConnectionResetError', 'DeprecationWarning', 'EOFError', 'Ellipsis', 'EncodingWarning', 'EnvironmentError', 'Exception', 'ExceptionGroup', 'False', 'FileExistsError', 'FileNotFoundError', 'FloatingPointError', 'FutureWarning', 'GeneratorExit', 'IOError', 'ImportError', 'ImportWarning', 'IndentationError', 'IndexError', 'InterruptedError', 'IsADirectoryError', 'KeyError', 'KeyboardInterrupt', 'LookupError', 'MemoryError', 'ModuleNotFoundError', 'NameError', 'None', 'NotADirectoryError', 'NotImplemented', 'NotImplementedError', 'OSError', 'OverflowError', 'PendingDeprecationWarning', 'PermissionError', 'ProcessLookupError', 'RecursionError', 'ReferenceError', 'ResourceWarning', 'RuntimeError', 'RuntimeWarning', 'StopAsyncIteration', 'StopIteration', 'SyntaxError', 'SyntaxWarning', 'SystemError', 'SystemExit', 'TabError', 'TimeoutError', 'True', 'TypeError', 'UnboundLocalError', 'UnicodeDecodeError', 'UnicodeEncodeError', 'UnicodeError', 'UnicodeTranslateError', 'UnicodeWarning', 'UserWarning', 'ValueError', 'Warning', 'WindowsError', 'ZeroDivisionError', '__IPYTHON__', '__build_class__', '__debug__', '__doc__', '__import__', '__loader__', '__name__', '__package__', '__spec__', 'abs', 'aiter', 'all', 'anext', 'any', 'ascii', 'bin', 'bool', 'breakpoint', 'bytearray', 'bytes', 'callable', 'chr', 'classmethod', 'compile', 'complex', 'copyright', 'credits', 'delattr', 'dict', 'dir', 'display', 'divmod', 'enumerate', 'eval', 'exec', 'execfile', 'filter', 'float', 'format', 'frozenset', 'get_ipython', 'getattr', 'globals', 'hasattr', 'hash', 'help', 'hex', 'id', 'input', 'int', 'isinstance', 'issubclass', 'iter', 'len', 'license', 'list', 'locals', 'map', 'max', 'memoryview', 'min', 'next', 'object', 'oct', 'open', 'ord', 'pow', 'print', 'property', 'range', 'repr', 'reversed', 'round', 'runfile', 'set', 'setattr', 'slice', 'sorted', 'staticmethod', 'str', 'sum', 'super', 'tuple', 'type', 'vars', 'zip']\n"
     ]
    }
   ],
   "source": [
    "print(dir(__builtins__))"
   ]
  },
  {
   "cell_type": "code",
   "execution_count": 73,
   "id": "533565cd-b7f1-47b7-9b27-0ecbdc8a37b4",
   "metadata": {},
   "outputs": [
    {
     "name": "stdout",
     "output_type": "stream",
     "text": [
      "unsupported operand type(s) for /: 'int' and 'str'\n",
      "Back up code\n",
      "Next function\n"
     ]
    }
   ],
   "source": [
    "a = 10\n",
    "b = 'abc'\n",
    "\n",
    "try:\n",
    "    print(a / b)\n",
    "except Exception as e:\n",
    "    print(e)\n",
    "    print('Back up code')\n",
    "    \n",
    "    \n",
    "print('Next function')"
   ]
  },
  {
   "cell_type": "code",
   "execution_count": 3,
   "id": "e8b1debe-2727-4c63-92ba-8350f390486d",
   "metadata": {},
   "outputs": [
    {
     "name": "stdout",
     "output_type": "stream",
     "text": [
      "name 'c' is not defined\n",
      "common Back up code\n",
      "Next function\n"
     ]
    }
   ],
   "source": [
    "a = 10\n",
    "b = 'abc'\n",
    "\n",
    "try:\n",
    "    print(a / c)\n",
    "    \n",
    "except ZeroDivisionError as e:\n",
    "    print(e)\n",
    "    print('Back up code ZeroDivisionError')\n",
    "    \n",
    "except TypeError as e:\n",
    "    print(e)\n",
    "    print('Back up code TypeError')\n",
    "    \n",
    "except Exception as e:\n",
    "    print(e)\n",
    "    print('common Back up code')\n",
    "    \n",
    "    \n",
    "print('Next function')"
   ]
  },
  {
   "cell_type": "code",
   "execution_count": 1,
   "id": "fec6fe37-9439-4046-ad4b-bba6568ad170",
   "metadata": {},
   "outputs": [
    {
     "ename": "NameError",
     "evalue": "name 'c' is not defined",
     "output_type": "error",
     "traceback": [
      "\u001b[1;31m---------------------------------------------------------------------------\u001b[0m",
      "\u001b[1;31mNameError\u001b[0m                                 Traceback (most recent call last)",
      "Cell \u001b[1;32mIn[1], line 1\u001b[0m\n\u001b[1;32m----> 1\u001b[0m c\n",
      "\u001b[1;31mNameError\u001b[0m: name 'c' is not defined"
     ]
    }
   ],
   "source": [
    "c"
   ]
  },
  {
   "cell_type": "code",
   "execution_count": 5,
   "id": "7e6bc1dd-65f7-47f5-b711-149bdddc555d",
   "metadata": {},
   "outputs": [
    {
     "name": "stdout",
     "output_type": "stream",
     "text": [
      "[Errno 2] No such file or directory: 'file_handling\\\\my_file.txt'\n",
      "common Back up code\n",
      "Next function\n"
     ]
    }
   ],
   "source": [
    "a = 10\n",
    "b = 'abc'\n",
    "\n",
    "try:\n",
    "    open('file_handling\\my_file.txt' , 'r')\n",
    "    \n",
    "except ZeroDivisionError as e:\n",
    "    print(e)\n",
    "    print('Back up code ZeroDivisionError')\n",
    "    \n",
    "except TypeError as e:\n",
    "    print(e)\n",
    "    print('Back up code TypeError')\n",
    "    \n",
    "except Exception as e:\n",
    "    print(e)\n",
    "    print('common Back up code')\n",
    "    \n",
    "    \n",
    "print('Next function')"
   ]
  },
  {
   "cell_type": "markdown",
   "id": "36bcbb95-7b02-471e-8f69-55a160c22267",
   "metadata": {},
   "source": [
    "# raise"
   ]
  },
  {
   "cell_type": "code",
   "execution_count": 8,
   "id": "f0d495c7-feb9-4d3c-abf8-ca32f67b2705",
   "metadata": {},
   "outputs": [
    {
     "name": "stdout",
     "output_type": "stream",
     "text": [
      "10\n"
     ]
    },
    {
     "ename": "TypeError",
     "evalue": "",
     "output_type": "error",
     "traceback": [
      "\u001b[1;31m---------------------------------------------------------------------------\u001b[0m",
      "\u001b[1;31mTypeError\u001b[0m                                 Traceback (most recent call last)",
      "Cell \u001b[1;32mIn[8], line 5\u001b[0m\n\u001b[0;32m      2\u001b[0m b \u001b[38;5;241m=\u001b[39m \u001b[38;5;241m20\u001b[39m\n\u001b[0;32m      4\u001b[0m \u001b[38;5;28mprint\u001b[39m(a)\n\u001b[1;32m----> 5\u001b[0m \u001b[38;5;28;01mraise\u001b[39;00m \u001b[38;5;167;01mTypeError\u001b[39;00m\n\u001b[0;32m      6\u001b[0m \u001b[38;5;28mprint\u001b[39m(b)\n",
      "\u001b[1;31mTypeError\u001b[0m: "
     ]
    }
   ],
   "source": [
    "a = 10\n",
    "b = 20\n",
    "\n",
    "print(a)\n",
    "raise TypeError\n",
    "print(b)"
   ]
  },
  {
   "cell_type": "code",
   "execution_count": 12,
   "id": "2493f888-d89d-4abe-8b3e-a1de61091139",
   "metadata": {},
   "outputs": [
    {
     "name": "stdout",
     "output_type": "stream",
     "text": [
      "10\n"
     ]
    },
    {
     "ename": "TypeError",
     "evalue": "Custom message",
     "output_type": "error",
     "traceback": [
      "\u001b[1;31m---------------------------------------------------------------------------\u001b[0m",
      "\u001b[1;31mTypeError\u001b[0m                                 Traceback (most recent call last)",
      "Cell \u001b[1;32mIn[12], line 5\u001b[0m\n\u001b[0;32m      2\u001b[0m b \u001b[38;5;241m=\u001b[39m \u001b[38;5;241m20\u001b[39m\n\u001b[0;32m      4\u001b[0m \u001b[38;5;28mprint\u001b[39m(a)\n\u001b[1;32m----> 5\u001b[0m \u001b[38;5;28;01mraise\u001b[39;00m \u001b[38;5;167;01mTypeError\u001b[39;00m(\u001b[38;5;124m'\u001b[39m\u001b[38;5;124mCustom message\u001b[39m\u001b[38;5;124m'\u001b[39m)\n\u001b[0;32m      6\u001b[0m \u001b[38;5;28mprint\u001b[39m(b)\n",
      "\u001b[1;31mTypeError\u001b[0m: Custom message"
     ]
    }
   ],
   "source": [
    "a = 10\n",
    "b = 20\n",
    "\n",
    "print(a)\n",
    "raise TypeError('Custom message')\n",
    "print(b)"
   ]
  },
  {
   "cell_type": "code",
   "execution_count": 9,
   "id": "4e482ee9-d4b0-4ed5-b4bd-0d4b8a377dc4",
   "metadata": {},
   "outputs": [
    {
     "ename": "TypeError",
     "evalue": "unsupported operand type(s) for /: 'int' and 'str'",
     "output_type": "error",
     "traceback": [
      "\u001b[1;31m---------------------------------------------------------------------------\u001b[0m",
      "\u001b[1;31mTypeError\u001b[0m                                 Traceback (most recent call last)",
      "Cell \u001b[1;32mIn[9], line 1\u001b[0m\n\u001b[1;32m----> 1\u001b[0m \u001b[38;5;241m34\u001b[39m \u001b[38;5;241m/\u001b[39m \u001b[38;5;124m'\u001b[39m\u001b[38;5;124mabc\u001b[39m\u001b[38;5;124m'\u001b[39m\n",
      "\u001b[1;31mTypeError\u001b[0m: unsupported operand type(s) for /: 'int' and 'str'"
     ]
    }
   ],
   "source": [
    "34 / 'abc'"
   ]
  },
  {
   "cell_type": "code",
   "execution_count": 14,
   "id": "f75eca1e-8890-4377-8d73-dd6a49c720ae",
   "metadata": {},
   "outputs": [
    {
     "ename": "TypeError",
     "evalue": "must be real number, not str",
     "output_type": "error",
     "traceback": [
      "\u001b[1;31m---------------------------------------------------------------------------\u001b[0m",
      "\u001b[1;31mTypeError\u001b[0m                                 Traceback (most recent call last)",
      "Cell \u001b[1;32mIn[14], line 3\u001b[0m\n\u001b[0;32m      1\u001b[0m \u001b[38;5;28;01mimport\u001b[39;00m \u001b[38;5;21;01mmath\u001b[39;00m\n\u001b[1;32m----> 3\u001b[0m math\u001b[38;5;241m.\u001b[39msqrt(\u001b[38;5;124m'\u001b[39m\u001b[38;5;124m9\u001b[39m\u001b[38;5;124m'\u001b[39m)\n",
      "\u001b[1;31mTypeError\u001b[0m: must be real number, not str"
     ]
    }
   ],
   "source": [
    "import math\n",
    "\n",
    "math.sqrt('9')"
   ]
  },
  {
   "cell_type": "code",
   "execution_count": 24,
   "id": "7fa3f61b-e88f-4baa-8776-29a31bf7bc99",
   "metadata": {},
   "outputs": [],
   "source": [
    "def adder(a,b):\n",
    "    if type(a) not in (int , float):\n",
    "        raise ZeroDivisionError ('Only numbers you can pass')\n",
    "    return a+b"
   ]
  },
  {
   "cell_type": "code",
   "execution_count": 25,
   "id": "66507f44-25f0-4c31-b815-7202d7703af0",
   "metadata": {},
   "outputs": [
    {
     "data": {
      "text/plain": [
       "30"
      ]
     },
     "execution_count": 25,
     "metadata": {},
     "output_type": "execute_result"
    }
   ],
   "source": [
    "adder(10 , 20)"
   ]
  },
  {
   "cell_type": "code",
   "execution_count": 26,
   "id": "f86e9a4d-1ae5-413a-a484-1b3744e07e38",
   "metadata": {},
   "outputs": [
    {
     "ename": "ZeroDivisionError",
     "evalue": "Only numbers you can pass",
     "output_type": "error",
     "traceback": [
      "\u001b[1;31m---------------------------------------------------------------------------\u001b[0m",
      "\u001b[1;31mZeroDivisionError\u001b[0m                         Traceback (most recent call last)",
      "Cell \u001b[1;32mIn[26], line 1\u001b[0m\n\u001b[1;32m----> 1\u001b[0m adder(\u001b[38;5;124m'\u001b[39m\u001b[38;5;124m10\u001b[39m\u001b[38;5;124m'\u001b[39m , \u001b[38;5;124m'\u001b[39m\u001b[38;5;124m20\u001b[39m\u001b[38;5;124m'\u001b[39m)\n",
      "Cell \u001b[1;32mIn[24], line 3\u001b[0m, in \u001b[0;36madder\u001b[1;34m(a, b)\u001b[0m\n\u001b[0;32m      1\u001b[0m \u001b[38;5;28;01mdef\u001b[39;00m \u001b[38;5;21madder\u001b[39m(a,b):\n\u001b[0;32m      2\u001b[0m     \u001b[38;5;28;01mif\u001b[39;00m \u001b[38;5;28mtype\u001b[39m(a) \u001b[38;5;129;01mnot\u001b[39;00m \u001b[38;5;129;01min\u001b[39;00m (\u001b[38;5;28mint\u001b[39m , \u001b[38;5;28mfloat\u001b[39m):\n\u001b[1;32m----> 3\u001b[0m         \u001b[38;5;28;01mraise\u001b[39;00m \u001b[38;5;167;01mZeroDivisionError\u001b[39;00m (\u001b[38;5;124m'\u001b[39m\u001b[38;5;124mOnly numbers you can pass\u001b[39m\u001b[38;5;124m'\u001b[39m)\n\u001b[0;32m      4\u001b[0m     \u001b[38;5;28;01mreturn\u001b[39;00m a\u001b[38;5;241m+\u001b[39mb\n",
      "\u001b[1;31mZeroDivisionError\u001b[0m: Only numbers you can pass"
     ]
    }
   ],
   "source": [
    "adder('10' , '20')"
   ]
  },
  {
   "cell_type": "code",
   "execution_count": 28,
   "id": "d280cb8e-05f5-413e-8c6c-8a29c752e708",
   "metadata": {},
   "outputs": [
    {
     "name": "stdout",
     "output_type": "stream",
     "text": [
      "back\n"
     ]
    }
   ],
   "source": [
    "try:\n",
    "    adder('10' , '20')\n",
    "except:\n",
    "    print('back')"
   ]
  },
  {
   "cell_type": "code",
   "execution_count": 37,
   "id": "9c8428bd-baca-4838-9294-39d7a662e893",
   "metadata": {},
   "outputs": [],
   "source": [
    "class LearnbayError(Exception):\n",
    "    def __init__(self , msg = None):\n",
    "        self.msg = msg"
   ]
  },
  {
   "cell_type": "code",
   "execution_count": 38,
   "id": "0ac4c132-f66a-4c22-9d24-bc54a5c47654",
   "metadata": {},
   "outputs": [
    {
     "name": "stdout",
     "output_type": "stream",
     "text": [
      "10\n"
     ]
    },
    {
     "ename": "LearnbayError",
     "evalue": "Message",
     "output_type": "error",
     "traceback": [
      "\u001b[1;31m---------------------------------------------------------------------------\u001b[0m",
      "\u001b[1;31mLearnbayError\u001b[0m                             Traceback (most recent call last)",
      "Cell \u001b[1;32mIn[38], line 5\u001b[0m\n\u001b[0;32m      2\u001b[0m b \u001b[38;5;241m=\u001b[39m \u001b[38;5;241m20\u001b[39m\n\u001b[0;32m      4\u001b[0m \u001b[38;5;28mprint\u001b[39m(a)\n\u001b[1;32m----> 5\u001b[0m \u001b[38;5;28;01mraise\u001b[39;00m LearnbayError(\u001b[38;5;124m'\u001b[39m\u001b[38;5;124mMessage\u001b[39m\u001b[38;5;124m'\u001b[39m)\n\u001b[0;32m      6\u001b[0m \u001b[38;5;28mprint\u001b[39m(b)\n",
      "\u001b[1;31mLearnbayError\u001b[0m: Message"
     ]
    }
   ],
   "source": [
    "a = 10\n",
    "b = 20\n",
    "\n",
    "print(a)\n",
    "raise LearnbayError('Message')\n",
    "print(b)"
   ]
  },
  {
   "cell_type": "code",
   "execution_count": 39,
   "id": "9ecc0a87-911d-42bb-964c-072f7275f9fa",
   "metadata": {},
   "outputs": [
    {
     "name": "stdout",
     "output_type": "stream",
     "text": [
      "10\n"
     ]
    },
    {
     "ename": "LearnbayError",
     "evalue": "",
     "output_type": "error",
     "traceback": [
      "\u001b[1;31m---------------------------------------------------------------------------\u001b[0m",
      "\u001b[1;31mLearnbayError\u001b[0m                             Traceback (most recent call last)",
      "Cell \u001b[1;32mIn[39], line 5\u001b[0m\n\u001b[0;32m      2\u001b[0m b \u001b[38;5;241m=\u001b[39m \u001b[38;5;241m20\u001b[39m\n\u001b[0;32m      4\u001b[0m \u001b[38;5;28mprint\u001b[39m(a)\n\u001b[1;32m----> 5\u001b[0m \u001b[38;5;28;01mraise\u001b[39;00m LearnbayError\n\u001b[0;32m      6\u001b[0m \u001b[38;5;28mprint\u001b[39m(b)\n",
      "\u001b[1;31mLearnbayError\u001b[0m: "
     ]
    }
   ],
   "source": [
    "a = 10\n",
    "b = 20\n",
    "\n",
    "print(a)\n",
    "raise LearnbayError\n",
    "print(b)"
   ]
  },
  {
   "cell_type": "code",
   "execution_count": 40,
   "id": "ad2be540-ce19-45b1-a908-45d784409fa0",
   "metadata": {},
   "outputs": [
    {
     "ename": "ZeroDivisionError",
     "evalue": "division by zero",
     "output_type": "error",
     "traceback": [
      "\u001b[1;31m---------------------------------------------------------------------------\u001b[0m",
      "\u001b[1;31mZeroDivisionError\u001b[0m                         Traceback (most recent call last)",
      "Cell \u001b[1;32mIn[40], line 1\u001b[0m\n\u001b[1;32m----> 1\u001b[0m \u001b[38;5;241m3\u001b[39m\u001b[38;5;241m/\u001b[39m\u001b[38;5;241m0\u001b[39m\n",
      "\u001b[1;31mZeroDivisionError\u001b[0m: division by zero"
     ]
    }
   ],
   "source": [
    "3/0"
   ]
  },
  {
   "cell_type": "code",
   "execution_count": 41,
   "id": "5f194573-6768-4ef4-ab65-94559fcd6284",
   "metadata": {},
   "outputs": [
    {
     "ename": "ZeroDivisionError",
     "evalue": "",
     "output_type": "error",
     "traceback": [
      "\u001b[1;31m---------------------------------------------------------------------------\u001b[0m",
      "\u001b[1;31mZeroDivisionError\u001b[0m                         Traceback (most recent call last)",
      "Cell \u001b[1;32mIn[41], line 1\u001b[0m\n\u001b[1;32m----> 1\u001b[0m \u001b[38;5;28;01mraise\u001b[39;00m \u001b[38;5;167;01mZeroDivisionError\u001b[39;00m\n",
      "\u001b[1;31mZeroDivisionError\u001b[0m: "
     ]
    }
   ],
   "source": [
    "raise ZeroDivisionError"
   ]
  },
  {
   "cell_type": "code",
   "execution_count": 42,
   "id": "2c53c525-c3c1-488e-9350-69483dd795f3",
   "metadata": {},
   "outputs": [],
   "source": [
    "user_name = 'xyz@gmail.com'\n",
    "passwrd = 'python'"
   ]
  },
  {
   "cell_type": "code",
   "execution_count": 44,
   "id": "a99448f4-7349-4922-9f5b-808cb61985c9",
   "metadata": {},
   "outputs": [
    {
     "name": "stdin",
     "output_type": "stream",
     "text": [
      "Enter the mail :  lksd\n",
      "Enter the pass :  sd\n"
     ]
    },
    {
     "name": "stdout",
     "output_type": "stream",
     "text": [
      "Wrong user\n"
     ]
    }
   ],
   "source": [
    "a = input('Enter the mail : ')\n",
    "b = input('Enter the pass : ')\n",
    "try:\n",
    "    if (a == user_name) and (b ==passwrd ):\n",
    "        print('Logged in')\n",
    "    else:\n",
    "        raise LearnbayError('Wrong user')\n",
    "except Exception as e:\n",
    "    print(e)"
   ]
  },
  {
   "cell_type": "code",
   "execution_count": 45,
   "id": "dead79b4-5b02-458b-ade1-aa813c13433b",
   "metadata": {},
   "outputs": [
    {
     "name": "stdin",
     "output_type": "stream",
     "text": [
      "Enter the mail :  dfg\n",
      "Enter the pass :  sdf\n"
     ]
    },
    {
     "name": "stdout",
     "output_type": "stream",
     "text": [
      "Wrong user\n"
     ]
    },
    {
     "name": "stdin",
     "output_type": "stream",
     "text": [
      "Enter the mail :  xyz@gmail.com\n",
      "Enter the pass :  python\n"
     ]
    },
    {
     "name": "stdout",
     "output_type": "stream",
     "text": [
      "Logged in\n"
     ]
    }
   ],
   "source": [
    "while True:\n",
    "    a = input('Enter the mail : ')\n",
    "    b = input('Enter the pass : ')\n",
    "    try:\n",
    "        if (a == user_name) and (b ==passwrd ):\n",
    "            print('Logged in')\n",
    "            break\n",
    "        else:\n",
    "            raise LearnbayError('Wrong user')\n",
    "    except Exception as e:\n",
    "        print(e)"
   ]
  },
  {
   "cell_type": "code",
   "execution_count": null,
   "id": "8e5f0a99-e447-44c5-98bb-cbd8a997b9c3",
   "metadata": {},
   "outputs": [],
   "source": []
  }
 ],
 "metadata": {
  "kernelspec": {
   "display_name": "Python 3 (ipykernel)",
   "language": "python",
   "name": "python3"
  },
  "language_info": {
   "codemirror_mode": {
    "name": "ipython",
    "version": 3
   },
   "file_extension": ".py",
   "mimetype": "text/x-python",
   "name": "python",
   "nbconvert_exporter": "python",
   "pygments_lexer": "ipython3",
   "version": "3.11.7"
  }
 },
 "nbformat": 4,
 "nbformat_minor": 5
}
