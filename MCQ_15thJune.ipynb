{
 "cells": [
  {
   "cell_type": "code",
   "execution_count": null,
   "id": "6455dade",
   "metadata": {},
   "outputs": [],
   "source": [
    "x = ['ab', 'cd']\n",
    "for i in x:\n",
    "    i.upper()\n",
    "print(x)\n",
    "#upper() method for strings in Python does not modify the string in place; instead, it returns\n",
    "#a new string with all characters converted to uppercase.\n",
    "\n",
    "#The function upper() does not modify a string in place, \n",
    "#it returns a new string which isn’t being stored anywhere."
   ]
  },
  {
   "cell_type": "code",
   "execution_count": 2,
   "id": "a437f37f",
   "metadata": {},
   "outputs": [
    {
     "name": "stdout",
     "output_type": "stream",
     "text": [
      "['AB', 'CD']\n"
     ]
    }
   ],
   "source": [
    "x = ['ab', 'cd']\n",
    "x = [i.upper() for i in x]\n",
    "print(x)"
   ]
  },
  {
   "cell_type": "code",
   "execution_count": 3,
   "id": "d9f75ecc",
   "metadata": {},
   "outputs": [
    {
     "name": "stdout",
     "output_type": "stream",
     "text": [
      "['AB', 'CD']\n"
     ]
    }
   ],
   "source": [
    "x = ['ab', 'cd']\n",
    "for index in range(len(x)):\n",
    "    x[index] = x[index].upper()\n",
    "print(x)\n"
   ]
  },
  {
   "cell_type": "code",
   "execution_count": null,
   "id": "f2560910",
   "metadata": {},
   "outputs": [],
   "source": [
    "x = ['ab', 'cd']\n",
    "for i in x:\n",
    "    x.append(i.upper())\n",
    "print(x)\n",
    "#he loop does not terminate as new elements are being added to the list in each iteration."
   ]
  },
  {
   "cell_type": "code",
   "execution_count": 4,
   "id": "c009a0c4",
   "metadata": {},
   "outputs": [
    {
     "name": "stdout",
     "output_type": "stream",
     "text": [
      "['ab', 'cd', 'AB', 'CD']\n"
     ]
    }
   ],
   "source": [
    "x = ['ab', 'cd']\n",
    "x.extend([i.upper() for i in x])\n",
    "print(x)"
   ]
  },
  {
   "cell_type": "code",
   "execution_count": 5,
   "id": "4abef939",
   "metadata": {},
   "outputs": [
    {
     "name": "stdout",
     "output_type": "stream",
     "text": [
      "1\n",
      "2\n",
      "3\n",
      "4\n",
      "5\n",
      "6\n"
     ]
    }
   ],
   "source": [
    "i = 1\n",
    "while True:\n",
    "    if i%0O7 == 0:\n",
    "        break\n",
    "    print(i)\n",
    "    i+= 1"
   ]
  },
  {
   "cell_type": "code",
   "execution_count": 6,
   "id": "0d96d33a",
   "metadata": {},
   "outputs": [
    {
     "name": "stdout",
     "output_type": "stream",
     "text": [
      "5\n",
      "6\n",
      "7\n",
      "8\n"
     ]
    }
   ],
   "source": [
    "i = 5\n",
    "while True:\n",
    "    if i%0O11 == 0:\n",
    "        break\n",
    "    print(i)\n",
    "    i+= 1\n",
    "#0O11 is an octal number"
   ]
  },
  {
   "cell_type": "code",
   "execution_count": 7,
   "id": "7f108c4f",
   "metadata": {},
   "outputs": [
    {
     "name": "stdout",
     "output_type": "stream",
     "text": [
      "2\n",
      "4\n"
     ]
    }
   ],
   "source": [
    "i = 2\n",
    "while True:\n",
    "    if i%3 == 0: # r2 --0  no\n",
    "        break\n",
    "    print(i)\n",
    "    i+= 2"
   ]
  },
  {
   "cell_type": "code",
   "execution_count": 9,
   "id": "d3b1fbc0",
   "metadata": {},
   "outputs": [],
   "source": [
    "i = 1\n",
    "while False:\n",
    "    if i%2 == 0: # 1%2 not zero\n",
    "        break\n",
    "    print(i)\n",
    "    i += 2\n",
    "#Control does not enter the loop because of False."
   ]
  },
  {
   "cell_type": "code",
   "execution_count": 10,
   "id": "ccf6a34e",
   "metadata": {},
   "outputs": [
    {
     "ename": "SyntaxError",
     "evalue": "cannot assign to True (2296477622.py, line 1)",
     "output_type": "error",
     "traceback": [
      "\u001b[1;36m  Cell \u001b[1;32mIn[10], line 1\u001b[1;36m\u001b[0m\n\u001b[1;33m    True = False\u001b[0m\n\u001b[1;37m    ^\u001b[0m\n\u001b[1;31mSyntaxError\u001b[0m\u001b[1;31m:\u001b[0m cannot assign to True\n"
     ]
    }
   ],
   "source": [
    "True = False\n",
    "while True:\n",
    "    print(True)\n",
    "    break\n",
    "#SyntaxError, True is a keyword and it’s value cannot be changed."
   ]
  },
  {
   "cell_type": "code",
   "execution_count": 20,
   "id": "16f2d7db",
   "metadata": {},
   "outputs": [
    {
     "ename": "TypeError",
     "evalue": "'in <string>' requires string as left operand, not int",
     "output_type": "error",
     "traceback": [
      "\u001b[1;31m---------------------------------------------------------------------------\u001b[0m",
      "\u001b[1;31mTypeError\u001b[0m                                 Traceback (most recent call last)",
      "Cell \u001b[1;32mIn[20], line 3\u001b[0m\n\u001b[0;32m      1\u001b[0m x \u001b[38;5;241m=\u001b[39m \u001b[38;5;124m\"\u001b[39m\u001b[38;5;124mabcdef\u001b[39m\u001b[38;5;124m\"\u001b[39m\n\u001b[0;32m      2\u001b[0m i\u001b[38;5;241m=\u001b[39m\u001b[38;5;241m0\u001b[39m;\n\u001b[1;32m----> 3\u001b[0m \u001b[38;5;28;01mwhile\u001b[39;00m \u001b[43mi\u001b[49m\u001b[43m \u001b[49m\u001b[38;5;129;43;01min\u001b[39;49;00m\u001b[43m \u001b[49m\u001b[43mx\u001b[49m:\n\u001b[0;32m      4\u001b[0m     \u001b[38;5;66;03m#print(i, end=\" \")\u001b[39;00m\n\u001b[0;32m      5\u001b[0m     \u001b[38;5;28mprint\u001b[39m(i)\n",
      "\u001b[1;31mTypeError\u001b[0m: 'in <string>' requires string as left operand, not int"
     ]
    }
   ],
   "source": [
    "x = \"abcdef\"\n",
    "while i in x:\n",
    "    #print(i, end=\" \")\n",
    "    print(i)"
   ]
  },
  {
   "cell_type": "code",
   "execution_count": 21,
   "id": "4f2d3001",
   "metadata": {},
   "outputs": [
    {
     "name": "stdout",
     "output_type": "stream",
     "text": [
      "33\n"
     ]
    }
   ],
   "source": [
    "numberGames = {}\n",
    "numberGames[(1,2,4)] = 8\n",
    "numberGames[(4,2,1)] = 10\n",
    "numberGames[(1,2)] = 12\n",
    "sum = 0\n",
    "for k in numberGames:\n",
    "    sum += numberGames[k]\n",
    "print(len(numberGames) + sum)\n",
    "\n",
    "#Adds a key (1,2,4) with the value 8 to the dictionary"
   ]
  },
  {
   "cell_type": "code",
   "execution_count": 24,
   "id": "e8f892e1",
   "metadata": {},
   "outputs": [
    {
     "name": "stdout",
     "output_type": "stream",
     "text": [
      "CheckCheckCheck\n"
     ]
    },
    {
     "data": {
      "text/plain": [
       "str"
      ]
     },
     "execution_count": 24,
     "metadata": {},
     "output_type": "execute_result"
    }
   ],
   "source": [
    "a=(\"Check\")*3\n",
    "print(a)\n",
    "type(a)"
   ]
  },
  {
   "cell_type": "code",
   "execution_count": 25,
   "id": "d2853671",
   "metadata": {},
   "outputs": [
    {
     "name": "stdout",
     "output_type": "stream",
     "text": [
      "('Check', 'Check', 'Check')\n"
     ]
    },
    {
     "data": {
      "text/plain": [
       "tuple"
      ]
     },
     "execution_count": 25,
     "metadata": {},
     "output_type": "execute_result"
    }
   ],
   "source": [
    "a=(\"Check\",)*3\n",
    "print(a)\n",
    "type(a)"
   ]
  },
  {
   "cell_type": "code",
   "execution_count": 37,
   "id": "893edff6",
   "metadata": {},
   "outputs": [
    {
     "ename": "TypeError",
     "evalue": "'int' object is not callable",
     "output_type": "error",
     "traceback": [
      "\u001b[1;31m---------------------------------------------------------------------------\u001b[0m",
      "\u001b[1;31mTypeError\u001b[0m                                 Traceback (most recent call last)",
      "Cell \u001b[1;32mIn[37], line 4\u001b[0m\n\u001b[0;32m      2\u001b[0m     \u001b[38;5;28;01mreturn\u001b[39;00m \u001b[38;5;28msum\u001b[39m(i \u001b[38;5;241m+\u001b[39m num \u001b[38;5;28;01mfor\u001b[39;00m i \u001b[38;5;129;01min\u001b[39;00m tup)\n\u001b[0;32m      3\u001b[0m a \u001b[38;5;241m=\u001b[39m (\u001b[38;5;241m2\u001b[39m, \u001b[38;5;241m3\u001b[39m, \u001b[38;5;241m4\u001b[39m)\n\u001b[1;32m----> 4\u001b[0m result \u001b[38;5;241m=\u001b[39m \u001b[43msum1\u001b[49m\u001b[43m(\u001b[49m\u001b[43ma\u001b[49m\u001b[43m,\u001b[49m\u001b[43m \u001b[49m\u001b[38;5;241;43m3\u001b[39;49m\u001b[43m)\u001b[49m\n\u001b[0;32m      5\u001b[0m \u001b[38;5;28mprint\u001b[39m(result)\n",
      "Cell \u001b[1;32mIn[37], line 2\u001b[0m, in \u001b[0;36msum1\u001b[1;34m(tup, num)\u001b[0m\n\u001b[0;32m      1\u001b[0m \u001b[38;5;28;01mdef\u001b[39;00m \u001b[38;5;21msum1\u001b[39m(tup, num):\n\u001b[1;32m----> 2\u001b[0m     \u001b[38;5;28;01mreturn\u001b[39;00m \u001b[38;5;28;43msum\u001b[39;49m\u001b[43m(\u001b[49m\u001b[43mi\u001b[49m\u001b[43m \u001b[49m\u001b[38;5;241;43m+\u001b[39;49m\u001b[43m \u001b[49m\u001b[43mnum\u001b[49m\u001b[43m \u001b[49m\u001b[38;5;28;43;01mfor\u001b[39;49;00m\u001b[43m \u001b[49m\u001b[43mi\u001b[49m\u001b[43m \u001b[49m\u001b[38;5;129;43;01min\u001b[39;49;00m\u001b[43m \u001b[49m\u001b[43mtup\u001b[49m\u001b[43m)\u001b[49m\n",
      "\u001b[1;31mTypeError\u001b[0m: 'int' object is not callable"
     ]
    }
   ],
   "source": [
    "#doubt 18\n",
    "def sum1(tup, num):\n",
    "    return sum(i + num for i in tup)\n",
    "a = (2, 3, 4)\n",
    "result = sum1(a, 3)\n",
    "print(result)"
   ]
  },
  {
   "cell_type": "code",
   "execution_count": 42,
   "id": "b1a4958f",
   "metadata": {},
   "outputs": [
    {
     "name": "stdout",
     "output_type": "stream",
     "text": [
      "(0, 1)\n",
      "(0, 1, 2, 3, 4)\n"
     ]
    }
   ],
   "source": [
    "a=(0,1,2,3,4)\n",
    "b=slice(0,2)\n",
    "print(a[b])\n",
    "print(a)"
   ]
  },
  {
   "cell_type": "code",
   "execution_count": 45,
   "id": "96f280de",
   "metadata": {},
   "outputs": [
    {
     "name": "stdout",
     "output_type": "stream",
     "text": [
      "(0, 1)\n",
      "(0, 1, 2, 3, 4)\n"
     ]
    }
   ],
   "source": [
    "a=(0,1,2,3,4)\n",
    "print(a[0:2])\n",
    "print(a)"
   ]
  },
  {
   "cell_type": "code",
   "execution_count": 44,
   "id": "deeb1660",
   "metadata": {},
   "outputs": [
    {
     "name": "stdout",
     "output_type": "stream",
     "text": [
      "(0, 1)\n",
      "(0, 1, 2, 3, 4)\n"
     ]
    }
   ],
   "source": [
    "a=(0,1,2,3,4)\n",
    "print(a[slice(0,2)])\n",
    "print(a)"
   ]
  },
  {
   "cell_type": "code",
   "execution_count": 52,
   "id": "ab7c922e",
   "metadata": {},
   "outputs": [
    {
     "name": "stdout",
     "output_type": "stream",
     "text": [
      "[1, 3]\n"
     ]
    }
   ],
   "source": [
    "my_slice = slice(1, 5, 2)  # start at 1, end before 5, step by 2\n",
    "data = [0, 1, 2, 3, 4, 5, 6, 7, 8, 9]\n",
    "sliced_data = data[my_slice]\n",
    "print(sliced_data)"
   ]
  },
  {
   "cell_type": "code",
   "execution_count": 54,
   "id": "a47092af",
   "metadata": {},
   "outputs": [
    {
     "data": {
      "text/plain": [
       "[1, 3]"
      ]
     },
     "execution_count": 54,
     "metadata": {},
     "output_type": "execute_result"
    }
   ],
   "source": [
    "data = [0, 1, 2, 3, 4, 5, 6, 7, 8, 9]\n",
    "data[1:5:2]"
   ]
  },
  {
   "cell_type": "code",
   "execution_count": 57,
   "id": "254e19f3",
   "metadata": {},
   "outputs": [
    {
     "data": {
      "text/plain": [
       "[12, 13, 14, 15, 16, 17, 18, 19]"
      ]
     },
     "execution_count": 57,
     "metadata": {},
     "output_type": "execute_result"
    }
   ],
   "source": [
    "a=2\n",
    "data = [0, 11, 12, 13, 14, 15, 16, 17,18,19]\n",
    "data[a:14:1]"
   ]
  },
  {
   "cell_type": "code",
   "execution_count": 60,
   "id": "eb0f7d57",
   "metadata": {},
   "outputs": [
    {
     "data": {
      "text/plain": [
       "[11, 13]"
      ]
     },
     "execution_count": 60,
     "metadata": {},
     "output_type": "execute_result"
    }
   ],
   "source": [
    "data = [0, 11, 12, 13, 14, 15, 16, 17,18,19]\n",
    "data[1:5:2]"
   ]
  },
  {
   "cell_type": "code",
   "execution_count": 51,
   "id": "ff25fd17",
   "metadata": {},
   "outputs": [
    {
     "name": "stdout",
     "output_type": "stream",
     "text": [
      "[3, 4, 5, 6]\n"
     ]
    }
   ],
   "source": [
    "def get_slice(data, slice_obj):\n",
    "    return data[slice_obj]\n",
    "\n",
    "my_slice = slice(3, 7)\n",
    "data = [0, 1, 2, 3, 4, 5, 6, 7, 8, 9]\n",
    "result = get_slice(data, my_slice)  # [3, 4, 5, 6]\n",
    "print(result)"
   ]
  },
  {
   "cell_type": "code",
   "execution_count": 62,
   "id": "a0bdef00",
   "metadata": {},
   "outputs": [
    {
     "name": "stdout",
     "output_type": "stream",
     "text": [
      "((1, 'A'), (2, 'B'), (3, 'C'))\n"
     ]
    }
   ],
   "source": [
    "a=(1,2,3)\n",
    "b=('A','B','C')\n",
    "c=tuple(zip(a,b))\n",
    "print(c)"
   ]
  },
  {
   "cell_type": "code",
   "execution_count": 63,
   "id": "c1a0ea78",
   "metadata": {},
   "outputs": [
    {
     "name": "stdout",
     "output_type": "stream",
     "text": [
      "(('check',),)\n",
      "((('check',),),)\n"
     ]
    }
   ],
   "source": [
    "a = ('check',)\n",
    "n = 2\n",
    "for i in range(int(n)):\n",
    "    a = (a,)\n",
    "    print(a)\n",
    "#The loop runs two times and each time the loop runs an extra parenthesis\n",
    "#along with a comma is added to the tuple (as a=(a’))."
   ]
  },
  {
   "cell_type": "code",
   "execution_count": 64,
   "id": "b53ac0fa",
   "metadata": {},
   "outputs": [
    {
     "data": {
      "text/plain": [
       "a(i=4, j=7)"
      ]
     },
     "execution_count": 64,
     "metadata": {},
     "output_type": "execute_result"
    }
   ],
   "source": [
    "import collections\n",
    "a=collections.namedtuple('a',['i','j'])\n",
    "obj= a(i=4,j=7)\n",
    "obj\n",
    "'''Named tuples are particularly useful when you need to group related data together\n",
    "and want to avoid using less readable constructs like dictionaries or regular tuples. \n",
    "They provide both positional and named access to their fields.'''"
   ]
  },
  {
   "cell_type": "code",
   "execution_count": 65,
   "id": "3842f3f1",
   "metadata": {},
   "outputs": [
    {
     "name": "stdout",
     "output_type": "stream",
     "text": [
      "Point1: (1, 2)\n",
      "Point2: (3, 4)\n",
      "Point3 (sum of Point1 and Point2): (4, 6)\n"
     ]
    }
   ],
   "source": [
    "import collections\n",
    "# Define the named tuple type 'Point' with fields 'x' and 'y'\n",
    "Point = collections.namedtuple('Point', ['x', 'y'])\n",
    "# Create instances of the named tuple\n",
    "point1 = Point(x=1, y=2)\n",
    "point2 = Point(x=3, y=4)\n",
    "# Print the instances\n",
    "print(f'Point1: ({point1.x}, {point1.y})')\n",
    "print(f'Point2: ({point2.x}, {point2.y})')\n",
    "# Define a function to add two points\n",
    "def add_points(p1, p2):\n",
    "    return Point(x=p1.x + p2.x, y=p1.y + p2.y)\n",
    "# Add the two points\n",
    "point3 = add_points(point1, point2)\n",
    "print(f'Point3 (sum of Point1 and Point2): ({point3.x}, {point3.y})')\n",
    "'''demonstrates the utility of named tuples in creating simple and readable data structures\n",
    "with named fields.'''"
   ]
  },
  {
   "cell_type": "code",
   "execution_count": 67,
   "id": "2e1104de",
   "metadata": {},
   "outputs": [
    {
     "ename": "TypeError",
     "evalue": "not all arguments converted during string formatting",
     "output_type": "error",
     "traceback": [
      "\u001b[1;31m---------------------------------------------------------------------------\u001b[0m",
      "\u001b[1;31mTypeError\u001b[0m                                 Traceback (most recent call last)",
      "Cell \u001b[1;32mIn[67], line 2\u001b[0m\n\u001b[0;32m      1\u001b[0m X\u001b[38;5;241m=\u001b[39m\u001b[38;5;124m\"\u001b[39m\u001b[38;5;124mhi\u001b[39m\u001b[38;5;124m\"\u001b[39m\n\u001b[1;32m----> 2\u001b[0m \u001b[38;5;28mprint\u001b[39m(\u001b[38;5;124;43m\"\u001b[39;49m\u001b[38;5;124;43m05d\u001b[39;49m\u001b[38;5;124;43m\"\u001b[39;49m\u001b[38;5;241;43m%\u001b[39;49m\u001b[43mX\u001b[49m)\n",
      "\u001b[1;31mTypeError\u001b[0m: not all arguments converted during string formatting"
     ]
    }
   ],
   "source": [
    "X=\"hi\"\n",
    "print(\"05d\"%X)\n",
    "'''formatting option works only if ‘X’ is a number. \n",
    "Since in the above case ‘X’ is a string, an error is thrown.'''"
   ]
  },
  {
   "cell_type": "code",
   "execution_count": 70,
   "id": "40428994",
   "metadata": {},
   "outputs": [
    {
     "name": "stdout",
     "output_type": "stream",
     "text": [
      "000hi\n"
     ]
    }
   ],
   "source": [
    "X = \"hi\"\n",
    "formatted_X = X.zfill(5)\n",
    "print(formatted_X)"
   ]
  },
  {
   "cell_type": "code",
   "execution_count": 73,
   "id": "2cb9d40b",
   "metadata": {},
   "outputs": [
    {
     "name": "stdout",
     "output_type": "stream",
     "text": [
      "   hi\n"
     ]
    }
   ],
   "source": [
    "X = \"hi\"\n",
    "formatted_X = \"{:>5}\".format(X)  # Right-align in a field of width 5\n",
    "print(formatted_X)"
   ]
  },
  {
   "cell_type": "code",
   "execution_count": 74,
   "id": "586c18ca",
   "metadata": {},
   "outputs": [
    {
     "name": "stdout",
     "output_type": "stream",
     "text": [
      "hi\n"
     ]
    }
   ],
   "source": [
    "X = \"hi\"\n",
    "formatted_X = \"{:}\".format(X)  # Right-align in a field of width 0\n",
    "print(formatted_X)"
   ]
  },
  {
   "cell_type": "code",
   "execution_count": 75,
   "id": "87d82c16",
   "metadata": {},
   "outputs": [
    {
     "name": "stdout",
     "output_type": "stream",
     "text": [
      "hi\n"
     ]
    }
   ],
   "source": [
    "X = \"hi\"\n",
    "print(X)"
   ]
  },
  {
   "cell_type": "code",
   "execution_count": 103,
   "id": "4b16e343",
   "metadata": {},
   "outputs": [
    {
     "name": "stdout",
     "output_type": "stream",
     "text": [
      "                                             san-foundry\n"
     ]
    },
    {
     "data": {
      "text/plain": [
       "'The formatting option print(“%Ns”,X) helps us add ‘N’ number of spaces before a given string ‘X’. Hence the output for the code snippet shown above will be\\n56 blank spaces before the string “san-foundry”.'"
      ]
     },
     "execution_count": 103,
     "metadata": {},
     "output_type": "execute_result"
    }
   ],
   "source": [
    "X = \"san-foundry\"\n",
    "print('%56s' % X)\n",
    "\n",
    "'''The formatting option print(“%Ns”,X) helps us add ‘N’ number of spaces before a given string ‘X’. Hence the output for the code snippet shown above will be\n",
    "56 blank spaces before the string “san-foundry”.'''"
   ]
  },
  {
   "cell_type": "code",
   "execution_count": 88,
   "id": "4e7b3cae",
   "metadata": {},
   "outputs": [
    {
     "name": "stdout",
     "output_type": "stream",
     "text": [
      "                                             san-foundry\n"
     ]
    }
   ],
   "source": [
    "X = \"san-foundry\"\n",
    "formatted_X = \"{:>56}\".format(X)\n",
    "print(formatted_X)\n"
   ]
  },
  {
   "cell_type": "code",
   "execution_count": 82,
   "id": "ec5a87c7",
   "metadata": {},
   "outputs": [
    {
     "name": "stdout",
     "output_type": "stream",
     "text": [
      "                                             san-foundry\n"
     ]
    }
   ],
   "source": [
    "X = \"san-foundry\"\n",
    "formatted_X = f\"{X:>56}\"\n",
    "print(formatted_X)"
   ]
  },
  {
   "cell_type": "code",
   "execution_count": 93,
   "id": "9b467806",
   "metadata": {},
   "outputs": [
    {
     "name": "stdout",
     "output_type": "stream",
     "text": [
      "000456\n",
      "456   \n"
     ]
    }
   ],
   "source": [
    "x=456\n",
    "print(\"%06d\"%x)\n",
    "print(\"%-06d\"%x)\n",
    "'''It adds the required number of zeroes before the given number\n",
    "in order to make the number of digits 6'''"
   ]
  },
  {
   "cell_type": "code",
   "execution_count": 109,
   "id": "83f6f591",
   "metadata": {},
   "outputs": [
    {
     "name": "stdout",
     "output_type": "stream",
     "text": [
      "    abc\n"
     ]
    }
   ],
   "source": [
    "x=\"abc\"\n",
    "print('%7s' % x)"
   ]
  },
  {
   "cell_type": "code",
   "execution_count": 110,
   "id": "d45815e3",
   "metadata": {},
   "outputs": [
    {
     "name": "stdout",
     "output_type": "stream",
     "text": [
      "abc    \n"
     ]
    }
   ],
   "source": [
    "x=\"abc\"\n",
    "print('%-7s' % x)"
   ]
  },
  {
   "cell_type": "code",
   "execution_count": 111,
   "id": "59dce525",
   "metadata": {},
   "outputs": [
    {
     "name": "stdout",
     "output_type": "stream",
     "text": [
      "--00122\n"
     ]
    }
   ],
   "source": [
    "X = -122\n",
    "print(\"-%06d\" % X)\n",
    "# - sign, 6 width"
   ]
  },
  {
   "cell_type": "code",
   "execution_count": 112,
   "id": "03c8302c",
   "metadata": {},
   "outputs": [
    {
     "name": "stdout",
     "output_type": "stream",
     "text": [
      "34.000000\n"
     ]
    }
   ],
   "source": [
    "x =34\n",
    "print(\"%f\" % x)\n",
    "# 6 decimal points"
   ]
  },
  {
   "cell_type": "code",
   "execution_count": 113,
   "id": "4ef88e71",
   "metadata": {},
   "outputs": [
    {
     "name": "stdout",
     "output_type": "stream",
     "text": [
      "56.24\n"
     ]
    }
   ],
   "source": [
    "x=56.236\n",
    "print(\"%.2f\" % x)"
   ]
  },
  {
   "cell_type": "code",
   "execution_count": 116,
   "id": "7d805add",
   "metadata": {},
   "outputs": [
    {
     "name": "stdout",
     "output_type": "stream",
     "text": [
      "22.19\n"
     ]
    }
   ],
   "source": [
    "x=22.19\n",
    "print(\"%5.2f\"%x)\n",
    "'''this expression specifies that the total number of digits (including the decimal point) should be 5,\n",
    "rounded off to two decimal places.'''"
   ]
  },
  {
   "cell_type": "code",
   "execution_count": 117,
   "id": "2102f3b6",
   "metadata": {},
   "outputs": [
    {
     "name": "stdout",
     "output_type": "stream",
     "text": [
      "-%5d0 989\n"
     ]
    }
   ],
   "source": [
    "#print(\"-%5d0\",989)# wrong\n",
    "print(\"%-06d\"%x)"
   ]
  },
  {
   "cell_type": "code",
   "execution_count": 118,
   "id": "8a633a2c",
   "metadata": {},
   "outputs": [
    {
     "data": {
      "text/plain": [
       "'1 hello 4 you'"
      ]
     },
     "execution_count": 118,
     "metadata": {},
     "output_type": "execute_result"
    }
   ],
   "source": [
    "'%d %s %g you' %(1, 'hello', 4.0)"
   ]
  },
  {
   "cell_type": "code",
   "execution_count": 125,
   "id": "6ac935a9",
   "metadata": {},
   "outputs": [
    {
     "data": {
      "text/plain": [
       "'%g is a flexible format specifier in Python for formatting numbers, choosing between fixed and scientific notation based \\non the magnitude of the number.'"
      ]
     },
     "execution_count": 125,
     "metadata": {},
     "output_type": "execute_result"
    }
   ],
   "source": [
    "'%d %s %g Same To You In Advance' %(17, 'June', 2024.0)\n",
    "\n",
    "'''%g is a flexible format specifier in Python for formatting numbers, choosing between fixed and scientific notation based \n",
    "on the magnitude of the number.'''"
   ]
  },
  {
   "cell_type": "code",
   "execution_count": 126,
   "id": "59c17a28",
   "metadata": {},
   "outputs": [
    {
     "data": {
      "text/plain": [
       "'17 June 2024 Same To You In Advance'"
      ]
     },
     "execution_count": 126,
     "metadata": {},
     "output_type": "execute_result"
    }
   ],
   "source": [
    "'%d %s %g Same To You In Advance' % (17, 'June', 2024.0)"
   ]
  },
  {
   "cell_type": "code",
   "execution_count": 130,
   "id": "859c95e1",
   "metadata": {},
   "outputs": [
    {
     "data": {
      "text/plain": [
       "'There are 4 blue birds.'"
      ]
     },
     "execution_count": 130,
     "metadata": {},
     "output_type": "execute_result"
    }
   ],
   "source": [
    "'There are %d %s birds.' %(4, 'blue')"
   ]
  },
  {
   "cell_type": "code",
   "execution_count": 131,
   "id": "fec5a8bd",
   "metadata": {},
   "outputs": [
    {
     "data": {
      "text/plain": [
       "'integers:...1234...1234  ...001234'"
      ]
     },
     "execution_count": 131,
     "metadata": {},
     "output_type": "execute_result"
    }
   ],
   "source": [
    "x=1234\n",
    "res='integers:...%d...%-6d...%06d' %(x, x, x)\n",
    "res"
   ]
  },
  {
   "cell_type": "code",
   "execution_count": 132,
   "id": "80886b85",
   "metadata": {},
   "outputs": [
    {
     "data": {
      "text/plain": [
       "'3.345679 | 3.345679e+00 | 3.34568'"
      ]
     },
     "execution_count": 132,
     "metadata": {},
     "output_type": "execute_result"
    }
   ],
   "source": [
    "x=3.3456789\n",
    "'%f | %e | %g' %(x, x, x)"
   ]
  },
  {
   "cell_type": "code",
   "execution_count": 133,
   "id": "b309d2c7",
   "metadata": {},
   "outputs": [
    {
     "data": {
      "text/plain": [
       "'3.35   | 03.35 | +003.3'"
      ]
     },
     "execution_count": 133,
     "metadata": {},
     "output_type": "execute_result"
    }
   ],
   "source": [
    "x=3.3456789\n",
    "'%-6.2f | %05.2f | %+06.1f' %(x, x, x)"
   ]
  },
  {
   "cell_type": "code",
   "execution_count": 134,
   "id": "728dc68f",
   "metadata": {},
   "outputs": [
    {
     "data": {
      "text/plain": [
       "('3.3456789', '3.3456789')"
      ]
     },
     "execution_count": 134,
     "metadata": {},
     "output_type": "execute_result"
    }
   ],
   "source": [
    "x=3.3456789\n",
    "'%s' %x, str(x)"
   ]
  },
  {
   "cell_type": "code",
   "execution_count": 135,
   "id": "18488080",
   "metadata": {},
   "outputs": [
    {
     "data": {
      "text/plain": [
       "'1 more spam'"
      ]
     },
     "execution_count": 135,
     "metadata": {},
     "output_type": "execute_result"
    }
   ],
   "source": [
    "'%(qty)d more %(food)s' %{'qty':1, 'food': 'spam'}"
   ]
  },
  {
   "cell_type": "code",
   "execution_count": 138,
   "id": "e41e235c",
   "metadata": {},
   "outputs": [
    {
     "data": {
      "text/plain": [
       "'1 and 2'"
      ]
     },
     "execution_count": 138,
     "metadata": {},
     "output_type": "execute_result"
    }
   ],
   "source": [
    "'%(a)d and %(b)d' %{'a':1, 'b': 2}"
   ]
  },
  {
   "cell_type": "code",
   "execution_count": 141,
   "id": "e1afdaf3",
   "metadata": {},
   "outputs": [
    {
     "data": {
      "text/plain": [
       "'1 and RAM'"
      ]
     },
     "execution_count": 141,
     "metadata": {},
     "output_type": "execute_result"
    }
   ],
   "source": [
    "'%(a)d and %(b)s' %{'a':1, 'b': 'RAM'}"
   ]
  },
  {
   "cell_type": "code",
   "execution_count": 143,
   "id": "f9df055e",
   "metadata": {},
   "outputs": [],
   "source": [
    "a='hello'\n",
    "q=10\n",
    "#vars()\n",
    "'''function vars() returns a dictionary containing all the variables that exist in the place'''"
   ]
  },
  {
   "cell_type": "code",
   "execution_count": 144,
   "id": "29149dcd",
   "metadata": {},
   "outputs": [
    {
     "data": {
      "text/plain": [
       "'hello, good, and morning'"
      ]
     },
     "execution_count": 144,
     "metadata": {},
     "output_type": "execute_result"
    }
   ],
   "source": [
    "s='{0}, {1}, and {2}'\n",
    "s.format('hello', 'good', 'morning')"
   ]
  },
  {
   "cell_type": "code",
   "execution_count": 145,
   "id": "67395564",
   "metadata": {},
   "outputs": [
    {
     "data": {
      "text/plain": [
       "'mumbai, kolkata & delhi'"
      ]
     },
     "execution_count": 145,
     "metadata": {},
     "output_type": "execute_result"
    }
   ],
   "source": [
    "s='%s, %s & %s'\n",
    "s%('mumbai', 'kolkata', 'delhi')"
   ]
  },
  {
   "cell_type": "code",
   "execution_count": 146,
   "id": "d1d26551",
   "metadata": {},
   "outputs": [
    {
     "data": {
      "text/plain": [
       "'hello, world, universe'"
      ]
     },
     "execution_count": 146,
     "metadata": {},
     "output_type": "execute_result"
    }
   ],
   "source": [
    "t = '%(a)s, %(b)s, %(c)s'\n",
    "t % dict(a='hello', b='world', c='universe')"
   ]
  },
  {
   "cell_type": "code",
   "execution_count": 147,
   "id": "4fb74ded",
   "metadata": {},
   "outputs": [
    {
     "data": {
      "text/plain": [
       "'2.5, 10, [1, 2]'"
      ]
     },
     "execution_count": 147,
     "metadata": {},
     "output_type": "execute_result"
    }
   ],
   "source": [
    "'{a}, {0}, {abc}'.format(10, a=2.5, abc=[1, 2])"
   ]
  },
  {
   "cell_type": "code",
   "execution_count": 148,
   "id": "dd8c2d89",
   "metadata": {},
   "outputs": [
    {
     "data": {
      "text/plain": [
       "'1.23'"
      ]
     },
     "execution_count": 148,
     "metadata": {},
     "output_type": "execute_result"
    }
   ],
   "source": [
    "'{0:.2f}'.format(1.234)"
   ]
  },
  {
   "cell_type": "code",
   "execution_count": 149,
   "id": "f744591b",
   "metadata": {},
   "outputs": [
    {
     "data": {
      "text/plain": [
       "'ff 255'"
      ]
     },
     "execution_count": 149,
     "metadata": {},
     "output_type": "execute_result"
    }
   ],
   "source": [
    "'%x %d' %(255, 255)"
   ]
  },
  {
   "cell_type": "code",
   "execution_count": 151,
   "id": "c9b9b827",
   "metadata": {},
   "outputs": [
    {
     "ename": "SyntaxError",
     "evalue": "invalid syntax (676665815.py, line 1)",
     "output_type": "error",
     "traceback": [
      "\u001b[1;36m  Cell \u001b[1;32mIn[151], line 1\u001b[1;36m\u001b[0m\n\u001b[1;33m    {0:.2f}'.format(1/3.0)\u001b[0m\n\u001b[1;37m         ^\u001b[0m\n\u001b[1;31mSyntaxError\u001b[0m\u001b[1;31m:\u001b[0m invalid syntax\n"
     ]
    }
   ],
   "source": [
    "{0:.2f}'.format(1/3.0)\n"
   ]
  },
  {
   "cell_type": "code",
   "execution_count": 150,
   "id": "a1497509",
   "metadata": {},
   "outputs": [
    {
     "data": {
      "text/plain": [
       "'0.33'"
      ]
     },
     "execution_count": 150,
     "metadata": {},
     "output_type": "execute_result"
    }
   ],
   "source": [
    "'%.2f'%(1/3.0)"
   ]
  },
  {
   "cell_type": "code",
   "execution_count": 152,
   "id": "de551cd0",
   "metadata": {},
   "outputs": [
    {
     "data": {
      "text/plain": [
       "'first=H, third=L'"
      ]
     },
     "execution_count": 152,
     "metadata": {},
     "output_type": "execute_result"
    }
   ],
   "source": [
    "l=list('HELLO')\n",
    "'first={0[0]}, third={0[2]}'.format(l)"
   ]
  },
  {
   "cell_type": "code",
   "execution_count": 153,
   "id": "9d7fc40c",
   "metadata": {},
   "outputs": [
    {
     "name": "stdout",
     "output_type": "stream",
     "text": [
      "{frozenset({456, 34}), 34.43, (34, 45, 56), 23}\n"
     ]
    }
   ],
   "source": [
    "a = {23, 34.43, (34, 45, 56), frozenset({34, 456})}\n",
    "print(a)\n",
    "'''Sets cannot contain other sets because sets are mutable and not hashable.\n",
    "Use frozenset if you need to include a set-like structure within another set, as frozenset\n",
    "is immutable and hashable.'''"
   ]
  },
  {
   "cell_type": "code",
   "execution_count": null,
   "id": "7dca5bcf",
   "metadata": {},
   "outputs": [],
   "source": []
  },
  {
   "cell_type": "code",
   "execution_count": null,
   "id": "b8c4799a",
   "metadata": {},
   "outputs": [],
   "source": []
  }
 ],
 "metadata": {
  "kernelspec": {
   "display_name": "Python 3 (ipykernel)",
   "language": "python",
   "name": "python3"
  },
  "language_info": {
   "codemirror_mode": {
    "name": "ipython",
    "version": 3
   },
   "file_extension": ".py",
   "mimetype": "text/x-python",
   "name": "python",
   "nbconvert_exporter": "python",
   "pygments_lexer": "ipython3",
   "version": "3.9.13"
  }
 },
 "nbformat": 4,
 "nbformat_minor": 5
}
