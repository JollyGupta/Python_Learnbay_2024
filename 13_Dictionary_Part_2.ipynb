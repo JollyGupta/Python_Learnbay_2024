{
 "cells": [
  {
   "cell_type": "markdown",
   "id": "58319721-24bf-4d2f-b1ff-705c20298ea9",
   "metadata": {},
   "source": [
    "# updating the dictionary"
   ]
  },
  {
   "cell_type": "code",
   "execution_count": 1,
   "id": "29ccb099-1c64-4491-860c-234f5c7beea5",
   "metadata": {},
   "outputs": [],
   "source": [
    "emp_data = {\n",
    "            'emp_1' : {'name' :'Salahudin' , 'age':34 , 'Salary' : 343434} , \n",
    "            'emp_2' : {'name' :'Vijay' , 'age':23 , 'Salary' : 564754645} , \n",
    "            'emp_3' : {'name' :'Abdul' , 'age':54 , 'Salary' : 45345345} , \n",
    "            'emp_4' : {'name' :'Abhijeet' , 'age':28 , 'Salary' : 34534534} \n",
    "           }"
   ]
  },
  {
   "cell_type": "code",
   "execution_count": 3,
   "id": "f48a04ff-b1cc-4204-a8ef-436462160555",
   "metadata": {},
   "outputs": [],
   "source": [
    "emp_data['emp_1']['age'] = 35"
   ]
  },
  {
   "cell_type": "code",
   "execution_count": 4,
   "id": "357d21ee-b72a-4826-aeda-9ebc0c33676d",
   "metadata": {},
   "outputs": [
    {
     "data": {
      "text/plain": [
       "{'emp_1': {'name': 'Salahudin', 'age': 35, 'Salary': 343434},\n",
       " 'emp_2': {'name': 'Vijay', 'age': 23, 'Salary': 564754645},\n",
       " 'emp_3': {'name': 'Abdul', 'age': 54, 'Salary': 45345345},\n",
       " 'emp_4': {'name': 'Abhijeet', 'age': 28, 'Salary': 34534534}}"
      ]
     },
     "execution_count": 4,
     "metadata": {},
     "output_type": "execute_result"
    }
   ],
   "source": [
    "emp_data"
   ]
  },
  {
   "cell_type": "code",
   "execution_count": 5,
   "id": "77726ebb-4283-4402-9805-5f1a807fdacf",
   "metadata": {},
   "outputs": [],
   "source": [
    "emp_data['emp_3'] = {'name' :'new_emp' , 'age':54 , 'Salary' : 45345345}"
   ]
  },
  {
   "cell_type": "code",
   "execution_count": 6,
   "id": "0f47ef2b-08b4-40ea-8c64-f7ce948c05c1",
   "metadata": {},
   "outputs": [
    {
     "data": {
      "text/plain": [
       "{'emp_1': {'name': 'Salahudin', 'age': 35, 'Salary': 343434},\n",
       " 'emp_2': {'name': 'Vijay', 'age': 23, 'Salary': 564754645},\n",
       " 'emp_3': {'name': 'new_emp', 'age': 54, 'Salary': 45345345},\n",
       " 'emp_4': {'name': 'Abhijeet', 'age': 28, 'Salary': 34534534}}"
      ]
     },
     "execution_count": 6,
     "metadata": {},
     "output_type": "execute_result"
    }
   ],
   "source": [
    "emp_data"
   ]
  },
  {
   "cell_type": "code",
   "execution_count": 7,
   "id": "03d21b3a-fbdf-440b-9191-4b16f8861ba0",
   "metadata": {},
   "outputs": [
    {
     "ename": "KeyError",
     "evalue": "'emp_5'",
     "output_type": "error",
     "traceback": [
      "\u001b[1;31m---------------------------------------------------------------------------\u001b[0m",
      "\u001b[1;31mKeyError\u001b[0m                                  Traceback (most recent call last)",
      "Cell \u001b[1;32mIn[7], line 1\u001b[0m\n\u001b[1;32m----> 1\u001b[0m emp_data[\u001b[38;5;124m'\u001b[39m\u001b[38;5;124memp_5\u001b[39m\u001b[38;5;124m'\u001b[39m]\n",
      "\u001b[1;31mKeyError\u001b[0m: 'emp_5'"
     ]
    }
   ],
   "source": [
    "emp_data['emp_5']"
   ]
  },
  {
   "cell_type": "code",
   "execution_count": 10,
   "id": "cd5099a9-2b6a-42ca-a052-ffc1f6111e6e",
   "metadata": {},
   "outputs": [],
   "source": [
    "emp_data['emp_10'] = {'name' :'new_emp' , 'age':54 , 'Salary' : 45345345}"
   ]
  },
  {
   "cell_type": "code",
   "execution_count": 11,
   "id": "64453442-19e4-4988-9ce8-3828ea91dfe9",
   "metadata": {},
   "outputs": [
    {
     "data": {
      "text/plain": [
       "{'emp_1': {'name': 'Salahudin', 'age': 35, 'Salary': 343434},\n",
       " 'emp_2': {'name': 'Vijay', 'age': 23, 'Salary': 564754645},\n",
       " 'emp_3': {'name': 'new_emp', 'age': 54, 'Salary': 45345345},\n",
       " 'emp_4': {'name': 'Abhijeet', 'age': 28, 'Salary': 34534534},\n",
       " 'emp_5': {'name': 'new_emp', 'age': 54, 'Salary': 45345345},\n",
       " 'emp_10': {'name': 'new_emp', 'age': 54, 'Salary': 45345345}}"
      ]
     },
     "execution_count": 11,
     "metadata": {},
     "output_type": "execute_result"
    }
   ],
   "source": [
    "emp_data"
   ]
  },
  {
   "cell_type": "markdown",
   "id": "8c205732-7c2a-459d-b146-8ba083dd6a14",
   "metadata": {},
   "source": [
    "# Methods of dict \n",
    "- Python dictionary methods is collection of Python functions that operates on Dictionary.\n",
    "\n",
    "- Python has a set of built-in methods that you can use on dictionaries.\n",
    "\n",
    "- Method\tDescription\n",
    "- clear()\tRemoves all the elements from the dictionary\n",
    "- copy()\tReturns a copy of the dictionary\n",
    "- fromkeys()\tReturns a dictionary with the specified keys and value\n",
    "- get()\tReturns the value of the specified key\n",
    "- items()\tReturns a list containing a tuple for each key value pair\n",
    "- keys()\tReturns a list containing the dictionary's keys\n",
    "- pop()\tRemoves the element with the specified key\n",
    "- popitem()\tRemoves the last inserted key-value pair\n",
    "- setdefault()\tReturns the value of the specified key. If the key does not exist: insert the key, with the specified value\n",
    "- update()\tUpdates the dictionary with the specified key-value pairs\n",
    "- values()\tReturns a list of all the values in the dictionary\n"
   ]
  },
  {
   "cell_type": "markdown",
   "id": "1e916d00-6aca-4bfe-8881-aa0047fe9b07",
   "metadata": {},
   "source": [
    "# Method to access or insert a record in the dict\n",
    "\n",
    "- get\n",
    "- setdefault\n",
    "- update"
   ]
  },
  {
   "cell_type": "code",
   "execution_count": 12,
   "id": "ad2daed8-2044-4aa3-9c73-6fd6838b392e",
   "metadata": {},
   "outputs": [
    {
     "name": "stdout",
     "output_type": "stream",
     "text": [
      "['__class__', '__class_getitem__', '__contains__', '__delattr__', '__delitem__', '__dir__', '__doc__', '__eq__', '__format__', '__ge__', '__getattribute__', '__getitem__', '__getstate__', '__gt__', '__hash__', '__init__', '__init_subclass__', '__ior__', '__iter__', '__le__', '__len__', '__lt__', '__ne__', '__new__', '__or__', '__reduce__', '__reduce_ex__', '__repr__', '__reversed__', '__ror__', '__setattr__', '__setitem__', '__sizeof__', '__str__', '__subclasshook__', 'clear', 'copy', 'fromkeys', 'get', 'items', 'keys', 'pop', 'popitem', 'setdefault', 'update', 'values']\n"
     ]
    }
   ],
   "source": [
    "print(dir(dict))"
   ]
  },
  {
   "cell_type": "markdown",
   "id": "6ff146a1-8e83-4a18-8e62-0a37ff20fe24",
   "metadata": {},
   "source": [
    "# Get\n",
    "- in simple lang, to extract values from existing records"
   ]
  },
  {
   "cell_type": "code",
   "execution_count": 1,
   "id": "8dda217b-c48c-4be4-8858-caa7da97e0ef",
   "metadata": {},
   "outputs": [
    {
     "name": "stdout",
     "output_type": "stream",
     "text": [
      "{'name': 'Abdul', 'age': 54, 'Salary': 45345345}\n"
     ]
    }
   ],
   "source": [
    "# If the key is present\n",
    "#Returns the value for the given key\n",
    "\n",
    "emp_data = {\n",
    "            'emp_1' : {'name' :'Salahudin' , 'age':34 , 'Salary' : 343434} , \n",
    "            'emp_2' : {'name' :'Vijay' , 'age':23 , 'Salary' : 564754645} , \n",
    "            'emp_3' : {'name' :'Abdul' , 'age':54 , 'Salary' : 45345345} , \n",
    "            'emp_4' : {'name' :'Abhijeet' , 'age':28 , 'Salary' : 34534534} \n",
    "           }\n",
    "\n",
    "print(emp_data.get('emp_3'))"
   ]
  },
  {
   "cell_type": "code",
   "execution_count": 2,
   "id": "9ebf1d2d-d96c-4a75-8d7a-458e3b6b8fa4",
   "metadata": {},
   "outputs": [
    {
     "name": "stdout",
     "output_type": "stream",
     "text": [
      "None\n"
     ]
    }
   ],
   "source": [
    "# If the key is not present\n",
    "\n",
    "emp_data = {\n",
    "            'emp_1' : {'name' :'Salahudin' , 'age':34 , 'Salary' : 343434} , \n",
    "            'emp_2' : {'name' :'Vijay' , 'age':23 , 'Salary' : 564754645} , \n",
    "            'emp_3' : {'name' :'Abdul' , 'age':54 , 'Salary' : 45345345} , \n",
    "            'emp_4' : {'name' :'Abhijeet' , 'age':28 , 'Salary' : 34534534} \n",
    "           }\n",
    "\n",
    "print(emp_data.get('emp_10')) # default=None"
   ]
  },
  {
   "cell_type": "code",
   "execution_count": 17,
   "id": "0cfe4fd8-4e55-4ab2-b10f-246ec0fbc4d9",
   "metadata": {},
   "outputs": [
    {
     "name": "stdout",
     "output_type": "stream",
     "text": [
      "The emp you are searching for is not present in the data\n"
     ]
    }
   ],
   "source": [
    "# If the key is not present, you can give custom message\n",
    "\n",
    "emp_data = {\n",
    "            'emp_1' : {'name' :'Salahudin' , 'age':34 , 'Salary' : 343434} , \n",
    "            'emp_2' : {'name' :'Vijay' , 'age':23 , 'Salary' : 564754645} , \n",
    "            'emp_3' : {'name' :'Abdul' , 'age':54 , 'Salary' : 45345345} , \n",
    "            'emp_4' : {'name' :'Abhijeet' , 'age':28 , 'Salary' : 34534534} \n",
    "           }\n",
    "\n",
    "print(emp_data.get('emp_14' , 'The emp you are searching for is not present in the data')) # default=None"
   ]
  },
  {
   "cell_type": "code",
   "execution_count": 3,
   "id": "95c73d8a-1d70-4558-91bf-46552e48199f",
   "metadata": {},
   "outputs": [
    {
     "data": {
      "text/plain": [
       "{'emp_1': {'name': 'Salahudin', 'age': 34, 'Salary': 343434},\n",
       " 'emp_2': {'name': 'Vijay', 'age': 23, 'Salary': 564754645},\n",
       " 'emp_3': {'name': 'Abdul', 'age': 54, 'Salary': 45345345},\n",
       " 'emp_4': {'name': 'Abhijeet', 'age': 28, 'Salary': 34534534}}"
      ]
     },
     "execution_count": 3,
     "metadata": {},
     "output_type": "execute_result"
    }
   ],
   "source": [
    "emp_data"
   ]
  },
  {
   "cell_type": "markdown",
   "id": "8331b741-f5fc-4e5c-9da6-1d31e13b8068",
   "metadata": {},
   "source": [
    "# Set default\n",
    "- Returns the value of a key if the key is in the dictionary else inserts the key with a value to the dictionary\n",
    "- can add new records but can't edit previous ones"
   ]
  },
  {
   "cell_type": "code",
   "execution_count": 18,
   "id": "7758f58d-0f85-4382-bdf7-ff63f202d64a",
   "metadata": {},
   "outputs": [
    {
     "name": "stdout",
     "output_type": "stream",
     "text": [
      "{'name': 'Abdul', 'age': 54, 'Salary': 45345345}\n"
     ]
    }
   ],
   "source": [
    "# If the key is present\n",
    "\n",
    "emp_data = {\n",
    "            'emp_1' : {'name' :'Salahudin' , 'age':34 , 'Salary' : 343434} , \n",
    "            'emp_2' : {'name' :'Vijay' , 'age':23 , 'Salary' : 564754645} , \n",
    "            'emp_3' : {'name' :'Abdul' , 'age':54 , 'Salary' : 45345345} , \n",
    "            'emp_4' : {'name' :'Abhijeet' , 'age':28 , 'Salary' : 34534534} \n",
    "           }\n",
    "\n",
    "print(emp_data.setdefault('emp_3'))"
   ]
  },
  {
   "cell_type": "code",
   "execution_count": 19,
   "id": "7c32010f-eb6e-41ef-b87b-8f5eae22fd48",
   "metadata": {},
   "outputs": [
    {
     "name": "stdout",
     "output_type": "stream",
     "text": [
      "None\n"
     ]
    }
   ],
   "source": [
    "# If the key is not present\n",
    "\n",
    "emp_data = {\n",
    "            'emp_1' : {'name' :'Salahudin' , 'age':34 , 'Salary' : 343434} , \n",
    "            'emp_2' : {'name' :'Vijay' , 'age':23 , 'Salary' : 564754645} , \n",
    "            'emp_3' : {'name' :'Abdul' , 'age':54 , 'Salary' : 45345345} , \n",
    "            'emp_4' : {'name' :'Abhijeet' , 'age':28 , 'Salary' : 34534534} \n",
    "           }\n",
    "\n",
    "print(emp_data.setdefault('emp_37'))"
   ]
  },
  {
   "cell_type": "code",
   "execution_count": 20,
   "id": "f5961d55-1bf1-47de-98ea-b7b0b2f9f9d5",
   "metadata": {},
   "outputs": [
    {
     "data": {
      "text/plain": [
       "{'emp_1': {'name': 'Salahudin', 'age': 34, 'Salary': 343434},\n",
       " 'emp_2': {'name': 'Vijay', 'age': 23, 'Salary': 564754645},\n",
       " 'emp_3': {'name': 'Abdul', 'age': 54, 'Salary': 45345345},\n",
       " 'emp_4': {'name': 'Abhijeet', 'age': 28, 'Salary': 34534534},\n",
       " 'emp_37': None}"
      ]
     },
     "execution_count": 20,
     "metadata": {},
     "output_type": "execute_result"
    }
   ],
   "source": [
    "emp_data"
   ]
  },
  {
   "cell_type": "code",
   "execution_count": 4,
   "id": "c69288c1-3954-4887-b683-06ee8a979fad",
   "metadata": {},
   "outputs": [
    {
     "name": "stdout",
     "output_type": "stream",
     "text": [
      "{'name': 'new_emp', 'age': 28, 'Salary': 34534534}\n"
     ]
    }
   ],
   "source": [
    "# If the key is not present, inserting new record\n",
    "\n",
    "emp_data = {\n",
    "            'emp_1' : {'name' :'Salahudin' , 'age':34 , 'Salary' : 343434} , \n",
    "            'emp_2' : {'name' :'Vijay' , 'age':23 , 'Salary' : 564754645} , \n",
    "            'emp_3' : {'name' :'Abdul' , 'age':54 , 'Salary' : 45345345} , \n",
    "            'emp_4' : {'name' :'Abhijeet' , 'age':28 , 'Salary' : 34534534} \n",
    "           }\n",
    "\n",
    "print(emp_data.setdefault('emp_5' ,{'name' :'new_emp' , 'age':28 , 'Salary' : 34534534}  ))"
   ]
  },
  {
   "cell_type": "code",
   "execution_count": 22,
   "id": "23051157-b729-4e77-8b4c-d89cbd80ddb4",
   "metadata": {},
   "outputs": [
    {
     "data": {
      "text/plain": [
       "{'emp_1': {'name': 'Salahudin', 'age': 34, 'Salary': 343434},\n",
       " 'emp_2': {'name': 'Vijay', 'age': 23, 'Salary': 564754645},\n",
       " 'emp_3': {'name': 'Abdul', 'age': 54, 'Salary': 45345345},\n",
       " 'emp_4': {'name': 'Abhijeet', 'age': 28, 'Salary': 34534534},\n",
       " 'emp_5': {'name': 'new_emp', 'age': 28, 'Salary': 34534534}}"
      ]
     },
     "execution_count": 22,
     "metadata": {},
     "output_type": "execute_result"
    }
   ],
   "source": [
    "emp_data"
   ]
  },
  {
   "cell_type": "code",
   "execution_count": 8,
   "id": "6d8490f4-22aa-4880-b018-3c351fff27b4",
   "metadata": {},
   "outputs": [
    {
     "name": "stdout",
     "output_type": "stream",
     "text": [
      "{'name': 'Abdul', 'age': 54, 'Salary': 45345345}\n"
     ]
    }
   ],
   "source": [
    "# If the key is not present\n",
    "\n",
    "emp_data = {\n",
    "            'emp_1' : {'name' :'Salahudin' , 'age':34 , 'Salary' : 343434} , \n",
    "            'emp_2' : {'name' :'Vijay' , 'age':23 , 'Salary' : 564754645} , \n",
    "            'emp_3' : {'name' :'Abdul' , 'age':54 , 'Salary' : 45345345} , \n",
    "            'emp_4' : {'name' :'Abhijeet' , 'age':28 , 'Salary' : 34534534} \n",
    "           }\n",
    "\n",
    "print(emp_data.setdefault('emp_3' ,{'name' :'new_emp' , 'age':28 , 'Salary' : 34534534}  ))"
   ]
  },
  {
   "cell_type": "code",
   "execution_count": 9,
   "id": "e4ea28e9-6661-4af9-a00c-82ac7e7c4bd7",
   "metadata": {},
   "outputs": [
    {
     "data": {
      "text/plain": [
       "{'emp_1': {'name': 'Salahudin', 'age': 34, 'Salary': 343434},\n",
       " 'emp_2': {'name': 'Vijay', 'age': 23, 'Salary': 564754645},\n",
       " 'emp_3': {'name': 'Abdul', 'age': 54, 'Salary': 45345345},\n",
       " 'emp_4': {'name': 'Abhijeet', 'age': 28, 'Salary': 34534534}}"
      ]
     },
     "execution_count": 9,
     "metadata": {},
     "output_type": "execute_result"
    }
   ],
   "source": [
    "emp_data"
   ]
  },
  {
   "cell_type": "markdown",
   "id": "2d4cbff7-d61c-41bd-a719-1552510589ba",
   "metadata": {},
   "source": [
    "# Update\n",
    "- Updates the dictionary with the elements from another dictionary or an iterable of key-value pairs. With this method, you can include new data or merge it with existing dictionary entries\n"
   ]
  },
  {
   "cell_type": "code",
   "execution_count": 10,
   "id": "2b3d88bc-4967-47e4-9919-7d7cae8ed233",
   "metadata": {},
   "outputs": [
    {
     "ename": "ValueError",
     "evalue": "dictionary update sequence element #0 has length 1; 2 is required",
     "output_type": "error",
     "traceback": [
      "\u001b[1;31m---------------------------------------------------------------------------\u001b[0m",
      "\u001b[1;31mValueError\u001b[0m                                Traceback (most recent call last)",
      "Cell \u001b[1;32mIn[10], line 8\u001b[0m\n\u001b[0;32m      1\u001b[0m emp_data \u001b[38;5;241m=\u001b[39m {\n\u001b[0;32m      2\u001b[0m             \u001b[38;5;124m'\u001b[39m\u001b[38;5;124memp_1\u001b[39m\u001b[38;5;124m'\u001b[39m : {\u001b[38;5;124m'\u001b[39m\u001b[38;5;124mname\u001b[39m\u001b[38;5;124m'\u001b[39m :\u001b[38;5;124m'\u001b[39m\u001b[38;5;124mSalahudin\u001b[39m\u001b[38;5;124m'\u001b[39m , \u001b[38;5;124m'\u001b[39m\u001b[38;5;124mage\u001b[39m\u001b[38;5;124m'\u001b[39m:\u001b[38;5;241m34\u001b[39m , \u001b[38;5;124m'\u001b[39m\u001b[38;5;124mSalary\u001b[39m\u001b[38;5;124m'\u001b[39m : \u001b[38;5;241m343434\u001b[39m} , \n\u001b[0;32m      3\u001b[0m             \u001b[38;5;124m'\u001b[39m\u001b[38;5;124memp_2\u001b[39m\u001b[38;5;124m'\u001b[39m : {\u001b[38;5;124m'\u001b[39m\u001b[38;5;124mname\u001b[39m\u001b[38;5;124m'\u001b[39m :\u001b[38;5;124m'\u001b[39m\u001b[38;5;124mVijay\u001b[39m\u001b[38;5;124m'\u001b[39m , \u001b[38;5;124m'\u001b[39m\u001b[38;5;124mage\u001b[39m\u001b[38;5;124m'\u001b[39m:\u001b[38;5;241m23\u001b[39m , \u001b[38;5;124m'\u001b[39m\u001b[38;5;124mSalary\u001b[39m\u001b[38;5;124m'\u001b[39m : \u001b[38;5;241m564754645\u001b[39m} , \n\u001b[0;32m      4\u001b[0m             \u001b[38;5;124m'\u001b[39m\u001b[38;5;124memp_3\u001b[39m\u001b[38;5;124m'\u001b[39m : {\u001b[38;5;124m'\u001b[39m\u001b[38;5;124mname\u001b[39m\u001b[38;5;124m'\u001b[39m :\u001b[38;5;124m'\u001b[39m\u001b[38;5;124mAbdul\u001b[39m\u001b[38;5;124m'\u001b[39m , \u001b[38;5;124m'\u001b[39m\u001b[38;5;124mage\u001b[39m\u001b[38;5;124m'\u001b[39m:\u001b[38;5;241m54\u001b[39m , \u001b[38;5;124m'\u001b[39m\u001b[38;5;124mSalary\u001b[39m\u001b[38;5;124m'\u001b[39m : \u001b[38;5;241m45345345\u001b[39m} , \n\u001b[0;32m      5\u001b[0m             \u001b[38;5;124m'\u001b[39m\u001b[38;5;124memp_4\u001b[39m\u001b[38;5;124m'\u001b[39m : {\u001b[38;5;124m'\u001b[39m\u001b[38;5;124mname\u001b[39m\u001b[38;5;124m'\u001b[39m :\u001b[38;5;124m'\u001b[39m\u001b[38;5;124mAbhijeet\u001b[39m\u001b[38;5;124m'\u001b[39m , \u001b[38;5;124m'\u001b[39m\u001b[38;5;124mage\u001b[39m\u001b[38;5;124m'\u001b[39m:\u001b[38;5;241m28\u001b[39m , \u001b[38;5;124m'\u001b[39m\u001b[38;5;124mSalary\u001b[39m\u001b[38;5;124m'\u001b[39m : \u001b[38;5;241m34534534\u001b[39m} \n\u001b[0;32m      6\u001b[0m            }\n\u001b[1;32m----> 8\u001b[0m \u001b[43memp_data\u001b[49m\u001b[38;5;241;43m.\u001b[39;49m\u001b[43mupdate\u001b[49m\u001b[43m(\u001b[49m\u001b[38;5;124;43m'\u001b[39;49m\u001b[38;5;124;43memp_2\u001b[39;49m\u001b[38;5;124;43m'\u001b[39;49m\u001b[43m)\u001b[49m\n",
      "\u001b[1;31mValueError\u001b[0m: dictionary update sequence element #0 has length 1; 2 is required"
     ]
    }
   ],
   "source": [
    "emp_data = {\n",
    "            'emp_1' : {'name' :'Salahudin' , 'age':34 , 'Salary' : 343434} , \n",
    "            'emp_2' : {'name' :'Vijay' , 'age':23 , 'Salary' : 564754645} , \n",
    "            'emp_3' : {'name' :'Abdul' , 'age':54 , 'Salary' : 45345345} , \n",
    "            'emp_4' : {'name' :'Abhijeet' , 'age':28 , 'Salary' : 34534534} \n",
    "           }\n",
    "\n",
    "emp_data.update('emp_2')"
   ]
  },
  {
   "cell_type": "code",
   "execution_count": 12,
   "id": "74617836-06e8-4b6f-98f8-ed2b2b58a051",
   "metadata": {},
   "outputs": [
    {
     "data": {
      "text/plain": [
       "{'emp_1': {'name': 'Salahudin', 'age': 34, 'Salary': 343434},\n",
       " 'emp_2': {'name': 'new_emp', 'age': 54, 'Salary': 45345345},\n",
       " 'emp_3': {'name': 'Abdul', 'age': 54, 'Salary': 45345345},\n",
       " 'emp_4': {'name': 'Abhijeet', 'age': 28, 'Salary': 34534534}}"
      ]
     },
     "execution_count": 12,
     "metadata": {},
     "output_type": "execute_result"
    }
   ],
   "source": [
    "emp_data = {\n",
    "            'emp_1' : {'name' :'Salahudin' , 'age':34 , 'Salary' : 343434} , \n",
    "            'emp_2' : {'name' :'Vijay' , 'age':23 , 'Salary' : 564754645} , \n",
    "            'emp_3' : {'name' :'Abdul' , 'age':54 , 'Salary' : 45345345} , \n",
    "            'emp_4' : {'name' :'Abhijeet' , 'age':28 , 'Salary' : 34534534} \n",
    "           }\n",
    "\n",
    "\n",
    "\n",
    "emp_data.update({'emp_2' : {'name' :'new_emp' , 'age':54 , 'Salary' : 45345345} })\n",
    "#emp_data.update({'emp_2' : {'name' :'new_emp' , 'age':54 } })\n",
    "emp_data"
   ]
  },
  {
   "cell_type": "code",
   "execution_count": 13,
   "id": "088d0a4e-d680-46a8-8ac8-bfd44390126f",
   "metadata": {},
   "outputs": [
    {
     "data": {
      "text/plain": [
       "{'emp_1': {'name': 'Salahudin', 'age': 34, 'Salary': 343434},\n",
       " 'emp_2': {'name': 'Vijay', 'age': 23, 'Salary': 564754645},\n",
       " 'emp_3': {'name': 'Abdul', 'age': 54, 'Salary': 45345345},\n",
       " 'emp_4': {'name': 'Abhijeet', 'age': 28, 'Salary': 34534534},\n",
       " 'emp_5': {'name': 'new_emp', 'age': 54, 'Salary': 45345345},\n",
       " 'emp_6': {'name': 'new_emp', 'age': 54, 'Salary': 45345345}}"
      ]
     },
     "execution_count": 13,
     "metadata": {},
     "output_type": "execute_result"
    }
   ],
   "source": [
    "emp_data = {\n",
    "            'emp_1' : {'name' :'Salahudin' , 'age':34 , 'Salary' : 343434} , \n",
    "            'emp_2' : {'name' :'Vijay' , 'age':23 , 'Salary' : 564754645} , \n",
    "            'emp_3' : {'name' :'Abdul' , 'age':54 , 'Salary' : 45345345} , \n",
    "            'emp_4' : {'name' :'Abhijeet' , 'age':28 , 'Salary' : 34534534} \n",
    "           }\n",
    "\n",
    "\n",
    "\n",
    "emp_data.update({'emp_5' : {'name' :'new_emp' , 'age':54 , 'Salary' : 45345345} ,\n",
    "                'emp_6' : {'name' :'new_emp' , 'age':54 , 'Salary' : 45345345} })\n",
    "\n",
    "emp_data"
   ]
  },
  {
   "cell_type": "markdown",
   "id": "99b57338-5e6b-41c3-b8fd-29b851820eca",
   "metadata": {},
   "source": [
    "- get\n",
    "\n",
    "fetch the existing data\n",
    "by default the message is None if record is not present\n",
    "you cannot change the exisiting data\n",
    "you cannot insert any new item\n",
    "\n",
    "- setdefault\n",
    "\n",
    "fetch the existing data\n",
    "can be used to insert any new item\n",
    "cannot change the existing data\n",
    "\n",
    "- update\n",
    "\n",
    "cannot extract the existing data \n",
    "can update the existing records\n",
    "can insert multiple records in 1 time\n"
   ]
  },
  {
   "cell_type": "code",
   "execution_count": 46,
   "id": "9f641afb-9c1b-46bc-8c14-05ebe4732b09",
   "metadata": {},
   "outputs": [],
   "source": [
    "emp_data = {\n",
    "            'emp_1' : {'name' :'Salahudin' , 'age':34 , 'Salary' : 343434} , \n",
    "            'emp_2' : {'name' :'Vijay' , 'age':23 , 'Salary' : 564754645} , \n",
    "            'emp_3' : {'name' :'Abdul' , 'age':54 , 'Salary' : 45345345} , \n",
    "            'emp_4' : {'name' :'Abhijeet' , 'age':28 , 'Salary' : 34534534} \n",
    "           }"
   ]
  },
  {
   "cell_type": "code",
   "execution_count": 31,
   "id": "9befac3f-bb74-4210-9e4c-4ba1833436bd",
   "metadata": {},
   "outputs": [
    {
     "name": "stdout",
     "output_type": "stream",
     "text": [
      "Enter the name : df\n",
      "Enter the age : 56\n",
      "Enter the salary : 56\n"
     ]
    },
    {
     "data": {
      "text/plain": [
       "{'emp_1': {'name': 'Salahudin', 'age': 34, 'Salary': 343434},\n",
       " 'emp_2': {'name': 'Vijay', 'age': 23, 'Salary': 564754645},\n",
       " 'emp_3': {'name': 'Abdul', 'age': 54, 'Salary': 45345345},\n",
       " 'emp_4': {'name': 'Abhijeet', 'age': 28, 'Salary': 34534534},\n",
       " 'emp_5': {'name': 'as', 'age': 12, 'Salary': 12},\n",
       " 'emp_6': {'name': 'as', 'age': 12, 'Salary': 12},\n",
       " 'emp_7': {'name': 'as', 'age': 12, 'Salary': 12},\n",
       " 'emp_8': {'name': 'abc', 'age': 45, 'Salary': 3456},\n",
       " 'emp_9': {'name': 'qa', 'age': 12, 'Salary': 12},\n",
       " 'emp_10': {'name': 'rt', 'age': 34, 'Salary': 56},\n",
       " 'emp_11': {'name': 'abc', 'age': 12, 'Salary': 12},\n",
       " 'emp_12': {'name': 'yu', 'age': 67, 'Salary': 67},\n",
       " 'emp_13': {'name': 'ui', 'age': 78, 'Salary': 89},\n",
       " 'emp_14': {'name': 'df', 'age': 56, 'Salary': 56}}"
      ]
     },
     "execution_count": 31,
     "metadata": {},
     "output_type": "execute_result"
    }
   ],
   "source": [
    "#if emp_data currently has 4 employees, this line would create a new key \n",
    "#in the format \"emp_5\" for the next employee.\n",
    "\n",
    "key = f\"emp_{len(emp_data)+1}\"\n",
    "\n",
    "a = input('Enter the name : ')\n",
    "b = eval(input('Enter the age : '))\n",
    "c = eval(input('Enter the salary : '))\n",
    "\n",
    "emp_data.setdefault(key , {'name' :a , 'age':b , 'Salary' : c})\n",
    "#emp_data.setdefault({key : {'name' :a , 'age':b , 'Salary' : c}}) #unhashable type: 'dict'\n",
    "emp_data"
   ]
  },
  {
   "cell_type": "code",
   "execution_count": 29,
   "id": "f35c19e8",
   "metadata": {},
   "outputs": [
    {
     "name": "stdout",
     "output_type": "stream",
     "text": [
      "Enter the name : ui\n",
      "Enter the age : 78\n",
      "Enter the salary : 89\n"
     ]
    },
    {
     "data": {
      "text/plain": [
       "{'emp_1': {'name': 'Salahudin', 'age': 34, 'Salary': 343434},\n",
       " 'emp_2': {'name': 'Vijay', 'age': 23, 'Salary': 564754645},\n",
       " 'emp_3': {'name': 'Abdul', 'age': 54, 'Salary': 45345345},\n",
       " 'emp_4': {'name': 'Abhijeet', 'age': 28, 'Salary': 34534534},\n",
       " 'emp_5': {'name': 'as', 'age': 12, 'Salary': 12},\n",
       " 'emp_6': {'name': 'as', 'age': 12, 'Salary': 12},\n",
       " 'emp_7': {'name': 'as', 'age': 12, 'Salary': 12},\n",
       " 'emp_8': {'name': 'abc', 'age': 45, 'Salary': 3456},\n",
       " 'emp_9': {'name': 'qa', 'age': 12, 'Salary': 12},\n",
       " 'emp_10': {'name': 'rt', 'age': 34, 'Salary': 56},\n",
       " 'emp_11': {'name': 'abc', 'age': 12, 'Salary': 12},\n",
       " 'emp_12': {'name': 'yu', 'age': 67, 'Salary': 67},\n",
       " 'emp_13': {'name': 'ui', 'age': 78, 'Salary': 89}}"
      ]
     },
     "execution_count": 29,
     "metadata": {},
     "output_type": "execute_result"
    }
   ],
   "source": [
    "\n",
    "key = f\"emp_{len(emp_data)+1}\"\n",
    "\n",
    "a = input('Enter the name : ')\n",
    "b = eval(input('Enter the age : '))\n",
    "c = eval(input('Enter the salary : '))\n",
    "emp_data.update({key : {'name' :a , 'age':b , 'Salary' : c}})\n",
    "\n",
    "# don't use this format \n",
    "#emp_data.update(key , {'name' :a , 'age':b , 'Salary' : c})\n",
    "\n",
    "emp_data"
   ]
  },
  {
   "cell_type": "code",
   "execution_count": 27,
   "id": "ff713e83",
   "metadata": {},
   "outputs": [
    {
     "name": "stdout",
     "output_type": "stream",
     "text": [
      "Enter the name : abc\n",
      "Enter the age : 34\n",
      "Enter the salary : 34\n"
     ]
    },
    {
     "data": {
      "text/plain": [
       "{'emp_0': {'name': 'Salahudin', 'age': 34, 'Salary': 343434},\n",
       " 'emp_1': {'name': 'Vijay', 'age': 23, 'Salary': 564754645},\n",
       " 'emp_2': {'name': 'Abdul', 'age': 54, 'Salary': 45345345},\n",
       " 'emp_3': {'name': 'Abhijeet', 'age': 28, 'Salary': 34534534},\n",
       " 'emp_4': {'name': 'abc', 'age': 34, 'Salary': 34},\n",
       " 'emp_5': {'name': 'abc', 'age': 34, 'Salary': 34},\n",
       " 'emp_6': {'name': 'abc', 'age': 34, 'Salary': 34},\n",
       " 'emp_7': {'name': 'abc', 'age': 34, 'Salary': 34}}"
      ]
     },
     "execution_count": 27,
     "metadata": {},
     "output_type": "execute_result"
    }
   ],
   "source": [
    "#if emp_data currently has 4 employees, this line would create a new key \n",
    "#in the format \"emp_5\" for the next employee.\n",
    "emp_data1 = {\n",
    "            'emp_0' : {'name' :'Salahudin' , 'age':34 , 'Salary' : 343434} , \n",
    "            'emp_1' : {'name' :'Vijay' , 'age':23 , 'Salary' : 564754645} , \n",
    "            'emp_2' : {'name' :'Abdul' , 'age':54 , 'Salary' : 45345345} , \n",
    "            'emp_3' : {'name' :'Abhijeet' , 'age':28 , 'Salary' : 34534534} \n",
    "           }\n",
    "#-------------Method2----------------internet\n",
    "a = input('Enter the name : ')\n",
    "b = eval(input('Enter the age : '))\n",
    "c = eval(input('Enter the salary : '))\n",
    "\n",
    "emp_data1.update({'emp_' + str(i): {'name': a, 'age': b, 'Salary': c} for i in range(4, 8)})\n",
    "emp_data1\n",
    "\n",
    "#Doubt\n",
    "# if i want to update differnt data for emp-5, 6 and 7 then? \n"
   ]
  },
  {
   "cell_type": "code",
   "execution_count": 28,
   "id": "d327990d-9215-4b9e-85ba-6b6e2e9f448a",
   "metadata": {},
   "outputs": [
    {
     "name": "stdout",
     "output_type": "stream",
     "text": [
      "Enter the name : yu\n",
      "Enter the age : 67\n",
      "Enter the salary : 67\n"
     ]
    },
    {
     "data": {
      "text/plain": [
       "{'emp_1': {'name': 'Salahudin', 'age': 34, 'Salary': 343434},\n",
       " 'emp_2': {'name': 'Vijay', 'age': 23, 'Salary': 564754645},\n",
       " 'emp_3': {'name': 'Abdul', 'age': 54, 'Salary': 45345345},\n",
       " 'emp_4': {'name': 'Abhijeet', 'age': 28, 'Salary': 34534534},\n",
       " 'emp_5': {'name': 'as', 'age': 12, 'Salary': 12},\n",
       " 'emp_6': {'name': 'as', 'age': 12, 'Salary': 12},\n",
       " 'emp_7': {'name': 'as', 'age': 12, 'Salary': 12},\n",
       " 'emp_8': {'name': 'abc', 'age': 45, 'Salary': 3456},\n",
       " 'emp_9': {'name': 'qa', 'age': 12, 'Salary': 12},\n",
       " 'emp_10': {'name': 'rt', 'age': 34, 'Salary': 56},\n",
       " 'emp_11': {'name': 'abc', 'age': 12, 'Salary': 12},\n",
       " 'emp_12': {'name': 'yu', 'age': 67, 'Salary': 67}}"
      ]
     },
     "execution_count": 28,
     "metadata": {},
     "output_type": "execute_result"
    }
   ],
   "source": [
    "key = f\"emp_{len(emp_data)+1}\"\n",
    "\n",
    "a = input('Enter the name : ')\n",
    "b = eval(input('Enter the age : '))\n",
    "c = eval(input('Enter the salary : '))\n",
    "\n",
    "emp_data.update({key : {'name' :a , 'age':b , 'Salary' : c}})\n",
    "emp_data"
   ]
  },
  {
   "cell_type": "code",
   "execution_count": 56,
   "id": "76e8590e-d0c0-41c6-9b26-465d430f6a29",
   "metadata": {},
   "outputs": [],
   "source": [
    "emp_data = { \n",
    "             'emp_1' : {'name' :'Salahudin' , 'age':34 , 'Salary' : 343434} , \n",
    "            'emp_2' : {'name' :'Vijay' , 'age':23 , 'Salary' : 564754645} , \n",
    "            'emp_3' : {'name' :'Abdul' , 'age':54 , 'Salary' : 45345345} , \n",
    "            'emp_4' : {'name' :'Abhijeet' , 'age':28 , 'Salary' : 34534534} \n",
    "           }"
   ]
  },
  {
   "cell_type": "code",
   "execution_count": 55,
   "id": "fc649035-2354-4ef8-9e33-599987f0b83a",
   "metadata": {},
   "outputs": [
    {
     "name": "stdin",
     "output_type": "stream",
     "text": [
      "Please enter name: xyz\n",
      "Please enter age: 32\n",
      "Please enter salary 34545\n"
     ]
    },
    {
     "data": {
      "text/plain": [
       "{'emp_1': {'name': 'Salahudin', 'age': 34, 'Salary': 343434},\n",
       " 'emp_2': {'name': 'Vijay', 'age': 23, 'Salary': 564754645},\n",
       " 'emp_4': {'name': 'Abhijeet', 'age': 28, 'Salary': 34534534},\n",
       " 'emp_3': {'name': 'xyz', 'age': 32, 'Salary': 34545}}"
      ]
     },
     "execution_count": 55,
     "metadata": {},
     "output_type": "execute_result"
    }
   ],
   "source": [
    "# by student , if in previous emp_3 is missing then?\n",
    "# doubt ??\n",
    "\n",
    "\n",
    "name = input(\"Please enter name:\")\n",
    "age = eval(input(\"Please enter age:\"))\n",
    "salary = eval(input(\"Please enter salary\"))\n",
    "\n",
    "startIndex = 1\n",
    "isComplete = False\n",
    "while ( not isComplete):\n",
    "    if emp_data.get('emp_' + str(startIndex)) == None:\n",
    "        isComplete = True\n",
    "    else:\n",
    "        startIndex += 1\n",
    "\n",
    "\n",
    "emp_data.update({('emp_' + str(startIndex)):{'name':name,'age':age,'Salary':salary}})\n",
    "emp_data\n"
   ]
  },
  {
   "cell_type": "markdown",
   "id": "d4107569-4499-448b-934f-54fc48984fcd",
   "metadata": {},
   "source": [
    "# Methods to remove the items\n",
    "\n",
    "- pop\n",
    "- popitem"
   ]
  },
  {
   "cell_type": "code",
   "execution_count": 65,
   "id": "2289dd44-92e8-49cd-8a74-f5d58ad126de",
   "metadata": {},
   "outputs": [
    {
     "name": "stdout",
     "output_type": "stream",
     "text": [
      "['__class__', '__class_getitem__', '__contains__', '__delattr__', '__delitem__', '__dir__', '__doc__', '__eq__', '__format__', '__ge__', '__getattribute__', '__getitem__', '__getstate__', '__gt__', '__hash__', '__init__', '__init_subclass__', '__ior__', '__iter__', '__le__', '__len__', '__lt__', '__ne__', '__new__', '__or__', '__reduce__', '__reduce_ex__', '__repr__', '__reversed__', '__ror__', '__setattr__', '__setitem__', '__sizeof__', '__str__', '__subclasshook__', 'clear', 'copy', 'fromkeys', 'get', 'items', 'keys', 'pop', 'popitem', 'setdefault', 'update', 'values']\n"
     ]
    }
   ],
   "source": [
    "print(dir(dict))"
   ]
  },
  {
   "cell_type": "code",
   "execution_count": null,
   "id": "a6591b6e-e130-4301-afa2-8bb53cda6339",
   "metadata": {},
   "outputs": [],
   "source": [
    "# Pop\n",
    "\n",
    "- it remove the items according to the keys\n",
    "- It return you the value of the item it has removed"
   ]
  },
  {
   "cell_type": "code",
   "execution_count": 69,
   "id": "9164a01c-9858-4f22-a5e9-f4ec682616f2",
   "metadata": {},
   "outputs": [
    {
     "data": {
      "text/plain": [
       "{'name': 'Abdul', 'age': 54, 'Salary': 45345345}"
      ]
     },
     "execution_count": 69,
     "metadata": {},
     "output_type": "execute_result"
    }
   ],
   "source": [
    "#\n",
    "\n",
    "emp_data = { \n",
    "             'emp_1' : {'name' :'Salahudin' , 'age':34 , 'Salary' : 343434} , \n",
    "            'emp_2' : {'name' :'Vijay' , 'age':23 , 'Salary' : 564754645} , \n",
    "            'emp_3' : {'name' :'Abdul' , 'age':54 , 'Salary' : 45345345} , \n",
    "            'emp_4' : {'name' :'Abhijeet' , 'age':28 , 'Salary' : 34534534} \n",
    "           }\n",
    "\n",
    "emp_data.pop('emp_3')"
   ]
  },
  {
   "cell_type": "code",
   "execution_count": 68,
   "id": "92207c98-afc6-47ba-8657-cfbf230116e6",
   "metadata": {},
   "outputs": [
    {
     "data": {
      "text/plain": [
       "{'emp_1': {'name': 'Salahudin', 'age': 34, 'Salary': 343434},\n",
       " 'emp_2': {'name': 'Vijay', 'age': 23, 'Salary': 564754645},\n",
       " 'emp_4': {'name': 'Abhijeet', 'age': 28, 'Salary': 34534534}}"
      ]
     },
     "execution_count": 68,
     "metadata": {},
     "output_type": "execute_result"
    }
   ],
   "source": [
    "emp_data"
   ]
  },
  {
   "cell_type": "code",
   "execution_count": 70,
   "id": "b5ac10c9-c058-4827-aceb-7f4936997f3b",
   "metadata": {},
   "outputs": [
    {
     "ename": "KeyError",
     "evalue": "'emp_35'",
     "output_type": "error",
     "traceback": [
      "\u001b[1;31m---------------------------------------------------------------------------\u001b[0m",
      "\u001b[1;31mKeyError\u001b[0m                                  Traceback (most recent call last)",
      "Cell \u001b[1;32mIn[70], line 10\u001b[0m\n\u001b[0;32m      1\u001b[0m \u001b[38;5;66;03m#\u001b[39;00m\n\u001b[0;32m      3\u001b[0m emp_data \u001b[38;5;241m=\u001b[39m { \n\u001b[0;32m      4\u001b[0m              \u001b[38;5;124m'\u001b[39m\u001b[38;5;124memp_1\u001b[39m\u001b[38;5;124m'\u001b[39m : {\u001b[38;5;124m'\u001b[39m\u001b[38;5;124mname\u001b[39m\u001b[38;5;124m'\u001b[39m :\u001b[38;5;124m'\u001b[39m\u001b[38;5;124mSalahudin\u001b[39m\u001b[38;5;124m'\u001b[39m , \u001b[38;5;124m'\u001b[39m\u001b[38;5;124mage\u001b[39m\u001b[38;5;124m'\u001b[39m:\u001b[38;5;241m34\u001b[39m , \u001b[38;5;124m'\u001b[39m\u001b[38;5;124mSalary\u001b[39m\u001b[38;5;124m'\u001b[39m : \u001b[38;5;241m343434\u001b[39m} , \n\u001b[0;32m      5\u001b[0m             \u001b[38;5;124m'\u001b[39m\u001b[38;5;124memp_2\u001b[39m\u001b[38;5;124m'\u001b[39m : {\u001b[38;5;124m'\u001b[39m\u001b[38;5;124mname\u001b[39m\u001b[38;5;124m'\u001b[39m :\u001b[38;5;124m'\u001b[39m\u001b[38;5;124mVijay\u001b[39m\u001b[38;5;124m'\u001b[39m , \u001b[38;5;124m'\u001b[39m\u001b[38;5;124mage\u001b[39m\u001b[38;5;124m'\u001b[39m:\u001b[38;5;241m23\u001b[39m , \u001b[38;5;124m'\u001b[39m\u001b[38;5;124mSalary\u001b[39m\u001b[38;5;124m'\u001b[39m : \u001b[38;5;241m564754645\u001b[39m} , \n\u001b[0;32m      6\u001b[0m             \u001b[38;5;124m'\u001b[39m\u001b[38;5;124memp_3\u001b[39m\u001b[38;5;124m'\u001b[39m : {\u001b[38;5;124m'\u001b[39m\u001b[38;5;124mname\u001b[39m\u001b[38;5;124m'\u001b[39m :\u001b[38;5;124m'\u001b[39m\u001b[38;5;124mAbdul\u001b[39m\u001b[38;5;124m'\u001b[39m , \u001b[38;5;124m'\u001b[39m\u001b[38;5;124mage\u001b[39m\u001b[38;5;124m'\u001b[39m:\u001b[38;5;241m54\u001b[39m , \u001b[38;5;124m'\u001b[39m\u001b[38;5;124mSalary\u001b[39m\u001b[38;5;124m'\u001b[39m : \u001b[38;5;241m45345345\u001b[39m} , \n\u001b[0;32m      7\u001b[0m             \u001b[38;5;124m'\u001b[39m\u001b[38;5;124memp_4\u001b[39m\u001b[38;5;124m'\u001b[39m : {\u001b[38;5;124m'\u001b[39m\u001b[38;5;124mname\u001b[39m\u001b[38;5;124m'\u001b[39m :\u001b[38;5;124m'\u001b[39m\u001b[38;5;124mAbhijeet\u001b[39m\u001b[38;5;124m'\u001b[39m , \u001b[38;5;124m'\u001b[39m\u001b[38;5;124mage\u001b[39m\u001b[38;5;124m'\u001b[39m:\u001b[38;5;241m28\u001b[39m , \u001b[38;5;124m'\u001b[39m\u001b[38;5;124mSalary\u001b[39m\u001b[38;5;124m'\u001b[39m : \u001b[38;5;241m34534534\u001b[39m} \n\u001b[0;32m      8\u001b[0m            }\n\u001b[1;32m---> 10\u001b[0m emp_data\u001b[38;5;241m.\u001b[39mpop(\u001b[38;5;124m'\u001b[39m\u001b[38;5;124memp_35\u001b[39m\u001b[38;5;124m'\u001b[39m)\n",
      "\u001b[1;31mKeyError\u001b[0m: 'emp_35'"
     ]
    }
   ],
   "source": [
    "#\n",
    "\n",
    "emp_data = { \n",
    "             'emp_1' : {'name' :'Salahudin' , 'age':34 , 'Salary' : 343434} , \n",
    "            'emp_2' : {'name' :'Vijay' , 'age':23 , 'Salary' : 564754645} , \n",
    "            'emp_3' : {'name' :'Abdul' , 'age':54 , 'Salary' : 45345345} , \n",
    "            'emp_4' : {'name' :'Abhijeet' , 'age':28 , 'Salary' : 34534534} \n",
    "           }\n",
    "\n",
    "emp_data.pop('emp_35')"
   ]
  },
  {
   "cell_type": "code",
   "execution_count": 74,
   "id": "ddac3ee5-b3cd-47e2-be8b-ce540a1b443b",
   "metadata": {},
   "outputs": [
    {
     "data": {
      "text/plain": [
       "'custom message'"
      ]
     },
     "execution_count": 74,
     "metadata": {},
     "output_type": "execute_result"
    }
   ],
   "source": [
    "#\n",
    "\n",
    "emp_data = { \n",
    "             'emp_1' : {'name' :'Salahudin' , 'age':34 , 'Salary' : 343434} , \n",
    "            'emp_2' : {'name' :'Vijay' , 'age':23 , 'Salary' : 564754645} , \n",
    "            'emp_3' : {'name' :'Abdul' , 'age':54 , 'Salary' : 45345345} , \n",
    "            'emp_4' : {'name' :'Abhijeet' , 'age':28 , 'Salary' : 34534534} \n",
    "           }\n",
    "\n",
    "emp_data.pop('emp_73' , 'custom message')"
   ]
  },
  {
   "cell_type": "code",
   "execution_count": 73,
   "id": "35e59bda-d0cc-4e95-a21e-63b575ed57da",
   "metadata": {},
   "outputs": [
    {
     "data": {
      "text/plain": [
       "{'emp_1': {'name': 'Salahudin', 'age': 34, 'Salary': 343434},\n",
       " 'emp_2': {'name': 'Vijay', 'age': 23, 'Salary': 564754645},\n",
       " 'emp_4': {'name': 'Abhijeet', 'age': 28, 'Salary': 34534534}}"
      ]
     },
     "execution_count": 73,
     "metadata": {},
     "output_type": "execute_result"
    }
   ],
   "source": [
    "emp_data"
   ]
  },
  {
   "cell_type": "markdown",
   "id": "a1f09ca7-c142-48bb-a2ae-16cd39e9d4a8",
   "metadata": {},
   "source": [
    "# popitems\n",
    "- Returns and removes the key-value pair from the dictionary\n",
    "- The item returned by popitem() is not necessarily the last item inserted into the dictionary. The choice of which item to remove is arbitrary and implementation-dependent."
   ]
  },
  {
   "cell_type": "code",
   "execution_count": 34,
   "id": "3381b3c4-34c0-40fa-9baa-ac4a9732e050",
   "metadata": {},
   "outputs": [
    {
     "data": {
      "text/plain": [
       "{'emp_1': {'name': 'Salahudin', 'age': 34, 'Salary': 343434},\n",
       " 'emp_2': {'name': 'Vijay', 'age': 23, 'Salary': 564754645},\n",
       " 'emp_3': {'name': 'Abdul', 'age': 54, 'Salary': 45345345},\n",
       " 'emp_4': {'name': 'Abhijeet', 'age': 28, 'Salary': 34534534}}"
      ]
     },
     "execution_count": 34,
     "metadata": {},
     "output_type": "execute_result"
    }
   ],
   "source": [
    "#\n",
    "\n",
    "emp_data = { \n",
    "             'emp_1' : {'name' :'Salahudin' , 'age':34 , 'Salary' : 343434} , \n",
    "            'emp_2' : {'name' :'Vijay' , 'age':23 , 'Salary' : 564754645} , \n",
    "            'emp_3' : {'name' :'Abdul' , 'age':54 , 'Salary' : 45345345} , \n",
    "            'emp_4' : {'name' :'Abhijeet' , 'age':28 , 'Salary' : 34534534}, \n",
    "            'emp_5' : {'name' :'Abhijeet' , 'age':28 , 'Salary' : 34534534} \n",
    "           }\n",
    "\n",
    "emp_data.popitem()\n",
    "\n",
    "emp_data"
   ]
  },
  {
   "cell_type": "markdown",
   "id": "bd35d009-99b9-40bb-b5ea-d1e7c72166bf",
   "metadata": {},
   "source": [
    "# Task 2"
   ]
  },
  {
   "cell_type": "code",
   "execution_count": 2,
   "id": "8e64d452-0317-490e-bb27-ed665d59374e",
   "metadata": {},
   "outputs": [
    {
     "name": "stdout",
     "output_type": "stream",
     "text": [
      "Enter the emp id : emp_4\n"
     ]
    },
    {
     "data": {
      "text/plain": [
       "{'name': 'Abhijeet', 'age': 28, 'Salary': 34534534}"
      ]
     },
     "execution_count": 2,
     "metadata": {},
     "output_type": "execute_result"
    }
   ],
   "source": [
    "# you have to remove data from existing_emp and then to collect removed data into another variable\n",
    "existing_emp = {'emp_1': {'name': 'Salahudin', 'age': 34, 'Salary': 343434},\n",
    " 'emp_2': {'name': 'Vijay', 'age': 23, 'Salary': 564754645},\n",
    " 'emp_3': {'name': 'Abdul', 'age': 54, 'Salary': 45345345},\n",
    " 'emp_4': {'name': 'Abhijeet', 'age': 28, 'Salary': 34534534},\n",
    " 'emp_5': {'name': 'xyz', 'age': 32, 'Salary': 54534534},\n",
    " 'emp_6': {'name': 'abc', 'age': 65, 'Salary': 343534534},\n",
    " 'emp_7': {'name': 'pqr', 'age': 56, 'Salary': 34534534}}\n",
    "\n",
    "ex_emp = {}\n",
    "a = input('Enter the emp id : ')\n",
    "ex_emp.setdefault(a , existing_emp.pop(a))\n",
    "\n",
    "#ex_emp.pop('emp_3')\n",
    "\n",
    "# ex_emp[a] = {a : existing_emp.pop(a)}\n",
    "\n",
    "#ex_emp.update({a : existing_emp.pop(a)})"
   ]
  },
  {
   "cell_type": "code",
   "execution_count": 44,
   "id": "76d1e648-00e2-4bc0-b5eb-3dbba21f882e",
   "metadata": {},
   "outputs": [
    {
     "data": {
      "text/plain": [
       "{'emp_1': {'name': 'Salahudin', 'age': 34, 'Salary': 343434},\n",
       " 'emp_2': {'name': 'Vijay', 'age': 23, 'Salary': 564754645},\n",
       " 'emp_3': {'name': 'Abdul', 'age': 54, 'Salary': 45345345},\n",
       " 'emp_4': {'name': 'Abhijeet', 'age': 28, 'Salary': 34534534},\n",
       " 'emp_5': {'name': 'xyz', 'age': 32, 'Salary': 54534534},\n",
       " 'emp_6': {'name': 'abc', 'age': 65, 'Salary': 343534534},\n",
       " 'emp_7': {'name': 'pqr', 'age': 56, 'Salary': 34534534}}"
      ]
     },
     "execution_count": 44,
     "metadata": {},
     "output_type": "execute_result"
    }
   ],
   "source": [
    "existing_emp"
   ]
  },
  {
   "cell_type": "code",
   "execution_count": 46,
   "id": "5a6ca4ce-df99-4593-85bb-1c9b758f33fc",
   "metadata": {},
   "outputs": [
    {
     "data": {
      "text/plain": [
       "{}"
      ]
     },
     "execution_count": 46,
     "metadata": {},
     "output_type": "execute_result"
    }
   ],
   "source": [
    "ex_emp"
   ]
  },
  {
   "cell_type": "code",
   "execution_count": 54,
   "id": "45a68ea9",
   "metadata": {},
   "outputs": [
    {
     "data": {
      "text/plain": [
       "{'emp_1': {'name': 'Salahudin', 'age': 34, 'Salary': 343434},\n",
       " 'emp_2': {'name': 'Vijay', 'age': 23, 'Salary': 564754645},\n",
       " 'emp_4': {'name': 'Abhijeet', 'age': 28, 'Salary': 34534534},\n",
       " 'emp_5': {'name': 'xyz', 'age': 32, 'Salary': 54534534},\n",
       " 'emp_6': {'name': 'abc', 'age': 65, 'Salary': 343534534},\n",
       " 'emp_7': {'name': 'pqr', 'age': 56, 'Salary': 34534534}}"
      ]
     },
     "execution_count": 54,
     "metadata": {},
     "output_type": "execute_result"
    }
   ],
   "source": [
    "# you have to remove data from existing_emp and then to collect removed data into another variable\n",
    "existing_emp = {'emp_1': {'name': 'Salahudin', 'age': 34, 'Salary': 343434},\n",
    " 'emp_2': {'name': 'Vijay', 'age': 23, 'Salary': 564754645},\n",
    " 'emp_3': {'name': 'Abdul', 'age': 54, 'Salary': 45345345},\n",
    " 'emp_4': {'name': 'Abhijeet', 'age': 28, 'Salary': 34534534},\n",
    " 'emp_5': {'name': 'xyz', 'age': 32, 'Salary': 54534534},\n",
    " 'emp_6': {'name': 'abc', 'age': 65, 'Salary': 343534534},\n",
    " 'emp_7': {'name': 'pqr', 'age': 56, 'Salary': 34534534}}\n",
    "\n",
    "ex_emp = {}\n",
    "a=existing_emp.pop('emp_3')\n",
    "ex_emp.setdefault('emp_3',a)\n",
    "\n",
    "existing_emp\n",
    "\n",
    "#ex_emp.pop('emp_3')"
   ]
  },
  {
   "cell_type": "code",
   "execution_count": 51,
   "id": "0f1f479d",
   "metadata": {},
   "outputs": [
    {
     "data": {
      "text/plain": [
       "{'emp_3': {'name': 'Abdul', 'age': 54, 'Salary': 45345345}}"
      ]
     },
     "execution_count": 51,
     "metadata": {},
     "output_type": "execute_result"
    }
   ],
   "source": [
    "ex_emp "
   ]
  },
  {
   "cell_type": "markdown",
   "id": "bc282333-d1f3-4b6a-9e04-80210ade8c45",
   "metadata": {},
   "source": [
    "# keys , values , items"
   ]
  },
  {
   "cell_type": "code",
   "execution_count": 59,
   "id": "1713cb7d",
   "metadata": {},
   "outputs": [
    {
     "name": "stdout",
     "output_type": "stream",
     "text": [
      "emp_1\n",
      "emp_2\n",
      "emp_3\n",
      "emp_4\n",
      "emp_5\n",
      "emp_6\n",
      "emp_7\n"
     ]
    }
   ],
   "source": [
    "existing_emp = {'emp_1': {'name': 'Salahudin', 'age': 34, 'Salary': 343434},\n",
    " 'emp_2': {'name': 'Vijay', 'age': 23, 'Salary': 564754645},\n",
    " 'emp_3': {'name': 'Abdul', 'age': 54, 'Salary': 45345345},\n",
    " 'emp_4': {'name': 'Abhijeet', 'age': 28, 'Salary': 34534534},\n",
    " 'emp_5': {'name': 'xyz', 'age': 32, 'Salary': 54534534},\n",
    " 'emp_6': {'name': 'abc', 'age': 65, 'Salary': 343534534},\n",
    " 'emp_7': {'name': 'pqr', 'age': 56, 'Salary': 34534534}}\n",
    "\n",
    "for i in existing_emp:\n",
    "        print(i)\n"
   ]
  },
  {
   "cell_type": "code",
   "execution_count": 60,
   "id": "fa8af1dd",
   "metadata": {},
   "outputs": [
    {
     "name": "stdout",
     "output_type": "stream",
     "text": [
      "dict_keys(['brand', 'model', 'year'])\n"
     ]
    }
   ],
   "source": [
    "car = {\n",
    "  \"brand\": \"Ford\",\n",
    "  \"model\": \"Mustang\",\n",
    "  \"year\": 1964\n",
    "}\n",
    "\n",
    "x = car.keys()\n",
    "\n",
    "print(x)\n",
    "#The keys() method returns a view object.\n",
    "#The view object contains the keys of the dictionary, as a list.\n"
   ]
  },
  {
   "cell_type": "code",
   "execution_count": 3,
   "id": "530dca38-5338-497f-b901-0b3b444bb7fc",
   "metadata": {},
   "outputs": [
    {
     "name": "stdout",
     "output_type": "stream",
     "text": [
      "emp_3\n",
      "emp_4\n",
      "emp_6\n"
     ]
    },
    {
     "data": {
      "text/plain": [
       "{'emp_1': {'name': 'Salahudin', 'age': 34, 'Salary': 343434},\n",
       " 'emp_2': {'name': 'Vijay', 'age': 23, 'Salary': 564754645},\n",
       " 'emp_3': {'name': 'Abdul', 'age': 54, 'Salary': 45345345},\n",
       " 'emp_4': {'name': 'Abhijeet', 'age': 28, 'Salary': 34534534},\n",
       " 'emp_5': {'name': 'xyz', 'age': 32, 'Salary': 54534534},\n",
       " 'emp_6': {'name': 'abc', 'age': 65, 'Salary': 343534534},\n",
       " 'emp_7': {'name': 'pqr', 'age': 56, 'Salary': 34534534}}"
      ]
     },
     "execution_count": 3,
     "metadata": {},
     "output_type": "execute_result"
    }
   ],
   "source": [
    "# DOUBT------------------------\n",
    "\n",
    "existing_emp = {'emp_1': {'name': 'Salahudin', 'age': 34, 'Salary': 343434},\n",
    " 'emp_2': {'name': 'Vijay', 'age': 23, 'Salary': 564754645},\n",
    " 'emp_3': {'name': 'Abdul', 'age': 54, 'Salary': 45345345},\n",
    " 'emp_4': {'name': 'Abhijeet', 'age': 28, 'Salary': 34534534},\n",
    " 'emp_5': {'name': 'xyz', 'age': 32, 'Salary': 54534534},\n",
    " 'emp_6': {'name': 'abc', 'age': 65, 'Salary': 343534534},\n",
    " 'emp_7': {'name': 'pqr', 'age': 56, 'Salary': 34534534}}\n",
    "\n",
    "# Print the emp_id of those persons whose names are starting with a or A\n",
    "\n",
    "for i in existing_emp.keys():\n",
    "    if existing_emp[i]['name'][0].lower() == 'a': # fine\n",
    "    #if existing_emp[i]['name'][0] == 'a' or 'A': # all are printing why\n",
    "        print(i)\n",
    "        #print(existing_emp)\n",
    "        \n",
    "existing_emp     "
   ]
  },
  {
   "cell_type": "code",
   "execution_count": 70,
   "id": "7895dec6",
   "metadata": {},
   "outputs": [
    {
     "name": "stdout",
     "output_type": "stream",
     "text": [
      "dict_values(['Ford', 'Mustang', 1964])\n"
     ]
    }
   ],
   "source": [
    "#The values() method returns a view object. The view object \n",
    "#contains the values of the dictionary, as a list.\n",
    "\n",
    "car = {\n",
    "  \"brand\": \"Ford\",\n",
    "  \"model\": \"Mustang\",\n",
    "  \"year\": 1964\n",
    "}\n",
    "\n",
    "x = car.values()\n",
    "\n",
    "print(x)"
   ]
  },
  {
   "cell_type": "code",
   "execution_count": 73,
   "id": "0fafe54a",
   "metadata": {},
   "outputs": [
    {
     "name": "stdout",
     "output_type": "stream",
     "text": [
      "dict_values(['Ford', 'Mustang', 2018])\n"
     ]
    }
   ],
   "source": [
    "#When a values is changed in the dictionary, the view object also gets updated:\n",
    "car = {\n",
    "  \"brand\": \"Ford\",\n",
    "  \"model\": \"Mustang\",\n",
    "  \"year\": 1964\n",
    "}\n",
    "\n",
    "x = car.values()\n",
    "\n",
    "car[\"year\"] = 2018\n",
    "\n",
    "print(x)"
   ]
  },
  {
   "cell_type": "code",
   "execution_count": 72,
   "id": "6bc63d3f-34c1-4305-b444-05738f51abe3",
   "metadata": {},
   "outputs": [
    {
     "name": "stdout",
     "output_type": "stream",
     "text": [
      "Abdul\n",
      "Abhijeet\n",
      "abc\n"
     ]
    }
   ],
   "source": [
    "# DOUBT------------------------\n",
    "\n",
    "existing_emp = {'emp_1': {'name': 'Salahudin', 'age': 34, 'Salary': 343434},\n",
    " 'emp_2': {'name': 'Vijay', 'age': 23, 'Salary': 564754645},\n",
    " 'emp_3': {'name': 'Abdul', 'age': 54, 'Salary': 45345345},\n",
    " 'emp_4': {'name': 'Abhijeet', 'age': 28, 'Salary': 34534534},\n",
    " 'emp_5': {'name': 'xyz', 'age': 32, 'Salary': 54534534},\n",
    " 'emp_6': {'name': 'abc', 'age': 65, 'Salary': 343534534},\n",
    " 'emp_7': {'name': 'pqr', 'age': 56, 'Salary': 34534534}}\n",
    "\n",
    "# Print the name of those persons whose names are starting with a or A\n",
    "\n",
    "for i in existing_emp.values():\n",
    "    if i['name'][0].lower() == 'a':# fine\n",
    "    #if i['name'][0] == 'a' or 'A':\n",
    "        print(i['name'])"
   ]
  },
  {
   "cell_type": "code",
   "execution_count": 74,
   "id": "9c69f850",
   "metadata": {},
   "outputs": [
    {
     "name": "stdout",
     "output_type": "stream",
     "text": [
      "dict_items([('brand', 'Ford'), ('model', 'Mustang'), ('year', 1964)])\n"
     ]
    }
   ],
   "source": [
    "#Return the dictionary's key-value pairs:\n",
    "\n",
    "car = {\n",
    "  \"brand\": \"Ford\",\n",
    "  \"model\": \"Mustang\",\n",
    "  \"year\": 1964\n",
    "}\n",
    "\n",
    "x = car.items()\n",
    "\n",
    "print(x)"
   ]
  },
  {
   "cell_type": "code",
   "execution_count": 120,
   "id": "ff7959b5-1971-4e7e-839b-0f1d4a71ec45",
   "metadata": {},
   "outputs": [
    {
     "name": "stdout",
     "output_type": "stream",
     "text": [
      "Abdul emp_3\n",
      "Abhijeet emp_4\n",
      "abc emp_6\n"
     ]
    }
   ],
   "source": [
    "existing_emp = {'emp_1': {'name': 'Salahudin', 'age': 34, 'Salary': 343434},\n",
    " 'emp_2': {'name': 'Vijay', 'age': 23, 'Salary': 564754645},\n",
    " 'emp_3': {'name': 'Abdul', 'age': 54, 'Salary': 45345345},\n",
    " 'emp_4': {'name': 'Abhijeet', 'age': 28, 'Salary': 34534534},\n",
    " 'emp_5': {'name': 'xyz', 'age': 32, 'Salary': 54534534},\n",
    " 'emp_6': {'name': 'abc', 'age': 65, 'Salary': 343534534},\n",
    " 'emp_7': {'name': 'pqr', 'age': 56, 'Salary': 34534534}}\n",
    "\n",
    "# Print the emp_id and the names of those persons whose names are starting with a or A\n",
    "# i for key, j for value\n",
    "\n",
    "for i,j in existing_emp.items():\n",
    "    if j['name'][0].lower() == 'a':\n",
    "        print(j['name'] , i)"
   ]
  },
  {
   "cell_type": "code",
   "execution_count": 75,
   "id": "962d06fa-b008-46e5-8ca7-4353036c6994",
   "metadata": {},
   "outputs": [
    {
     "name": "stdout",
     "output_type": "stream",
     "text": [
      "['__class__', '__class_getitem__', '__contains__', '__delattr__', '__delitem__', '__dir__', '__doc__', '__eq__', '__format__', '__ge__', '__getattribute__', '__getitem__', '__gt__', '__hash__', '__init__', '__init_subclass__', '__ior__', '__iter__', '__le__', '__len__', '__lt__', '__ne__', '__new__', '__or__', '__reduce__', '__reduce_ex__', '__repr__', '__reversed__', '__ror__', '__setattr__', '__setitem__', '__sizeof__', '__str__', '__subclasshook__', 'clear', 'copy', 'fromkeys', 'get', 'items', 'keys', 'pop', 'popitem', 'setdefault', 'update', 'values']\n"
     ]
    }
   ],
   "source": [
    "print(dir(dict))"
   ]
  },
  {
   "cell_type": "markdown",
   "id": "e77f2ee2-1435-4d8d-9292-87ac3d4ba0a7",
   "metadata": {},
   "source": [
    "# copy"
   ]
  },
  {
   "cell_type": "code",
   "execution_count": 76,
   "id": "bbf0f3a4",
   "metadata": {},
   "outputs": [
    {
     "name": "stdout",
     "output_type": "stream",
     "text": [
      "['apple', 'banana', 'cherry']\n"
     ]
    }
   ],
   "source": [
    "#The copy() method returns a copy of the specified list\n",
    "\n",
    "fruits = [\"apple\", \"banana\", \"cherry\"]\n",
    "\n",
    "x = fruits.copy()\n",
    "\n",
    "print(x)"
   ]
  },
  {
   "cell_type": "code",
   "execution_count": 121,
   "id": "27838308-dfc3-4186-958c-9376cdf07b3d",
   "metadata": {},
   "outputs": [],
   "source": [
    "existing_emp = {'emp_1': {'name': 'Salahudin', 'age': 34, 'Salary': 343434},\n",
    " 'emp_2': {'name': 'Vijay', 'age': 23, 'Salary': 564754645},\n",
    " 'emp_3': {'name': 'Abdul', 'age': 54, 'Salary': 45345345},\n",
    " 'emp_4': {'name': 'Abhijeet', 'age': 28, 'Salary': 34534534},\n",
    " 'emp_5': {'name': 'xyz', 'age': 32, 'Salary': 54534534},\n",
    " 'emp_6': {'name': 'abc', 'age': 65, 'Salary': 343534534},\n",
    " 'emp_7': {'name': 'pqr', 'age': 56, 'Salary': 34534534}}\n",
    "\n",
    "\n",
    "a = existing_emp.copy()"
   ]
  },
  {
   "cell_type": "code",
   "execution_count": 124,
   "id": "2fb28cfc-f5cc-4289-9375-814e25250e81",
   "metadata": {},
   "outputs": [],
   "source": [
    "a['emp_1']['age'] = 99999999"
   ]
  },
  {
   "cell_type": "code",
   "execution_count": 125,
   "id": "efaf2344-c770-477c-8720-fa08e278f43e",
   "metadata": {},
   "outputs": [
    {
     "data": {
      "text/plain": [
       "{'emp_1': {'name': 'Salahudin', 'age': 99999999, 'Salary': 343434},\n",
       " 'emp_2': {'name': 'Vijay', 'age': 23, 'Salary': 564754645},\n",
       " 'emp_3': {'name': 'Abdul', 'age': 54, 'Salary': 45345345},\n",
       " 'emp_4': {'name': 'Abhijeet', 'age': 28, 'Salary': 34534534},\n",
       " 'emp_5': {'name': 'xyz', 'age': 32, 'Salary': 54534534},\n",
       " 'emp_6': {'name': 'abc', 'age': 65, 'Salary': 343534534},\n",
       " 'emp_7': {'name': 'pqr', 'age': 56, 'Salary': 34534534}}"
      ]
     },
     "execution_count": 125,
     "metadata": {},
     "output_type": "execute_result"
    }
   ],
   "source": [
    "a"
   ]
  },
  {
   "cell_type": "code",
   "execution_count": 126,
   "id": "c4f23987-51b2-4345-95e4-ce52f8ce3b75",
   "metadata": {},
   "outputs": [
    {
     "data": {
      "text/plain": [
       "{'emp_1': {'name': 'Salahudin', 'age': 99999999, 'Salary': 343434},\n",
       " 'emp_2': {'name': 'Vijay', 'age': 23, 'Salary': 564754645},\n",
       " 'emp_3': {'name': 'Abdul', 'age': 54, 'Salary': 45345345},\n",
       " 'emp_4': {'name': 'Abhijeet', 'age': 28, 'Salary': 34534534},\n",
       " 'emp_5': {'name': 'xyz', 'age': 32, 'Salary': 54534534},\n",
       " 'emp_6': {'name': 'abc', 'age': 65, 'Salary': 343534534},\n",
       " 'emp_7': {'name': 'pqr', 'age': 56, 'Salary': 34534534}}"
      ]
     },
     "execution_count": 126,
     "metadata": {},
     "output_type": "execute_result"
    }
   ],
   "source": [
    "existing_emp"
   ]
  },
  {
   "cell_type": "markdown",
   "id": "ea0c2586-1e78-47e4-a07d-fc8851da3952",
   "metadata": {},
   "source": [
    "# Clear \n",
    "- The clear() function in Python removes all elements from a list"
   ]
  },
  {
   "cell_type": "code",
   "execution_count": 128,
   "id": "61ac013c-c3bb-4bb9-95f9-4f615f956c77",
   "metadata": {},
   "outputs": [],
   "source": [
    "existing_emp.clear()"
   ]
  },
  {
   "cell_type": "code",
   "execution_count": 130,
   "id": "ec64f0a9-db28-4c05-ae2e-04945501ba0f",
   "metadata": {},
   "outputs": [
    {
     "data": {
      "text/plain": [
       "{}"
      ]
     },
     "execution_count": 130,
     "metadata": {},
     "output_type": "execute_result"
    }
   ],
   "source": [
    "existing_emp"
   ]
  },
  {
   "cell_type": "code",
   "execution_count": 131,
   "id": "12ec598b-f293-49be-b3f1-bb009066173b",
   "metadata": {},
   "outputs": [],
   "source": [
    "del existing_emp"
   ]
  },
  {
   "cell_type": "code",
   "execution_count": 132,
   "id": "1d7a671a-40de-4ed1-9e8a-ba87672c98a8",
   "metadata": {},
   "outputs": [
    {
     "ename": "NameError",
     "evalue": "name 'existing_emp' is not defined",
     "output_type": "error",
     "traceback": [
      "\u001b[1;31m---------------------------------------------------------------------------\u001b[0m",
      "\u001b[1;31mNameError\u001b[0m                                 Traceback (most recent call last)",
      "Cell \u001b[1;32mIn[132], line 1\u001b[0m\n\u001b[1;32m----> 1\u001b[0m existing_emp\n",
      "\u001b[1;31mNameError\u001b[0m: name 'existing_emp' is not defined"
     ]
    }
   ],
   "source": [
    "existing_emp"
   ]
  },
  {
   "cell_type": "code",
   "execution_count": 77,
   "id": "4884a904-2055-43c6-9c87-31ac8491dabc",
   "metadata": {},
   "outputs": [],
   "source": [
    "existing_emp = {'emp_1': {'name': 'Salahudin', 'age': 34, 'Salary': 343434},\n",
    " 'emp_2': {'name': 'Vijay', 'age': 23, 'Salary': 564754645},\n",
    " 'emp_3': {'name': 'Abdul', 'age': 54, 'Salary': 45345345},\n",
    " 'emp_4': {'name': 'Abhijeet', 'age': 28, 'Salary': 34534534},\n",
    " 'emp_5': {'name': 'xyz', 'age': 32, 'Salary': 54534534},\n",
    " 'emp_6': {'name': 'abc', 'age': 65, 'Salary': 343534534},\n",
    " 'emp_7': {'name': 'pqr', 'age': 56, 'Salary': 34534534}}"
   ]
  },
  {
   "cell_type": "code",
   "execution_count": 78,
   "id": "34d485af-9ddb-4e48-8648-59ab7559c3e1",
   "metadata": {},
   "outputs": [],
   "source": [
    "del existing_emp['emp_5']"
   ]
  },
  {
   "cell_type": "code",
   "execution_count": 136,
   "id": "22c6ace3-4b00-4d09-ae0c-1fad9b0bf980",
   "metadata": {},
   "outputs": [
    {
     "data": {
      "text/plain": [
       "{'emp_1': {'name': 'Salahudin', 'age': 34, 'Salary': 343434},\n",
       " 'emp_2': {'name': 'Vijay', 'age': 23, 'Salary': 564754645},\n",
       " 'emp_3': {'name': 'Abdul', 'age': 54, 'Salary': 45345345},\n",
       " 'emp_4': {'name': 'Abhijeet', 'age': 28, 'Salary': 34534534},\n",
       " 'emp_6': {'name': 'abc', 'age': 65, 'Salary': 343534534},\n",
       " 'emp_7': {'name': 'pqr', 'age': 56, 'Salary': 34534534}}"
      ]
     },
     "execution_count": 136,
     "metadata": {},
     "output_type": "execute_result"
    }
   ],
   "source": [
    "existing_emp"
   ]
  },
  {
   "cell_type": "code",
   "execution_count": 79,
   "id": "b23532a1",
   "metadata": {},
   "outputs": [
    {
     "name": "stdout",
     "output_type": "stream",
     "text": [
      "{'key1': 0, 'key2': 0, 'key3': 0}\n"
     ]
    }
   ],
   "source": [
    "#Create a dictionary with 3 keys, all with the value 0:\n",
    "#The fromkeys() method returns a dictionary with the specified keys and the specified value.\n",
    "\n",
    "x = ('key1', 'key2', 'key3')\n",
    "y = 0\n",
    "\n",
    "thisdict = dict.fromkeys(x, y)\n",
    "\n",
    "print(thisdict)"
   ]
  },
  {
   "cell_type": "code",
   "execution_count": 80,
   "id": "e18eed8c-aab8-4715-b3c6-8385d4d862b0",
   "metadata": {},
   "outputs": [
    {
     "name": "stdout",
     "output_type": "stream",
     "text": [
      "{1: 0, 2: 0, 3: 0, 4: 0, 5: 0, 6: 0, 7: 0, 8: 0, 9: 0, 10: 0, 11: 0, 12: 0, 13: 0, 14: 0, 15: 0, 16: 0, 17: 0, 18: 0, 19: 0, 20: 0, 21: 0, 22: 0, 23: 0, 24: 0, 25: 0, 26: 0, 27: 0, 28: 0, 29: 0, 30: 0, 31: 0, 32: 0, 33: 0, 34: 0, 35: 0, 36: 0, 37: 0, 38: 0, 39: 0, 40: 0, 41: 0, 42: 0, 43: 0, 44: 0, 45: 0, 46: 0, 47: 0, 48: 0, 49: 0, 50: 0, 51: 0, 52: 0, 53: 0, 54: 0, 55: 0, 56: 0, 57: 0, 58: 0, 59: 0, 60: 0, 61: 0, 62: 0, 63: 0, 64: 0, 65: 0, 66: 0, 67: 0, 68: 0, 69: 0, 70: 0, 71: 0, 72: 0, 73: 0, 74: 0, 75: 0, 76: 0, 77: 0, 78: 0, 79: 0, 80: 0, 81: 0, 82: 0, 83: 0, 84: 0, 85: 0, 86: 0, 87: 0, 88: 0, 89: 0, 90: 0, 91: 0, 92: 0, 93: 0, 94: 0, 95: 0, 96: 0, 97: 0, 98: 0, 99: 0, 100: 0}\n"
     ]
    }
   ],
   "source": [
    "\n",
    "d = dict.fromkeys(range(1,101) , 0)\n",
    "\n",
    "print(d )"
   ]
  },
  {
   "cell_type": "markdown",
   "id": "b7705c97-bb7e-49ca-826b-1e6c7ee2ee5e",
   "metadata": {},
   "source": [
    "# Set , conditional statements"
   ]
  },
  {
   "cell_type": "code",
   "execution_count": null,
   "id": "7a8f5ea7-0484-4861-9d50-370ced45f014",
   "metadata": {},
   "outputs": [],
   "source": []
  }
 ],
 "metadata": {
  "kernelspec": {
   "display_name": "Python 3 (ipykernel)",
   "language": "python",
   "name": "python3"
  },
  "language_info": {
   "codemirror_mode": {
    "name": "ipython",
    "version": 3
   },
   "file_extension": ".py",
   "mimetype": "text/x-python",
   "name": "python",
   "nbconvert_exporter": "python",
   "pygments_lexer": "ipython3",
   "version": "3.9.13"
  }
 },
 "nbformat": 4,
 "nbformat_minor": 5
}
