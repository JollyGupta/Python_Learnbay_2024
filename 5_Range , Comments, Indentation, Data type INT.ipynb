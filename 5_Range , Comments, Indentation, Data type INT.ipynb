{
 "cells": [
  {
   "cell_type": "markdown",
   "id": "99a0ef53-d608-4060-8c26-531facb9f6bc",
   "metadata": {},
   "source": [
    "# Range \n",
    "\n",
    "- start - by default it starts from 0\n",
    "- stop ---> has to be given by the user\n",
    "- step - By default it's 1\n",
    "\n",
    "1. start - inclusive\n",
    "2. stop - exclusive"
   ]
  },
  {
   "cell_type": "code",
   "execution_count": 1,
   "id": "5083d41f-504f-4dc9-aceb-dbb0b47bdf77",
   "metadata": {},
   "outputs": [
    {
     "data": {
      "text/plain": [
       "[0, 1, 2, 3, 4, 5, 6, 7, 8, 9]"
      ]
     },
     "execution_count": 1,
     "metadata": {},
     "output_type": "execute_result"
    }
   ],
   "source": [
    "list(range(10))"
   ]
  },
  {
   "cell_type": "code",
   "execution_count": 2,
   "id": "7c07d45c-570a-4120-a1b3-e91a04b763e8",
   "metadata": {},
   "outputs": [
    {
     "data": {
      "text/plain": [
       "[5, 6, 7, 8, 9]"
      ]
     },
     "execution_count": 2,
     "metadata": {},
     "output_type": "execute_result"
    }
   ],
   "source": [
    "list(range(5,10))"
   ]
  },
  {
   "cell_type": "code",
   "execution_count": 4,
   "id": "1e6832bc-7743-4e5f-b3b1-87e5673c8d4b",
   "metadata": {},
   "outputs": [
    {
     "data": {
      "text/plain": [
       "[10, 11, 12, 13, 14, 15, 16, 17, 18, 19]"
      ]
     },
     "execution_count": 4,
     "metadata": {},
     "output_type": "execute_result"
    }
   ],
   "source": [
    "list(range(10,20))"
   ]
  },
  {
   "cell_type": "code",
   "execution_count": 5,
   "id": "143a153d-a99c-47e6-b2e1-9f3cfb21fc2f",
   "metadata": {},
   "outputs": [
    {
     "data": {
      "text/plain": [
       "[10, 12, 14, 16, 18]"
      ]
     },
     "execution_count": 5,
     "metadata": {},
     "output_type": "execute_result"
    }
   ],
   "source": [
    "list(range(10,20 , 2)) # jump value or step value"
   ]
  },
  {
   "cell_type": "code",
   "execution_count": 6,
   "id": "23256bc6-c5c6-4482-8484-774a854f5d03",
   "metadata": {},
   "outputs": [
    {
     "data": {
      "text/plain": [
       "[10, 15]"
      ]
     },
     "execution_count": 6,
     "metadata": {},
     "output_type": "execute_result"
    }
   ],
   "source": [
    "list(range(10,20 , 5))"
   ]
  },
  {
   "cell_type": "code",
   "execution_count": 6,
   "id": "7e30031a-b0ca-4481-9430-5012e54ff34f",
   "metadata": {},
   "outputs": [
    {
     "data": {
      "text/plain": [
       "[]"
      ]
     },
     "execution_count": 6,
     "metadata": {},
     "output_type": "execute_result"
    }
   ],
   "source": [
    "list(range(5 , 0))\n",
    "# list(range(0 , 5))"
   ]
  },
  {
   "cell_type": "code",
   "execution_count": 13,
   "id": "05be6e14-ec7f-4a99-ae0e-9edeb0cef1eb",
   "metadata": {},
   "outputs": [
    {
     "name": "stdout",
     "output_type": "stream",
     "text": [
      "[5, 4, 3, 2, 1]\n",
      "[5, 3, 1]\n",
      "[5, 2]\n",
      "[5, 1]\n",
      "[5]\n",
      "[5]\n",
      "[5]\n"
     ]
    }
   ],
   "source": [
    "print(list(range(5 , 0 , -1)))\n",
    "print(list(range(5 , 0 , -2)))\n",
    "print(list(range(5 , 0 , -3)))\n",
    "print(list(range(5 , 0 , -4)))\n",
    "print(list(range(5 , 0 , -5)))\n",
    "print(list(range(5 , 0 , -6)))\n",
    "print(list(range(5 , 0 , -30)))"
   ]
  },
  {
   "cell_type": "code",
   "execution_count": 9,
   "id": "e6f6d49f-c85c-47a5-a54d-e8ead2806e47",
   "metadata": {},
   "outputs": [
    {
     "data": {
      "text/plain": [
       "[0, 1, 2, 3, 4, 5, 6, 7, 8, 9]"
      ]
     },
     "execution_count": 9,
     "metadata": {},
     "output_type": "execute_result"
    }
   ],
   "source": [
    "# Extract all the odd number between 0 - 10\n",
    "\n",
    "list(range(0,10))"
   ]
  },
  {
   "cell_type": "code",
   "execution_count": 11,
   "id": "6b80026e-24f4-4b46-8cf1-3ec533fcb6e3",
   "metadata": {},
   "outputs": [
    {
     "data": {
      "text/plain": [
       "[1, 3, 5, 7, 9]"
      ]
     },
     "execution_count": 11,
     "metadata": {},
     "output_type": "execute_result"
    }
   ],
   "source": [
    "list(range(1,10 , 2))"
   ]
  },
  {
   "cell_type": "code",
   "execution_count": 22,
   "id": "f3d70f42-c13a-47e0-bff4-8d8a71860f63",
   "metadata": {},
   "outputs": [
    {
     "name": "stdout",
     "output_type": "stream",
     "text": [
      "[2, 3, 4, 5, 6, 7, 8, 9, 10, 11, 12, 13, 14, 15, 16, 17, 18, 19, 20]\n",
      "[2, 4, 6, 8, 10, 12, 14, 16, 18, 20]\n",
      "[]\n",
      "[20, 18, 16, 14, 12, 10, 8, 6, 4]\n",
      "[20, 18, 16, 14, 12, 10, 8, 6, 4, 2]\n",
      "[20, 18, 16, 14, 12, 10, 8, 6, 4, 2]\n",
      "[20, 18, 16, 14, 12, 10, 8, 6, 4, 2, 0]\n",
      "[20, 18, 16, 14, 12, 10, 8, 6, 4, 2, 0]\n"
     ]
    }
   ],
   "source": [
    "# Table of 2 in reverse order\n",
    "print(list(range(2 , 21 )))\n",
    "print(list(range(2 , 22 ,2)))\n",
    "print(list(range(2 , 22 , -2))) # wrong logic so empty list\n",
    "print(list(range(20 , 2 , -2)))\n",
    "print(list(range(20 , 1 , -2)))\n",
    "print(list(range(20 , 0 , -2)))\n",
    "print(list(range(20 , -1 , -2)))\n",
    "print(list(range(20 , -2 , -2)))"
   ]
  },
  {
   "cell_type": "code",
   "execution_count": 18,
   "id": "ee296e84-5bdd-4c14-a6bd-9caf0a2128b8",
   "metadata": {},
   "outputs": [
    {
     "data": {
      "text/plain": [
       "[20, 18, 16, 14, 12, 10, 8, 6, 4, 2]"
      ]
     },
     "execution_count": 18,
     "metadata": {},
     "output_type": "execute_result"
    }
   ],
   "source": [
    "list(range(20 , 0 , -2))"
   ]
  },
  {
   "cell_type": "markdown",
   "id": "e04978da-480c-4b81-b518-8ee9eedb187a",
   "metadata": {},
   "source": [
    "# Comments\n",
    "\n",
    "- Helps to explain the code\n",
    "- Stop the execution of some part of the code"
   ]
  },
  {
   "cell_type": "code",
   "execution_count": 19,
   "id": "441a39d1-6fa8-4f8f-a3e4-fa652a46c756",
   "metadata": {},
   "outputs": [
    {
     "data": {
      "text/plain": [
       "4"
      ]
     },
     "execution_count": 19,
     "metadata": {},
     "output_type": "execute_result"
    }
   ],
   "source": [
    "pi = 3.14\n",
    "r = 2\n",
    "\n",
    "Area = r*r\n",
    "\n",
    "Area"
   ]
  },
  {
   "cell_type": "code",
   "execution_count": 20,
   "id": "6dacd161-034c-46c1-8bea-195dcf0bf97c",
   "metadata": {},
   "outputs": [
    {
     "data": {
      "text/plain": [
       "4"
      ]
     },
     "execution_count": 20,
     "metadata": {},
     "output_type": "execute_result"
    }
   ],
   "source": [
    "pi = 3.14 # This is a value declared for the next program\n",
    "r = 2 # Side of a square\n",
    "\n",
    "Area = r*r # Area of a square\n",
    "\n",
    "Area"
   ]
  },
  {
   "cell_type": "code",
   "execution_count": 21,
   "id": "bbb5f63a-0884-426d-8160-f911a467b53e",
   "metadata": {},
   "outputs": [
    {
     "name": "stdout",
     "output_type": "stream",
     "text": [
      "10\n",
      "20\n",
      "30\n",
      "40\n"
     ]
    }
   ],
   "source": [
    "a = 10\n",
    "b = 20\n",
    "c = 30\n",
    "d = 40\n",
    "\n",
    "print(a)\n",
    "print(b)\n",
    "print(c)\n",
    "print(d)"
   ]
  },
  {
   "cell_type": "code",
   "execution_count": 22,
   "id": "cbbee18c-dcf1-4552-8a82-904735404139",
   "metadata": {},
   "outputs": [
    {
     "name": "stdout",
     "output_type": "stream",
     "text": [
      "10\n",
      "40\n"
     ]
    }
   ],
   "source": [
    "a = 10\n",
    "b = 20\n",
    "c = 30\n",
    "d = 40\n",
    "\n",
    "print(a)\n",
    "# print(b)\n",
    "# print(c)\n",
    "print(d)"
   ]
  },
  {
   "cell_type": "code",
   "execution_count": 23,
   "id": "16d1e314-e010-42f1-b753-96535bae7c07",
   "metadata": {},
   "outputs": [
    {
     "name": "stdout",
     "output_type": "stream",
     "text": [
      "10\n",
      "40\n"
     ]
    }
   ],
   "source": [
    "a = 10\n",
    "b = 20\n",
    "c = 30\n",
    "d = 40\n",
    "\n",
    "print(a)\n",
    "'''print(b)\n",
    "print(c)'''\n",
    "print(d)"
   ]
  },
  {
   "cell_type": "code",
   "execution_count": 25,
   "id": "48165f8a-652e-4440-9f02-e9bbce2d251f",
   "metadata": {},
   "outputs": [
    {
     "name": "stdout",
     "output_type": "stream",
     "text": [
      "10\n",
      "20\n",
      "30\n",
      "40\n"
     ]
    }
   ],
   "source": [
    "\"\"\"This is the place where I am \n",
    "Calculating 5654654645 the \n",
    "Area of a circle\n",
    "543534534534534\n",
    "\"\"\"\n",
    "\n",
    "a = 10\n",
    "b = 20\n",
    "c = 30\n",
    "d = 40\n",
    "\n",
    "print(a)\n",
    "print(b)\n",
    "print(c)\n",
    "print(d)"
   ]
  },
  {
   "cell_type": "code",
   "execution_count": null,
   "id": "1b66d4c6-7260-4d39-9926-cdec3f836cf1",
   "metadata": {},
   "outputs": [],
   "source": [
    "condition:\n",
    "{\n",
    "    fjkhdasf\n",
    "}"
   ]
  },
  {
   "cell_type": "code",
   "execution_count": null,
   "id": "57768271-8032-479b-bffa-2b41fe51856a",
   "metadata": {},
   "outputs": [],
   "source": [
    "stat1\n",
    "stat2\n",
    "if condition:\n",
    "    stat3\n",
    "    stat4\n",
    "    stat5\n",
    "stat6\n",
    "stat7"
   ]
  },
  {
   "cell_type": "code",
   "execution_count": 27,
   "id": "26cf4166-e336-436f-8e75-2209c3a87745",
   "metadata": {},
   "outputs": [
    {
     "name": "stdout",
     "output_type": "stream",
     "text": [
      "python\n"
     ]
    }
   ],
   "source": [
    "a = 10\n",
    "b = 20\n",
    "\n",
    "if a > b:\n",
    "    print('Hello world')\n",
    "print('python')"
   ]
  },
  {
   "cell_type": "code",
   "execution_count": 23,
   "id": "7fc3027f-35c2-419f-9096-027602986e2e",
   "metadata": {},
   "outputs": [],
   "source": [
    "a = 10\n",
    "b = 20\n",
    "\n",
    "if a > b:\n",
    "    print('Hello world')\n",
    "    print('python')"
   ]
  },
  {
   "cell_type": "code",
   "execution_count": 34,
   "id": "fc55ebb1-596f-49df-a7b8-6b321af17bf4",
   "metadata": {},
   "outputs": [
    {
     "ename": "IndentationError",
     "evalue": "unindent does not match any outer indentation level (<tokenize>, line 6)",
     "output_type": "error",
     "traceback": [
      "\u001b[1;36m  File \u001b[1;32m<tokenize>:6\u001b[1;36m\u001b[0m\n\u001b[1;33m    print('SQL')\u001b[0m\n\u001b[1;37m    ^\u001b[0m\n\u001b[1;31mIndentationError\u001b[0m\u001b[1;31m:\u001b[0m unindent does not match any outer indentation level\n"
     ]
    }
   ],
   "source": [
    "a = 10\n",
    "b = 20\n",
    "\n",
    "if a < b:\n",
    "                                         print('Hello world')\n",
    "    print('SQL')\n",
    "    \n",
    "print('python')"
   ]
  },
  {
   "cell_type": "code",
   "execution_count": 35,
   "id": "d1e6057b-0347-4e95-a8a1-359bc8f2770a",
   "metadata": {},
   "outputs": [
    {
     "name": "stdout",
     "output_type": "stream",
     "text": [
      "Hello world\n",
      "SQL\n",
      "python\n"
     ]
    }
   ],
   "source": [
    "a = 10\n",
    "b = 20\n",
    "\n",
    "if a < b:\n",
    "                                         print('Hello world')\n",
    "                                         print('SQL')\n",
    "    \n",
    "print('python')"
   ]
  },
  {
   "cell_type": "code",
   "execution_count": 37,
   "id": "ca32600a-a691-4e21-acf4-f64c940b33a2",
   "metadata": {},
   "outputs": [
    {
     "name": "stdout",
     "output_type": "stream",
     "text": [
      "Hello world\n",
      "SQl\n",
      "python\n"
     ]
    }
   ],
   "source": [
    "a = 10\n",
    "b = 20\n",
    "\n",
    "if a < b:\n",
    "    print('Hello world')\n",
    "    print('SQl')\n",
    "    \n",
    "print('python')"
   ]
  },
  {
   "cell_type": "code",
   "execution_count": 46,
   "id": "ca5a460a-db17-489a-9df6-9cd04e04910f",
   "metadata": {},
   "outputs": [
    {
     "name": "stdout",
     "output_type": "stream",
     "text": [
      "SQl\n",
      "Java\n",
      "python\n"
     ]
    }
   ],
   "source": [
    "a = 10\n",
    "b = 20\n",
    "\n",
    "if a > b: # F\n",
    "    print('Hello world')\n",
    "if a != b: #T\n",
    "    print('SQl')\n",
    "    print('Java')\n",
    "    \n",
    "print('python')"
   ]
  },
  {
   "cell_type": "markdown",
   "id": "60a71990-bc5f-4005-8c13-4e889280a65b",
   "metadata": {},
   "source": [
    "# Data type Integers\n",
    "\n",
    "- Any number without a decimal point\n",
    "\n",
    "  eg :- -ve or +ve"
   ]
  },
  {
   "cell_type": "code",
   "execution_count": 51,
   "id": "ddd61a86-aa5c-489c-a1da-a1df960cc782",
   "metadata": {},
   "outputs": [
    {
     "name": "stdout",
     "output_type": "stream",
     "text": [
      "99 <class 'int'>\n"
     ]
    }
   ],
   "source": [
    "a = 99\n",
    "\n",
    "print(a , type(a))"
   ]
  },
  {
   "cell_type": "markdown",
   "id": "f6f85986-ec04-4783-af78-50eb9cf0d36c",
   "metadata": {},
   "source": [
    "# Operations which can be performed in Integer data type"
   ]
  },
  {
   "cell_type": "markdown",
   "id": "877b3b9b-e5c9-4773-bd8d-3f82e4662f49",
   "metadata": {},
   "source": [
    "# Arithmetic operations\n",
    "\n",
    "+ , - , * , / , ** (exponent) , // (Floor division) , % (Modulo)"
   ]
  },
  {
   "cell_type": "code",
   "execution_count": 52,
   "id": "ee26d1b9-4314-496c-b57b-e3a30be6f34c",
   "metadata": {},
   "outputs": [
    {
     "name": "stdout",
     "output_type": "stream",
     "text": [
      "77\n"
     ]
    }
   ],
   "source": [
    "a = 34\n",
    "b = 43\n",
    "\n",
    "\n",
    "print(a + b)"
   ]
  },
  {
   "cell_type": "code",
   "execution_count": 53,
   "id": "1725feef-6d83-4f17-8137-f7e90a4b3b77",
   "metadata": {},
   "outputs": [
    {
     "name": "stdout",
     "output_type": "stream",
     "text": [
      "-9\n"
     ]
    }
   ],
   "source": [
    "a = 34\n",
    "b = 43\n",
    "\n",
    "\n",
    "print(a - b)"
   ]
  },
  {
   "cell_type": "code",
   "execution_count": 54,
   "id": "9c0a8fac-042c-4771-bd3d-e64677d788ed",
   "metadata": {},
   "outputs": [
    {
     "name": "stdout",
     "output_type": "stream",
     "text": [
      "1462\n"
     ]
    }
   ],
   "source": [
    "a = 34\n",
    "b = 43\n",
    "\n",
    "\n",
    "print(a * b)"
   ]
  },
  {
   "cell_type": "code",
   "execution_count": 55,
   "id": "10459ee4-ee8e-4e1a-857a-9d05fb533f39",
   "metadata": {},
   "outputs": [
    {
     "name": "stdout",
     "output_type": "stream",
     "text": [
      "16\n"
     ]
    }
   ],
   "source": [
    "a = 2\n",
    "b = 4\n",
    "\n",
    "\n",
    "print(a ** b)"
   ]
  },
  {
   "cell_type": "code",
   "execution_count": 56,
   "id": "f341b881-9abf-4901-9a3c-11174afc0a21",
   "metadata": {},
   "outputs": [
    {
     "name": "stdout",
     "output_type": "stream",
     "text": [
      "3.3333333333333335\n"
     ]
    }
   ],
   "source": [
    "a = 10\n",
    "b = 3\n",
    "\n",
    "\n",
    "print(a / b)"
   ]
  },
  {
   "cell_type": "code",
   "execution_count": 57,
   "id": "e77ecd31-55d3-4668-94bb-8c98eb687b63",
   "metadata": {},
   "outputs": [
    {
     "name": "stdout",
     "output_type": "stream",
     "text": [
      "3\n"
     ]
    }
   ],
   "source": [
    "a = 10\n",
    "b = 3\n",
    "\n",
    "\n",
    "print(a // b)"
   ]
  },
  {
   "cell_type": "code",
   "execution_count": null,
   "id": "aac557e7-ade2-4f35-9891-0f6439be4322",
   "metadata": {},
   "outputs": [],
   "source": [
    "Floor value                 exact value              cieling value\n",
    "\n",
    "     3                     3.333333333333333              4"
   ]
  },
  {
   "cell_type": "code",
   "execution_count": 68,
   "id": "3ec1036c-b4b1-4f00-8dc9-56aeaa62c80f",
   "metadata": {},
   "outputs": [
    {
     "name": "stdout",
     "output_type": "stream",
     "text": [
      "Exact value :  1.6666666666666667\n",
      "Floor value :  1\n",
      "round of value :  2\n",
      "Cieling value :  2\n"
     ]
    }
   ],
   "source": [
    "a = 10\n",
    "b = 6\n",
    "\n",
    "import math\n",
    "\n",
    "print('Exact value : ' ,a / b)\n",
    "\n",
    "print('Floor value : ' , a // b)\n",
    "\n",
    "print('round of value : ' , round(a / b))\n",
    "\n",
    "print('Cieling value : ' , math.ceil(a / b))"
   ]
  },
  {
   "cell_type": "code",
   "execution_count": null,
   "id": "a7c53368-7fc6-4f4b-83b6-df22525db25e",
   "metadata": {},
   "outputs": [],
   "source": [
    "Floor value                 exact value              cieling value\n",
    "\n",
    "     1                     1.6666666666666667             2"
   ]
  },
  {
   "cell_type": "code",
   "execution_count": 73,
   "id": "b7b14bca-5a40-4695-8a10-08e990869ac2",
   "metadata": {},
   "outputs": [
    {
     "name": "stdout",
     "output_type": "stream",
     "text": [
      "Exact value :  4.25\n",
      "Floor value :  4\n",
      "round of value :  4\n",
      "Cieling value :  5\n"
     ]
    }
   ],
   "source": [
    "a = 34\n",
    "b = 8\n",
    "\n",
    "import math\n",
    "\n",
    "print('Exact value : ' ,a / b)\n",
    "\n",
    "print('Floor value : ' , a // b)\n",
    "\n",
    "print('round of value : ' , round(a / b))\n",
    "\n",
    "print('Cieling value : ' , math.ceil(a / b))"
   ]
  },
  {
   "cell_type": "code",
   "execution_count": 78,
   "id": "50388d8e-6121-4977-8d6c-1f5a24dcc839",
   "metadata": {},
   "outputs": [
    {
     "name": "stdout",
     "output_type": "stream",
     "text": [
      "Exact value :  1.619047619047619\n",
      "Floor value :  1\n",
      "round of value :  2\n",
      "Cieling value :  2\n"
     ]
    }
   ],
   "source": [
    "a = 34\n",
    "b = 21\n",
    "\n",
    "import math\n",
    "\n",
    "print('Exact value : ' ,a / b)\n",
    "\n",
    "print('Floor value : ' , a // b)\n",
    "\n",
    "print('round of value : ' , round(a / b))\n",
    "\n",
    "print('Cieling value : ' , math.ceil(a / b))"
   ]
  },
  {
   "cell_type": "code",
   "execution_count": 85,
   "id": "104af7a7-139f-47c0-9f1b-788d575be8bb",
   "metadata": {},
   "outputs": [
    {
     "name": "stdout",
     "output_type": "stream",
     "text": [
      "Exact value :  10.909090909090908\n",
      "Floor value :  10.0\n",
      "round of value :  11\n",
      "Cieling value :  11\n"
     ]
    }
   ],
   "source": [
    "a = 12\n",
    "b = 1.1\n",
    "\n",
    "import math\n",
    "\n",
    "print('Exact value : ' ,a / b)\n",
    "\n",
    "print('Floor value : ' , a // b)\n",
    "\n",
    "print('round of value : ' , round(a / b))\n",
    "\n",
    "print('Cieling value : ' , math.ceil(a / b))"
   ]
  },
  {
   "cell_type": "code",
   "execution_count": 87,
   "id": "3238f3a6-49fd-4f24-8376-888063a40057",
   "metadata": {},
   "outputs": [
    {
     "name": "stdout",
     "output_type": "stream",
     "text": [
      "Exact value :  3.6666666666666665\n",
      "Floor value :  3\n",
      "round of value :  4\n",
      "Cieling value :  4\n"
     ]
    }
   ],
   "source": [
    "a = 11\n",
    "b = 3\n",
    "\n",
    "import math\n",
    "\n",
    "print('Exact value : ' ,a / b)\n",
    "\n",
    "print('Floor value : ' , a // b)\n",
    "\n",
    "print('round of value : ' , round(a / b))\n",
    "\n",
    "print('Cieling value : ' , math.ceil(a / b))"
   ]
  },
  {
   "cell_type": "code",
   "execution_count": 91,
   "id": "00559b65-7352-4444-ab0c-2b74bfa6e71a",
   "metadata": {},
   "outputs": [
    {
     "name": "stdout",
     "output_type": "stream",
     "text": [
      "Exact value :  -3.6666666666666665\n",
      "Floor value :  -4\n",
      "round of value :  -4\n",
      "Cieling value :  -3\n"
     ]
    }
   ],
   "source": [
    "a = -11\n",
    "b = 3\n",
    "\n",
    "import math\n",
    "\n",
    "print('Exact value : ' ,a / b)\n",
    "\n",
    "print('Floor value : ' , a // b)\n",
    "\n",
    "print('round of value : ' , round(a / b))\n",
    "\n",
    "print('Cieling value : ' , math.ceil(a / b))"
   ]
  },
  {
   "cell_type": "code",
   "execution_count": 107,
   "id": "41e0a9f3-0d7a-4153-9edd-5f73875e6201",
   "metadata": {},
   "outputs": [
    {
     "data": {
      "text/plain": [
       "1"
      ]
     },
     "execution_count": 107,
     "metadata": {},
     "output_type": "execute_result"
    }
   ],
   "source": [
    "a = 10\n",
    "b = 3\n",
    "\n",
    "a % b"
   ]
  },
  {
   "cell_type": "code",
   "execution_count": 108,
   "id": "90cbbdd6-671a-4e01-88fa-b0b99dfdf1d9",
   "metadata": {},
   "outputs": [
    {
     "data": {
      "text/plain": [
       "0"
      ]
     },
     "execution_count": 108,
     "metadata": {},
     "output_type": "execute_result"
    }
   ],
   "source": [
    "a = 9999999999999999999999999998\n",
    "b = 2\n",
    "\n",
    "a % b"
   ]
  },
  {
   "cell_type": "markdown",
   "id": "4eec4bda-3725-4c72-8b1e-f4c2b4dfbb90",
   "metadata": {},
   "source": [
    "# Comparision operators\n",
    "\n",
    "< , > , >= , <=\n",
    "\n",
    "- The output will always be in bool\n",
    "- Can be performed on number (int , float)\n",
    "- can be performed on str to str\n",
    "- can be performed on bool\n",
    "- cannot be performed on complex\n",
    "- Cannot perform on None"
   ]
  },
  {
   "cell_type": "code",
   "execution_count": 110,
   "id": "69a249f9-5522-4ca2-b86e-fbaadeb654dd",
   "metadata": {},
   "outputs": [
    {
     "data": {
      "text/plain": [
       "False"
      ]
     },
     "execution_count": 110,
     "metadata": {},
     "output_type": "execute_result"
    }
   ],
   "source": [
    "a = 10\n",
    "b = 3\n",
    "\n",
    "a < b"
   ]
  },
  {
   "cell_type": "code",
   "execution_count": 111,
   "id": "db03550a-489e-4a6a-bd65-32ceca7845ff",
   "metadata": {},
   "outputs": [
    {
     "data": {
      "text/plain": [
       "False"
      ]
     },
     "execution_count": 111,
     "metadata": {},
     "output_type": "execute_result"
    }
   ],
   "source": [
    "a = 10\n",
    "b = 10\n",
    "\n",
    "a > b"
   ]
  },
  {
   "cell_type": "code",
   "execution_count": 112,
   "id": "11a4cdfc-1325-4eb6-8b84-a6304fdbedc3",
   "metadata": {},
   "outputs": [
    {
     "data": {
      "text/plain": [
       "True"
      ]
     },
     "execution_count": 112,
     "metadata": {},
     "output_type": "execute_result"
    }
   ],
   "source": [
    "a = 10\n",
    "b = 10\n",
    "\n",
    "a >= b"
   ]
  },
  {
   "cell_type": "code",
   "execution_count": 113,
   "id": "72ed01ff-6a8a-4ade-b546-6c2b17f61f3e",
   "metadata": {},
   "outputs": [
    {
     "data": {
      "text/plain": [
       "False"
      ]
     },
     "execution_count": 113,
     "metadata": {},
     "output_type": "execute_result"
    }
   ],
   "source": [
    "a = 10\n",
    "b = 145.23\n",
    "\n",
    "a >= b"
   ]
  },
  {
   "cell_type": "code",
   "execution_count": 115,
   "id": "62f63efd-df18-4a65-be3a-38197d0c69a9",
   "metadata": {},
   "outputs": [
    {
     "ename": "TypeError",
     "evalue": "'>' not supported between instances of 'int' and 'str'",
     "output_type": "error",
     "traceback": [
      "\u001b[1;31m---------------------------------------------------------------------------\u001b[0m",
      "\u001b[1;31mTypeError\u001b[0m                                 Traceback (most recent call last)",
      "Cell \u001b[1;32mIn[115], line 4\u001b[0m\n\u001b[0;32m      1\u001b[0m a \u001b[38;5;241m=\u001b[39m \u001b[38;5;241m10\u001b[39m\n\u001b[0;32m      2\u001b[0m b \u001b[38;5;241m=\u001b[39m \u001b[38;5;124m'\u001b[39m\u001b[38;5;124mabc\u001b[39m\u001b[38;5;124m'\u001b[39m\n\u001b[1;32m----> 4\u001b[0m a \u001b[38;5;241m>\u001b[39m b\n",
      "\u001b[1;31mTypeError\u001b[0m: '>' not supported between instances of 'int' and 'str'"
     ]
    }
   ],
   "source": [
    "a = 10\n",
    "b = 'abc'\n",
    "\n",
    "a > b"
   ]
  },
  {
   "cell_type": "code",
   "execution_count": 116,
   "id": "21ec355e-256b-4662-a622-0b38b9ac7d5e",
   "metadata": {},
   "outputs": [
    {
     "ename": "TypeError",
     "evalue": "'>' not supported between instances of 'int' and 'list'",
     "output_type": "error",
     "traceback": [
      "\u001b[1;31m---------------------------------------------------------------------------\u001b[0m",
      "\u001b[1;31mTypeError\u001b[0m                                 Traceback (most recent call last)",
      "Cell \u001b[1;32mIn[116], line 4\u001b[0m\n\u001b[0;32m      1\u001b[0m a \u001b[38;5;241m=\u001b[39m \u001b[38;5;241m10\u001b[39m\n\u001b[0;32m      2\u001b[0m b \u001b[38;5;241m=\u001b[39m [\u001b[38;5;241m32\u001b[39m,\u001b[38;5;241m43\u001b[39m,\u001b[38;5;241m564\u001b[39m]\n\u001b[1;32m----> 4\u001b[0m a \u001b[38;5;241m>\u001b[39m b\n",
      "\u001b[1;31mTypeError\u001b[0m: '>' not supported between instances of 'int' and 'list'"
     ]
    }
   ],
   "source": [
    "a = 10\n",
    "b = [32,43,564]\n",
    "\n",
    "a > b"
   ]
  },
  {
   "cell_type": "code",
   "execution_count": 119,
   "id": "9cc09214-0027-43c8-8167-2a84835d2688",
   "metadata": {},
   "outputs": [
    {
     "data": {
      "text/plain": [
       "True"
      ]
     },
     "execution_count": 119,
     "metadata": {},
     "output_type": "execute_result"
    }
   ],
   "source": [
    "a = 'ABC' # 65\n",
    "b = 'abc' # 97\n",
    "\n",
    "a < b"
   ]
  },
  {
   "cell_type": "code",
   "execution_count": 120,
   "id": "271116d6-761c-4242-b2d5-5d4f98dd50c9",
   "metadata": {},
   "outputs": [
    {
     "data": {
      "text/plain": [
       "True"
      ]
     },
     "execution_count": 120,
     "metadata": {},
     "output_type": "execute_result"
    }
   ],
   "source": [
    "a = 'ABC' # 66\n",
    "b = 'Abc' # 98\n",
    "\n",
    "a < b"
   ]
  },
  {
   "cell_type": "code",
   "execution_count": 124,
   "id": "65f67a7b-9574-4e50-91d1-92721582ecb5",
   "metadata": {},
   "outputs": [
    {
     "data": {
      "text/plain": [
       "True"
      ]
     },
     "execution_count": 124,
     "metadata": {},
     "output_type": "execute_result"
    }
   ],
   "source": [
    "a = 'AAC' # 65 \n",
    "b = 'a' # 97\n",
    "\n",
    "a < b"
   ]
  },
  {
   "cell_type": "code",
   "execution_count": 125,
   "id": "9af99c73-662b-409f-8009-e3d95b214d0c",
   "metadata": {},
   "outputs": [
    {
     "data": {
      "text/plain": [
       "False"
      ]
     },
     "execution_count": 125,
     "metadata": {},
     "output_type": "execute_result"
    }
   ],
   "source": [
    "a = 10\n",
    "b = True\n",
    "\n",
    "a < b"
   ]
  },
  {
   "cell_type": "code",
   "execution_count": 126,
   "id": "36017b5d-bd6d-468c-bafb-02816016c681",
   "metadata": {},
   "outputs": [
    {
     "data": {
      "text/plain": [
       "True"
      ]
     },
     "execution_count": 126,
     "metadata": {},
     "output_type": "execute_result"
    }
   ],
   "source": [
    "True == 1"
   ]
  },
  {
   "cell_type": "code",
   "execution_count": 127,
   "id": "8bd6f5cc-8d18-45ce-ae39-6eb07d655f3c",
   "metadata": {},
   "outputs": [
    {
     "ename": "TypeError",
     "evalue": "'<' not supported between instances of 'int' and 'complex'",
     "output_type": "error",
     "traceback": [
      "\u001b[1;31m---------------------------------------------------------------------------\u001b[0m",
      "\u001b[1;31mTypeError\u001b[0m                                 Traceback (most recent call last)",
      "Cell \u001b[1;32mIn[127], line 4\u001b[0m\n\u001b[0;32m      1\u001b[0m a \u001b[38;5;241m=\u001b[39m \u001b[38;5;241m10\u001b[39m\n\u001b[0;32m      2\u001b[0m b \u001b[38;5;241m=\u001b[39m \u001b[38;5;241m23\u001b[39m\u001b[38;5;241m+\u001b[39m\u001b[38;5;241m9\u001b[39mj\n\u001b[1;32m----> 4\u001b[0m a \u001b[38;5;241m<\u001b[39m b\n",
      "\u001b[1;31mTypeError\u001b[0m: '<' not supported between instances of 'int' and 'complex'"
     ]
    }
   ],
   "source": [
    "a = 10\n",
    "b = 23+9j\n",
    "\n",
    "a < b"
   ]
  },
  {
   "cell_type": "code",
   "execution_count": 128,
   "id": "f2ecec46-d334-4f70-84e4-081657fca498",
   "metadata": {},
   "outputs": [
    {
     "ename": "TypeError",
     "evalue": "'<' not supported between instances of 'complex' and 'complex'",
     "output_type": "error",
     "traceback": [
      "\u001b[1;31m---------------------------------------------------------------------------\u001b[0m",
      "\u001b[1;31mTypeError\u001b[0m                                 Traceback (most recent call last)",
      "Cell \u001b[1;32mIn[128], line 4\u001b[0m\n\u001b[0;32m      1\u001b[0m a \u001b[38;5;241m=\u001b[39m \u001b[38;5;241m23\u001b[39m\u001b[38;5;241m+\u001b[39m\u001b[38;5;241m9\u001b[39mj\n\u001b[0;32m      2\u001b[0m b \u001b[38;5;241m=\u001b[39m \u001b[38;5;241m23\u001b[39m\u001b[38;5;241m+\u001b[39m\u001b[38;5;241m9\u001b[39mj\n\u001b[1;32m----> 4\u001b[0m a \u001b[38;5;241m<\u001b[39m b\n",
      "\u001b[1;31mTypeError\u001b[0m: '<' not supported between instances of 'complex' and 'complex'"
     ]
    }
   ],
   "source": [
    "a = 23+9j\n",
    "b = 23+9j\n",
    "\n",
    "a < b"
   ]
  },
  {
   "cell_type": "code",
   "execution_count": 129,
   "id": "ff498b30-b9e5-4dc7-aad4-16811c13d412",
   "metadata": {},
   "outputs": [
    {
     "ename": "TypeError",
     "evalue": "'>=' not supported between instances of 'int' and 'NoneType'",
     "output_type": "error",
     "traceback": [
      "\u001b[1;31m---------------------------------------------------------------------------\u001b[0m",
      "\u001b[1;31mTypeError\u001b[0m                                 Traceback (most recent call last)",
      "Cell \u001b[1;32mIn[129], line 4\u001b[0m\n\u001b[0;32m      1\u001b[0m a \u001b[38;5;241m=\u001b[39m \u001b[38;5;241m10\u001b[39m\n\u001b[0;32m      2\u001b[0m b \u001b[38;5;241m=\u001b[39m \u001b[38;5;28;01mNone\u001b[39;00m\n\u001b[1;32m----> 4\u001b[0m a \u001b[38;5;241m>\u001b[39m\u001b[38;5;241m=\u001b[39m b\n",
      "\u001b[1;31mTypeError\u001b[0m: '>=' not supported between instances of 'int' and 'NoneType'"
     ]
    }
   ],
   "source": [
    "a = 10\n",
    "b = None\n",
    "\n",
    "a >= b"
   ]
  },
  {
   "cell_type": "markdown",
   "id": "983b7465-2776-4970-98e0-6fb8b6797849",
   "metadata": {},
   "source": [
    "# Equality operators\n",
    "- Can be performed on any data type\n",
    "- == , !="
   ]
  },
  {
   "cell_type": "code",
   "execution_count": 130,
   "id": "41eccae1-01cf-4848-946c-3d97651a49f3",
   "metadata": {},
   "outputs": [
    {
     "data": {
      "text/plain": [
       "True"
      ]
     },
     "execution_count": 130,
     "metadata": {},
     "output_type": "execute_result"
    }
   ],
   "source": [
    "a = 10\n",
    "b = 10\n",
    "\n",
    "a == b"
   ]
  },
  {
   "cell_type": "code",
   "execution_count": 132,
   "id": "90ce7f84-29be-47bc-ab99-3006468cc419",
   "metadata": {},
   "outputs": [
    {
     "data": {
      "text/plain": [
       "True"
      ]
     },
     "execution_count": 132,
     "metadata": {},
     "output_type": "execute_result"
    }
   ],
   "source": [
    "a = 10\n",
    "b = 15\n",
    "\n",
    "a != b"
   ]
  },
  {
   "cell_type": "code",
   "execution_count": 133,
   "id": "b31077b8-eb55-48a6-a452-a62986e1fdbd",
   "metadata": {},
   "outputs": [
    {
     "data": {
      "text/plain": [
       "False"
      ]
     },
     "execution_count": 133,
     "metadata": {},
     "output_type": "execute_result"
    }
   ],
   "source": [
    "a = 10\n",
    "b = 'python'\n",
    "\n",
    "a == b"
   ]
  },
  {
   "cell_type": "code",
   "execution_count": 134,
   "id": "d8745bd6-4f3a-4e8d-92c0-cff446cc684c",
   "metadata": {},
   "outputs": [
    {
     "data": {
      "text/plain": [
       "False"
      ]
     },
     "execution_count": 134,
     "metadata": {},
     "output_type": "execute_result"
    }
   ],
   "source": [
    "a = 10\n",
    "b =[ 'python' , 34 , 65]\n",
    "\n",
    "a == b"
   ]
  },
  {
   "cell_type": "code",
   "execution_count": 2,
   "id": "750bd160-c928-4adf-a941-a0d736aa559e",
   "metadata": {},
   "outputs": [
    {
     "data": {
      "text/plain": [
       "True"
      ]
     },
     "execution_count": 2,
     "metadata": {},
     "output_type": "execute_result"
    }
   ],
   "source": [
    "a = 10+5j\n",
    "b = 56+7j\n",
    "\n",
    "a != b"
   ]
  },
  {
   "cell_type": "code",
   "execution_count": 139,
   "id": "a1ce4420-edde-4334-9c9f-5bf6cb21f930",
   "metadata": {},
   "outputs": [
    {
     "ename": "TypeError",
     "evalue": "'>' not supported between instances of 'int' and 'str'",
     "output_type": "error",
     "traceback": [
      "\u001b[1;31m---------------------------------------------------------------------------\u001b[0m",
      "\u001b[1;31mTypeError\u001b[0m                                 Traceback (most recent call last)",
      "Cell \u001b[1;32mIn[139], line 4\u001b[0m\n\u001b[0;32m      1\u001b[0m a \u001b[38;5;241m=\u001b[39m \u001b[38;5;241m890\u001b[39m\n\u001b[0;32m      2\u001b[0m b \u001b[38;5;241m=\u001b[39m \u001b[38;5;124m'\u001b[39m\u001b[38;5;124m10\u001b[39m\u001b[38;5;124m'\u001b[39m\n\u001b[1;32m----> 4\u001b[0m a \u001b[38;5;241m>\u001b[39m b\n",
      "\u001b[1;31mTypeError\u001b[0m: '>' not supported between instances of 'int' and 'str'"
     ]
    }
   ],
   "source": [
    "a = 890\n",
    "b = '10'\n",
    "\n",
    "a > b"
   ]
  },
  {
   "cell_type": "markdown",
   "id": "b24f2b81-16e6-4f10-8db9-736d41151818",
   "metadata": {},
   "source": [
    "# Logical operators\n",
    "\n",
    "- and\n",
    "- or\n",
    "- not"
   ]
  },
  {
   "cell_type": "code",
   "execution_count": 5,
   "id": "abe33845-8290-458e-8769-4742a1605e6f",
   "metadata": {},
   "outputs": [],
   "source": [
    "user_name = 'xyz@gmail.com'\n",
    "password = 'python'"
   ]
  },
  {
   "cell_type": "code",
   "execution_count": 6,
   "id": "04d1ccb5-b848-4367-8baf-1a8e3ace2c02",
   "metadata": {},
   "outputs": [
    {
     "name": "stdout",
     "output_type": "stream",
     "text": [
      "Enter the mail : xyz@gmail.com\n",
      "Enter the password : python\n",
      "logged IN\n"
     ]
    }
   ],
   "source": [
    "a = input('Enter the mail : ')\n",
    "b = input('Enter the password : ')\n",
    "\n",
    "if (a == user_name) and (b == password):\n",
    "    print('logged IN')\n",
    "else:\n",
    "    print('Incorrect Info')"
   ]
  },
  {
   "cell_type": "code",
   "execution_count": 149,
   "id": "7858fff7-839f-4013-befb-e519d950a8b3",
   "metadata": {},
   "outputs": [
    {
     "name": "stdin",
     "output_type": "stream",
     "text": [
      "Enter the mail :  xyz@gmail.com\n",
      "Enter the password :  hello\n"
     ]
    },
    {
     "name": "stdout",
     "output_type": "stream",
     "text": [
      "logged IN\n"
     ]
    }
   ],
   "source": [
    "a = input('Enter the mail : ')\n",
    "b = input('Enter the password : ')\n",
    "\n",
    "if (a == user_name) or (b == password):\n",
    "    print('logged IN')\n",
    "else:\n",
    "    print('Incorrect Info')"
   ]
  },
  {
   "cell_type": "code",
   "execution_count": 148,
   "id": "3d7b5ddd-9dee-4c40-9211-06fa42b9bdab",
   "metadata": {},
   "outputs": [
    {
     "data": {
      "text/plain": [
       "False"
      ]
     },
     "execution_count": 148,
     "metadata": {},
     "output_type": "execute_result"
    }
   ],
   "source": [
    "True and False"
   ]
  },
  {
   "cell_type": "code",
   "execution_count": 150,
   "id": "3b1f1890-66d6-401e-b031-ef76a7f1e972",
   "metadata": {},
   "outputs": [
    {
     "data": {
      "text/plain": [
       "True"
      ]
     },
     "execution_count": 150,
     "metadata": {},
     "output_type": "execute_result"
    }
   ],
   "source": [
    "True or False"
   ]
  },
  {
   "cell_type": "code",
   "execution_count": 154,
   "id": "56a51bad-a5e3-424c-892a-b74b8ace8cdb",
   "metadata": {},
   "outputs": [
    {
     "data": {
      "text/plain": [
       "False"
      ]
     },
     "execution_count": 154,
     "metadata": {},
     "output_type": "execute_result"
    }
   ],
   "source": [
    "not True"
   ]
  },
  {
   "cell_type": "code",
   "execution_count": 159,
   "id": "7f20947a-6b65-4d1a-9307-4069935ee051",
   "metadata": {},
   "outputs": [
    {
     "data": {
      "text/plain": [
       "True"
      ]
     },
     "execution_count": 159,
     "metadata": {},
     "output_type": "execute_result"
    }
   ],
   "source": [
    "not False"
   ]
  },
  {
   "cell_type": "markdown",
   "id": "03810f73-4a18-4c83-bda7-4d757ed7425b",
   "metadata": {},
   "source": [
    "# Logical operators"
   ]
  },
  {
   "cell_type": "code",
   "execution_count": null,
   "id": "9242de98-ded7-49cc-ad26-83fe6a79bf4d",
   "metadata": {},
   "outputs": [],
   "source": []
  },
  {
   "cell_type": "code",
   "execution_count": null,
   "id": "bec9f347-2a16-46bb-a53b-c31af17f6d17",
   "metadata": {},
   "outputs": [],
   "source": []
  }
 ],
 "metadata": {
  "kernelspec": {
   "display_name": "Python 3 (ipykernel)",
   "language": "python",
   "name": "python3"
  },
  "language_info": {
   "codemirror_mode": {
    "name": "ipython",
    "version": 3
   },
   "file_extension": ".py",
   "mimetype": "text/x-python",
   "name": "python",
   "nbconvert_exporter": "python",
   "pygments_lexer": "ipython3",
   "version": "3.9.13"
  }
 },
 "nbformat": 4,
 "nbformat_minor": 5
}
