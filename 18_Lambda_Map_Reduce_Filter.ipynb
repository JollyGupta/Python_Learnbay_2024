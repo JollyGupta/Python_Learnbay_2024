{
 "cells": [
  {
   "cell_type": "markdown",
   "id": "570b747d-f6a5-48aa-a00e-d88720feb0c1",
   "metadata": {},
   "source": [
    "# Lambda \n",
    "\n",
    "- A function without a name\n",
    "\n",
    "lambda parameter: expression\n",
    "\n",
    "- A lambda function can take any number of arguments, but can only have one expression."
   ]
  },
  {
   "cell_type": "code",
   "execution_count": null,
   "id": "e9aa9ba3-5206-4a05-b34c-8127c510937b",
   "metadata": {},
   "outputs": [],
   "source": [
    "def function(a,b):\n",
    "    stat1\n",
    "    stat2\n",
    "    return stat3\n",
    "\n",
    "function(10 , 20)"
   ]
  },
  {
   "cell_type": "code",
   "execution_count": 2,
   "id": "d129dd7d-20c3-42e5-9d52-69b5c9e8834d",
   "metadata": {},
   "outputs": [
    {
     "data": {
      "text/plain": [
       "30"
      ]
     },
     "execution_count": 2,
     "metadata": {},
     "output_type": "execute_result"
    }
   ],
   "source": [
    "def adder(a,b):\n",
    "    c = a+b\n",
    "    return c\n",
    "\n",
    "\n",
    "adder(10 , 20)"
   ]
  },
  {
   "cell_type": "code",
   "execution_count": null,
   "id": "d99b7d07-a8ff-4f45-abc7-93dfdc16ab3a",
   "metadata": {},
   "outputs": [],
   "source": [
    "lambda a,b: a+b"
   ]
  },
  {
   "cell_type": "code",
   "execution_count": 3,
   "id": "de0a6651-e016-4fd2-be35-bd3558aa02c9",
   "metadata": {},
   "outputs": [
    {
     "data": {
      "text/plain": [
       "30"
      ]
     },
     "execution_count": 3,
     "metadata": {},
     "output_type": "execute_result"
    }
   ],
   "source": [
    "# Syntax 1\n",
    "\n",
    "var = lambda a,b: a+b\n",
    "\n",
    "var(10,20)"
   ]
  },
  {
   "cell_type": "code",
   "execution_count": 4,
   "id": "89d31dd7-2512-46f2-b675-ee543ed6b83e",
   "metadata": {},
   "outputs": [
    {
     "data": {
      "text/plain": [
       "30"
      ]
     },
     "execution_count": 4,
     "metadata": {},
     "output_type": "execute_result"
    }
   ],
   "source": [
    "# Syntax 2\n",
    "\n",
    "(lambda a,b: a+b)(10,20)"
   ]
  },
  {
   "cell_type": "code",
   "execution_count": 25,
   "id": "6b3ebd15",
   "metadata": {},
   "outputs": [
    {
     "data": {
      "text/plain": [
       "(<function __main__.<lambda>(a, b)>, 10, 20)"
      ]
     },
     "execution_count": 25,
     "metadata": {},
     "output_type": "execute_result"
    }
   ],
   "source": [
    "# by me\n",
    "(lambda a,b: a+b, 10,20) # without map its not working"
   ]
  },
  {
   "cell_type": "code",
   "execution_count": 27,
   "id": "ae31b853",
   "metadata": {},
   "outputs": [
    {
     "data": {
      "text/plain": [
       "[20, 40]"
      ]
     },
     "execution_count": 27,
     "metadata": {},
     "output_type": "execute_result"
    }
   ],
   "source": [
    "# by me\n",
    "list1=[10,20]\n",
    "list2=[10,20]\n",
    "#list(map(lambda a,b: a+b, 10,20))\n",
    "list(map(lambda a,b: a+b, list1,list2))"
   ]
  },
  {
   "cell_type": "code",
   "execution_count": 5,
   "id": "8f657185-ef9e-43f9-8ed4-a7ec03ab758f",
   "metadata": {},
   "outputs": [
    {
     "data": {
      "text/plain": [
       "(30, -10)"
      ]
     },
     "execution_count": 5,
     "metadata": {},
     "output_type": "execute_result"
    }
   ],
   "source": [
    "def adder(a,b):\n",
    "    c = a+b\n",
    "    d = a-b\n",
    "    return c,d\n",
    "\n",
    "\n",
    "adder(10 , 20)"
   ]
  },
  {
   "cell_type": "code",
   "execution_count": 14,
   "id": "6cc236f3-7bdb-4391-9eba-b9a9fdfd0625",
   "metadata": {},
   "outputs": [],
   "source": [
    "# (lambda a,b: a+b , a-b)(10,20)"
   ]
  },
  {
   "cell_type": "code",
   "execution_count": 7,
   "id": "1282806f-32d8-4016-9e8b-881a2a89baf0",
   "metadata": {},
   "outputs": [],
   "source": [
    "def palindrom(a):\n",
    "    if a == a[::-1]:\n",
    "        return ('Palindrom')\n",
    "    else:\n",
    "        return ('Not a palindrom')"
   ]
  },
  {
   "cell_type": "code",
   "execution_count": 8,
   "id": "dd547740-5f22-460f-94d2-8b4532503c2e",
   "metadata": {},
   "outputs": [
    {
     "data": {
      "text/plain": [
       "'Palindrom'"
      ]
     },
     "execution_count": 8,
     "metadata": {},
     "output_type": "execute_result"
    }
   ],
   "source": [
    "palindrom('level')"
   ]
  },
  {
   "cell_type": "code",
   "execution_count": 11,
   "id": "556c1707-559f-42b5-8c74-186c1f79be9a",
   "metadata": {},
   "outputs": [
    {
     "data": {
      "text/plain": [
       "'Not a palindrom'"
      ]
     },
     "execution_count": 11,
     "metadata": {},
     "output_type": "execute_result"
    }
   ],
   "source": [
    "(lambda a: 'Palindrom' if a == a[::-1] else 'Not a palindrom')('python')"
   ]
  },
  {
   "cell_type": "code",
   "execution_count": 16,
   "id": "07e51e66-1e17-4a3b-b24e-a40e25fa2dec",
   "metadata": {},
   "outputs": [
    {
     "data": {
      "text/plain": [
       "'xyz'"
      ]
     },
     "execution_count": 16,
     "metadata": {},
     "output_type": "execute_result"
    }
   ],
   "source": [
    "x = 'xyz@gmail.com'\n",
    "\n",
    "(lambda a : a.split('@')[0])(x)"
   ]
  },
  {
   "cell_type": "code",
   "execution_count": 17,
   "id": "b0e861a4-7122-4baf-89d9-97bf7e2b7f5b",
   "metadata": {},
   "outputs": [
    {
     "data": {
      "text/plain": [
       "'Even'"
      ]
     },
     "execution_count": 17,
     "metadata": {},
     "output_type": "execute_result"
    }
   ],
   "source": [
    "n = 56\n",
    "\n",
    "(lambda x : 'Even' if x%2==0 else 'Odd')(n)"
   ]
  },
  {
   "cell_type": "code",
   "execution_count": null,
   "id": "dc4fde7a-ff76-4b6e-854f-fbe15cf60f46",
   "metadata": {},
   "outputs": [],
   "source": [
    "lst = [23,34,54,6,34,546,67,678]"
   ]
  },
  {
   "cell_type": "code",
   "execution_count": 1,
   "id": "6ab9ea65-8324-4e51-9960-d1b347bcbfb1",
   "metadata": {},
   "outputs": [
    {
     "data": {
      "text/plain": [
       "'Even'"
      ]
     },
     "execution_count": 1,
     "metadata": {},
     "output_type": "execute_result"
    }
   ],
   "source": [
    "n = 56\n",
    "\n",
    "(lambda x : 'Even' if x%2==0 else 'Odd')(n)"
   ]
  },
  {
   "cell_type": "code",
   "execution_count": 18,
   "id": "090efb41-1568-45a3-91ca-7aea9d384f96",
   "metadata": {},
   "outputs": [],
   "source": [
    "lst = ['xyz@gmail.com' , 'abc@gmail.com' ,'pqr@gmail.com']"
   ]
  },
  {
   "cell_type": "code",
   "execution_count": null,
   "id": "f14aa53a-8cea-4885-9018-74684426ddf8",
   "metadata": {},
   "outputs": [],
   "source": [
    "x = 'xyz@gmail.com'\n",
    "\n",
    "(lambda a : a.split('@')[0])(x)"
   ]
  },
  {
   "cell_type": "markdown",
   "id": "3fc508ef-adb3-47f8-bcb3-ba9c5a5d34ab",
   "metadata": {},
   "source": [
    "# Map\n",
    "\n",
    "1. function\n",
    "2. seq\n",
    "\n",
    "\n",
    "- Using Lists with Lambda Functions\n",
    "- Lambda functions are often used with list methods like map(), filter(), and sorted() to apply a - function to each item in a list or to filter items in a list."
   ]
  },
  {
   "cell_type": "code",
   "execution_count": 5,
   "id": "c8cfe00e-0d88-41c3-8909-89bef6fe4b1c",
   "metadata": {},
   "outputs": [],
   "source": [
    "def func(a):\n",
    "    if a%2==0:\n",
    "        return 'Even'\n",
    "    else:\n",
    "        return 'Odd'"
   ]
  },
  {
   "cell_type": "code",
   "execution_count": 6,
   "id": "91067128-4c1d-48f9-aa4a-bb783a47bb11",
   "metadata": {},
   "outputs": [
    {
     "data": {
      "text/plain": [
       "'Even'"
      ]
     },
     "execution_count": 6,
     "metadata": {},
     "output_type": "execute_result"
    }
   ],
   "source": [
    "func(54)"
   ]
  },
  {
   "cell_type": "code",
   "execution_count": 22,
   "id": "ef5edb51-4a7d-4c92-a7b7-fd494459d618",
   "metadata": {},
   "outputs": [
    {
     "data": {
      "text/plain": [
       "['Odd', 'Even', 'Even', 'Even', 'Even', 'Even', 'Odd', 'Even']"
      ]
     },
     "execution_count": 22,
     "metadata": {},
     "output_type": "execute_result"
    }
   ],
   "source": [
    "lst = [23,34,54,6,34,546,67,678]\n",
    "#map() applies a function/lambda to all items in the input list.\n",
    "\n",
    "list(map(func , lst))"
   ]
  },
  {
   "cell_type": "code",
   "execution_count": 23,
   "id": "8e7e2dd6-bf0c-4222-b754-48153664e35d",
   "metadata": {},
   "outputs": [
    {
     "data": {
      "text/plain": [
       "['Odd', 'Even', 'Even', 'Even', 'Even', 'Even', 'Odd', 'Even']"
      ]
     },
     "execution_count": 23,
     "metadata": {},
     "output_type": "execute_result"
    }
   ],
   "source": [
    "lst = [23,34,54,6,34,546,67,678]\n",
    "\n",
    "\n",
    "list(map((lambda x : 'Even' if x%2==0 else 'Odd') , lst))"
   ]
  },
  {
   "cell_type": "code",
   "execution_count": 7,
   "id": "33157e38-4926-4db3-9e10-9a8913951655",
   "metadata": {},
   "outputs": [
    {
     "data": {
      "text/plain": [
       "'Even'"
      ]
     },
     "execution_count": 7,
     "metadata": {},
     "output_type": "execute_result"
    }
   ],
   "source": [
    "n = 56\n",
    "\n",
    "(lambda x : 'Even' if x%2==0 else 'Odd')(n)"
   ]
  },
  {
   "cell_type": "code",
   "execution_count": 8,
   "id": "f5c87120-1290-44c5-8452-ae18be4d88b5",
   "metadata": {},
   "outputs": [
    {
     "data": {
      "text/plain": [
       "[34, 54, 6, 34, 546, 678]"
      ]
     },
     "execution_count": 8,
     "metadata": {},
     "output_type": "execute_result"
    }
   ],
   "source": [
    "lst = [23,34,54,6,34,546,67,678]\n",
    "\n",
    "(lambda x :  [i for i in x if i%2==0])(lst)"
   ]
  },
  {
   "cell_type": "code",
   "execution_count": 11,
   "id": "004aeeac",
   "metadata": {},
   "outputs": [
    {
     "name": "stdout",
     "output_type": "stream",
     "text": [
      "[1, 4, 9, 16, 25]\n",
      "[2, 4]\n",
      "[{'name': 'Dave', 'age': 20}, {'name': 'Jane', 'age': 30}, {'name': 'John', 'age': 25}]\n"
     ]
    }
   ],
   "source": [
    "# internet\n",
    "numbers = [1, 2, 3, 4, 5]\n",
    "squared = list(map(lambda x: x ** 2, numbers))\n",
    "print(squared)  # Output: [1, 4, 9, 16, 25]\n",
    "\n",
    "#filter() creates a list of elements for which the function returns true.\n",
    "numbers = [1, 2, 3, 4, 5]\n",
    "even_numbers = list(filter(lambda x: x % 2 == 0, numbers))\n",
    "print(even_numbers)  # Output: [2, 4]\n",
    "\n",
    "#sorted() sorts the elements of a list based on a key function.\n",
    "people = [{'name': 'John', 'age': 25}, {'name': 'Jane', 'age': 30}, {'name': 'Dave', 'age': 20}]\n",
    "sorted_people = sorted(people, key=lambda x: x['age']) # here key is age wise\n",
    "print(sorted_people)\n",
    "\n",
    "# Output: [{'name': 'Dave', 'age': 20}, {'name': 'John', 'age': 25}, {'name': 'Jane', 'age': 30}]\n",
    "#expression allows the sorted() function to sort the list of dictionaries by\n",
    "#the value associated with the 'age' key in each dictionary"
   ]
  },
  {
   "cell_type": "code",
   "execution_count": 28,
   "id": "e808ff69-e833-4db2-8af7-aafdbc1da1cf",
   "metadata": {},
   "outputs": [
    {
     "data": {
      "text/plain": [
       "['akzelxw',\n",
       " 'elum',\n",
       " 'akbar.caakaterasu',\n",
       " 'akarui.kibuno',\n",
       " 'ajsparkchick',\n",
       " 'ajmeia',\n",
       " 'ajhnstn87',\n",
       " 'ailuvzhoko4',\n",
       " 'ailuvzhoko3',\n",
       " 'ailuvzhoko2',\n",
       " 'ailuvzhoko',\n",
       " 'aillensiquioco',\n",
       " 'ahmovic_ines',\n",
       " 'ahmed_g300',\n",
       " 'ahmadjazlan',\n",
       " 'ahmad_ridho19']"
      ]
     },
     "execution_count": 28,
     "metadata": {},
     "output_type": "execute_result"
    }
   ],
   "source": [
    "lst = ['akzelxw@hotmail.com',\n",
    "'elum@gmail.com',\n",
    "'akbar.caakaterasu@gmail.com',\n",
    "'akarui.kibuno@gmail.com',\n",
    "'ajsparkchick@hotmail.com',\n",
    "'ajmeia@yahoo.com',\n",
    "'ajhnstn87@gmail.com',\n",
    "'ailuvzhoko4@hotmail.com',\n",
    "'ailuvzhoko3@hotmail.com',\n",
    "'ailuvzhoko2@hotmail.com',\n",
    "'ailuvzhoko@hotmail.com',\n",
    "'aillensiquioco@aol.com',\n",
    "'ahmovic_ines@hotmail.com',\n",
    "'ahmed_g300@yahoo.com',\n",
    "'ahmadjazlan@gmail.com',\n",
    "'ahmad_ridho19@yahoo.com']\n",
    "\n",
    "# Extract usernames of all the mail ID\n",
    "\n",
    "list(map((lambda x : x.split('@')[0]) , lst))"
   ]
  },
  {
   "cell_type": "markdown",
   "id": "b7321263-f44b-417e-8956-ca14820ec866",
   "metadata": {},
   "source": [
    "# Filter\n",
    "\n",
    "1. function\n",
    "2. seq\n",
    "\n",
    "- A function should be created in such a manner that it should return bool\n",
    "- filter() creates a list of elements for which the function returns true."
   ]
  },
  {
   "cell_type": "code",
   "execution_count": 19,
   "id": "aace371c-1ed7-476f-b955-5a74b7d5a2a6",
   "metadata": {},
   "outputs": [
    {
     "data": {
      "text/plain": [
       "['Odd', 'Even', 'Even', 'Even', 'Even', 'Even', 'Odd', 'Even']"
      ]
     },
     "execution_count": 19,
     "metadata": {},
     "output_type": "execute_result"
    }
   ],
   "source": [
    "lst = [23,34,54,6,34,546,67,678]\n",
    "\n",
    "list(map((lambda x : 'Even' if x%2==0 else 'Odd') , lst))"
   ]
  },
  {
   "cell_type": "code",
   "execution_count": 20,
   "id": "515c6ec4-682a-4296-b921-37daa8babdae",
   "metadata": {},
   "outputs": [
    {
     "ename": "SyntaxError",
     "evalue": "invalid syntax (4198854171.py, line 2)",
     "output_type": "error",
     "traceback": [
      "\u001b[1;36m  Cell \u001b[1;32mIn[20], line 2\u001b[1;36m\u001b[0m\n\u001b[1;33m    list(map((lambda x : 'Even' if x%2==0 ) , lst))\u001b[0m\n\u001b[1;37m                                          ^\u001b[0m\n\u001b[1;31mSyntaxError\u001b[0m\u001b[1;31m:\u001b[0m invalid syntax\n"
     ]
    }
   ],
   "source": [
    "lst = [23,34,54,6,34,546,67,678]\n",
    "list(map((lambda x : 'Even' if x%2==0 ) , lst))"
   ]
  },
  {
   "cell_type": "code",
   "execution_count": 12,
   "id": "c46583bc-10f4-4bb5-9e6f-b13334230cbd",
   "metadata": {},
   "outputs": [
    {
     "data": {
      "text/plain": [
       "[34, 54, 6, 34, 546, 678]"
      ]
     },
     "execution_count": 12,
     "metadata": {},
     "output_type": "execute_result"
    }
   ],
   "source": [
    "lst = [23,34,54,6,34,546,67,678]\n",
    "\n",
    "list(filter((lambda x : x%2==0 ) , lst))"
   ]
  },
  {
   "cell_type": "code",
   "execution_count": 40,
   "id": "cf9b66a4-ba3c-4d6a-8893-4df8dc3043da",
   "metadata": {},
   "outputs": [
    {
     "data": {
      "text/plain": [
       "[23, 67]"
      ]
     },
     "execution_count": 40,
     "metadata": {},
     "output_type": "execute_result"
    }
   ],
   "source": [
    "list(filter((lambda x : x%2!=0 ) , lst))"
   ]
  },
  {
   "cell_type": "code",
   "execution_count": 36,
   "id": "54907f10-3f4e-4ead-b038-cef8ae34c115",
   "metadata": {},
   "outputs": [
    {
     "data": {
      "text/plain": [
       "True"
      ]
     },
     "execution_count": 36,
     "metadata": {},
     "output_type": "execute_result"
    }
   ],
   "source": [
    "48 %2 == 0"
   ]
  },
  {
   "cell_type": "code",
   "execution_count": 41,
   "id": "8449190d-2073-45ac-82be-34f35c9bc2e1",
   "metadata": {},
   "outputs": [
    {
     "data": {
      "text/plain": [
       "['elum@gmail.com',\n",
       " 'akbar.caakaterasu@gmail.com',\n",
       " 'akarui.kibuno@gmail.com',\n",
       " 'ajhnstn87@gmail.com',\n",
       " 'ahmadjazlan@gmail.com']"
      ]
     },
     "execution_count": 41,
     "metadata": {},
     "output_type": "execute_result"
    }
   ],
   "source": [
    "lst = ['akzelxw@hotmail.com',\n",
    "'elum@gmail.com',\n",
    "'akbar.caakaterasu@gmail.com',\n",
    "'akarui.kibuno@gmail.com',\n",
    "'ajsparkchick@hotmail.com',\n",
    "'ajmeia@yahoo.com',\n",
    "'ajhnstn87@gmail.com',\n",
    "'ailuvzhoko4@hotmail.com',\n",
    "'ailuvzhoko3@hotmail.com',\n",
    "'ailuvzhoko2@hotmail.com',\n",
    "'ailuvzhoko@hotmail.com',\n",
    "'aillensiquioco@aol.com',\n",
    "'ahmovic_ines@hotmail.com',\n",
    "'ahmed_g300@yahoo.com',\n",
    "'ahmadjazlan@gmail.com',\n",
    "'ahmad_ridho19@yahoo.com']\n",
    "\n",
    "list(filter((lambda x : 'gmail' in x) , lst))"
   ]
  },
  {
   "cell_type": "code",
   "execution_count": 14,
   "id": "e9e48f61-53ae-4c83-8bef-9ce039170e3e",
   "metadata": {},
   "outputs": [
    {
     "data": {
      "text/plain": [
       "['elum', 'akbar.caakaterasu', 'akarui.kibuno', 'ajhnstn87', 'ahmadjazlan']"
      ]
     },
     "execution_count": 14,
     "metadata": {},
     "output_type": "execute_result"
    }
   ],
   "source": [
    "lst = ['akzelxw@hotmail.com',\n",
    "'elum@gmail.com',\n",
    "'akbar.caakaterasu@gmail.com',\n",
    "'akarui.kibuno@gmail.com',\n",
    "'ajsparkchick@hotmail.com',\n",
    "'ajmeia@yahoo.com',\n",
    "'ajhnstn87@gmail.com',\n",
    "'ailuvzhoko4@hotmail.com',\n",
    "'ailuvzhoko3@hotmail.com',\n",
    "'ailuvzhoko2@hotmail.com',\n",
    "'ailuvzhoko@hotmail.com',\n",
    "'aillensiquioco@aol.com',\n",
    "'ahmovic_ines@hotmail.com',\n",
    "'ahmed_g300@yahoo.com',\n",
    "'ahmadjazlan@gmail.com',\n",
    "'ahmad_ridho19@yahoo.com']\n",
    "\n",
    "l = list(filter((lambda x : 'gmail' in x) , lst))\n",
    "\n",
    "list(map((lambda x: x.split('@')[0]) , l))"
   ]
  },
  {
   "cell_type": "code",
   "execution_count": 46,
   "id": "202b5e19-2778-4d80-9d90-884edd3bfc82",
   "metadata": {},
   "outputs": [
    {
     "data": {
      "text/plain": [
       "[None,\n",
       " 'elum',\n",
       " 'akbar.caakaterasu',\n",
       " 'akarui.kibuno',\n",
       " None,\n",
       " None,\n",
       " 'ajhnstn87',\n",
       " None,\n",
       " None,\n",
       " None,\n",
       " None,\n",
       " None,\n",
       " None,\n",
       " None,\n",
       " 'ahmadjazlan',\n",
       " None]"
      ]
     },
     "execution_count": 46,
     "metadata": {},
     "output_type": "execute_result"
    }
   ],
   "source": [
    "list(map((lambda x: x.split('@')[0] if 'gmail' in x else None) , lst))"
   ]
  },
  {
   "cell_type": "code",
   "execution_count": 32,
   "id": "6bfd2bba",
   "metadata": {},
   "outputs": [
    {
     "ename": "SyntaxError",
     "evalue": "unexpected EOF while parsing (2960095333.py, line 22)",
     "output_type": "error",
     "traceback": [
      "\u001b[1;36m  Cell \u001b[1;32mIn[32], line 22\u001b[1;36m\u001b[0m\n\u001b[1;33m    \u001b[0m\n\u001b[1;37m    ^\u001b[0m\n\u001b[1;31mSyntaxError\u001b[0m\u001b[1;31m:\u001b[0m unexpected EOF while parsing\n"
     ]
    }
   ],
   "source": [
    "#by me\n",
    "\n",
    "lst = ['akzelxw@hotmail.com',\n",
    "'elum@gmail.com',\n",
    "'akbar.caakaterasu@gmail.com',\n",
    "'akarui.kibuno@gmail.com',\n",
    "'ajsparkchick@hotmail.com',\n",
    "'ajmeia@yahoo.com',\n",
    "'ajhnstn87@gmail.com',\n",
    "'ailuvzhoko4@hotmail.com',\n",
    "'ailuvzhoko3@hotmail.com',\n",
    "'ailuvzhoko2@hotmail.com',\n",
    "'ailuvzhoko@hotmail.com',\n",
    "'aillensiquioco@aol.com',\n",
    "'ahmovic_ines@hotmail.com',\n",
    "'ahmed_g300@yahoo.com',\n",
    "'ahmadjazlan@gmail.com',\n",
    "'ahmad_ridho19@yahoo.com']\n",
    "\n",
    "#print(list(map((lambda x: x.split('@')[0] and 'gmail' in x ) , lst)))\n",
    "print(list(map((lambda x: x.split('@')[0] and (list(filter((lambda x : 'gmail' in x) , lst) ))))\n",
    "\n"
   ]
  },
  {
   "cell_type": "code",
   "execution_count": 44,
   "id": "c738885e-db87-4e31-8be2-04fb3269b742",
   "metadata": {},
   "outputs": [
    {
     "data": {
      "text/plain": [
       "['elum', 'akbar.caakaterasu', 'akarui.kibuno', 'ajhnstn87', 'ahmadjazlan']"
      ]
     },
     "execution_count": 44,
     "metadata": {},
     "output_type": "execute_result"
    }
   ],
   "source": [
    "list(map((lambda x: x.split('@')[0]) , list(filter((lambda x : 'gmail' in x) , lst))))"
   ]
  },
  {
   "cell_type": "code",
   "execution_count": 47,
   "id": "8d94b7d8-fbcd-4702-981d-a9530a1ac598",
   "metadata": {},
   "outputs": [
    {
     "name": "stdout",
     "output_type": "stream",
     "text": [
      "['akzelxw@hotmail.in', 'ajhnstn87@gmail.in', 'aillensiquioco@aol.in', 'ahmadjazlan@gmail.in']\n"
     ]
    },
    {
     "data": {
      "text/plain": [
       "['akzelxw', 'ajhnstn87', 'aillensiquioco', 'ahmadjazlan']"
      ]
     },
     "execution_count": 47,
     "metadata": {},
     "output_type": "execute_result"
    }
   ],
   "source": [
    "lst = ['akzelxw@hotmail.in',\n",
    "'elum@gmail.com',\n",
    "'akbar.caakaterasu@gmail.com',\n",
    "'akarui.kibuno@gmail.com',\n",
    "'ajsparkchick@hotmail.com',\n",
    "'ajmeia@yahoo.com',\n",
    "'ajhnstn87@gmail.in',\n",
    "'ailuvzhoko4@hotmail.com',\n",
    "'ailuvzhoko3@hotmail.com',\n",
    "'ailuvzhoko2@hotmail.com',\n",
    "'ailuvzhoko@hotmail.com',\n",
    "'aillensiquioco@aol.in',\n",
    "'ahmovic.ines@hotmail.com',\n",
    "'ahmed_g300@yahoo.com',\n",
    "'ahmadjazlan@gmail.in',\n",
    "'ahmad_ridho19@yahoo.com']\n",
    "\n",
    "l1=list(filter((lambda x : x.endswith('.in')) , lst))\n",
    "print(l1)\n",
    "list(map((lambda x: x.split('@')[0]), l1))\n"
   ]
  },
  {
   "cell_type": "markdown",
   "id": "52738532-7312-4c40-9e03-bd1fbfd5bf64",
   "metadata": {},
   "source": [
    "# Reduce \n",
    "\n",
    "1. function\n",
    "2. seq\n",
    "\n",
    "   sum , agg , mean , min , max"
   ]
  },
  {
   "cell_type": "code",
   "execution_count": 51,
   "id": "ffd436c4-3056-4a72-80c7-a803561d2333",
   "metadata": {},
   "outputs": [],
   "source": [
    "from functools import reduce"
   ]
  },
  {
   "cell_type": "code",
   "execution_count": 48,
   "id": "a2b70dc8-0a4c-4e42-846b-3e46d126ab0e",
   "metadata": {},
   "outputs": [
    {
     "data": {
      "text/plain": [
       "15"
      ]
     },
     "execution_count": 48,
     "metadata": {},
     "output_type": "execute_result"
    }
   ],
   "source": [
    "lst = [1,2,3,4,5]\n",
    "\n",
    "sum(lst)"
   ]
  },
  {
   "cell_type": "code",
   "execution_count": 52,
   "id": "e8cd113d-7e2f-44f5-b439-035a87d7cb17",
   "metadata": {},
   "outputs": [
    {
     "data": {
      "text/plain": [
       "15"
      ]
     },
     "execution_count": 52,
     "metadata": {},
     "output_type": "execute_result"
    }
   ],
   "source": [
    "lst = [1,2,3,4,5]\n",
    "\n",
    "reduce((lambda a,b: a+b) , lst)"
   ]
  },
  {
   "cell_type": "code",
   "execution_count": null,
   "id": "d614be12-3318-45b5-b8e5-6994128494b7",
   "metadata": {},
   "outputs": [],
   "source": [
    "1,2,3,4,5\n",
    "\n",
    "3,3,4,5\n",
    "\n",
    "6,4,5\n",
    "\n",
    "10,5\n",
    "\n",
    "15"
   ]
  },
  {
   "cell_type": "code",
   "execution_count": 54,
   "id": "c38a2fcd-b8fc-4a33-bd71-b0cc4a2775e4",
   "metadata": {},
   "outputs": [
    {
     "data": {
      "text/plain": [
       "120"
      ]
     },
     "execution_count": 54,
     "metadata": {},
     "output_type": "execute_result"
    }
   ],
   "source": [
    "lst = [1,2,3,4,5]\n",
    "\n",
    "reduce((lambda a,b: a * b) , lst)"
   ]
  },
  {
   "cell_type": "code",
   "execution_count": 55,
   "id": "bc77c9b9-f346-4dc6-b300-4ff0fd3a430b",
   "metadata": {},
   "outputs": [
    {
     "data": {
      "text/plain": [
       "0"
      ]
     },
     "execution_count": 55,
     "metadata": {},
     "output_type": "execute_result"
    }
   ],
   "source": [
    "lst = [1,2,3,0,4,5]\n",
    "\n",
    "reduce((lambda a,b : a if a<b else b) , lst)"
   ]
  },
  {
   "cell_type": "code",
   "execution_count": null,
   "id": "88918b09-0b73-4f81-a90e-a56c63d50a22",
   "metadata": {},
   "outputs": [],
   "source": [
    "1,2,3,0,4,5\n",
    "\n",
    "1,3,0,4,5\n",
    "\n",
    "1,0,4,5\n",
    "\n",
    "0,4,5\n",
    "\n",
    "0,5\n",
    "\n",
    "0"
   ]
  },
  {
   "cell_type": "code",
   "execution_count": 49,
   "id": "c9d4744c-1923-4cdb-9345-01571bde74b2",
   "metadata": {},
   "outputs": [
    {
     "data": {
      "text/plain": [
       "1"
      ]
     },
     "execution_count": 49,
     "metadata": {},
     "output_type": "execute_result"
    }
   ],
   "source": [
    "lst = [1,2,3,4,5]\n",
    "\n",
    "min(lst)"
   ]
  },
  {
   "cell_type": "code",
   "execution_count": 50,
   "id": "ef04e965-b0c5-475e-945c-0004880c4160",
   "metadata": {},
   "outputs": [
    {
     "data": {
      "text/plain": [
       "5"
      ]
     },
     "execution_count": 50,
     "metadata": {},
     "output_type": "execute_result"
    }
   ],
   "source": [
    "lst = [1,2,3,4,5]\n",
    "\n",
    "max(lst)"
   ]
  },
  {
   "cell_type": "code",
   "execution_count": 56,
   "id": "24814cdd-1dac-4d69-aac9-dda2173d9e97",
   "metadata": {},
   "outputs": [
    {
     "data": {
      "text/plain": [
       "5"
      ]
     },
     "execution_count": 56,
     "metadata": {},
     "output_type": "execute_result"
    }
   ],
   "source": [
    "lst = [1,2,3,0,4,5]\n",
    "\n",
    "reduce((lambda a,b : a if a > b else b) , lst)"
   ]
  },
  {
   "cell_type": "markdown",
   "id": "bbb70319-ce57-4796-bf1c-3c454bfbbf07",
   "metadata": {},
   "source": [
    "# Problems"
   ]
  },
  {
   "cell_type": "code",
   "execution_count": 36,
   "id": "295f0125-ba49-4623-aa53-0e6e7cac9e7f",
   "metadata": {},
   "outputs": [
    {
     "data": {
      "text/html": [
       "<div>\n",
       "<style scoped>\n",
       "    .dataframe tbody tr th:only-of-type {\n",
       "        vertical-align: middle;\n",
       "    }\n",
       "\n",
       "    .dataframe tbody tr th {\n",
       "        vertical-align: top;\n",
       "    }\n",
       "\n",
       "    .dataframe thead th {\n",
       "        text-align: right;\n",
       "    }\n",
       "</style>\n",
       "<table border=\"1\" class=\"dataframe\">\n",
       "  <thead>\n",
       "    <tr style=\"text-align: right;\">\n",
       "      <th></th>\n",
       "      <th>day</th>\n",
       "      <th>temperature</th>\n",
       "      <th>windspeed</th>\n",
       "      <th>event</th>\n",
       "    </tr>\n",
       "  </thead>\n",
       "  <tbody>\n",
       "    <tr>\n",
       "      <th>0</th>\n",
       "      <td>1/1/2017</td>\n",
       "      <td>32</td>\n",
       "      <td>6</td>\n",
       "      <td>Rain</td>\n",
       "    </tr>\n",
       "    <tr>\n",
       "      <th>1</th>\n",
       "      <td>1/2/2017</td>\n",
       "      <td>35</td>\n",
       "      <td>7</td>\n",
       "      <td>Sunny</td>\n",
       "    </tr>\n",
       "    <tr>\n",
       "      <th>2</th>\n",
       "      <td>1/3/2017</td>\n",
       "      <td>28</td>\n",
       "      <td>2</td>\n",
       "      <td>Snow</td>\n",
       "    </tr>\n",
       "    <tr>\n",
       "      <th>3</th>\n",
       "      <td>1/4/2017</td>\n",
       "      <td>24</td>\n",
       "      <td>7</td>\n",
       "      <td>Snow</td>\n",
       "    </tr>\n",
       "    <tr>\n",
       "      <th>4</th>\n",
       "      <td>1/5/2017</td>\n",
       "      <td>32</td>\n",
       "      <td>4</td>\n",
       "      <td>Rain</td>\n",
       "    </tr>\n",
       "    <tr>\n",
       "      <th>5</th>\n",
       "      <td>1/6/2017</td>\n",
       "      <td>31</td>\n",
       "      <td>2</td>\n",
       "      <td>Sunny</td>\n",
       "    </tr>\n",
       "  </tbody>\n",
       "</table>\n",
       "</div>"
      ],
      "text/plain": [
       "        day  temperature  windspeed  event\n",
       "0  1/1/2017           32          6   Rain\n",
       "1  1/2/2017           35          7  Sunny\n",
       "2  1/3/2017           28          2   Snow\n",
       "3  1/4/2017           24          7   Snow\n",
       "4  1/5/2017           32          4   Rain\n",
       "5  1/6/2017           31          2  Sunny"
      ]
     },
     "execution_count": 36,
     "metadata": {},
     "output_type": "execute_result"
    }
   ],
   "source": [
    "import pandas as pd\n",
    "\n",
    "df = pd.DataFrame({'day': {0: '1/1/2017',\n",
    "  1: '1/2/2017',\n",
    "  2: '1/3/2017',\n",
    "  3: '1/4/2017',\n",
    "  4: '1/5/2017',\n",
    "  5: '1/6/2017'},\n",
    " 'temperature': {0: 32, 1: 35, 2: 28, 3: 24, 4: 32, 5: 31},\n",
    " 'windspeed': {0: 6, 1: 7, 2: 2, 3: 7, 4: 4, 5: 2},\n",
    " 'event': {0: 'Rain', 1: 'Sunny', 2: 'Snow', 3: 'Snow', 4: 'Rain', 5: 'Sunny'}})\n",
    "\n",
    "df"
   ]
  },
  {
   "cell_type": "code",
   "execution_count": 38,
   "id": "badfb14d-edc7-4e79-9bcd-0fdad777e5ef",
   "metadata": {},
   "outputs": [],
   "source": [
    "# D/M/YYYY\n",
    "\n",
    "df['month'] = list(map((lambda x: int(x.split('/')[1])),df['day']))"
   ]
  },
  {
   "cell_type": "code",
   "execution_count": 39,
   "id": "edadde35-5a2d-457d-89f8-805c72cabf39",
   "metadata": {},
   "outputs": [
    {
     "ename": "KeyError",
     "evalue": "'existing_column'",
     "output_type": "error",
     "traceback": [
      "\u001b[1;31m---------------------------------------------------------------------------\u001b[0m",
      "\u001b[1;31mKeyError\u001b[0m                                  Traceback (most recent call last)",
      "File \u001b[1;32m~\\anaconda3\\lib\\site-packages\\pandas\\core\\indexes\\base.py:3802\u001b[0m, in \u001b[0;36mIndex.get_loc\u001b[1;34m(self, key, method, tolerance)\u001b[0m\n\u001b[0;32m   3801\u001b[0m \u001b[38;5;28;01mtry\u001b[39;00m:\n\u001b[1;32m-> 3802\u001b[0m     \u001b[38;5;28;01mreturn\u001b[39;00m \u001b[38;5;28;43mself\u001b[39;49m\u001b[38;5;241;43m.\u001b[39;49m\u001b[43m_engine\u001b[49m\u001b[38;5;241;43m.\u001b[39;49m\u001b[43mget_loc\u001b[49m\u001b[43m(\u001b[49m\u001b[43mcasted_key\u001b[49m\u001b[43m)\u001b[49m\n\u001b[0;32m   3803\u001b[0m \u001b[38;5;28;01mexcept\u001b[39;00m \u001b[38;5;167;01mKeyError\u001b[39;00m \u001b[38;5;28;01mas\u001b[39;00m err:\n",
      "File \u001b[1;32m~\\anaconda3\\lib\\site-packages\\pandas\\_libs\\index.pyx:138\u001b[0m, in \u001b[0;36mpandas._libs.index.IndexEngine.get_loc\u001b[1;34m()\u001b[0m\n",
      "File \u001b[1;32m~\\anaconda3\\lib\\site-packages\\pandas\\_libs\\index.pyx:165\u001b[0m, in \u001b[0;36mpandas._libs.index.IndexEngine.get_loc\u001b[1;34m()\u001b[0m\n",
      "File \u001b[1;32mpandas\\_libs\\hashtable_class_helper.pxi:5745\u001b[0m, in \u001b[0;36mpandas._libs.hashtable.PyObjectHashTable.get_item\u001b[1;34m()\u001b[0m\n",
      "File \u001b[1;32mpandas\\_libs\\hashtable_class_helper.pxi:5753\u001b[0m, in \u001b[0;36mpandas._libs.hashtable.PyObjectHashTable.get_item\u001b[1;34m()\u001b[0m\n",
      "\u001b[1;31mKeyError\u001b[0m: 'existing_column'",
      "\nThe above exception was the direct cause of the following exception:\n",
      "\u001b[1;31mKeyError\u001b[0m                                  Traceback (most recent call last)",
      "Cell \u001b[1;32mIn[39], line 1\u001b[0m\n\u001b[1;32m----> 1\u001b[0m df[\u001b[38;5;124m'\u001b[39m\u001b[38;5;124mnew_column\u001b[39m\u001b[38;5;124m'\u001b[39m] \u001b[38;5;241m=\u001b[39m \u001b[38;5;28mlist\u001b[39m(\u001b[38;5;28mmap\u001b[39m(() , \u001b[43mdf\u001b[49m\u001b[43m[\u001b[49m\u001b[38;5;124;43m'\u001b[39;49m\u001b[38;5;124;43mexisting_column\u001b[39;49m\u001b[38;5;124;43m'\u001b[39;49m\u001b[43m]\u001b[49m))\n",
      "File \u001b[1;32m~\\anaconda3\\lib\\site-packages\\pandas\\core\\frame.py:3807\u001b[0m, in \u001b[0;36mDataFrame.__getitem__\u001b[1;34m(self, key)\u001b[0m\n\u001b[0;32m   3805\u001b[0m \u001b[38;5;28;01mif\u001b[39;00m \u001b[38;5;28mself\u001b[39m\u001b[38;5;241m.\u001b[39mcolumns\u001b[38;5;241m.\u001b[39mnlevels \u001b[38;5;241m>\u001b[39m \u001b[38;5;241m1\u001b[39m:\n\u001b[0;32m   3806\u001b[0m     \u001b[38;5;28;01mreturn\u001b[39;00m \u001b[38;5;28mself\u001b[39m\u001b[38;5;241m.\u001b[39m_getitem_multilevel(key)\n\u001b[1;32m-> 3807\u001b[0m indexer \u001b[38;5;241m=\u001b[39m \u001b[38;5;28;43mself\u001b[39;49m\u001b[38;5;241;43m.\u001b[39;49m\u001b[43mcolumns\u001b[49m\u001b[38;5;241;43m.\u001b[39;49m\u001b[43mget_loc\u001b[49m\u001b[43m(\u001b[49m\u001b[43mkey\u001b[49m\u001b[43m)\u001b[49m\n\u001b[0;32m   3808\u001b[0m \u001b[38;5;28;01mif\u001b[39;00m is_integer(indexer):\n\u001b[0;32m   3809\u001b[0m     indexer \u001b[38;5;241m=\u001b[39m [indexer]\n",
      "File \u001b[1;32m~\\anaconda3\\lib\\site-packages\\pandas\\core\\indexes\\base.py:3804\u001b[0m, in \u001b[0;36mIndex.get_loc\u001b[1;34m(self, key, method, tolerance)\u001b[0m\n\u001b[0;32m   3802\u001b[0m     \u001b[38;5;28;01mreturn\u001b[39;00m \u001b[38;5;28mself\u001b[39m\u001b[38;5;241m.\u001b[39m_engine\u001b[38;5;241m.\u001b[39mget_loc(casted_key)\n\u001b[0;32m   3803\u001b[0m \u001b[38;5;28;01mexcept\u001b[39;00m \u001b[38;5;167;01mKeyError\u001b[39;00m \u001b[38;5;28;01mas\u001b[39;00m err:\n\u001b[1;32m-> 3804\u001b[0m     \u001b[38;5;28;01mraise\u001b[39;00m \u001b[38;5;167;01mKeyError\u001b[39;00m(key) \u001b[38;5;28;01mfrom\u001b[39;00m \u001b[38;5;21;01merr\u001b[39;00m\n\u001b[0;32m   3805\u001b[0m \u001b[38;5;28;01mexcept\u001b[39;00m \u001b[38;5;167;01mTypeError\u001b[39;00m:\n\u001b[0;32m   3806\u001b[0m     \u001b[38;5;66;03m# If we have a listlike key, _check_indexing_error will raise\u001b[39;00m\n\u001b[0;32m   3807\u001b[0m     \u001b[38;5;66;03m#  InvalidIndexError. Otherwise we fall through and re-raise\u001b[39;00m\n\u001b[0;32m   3808\u001b[0m     \u001b[38;5;66;03m#  the TypeError.\u001b[39;00m\n\u001b[0;32m   3809\u001b[0m     \u001b[38;5;28mself\u001b[39m\u001b[38;5;241m.\u001b[39m_check_indexing_error(key)\n",
      "\u001b[1;31mKeyError\u001b[0m: 'existing_column'"
     ]
    }
   ],
   "source": [
    "df['new_column'] = list(map(() , df['existing_column']))"
   ]
  },
  {
   "cell_type": "code",
   "execution_count": 40,
   "id": "2a9b9277-dc69-4c83-8637-a87b07041ddd",
   "metadata": {},
   "outputs": [
    {
     "data": {
      "text/html": [
       "<div>\n",
       "<style scoped>\n",
       "    .dataframe tbody tr th:only-of-type {\n",
       "        vertical-align: middle;\n",
       "    }\n",
       "\n",
       "    .dataframe tbody tr th {\n",
       "        vertical-align: top;\n",
       "    }\n",
       "\n",
       "    .dataframe thead th {\n",
       "        text-align: right;\n",
       "    }\n",
       "</style>\n",
       "<table border=\"1\" class=\"dataframe\">\n",
       "  <thead>\n",
       "    <tr style=\"text-align: right;\">\n",
       "      <th></th>\n",
       "      <th>day</th>\n",
       "      <th>temperature</th>\n",
       "      <th>windspeed</th>\n",
       "      <th>event</th>\n",
       "      <th>month</th>\n",
       "    </tr>\n",
       "  </thead>\n",
       "  <tbody>\n",
       "    <tr>\n",
       "      <th>0</th>\n",
       "      <td>1/1/2017</td>\n",
       "      <td>32</td>\n",
       "      <td>6</td>\n",
       "      <td>Rain</td>\n",
       "      <td>1</td>\n",
       "    </tr>\n",
       "    <tr>\n",
       "      <th>1</th>\n",
       "      <td>1/2/2017</td>\n",
       "      <td>35</td>\n",
       "      <td>7</td>\n",
       "      <td>Sunny</td>\n",
       "      <td>2</td>\n",
       "    </tr>\n",
       "    <tr>\n",
       "      <th>2</th>\n",
       "      <td>1/3/2017</td>\n",
       "      <td>28</td>\n",
       "      <td>2</td>\n",
       "      <td>Snow</td>\n",
       "      <td>3</td>\n",
       "    </tr>\n",
       "    <tr>\n",
       "      <th>3</th>\n",
       "      <td>1/4/2017</td>\n",
       "      <td>24</td>\n",
       "      <td>7</td>\n",
       "      <td>Snow</td>\n",
       "      <td>4</td>\n",
       "    </tr>\n",
       "    <tr>\n",
       "      <th>4</th>\n",
       "      <td>1/5/2017</td>\n",
       "      <td>32</td>\n",
       "      <td>4</td>\n",
       "      <td>Rain</td>\n",
       "      <td>5</td>\n",
       "    </tr>\n",
       "    <tr>\n",
       "      <th>5</th>\n",
       "      <td>1/6/2017</td>\n",
       "      <td>31</td>\n",
       "      <td>2</td>\n",
       "      <td>Sunny</td>\n",
       "      <td>6</td>\n",
       "    </tr>\n",
       "  </tbody>\n",
       "</table>\n",
       "</div>"
      ],
      "text/plain": [
       "        day  temperature  windspeed  event  month\n",
       "0  1/1/2017           32          6   Rain      1\n",
       "1  1/2/2017           35          7  Sunny      2\n",
       "2  1/3/2017           28          2   Snow      3\n",
       "3  1/4/2017           24          7   Snow      4\n",
       "4  1/5/2017           32          4   Rain      5\n",
       "5  1/6/2017           31          2  Sunny      6"
      ]
     },
     "execution_count": 40,
     "metadata": {},
     "output_type": "execute_result"
    }
   ],
   "source": [
    "df"
   ]
  },
  {
   "cell_type": "code",
   "execution_count": 78,
   "id": "f2e952ed-c640-4ea8-b0ef-3b13e61cecdf",
   "metadata": {},
   "outputs": [
    {
     "data": {
      "text/plain": [
       "[7, 9, 11, 13, 15]"
      ]
     },
     "execution_count": 78,
     "metadata": {},
     "output_type": "execute_result"
    }
   ],
   "source": [
    "a = [1,2,3,4,5]\n",
    "b = [6,7,8,9,10]\n",
    "\n",
    "list(map((lambda x,y : x+y) , a,b))"
   ]
  },
  {
   "cell_type": "code",
   "execution_count": 79,
   "id": "64226e26-698b-4765-89b2-7187ce3b29b8",
   "metadata": {},
   "outputs": [
    {
     "data": {
      "text/html": [
       "<div>\n",
       "<style scoped>\n",
       "    .dataframe tbody tr th:only-of-type {\n",
       "        vertical-align: middle;\n",
       "    }\n",
       "\n",
       "    .dataframe tbody tr th {\n",
       "        vertical-align: top;\n",
       "    }\n",
       "\n",
       "    .dataframe thead th {\n",
       "        text-align: right;\n",
       "    }\n",
       "</style>\n",
       "<table border=\"1\" class=\"dataframe\">\n",
       "  <thead>\n",
       "    <tr style=\"text-align: right;\">\n",
       "      <th></th>\n",
       "      <th>day</th>\n",
       "      <th>temperature</th>\n",
       "      <th>windspeed</th>\n",
       "      <th>event</th>\n",
       "      <th>month</th>\n",
       "    </tr>\n",
       "  </thead>\n",
       "  <tbody>\n",
       "    <tr>\n",
       "      <th>0</th>\n",
       "      <td>1/1/2017</td>\n",
       "      <td>32</td>\n",
       "      <td>6</td>\n",
       "      <td>Rain</td>\n",
       "      <td>1</td>\n",
       "    </tr>\n",
       "    <tr>\n",
       "      <th>1</th>\n",
       "      <td>1/2/2017</td>\n",
       "      <td>35</td>\n",
       "      <td>7</td>\n",
       "      <td>Sunny</td>\n",
       "      <td>2</td>\n",
       "    </tr>\n",
       "    <tr>\n",
       "      <th>2</th>\n",
       "      <td>1/3/2017</td>\n",
       "      <td>28</td>\n",
       "      <td>2</td>\n",
       "      <td>Snow</td>\n",
       "      <td>3</td>\n",
       "    </tr>\n",
       "    <tr>\n",
       "      <th>3</th>\n",
       "      <td>1/4/2017</td>\n",
       "      <td>24</td>\n",
       "      <td>7</td>\n",
       "      <td>Snow</td>\n",
       "      <td>4</td>\n",
       "    </tr>\n",
       "    <tr>\n",
       "      <th>4</th>\n",
       "      <td>1/5/2017</td>\n",
       "      <td>32</td>\n",
       "      <td>4</td>\n",
       "      <td>Rain</td>\n",
       "      <td>5</td>\n",
       "    </tr>\n",
       "    <tr>\n",
       "      <th>5</th>\n",
       "      <td>1/6/2017</td>\n",
       "      <td>31</td>\n",
       "      <td>2</td>\n",
       "      <td>Sunny</td>\n",
       "      <td>6</td>\n",
       "    </tr>\n",
       "  </tbody>\n",
       "</table>\n",
       "</div>"
      ],
      "text/plain": [
       "        day  temperature  windspeed  event  month\n",
       "0  1/1/2017           32          6   Rain      1\n",
       "1  1/2/2017           35          7  Sunny      2\n",
       "2  1/3/2017           28          2   Snow      3\n",
       "3  1/4/2017           24          7   Snow      4\n",
       "4  1/5/2017           32          4   Rain      5\n",
       "5  1/6/2017           31          2  Sunny      6"
      ]
     },
     "execution_count": 79,
     "metadata": {},
     "output_type": "execute_result"
    }
   ],
   "source": [
    "df"
   ]
  },
  {
   "cell_type": "code",
   "execution_count": 80,
   "id": "56d33f13-faf3-499c-96fd-8be9ab8e6116",
   "metadata": {},
   "outputs": [
    {
     "data": {
      "text/html": [
       "<div>\n",
       "<style scoped>\n",
       "    .dataframe tbody tr th:only-of-type {\n",
       "        vertical-align: middle;\n",
       "    }\n",
       "\n",
       "    .dataframe tbody tr th {\n",
       "        vertical-align: top;\n",
       "    }\n",
       "\n",
       "    .dataframe thead th {\n",
       "        text-align: right;\n",
       "    }\n",
       "</style>\n",
       "<table border=\"1\" class=\"dataframe\">\n",
       "  <thead>\n",
       "    <tr style=\"text-align: right;\">\n",
       "      <th></th>\n",
       "      <th>day</th>\n",
       "      <th>temperature</th>\n",
       "      <th>windspeed</th>\n",
       "      <th>event</th>\n",
       "      <th>month</th>\n",
       "      <th>col_1</th>\n",
       "    </tr>\n",
       "  </thead>\n",
       "  <tbody>\n",
       "    <tr>\n",
       "      <th>0</th>\n",
       "      <td>1/1/2017</td>\n",
       "      <td>32</td>\n",
       "      <td>6</td>\n",
       "      <td>Rain</td>\n",
       "      <td>1</td>\n",
       "      <td>192</td>\n",
       "    </tr>\n",
       "    <tr>\n",
       "      <th>1</th>\n",
       "      <td>1/2/2017</td>\n",
       "      <td>35</td>\n",
       "      <td>7</td>\n",
       "      <td>Sunny</td>\n",
       "      <td>2</td>\n",
       "      <td>245</td>\n",
       "    </tr>\n",
       "    <tr>\n",
       "      <th>2</th>\n",
       "      <td>1/3/2017</td>\n",
       "      <td>28</td>\n",
       "      <td>2</td>\n",
       "      <td>Snow</td>\n",
       "      <td>3</td>\n",
       "      <td>56</td>\n",
       "    </tr>\n",
       "    <tr>\n",
       "      <th>3</th>\n",
       "      <td>1/4/2017</td>\n",
       "      <td>24</td>\n",
       "      <td>7</td>\n",
       "      <td>Snow</td>\n",
       "      <td>4</td>\n",
       "      <td>168</td>\n",
       "    </tr>\n",
       "    <tr>\n",
       "      <th>4</th>\n",
       "      <td>1/5/2017</td>\n",
       "      <td>32</td>\n",
       "      <td>4</td>\n",
       "      <td>Rain</td>\n",
       "      <td>5</td>\n",
       "      <td>128</td>\n",
       "    </tr>\n",
       "    <tr>\n",
       "      <th>5</th>\n",
       "      <td>1/6/2017</td>\n",
       "      <td>31</td>\n",
       "      <td>2</td>\n",
       "      <td>Sunny</td>\n",
       "      <td>6</td>\n",
       "      <td>62</td>\n",
       "    </tr>\n",
       "  </tbody>\n",
       "</table>\n",
       "</div>"
      ],
      "text/plain": [
       "        day  temperature  windspeed  event  month  col_1\n",
       "0  1/1/2017           32          6   Rain      1    192\n",
       "1  1/2/2017           35          7  Sunny      2    245\n",
       "2  1/3/2017           28          2   Snow      3     56\n",
       "3  1/4/2017           24          7   Snow      4    168\n",
       "4  1/5/2017           32          4   Rain      5    128\n",
       "5  1/6/2017           31          2  Sunny      6     62"
      ]
     },
     "execution_count": 80,
     "metadata": {},
     "output_type": "execute_result"
    }
   ],
   "source": [
    "# Create a new column called as col_1 whcih contains the multilication of temperature and windspeed\n",
    "\n",
    "df['col_1'] = list(map((lambda x,y: x*y), df['temperature'], df['windspeed'] ))\n",
    "\n",
    "df"
   ]
  },
  {
   "cell_type": "code",
   "execution_count": 83,
   "id": "a051bb5f-67f2-4a65-b39b-90879bdd7ae3",
   "metadata": {},
   "outputs": [
    {
     "data": {
      "text/html": [
       "<div>\n",
       "<style scoped>\n",
       "    .dataframe tbody tr th:only-of-type {\n",
       "        vertical-align: middle;\n",
       "    }\n",
       "\n",
       "    .dataframe tbody tr th {\n",
       "        vertical-align: top;\n",
       "    }\n",
       "\n",
       "    .dataframe thead th {\n",
       "        text-align: right;\n",
       "    }\n",
       "</style>\n",
       "<table border=\"1\" class=\"dataframe\">\n",
       "  <thead>\n",
       "    <tr style=\"text-align: right;\">\n",
       "      <th></th>\n",
       "      <th>day</th>\n",
       "      <th>temperature</th>\n",
       "      <th>windspeed</th>\n",
       "      <th>event</th>\n",
       "      <th>month</th>\n",
       "      <th>col_1</th>\n",
       "      <th>col_2</th>\n",
       "    </tr>\n",
       "  </thead>\n",
       "  <tbody>\n",
       "    <tr>\n",
       "      <th>0</th>\n",
       "      <td>1/1/2017</td>\n",
       "      <td>32</td>\n",
       "      <td>6</td>\n",
       "      <td>Rain</td>\n",
       "      <td>1</td>\n",
       "      <td>192</td>\n",
       "      <td>89.6</td>\n",
       "    </tr>\n",
       "    <tr>\n",
       "      <th>1</th>\n",
       "      <td>1/2/2017</td>\n",
       "      <td>35</td>\n",
       "      <td>7</td>\n",
       "      <td>Sunny</td>\n",
       "      <td>2</td>\n",
       "      <td>245</td>\n",
       "      <td>95.0</td>\n",
       "    </tr>\n",
       "    <tr>\n",
       "      <th>2</th>\n",
       "      <td>1/3/2017</td>\n",
       "      <td>28</td>\n",
       "      <td>2</td>\n",
       "      <td>Snow</td>\n",
       "      <td>3</td>\n",
       "      <td>56</td>\n",
       "      <td>82.4</td>\n",
       "    </tr>\n",
       "    <tr>\n",
       "      <th>3</th>\n",
       "      <td>1/4/2017</td>\n",
       "      <td>24</td>\n",
       "      <td>7</td>\n",
       "      <td>Snow</td>\n",
       "      <td>4</td>\n",
       "      <td>168</td>\n",
       "      <td>75.2</td>\n",
       "    </tr>\n",
       "    <tr>\n",
       "      <th>4</th>\n",
       "      <td>1/5/2017</td>\n",
       "      <td>32</td>\n",
       "      <td>4</td>\n",
       "      <td>Rain</td>\n",
       "      <td>5</td>\n",
       "      <td>128</td>\n",
       "      <td>89.6</td>\n",
       "    </tr>\n",
       "    <tr>\n",
       "      <th>5</th>\n",
       "      <td>1/6/2017</td>\n",
       "      <td>31</td>\n",
       "      <td>2</td>\n",
       "      <td>Sunny</td>\n",
       "      <td>6</td>\n",
       "      <td>62</td>\n",
       "      <td>87.8</td>\n",
       "    </tr>\n",
       "  </tbody>\n",
       "</table>\n",
       "</div>"
      ],
      "text/plain": [
       "        day  temperature  windspeed  event  month  col_1  col_2\n",
       "0  1/1/2017           32          6   Rain      1    192   89.6\n",
       "1  1/2/2017           35          7  Sunny      2    245   95.0\n",
       "2  1/3/2017           28          2   Snow      3     56   82.4\n",
       "3  1/4/2017           24          7   Snow      4    168   75.2\n",
       "4  1/5/2017           32          4   Rain      5    128   89.6\n",
       "5  1/6/2017           31          2  Sunny      6     62   87.8"
      ]
     },
     "execution_count": 83,
     "metadata": {},
     "output_type": "execute_result"
    }
   ],
   "source": [
    "# Create a new column called as col_2, That contains the far of the temperature column\n",
    "\n",
    "# formulae -->   ((9/5)*T)+32\n",
    "\n",
    "df['col_2']= list(map((lambda T : ((9/5)*T)+32 ) , df['temperature']))\n",
    "df"
   ]
  },
  {
   "cell_type": "code",
   "execution_count": 87,
   "id": "2fdf72c8-0496-4efd-8d49-1e022caa100d",
   "metadata": {},
   "outputs": [
    {
     "data": {
      "text/html": [
       "<div>\n",
       "<style scoped>\n",
       "    .dataframe tbody tr th:only-of-type {\n",
       "        vertical-align: middle;\n",
       "    }\n",
       "\n",
       "    .dataframe tbody tr th {\n",
       "        vertical-align: top;\n",
       "    }\n",
       "\n",
       "    .dataframe thead th {\n",
       "        text-align: right;\n",
       "    }\n",
       "</style>\n",
       "<table border=\"1\" class=\"dataframe\">\n",
       "  <thead>\n",
       "    <tr style=\"text-align: right;\">\n",
       "      <th></th>\n",
       "      <th>day</th>\n",
       "      <th>temperature</th>\n",
       "      <th>windspeed</th>\n",
       "      <th>event</th>\n",
       "      <th>month</th>\n",
       "      <th>col_1</th>\n",
       "      <th>col_2</th>\n",
       "      <th>col_3</th>\n",
       "    </tr>\n",
       "  </thead>\n",
       "  <tbody>\n",
       "    <tr>\n",
       "      <th>0</th>\n",
       "      <td>1/1/2017</td>\n",
       "      <td>32</td>\n",
       "      <td>6</td>\n",
       "      <td>Rain</td>\n",
       "      <td>1</td>\n",
       "      <td>192</td>\n",
       "      <td>89.6</td>\n",
       "      <td>1</td>\n",
       "    </tr>\n",
       "    <tr>\n",
       "      <th>1</th>\n",
       "      <td>1/2/2017</td>\n",
       "      <td>35</td>\n",
       "      <td>7</td>\n",
       "      <td>Sunny</td>\n",
       "      <td>2</td>\n",
       "      <td>245</td>\n",
       "      <td>95.0</td>\n",
       "      <td>2</td>\n",
       "    </tr>\n",
       "    <tr>\n",
       "      <th>2</th>\n",
       "      <td>1/3/2017</td>\n",
       "      <td>28</td>\n",
       "      <td>2</td>\n",
       "      <td>Snow</td>\n",
       "      <td>3</td>\n",
       "      <td>56</td>\n",
       "      <td>82.4</td>\n",
       "      <td>2</td>\n",
       "    </tr>\n",
       "    <tr>\n",
       "      <th>3</th>\n",
       "      <td>1/4/2017</td>\n",
       "      <td>24</td>\n",
       "      <td>7</td>\n",
       "      <td>Snow</td>\n",
       "      <td>4</td>\n",
       "      <td>168</td>\n",
       "      <td>75.2</td>\n",
       "      <td>4</td>\n",
       "    </tr>\n",
       "    <tr>\n",
       "      <th>4</th>\n",
       "      <td>1/5/2017</td>\n",
       "      <td>32</td>\n",
       "      <td>4</td>\n",
       "      <td>Rain</td>\n",
       "      <td>5</td>\n",
       "      <td>128</td>\n",
       "      <td>89.6</td>\n",
       "      <td>4</td>\n",
       "    </tr>\n",
       "    <tr>\n",
       "      <th>5</th>\n",
       "      <td>1/6/2017</td>\n",
       "      <td>31</td>\n",
       "      <td>2</td>\n",
       "      <td>Sunny</td>\n",
       "      <td>6</td>\n",
       "      <td>62</td>\n",
       "      <td>87.8</td>\n",
       "      <td>2</td>\n",
       "    </tr>\n",
       "  </tbody>\n",
       "</table>\n",
       "</div>"
      ],
      "text/plain": [
       "        day  temperature  windspeed  event  month  col_1  col_2  col_3\n",
       "0  1/1/2017           32          6   Rain      1    192   89.6      1\n",
       "1  1/2/2017           35          7  Sunny      2    245   95.0      2\n",
       "2  1/3/2017           28          2   Snow      3     56   82.4      2\n",
       "3  1/4/2017           24          7   Snow      4    168   75.2      4\n",
       "4  1/5/2017           32          4   Rain      5    128   89.6      4\n",
       "5  1/6/2017           31          2  Sunny      6     62   87.8      2"
      ]
     },
     "execution_count": 87,
     "metadata": {},
     "output_type": "execute_result"
    }
   ],
   "source": [
    "# create a new column called as col_3 --> thats contains the min value comparing windspeed and month\n",
    "\n",
    "df['col_3'] = list(map((lambda a,b : a if a<b else b), df['windspeed'], df['month']))\n",
    "\n",
    "df['col_3'] = list(map((lambda a,b : min(a,b)), df['windspeed'], df['month']))\n",
    "\n",
    "df['col_3'] = list(map(min,df['month'],df['windspeed']))\n",
    "\n",
    "df"
   ]
  },
  {
   "cell_type": "code",
   "execution_count": 88,
   "id": "efd6459a-d390-4b46-bfb7-f0ab22f95a7a",
   "metadata": {},
   "outputs": [
    {
     "data": {
      "text/plain": [
       "['y', 'w', 'w', 'y']"
      ]
     },
     "execution_count": 88,
     "metadata": {},
     "output_type": "execute_result"
    }
   ],
   "source": [
    "# event --> extract the last char of the events which are starting with S or s\n",
    "\n",
    "# ['y' , 'w' , 'w' , 'y']\n",
    "\n",
    "filtered_list = list(filter(lambda x : x[0].lower() == 's', df['event']))\n",
    "\n",
    "result = list(map(lambda x: x[-1],filtered_list))\n",
    "\n",
    "result"
   ]
  },
  {
   "cell_type": "markdown",
   "id": "d100233b-cc56-4e25-a395-569d756ea6c9",
   "metadata": {},
   "source": [
    "# Modules"
   ]
  },
  {
   "cell_type": "code",
   "execution_count": null,
   "id": "56166b0b-07a0-4c93-819c-b4f5a1e989ca",
   "metadata": {},
   "outputs": [],
   "source": [
    "file handling , exceptional handling , regex , numpy 4 , pandas 4 , mat plotlib and seaborn 2 "
   ]
  },
  {
   "cell_type": "code",
   "execution_count": null,
   "id": "6625ee94-8ada-4ac9-927a-466c13d482d5",
   "metadata": {},
   "outputs": [],
   "source": []
  },
  {
   "cell_type": "code",
   "execution_count": null,
   "id": "c3995c54-850d-439e-bcf5-a1950d9215f8",
   "metadata": {},
   "outputs": [],
   "source": []
  }
 ],
 "metadata": {
  "kernelspec": {
   "display_name": "Python 3 (ipykernel)",
   "language": "python",
   "name": "python3"
  },
  "language_info": {
   "codemirror_mode": {
    "name": "ipython",
    "version": 3
   },
   "file_extension": ".py",
   "mimetype": "text/x-python",
   "name": "python",
   "nbconvert_exporter": "python",
   "pygments_lexer": "ipython3",
   "version": "3.9.13"
  }
 },
 "nbformat": 4,
 "nbformat_minor": 5
}
