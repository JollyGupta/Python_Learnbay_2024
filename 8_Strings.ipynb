{
 "cells": [
  {
   "cell_type": "markdown",
   "id": "7b31a763",
   "metadata": {},
   "source": [
    "# Properties of string\n",
    "\n",
    "- It is an seq data type (It allows us to perform indexing and slicing)\n",
    "- It allows us to perform some basic operations (concatination , repetation , identity , Membership)\n",
    "- A string is an immutable data type"
   ]
  },
  {
   "cell_type": "markdown",
   "id": "eb2382d9",
   "metadata": {},
   "source": [
    "# Concatination\n",
    "- op ---> +\n",
    "- operands --> both should be a string data type"
   ]
  },
  {
   "cell_type": "code",
   "execution_count": 1,
   "id": "f3ea73c6",
   "metadata": {},
   "outputs": [
    {
     "data": {
      "text/plain": [
       "'xyzabc'"
      ]
     },
     "execution_count": 1,
     "metadata": {},
     "output_type": "execute_result"
    }
   ],
   "source": [
    "a = 'xyz'\n",
    "b = 'abc'\n",
    "\n",
    "a+b"
   ]
  },
  {
   "cell_type": "code",
   "execution_count": 2,
   "id": "a5b7f259",
   "metadata": {},
   "outputs": [
    {
     "ename": "TypeError",
     "evalue": "can only concatenate str (not \"int\") to str",
     "output_type": "error",
     "traceback": [
      "\u001b[1;31m---------------------------------------------------------------------------\u001b[0m",
      "\u001b[1;31mTypeError\u001b[0m                                 Traceback (most recent call last)",
      "Cell \u001b[1;32mIn[2], line 4\u001b[0m\n\u001b[0;32m      1\u001b[0m a \u001b[38;5;241m=\u001b[39m \u001b[38;5;124m'\u001b[39m\u001b[38;5;124mxyz\u001b[39m\u001b[38;5;124m'\u001b[39m\n\u001b[0;32m      2\u001b[0m b \u001b[38;5;241m=\u001b[39m \u001b[38;5;241m3545\u001b[39m\n\u001b[1;32m----> 4\u001b[0m \u001b[43ma\u001b[49m\u001b[38;5;241;43m+\u001b[39;49m\u001b[43mb\u001b[49m\n",
      "\u001b[1;31mTypeError\u001b[0m: can only concatenate str (not \"int\") to str"
     ]
    }
   ],
   "source": [
    "a = 'xyz'\n",
    "b = 3545\n",
    "\n",
    "a+b"
   ]
  },
  {
   "cell_type": "code",
   "execution_count": 3,
   "id": "115815a8",
   "metadata": {},
   "outputs": [
    {
     "data": {
      "text/plain": [
       "'1020'"
      ]
     },
     "execution_count": 3,
     "metadata": {},
     "output_type": "execute_result"
    }
   ],
   "source": [
    "a = '10'\n",
    "b = '20'\n",
    "\n",
    "a+b"
   ]
  },
  {
   "cell_type": "markdown",
   "id": "4218aefb",
   "metadata": {},
   "source": [
    "# repetation\n",
    "\n",
    "- op ---> *\n",
    "- operands --> One should be a string data type and another should be an integer"
   ]
  },
  {
   "cell_type": "code",
   "execution_count": 4,
   "id": "44cfcb76",
   "metadata": {},
   "outputs": [
    {
     "data": {
      "text/plain": [
       "'xyzxyzxyz'"
      ]
     },
     "execution_count": 4,
     "metadata": {},
     "output_type": "execute_result"
    }
   ],
   "source": [
    "a = 'xyz'\n",
    "b = 3\n",
    "\n",
    "a*b"
   ]
  },
  {
   "cell_type": "code",
   "execution_count": 5,
   "id": "5c5fd26e",
   "metadata": {},
   "outputs": [
    {
     "data": {
      "text/plain": [
       "'2020'"
      ]
     },
     "execution_count": 5,
     "metadata": {},
     "output_type": "execute_result"
    }
   ],
   "source": [
    "a = '20'\n",
    "b = 2\n",
    "\n",
    "a*b"
   ]
  },
  {
   "cell_type": "markdown",
   "id": "d717e994",
   "metadata": {},
   "source": [
    "# Identity\n",
    "\n",
    "- op ---> is , is not\n"
   ]
  },
  {
   "cell_type": "code",
   "execution_count": 1,
   "id": "9bc6dc26",
   "metadata": {},
   "outputs": [
    {
     "name": "stdout",
     "output_type": "stream",
     "text": [
      "1824712947248\n",
      "1824712947248\n"
     ]
    }
   ],
   "source": [
    "a = 'abc_ABC_123' \n",
    "b = 'abc_ABC_123'\n",
    "\n",
    "a is b # memory allocation same\n",
    "print(id(a))\n",
    "print(id(b))\n"
   ]
  },
  {
   "cell_type": "code",
   "execution_count": 7,
   "id": "1fb93962",
   "metadata": {},
   "outputs": [
    {
     "name": "stdout",
     "output_type": "stream",
     "text": [
      "2116936573552\n",
      "2116936422448\n",
      "False\n",
      "True\n"
     ]
    }
   ],
   "source": [
    "a = 'abc ABC_123'\n",
    "b = 'abc ABC_123'\n",
    "\n",
    "print(id(a))\n",
    "print(id(b))\n",
    "\n",
    "print(a is b) # because of space, memory allocation is differnet\n",
    "\n",
    "print(a == b)  #value"
   ]
  },
  {
   "cell_type": "code",
   "execution_count": 8,
   "id": "9b9fcd1a",
   "metadata": {},
   "outputs": [
    {
     "name": "stdout",
     "output_type": "stream",
     "text": [
      "2116915508720\n",
      "2116915508720\n",
      "True\n",
      "True\n"
     ]
    }
   ],
   "source": [
    "a = 'abc_ABC_123'\n",
    "b = 'abc_ABC_123'\n",
    "\n",
    "print(id(a))\n",
    "print(id(b))\n",
    "\n",
    "print(a is b)\n",
    "\n",
    "print(a == b)"
   ]
  },
  {
   "cell_type": "markdown",
   "id": "2c13c1dc",
   "metadata": {},
   "source": [
    "# Membership\n",
    "\n",
    "- op ---> in , not\n",
    "\n",
    "It is to check if the sub seq is present in the seq or noot"
   ]
  },
  {
   "cell_type": "code",
   "execution_count": 9,
   "id": "25d3bb73",
   "metadata": {},
   "outputs": [
    {
     "data": {
      "text/plain": [
       "True"
      ]
     },
     "execution_count": 9,
     "metadata": {},
     "output_type": "execute_result"
    }
   ],
   "source": [
    "a = 'this is pythons class'\n",
    "\n",
    "'python' in a"
   ]
  },
  {
   "cell_type": "code",
   "execution_count": 10,
   "id": "90590351",
   "metadata": {},
   "outputs": [
    {
     "data": {
      "text/plain": [
       "False"
      ]
     },
     "execution_count": 10,
     "metadata": {},
     "output_type": "execute_result"
    }
   ],
   "source": [
    "a = 'this is pythons class'\n",
    "\n",
    "'java' in a"
   ]
  },
  {
   "cell_type": "code",
   "execution_count": 11,
   "id": "44567149",
   "metadata": {},
   "outputs": [
    {
     "data": {
      "text/plain": [
       "True"
      ]
     },
     "execution_count": 11,
     "metadata": {},
     "output_type": "execute_result"
    }
   ],
   "source": [
    "a = 'this is pythons class'\n",
    "\n",
    "'is' in a"
   ]
  },
  {
   "cell_type": "code",
   "execution_count": 12,
   "id": "041b6215",
   "metadata": {},
   "outputs": [
    {
     "data": {
      "text/plain": [
       "False"
      ]
     },
     "execution_count": 12,
     "metadata": {},
     "output_type": "execute_result"
    }
   ],
   "source": [
    "a = 'this is pythons class'\n",
    "\n",
    "'si' in a"
   ]
  },
  {
   "cell_type": "code",
   "execution_count": 13,
   "id": "24e69d80",
   "metadata": {},
   "outputs": [
    {
     "data": {
      "text/plain": [
       "True"
      ]
     },
     "execution_count": 13,
     "metadata": {},
     "output_type": "execute_result"
    }
   ],
   "source": [
    "a = 'this is pythons class'\n",
    "\n",
    "'java' not in a"
   ]
  },
  {
   "cell_type": "code",
   "execution_count": 14,
   "id": "ca421382",
   "metadata": {},
   "outputs": [
    {
     "data": {
      "text/plain": [
       "True"
      ]
     },
     "execution_count": 14,
     "metadata": {},
     "output_type": "execute_result"
    }
   ],
   "source": [
    "a = 'this is pythons class'\n",
    "\n",
    "'si' in a[::-1]  # it will read from reverse order"
   ]
  },
  {
   "cell_type": "markdown",
   "id": "ac478243",
   "metadata": {},
   "source": [
    "# It is an immutable data type"
   ]
  },
  {
   "cell_type": "code",
   "execution_count": 15,
   "id": "38398794",
   "metadata": {},
   "outputs": [
    {
     "ename": "TypeError",
     "evalue": "'str' object does not support item assignment",
     "output_type": "error",
     "traceback": [
      "\u001b[1;31m---------------------------------------------------------------------------\u001b[0m",
      "\u001b[1;31mTypeError\u001b[0m                                 Traceback (most recent call last)",
      "Cell \u001b[1;32mIn[15], line 3\u001b[0m\n\u001b[0;32m      1\u001b[0m a \u001b[38;5;241m=\u001b[39m \u001b[38;5;124m'\u001b[39m\u001b[38;5;124mpython\u001b[39m\u001b[38;5;124m'\u001b[39m\n\u001b[1;32m----> 3\u001b[0m \u001b[43ma\u001b[49m\u001b[43m[\u001b[49m\u001b[38;5;241;43m2\u001b[39;49m\u001b[43m]\u001b[49m \u001b[38;5;241m=\u001b[39m \u001b[38;5;124m'\u001b[39m\u001b[38;5;124mh\u001b[39m\u001b[38;5;124m'\u001b[39m \u001b[38;5;66;03m# cant assign value \u001b[39;00m\n",
      "\u001b[1;31mTypeError\u001b[0m: 'str' object does not support item assignment"
     ]
    }
   ],
   "source": [
    "a = 'python'\n",
    "\n",
    "a[2] = 'h' # cant assign value \n"
   ]
  },
  {
   "cell_type": "code",
   "execution_count": 16,
   "id": "f17a61b7",
   "metadata": {},
   "outputs": [
    {
     "data": {
      "text/plain": [
       "[3, 5, 999999, 87, 5]"
      ]
     },
     "execution_count": 16,
     "metadata": {},
     "output_type": "execute_result"
    }
   ],
   "source": [
    "a = [3,5,7,87,5]\n",
    "\n",
    "a[2] = 999999\n",
    "\n",
    "a"
   ]
  },
  {
   "cell_type": "code",
   "execution_count": 2,
   "id": "71404f0b",
   "metadata": {},
   "outputs": [
    {
     "data": {
      "text/plain": [
       "'jython'"
      ]
     },
     "execution_count": 2,
     "metadata": {},
     "output_type": "execute_result"
    }
   ],
   "source": [
    "a = 'python'\n",
    "\n",
    "a.replace('p' , 'j')"
   ]
  },
  {
   "cell_type": "code",
   "execution_count": 3,
   "id": "4733c666",
   "metadata": {},
   "outputs": [
    {
     "data": {
      "text/plain": [
       "'python'"
      ]
     },
     "execution_count": 3,
     "metadata": {},
     "output_type": "execute_result"
    }
   ],
   "source": [
    "a"
   ]
  },
  {
   "cell_type": "markdown",
   "id": "2491588c",
   "metadata": {},
   "source": [
    "#  Methods of string\n"
   ]
  },
  {
   "cell_type": "code",
   "execution_count": 19,
   "id": "f0d32e86",
   "metadata": {},
   "outputs": [
    {
     "name": "stdout",
     "output_type": "stream",
     "text": [
      "['__add__', '__class__', '__contains__', '__delattr__', '__dir__', '__doc__', '__eq__', '__format__', '__ge__', '__getattribute__', '__getitem__', '__getnewargs__', '__gt__', '__hash__', '__init__', '__init_subclass__', '__iter__', '__le__', '__len__', '__lt__', '__mod__', '__mul__', '__ne__', '__new__', '__reduce__', '__reduce_ex__', '__repr__', '__rmod__', '__rmul__', '__setattr__', '__sizeof__', '__str__', '__subclasshook__', 'capitalize', 'casefold', 'center', 'count', 'encode', 'endswith', 'expandtabs', 'find', 'format', 'format_map', 'index', 'isalnum', 'isalpha', 'isascii', 'isdecimal', 'isdigit', 'isidentifier', 'islower', 'isnumeric', 'isprintable', 'isspace', 'istitle', 'isupper', 'join', 'ljust', 'lower', 'lstrip', 'maketrans', 'partition', 'removeprefix', 'removesuffix', 'replace', 'rfind', 'rindex', 'rjust', 'rpartition', 'rsplit', 'rstrip', 'split', 'splitlines', 'startswith', 'strip', 'swapcase', 'title', 'translate', 'upper', 'zfill']\n"
     ]
    }
   ],
   "source": [
    "print(dir(str))"
   ]
  },
  {
   "cell_type": "markdown",
   "id": "efab37fa",
   "metadata": {},
   "source": [
    "# capitalize"
   ]
  },
  {
   "cell_type": "code",
   "execution_count": 20,
   "id": "6a626851",
   "metadata": {},
   "outputs": [
    {
     "data": {
      "text/plain": [
       "'This is python class'"
      ]
     },
     "execution_count": 20,
     "metadata": {},
     "output_type": "execute_result"
    }
   ],
   "source": [
    "a = 'this is PYTHON class'\n",
    "\n",
    "# More specifically, make the first character have upper case and the rest lower case.\n",
    "\n",
    "a.capitalize()"
   ]
  },
  {
   "cell_type": "code",
   "execution_count": 21,
   "id": "330861c9",
   "metadata": {},
   "outputs": [
    {
     "data": {
      "text/plain": [
       "'THIS IS PYTHON CLASS'"
      ]
     },
     "execution_count": 21,
     "metadata": {},
     "output_type": "execute_result"
    }
   ],
   "source": [
    "a = 'this is PYTHON class'\n",
    "\n",
    "# Return a copy of the string converted to uppercase.\n",
    "\n",
    "a.upper()"
   ]
  },
  {
   "cell_type": "code",
   "execution_count": 22,
   "id": "a2368189",
   "metadata": {},
   "outputs": [
    {
     "data": {
      "text/plain": [
       "'this is python class'"
      ]
     },
     "execution_count": 22,
     "metadata": {},
     "output_type": "execute_result"
    }
   ],
   "source": [
    "a = 'this is PYTHON class'\n",
    "\n",
    "# Return a copy of the string converted to lower.\n",
    "\n",
    "a.lower()"
   ]
  },
  {
   "cell_type": "code",
   "execution_count": 23,
   "id": "67a0442b",
   "metadata": {},
   "outputs": [
    {
     "data": {
      "text/plain": [
       "'This Is Python Class'"
      ]
     },
     "execution_count": 23,
     "metadata": {},
     "output_type": "execute_result"
    }
   ],
   "source": [
    "a = 'this is PYTHON class'\n",
    "\n",
    "# More specifically, words start with uppercased characters and all remaining cased characters have lower case.\n",
    "\n",
    "a.title()"
   ]
  },
  {
   "cell_type": "code",
   "execution_count": 24,
   "id": "e288955a",
   "metadata": {},
   "outputs": [
    {
     "data": {
      "text/plain": [
       "'This is python class'"
      ]
     },
     "execution_count": 24,
     "metadata": {},
     "output_type": "execute_result"
    }
   ],
   "source": [
    "a.capitalize()"
   ]
  },
  {
   "cell_type": "code",
   "execution_count": null,
   "id": "70e9cc46",
   "metadata": {},
   "outputs": [],
   "source": [
    "\n"
   ]
  },
  {
   "cell_type": "code",
   "execution_count": 5,
   "id": "6ee7d707",
   "metadata": {},
   "outputs": [
    {
     "name": "stdout",
     "output_type": "stream",
     "text": [
      "Enter the mail : XYZ@GMAIL.COM\n",
      "Enter the password : python\n",
      "logged IN\n"
     ]
    }
   ],
   "source": [
    "user_name = 'xyz@gmail.com' \n",
    "password = 'python'\n",
    "a = input('Enter the mail : ').lower()\n",
    "b = input('Enter the password : ')\n",
    "\n",
    "if (a == user_name) and (b == password):\n",
    "    print('logged IN')\n",
    "else:\n",
    "    print('Incorrect Info')"
   ]
  },
  {
   "cell_type": "code",
   "execution_count": null,
   "id": "0dad8d7a",
   "metadata": {},
   "outputs": [],
   "source": [
    "user_name = 'xyz@gmail.com'\n",
    "password = 'python'\n",
    "\n",
    "a = input('Enter the mail : ').lower()\n",
    "b = input('Enter the password : ')\n",
    "\n",
    "if (a == user_name) and (b == password):\n",
    "    print('logged IN')\n",
    "else:\n",
    "    print('Incorrect Info')"
   ]
  },
  {
   "cell_type": "code",
   "execution_count": 6,
   "id": "2b34f54b",
   "metadata": {},
   "outputs": [
    {
     "name": "stdout",
     "output_type": "stream",
     "text": [
      "Enter the mail : XYZ@GMAIL.COM\n",
      "Enter the password : python\n",
      "logged IN\n"
     ]
    }
   ],
   "source": [
    "user_name = 'xyz@gmail.com'\n",
    "password = 'python'\n",
    "\n",
    "a = input('Enter the mail : ')\n",
    "b = input('Enter the password : ')\n",
    "\n",
    "if (a.lower() == user_name) and (b == password):\n",
    "    print('logged IN')\n",
    "else:\n",
    "    print('Incorrect Info')"
   ]
  },
  {
   "cell_type": "code",
   "execution_count": null,
   "id": "0a7238e5",
   "metadata": {},
   "outputs": [],
   "source": []
  },
  {
   "cell_type": "code",
   "execution_count": 26,
   "id": "cd2a4af9",
   "metadata": {},
   "outputs": [
    {
     "name": "stdout",
     "output_type": "stream",
     "text": [
      "hello world\n",
      "HELLO WORLD\n"
     ]
    }
   ],
   "source": [
    "a = 'hello world'\n",
    "\n",
    "b = a.upper()\n",
    "\n",
    "print(a)\n",
    "print(b)"
   ]
  },
  {
   "cell_type": "code",
   "execution_count": 27,
   "id": "5801bae3",
   "metadata": {},
   "outputs": [
    {
     "name": "stdout",
     "output_type": "stream",
     "text": [
      "HELLO WORLD\n"
     ]
    }
   ],
   "source": [
    "a = 'hello world'.upper()\n",
    "\n",
    "\n",
    "print(a)"
   ]
  },
  {
   "cell_type": "markdown",
   "id": "021abfa4",
   "metadata": {},
   "source": [
    "# Methods that return bool data type"
   ]
  },
  {
   "cell_type": "code",
   "execution_count": 28,
   "id": "d459a993",
   "metadata": {},
   "outputs": [
    {
     "name": "stdout",
     "output_type": "stream",
     "text": [
      "True\n",
      "True\n",
      "True\n",
      "False\n"
     ]
    }
   ],
   "source": [
    "# is alnum :- it'll return True if string alpha / numbers , mix of both\n",
    "\n",
    "s1 = 'xyz'\n",
    "s2 = '345'\n",
    "s3 = 'abc3456'\n",
    "s4 = '^&*('\n",
    "\n",
    "print(s1.isalnum())\n",
    "print(s2.isalnum())\n",
    "print(s3.isalnum())\n",
    "print(s4.isalnum())"
   ]
  },
  {
   "cell_type": "code",
   "execution_count": 29,
   "id": "2fef6683",
   "metadata": {},
   "outputs": [
    {
     "name": "stdout",
     "output_type": "stream",
     "text": [
      "True\n",
      "False\n",
      "False\n",
      "False\n"
     ]
    }
   ],
   "source": [
    "# is alpha :- it'll return True if string alpha \n",
    "#Python isalpha() method returns True if all of the characters in the string are alphabets \n",
    "\n",
    "s1 = 'xyz'\n",
    "s2 = '345'\n",
    "s3 = 'abc3456'\n",
    "s4 = '^&*('\n",
    "\n",
    "print(s1.isalpha())\n",
    "print(s2.isalpha())\n",
    "print(s3.isalpha())\n",
    "print(s4.isalpha())"
   ]
  },
  {
   "cell_type": "code",
   "execution_count": 32,
   "id": "8e67a8a3",
   "metadata": {},
   "outputs": [
    {
     "name": "stdout",
     "output_type": "stream",
     "text": [
      "False\n",
      "False\n",
      "False\n",
      "True\n",
      "True\n"
     ]
    }
   ],
   "source": [
    "#returns True if all of the characters in the string are alphanumeric (either alphabets or numbers).\n",
    "s1 = 'xyz' \n",
    "s2 = '345'\n",
    "s3 = 'abc3456'\n",
    "s33 = 'abc_3456'\n",
    "s4 = '^&*(_'\n",
    "\n",
    "\n",
    "print(not s1.isalnum()) #T\n",
    "print(not s2.isalnum()) #T\n",
    "print(not s2.isalnum()) # T\n",
    "print(not s33.isalnum()) #F\n",
    "print(not s4.isalnum()) #F"
   ]
  },
  {
   "cell_type": "markdown",
   "id": "0deab990",
   "metadata": {},
   "source": [
    "# Special char\n"
   ]
  },
  {
   "cell_type": "code",
   "execution_count": 33,
   "id": "783fc05d",
   "metadata": {},
   "outputs": [
    {
     "name": "stdout",
     "output_type": "stream",
     "text": [
      "hello\n",
      "world\n"
     ]
    }
   ],
   "source": [
    "a = 'hello\\nworld' # new line \n",
    "\n",
    "print(a)"
   ]
  },
  {
   "cell_type": "code",
   "execution_count": 34,
   "id": "c7b25ecf",
   "metadata": {},
   "outputs": [
    {
     "name": "stdout",
     "output_type": "stream",
     "text": [
      "hello\tworld\n"
     ]
    }
   ],
   "source": [
    "a = 'hello\\tworld' # space \n",
    "\n",
    "print(a) "
   ]
  },
  {
   "cell_type": "code",
   "execution_count": 35,
   "id": "dbc4de92",
   "metadata": {},
   "outputs": [
    {
     "name": "stdout",
     "output_type": "stream",
     "text": [
      "hello\bworld\n"
     ]
    }
   ],
   "source": [
    "# \\b --> Back space - deletes the previous char\n",
    "\n",
    "a = 'hello\\bworld'\n",
    "\n",
    "print(a)"
   ]
  },
  {
   "cell_type": "code",
   "execution_count": 37,
   "id": "1bdf8f25",
   "metadata": {},
   "outputs": [
    {
     "name": "stdout",
     "output_type": "stream",
     "text": [
      "hello\r",
      "wor\n"
     ]
    }
   ],
   "source": [
    "# \\r --> carraige return\n",
    "#\\r shifts the cursor to the beginning of the current line\n",
    "\n",
    "a = 'hello\\rwor' # wor instead of hel\n",
    "\n",
    "print(a)"
   ]
  },
  {
   "cell_type": "code",
   "execution_count": 38,
   "id": "d1a49261",
   "metadata": {},
   "outputs": [
    {
     "name": "stdout",
     "output_type": "stream",
     "text": [
      "hello\r",
      "Indian\n"
     ]
    }
   ],
   "source": [
    "a = 'hello\\rIndian'\n",
    "\n",
    "print(a)"
   ]
  },
  {
   "cell_type": "markdown",
   "id": "0f33a576",
   "metadata": {},
   "source": [
    "# Escape char or backslash"
   ]
  },
  {
   "cell_type": "code",
   "execution_count": 39,
   "id": "c03e8b6f",
   "metadata": {},
   "outputs": [
    {
     "name": "stdout",
     "output_type": "stream",
     "text": [
      "hello\\nworld\n"
     ]
    }
   ],
   "source": [
    "a = 'hello\\\\nworld'\n",
    "\n",
    "print(a)"
   ]
  },
  {
   "cell_type": "code",
   "execution_count": 40,
   "id": "6778b677",
   "metadata": {},
   "outputs": [
    {
     "name": "stdout",
     "output_type": "stream",
     "text": [
      "hello\n",
      "world\tpython\n"
     ]
    }
   ],
   "source": [
    "a = 'hello\\nworld\\tpython'\n",
    "\n",
    "print(a)"
   ]
  },
  {
   "cell_type": "code",
   "execution_count": 41,
   "id": "40ff42f8",
   "metadata": {},
   "outputs": [
    {
     "name": "stdout",
     "output_type": "stream",
     "text": [
      "hello\\nworld\\tpython\n"
     ]
    }
   ],
   "source": [
    "a = 'hello\\\\nworld\\\\tpython'\n",
    "\n",
    "print(a)"
   ]
  },
  {
   "cell_type": "markdown",
   "id": "8962e9ba",
   "metadata": {},
   "source": [
    "# RaW string"
   ]
  },
  {
   "cell_type": "code",
   "execution_count": 42,
   "id": "e38b42bc",
   "metadata": {},
   "outputs": [
    {
     "name": "stdout",
     "output_type": "stream",
     "text": [
      "hello\\nworld\\tpython\n"
     ]
    }
   ],
   "source": [
    "#As we can see that the string is printed as raw, and it neglected all newline sign(\\n) or\n",
    "#tab space (\\t).\n",
    "\n",
    "a = r'hello\\nworld\\tpython'\n",
    "\n",
    "\n",
    "print(a)"
   ]
  },
  {
   "cell_type": "code",
   "execution_count": 44,
   "id": "5acc51fc",
   "metadata": {},
   "outputs": [
    {
     "name": "stdout",
     "output_type": "stream",
     "text": [
      "C:users\\jolly\\Desktop\\new_folder\\backup\\raw_files\\data.txt\n"
     ]
    }
   ],
   "source": [
    "a = r'C:users\\jolly\\Desktop\\new_folder\\backup\\raw_files\\data.txt'\n",
    "\n",
    "print(a)"
   ]
  },
  {
   "cell_type": "code",
   "execution_count": 45,
   "id": "697c8473",
   "metadata": {},
   "outputs": [
    {
     "name": "stdout",
     "output_type": "stream",
     "text": [
      "C:users\\jolly\\Desktop\n",
      "ew_folder\backup\r",
      "aw_files\\data.txt\n"
     ]
    }
   ],
   "source": [
    "a = 'C:users\\jolly\\Desktop\\new_folder\\backup\\raw_files\\data.txt'\n",
    "\n",
    "print(a)"
   ]
  },
  {
   "cell_type": "markdown",
   "id": "e42ce571",
   "metadata": {},
   "source": [
    "# # Raw strings are particularly useful when working with regular expressions, as they allow you to specify patterns that may contain backslashes without having to escape them. They are also useful when working with file paths, as they allow you to specify paths that contain backslashes without having to escape them. Raw strings can also be useful when working with strings that contain characters that are difficult to type or read, such as newline characters or tabs"
   ]
  },
  {
   "cell_type": "code",
   "execution_count": 49,
   "id": "fbb9ed5e",
   "metadata": {},
   "outputs": [
    {
     "name": "stdout",
     "output_type": "stream",
     "text": [
      "Python\tis\n",
      "easy\to\\learn\n",
      "Python\\tis\\neasy\\to\\learn\n"
     ]
    }
   ],
   "source": [
    "string_text1 = 'Python\\tis\\neasy\\to\\learn'\n",
    " \n",
    "# Print the string string_text1 # to, t for tab \n",
    "print(string_text1)\n",
    " \n",
    "# Define string with double backslash\n",
    "# and assign to variable\n",
    "string_text2 = 'Python\\\\tis\\\\neasy\\\\to\\\\learn'\n",
    " \n",
    "print(string_text2)"
   ]
  },
  {
   "cell_type": "code",
   "execution_count": 50,
   "id": "9c0fed7d",
   "metadata": {},
   "outputs": [
    {
     "name": "stdout",
     "output_type": "stream",
     "text": [
      "c:\\parent\\tasks\\new\\\n"
     ]
    }
   ],
   "source": [
    "string_text2 = 'c:\\\\parent\\\\tasks\\\\new\\\\'\n",
    " \n",
    "print(string_text2)"
   ]
  },
  {
   "cell_type": "code",
   "execution_count": 51,
   "id": "ff2e6da3",
   "metadata": {},
   "outputs": [
    {
     "name": "stdout",
     "output_type": "stream",
     "text": [
      "c:\\\\parent\\\\tasks\\\\new\\\\\n"
     ]
    }
   ],
   "source": [
    "string_text2 = r'c:\\\\parent\\\\tasks\\\\new\\\\'\n",
    " \n",
    "print(string_text2)"
   ]
  },
  {
   "cell_type": "code",
   "execution_count": 55,
   "id": "30985f79",
   "metadata": {},
   "outputs": [
    {
     "ename": "SyntaxError",
     "evalue": "EOL while scanning string literal (2125811942.py, line 1)",
     "output_type": "error",
     "traceback": [
      "\u001b[1;36m  Cell \u001b[1;32mIn[55], line 1\u001b[1;36m\u001b[0m\n\u001b[1;33m    s = '\\\\examplehost\\digitalocean\\content\\'\u001b[0m\n\u001b[1;37m                                             ^\u001b[0m\n\u001b[1;31mSyntaxError\u001b[0m\u001b[1;31m:\u001b[0m EOL while scanning string literal\n"
     ]
    }
   ],
   "source": [
    "s = '\\\\examplehost\\digitalocean\\content\\'\n",
    "print(s)\n"
   ]
  },
  {
   "cell_type": "code",
   "execution_count": 56,
   "id": "414914e3",
   "metadata": {},
   "outputs": [
    {
     "ename": "SyntaxError",
     "evalue": "EOL while scanning string literal (3647862071.py, line 1)",
     "output_type": "error",
     "traceback": [
      "\u001b[1;36m  Cell \u001b[1;32mIn[56], line 1\u001b[1;36m\u001b[0m\n\u001b[1;33m    s = r'\\\\examplehost\\digitalocean\\content\\'\u001b[0m\n\u001b[1;37m                                              ^\u001b[0m\n\u001b[1;31mSyntaxError\u001b[0m\u001b[1;31m:\u001b[0m EOL while scanning string literal\n"
     ]
    }
   ],
   "source": [
    "#https://www.digitalocean.com/community/tutorials/python-raw-string\n",
    "s = r'\\\\examplehost\\digitalocean\\content\\'\n",
    "print(s)\n"
   ]
  },
  {
   "cell_type": "markdown",
   "id": "832529e2",
   "metadata": {},
   "source": [
    "# Strip , lstrip , rstrip\n",
    "\n",
    "Strip\n",
    "- It removes the specified char from both the ends\n",
    "- By default it removes space"
   ]
  },
  {
   "cell_type": "code",
   "execution_count": 1,
   "id": "a118d63a",
   "metadata": {},
   "outputs": [
    {
     "data": {
      "text/plain": [
       "'python'"
      ]
     },
     "execution_count": 1,
     "metadata": {},
     "output_type": "execute_result"
    }
   ],
   "source": [
    "a = '                python                                            '\n",
    "\n",
    "\n",
    "a.strip()"
   ]
  },
  {
   "cell_type": "code",
   "execution_count": 2,
   "id": "00d67f24",
   "metadata": {},
   "outputs": [
    {
     "data": {
      "text/plain": [
       "'************python**********************************************'"
      ]
     },
     "execution_count": 2,
     "metadata": {},
     "output_type": "execute_result"
    }
   ],
   "source": [
    "# press A to insert new line to code\n",
    "a = '************python**********************************************'\n",
    "\n",
    "\n",
    "a.strip()"
   ]
  },
  {
   "cell_type": "code",
   "execution_count": 60,
   "id": "1dc8890c",
   "metadata": {},
   "outputs": [
    {
     "data": {
      "text/plain": [
       "'**    **********python**********************************************'"
      ]
     },
     "execution_count": 60,
     "metadata": {},
     "output_type": "execute_result"
    }
   ],
   "source": [
    "a = '**    **********python**********************************************'\n",
    "\n",
    "\n",
    "a.strip()"
   ]
  },
  {
   "cell_type": "code",
   "execution_count": 3,
   "id": "a7ba0579",
   "metadata": {},
   "outputs": [
    {
     "data": {
      "text/plain": [
       "'**    **********python**********************************************'"
      ]
     },
     "execution_count": 3,
     "metadata": {},
     "output_type": "execute_result"
    }
   ],
   "source": [
    "a = '   **    **********python**********************************************   '\n",
    "\n",
    "\n",
    "a.strip()"
   ]
  },
  {
   "cell_type": "code",
   "execution_count": 64,
   "id": "50555774",
   "metadata": {},
   "outputs": [
    {
     "data": {
      "text/plain": [
       "'python'"
      ]
     },
     "execution_count": 64,
     "metadata": {},
     "output_type": "execute_result"
    }
   ],
   "source": [
    "a = '************python**********************************************'\n",
    "\n",
    "\n",
    "a.strip('*')"
   ]
  },
  {
   "cell_type": "code",
   "execution_count": 4,
   "id": "1caa0165",
   "metadata": {},
   "outputs": [
    {
     "data": {
      "text/plain": [
       "'python'"
      ]
     },
     "execution_count": 4,
     "metadata": {},
     "output_type": "execute_result"
    }
   ],
   "source": [
    "a = '************&&&&&&&&&python**************&&&&&&&&&&&********************************'\n",
    "\n",
    "\n",
    "a.strip('&*')"
   ]
  },
  {
   "cell_type": "code",
   "execution_count": 66,
   "id": "1f820c7b",
   "metadata": {},
   "outputs": [
    {
     "data": {
      "text/plain": [
       "'pyt*^hon'"
      ]
     },
     "execution_count": 66,
     "metadata": {},
     "output_type": "execute_result"
    }
   ],
   "source": [
    "a = '*****^^^*******pyt*^hon*********************^^^^^*************************'\n",
    "\n",
    "\n",
    "a.strip('*^')"
   ]
  },
  {
   "cell_type": "code",
   "execution_count": 5,
   "id": "6ecc8625",
   "metadata": {},
   "outputs": [
    {
     "data": {
      "text/plain": [
       "'pyt*^hon*********************^^^^^*************************'"
      ]
     },
     "execution_count": 5,
     "metadata": {},
     "output_type": "execute_result"
    }
   ],
   "source": [
    "# left strip\n",
    "\n",
    "a = '*****^^^*******pyt*^hon*********************^^^^^*************************'\n",
    "\n",
    "\n",
    "a.lstrip('*^')"
   ]
  },
  {
   "cell_type": "code",
   "execution_count": 68,
   "id": "f0594b02",
   "metadata": {},
   "outputs": [
    {
     "data": {
      "text/plain": [
       "'9173487232'"
      ]
     },
     "execution_count": 68,
     "metadata": {},
     "output_type": "execute_result"
    }
   ],
   "source": [
    "a = '09173487232'\n",
    "\n",
    "a.lstrip('0')"
   ]
  },
  {
   "cell_type": "code",
   "execution_count": 69,
   "id": "bed3f0d3",
   "metadata": {},
   "outputs": [
    {
     "data": {
      "text/plain": [
       "10"
      ]
     },
     "execution_count": 69,
     "metadata": {},
     "output_type": "execute_result"
    }
   ],
   "source": [
    "a = '9173487232'\n",
    "\n",
    "len(a)"
   ]
  },
  {
   "cell_type": "code",
   "execution_count": null,
   "id": "80de141f",
   "metadata": {},
   "outputs": [],
   "source": [
    "\"\"\" Ljust , rjust \n",
    "https://www.youtube.com/watch?v=pRlEJ9b3Ovw\n",
    "These functions respectively left-justify, right-justify and center a string in a \n",
    "field of given width. They return a string that is at least width characters wide, \n",
    "created by padding the string s with the character fillchar (default is a space) \n",
    "until the given width on the right, left or both sides. The string is never truncated   \"\"\""
   ]
  },
  {
   "cell_type": "code",
   "execution_count": 70,
   "id": "d22a3df3",
   "metadata": {},
   "outputs": [
    {
     "data": {
      "text/plain": [
       "'python    '"
      ]
     },
     "execution_count": 70,
     "metadata": {},
     "output_type": "execute_result"
    }
   ],
   "source": [
    "a = 'python'\n",
    "\n",
    "a.ljust(10)"
   ]
  },
  {
   "cell_type": "code",
   "execution_count": 71,
   "id": "9897de77",
   "metadata": {},
   "outputs": [
    {
     "data": {
      "text/plain": [
       "'python****'"
      ]
     },
     "execution_count": 71,
     "metadata": {},
     "output_type": "execute_result"
    }
   ],
   "source": [
    "a = 'python'\n",
    "\n",
    "a.ljust(10 , '*')"
   ]
  },
  {
   "cell_type": "code",
   "execution_count": 77,
   "id": "e6939a00",
   "metadata": {},
   "outputs": [
    {
     "data": {
      "text/plain": [
       "'*python'"
      ]
     },
     "execution_count": 77,
     "metadata": {},
     "output_type": "execute_result"
    }
   ],
   "source": [
    "a = 'python'\n",
    "\n",
    "a.rjust(1 , '*')\n",
    "a.rjust(6 , '*')\n",
    "a.rjust(7 , '*')"
   ]
  },
  {
   "cell_type": "code",
   "execution_count": 73,
   "id": "4a400bb6",
   "metadata": {},
   "outputs": [
    {
     "data": {
      "text/plain": [
       "'09173487232'"
      ]
     },
     "execution_count": 73,
     "metadata": {},
     "output_type": "execute_result"
    }
   ],
   "source": [
    "a = '9173487232'\n",
    "\n",
    "a.rjust(11 , '0')"
   ]
  },
  {
   "cell_type": "code",
   "execution_count": null,
   "id": "2723c97d",
   "metadata": {},
   "outputs": [],
   "source": []
  },
  {
   "cell_type": "code",
   "execution_count": null,
   "id": "4abc7bb6",
   "metadata": {},
   "outputs": [],
   "source": []
  },
  {
   "cell_type": "code",
   "execution_count": null,
   "id": "76d82836",
   "metadata": {},
   "outputs": [],
   "source": []
  },
  {
   "cell_type": "code",
   "execution_count": null,
   "id": "1046a949",
   "metadata": {},
   "outputs": [],
   "source": []
  },
  {
   "cell_type": "code",
   "execution_count": null,
   "id": "9a6ca083",
   "metadata": {},
   "outputs": [],
   "source": []
  },
  {
   "cell_type": "code",
   "execution_count": null,
   "id": "b0dfe942",
   "metadata": {},
   "outputs": [],
   "source": []
  },
  {
   "cell_type": "code",
   "execution_count": null,
   "id": "30ef4fb3",
   "metadata": {},
   "outputs": [],
   "source": []
  },
  {
   "cell_type": "code",
   "execution_count": null,
   "id": "04d4e3d1",
   "metadata": {},
   "outputs": [],
   "source": []
  },
  {
   "cell_type": "code",
   "execution_count": null,
   "id": "47c59fd0",
   "metadata": {},
   "outputs": [],
   "source": []
  },
  {
   "cell_type": "code",
   "execution_count": null,
   "id": "200846be",
   "metadata": {},
   "outputs": [],
   "source": []
  },
  {
   "cell_type": "code",
   "execution_count": null,
   "id": "eee9d10b",
   "metadata": {},
   "outputs": [],
   "source": []
  },
  {
   "cell_type": "code",
   "execution_count": null,
   "id": "aa8bb950",
   "metadata": {},
   "outputs": [],
   "source": []
  },
  {
   "cell_type": "code",
   "execution_count": null,
   "id": "d91950ed",
   "metadata": {},
   "outputs": [],
   "source": []
  }
 ],
 "metadata": {
  "kernelspec": {
   "display_name": "Python 3 (ipykernel)",
   "language": "python",
   "name": "python3"
  },
  "language_info": {
   "codemirror_mode": {
    "name": "ipython",
    "version": 3
   },
   "file_extension": ".py",
   "mimetype": "text/x-python",
   "name": "python",
   "nbconvert_exporter": "python",
   "pygments_lexer": "ipython3",
   "version": "3.9.13"
  }
 },
 "nbformat": 4,
 "nbformat_minor": 5
}
