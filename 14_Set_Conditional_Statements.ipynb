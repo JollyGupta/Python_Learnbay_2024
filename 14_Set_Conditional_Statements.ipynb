{
 "cells": [
  {
   "cell_type": "markdown",
   "id": "c89cbe7c-8299-4825-9274-67040b9402b6",
   "metadata": {},
   "source": [
    "# Set\n",
    "- Sets are used to store multiple items in a single variable."
   ]
  },
  {
   "cell_type": "code",
   "execution_count": 10,
   "id": "0f87a916-bb86-4403-b625-56f98170cb7e",
   "metadata": {},
   "outputs": [
    {
     "name": "stdout",
     "output_type": "stream",
     "text": [
      "{34, 2, 4, 6, 23} <class 'set'>\n"
     ]
    }
   ],
   "source": [
    "a = {23,34,4,6,2}\n",
    "\n",
    "print(a , type(a))"
   ]
  },
  {
   "cell_type": "markdown",
   "id": "946277e4-3966-49e1-8350-261911dcc0df",
   "metadata": {},
   "source": [
    "# Properties\n",
    "\n",
    "- It is not a seq data type\n",
    "- It is a collection of unique values\n",
    "- It is an mutable data type\n",
    "- It cannot contain an mutable data type\n",
    "\n",
    "- Set items are unchangeable, meaning that we cannot change the items after the set has been created."
   ]
  },
  {
   "cell_type": "code",
   "execution_count": 2,
   "id": "af99271d-a37e-4a7d-aea5-5fadc52b464b",
   "metadata": {},
   "outputs": [
    {
     "name": "stdout",
     "output_type": "stream",
     "text": [
      "{34, 2, 4, 6, 23} <class 'set'>\n"
     ]
    }
   ],
   "source": [
    "a = {23,34,4,6,2,34,34,34,34,34,34,34}\n",
    "\n",
    "print(a , type(a))"
   ]
  },
  {
   "cell_type": "code",
   "execution_count": 1,
   "id": "066bd84b-7044-4fc7-8031-23d54e305861",
   "metadata": {},
   "outputs": [
    {
     "ename": "TypeError",
     "evalue": "'set' object is not subscriptable",
     "output_type": "error",
     "traceback": [
      "\u001b[1;31m---------------------------------------------------------------------------\u001b[0m",
      "\u001b[1;31mTypeError\u001b[0m                                 Traceback (most recent call last)",
      "Cell \u001b[1;32mIn[1], line 3\u001b[0m\n\u001b[0;32m      1\u001b[0m a \u001b[38;5;241m=\u001b[39m {\u001b[38;5;241m23\u001b[39m,\u001b[38;5;241m34\u001b[39m,\u001b[38;5;241m4\u001b[39m,\u001b[38;5;241m6\u001b[39m,\u001b[38;5;241m2\u001b[39m,\u001b[38;5;241m34\u001b[39m,\u001b[38;5;241m34\u001b[39m,\u001b[38;5;241m34\u001b[39m,\u001b[38;5;241m34\u001b[39m,\u001b[38;5;241m34\u001b[39m,\u001b[38;5;241m34\u001b[39m,\u001b[38;5;241m34\u001b[39m}\n\u001b[1;32m----> 3\u001b[0m \u001b[43ma\u001b[49m\u001b[43m[\u001b[49m\u001b[38;5;241;43m0\u001b[39;49m\u001b[43m]\u001b[49m\n",
      "\u001b[1;31mTypeError\u001b[0m: 'set' object is not subscriptable"
     ]
    }
   ],
   "source": [
    "a = {23,34,4,6,2,34,34,34,34,34,34,34}\n",
    "\n",
    "a[0]"
   ]
  },
  {
   "cell_type": "code",
   "execution_count": 3,
   "id": "14551575-cb28-4f9a-ae32-226a08ee5286",
   "metadata": {},
   "outputs": [
    {
     "name": "stdout",
     "output_type": "stream",
     "text": [
      "['__and__', '__class__', '__class_getitem__', '__contains__', '__delattr__', '__dir__', '__doc__', '__eq__', '__format__', '__ge__', '__getattribute__', '__gt__', '__hash__', '__iand__', '__init__', '__init_subclass__', '__ior__', '__isub__', '__iter__', '__ixor__', '__le__', '__len__', '__lt__', '__ne__', '__new__', '__or__', '__rand__', '__reduce__', '__reduce_ex__', '__repr__', '__ror__', '__rsub__', '__rxor__', '__setattr__', '__sizeof__', '__str__', '__sub__', '__subclasshook__', '__xor__', 'add', 'clear', 'copy', 'difference', 'difference_update', 'discard', 'intersection', 'intersection_update', 'isdisjoint', 'issubset', 'issuperset', 'pop', 'remove', 'symmetric_difference', 'symmetric_difference_update', 'union', 'update']\n"
     ]
    }
   ],
   "source": [
    "print(dir(set))"
   ]
  },
  {
   "cell_type": "code",
   "execution_count": 1,
   "id": "3e6193d7-539d-4986-b455-95ab5b6da77a",
   "metadata": {},
   "outputs": [
    {
     "ename": "TypeError",
     "evalue": "unhashable type: 'set'",
     "output_type": "error",
     "traceback": [
      "\u001b[1;31m---------------------------------------------------------------------------\u001b[0m",
      "\u001b[1;31mTypeError\u001b[0m                                 Traceback (most recent call last)",
      "Cell \u001b[1;32mIn[1], line 1\u001b[0m\n\u001b[1;32m----> 1\u001b[0m a \u001b[38;5;241m=\u001b[39m {\u001b[38;5;241m23\u001b[39m,\u001b[38;5;241m34.43\u001b[39m , (\u001b[38;5;241m34\u001b[39m,\u001b[38;5;241m45\u001b[39m,\u001b[38;5;241m56\u001b[39m) , {\u001b[38;5;241m34\u001b[39m,\u001b[38;5;241m456\u001b[39m}} \n\u001b[0;32m      3\u001b[0m a\n\u001b[0;32m      5\u001b[0m \u001b[38;5;124;03m'''In Python, a set can only contain elements that are hashable, and lists (like (34,45,56))\u001b[39;00m\n\u001b[0;32m      6\u001b[0m \u001b[38;5;124;03mand other sets are not hashable because they are mutable.\u001b[39;00m\n\u001b[0;32m      7\u001b[0m \n\u001b[0;32m      8\u001b[0m \u001b[38;5;124;03mTo fix this, you can either remove the mutable elements (like the list (34,45,56) and\u001b[39;00m\n\u001b[0;32m      9\u001b[0m \u001b[38;5;124;03mthe set {34,456}) or convert them into a hashable form, such as tuples.'''\u001b[39;00m\n",
      "\u001b[1;31mTypeError\u001b[0m: unhashable type: 'set'"
     ]
    }
   ],
   "source": [
    "a = {23,34.43 , (34,45,56) , {34,456}} \n",
    "\n",
    "a\n",
    "\n",
    "'''In Python, a set can only contain elements that are hashable, and lists (like (34,45,56))\n",
    "and other sets are not hashable because they are mutable.\n",
    "\n",
    "To fix this, you can either remove the mutable elements (like the list (34,45,56) and\n",
    "the set {34,456}) or convert them into a hashable form, such as tuples.'''\n"
   ]
  },
  {
   "cell_type": "code",
   "execution_count": 3,
   "id": "b606104d",
   "metadata": {},
   "outputs": [
    {
     "data": {
      "text/plain": [
       "{(34, 45, 56), 23, 34.43}"
      ]
     },
     "execution_count": 3,
     "metadata": {},
     "output_type": "execute_result"
    }
   ],
   "source": [
    "a = {23, 34.43, (34, 45, 56)}\n",
    "a\n"
   ]
  },
  {
   "cell_type": "code",
   "execution_count": 4,
   "id": "8666a259-fdf3-40fa-8342-4911540c90e1",
   "metadata": {},
   "outputs": [
    {
     "data": {
      "text/plain": [
       "{2, 3, 4, 5}"
      ]
     },
     "execution_count": 4,
     "metadata": {},
     "output_type": "execute_result"
    }
   ],
   "source": [
    "a = {2,3,4,5,2,2,2,2}\n",
    "\n",
    "a"
   ]
  },
  {
   "cell_type": "code",
   "execution_count": 5,
   "id": "40a45d84-2a0a-40b2-a6f3-1a5f9ea93bf8",
   "metadata": {},
   "outputs": [
    {
     "name": "stdout",
     "output_type": "stream",
     "text": [
      "None\n"
     ]
    }
   ],
   "source": [
    "print(a.add(100)) #Once a set is created, you cannot change its items,\n",
    "                  #but you can remove items and add new items."
   ]
  },
  {
   "cell_type": "code",
   "execution_count": 22,
   "id": "04d9b42d-0dd1-4050-a749-ff4172446a96",
   "metadata": {},
   "outputs": [
    {
     "data": {
      "text/plain": [
       "{2, 3, 4, 5, 100}"
      ]
     },
     "execution_count": 22,
     "metadata": {},
     "output_type": "execute_result"
    }
   ],
   "source": [
    "a"
   ]
  },
  {
   "cell_type": "code",
   "execution_count": 7,
   "id": "ad9e5995-eb42-49e7-ad14-a3b0d78cc087",
   "metadata": {},
   "outputs": [],
   "source": [
    "dev = ['emp_1' , 'emp_4']\n",
    "\n",
    "prod = ['emp_2' , 'emp_3']\n",
    "\n",
    "qa = ['emp_1' , 'emp_3' ]"
   ]
  },
  {
   "cell_type": "code",
   "execution_count": 8,
   "id": "98ec4fb5-9519-4909-99b7-2e6c478a014b",
   "metadata": {},
   "outputs": [],
   "source": [
    "emp = dev + prod + qa"
   ]
  },
  {
   "cell_type": "code",
   "execution_count": 9,
   "id": "f9019c6d-355c-4c72-ae4e-a43502d94ab6",
   "metadata": {},
   "outputs": [
    {
     "data": {
      "text/plain": [
       "{'emp_1', 'emp_2', 'emp_3', 'emp_4'}"
      ]
     },
     "execution_count": 9,
     "metadata": {},
     "output_type": "execute_result"
    }
   ],
   "source": [
    "set(emp)"
   ]
  },
  {
   "cell_type": "code",
   "execution_count": 32,
   "id": "71393b07-3361-4d36-8167-98d89f61c35f",
   "metadata": {},
   "outputs": [
    {
     "data": {
      "text/plain": [
       "{'emp_2'}"
      ]
     },
     "execution_count": 32,
     "metadata": {},
     "output_type": "execute_result"
    }
   ],
   "source": [
    "set(prod) - set(qa)"
   ]
  },
  {
   "cell_type": "code",
   "execution_count": 35,
   "id": "bdc7c181-3e90-4c7f-91ce-ba85dccf9389",
   "metadata": {},
   "outputs": [
    {
     "data": {
      "text/plain": [
       "{'emp_1'}"
      ]
     },
     "execution_count": 35,
     "metadata": {},
     "output_type": "execute_result"
    }
   ],
   "source": [
    "set(qa) - set(prod)"
   ]
  },
  {
   "cell_type": "code",
   "execution_count": 33,
   "id": "d857399e-4093-4d07-b931-79399fab3fd5",
   "metadata": {},
   "outputs": [
    {
     "data": {
      "text/plain": [
       "{'emp_3'}"
      ]
     },
     "execution_count": 33,
     "metadata": {},
     "output_type": "execute_result"
    }
   ],
   "source": [
    "set(prod) & set(qa) # common"
   ]
  },
  {
   "cell_type": "code",
   "execution_count": 34,
   "id": "3ceea3d6-58ef-4b40-96ed-630431312084",
   "metadata": {},
   "outputs": [
    {
     "data": {
      "text/plain": [
       "{'emp_1', 'emp_2', 'emp_3'}"
      ]
     },
     "execution_count": 34,
     "metadata": {},
     "output_type": "execute_result"
    }
   ],
   "source": [
    "set(prod) | set(qa) # all but unique"
   ]
  },
  {
   "cell_type": "code",
   "execution_count": 50,
   "id": "510fd2dc-d260-48b6-9d39-b8b204b9e843",
   "metadata": {},
   "outputs": [
    {
     "data": {
      "text/plain": [
       "{'baltimore', 'chicago', 'new york', 'orlando'}"
      ]
     },
     "execution_count": 50,
     "metadata": {},
     "output_type": "execute_result"
    }
   ],
   "source": [
    "l1 = set([\"new york\",\"chicago\",\"orlando\", \"baltimore\"])\n",
    "\n",
    "l1\n",
    "'''set() function takes this list as an argument and converts it to a set.\n",
    "set() function can take any iterable as an argument, including lists, tuples, and other sets. It converts \n",
    "the elements of the iterable into a set.set() function converts the elements of the list into a set.'''"
   ]
  },
  {
   "cell_type": "code",
   "execution_count": 45,
   "id": "836c503b-1830-4622-970b-0c48030ee0a0",
   "metadata": {},
   "outputs": [
    {
     "data": {
      "text/plain": [
       "{'chicago', 'new york', 'san diego'}"
      ]
     },
     "execution_count": 45,
     "metadata": {},
     "output_type": "execute_result"
    }
   ],
   "source": [
    "l2 = set([\"chicago\",\"new york\",\"san diego\"])\n",
    "\n",
    "l2"
   ]
  },
  {
   "cell_type": "code",
   "execution_count": 46,
   "id": "c7115192-0775-42b6-bc52-4171a453b3b5",
   "metadata": {},
   "outputs": [
    {
     "data": {
      "text/plain": [
       "{'chicago', 'new york'}"
      ]
     },
     "execution_count": 46,
     "metadata": {},
     "output_type": "execute_result"
    }
   ],
   "source": [
    "l1 & l2"
   ]
  },
  {
   "cell_type": "code",
   "execution_count": 47,
   "id": "cd79e8c6-22f5-4d23-9c08-67766acfff02",
   "metadata": {},
   "outputs": [
    {
     "data": {
      "text/plain": [
       "{'san diego'}"
      ]
     },
     "execution_count": 47,
     "metadata": {},
     "output_type": "execute_result"
    }
   ],
   "source": [
    "l2 - l1"
   ]
  },
  {
   "cell_type": "code",
   "execution_count": 48,
   "id": "269d7e07-4146-4c4b-86b2-57365a5d6579",
   "metadata": {},
   "outputs": [
    {
     "data": {
      "text/plain": [
       "{'baltimore', 'orlando'}"
      ]
     },
     "execution_count": 48,
     "metadata": {},
     "output_type": "execute_result"
    }
   ],
   "source": [
    "l1 - l2"
   ]
  },
  {
   "cell_type": "code",
   "execution_count": 49,
   "id": "68ade951-2b51-405c-8d73-75f9b4cf370b",
   "metadata": {},
   "outputs": [
    {
     "data": {
      "text/plain": [
       "{'baltimore', 'chicago', 'new york', 'orlando', 'san diego'}"
      ]
     },
     "execution_count": 49,
     "metadata": {},
     "output_type": "execute_result"
    }
   ],
   "source": [
    "l1 | l2"
   ]
  },
  {
   "cell_type": "code",
   "execution_count": 11,
   "id": "cf2c17c9-a21b-4cf4-8c74-d07f863ac95e",
   "metadata": {},
   "outputs": [
    {
     "name": "stdout",
     "output_type": "stream",
     "text": [
      "2980908663744\n",
      "2980908663744\n",
      "{'chicago', 'baltimore', 'orlando', 'new york', 'New_city'}\n",
      "{'chicago', 'baltimore', 'orlando', 'new york', 'New_city'}\n",
      "2980908663744\n",
      "2980908663744\n"
     ]
    }
   ],
   "source": [
    "l1 = {\"new york\",\"chicago\",\"orlando\", \"baltimore\"}\n",
    "l2 = l1 # aliasing so id will be same\n",
    "\n",
    "print(id(l1))\n",
    "print(id(l2))\n",
    "\n",
    "l1.add('New_city')\n",
    "\n",
    "print(l1)\n",
    "print(l2)\n",
    "\n",
    "print(id(l1))\n",
    "print(id(l2))\n"
   ]
  },
  {
   "cell_type": "code",
   "execution_count": 13,
   "id": "ab8a86f9-5b63-4243-8aa6-b09f41a51f5e",
   "metadata": {},
   "outputs": [
    {
     "name": "stdout",
     "output_type": "stream",
     "text": [
      "{'orlando', 'baltimore', 'chicago', 'new york'}\n",
      "{'orlando', 'baltimore', 'chicago', 'new york'}\n",
      "2980908663520\n",
      "2980908663744\n",
      "{'chicago', 'baltimore', 'orlando', 'new york', 'New_city'}\n",
      "{'orlando', 'baltimore', 'chicago', 'new york'}\n",
      "2980908663520\n",
      "2980908663744\n"
     ]
    }
   ],
   "source": [
    "l1 = {\"new york\",\"chicago\",\"orlando\", \"baltimore\"}\n",
    "l2 = l1.copy() # shallow copy, changes in a can not be reflected in b...\n",
    "\n",
    "print(l1)\n",
    "print(l2)\n",
    "\n",
    "print(id(l1))\n",
    "print(id(l2))\n",
    "\n",
    "l1.add('New_city')\n",
    "\n",
    "print(l1)\n",
    "print(l2)\n",
    "\n",
    "print(id(l1))\n",
    "print(id(l2))\n"
   ]
  },
  {
   "cell_type": "markdown",
   "id": "594ee462-03d4-452d-a779-6ec54f59fefe",
   "metadata": {},
   "source": [
    "# Condititional statements"
   ]
  },
  {
   "cell_type": "code",
   "execution_count": null,
   "id": "9bb7f3ae-77c0-4c6d-a1e6-e186046b7195",
   "metadata": {},
   "outputs": [],
   "source": [
    "# if - else\n",
    "\n",
    "stat1\n",
    "stat2\n",
    "if condition :\n",
    "    stat3\n",
    "    stat4\n",
    "stat5\n",
    "stat6\n",
    "\n",
    "T --> 1,2,3,4,5,6\n",
    "F --> 1,2,5,6"
   ]
  },
  {
   "cell_type": "code",
   "execution_count": null,
   "id": "09098c39-8926-41c9-9d87-4fbf2e55c079",
   "metadata": {},
   "outputs": [],
   "source": [
    "# if - else\n",
    "\n",
    "stat1\n",
    "stat2\n",
    "if condition :\n",
    "    stat3\n",
    "    stat4\n",
    "else:\n",
    "    stat7\n",
    "    stat8\n",
    "stat5\n",
    "stat6\n",
    "\n",
    "T --> 1,2,3,4,5,6 # if is true\n",
    "F --> 1,2,7,8,5,6 # if condition fails"
   ]
  },
  {
   "cell_type": "code",
   "execution_count": null,
   "id": "58027f4f-da61-4284-a9d0-ce99ec49d71e",
   "metadata": {},
   "outputs": [],
   "source": [
    "# if - else\n",
    "\n",
    "stat1\n",
    "stat2\n",
    "if condition 1:\n",
    "    stat3\n",
    "if condition2:\n",
    "    stat9\n",
    "if condition 3:\n",
    "    stat4\n",
    "else:\n",
    "    stat7\n",
    "\n",
    "stat5\n",
    "stat6\n",
    "\n"
   ]
  },
  {
   "cell_type": "code",
   "execution_count": 56,
   "id": "5fc81164-5ada-4212-b278-ab9fc00764f4",
   "metadata": {},
   "outputs": [
    {
     "name": "stdout",
     "output_type": "stream",
     "text": [
      "Pyspark\n",
      "SQL\n",
      "Python\n"
     ]
    }
   ],
   "source": [
    "a = 10\n",
    "b = 20\n",
    "\n",
    "if a>b: # F\n",
    "    print('Big data')\n",
    "if a<b: # T\n",
    "    print('Pyspark')\n",
    "if a != b: # T  # before else it is true so it will skip else\n",
    "    print('SQL')\n",
    "else:\n",
    "    print('java')\n",
    "    \n",
    "print('Python')"
   ]
  },
  {
   "cell_type": "code",
   "execution_count": 57,
   "id": "c7faa046-5c91-4ad1-9967-5ead8f20e67d",
   "metadata": {},
   "outputs": [
    {
     "name": "stdout",
     "output_type": "stream",
     "text": [
      "Big data\n",
      "Pyspark\n",
      "java\n",
      "Python\n"
     ]
    }
   ],
   "source": [
    "a = 10\n",
    "b = 20\n",
    "\n",
    "if a != b: # T\n",
    "    print('Big data')\n",
    "if a<b: # T\n",
    "    print('Pyspark')\n",
    "if a == b: # F\n",
    "    print('SQL')  # before else it is false so it will include else (this if else is same block)\n",
    "else:\n",
    "    print('java')\n",
    "    \n",
    "print('Python')"
   ]
  },
  {
   "cell_type": "code",
   "execution_count": null,
   "id": "5b994ad2-3b3c-4d6b-8ca2-3aa89f942f16",
   "metadata": {},
   "outputs": [],
   "source": [
    "# if -elif -  else\n",
    "\n",
    "stat1\n",
    "stat2\n",
    "if condition 1:\n",
    "    stat3\n",
    "elif condition2:\n",
    "    stat9\n",
    "elif condition 3:\n",
    "    stat4\n",
    "else:\n",
    "    stat7\n",
    "\n",
    "stat5\n",
    "stat6\n",
    "\n"
   ]
  },
  {
   "cell_type": "code",
   "execution_count": 14,
   "id": "374a9368-7947-472f-8691-d5887b6761d9",
   "metadata": {},
   "outputs": [
    {
     "name": "stdout",
     "output_type": "stream",
     "text": [
      "Big data\n",
      "Python\n"
     ]
    }
   ],
   "source": [
    "a = 10\n",
    "b = 20\n",
    "\n",
    "if a != b: # T  # if condition is true so it will skip all elif\n",
    "    print('Big data')\n",
    "elif a<b: # T\n",
    "    print('Pyspark')\n",
    "elif a == b: # F\n",
    "    print('SQL')\n",
    "else:\n",
    "    print('java')\n",
    "    \n",
    "print('Python')"
   ]
  },
  {
   "cell_type": "code",
   "execution_count": 16,
   "id": "8f6f26d9-b59d-4132-8d10-8b8cd6ffa4c3",
   "metadata": {},
   "outputs": [
    {
     "name": "stdout",
     "output_type": "stream",
     "text": [
      "java\n",
      "Python\n"
     ]
    }
   ],
   "source": [
    "a = 10\n",
    "b = 20\n",
    "\n",
    "if a > b: # F\n",
    "    print('Big data')\n",
    "elif a == b: # F\n",
    "    print('Pyspark')\n",
    "elif a == b: # F\n",
    "    print('SQL')\n",
    "else:\n",
    "    print('java')\n",
    "    \n",
    "print('Python')"
   ]
  },
  {
   "cell_type": "code",
   "execution_count": null,
   "id": "225263f7-10ba-4c81-b552-9dcc8e2bcf85",
   "metadata": {},
   "outputs": [],
   "source": [
    "# Task1\n",
    "\n",
    "WAP\n",
    "\n",
    "collect an input from the user message 1-5\n",
    "\n",
    "if n is with this 1-5\n",
    "2 --> Two\n",
    "4 ---> four\n",
    "\n",
    "Any number beyond or below the range 1-5\n",
    "\n",
    "Number out of range\n",
    "\n",
    "eg 9 , -3 , 34.655 , 5.8\n",
    "\n",
    "Any number with the range 1-5\n",
    "\n",
    "eg : 2.4 , 3.12 ---> Invalid number"
   ]
  },
  {
   "cell_type": "code",
   "execution_count": 22,
   "id": "cf38b340-d2ea-463a-98d5-02c0aecf7cd2",
   "metadata": {},
   "outputs": [
    {
     "name": "stdout",
     "output_type": "stream",
     "text": [
      "Please enter a number in range 1 - 53.8\n",
      "Invalid number\n"
     ]
    }
   ],
   "source": [
    "a = eval(input(\"Please enter a number in range 1 - 5\"))\n",
    "\n",
    "if (a < 1) or (a > 5):\n",
    "    print('Number out of range')\n",
    "else:\n",
    "    if a == 1:\n",
    "        print(\"One\")\n",
    "    elif a == 2:\n",
    "        print(\"Two\")\n",
    "    elif a == 3:\n",
    "        print(\"Three\")\n",
    "    elif a == 4:\n",
    "        print(\"Four\")\n",
    "    elif a == 5:\n",
    "        print(\"Five\")\n",
    "    else:\n",
    "        print('Invalid number')"
   ]
  },
  {
   "cell_type": "code",
   "execution_count": 24,
   "id": "1857fed5-2ac2-4555-991e-aac90304f750",
   "metadata": {},
   "outputs": [
    {
     "name": "stdout",
     "output_type": "stream",
     "text": [
      "Please enter a number in range 1 - 57\n",
      "Number out of range\n"
     ]
    }
   ],
   "source": [
    "Num_Word = {1: \"One\", 2: \"Two\",3: \"Three\", 4: \"Four\",5: \"Five\"}\n",
    "a = eval(input(\"Please enter a number in range 1 - 5\"))\n",
    "\n",
    "if (a < 1) or (a > 5):\n",
    "    print('Number out of range')\n",
    "else:\n",
    "    if a in Num_Word:\n",
    "        print(Num_Word.get(a))\n",
    "    else:\n",
    "        print('Invalid number')"
   ]
  },
  {
   "cell_type": "code",
   "execution_count": 25,
   "id": "41e29f0d-2504-4f9f-84fc-4af2dc226174",
   "metadata": {},
   "outputs": [
    {
     "name": "stdout",
     "output_type": "stream",
     "text": [
      "Please inter a number between 1 - : 5 6\n",
      "number is above or below range\n"
     ]
    }
   ],
   "source": [
    "Num_Word = {1: \"One\",2: \"Two\",3: \"Three\",4: \"Four\",5: \"Five\"}\n",
    "\n",
    "\n",
    "initial_Range = min(Num_Word.keys())\n",
    "Max_Range = max(Num_Word.keys())\n",
    "\n",
    "a = eval(input(f'Please inter a number between {initial_Range} - : {Max_Range} '))\n",
    "\n",
    "\n",
    "if a < initial_Range or a > Max_Range :\n",
    "    print(\"number is above or below range\")\n",
    "elif type(a) is float:\n",
    "    print('Invalid Number')\n",
    "else:\n",
    "    print(f'{a}, {Num_Word[a]}')\n"
   ]
  },
  {
   "cell_type": "code",
   "execution_count": 27,
   "id": "b538d1ae-6219-4687-a53d-129a1d0b9970",
   "metadata": {},
   "outputs": [
    {
     "name": "stdout",
     "output_type": "stream",
     "text": [
      "Please enter a number in range 1 - 52\n",
      "Two\n"
     ]
    }
   ],
   "source": [
    "input_value = eval(input(\"Please enter a number in range 1 - 5\"))\n",
    "\n",
    "if type(input_value) == int:\n",
    "    if input_value == 1:\n",
    "        print(\"One\")\n",
    "    elif input_value == 2:\n",
    "        print(\"Two\")\n",
    "    elif input_value == 3:\n",
    "        print(\"Three\")\n",
    "    elif input_value == 4:\n",
    "        print(\"Four\")\n",
    "    elif input_value == 5:\n",
    "        print(\"Five\")\n",
    "    else:\n",
    "        print(\"Number out of range\")\n",
    "elif type(input_value) == float:\n",
    "    if input_value >= 1.0 and input_value < 5.1:\n",
    "        print(\"Invalid number\")\n",
    "    else:\n",
    "        print(\"Number out of range\")\n"
   ]
  },
  {
   "cell_type": "code",
   "execution_count": 71,
   "id": "dfd8f8b2-af3a-4981-9a94-bece16a39086",
   "metadata": {},
   "outputs": [
    {
     "name": "stdin",
     "output_type": "stream",
     "text": [
      "Please inter a number between 1-5:   76.34\n"
     ]
    },
    {
     "name": "stdout",
     "output_type": "stream",
     "text": [
      "number is above or below range\n"
     ]
    }
   ],
   "source": [
    "# WAP to collect input from user 1-5\n",
    "# print the word of the number\n",
    "\n",
    "a = eval(input(\"Please inter a number between 1-5:  \"))\n",
    "\n",
    "if a < 1 or a > 5 :\n",
    "    print(\"number is above or below range\")\n",
    "elif type(a) is float:\n",
    "    print('Invalid Number')\n",
    "elif a == 1:\n",
    "    print(f'{a}, One')\n",
    "elif a == 2:\n",
    "    print(f'{a}, Two')\n",
    "elif a==3:\n",
    "    print(f'{a}, Three')\n",
    "elif a==4:\n",
    "    print(f'{a}, Four')\n",
    "else:\n",
    "    print(f'{a}, Five')\n"
   ]
  },
  {
   "cell_type": "code",
   "execution_count": 75,
   "id": "298eb026-46c8-4362-90b8-5cbf19efbcde",
   "metadata": {},
   "outputs": [
    {
     "name": "stdin",
     "output_type": "stream",
     "text": [
      "Enter the number between 1 and 5:  9.3\n"
     ]
    },
    {
     "name": "stdout",
     "output_type": "stream",
     "text": [
      "Number is out of range\n"
     ]
    }
   ],
   "source": [
    "num = eval(input(\"Enter the number between 1 and 5: \"))\n",
    "if num < 1 or num > 5:\n",
    "    print(\"Number is out of range\")\n",
    "elif type(num) == float:\n",
    "    print(\"Invalid Number\")\n",
    "else:\n",
    "    if(num == 1):\n",
    "        print(\"One\")\n",
    "    elif(num == 2):\n",
    "        print(\"Two\")\n",
    "    elif(num == 3):\n",
    "        print(\"Three\")\n",
    "    elif(num == 4):\n",
    "        print(\"Four\")\n",
    "    elif(num == 5):\n",
    "        print(\"Five\")\n"
   ]
  },
  {
   "cell_type": "code",
   "execution_count": null,
   "id": "fa7c33ab-7413-48f3-8776-3a840bef5646",
   "metadata": {},
   "outputs": [],
   "source": [
    "# WAP\n",
    "3 input from the user\n",
    "\n",
    "1 & 2 ---> number\n",
    "3 --> op (+ , - , * , /) or (add , sub , mul , div)\n",
    "\n",
    "10\n",
    "20\n",
    "+ or add ---> 30\n",
    "\n",
    "invalid operator"
   ]
  },
  {
   "cell_type": "code",
   "execution_count": 92,
   "id": "dc25131d-0b71-4631-89ba-0478bdc90353",
   "metadata": {},
   "outputs": [
    {
     "name": "stdin",
     "output_type": "stream",
     "text": [
      "enter a number_1: 3\n",
      "enter a number_2: 32\n",
      "Enter an operation: sub\n"
     ]
    },
    {
     "name": "stdout",
     "output_type": "stream",
     "text": [
      "-29\n"
     ]
    }
   ],
   "source": [
    "n1=eval(input('enter a number_1:'))\n",
    "\n",
    "n2=eval(input('enter a number_2:'))\n",
    "\n",
    "op=input('Enter an operation:')\n",
    "\n",
    "if op== '+' or op=='add':\n",
    "    print(n1+n2)\n",
    "elif op== '*' or op=='mul':\n",
    "    print(n1*n2)\n",
    "elif op== '-' or op=='sub':\n",
    "    print(n1-n2)\n",
    "elif op== '/' or op=='div':\n",
    "    print(n1/n2)\n",
    "else:\n",
    "    print('invalid operator')\n"
   ]
  },
  {
   "cell_type": "code",
   "execution_count": 95,
   "id": "0eec7dd3-de7d-49ef-ba7b-f56f71ab52f4",
   "metadata": {},
   "outputs": [
    {
     "name": "stdin",
     "output_type": "stream",
     "text": [
      "enter a number_1: 10\n",
      "enter a number_2: 20\n",
      "Enter an operation: add\n"
     ]
    },
    {
     "name": "stdout",
     "output_type": "stream",
     "text": [
      "30\n"
     ]
    }
   ],
   "source": [
    "n1=eval(input('enter a number_1:'))\n",
    "n2=eval(input('enter a number_2:'))\n",
    "\n",
    "op=input('Enter an operation:').lower()\n",
    "\n",
    "d1 = {'+': n1+n2 , '-' : n1 - n2 , '*' : n1*n2 , '/':n1 / n2}\n",
    "\n",
    "d2 = {'add': n1+n2 , 'sub' : n1 - n2 , 'mul' : n1*n2 , 'div':n1 / n2}\n",
    "\n",
    "if (op in d1) or (op in d2):\n",
    "    print(d1.get(op) or d2.get(op))\n",
    "else:\n",
    "    print('invalid operator')\n"
   ]
  },
  {
   "cell_type": "code",
   "execution_count": 28,
   "id": "57b978e7-0b21-4f46-acdd-17bc56a6ef5a",
   "metadata": {},
   "outputs": [
    {
     "name": "stdout",
     "output_type": "stream",
     "text": [
      "enter a number_1:67\n",
      "enter a number_2:78\n",
      "Enter an operation:-\n",
      "-11\n"
     ]
    }
   ],
   "source": [
    "n1=eval(input('enter a number_1:'))\n",
    "\n",
    "n2=eval(input('enter a number_2:'))\n",
    "\n",
    "op=input('Enter an operation:')\n",
    "\n",
    "d1 = {'+': n1+n2 , '-' : n1 - n2 , '*' : n1*n2 , '/':n1 / n2 , 'add': n1+n2 , 'sub' : n1 - n2 , 'mul' : n1*n2 , 'div':n1 / n2}\n",
    "\n",
    "if op in d1:\n",
    "    print(d1.get(op))\n",
    "else:\n",
    "    print('invalid operator')\n"
   ]
  },
  {
   "cell_type": "code",
   "execution_count": 104,
   "id": "4623db41-8997-4a7b-9de6-ab85c7e60034",
   "metadata": {},
   "outputs": [
    {
     "name": "stdin",
     "output_type": "stream",
     "text": [
      "enter a number_1: 3\n",
      "enter a number_2: 3\n",
      "Enter an operation: add\n"
     ]
    },
    {
     "name": "stdout",
     "output_type": "stream",
     "text": [
      "invalid operator\n"
     ]
    }
   ],
   "source": [
    "n1=eval(input('enter a number_1:'))\n",
    "\n",
    "n2=eval(input('enter a number_2:'))\n",
    "\n",
    "op=input('Enter an operation:')\n",
    "\n",
    "d1 = {'add+': n1+n2 , 'sub-' : n1 - n2 }\n",
    "\n",
    "if op in d1:\n",
    "    print(d1.get(op))\n",
    "else:\n",
    "    print('invalid operator')\n"
   ]
  },
  {
   "cell_type": "code",
   "execution_count": 108,
   "id": "2b67fa1c-4e9f-4474-a7e8-54a8fd1b4359",
   "metadata": {},
   "outputs": [
    {
     "data": {
      "text/plain": [
       "True"
      ]
     },
     "execution_count": 108,
     "metadata": {},
     "output_type": "execute_result"
    }
   ],
   "source": [
    "d1 = {('add' , '+'): n1+n2 , 'sub-' : n1 - n2 }\n",
    "\n",
    "('add' , '+') in d1"
   ]
  },
  {
   "cell_type": "code",
   "execution_count": 124,
   "id": "4287648c-1c1d-4bd7-8f17-f5c92a00afe3",
   "metadata": {},
   "outputs": [
    {
     "name": "stdout",
     "output_type": "stream",
     "text": [
      "-10\n"
     ]
    }
   ],
   "source": [
    "n1 = 10\n",
    "n2 = 20\n",
    "op = '+'\n",
    "d1 = {('add' , '+'): n1+n2 , ('sub' , '-') : n1 - n2 }\n",
    "\n",
    "for i in d1:\n",
    "    if (op in i):\n",
    "        print(d1.get(i))\n",
    "        break\n",
    "    "
   ]
  },
  {
   "cell_type": "code",
   "execution_count": null,
   "id": "d0f29c7a-baec-487d-9edc-079a7a3baab2",
   "metadata": {},
   "outputs": [],
   "source": []
  }
 ],
 "metadata": {
  "kernelspec": {
   "display_name": "Python 3 (ipykernel)",
   "language": "python",
   "name": "python3"
  },
  "language_info": {
   "codemirror_mode": {
    "name": "ipython",
    "version": 3
   },
   "file_extension": ".py",
   "mimetype": "text/x-python",
   "name": "python",
   "nbconvert_exporter": "python",
   "pygments_lexer": "ipython3",
   "version": "3.9.13"
  }
 },
 "nbformat": 4,
 "nbformat_minor": 5
}
