{
 "cells": [
  {
   "cell_type": "code",
   "execution_count": 7,
   "id": "13d70418-6209-409e-9031-4b16c7f5f86c",
   "metadata": {},
   "outputs": [
    {
     "name": "stdout",
     "output_type": "stream",
     "text": [
      "Palindrom\n",
      "40\n",
      "Palindrom\n",
      "50\n"
     ]
    }
   ],
   "source": [
    "# Task1\n",
    "x = 'level'\n",
    "\n",
    "if x == x[::-1]:\n",
    "    print('Palindrom')\n",
    "else:\n",
    "    print('Not a palindrom')\n",
    "\n",
    "# Task2\n",
    "n1 = 10\n",
    "n2 = 30\n",
    "\n",
    "print(n1 + n2)\n",
    "\n",
    "# Task3\n",
    "\n",
    "x = 'malayalam'\n",
    "\n",
    "if x == x[::-1]:\n",
    "    print('Palindrom')\n",
    "else:\n",
    "    print('Not a palindrom')\n",
    "\n",
    "# Task4\n",
    "\n",
    "n1 = 10\n",
    "n2 = 40\n",
    "\n",
    "print(n1 + n2)"
   ]
  },
  {
   "cell_type": "markdown",
   "id": "b557912e",
   "metadata": {},
   "source": [
    "# Best practice\n",
    "\n",
    "- The code should be understandable\n",
    "- Should be written in as many min lines as possible"
   ]
  },
  {
   "cell_type": "code",
   "execution_count": null,
   "id": "9b58e2e7-0a05-477e-808f-f4a872a79478",
   "metadata": {},
   "outputs": [],
   "source": [
    "# Functions - DRY  don't repeat yourself\n",
    "\n",
    "1. function definition --> where we define the code\n",
    "\n",
    "2. function call ---> You execute the code\n",
    "\n",
    "syntax\n",
    "\n",
    "1. function definition\n",
    "\n",
    "        def function_name(parameter):\n",
    "            stat1\n",
    "            stat2\n",
    "            return stat3\n",
    "\n",
    "2. function call\n",
    "\n",
    "        function_name(arguments)\n",
    "\n",
    "\n",
    "Things which are optional\n",
    "\n",
    "1. return ---> If not used by default every function return None\n",
    "2. parameter --> If parameter are there ,arguments should be there"
   ]
  },
  {
   "cell_type": "code",
   "execution_count": 8,
   "id": "adf4bad8-abb7-4bd5-80b9-ab062211afca",
   "metadata": {},
   "outputs": [
    {
     "name": "stdout",
     "output_type": "stream",
     "text": [
      "50\n"
     ]
    }
   ],
   "source": [
    "n1 = 10\n",
    "n2 = 40\n",
    "\n",
    "print(n1 + n2)"
   ]
  },
  {
   "cell_type": "code",
   "execution_count": 11,
   "id": "9888625c-52db-4668-9ac6-6aeef872b72d",
   "metadata": {},
   "outputs": [],
   "source": [
    "# function definition\n",
    "\n",
    "def adder():\n",
    "    print(10 + 40)"
   ]
  },
  {
   "cell_type": "code",
   "execution_count": 14,
   "id": "791165da-2dff-4ebf-8a3b-6ca7967ec401",
   "metadata": {},
   "outputs": [
    {
     "name": "stdout",
     "output_type": "stream",
     "text": [
      "50\n",
      "50\n",
      "50\n",
      "50\n",
      "50\n"
     ]
    }
   ],
   "source": [
    "# Function call\n",
    "\n",
    "adder()\n",
    "adder()\n",
    "adder()\n",
    "adder()\n",
    "adder()"
   ]
  },
  {
   "cell_type": "code",
   "execution_count": 10,
   "id": "f25c5c7e-39ec-4a80-8a2c-9d8a76378c9e",
   "metadata": {},
   "outputs": [],
   "source": [
    "def adder(a , b): #parameters\n",
    "    print(a + b)"
   ]
  },
  {
   "cell_type": "code",
   "execution_count": 18,
   "id": "429fb566-a0fa-4126-9944-b8fce4e63c86",
   "metadata": {},
   "outputs": [
    {
     "name": "stdout",
     "output_type": "stream",
     "text": [
      "30\n",
      "100\n"
     ]
    }
   ],
   "source": [
    "adder(10 , 20) # arguments\n",
    "adder(60 , 40)"
   ]
  },
  {
   "cell_type": "code",
   "execution_count": 2,
   "id": "ae689c97-f947-45e8-ad52-072f6ac7cf6b",
   "metadata": {},
   "outputs": [
    {
     "name": "stdout",
     "output_type": "stream",
     "text": [
      "Palindrom\n"
     ]
    }
   ],
   "source": [
    "x = 'malayalam'\n",
    "\n",
    "if x == x[::-1]:\n",
    "    print('Palindrom')\n",
    "else:\n",
    "    print('Not a palindrom')"
   ]
  },
  {
   "cell_type": "code",
   "execution_count": 11,
   "id": "3af28f3b-02ad-4dcc-9ab1-b3274043f671",
   "metadata": {},
   "outputs": [],
   "source": [
    "def palindrom(a):\n",
    "    if a == a[::-1]:\n",
    "        print('Palindrom')\n",
    "    else:\n",
    "        print('Not a palindrom')"
   ]
  },
  {
   "cell_type": "code",
   "execution_count": 12,
   "id": "8fa514a1-1ab7-411f-ace7-97d4135ba656",
   "metadata": {},
   "outputs": [
    {
     "name": "stdout",
     "output_type": "stream",
     "text": [
      "Palindrom\n",
      "Not a palindrom\n"
     ]
    }
   ],
   "source": [
    "palindrom('level')\n",
    "palindrom('python')"
   ]
  },
  {
   "cell_type": "code",
   "execution_count": 8,
   "id": "bf2dfb7d-cccb-47f1-a6e6-c76c87ad1024",
   "metadata": {},
   "outputs": [
    {
     "name": "stdout",
     "output_type": "stream",
     "text": [
      "Palindrom\n",
      "40\n",
      "Palindrom\n",
      "50\n"
     ]
    }
   ],
   "source": [
    "# Task1\n",
    "x = 'level'\n",
    "\n",
    "if x == x[::-1]:\n",
    "    print('Palindrom')\n",
    "else:\n",
    "    print('Not a palindrom')\n",
    "\n",
    "# Task2\n",
    "n1 = 10\n",
    "n2 = 30\n",
    "\n",
    "print(n1 + n2)\n",
    "\n",
    "# Task3\n",
    "\n",
    "x = 'malayalam'\n",
    "\n",
    "if x == x[::-1]:\n",
    "    print('Palindrom')\n",
    "else:\n",
    "    print('Not a palindrom')\n",
    "\n",
    "# Task4\n",
    "\n",
    "n1 = 10\n",
    "n2 = 40\n",
    "\n",
    "print(n1 + n2)"
   ]
  },
  {
   "cell_type": "code",
   "execution_count": 13,
   "id": "c53ca706-5e8c-4a70-9056-0d8b142a787a",
   "metadata": {},
   "outputs": [
    {
     "name": "stdout",
     "output_type": "stream",
     "text": [
      "Palindrom\n",
      "40\n",
      "Palindrom\n",
      "50\n"
     ]
    }
   ],
   "source": [
    "# Task1\n",
    "x = 'level'\n",
    "palindrom(x)\n",
    "\n",
    "# Task2\n",
    "n1 = 10\n",
    "n2 = 30\n",
    "adder(n1, n2)\n",
    "\n",
    "# Task3\n",
    "\n",
    "x = 'malayalam'\n",
    "palindrom(x)\n",
    "# Task4\n",
    "\n",
    "n1 = 10\n",
    "n2 = 40\n",
    "adder(n1, n2)"
   ]
  },
  {
   "cell_type": "code",
   "execution_count": null,
   "id": "221d6415-04e9-43a6-9c3e-02a2d8601cdc",
   "metadata": {},
   "outputs": [],
   "source": [
    "# Types of arguments\n",
    "\n",
    "- postional args\n",
    "- keyword args\n",
    "- default args\n",
    "- variable length args"
   ]
  },
  {
   "cell_type": "markdown",
   "id": "c45fa440-c8b8-431d-81df-78afa34e7e9b",
   "metadata": {},
   "source": [
    "# postional args\n",
    "\n",
    "- the no of parameters should match with the no of arguments\n",
    "- The order is important"
   ]
  },
  {
   "cell_type": "code",
   "execution_count": 14,
   "id": "9c0e8310-10f2-49ed-a7d0-817ee9e51a71",
   "metadata": {},
   "outputs": [
    {
     "name": "stdout",
     "output_type": "stream",
     "text": [
      "Name =  xyz\n",
      "Age =  43\n",
      "Salary =  645645645\n"
     ]
    }
   ],
   "source": [
    "def emp_info(name , age , salary):\n",
    "    print('Name = ',name)\n",
    "    print('Age = ',age)\n",
    "    print('Salary = ',salary)\n",
    "\n",
    "emp_info('xyz' , 43 , 645645645)"
   ]
  },
  {
   "cell_type": "code",
   "execution_count": 28,
   "id": "0b850989-b093-4b28-82b1-7ba3f3e47a4e",
   "metadata": {},
   "outputs": [
    {
     "ename": "TypeError",
     "evalue": "emp_info() missing 1 required positional argument: 'salary'",
     "output_type": "error",
     "traceback": [
      "\u001b[1;31m---------------------------------------------------------------------------\u001b[0m",
      "\u001b[1;31mTypeError\u001b[0m                                 Traceback (most recent call last)",
      "Cell \u001b[1;32mIn[28], line 6\u001b[0m\n\u001b[0;32m      3\u001b[0m     \u001b[38;5;28mprint\u001b[39m(\u001b[38;5;124m'\u001b[39m\u001b[38;5;124mAge = \u001b[39m\u001b[38;5;124m'\u001b[39m,age)\n\u001b[0;32m      4\u001b[0m     \u001b[38;5;28mprint\u001b[39m(\u001b[38;5;124m'\u001b[39m\u001b[38;5;124mSalary = \u001b[39m\u001b[38;5;124m'\u001b[39m,salary)\n\u001b[1;32m----> 6\u001b[0m emp_info(\u001b[38;5;124m'\u001b[39m\u001b[38;5;124mxyz\u001b[39m\u001b[38;5;124m'\u001b[39m , \u001b[38;5;241m43\u001b[39m )\n",
      "\u001b[1;31mTypeError\u001b[0m: emp_info() missing 1 required positional argument: 'salary'"
     ]
    }
   ],
   "source": [
    "def emp_info(name , age , salary): # 3 \n",
    "    print('Name = ',name)\n",
    "    print('Age = ',age)\n",
    "    print('Salary = ',salary)\n",
    "\n",
    "emp_info('xyz' , 43 ) #2 "
   ]
  },
  {
   "cell_type": "code",
   "execution_count": 30,
   "id": "4977f8f4-0897-4ec2-9333-421288e51ccf",
   "metadata": {},
   "outputs": [
    {
     "name": "stdout",
     "output_type": "stream",
     "text": [
      "Name =  43\n",
      "Age =  545345345\n",
      "Salary =  xyz\n"
     ]
    }
   ],
   "source": [
    "def emp_info(name , age , salary): #3\n",
    "    print('Name = ',name)\n",
    "    print('Age = ',age)\n",
    "    print('Salary = ',salary)\n",
    "\n",
    "emp_info( 43 ,545345345 , 'xyz')#3"
   ]
  },
  {
   "cell_type": "markdown",
   "id": "57d33633-b3e8-42c3-ba41-cf254fb4a900",
   "metadata": {},
   "source": [
    "# Keyword"
   ]
  },
  {
   "cell_type": "code",
   "execution_count": 32,
   "id": "035eacc9-f117-463a-b3e6-fb142add514e",
   "metadata": {},
   "outputs": [
    {
     "name": "stdout",
     "output_type": "stream",
     "text": [
      "Name =  xyz\n",
      "Age =  43\n",
      "Salary =  645645645\n"
     ]
    }
   ],
   "source": [
    "def emp_info(name , age , salary):\n",
    "    print('Name = ',name)\n",
    "    print('Age = ',age)\n",
    "    print('Salary = ',salary)\n",
    "\n",
    "\n",
    "emp_info(name = 'xyz' , age = 43 , salary= 645645645)"
   ]
  },
  {
   "cell_type": "code",
   "execution_count": 33,
   "id": "ccd06d92-4fa0-4a93-90e6-1312a7c84fe7",
   "metadata": {},
   "outputs": [
    {
     "name": "stdout",
     "output_type": "stream",
     "text": [
      "Name =  xyz\n",
      "Age =  43\n",
      "Salary =  645645645\n"
     ]
    }
   ],
   "source": [
    "def emp_info(name , age , salary):\n",
    "    print('Name = ',name)\n",
    "    print('Age = ',age)\n",
    "    print('Salary = ',salary)\n",
    "\n",
    "\n",
    "emp_info( age = 43 , salary= 645645645 , name = 'xyz')"
   ]
  },
  {
   "cell_type": "markdown",
   "id": "ed1b70f9-96bb-4eb9-abbe-cbba579fcf4a",
   "metadata": {},
   "source": [
    "# Default arguments\n",
    "- The default value is assigned by using the assignment(=) operator of the form keywordname=value"
   ]
  },
  {
   "cell_type": "code",
   "execution_count": 15,
   "id": "17aa3904",
   "metadata": {},
   "outputs": [
    {
     "name": "stdout",
     "output_type": "stream",
     "text": [
      "Name =  xyz\n",
      "Age =  32\n",
      "Salary =  534545\n",
      "Location =  Bangalore\n",
      "pin =  435345\n"
     ]
    }
   ],
   "source": [
    "def emp_info(name , age , salary , loc = 'Bangalore' , pin = 435345):\n",
    "    print('Name = ',name)\n",
    "    print('Age = ',age)\n",
    "    print('Salary = ',salary)\n",
    "    print('Location = ',loc)\n",
    "    print('pin = ',pin)\n",
    "\n",
    "emp_info('xyz' , 32,534545) "
   ]
  },
  {
   "cell_type": "code",
   "execution_count": 16,
   "id": "37302ab5-d2a7-4a76-bd1a-5ca0497196ba",
   "metadata": {},
   "outputs": [
    {
     "name": "stdout",
     "output_type": "stream",
     "text": [
      "Name =  xyz\n",
      "Age =  32\n",
      "Salary =  534545\n",
      "Location =  Goa\n",
      "pin =  6545\n"
     ]
    }
   ],
   "source": [
    "def emp_info(name , age , salary , loc = 'Bangalore' , pin = 435345):\n",
    "    print('Name = ',name)\n",
    "    print('Age = ',age)\n",
    "    print('Salary = ',salary)\n",
    "    print('Location = ',loc)\n",
    "    print('pin = ',pin)\n",
    "\n",
    "emp_info('xyz' , 32,534545 , 'Goa',6545) # without naming loc, pin "
   ]
  },
  {
   "cell_type": "code",
   "execution_count": 37,
   "id": "8ced8e7d-1204-441a-8240-da1b41913f9f",
   "metadata": {},
   "outputs": [
    {
     "name": "stdout",
     "output_type": "stream",
     "text": [
      "Name =  xyz\n",
      "Age =  32\n",
      "Salary =  534545\n",
      "Location =  Goa\n",
      "pin =  6545\n"
     ]
    }
   ],
   "source": [
    "def emp_info(name , age , salary , loc = 'Bangalore' , pin = 435345):\n",
    "    print('Name = ',name)\n",
    "    print('Age = ',age)\n",
    "    print('Salary = ',salary)\n",
    "    print('Location = ',loc)\n",
    "    print('pin = ',pin)\n",
    "\n",
    "emp_info('xyz' , 32,534545 , loc = 'Goa',pin = 6545)"
   ]
  },
  {
   "cell_type": "code",
   "execution_count": 38,
   "id": "71d855f0-cbf7-4eef-9ae7-0a5116271e47",
   "metadata": {},
   "outputs": [
    {
     "name": "stdout",
     "output_type": "stream",
     "text": [
      "Name =  xyz\n",
      "Age =  32\n",
      "Salary =  534545\n",
      "Location =  Bangalore\n",
      "pin =  6545\n"
     ]
    }
   ],
   "source": [
    "def emp_info(name , age , salary , loc = 'Bangalore' , pin = 435345):\n",
    "    print('Name = ',name)\n",
    "    print('Age = ',age)\n",
    "    print('Salary = ',salary)\n",
    "    print('Location = ',loc)\n",
    "    print('pin = ',pin)\n",
    "\n",
    "\n",
    "emp_info('xyz',32, 534545 , pin = 6545)"
   ]
  },
  {
   "cell_type": "code",
   "execution_count": 43,
   "id": "0d70a551-802e-40b5-a3e2-14eac5219196",
   "metadata": {
    "scrolled": true
   },
   "outputs": [
    {
     "ename": "SyntaxError",
     "evalue": "positional argument follows keyword argument (372677425.py, line 9)",
     "output_type": "error",
     "traceback": [
      "\u001b[1;36m  Cell \u001b[1;32mIn[43], line 9\u001b[1;36m\u001b[0m\n\u001b[1;33m    emp_info(name = 'xyz' , 32,534545 , pin = 6545)\u001b[0m\n\u001b[1;37m                                                  ^\u001b[0m\n\u001b[1;31mSyntaxError\u001b[0m\u001b[1;31m:\u001b[0m positional argument follows keyword argument\n"
     ]
    }
   ],
   "source": [
    "def emp_info(name , age , salary , loc = 'Bangalore' , pin = 435345):\n",
    "    print('Name = ',name)\n",
    "    print('Age = ',age)\n",
    "    print('Salary = ',salary)\n",
    "    print('Location = ',loc)\n",
    "    print('pin = ',pin)\n",
    "\n",
    "\n",
    "emp_info(name = 'xyz' , 32,534545 , pin = 6545)# first positional then keywords"
   ]
  },
  {
   "cell_type": "code",
   "execution_count": null,
   "id": "e8133983-d443-43e0-8445-c7b5a6236526",
   "metadata": {},
   "outputs": [],
   "source": [
    "# \n",
    "If you are using a mix match of positional and keyword args\n",
    "\n",
    "first the postional args should be givenb follewed by the default args"
   ]
  },
  {
   "cell_type": "code",
   "execution_count": 44,
   "id": "5c7d1ca3-9677-4be9-8b0c-58289b44a2b5",
   "metadata": {},
   "outputs": [
    {
     "ename": "SyntaxError",
     "evalue": "non-default argument follows default argument (1920698029.py, line 1)",
     "output_type": "error",
     "traceback": [
      "\u001b[1;36m  Cell \u001b[1;32mIn[44], line 1\u001b[1;36m\u001b[0m\n\u001b[1;33m    def emp_info(loc = 'Bangalore' , pin = 435345 ,name , age , salary ):\u001b[0m\n\u001b[1;37m                                                   ^\u001b[0m\n\u001b[1;31mSyntaxError\u001b[0m\u001b[1;31m:\u001b[0m non-default argument follows default argument\n"
     ]
    }
   ],
   "source": [
    "def emp_info(loc = 'Bangalore' , pin = 435345 ,name , age , salary ): # first positional\n",
    "    print('Name = ',name)\n",
    "    print('Age = ',age)\n",
    "    print('Salary = ',salary)\n",
    "    print('Location = ',loc)\n",
    "    print('pin = ',pin)\n",
    "\n",
    "\n",
    "emp_info( 'xyz' , 32,534545 , pin = 6545)"
   ]
  },
  {
   "cell_type": "code",
   "execution_count": 48,
   "id": "5c754597-fcfc-4da1-b8b4-947331bf5abe",
   "metadata": {},
   "outputs": [
    {
     "name": "stdout",
     "output_type": "stream",
     "text": [
      "Name =  xyz\n",
      "Age =  32\n",
      "Salary =  534545\n",
      "Location =  Goa\n",
      "pin =  6545\n"
     ]
    }
   ],
   "source": [
    "def emp_info(name , age , salary , loc = 'Bangalore' , pin = 435345):\n",
    "    print('Name = ',name)\n",
    "    print('Age = ',age)\n",
    "    print('Salary = ',salary)\n",
    "    print('Location = ',loc)\n",
    "    print('pin = ',pin)\n",
    "\n",
    "\n",
    "emp_info('xyz' , 32 , 534545 , loc = 'Goa' , pin = 6545)"
   ]
  },
  {
   "cell_type": "code",
   "execution_count": 17,
   "id": "c753d13e-c005-4cca-9932-d65fb567d644",
   "metadata": {},
   "outputs": [
    {
     "name": "stdout",
     "output_type": "stream",
     "text": [
      "Name =  xyz\n",
      "Age =  32\n",
      "Salary =  534545\n",
      "Location =  Goa\n",
      "pin =  6545\n"
     ]
    }
   ],
   "source": [
    "def emp_info(name , age , salary , loc = 'Bangalore' , pin = 435345):\n",
    "    print('Name = ',name)\n",
    "    print('Age = ',age)\n",
    "    print('Salary = ',salary)\n",
    "    print('Location = ',loc)\n",
    "    print('pin = ',pin)\n",
    "\n",
    "\n",
    "emp_info(name = 'xyz' , age = 32 , salary = 534545 ,  pin = 6545 , loc = 'Goa')"
   ]
  },
  {
   "cell_type": "code",
   "execution_count": 56,
   "id": "a9ae696e-862b-4d61-848f-00d2278b5d78",
   "metadata": {},
   "outputs": [
    {
     "name": "stdout",
     "output_type": "stream",
     "text": [
      "Name =  xyz\n",
      "Age =  32\n",
      "Salary =  534545\n",
      "Location =  Chennai\n",
      "pin =  6545\n"
     ]
    }
   ],
   "source": [
    "def emp_info(name , age , salary , loc = 'Bangalore' , pin = 435345):\n",
    "    print('Name = ',name)\n",
    "    print('Age = ',age)\n",
    "    print('Salary = ',salary)\n",
    "    print('Location = ',loc)\n",
    "    print('pin = ',pin)\n",
    "\n",
    "\n",
    "emp_info( 'xyz' , 32 ,  534545 , 'Chennai' , pin = 6545 )"
   ]
  },
  {
   "cell_type": "code",
   "execution_count": 72,
   "id": "892d3eb0-817c-416d-a8de-d2e81c317be4",
   "metadata": {},
   "outputs": [
    {
     "name": "stdout",
     "output_type": "stream",
     "text": [
      "Name =  xyz\n",
      "Age =  32\n",
      "Salary =  534545\n",
      "Location =  Chennai\n",
      "pin =  6545\n"
     ]
    }
   ],
   "source": [
    "def emp_info(name , age, / , salary, * , loc = 'Bangalore' , pin = 435345):\n",
    "    print('Name = ',name)\n",
    "    print('Age = ',age)\n",
    "    print('Salary = ',salary)\n",
    "    print('Location = ',loc)\n",
    "    print('pin = ',pin)\n",
    "\n",
    "\n",
    "emp_info( 'xyz' , 32 , 534545 , loc = 'Chennai' , pin = 6545 )"
   ]
  },
  {
   "cell_type": "code",
   "execution_count": null,
   "id": "af371b5e-edd4-4ef5-889d-d58eaf1b3b98",
   "metadata": {},
   "outputs": [],
   "source": [
    "# Variable length args\n",
    "\n",
    "*args ---> take variable length positional agruments and store it in a form of a tuple\n",
    "\n",
    "**kwargs --> take variable length keyword agruments and store it in a form of a dic"
   ]
  },
  {
   "cell_type": "code",
   "execution_count": 18,
   "id": "a4c17453-9331-42e0-8ef7-14f0c9996940",
   "metadata": {},
   "outputs": [
    {
     "name": "stdout",
     "output_type": "stream",
     "text": [
      "(10, 20, 3, 3, 54, 5, 6, 6) <class 'tuple'>\n"
     ]
    }
   ],
   "source": [
    "def adder(*args):\n",
    "    print(args , type(args))\n",
    "\n",
    "adder(10 , 20 ,3,3,54,5,6,6)"
   ]
  },
  {
   "cell_type": "code",
   "execution_count": 20,
   "id": "093e00f5-c657-4108-acef-54e8bba3a0b2",
   "metadata": {},
   "outputs": [
    {
     "name": "stdout",
     "output_type": "stream",
     "text": [
      "50\n",
      "50\n"
     ]
    }
   ],
   "source": [
    "def adder(*args):\n",
    "    print(sum(args))\n",
    "    print(sum(args))\n",
    "adder(10 , 20 ,10,10)"
   ]
  },
  {
   "cell_type": "code",
   "execution_count": 21,
   "id": "3982d2ff-d8d2-4106-a623-7490c0f7ac5e",
   "metadata": {},
   "outputs": [
    {
     "name": "stdout",
     "output_type": "stream",
     "text": [
      "{'name': 'xyz', 'age': 434, 'salry': 343} <class 'dict'>\n"
     ]
    }
   ],
   "source": [
    "def adder(**kwargs):\n",
    "    print(kwargs , type(kwargs))\n",
    "\n",
    "adder(name = 'xyz' , age = 434 , salry = 343)"
   ]
  },
  {
   "cell_type": "code",
   "execution_count": 22,
   "id": "d4997813-586b-42cb-9c58-806802661a07",
   "metadata": {},
   "outputs": [
    {
     "name": "stdout",
     "output_type": "stream",
     "text": [
      "(12, 34, 45, 56) <class 'tuple'>\n",
      "{'name': 'xyz', 'age': 434, 'salary': 343} <class 'dict'>\n"
     ]
    }
   ],
   "source": [
    "def adder(*args , **kwargs):\n",
    "    print(args , type(args))\n",
    "    print(kwargs , type(kwargs))\n",
    "\n",
    "adder(12,34,45,56, name = 'xyz' , age = 434 , salary = 343)"
   ]
  },
  {
   "cell_type": "code",
   "execution_count": 26,
   "id": "9af39c39-2366-428f-9f61-d926fdbfd785",
   "metadata": {},
   "outputs": [],
   "source": [
    "emp_data = {\n",
    "            'emp_1' : {'name' :'Salahudin' , 'age':34 , 'Salary' : 343434} , \n",
    "            'emp_2' : {'name' :'Vijay' , 'age':23 , 'Salary' : 564754645} , \n",
    "            'emp_3' : {'name' :'Abdul' , 'age':54 , 'Salary' : 45345345} , \n",
    "            'emp_4' : {'name' :'Abhijeet' , 'age':28 , 'Salary' : 34534534} \n",
    "           }"
   ]
  },
  {
   "cell_type": "code",
   "execution_count": 27,
   "id": "b56ee04b-07f3-4f2a-873f-4034cb6de99a",
   "metadata": {},
   "outputs": [
    {
     "ename": "TypeError",
     "evalue": "emp_adder() got an unexpected keyword argument 'pin'",
     "output_type": "error",
     "traceback": [
      "\u001b[1;31m---------------------------------------------------------------------------\u001b[0m",
      "\u001b[1;31mTypeError\u001b[0m                                 Traceback (most recent call last)",
      "Cell \u001b[1;32mIn[27], line 5\u001b[0m\n\u001b[0;32m      2\u001b[0m     key \u001b[38;5;241m=\u001b[39m \u001b[38;5;124mf\u001b[39m\u001b[38;5;124m\"\u001b[39m\u001b[38;5;124memp_\u001b[39m\u001b[38;5;132;01m{\u001b[39;00m\u001b[38;5;28mlen\u001b[39m(emp_data)\u001b[38;5;241m+\u001b[39m\u001b[38;5;241m1\u001b[39m\u001b[38;5;132;01m}\u001b[39;00m\u001b[38;5;124m\"\u001b[39m \u001b[38;5;66;03m# emp_x x=5,6----\u001b[39;00m\n\u001b[0;32m      3\u001b[0m     emp_data\u001b[38;5;241m.\u001b[39msetdefault(key , {\u001b[38;5;124m'\u001b[39m\u001b[38;5;124mname\u001b[39m\u001b[38;5;124m'\u001b[39m :a , \u001b[38;5;124m'\u001b[39m\u001b[38;5;124mage\u001b[39m\u001b[38;5;124m'\u001b[39m:b , \u001b[38;5;124m'\u001b[39m\u001b[38;5;124mSalary\u001b[39m\u001b[38;5;124m'\u001b[39m : c})\n\u001b[1;32m----> 5\u001b[0m \u001b[43memp_adder\u001b[49m\u001b[43m(\u001b[49m\u001b[38;5;124;43m'\u001b[39;49m\u001b[38;5;124;43mabc\u001b[39;49m\u001b[38;5;124;43m'\u001b[39;49m\u001b[43m \u001b[49m\u001b[43m,\u001b[49m\u001b[43m \u001b[49m\u001b[38;5;241;43m53\u001b[39;49m\u001b[43m \u001b[49m\u001b[43m,\u001b[49m\u001b[43m \u001b[49m\u001b[38;5;241;43m675865\u001b[39;49m\u001b[43m,\u001b[49m\u001b[43m \u001b[49m\u001b[43mpin\u001b[49m\u001b[43m \u001b[49m\u001b[38;5;241;43m=\u001b[39;49m\u001b[43m \u001b[49m\u001b[38;5;241;43m76\u001b[39;49m\u001b[43m \u001b[49m\u001b[43m)\u001b[49m\n\u001b[0;32m      6\u001b[0m emp_data    \n",
      "\u001b[1;31mTypeError\u001b[0m: emp_adder() got an unexpected keyword argument 'pin'"
     ]
    }
   ],
   "source": [
    "def emp_adder(a,b,c):\n",
    "    key = f\"emp_{len(emp_data)+1}\" # emp_x x=5,6----\n",
    "    emp_data.setdefault(key , {'name' :a , 'age':b , 'Salary' : c})\n",
    "    \n",
    "emp_adder('abc' , 53 , 675865, pin = 76)\n",
    "emp_data    \n",
    "    "
   ]
  },
  {
   "cell_type": "code",
   "execution_count": 28,
   "id": "dc79a07d",
   "metadata": {},
   "outputs": [
    {
     "data": {
      "text/plain": [
       "{'emp_1': {'name': 'Salahudin', 'age': 34, 'Salary': 343434},\n",
       " 'emp_2': {'name': 'Vijay', 'age': 23, 'Salary': 564754645},\n",
       " 'emp_3': {'name': 'Abdul', 'age': 54, 'Salary': 45345345},\n",
       " 'emp_4': {'name': 'Abhijeet', 'age': 28, 'Salary': 34534534},\n",
       " 'emp_5': {'name': 'abc', 'age': 53, 'Salary': 675865}}"
      ]
     },
     "execution_count": 28,
     "metadata": {},
     "output_type": "execute_result"
    }
   ],
   "source": [
    "def emp_adder(a,b,c):\n",
    "    key = f\"emp_{len(emp_data)+1}\" # emp_x x=5,6----\n",
    "    emp_data.setdefault(key , {'name' :a , 'age':b , 'Salary' : c})\n",
    "    \n",
    "emp_adder('abc' , 53 , 675865)\n",
    "emp_data    \n",
    "    "
   ]
  },
  {
   "cell_type": "code",
   "execution_count": 29,
   "id": "7aacec4e-16a8-405f-b3a0-3dd5c7144269",
   "metadata": {},
   "outputs": [
    {
     "data": {
      "text/plain": [
       "{'emp_1': {'name': 'Salahudin', 'age': 34, 'Salary': 343434},\n",
       " 'emp_2': {'name': 'Vijay', 'age': 23, 'Salary': 564754645},\n",
       " 'emp_3': {'name': 'Abdul', 'age': 54, 'Salary': 45345345},\n",
       " 'emp_4': {'name': 'Abhijeet', 'age': 28, 'Salary': 34534534},\n",
       " 'emp_5': {'name': 'abc', 'age': 53, 'Salary': 675865},\n",
       " 'emp_6': {'name': 'def', 'age': 53, 'Salary': 675865, 'pin': 76}}"
      ]
     },
     "execution_count": 29,
     "metadata": {},
     "output_type": "execute_result"
    }
   ],
   "source": [
    "def emp_adder(a,b,c , **kwargs):\n",
    "    key = f\"emp_{len(emp_data)+1}\"\n",
    "    d = {'name' :a , 'age':b , 'Salary' : c}\n",
    "    d.update(kwargs)\n",
    "    emp_data.setdefault(key , d)\n",
    "    \n",
    "emp_adder('def' , 53 , 675865, pin = 76 )\n",
    "emp_data    "
   ]
  },
  {
   "cell_type": "code",
   "execution_count": 30,
   "id": "d9519dd4-f0aa-4e6a-8c0b-4bd626df03ca",
   "metadata": {},
   "outputs": [
    {
     "data": {
      "text/plain": [
       "{'emp_1': {'name': 'Salahudin', 'age': 34, 'Salary': 343434},\n",
       " 'emp_2': {'name': 'Vijay', 'age': 23, 'Salary': 564754645},\n",
       " 'emp_3': {'name': 'Abdul', 'age': 54, 'Salary': 45345345},\n",
       " 'emp_4': {'name': 'Abhijeet', 'age': 28, 'Salary': 34534534},\n",
       " 'emp_5': {'name': 'abc', 'age': 53, 'Salary': 675865},\n",
       " 'emp_6': {'name': 'def', 'age': 53, 'Salary': 675865, 'pin': 76},\n",
       " 'emp_7': {'name': 'ghi', 'age': 53, 'Salary': 675865, 'pin': 76}}"
      ]
     },
     "execution_count": 30,
     "metadata": {},
     "output_type": "execute_result"
    }
   ],
   "source": [
    "def emp_adder(a,b,c , **kwargs):\n",
    "    key = f\"emp_{len(emp_data)+1}\"\n",
    "    d = {'name' :a , 'age':b , 'Salary' : c , **kwargs}\n",
    "    emp_data.setdefault(key , d)\n",
    "    \n",
    "emp_adder('ghi' , 53 , 675865, pin = 76 )\n",
    "emp_data    "
   ]
  },
  {
   "cell_type": "code",
   "execution_count": 32,
   "id": "f1886679-cc92-4d91-be2c-3dcbdbb2ddd9",
   "metadata": {},
   "outputs": [
    {
     "data": {
      "text/plain": [
       "{'emp_1': {'name': 'Salahudin', 'age': 34, 'Salary': 343434},\n",
       " 'emp_2': {'name': 'Vijay', 'age': 23, 'Salary': 564754645},\n",
       " 'emp_3': {'name': 'Abdul', 'age': 54, 'Salary': 45345345},\n",
       " 'emp_4': {'name': 'Abhijeet', 'age': 28, 'Salary': 34534534},\n",
       " 'emp_5': {'name': 'abc', 'age': 53, 'Salary': 675865},\n",
       " 'emp_6': {'name': 'def', 'age': 53, 'Salary': 675865, 'pin': 76},\n",
       " 'emp_7': {'name': 'ghi', 'age': 53, 'Salary': 675865, 'pin': 76},\n",
       " 'emp_8': {'name': 'ijk', 'age': 53, 'salary': 675865, 'pin': 77},\n",
       " 'emp_9': {'name': 'ijk', 'age': 53, 'salary': 675865, 'pin': 76}}"
      ]
     },
     "execution_count": 32,
     "metadata": {},
     "output_type": "execute_result"
    }
   ],
   "source": [
    "def emp_adder(a,b,c,**kwargs):\n",
    "    key = f\"emp_{len(emp_data) + 1}\"\n",
    "    emp_data.setdefault(key, {'name':a, 'age':b, 'salary':c})\n",
    "    if kwargs != None:\n",
    "            emp_data[key].update(kwargs)\n",
    "            \n",
    "emp_adder('ijk' , 53 , 675865, pin = 76 )\n",
    "emp_data "
   ]
  },
  {
   "cell_type": "code",
   "execution_count": 123,
   "id": "d74623db-bfc7-40db-a865-770bcc74d3dd",
   "metadata": {},
   "outputs": [],
   "source": [
    "#emp_adder('abc' , 53 , 675865, pin = 76 )"
   ]
  },
  {
   "cell_type": "code",
   "execution_count": 124,
   "id": "b20b4919-b9c9-49e3-ba9b-2c6817924ced",
   "metadata": {},
   "outputs": [
    {
     "data": {
      "text/plain": [
       "{'emp_1': {'name': 'Salahudin', 'age': 34, 'Salary': 343434},\n",
       " 'emp_2': {'name': 'Vijay', 'age': 23, 'Salary': 564754645},\n",
       " 'emp_3': {'name': 'Abdul', 'age': 54, 'Salary': 45345345},\n",
       " 'emp_4': {'name': 'Abhijeet', 'age': 28, 'Salary': 34534534},\n",
       " 'emp_5': {'name': 'abc', 'age': 53, 'Salary': 675865, 'mobile': 564645645},\n",
       " 'emp_6': {'name': 'abc', 'age': 53, 'Salary': 675865},\n",
       " 'emp_7': {'name': 'abc', 'age': 53, 'Salary': 675865},\n",
       " 'emp_8': {'name': 'abc', 'age': 53, 'Salary': 675865, 'pin': 76}}"
      ]
     },
     "execution_count": 124,
     "metadata": {},
     "output_type": "execute_result"
    }
   ],
   "source": [
    "#emp_data"
   ]
  },
  {
   "cell_type": "code",
   "execution_count": 70,
   "id": "3606a31f-a508-4499-983f-1e9f0f04e786",
   "metadata": {},
   "outputs": [],
   "source": [
    "existing_emp = {'emp_1': {'name': 'Salahudin', 'age': 34, 'Salary': 343434},\n",
    " 'emp_2': {'name': 'Vijay', 'age': 23, 'Salary': 564754645},\n",
    " 'emp_3': {'name': 'Abdul', 'age': 54, 'Salary': 45345345},\n",
    " 'emp_4': {'name': 'Abhijeet', 'age': 28, 'Salary': 34534534},\n",
    " 'emp_5': {'name': 'xyz', 'age': 32, 'Salary': 54534534},\n",
    " 'emp_6': {'name': 'abc', 'age': 65, 'Salary': 343534534},\n",
    " 'emp_7': {'name': 'pqr', 'age': 56, 'Salary': 34534534}}\n",
    "\n",
    "ex_emp = {}"
   ]
  },
  {
   "cell_type": "code",
   "execution_count": 71,
   "id": "ac820b43",
   "metadata": {},
   "outputs": [
    {
     "name": "stdout",
     "output_type": "stream",
     "text": [
      "{'emp_1': {'name': 'Salahudin', 'age': 34, 'Salary': 343434}, 'emp_2': {'name': 'Vijay', 'age': 23, 'Salary': 564754645}, 'emp_4': {'name': 'Abhijeet', 'age': 28, 'Salary': 34534534}, 'emp_5': {'name': 'xyz', 'age': 32, 'Salary': 54534534}, 'emp_6': {'name': 'abc', 'age': 65, 'Salary': 343534534}, 'emp_7': {'name': 'pqr', 'age': 56, 'Salary': 34534534}}\n",
      "{'emp_3': {'name': 'Abdul', 'age': 54, 'Salary': 45345345}}\n"
     ]
    }
   ],
   "source": [
    "def func(a): # positional \n",
    "       ex_emp.setdefault(a, existing_emp.pop(a))\n",
    "    \n",
    "    \n",
    "func('emp_3')\n",
    "print(existing_emp)\n",
    "print(ex_emp)\n"
   ]
  },
  {
   "cell_type": "code",
   "execution_count": 54,
   "id": "72a20517-a54b-4d01-9759-65abef94c8c6",
   "metadata": {},
   "outputs": [],
   "source": [
    "def func(*a): # positional \n",
    "    for i in a:\n",
    "        ex_emp.setdefault(i , existing_emp.pop(i))"
   ]
  },
  {
   "cell_type": "code",
   "execution_count": 55,
   "id": "e852ed34-2e31-4fdb-9f54-0e2b98a21d52",
   "metadata": {},
   "outputs": [],
   "source": [
    "func('emp_4' , 'emp_6')"
   ]
  },
  {
   "cell_type": "code",
   "execution_count": 56,
   "id": "827591df-057b-4d4c-9acb-65c54616d5cf",
   "metadata": {},
   "outputs": [
    {
     "data": {
      "text/plain": [
       "{'emp_1': {'name': 'Salahudin', 'age': 34, 'Salary': 343434},\n",
       " 'emp_2': {'name': 'Vijay', 'age': 23, 'Salary': 564754645},\n",
       " 'emp_3': {'name': 'Abdul', 'age': 54, 'Salary': 45345345},\n",
       " 'emp_5': {'name': 'xyz', 'age': 32, 'Salary': 54534534},\n",
       " 'emp_7': {'name': 'pqr', 'age': 56, 'Salary': 34534534}}"
      ]
     },
     "execution_count": 56,
     "metadata": {},
     "output_type": "execute_result"
    }
   ],
   "source": [
    "existing_emp"
   ]
  },
  {
   "cell_type": "code",
   "execution_count": 57,
   "id": "94de5aa1-2d4c-418b-a9e7-94cc377144ae",
   "metadata": {},
   "outputs": [
    {
     "data": {
      "text/plain": [
       "{'emp_4': {'name': 'Abhijeet', 'age': 28, 'Salary': 34534534},\n",
       " 'emp_6': {'name': 'abc', 'age': 65, 'Salary': 343534534}}"
      ]
     },
     "execution_count": 57,
     "metadata": {},
     "output_type": "execute_result"
    }
   ],
   "source": [
    "ex_emp"
   ]
  },
  {
   "cell_type": "markdown",
   "id": "fd834b5d-91b7-425a-a71a-6002ed4db8df",
   "metadata": {},
   "source": [
    "# Return"
   ]
  },
  {
   "cell_type": "code",
   "execution_count": 156,
   "id": "4659a922-85bc-409d-98a0-8c2951f6b0a5",
   "metadata": {},
   "outputs": [],
   "source": [
    "emp_data = {\n",
    "            'emp_1' : {'name' :'Salahudin' , 'age':34 , 'Salary' : 343434} , \n",
    "            'emp_2' : {'name' :'Vijay' , 'age':23 , 'Salary' : 564754645} , \n",
    "            'emp_3' : {'name' :'Abdul' , 'age':54 , 'Salary' : 45345345} , \n",
    "            'emp_4' : {'name' :'Abhijeet' , 'age':28 , 'Salary' : 34534534} \n",
    "           }"
   ]
  },
  {
   "cell_type": "code",
   "execution_count": 58,
   "id": "516631c7-5075-4459-bc76-130573400aaf",
   "metadata": {},
   "outputs": [],
   "source": [
    "def emp_adder(a,b,c , **kwargs):\n",
    "    key = f\"emp_{len(emp_data)+1}\"\n",
    "    d = {'name' :a , 'age':b , 'Salary' : c}\n",
    "    if ('loc' in kwargs.keys()) and ('pin' in kwargs.keys()):\n",
    "        d.update(kwargs)\n",
    "    emp_data.setdefault(key , d)"
   ]
  },
  {
   "cell_type": "code",
   "execution_count": 59,
   "id": "fe762858-284d-4d0f-a061-831ca83833fd",
   "metadata": {},
   "outputs": [
    {
     "data": {
      "text/plain": [
       "{'emp_1': {'name': 'Salahudin', 'age': 34, 'Salary': 343434},\n",
       " 'emp_2': {'name': 'Vijay', 'age': 23, 'Salary': 564754645},\n",
       " 'emp_3': {'name': 'Abdul', 'age': 54, 'Salary': 45345345},\n",
       " 'emp_4': {'name': 'Abhijeet', 'age': 28, 'Salary': 34534534},\n",
       " 'emp_5': {'name': 'abc', 'age': 53, 'Salary': 675865},\n",
       " 'emp_6': {'name': 'def', 'age': 53, 'Salary': 675865, 'pin': 76},\n",
       " 'emp_7': {'name': 'ghi', 'age': 53, 'Salary': 675865, 'pin': 76},\n",
       " 'emp_8': {'name': 'ijk', 'age': 53, 'salary': 675865, 'pin': 77},\n",
       " 'emp_9': {'name': 'ijk', 'age': 53, 'salary': 675865, 'pin': 76},\n",
       " 'emp_10': {'name': 'xyz',\n",
       "  'age': 32,\n",
       "  'Salary': 343456,\n",
       "  'loc': 3423423,\n",
       "  'pin': 2}}"
      ]
     },
     "execution_count": 59,
     "metadata": {},
     "output_type": "execute_result"
    }
   ],
   "source": [
    "emp_adder('xyz' , 32 , 343456 , loc = 3423423 , pin = 2)\n",
    "emp_data"
   ]
  },
  {
   "cell_type": "code",
   "execution_count": null,
   "id": "c2d59008-0122-4cae-8323-6ea4592b5415",
   "metadata": {},
   "outputs": [],
   "source": []
  }
 ],
 "metadata": {
  "kernelspec": {
   "display_name": "Python 3 (ipykernel)",
   "language": "python",
   "name": "python3"
  },
  "language_info": {
   "codemirror_mode": {
    "name": "ipython",
    "version": 3
   },
   "file_extension": ".py",
   "mimetype": "text/x-python",
   "name": "python",
   "nbconvert_exporter": "python",
   "pygments_lexer": "ipython3",
   "version": "3.9.13"
  }
 },
 "nbformat": 4,
 "nbformat_minor": 5
}
