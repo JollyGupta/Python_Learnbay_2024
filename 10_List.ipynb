{
 "cells": [
  {
   "cell_type": "markdown",
   "id": "d177715c-3e52-4e75-a068-afd7150be452",
   "metadata": {},
   "source": [
    "# Methods of list"
   ]
  },
  {
   "cell_type": "code",
   "execution_count": 1,
   "id": "d7a85e50-8993-40cb-8833-ab271ddd40c9",
   "metadata": {},
   "outputs": [
    {
     "name": "stdout",
     "output_type": "stream",
     "text": [
      "['__add__', '__class__', '__class_getitem__', '__contains__', '__delattr__', '__delitem__', '__dir__', '__doc__', '__eq__', '__format__', '__ge__', '__getattribute__', '__getitem__', '__getstate__', '__gt__', '__hash__', '__iadd__', '__imul__', '__init__', '__init_subclass__', '__iter__', '__le__', '__len__', '__lt__', '__mul__', '__ne__', '__new__', '__reduce__', '__reduce_ex__', '__repr__', '__reversed__', '__rmul__', '__setattr__', '__setitem__', '__sizeof__', '__str__', '__subclasshook__', 'append', 'clear', 'copy', 'count', 'extend', 'index', 'insert', 'pop', 'remove', 'reverse', 'sort']\n"
     ]
    }
   ],
   "source": [
    "print(dir(list))"
   ]
  },
  {
   "cell_type": "markdown",
   "id": "29c4757d-31d7-4e5a-ae36-aeb91fe397ad",
   "metadata": {},
   "source": [
    "# Methods to insert elements in the list\n",
    "\n",
    "- append\n",
    "- extend\n",
    "- insert"
   ]
  },
  {
   "cell_type": "markdown",
   "id": "0506cd3e-41e3-4c9a-9e15-7f2285f1a312",
   "metadata": {},
   "source": [
    "# append\n",
    "\n",
    "- It appends the elements at the end of the list\n",
    "- you can only append one element at a time"
   ]
  },
  {
   "cell_type": "code",
   "execution_count": 1,
   "id": "44ceff93-d546-4721-9fac-33fb06ba0bf8",
   "metadata": {},
   "outputs": [
    {
     "name": "stdout",
     "output_type": "stream",
     "text": [
      "PYTHON\n",
      "python\n"
     ]
    }
   ],
   "source": [
    "a = 'python'\n",
    "\n",
    "print(a.upper())\n",
    "\n",
    "print(a)"
   ]
  },
  {
   "cell_type": "code",
   "execution_count": 3,
   "id": "2bc1b689-c6a5-43e7-b19f-b0f0dd3667fd",
   "metadata": {},
   "outputs": [
    {
     "name": "stdout",
     "output_type": "stream",
     "text": [
      "None\n",
      "[1, 2, 3, 4, 5, 100]\n"
     ]
    }
   ],
   "source": [
    "l = [1,2,3,4,5]\n",
    "\n",
    "print(l.append(100))\n",
    "\n",
    "print(l)\n"
   ]
  },
  {
   "cell_type": "code",
   "execution_count": 4,
   "id": "f67e9c37-4f03-4e5e-b7ff-803dc69cda24",
   "metadata": {},
   "outputs": [
    {
     "ename": "TypeError",
     "evalue": "list.append() takes exactly one argument (2 given)",
     "output_type": "error",
     "traceback": [
      "\u001b[1;31m---------------------------------------------------------------------------\u001b[0m",
      "\u001b[1;31mTypeError\u001b[0m                                 Traceback (most recent call last)",
      "Cell \u001b[1;32mIn[4], line 3\u001b[0m\n\u001b[0;32m      1\u001b[0m l \u001b[38;5;241m=\u001b[39m [\u001b[38;5;241m1\u001b[39m,\u001b[38;5;241m2\u001b[39m,\u001b[38;5;241m3\u001b[39m,\u001b[38;5;241m4\u001b[39m,\u001b[38;5;241m5\u001b[39m]\n\u001b[1;32m----> 3\u001b[0m \u001b[43ml\u001b[49m\u001b[38;5;241;43m.\u001b[39;49m\u001b[43mappend\u001b[49m\u001b[43m(\u001b[49m\u001b[38;5;241;43m100\u001b[39;49m\u001b[43m \u001b[49m\u001b[43m,\u001b[49m\u001b[43m \u001b[49m\u001b[38;5;241;43m200\u001b[39;49m\u001b[43m)\u001b[49m\n\u001b[0;32m      5\u001b[0m \u001b[38;5;28mprint\u001b[39m(l)\n",
      "\u001b[1;31mTypeError\u001b[0m: list.append() takes exactly one argument (2 given)"
     ]
    }
   ],
   "source": [
    "l = [1,2,3,4,5]\n",
    "\n",
    "l.append(100 , 200)\n",
    "\n",
    "print(l)"
   ]
  },
  {
   "cell_type": "code",
   "execution_count": 9,
   "id": "ac7390dc-2396-4fe6-b46f-3fd8f9fdad1f",
   "metadata": {},
   "outputs": [
    {
     "name": "stdout",
     "output_type": "stream",
     "text": [
      "[1, 2, 3, 4, 5, [100, 200]]\n"
     ]
    }
   ],
   "source": [
    "l = [1,2,3,4,5]\n",
    "\n",
    "l.append([100 , 200])\n",
    "\n",
    "print(l)"
   ]
  },
  {
   "cell_type": "code",
   "execution_count": 8,
   "id": "4d137828",
   "metadata": {},
   "outputs": [
    {
     "name": "stdout",
     "output_type": "stream",
     "text": [
      "None\n",
      "['apple', 'banana', 'cherry', ['Ford', 'BMW', 'Volvo']]\n"
     ]
    }
   ],
   "source": [
    "\n",
    "a = [\"apple\", \"banana\", \"cherry\"]\n",
    "b = [\"Ford\", \"BMW\", \"Volvo\"]\n",
    "print(a.append(b))\n",
    "print(a) # last one will act as single element\n"
   ]
  },
  {
   "cell_type": "code",
   "execution_count": 11,
   "id": "164bb3d6",
   "metadata": {},
   "outputs": [
    {
     "name": "stdout",
     "output_type": "stream",
     "text": [
      "None\n",
      "['apple', 'banana', 'cherry', 'Ford', 'BMW', 'Volvo']\n"
     ]
    }
   ],
   "source": [
    "a = [\"apple\", \"banana\", \"cherry\"]\n",
    "b = [\"Ford\", \"BMW\", \"Volvo\"]\n",
    "print(a.extend(b))\n",
    "print(a) "
   ]
  },
  {
   "cell_type": "markdown",
   "id": "dafcfe9d-a623-46e5-9903-aba4122bd2ec",
   "metadata": {},
   "source": [
    "# Extend\n",
    "\n",
    "- you can insert multiple elements in the list\n",
    "- Only can only insert at the end of the list"
   ]
  },
  {
   "cell_type": "code",
   "execution_count": 9,
   "id": "65cb0d25-6dd6-4e2f-ae6c-b259b6bf3e35",
   "metadata": {},
   "outputs": [
    {
     "name": "stdout",
     "output_type": "stream",
     "text": [
      "None\n",
      "[1, 2, 3, 4, 5, 6]\n"
     ]
    }
   ],
   "source": [
    "a = [1,2,3]\n",
    "b = [4,5,6]\n",
    "\n",
    "print(a.extend(b))\n",
    "\n",
    "print(a)"
   ]
  },
  {
   "cell_type": "code",
   "execution_count": 13,
   "id": "fefebea8-aa84-429b-bf8e-4312b491d2fa",
   "metadata": {},
   "outputs": [
    {
     "name": "stdout",
     "output_type": "stream",
     "text": [
      "[1, 2, 3, 4, 5, 100, 200]\n",
      "[1, 2, 3, 4, 5, 100, 200]\n"
     ]
    }
   ],
   "source": [
    "l = [1,2,3,4,5]\n",
    "\n",
    "l.extend((100 , 200))\n",
    "\n",
    "print(l)\n",
    "print(l)"
   ]
  },
  {
   "cell_type": "code",
   "execution_count": 12,
   "id": "50b58922-3cfa-4a5d-bf69-b002e79c561b",
   "metadata": {},
   "outputs": [
    {
     "name": "stdout",
     "output_type": "stream",
     "text": [
      "[1, 2, 3, 4, 5, 6]\n",
      "[1, 2, 3]\n",
      "[4, 5, 6]\n"
     ]
    }
   ],
   "source": [
    "a = [1,2,3]\n",
    "b = [4,5,6]\n",
    "\n",
    "print(a+b) # value of a and b will be same......\n",
    "print(a)\n",
    "print(b)"
   ]
  },
  {
   "cell_type": "code",
   "execution_count": 16,
   "id": "83c515b2-8ac0-4936-964e-e167b913500f",
   "metadata": {},
   "outputs": [
    {
     "name": "stdout",
     "output_type": "stream",
     "text": [
      "[1, 2, 3, 4, 5, 6]\n",
      "[4, 5, 6]\n"
     ]
    }
   ],
   "source": [
    "#Lists are mutable,\n",
    "a = [1,2,3]\n",
    "b = [4,5,6]\n",
    "\n",
    "a.extend(b)\n",
    "print(a)\n",
    "print(b)"
   ]
  },
  {
   "cell_type": "markdown",
   "id": "9c22c41f-a3ca-48de-8887-847cc490c031",
   "metadata": {},
   "source": [
    "# Insert\n",
    "\n",
    "- Inserts the elements at any specfic index value\n",
    "- You can insert only 1 element at a time"
   ]
  },
  {
   "cell_type": "code",
   "execution_count": 14,
   "id": "b151f5fc-e0cc-4ede-bf95-65a99b85d50c",
   "metadata": {},
   "outputs": [
    {
     "data": {
      "text/plain": [
       "['product', 'quantity', 'price', 'ram', 'color', 'screen', 'address']"
      ]
     },
     "execution_count": 14,
     "metadata": {},
     "output_type": "execute_result"
    }
   ],
   "source": [
    "a = ['product' , 'quantity' , 'price' , 'ram' , 'color' , 'screen']\n",
    "\n",
    "new = 'address'\n",
    "\n",
    "a.append(new)\n",
    "\n",
    "a"
   ]
  },
  {
   "cell_type": "code",
   "execution_count": 15,
   "id": "cab988e7-c3a6-47fb-8d0d-b88cee49cd15",
   "metadata": {},
   "outputs": [
    {
     "name": "stdout",
     "output_type": "stream",
     "text": [
      "['product', 'quantity', 'price', 'ram', 'color', 'screen', 'address', 'discount']\n"
     ]
    }
   ],
   "source": [
    "a = ['product' , 'quantity' , 'price' , 'ram' , 'color' , 'screen']\n",
    "\n",
    "new = ['address' , 'discount']\n",
    "\n",
    "a.extend(new)\n",
    "\n",
    "print(a)"
   ]
  },
  {
   "cell_type": "code",
   "execution_count": 16,
   "id": "6f5722d3-5c33-42bf-bb62-07026453f40f",
   "metadata": {},
   "outputs": [
    {
     "name": "stdout",
     "output_type": "stream",
     "text": [
      "['address', 'product', 'quantity', 'price', 'ram', 'color', 'screen']\n"
     ]
    }
   ],
   "source": [
    "a = ['product' , 'quantity' , 'price' , 'ram' , 'color' , 'screen']\n",
    "\n",
    "new = 'address' \n",
    "\n",
    "a.insert(0 , new)\n",
    "\n",
    "print(a)"
   ]
  },
  {
   "cell_type": "code",
   "execution_count": 17,
   "id": "fab303dd-f063-4df5-96dd-4e394dbc17de",
   "metadata": {},
   "outputs": [
    {
     "data": {
      "text/plain": [
       "['product', 'address', 'quantity', 'price', 'ram', 'color', 'screen']"
      ]
     },
     "execution_count": 17,
     "metadata": {},
     "output_type": "execute_result"
    }
   ],
   "source": [
    "a = ['product' , 'quantity' , 'price' , 'ram' , 'color' , 'screen']\n",
    "\n",
    "new = 'address' \n",
    "\n",
    "a.insert(1 , new)\n",
    "\n",
    "a"
   ]
  },
  {
   "cell_type": "code",
   "execution_count": 24,
   "id": "a87bc2ec-ae6b-4842-bb36-c228a35424c0",
   "metadata": {},
   "outputs": [
    {
     "data": {
      "text/plain": [
       "['product', 'quantity', 'price', 'ram', 'color', 'address', 'screen']"
      ]
     },
     "execution_count": 24,
     "metadata": {},
     "output_type": "execute_result"
    }
   ],
   "source": [
    "a = ['product' , 'quantity' , 'price' , 'ram' , 'color' , 'screen']\n",
    "\n",
    "new = 'address' \n",
    "\n",
    "a.insert(5 , new)\n",
    "\n",
    "a"
   ]
  },
  {
   "cell_type": "code",
   "execution_count": 25,
   "id": "31c02a5a-ec3f-4d61-b488-7581e697ca52",
   "metadata": {},
   "outputs": [
    {
     "data": {
      "text/plain": [
       "['product', 'quantity', 'price', 'ram', 'color', 'address', 'screen']"
      ]
     },
     "execution_count": 25,
     "metadata": {},
     "output_type": "execute_result"
    }
   ],
   "source": [
    "a = ['product' , 'quantity' , 'price' , 'ram' , 'color' , 'screen']\n",
    "\n",
    "new = 'address' \n",
    "\n",
    "a.insert(-1 , new)\n",
    "\n",
    "a"
   ]
  },
  {
   "cell_type": "code",
   "execution_count": 18,
   "id": "2b7567b8-2469-4a6b-a68f-c357bb96f1b7",
   "metadata": {},
   "outputs": [
    {
     "name": "stdout",
     "output_type": "stream",
     "text": [
      "['product', 'quantity', 'price', 'ram', 'color', ['address', 'discount'], 'screen']\n"
     ]
    }
   ],
   "source": [
    "a = ['product' , 'quantity' , 'price' , 'ram' , 'color' , 'screen']\n",
    "\n",
    "new = ['address' , 'discount'] \n",
    "\n",
    "a.insert(-1 , new) # right of first element\n",
    "\n",
    "print(a)"
   ]
  },
  {
   "cell_type": "code",
   "execution_count": 20,
   "id": "9986006c-0cb2-4585-b7ad-cade1d476ced",
   "metadata": {},
   "outputs": [
    {
     "data": {
      "text/plain": [
       "['product', 'quantity', 'price', 'ram', 'color', 'screen']"
      ]
     },
     "execution_count": 20,
     "metadata": {},
     "output_type": "execute_result"
    }
   ],
   "source": [
    "a = ['product' , 'quantity' , 'price' , 'ram' , 'color' , 'screen']\n",
    "\n",
    "a"
   ]
  },
  {
   "cell_type": "code",
   "execution_count": 31,
   "id": "7a649f80-8d61-410e-870e-a38d8078dd12",
   "metadata": {},
   "outputs": [],
   "source": [
    "a[0] , a[-1]  =   a[-1] , a[0] # swapping "
   ]
  },
  {
   "cell_type": "code",
   "execution_count": 32,
   "id": "d917b018-a4bb-410f-bba7-60462660118b",
   "metadata": {},
   "outputs": [
    {
     "data": {
      "text/plain": [
       "['screen', 'quantity', 'price', 'ram', 'color', 'product']"
      ]
     },
     "execution_count": 32,
     "metadata": {},
     "output_type": "execute_result"
    }
   ],
   "source": [
    "a"
   ]
  },
  {
   "cell_type": "code",
   "execution_count": 21,
   "id": "bfb280b0",
   "metadata": {},
   "outputs": [
    {
     "data": {
      "text/plain": [
       "['color', 'quantity', 'price', 'ram', 'product', 'screen']"
      ]
     },
     "execution_count": 21,
     "metadata": {},
     "output_type": "execute_result"
    }
   ],
   "source": [
    "a[0] , a[-2]  =   a[-2] , a[0]\n",
    "a"
   ]
  },
  {
   "cell_type": "code",
   "execution_count": 22,
   "id": "fa8572f9-7074-417f-8ec5-d5edf1768547",
   "metadata": {},
   "outputs": [
    {
     "data": {
      "text/plain": [
       "20"
      ]
     },
     "execution_count": 22,
     "metadata": {},
     "output_type": "execute_result"
    }
   ],
   "source": [
    "a = 10\n",
    "b = 20\n",
    "\n",
    "a , b  =  b , a\n",
    "a"
   ]
  },
  {
   "cell_type": "code",
   "execution_count": 23,
   "id": "7e8da25b-f549-460b-90ff-dbd4122532ea",
   "metadata": {},
   "outputs": [
    {
     "data": {
      "text/plain": [
       "20"
      ]
     },
     "execution_count": 23,
     "metadata": {},
     "output_type": "execute_result"
    }
   ],
   "source": [
    "a"
   ]
  },
  {
   "cell_type": "code",
   "execution_count": 24,
   "id": "040fd545-0ae8-4d60-a7e4-7518a1a1936f",
   "metadata": {},
   "outputs": [
    {
     "data": {
      "text/plain": [
       "10"
      ]
     },
     "execution_count": 24,
     "metadata": {},
     "output_type": "execute_result"
    }
   ],
   "source": [
    "b"
   ]
  },
  {
   "cell_type": "code",
   "execution_count": 33,
   "id": "e8032208-c0b1-4e7f-8c79-9858e0d34964",
   "metadata": {},
   "outputs": [
    {
     "data": {
      "text/plain": [
       "['product', 'quantity', 'price', 'ram', 'address', 'color', 'screen']"
      ]
     },
     "execution_count": 33,
     "metadata": {},
     "output_type": "execute_result"
    }
   ],
   "source": [
    "a = ['product' , 'quantity' , 'price' , 'ram' , 'color' , 'screen']\n",
    "\n",
    "new = 'address' \n",
    "\n",
    "a.insert(4 , new)\n",
    "\n",
    "a"
   ]
  },
  {
   "cell_type": "code",
   "execution_count": 34,
   "id": "a7a10f13-1a62-4431-a83a-0588795b9528",
   "metadata": {},
   "outputs": [
    {
     "data": {
      "text/plain": [
       "['product', 'quantity', 'price', 'ram', 'address', 'color', 'screen']"
      ]
     },
     "execution_count": 34,
     "metadata": {},
     "output_type": "execute_result"
    }
   ],
   "source": [
    "a = ['product' , 'quantity' , 'price' , 'ram' , 'color' , 'screen']\n",
    "\n",
    "new = 'address' \n",
    "\n",
    "a.insert(-2 , new) # left of 2 nd element from reverse\n",
    "\n",
    "a"
   ]
  },
  {
   "cell_type": "markdown",
   "id": "888d26cb-f5ab-40a4-a2a0-5bde93751f28",
   "metadata": {},
   "source": [
    "# Methods to remove the elements from the list\n",
    "\n",
    "- pop\n",
    "- remove"
   ]
  },
  {
   "cell_type": "code",
   "execution_count": 35,
   "id": "e596dfd0-d2e1-4024-82e3-ebb13fdb5803",
   "metadata": {},
   "outputs": [
    {
     "name": "stdout",
     "output_type": "stream",
     "text": [
      "['__add__', '__class__', '__class_getitem__', '__contains__', '__delattr__', '__delitem__', '__dir__', '__doc__', '__eq__', '__format__', '__ge__', '__getattribute__', '__getitem__', '__getstate__', '__gt__', '__hash__', '__iadd__', '__imul__', '__init__', '__init_subclass__', '__iter__', '__le__', '__len__', '__lt__', '__mul__', '__ne__', '__new__', '__reduce__', '__reduce_ex__', '__repr__', '__reversed__', '__rmul__', '__setattr__', '__setitem__', '__sizeof__', '__str__', '__subclasshook__', 'append', 'clear', 'copy', 'count', 'extend', 'index', 'insert', 'pop', 'remove', 'reverse', 'sort']\n"
     ]
    }
   ],
   "source": [
    "print(dir(list))"
   ]
  },
  {
   "cell_type": "code",
   "execution_count": null,
   "id": "38f65f6a-6725-4399-8064-c9c5865f5cb9",
   "metadata": {},
   "outputs": [],
   "source": [
    "# pop\n",
    "\n",
    "- removes the elements according to the index value\n",
    "- by default remove the last elements\n",
    "- It removed element will be returned"
   ]
  },
  {
   "cell_type": "code",
   "execution_count": 36,
   "id": "4daf394d-69e9-4a5a-8b52-bb42b224ed47",
   "metadata": {},
   "outputs": [
    {
     "data": {
      "text/plain": [
       "'screen'"
      ]
     },
     "execution_count": 36,
     "metadata": {},
     "output_type": "execute_result"
    }
   ],
   "source": [
    "l = ['product', 'quantity', 'price', 'ram', 'address', 'color', 'screen']\n",
    "\n",
    "\n",
    "l.pop()"
   ]
  },
  {
   "cell_type": "code",
   "execution_count": 37,
   "id": "f101a26a-588b-4b47-b194-fa8b421df074",
   "metadata": {},
   "outputs": [
    {
     "data": {
      "text/plain": [
       "['product', 'quantity', 'price', 'ram', 'address', 'color']"
      ]
     },
     "execution_count": 37,
     "metadata": {},
     "output_type": "execute_result"
    }
   ],
   "source": [
    "l"
   ]
  },
  {
   "cell_type": "code",
   "execution_count": 25,
   "id": "5e6a55a2-c7ea-444b-afab-3993e98965aa",
   "metadata": {},
   "outputs": [
    {
     "data": {
      "text/plain": [
       "['product', 'quantity', 'price', 'ram', 'color', 'screen']"
      ]
     },
     "execution_count": 25,
     "metadata": {},
     "output_type": "execute_result"
    }
   ],
   "source": [
    "l = ['product', 'quantity', 'price', 'ram', 'address', 'color', 'screen']\n",
    "l.pop(-3)\n",
    "l"
   ]
  },
  {
   "cell_type": "code",
   "execution_count": 26,
   "id": "d96dd16b-e6b2-4eb5-9d7e-e498356c882a",
   "metadata": {},
   "outputs": [
    {
     "data": {
      "text/plain": [
       "['quantity', 'price', 'ram', 'address', 'color', 'screen']"
      ]
     },
     "execution_count": 26,
     "metadata": {},
     "output_type": "execute_result"
    }
   ],
   "source": [
    "l = ['product', 'quantity', 'price', 'ram', 'address', 'color', 'screen']\n",
    "l.pop(0)\n",
    "l"
   ]
  },
  {
   "cell_type": "markdown",
   "id": "0516b8ae-9cfc-4283-ad8e-eb508eb0abe3",
   "metadata": {},
   "source": [
    "# remove\n",
    "\n",
    "- removes according to the object\n",
    "- the removed will not be returned\n",
    "- Only the first occurance will be removed"
   ]
  },
  {
   "cell_type": "code",
   "execution_count": 40,
   "id": "93f569b4-aa91-476f-9d7c-fd608127da34",
   "metadata": {},
   "outputs": [
    {
     "name": "stdout",
     "output_type": "stream",
     "text": [
      "None\n"
     ]
    }
   ],
   "source": [
    "l = ['product', 'quantity', 'price', 'ram', 'address', 'color', 'screen']\n",
    "\n",
    "print(l.remove('ram'))"
   ]
  },
  {
   "cell_type": "code",
   "execution_count": 41,
   "id": "2dd1bc4d-2da5-46ed-8dd0-da63fab1e18d",
   "metadata": {},
   "outputs": [
    {
     "data": {
      "text/plain": [
       "['product', 'quantity', 'price', 'address', 'color', 'screen']"
      ]
     },
     "execution_count": 41,
     "metadata": {},
     "output_type": "execute_result"
    }
   ],
   "source": [
    "l"
   ]
  },
  {
   "cell_type": "code",
   "execution_count": 27,
   "id": "ea1c2768-4518-4eba-9946-419df65f586a",
   "metadata": {},
   "outputs": [
    {
     "name": "stdout",
     "output_type": "stream",
     "text": [
      "['product', 'quantity', 'price', 'address', 'color', 'screen', 'ram', 'ram', 'ram']\n"
     ]
    }
   ],
   "source": [
    "l = ['product', 'quantity', 'price', 'ram', 'address', 'color', 'screen' , 'ram' , 'ram' , 'ram']\n",
    "\n",
    "l.remove('ram') #Only the first occurance will be removed\n",
    "\n",
    "print(l)"
   ]
  },
  {
   "cell_type": "code",
   "execution_count": 31,
   "id": "2916e12b-4f16-4ad8-9718-ec237f81003c",
   "metadata": {},
   "outputs": [
    {
     "name": "stdout",
     "output_type": "stream",
     "text": [
      "['product', 'quantity', 'price', 'address', 'color', 'screen']\n"
     ]
    }
   ],
   "source": [
    "\n",
    "\n",
    "l = ['product', 'quantity', 'price', 'ram', 'address', 'color', 'screen' , 'ram' , 'ram' , 'ram']\n",
    "\n",
    "l.remove('ram')\n",
    "l.remove('ram')\n",
    "l.remove('ram')\n",
    "l.remove('ram')\n",
    "\n",
    "print(l)\n"
   ]
  },
  {
   "cell_type": "code",
   "execution_count": 46,
   "id": "42c5a8d6-e8b3-49f9-a7cc-294f829320b2",
   "metadata": {},
   "outputs": [
    {
     "name": "stdout",
     "output_type": "stream",
     "text": [
      "5\n",
      "6\n",
      "6\n"
     ]
    }
   ],
   "source": [
    "l = ['product', 'quantity', 'price', 'address', 'color', 'screen' , 'ram' , 'ram' , 'ram' ,  'ram' ,  'ram']\n",
    "\n",
    "\n",
    "print(l.count('ram'))\n",
    "print(l.index('ram'))\n",
    "print(l.index('ram')) # first occurence "
   ]
  },
  {
   "cell_type": "code",
   "execution_count": 47,
   "id": "30938acb-3805-4bce-985e-febef85645c6",
   "metadata": {},
   "outputs": [
    {
     "data": {
      "text/plain": [
       "[0, 1, 2, 3, 4]"
      ]
     },
     "execution_count": 47,
     "metadata": {},
     "output_type": "execute_result"
    }
   ],
   "source": [
    "# DOUBT why not 6 7 8 9 10\n",
    "list(range(l.count('ram'))) "
   ]
  },
  {
   "cell_type": "code",
   "execution_count": 42,
   "id": "2c155cfa-9b3f-4b41-a79b-c6e9ae6dd0c3",
   "metadata": {},
   "outputs": [],
   "source": [
    "l = ['product', 'quantity', 'price', 'address', 'color', 'screen' , 'ram' , 'ram' , 'ram' ,  'ram' ,  'ram']\n",
    "\n",
    "for i in list(range(l.count('ram'))):\n",
    "    l.remove('ram')"
   ]
  },
  {
   "cell_type": "code",
   "execution_count": 43,
   "id": "faaafc37-eed5-485d-91dc-95f1020c1aa7",
   "metadata": {},
   "outputs": [
    {
     "data": {
      "text/plain": [
       "['product', 'quantity', 'price', 'address', 'color', 'screen']"
      ]
     },
     "execution_count": 43,
     "metadata": {},
     "output_type": "execute_result"
    }
   ],
   "source": [
    "l"
   ]
  },
  {
   "cell_type": "code",
   "execution_count": 49,
   "id": "bf43058c-eeb1-459c-b2ff-c8a3960dd521",
   "metadata": {},
   "outputs": [
    {
     "name": "stdout",
     "output_type": "stream",
     "text": [
      "2\n",
      "1\n"
     ]
    }
   ],
   "source": [
    "l = ['product', 'quantity', 'price', 'address', 'color', 'screen' , 'ram' , 'ram' , 'ram' ,  'ram' ,  'ram']\n",
    "\n",
    "print(l.index('price'))\n",
    "print(l.index('quantity'))"
   ]
  },
  {
   "cell_type": "code",
   "execution_count": 55,
   "id": "a82609be-717e-4ca0-b3cf-278f48204393",
   "metadata": {},
   "outputs": [
    {
     "ename": "ValueError",
     "evalue": "'size' is not in list",
     "output_type": "error",
     "traceback": [
      "\u001b[1;31m---------------------------------------------------------------------------\u001b[0m",
      "\u001b[1;31mValueError\u001b[0m                                Traceback (most recent call last)",
      "Cell \u001b[1;32mIn[55], line 3\u001b[0m\n\u001b[0;32m      1\u001b[0m l \u001b[38;5;241m=\u001b[39m [\u001b[38;5;124m'\u001b[39m\u001b[38;5;124mproduct\u001b[39m\u001b[38;5;124m'\u001b[39m, \u001b[38;5;124m'\u001b[39m\u001b[38;5;124mquantity\u001b[39m\u001b[38;5;124m'\u001b[39m, \u001b[38;5;124m'\u001b[39m\u001b[38;5;124mprice\u001b[39m\u001b[38;5;124m'\u001b[39m, \u001b[38;5;124m'\u001b[39m\u001b[38;5;124maddress\u001b[39m\u001b[38;5;124m'\u001b[39m, \u001b[38;5;124m'\u001b[39m\u001b[38;5;124mcolor\u001b[39m\u001b[38;5;124m'\u001b[39m, \u001b[38;5;124m'\u001b[39m\u001b[38;5;124mscreen\u001b[39m\u001b[38;5;124m'\u001b[39m , \u001b[38;5;124m'\u001b[39m\u001b[38;5;124mram\u001b[39m\u001b[38;5;124m'\u001b[39m , \u001b[38;5;124m'\u001b[39m\u001b[38;5;124mram\u001b[39m\u001b[38;5;124m'\u001b[39m , \u001b[38;5;124m'\u001b[39m\u001b[38;5;124mram\u001b[39m\u001b[38;5;124m'\u001b[39m ,  \u001b[38;5;124m'\u001b[39m\u001b[38;5;124mram\u001b[39m\u001b[38;5;124m'\u001b[39m ,  \u001b[38;5;124m'\u001b[39m\u001b[38;5;124mram\u001b[39m\u001b[38;5;124m'\u001b[39m]\n\u001b[1;32m----> 3\u001b[0m \u001b[43ml\u001b[49m\u001b[38;5;241;43m.\u001b[39;49m\u001b[43mindex\u001b[49m\u001b[43m(\u001b[49m\u001b[38;5;124;43m'\u001b[39;49m\u001b[38;5;124;43msize\u001b[39;49m\u001b[38;5;124;43m'\u001b[39;49m\u001b[43m)\u001b[49m\n",
      "\u001b[1;31mValueError\u001b[0m: 'size' is not in list"
     ]
    }
   ],
   "source": [
    "l = ['product', 'quantity', 'price', 'address', 'color', 'screen' , 'ram' , 'ram' , 'ram' ,  'ram' ,  'ram']\n",
    "\n",
    "l.index('size')"
   ]
  },
  {
   "cell_type": "code",
   "execution_count": 51,
   "id": "c57d389e-50f1-437a-9ba6-447b2614ce4a",
   "metadata": {},
   "outputs": [
    {
     "data": {
      "text/plain": [
       "[2, 5, 1, 23, 54, 30, 12, 32]"
      ]
     },
     "execution_count": 51,
     "metadata": {},
     "output_type": "execute_result"
    }
   ],
   "source": [
    "# reverses the sorting order of the elements.\n",
    "l = [32,12,30,54,23 , 1,5,2]\n",
    "\n",
    "l.reverse()\n",
    "\n",
    "l"
   ]
  },
  {
   "cell_type": "code",
   "execution_count": 58,
   "id": "061966ea-f98d-4ed2-be4d-5b4c1d03ba8a",
   "metadata": {},
   "outputs": [
    {
     "data": {
      "text/plain": [
       "[1, 2, 5, 12, 23, 30, 32, 54]"
      ]
     },
     "execution_count": 58,
     "metadata": {},
     "output_type": "execute_result"
    }
   ],
   "source": [
    "#method sorts the list ascending by default.\n",
    "l = [32,12,30,54,23 , 1,5,2]\n",
    "\n",
    "l.sort() # reverse=False\n",
    "\n",
    "l"
   ]
  },
  {
   "cell_type": "code",
   "execution_count": 53,
   "id": "64c7de28-9227-41f9-9ab9-32d519ae8763",
   "metadata": {},
   "outputs": [
    {
     "data": {
      "text/plain": [
       "[54, 32, 30, 23, 12, 5, 2, 1]"
      ]
     },
     "execution_count": 53,
     "metadata": {},
     "output_type": "execute_result"
    }
   ],
   "source": [
    "l = [32,12,30,54,23 , 1,5,2]\n",
    "\n",
    "l.sort(reverse= True)\n",
    "\n",
    "l"
   ]
  },
  {
   "cell_type": "code",
   "execution_count": 59,
   "id": "1e1f833e-881c-4f95-986e-9fac37356e54",
   "metadata": {},
   "outputs": [
    {
     "data": {
      "text/plain": [
       "[54.87, 32, 30, 23, 12, 5, 2, 1]"
      ]
     },
     "execution_count": 59,
     "metadata": {},
     "output_type": "execute_result"
    }
   ],
   "source": [
    "l = [32, 12, 30, 54.87,23 , 1,5,2]\n",
    "\n",
    "l.sort(reverse= True) # reverse=False\n",
    "\n",
    "l"
   ]
  },
  {
   "cell_type": "code",
   "execution_count": 61,
   "id": "d2eccae4-8655-499a-a62f-ab1e039c2481",
   "metadata": {},
   "outputs": [
    {
     "ename": "TypeError",
     "evalue": "'>' not supported between instances of 'str' and 'int'",
     "output_type": "error",
     "traceback": [
      "\u001b[1;31m---------------------------------------------------------------------------\u001b[0m",
      "\u001b[1;31mTypeError\u001b[0m                                 Traceback (most recent call last)",
      "Cell \u001b[1;32mIn[61], line 1\u001b[0m\n\u001b[1;32m----> 1\u001b[0m \u001b[38;5;124m'\u001b[39m\u001b[38;5;124m10\u001b[39m\u001b[38;5;124m'\u001b[39m \u001b[38;5;241m>\u001b[39m \u001b[38;5;241m34\u001b[39m\n",
      "\u001b[1;31mTypeError\u001b[0m: '>' not supported between instances of 'str' and 'int'"
     ]
    }
   ],
   "source": [
    "'10' > 34 #  cant compare different data types"
   ]
  },
  {
   "cell_type": "code",
   "execution_count": 59,
   "id": "902bebdf-d656-4fb3-ac41-179860d0576c",
   "metadata": {},
   "outputs": [
    {
     "ename": "TypeError",
     "evalue": "'<' not supported between instances of 'str' and 'int'",
     "output_type": "error",
     "traceback": [
      "\u001b[1;31m---------------------------------------------------------------------------\u001b[0m",
      "\u001b[1;31mTypeError\u001b[0m                                 Traceback (most recent call last)",
      "Cell \u001b[1;32mIn[59], line 3\u001b[0m\n\u001b[0;32m      1\u001b[0m l \u001b[38;5;241m=\u001b[39m [\u001b[38;5;241m32\u001b[39m, \u001b[38;5;241m12\u001b[39m, \u001b[38;5;241m30\u001b[39m, \u001b[38;5;241m54.87\u001b[39m ,\u001b[38;5;241m23\u001b[39m , \u001b[38;5;241m1\u001b[39m,\u001b[38;5;124m'\u001b[39m\u001b[38;5;124m5\u001b[39m\u001b[38;5;124m'\u001b[39m,\u001b[38;5;241m2\u001b[39m]\n\u001b[1;32m----> 3\u001b[0m \u001b[43ml\u001b[49m\u001b[38;5;241;43m.\u001b[39;49m\u001b[43msort\u001b[49m\u001b[43m(\u001b[49m\u001b[43mreverse\u001b[49m\u001b[38;5;241;43m=\u001b[39;49m\u001b[43m \u001b[49m\u001b[38;5;28;43;01mTrue\u001b[39;49;00m\u001b[43m)\u001b[49m \u001b[38;5;66;03m# reverse=False\u001b[39;00m\n\u001b[0;32m      5\u001b[0m l\n",
      "\u001b[1;31mTypeError\u001b[0m: '<' not supported between instances of 'str' and 'int'"
     ]
    }
   ],
   "source": [
    "l = [32, 12, 30, 54.87 ,23 , 1,'5',2]\n",
    "\n",
    "l.sort(reverse= True) # reverse=False\n",
    "\n",
    "l"
   ]
  },
  {
   "cell_type": "code",
   "execution_count": 60,
   "id": "4d479710-35b7-473e-886a-bf1b7f1a81b7",
   "metadata": {},
   "outputs": [
    {
     "data": {
      "text/plain": [
       "['screen', 'quantity', 'product', 'price', 'color', 'address']"
      ]
     },
     "execution_count": 60,
     "metadata": {},
     "output_type": "execute_result"
    }
   ],
   "source": [
    "l = ['product', 'quantity', 'price', 'address', 'color', 'screen' ]\n",
    "\n",
    "l.sort(reverse= True) # reverse=False\n",
    "\n",
    "l # 115 s  113 q  based on ASCII Values descending order"
   ]
  },
  {
   "cell_type": "code",
   "execution_count": 66,
   "id": "83b1dd98-e2db-40c7-a017-5f87dbcea2ee",
   "metadata": {},
   "outputs": [
    {
     "data": {
      "text/plain": [
       "['ayz', 'axc', 'XYZ', 'ABC']"
      ]
     },
     "execution_count": 66,
     "metadata": {},
     "output_type": "execute_result"
    }
   ],
   "source": [
    "l = ['axc', 'ayz' , 'ABC' , 'XYZ']\n",
    "\n",
    "l.sort(reverse= True) # reverse=False\n",
    "\n",
    "l"
   ]
  },
  {
   "cell_type": "code",
   "execution_count": 62,
   "id": "d215add3-e157-44c4-b3ff-0b1464fcda74",
   "metadata": {},
   "outputs": [
    {
     "name": "stdout",
     "output_type": "stream",
     "text": [
      "['Abdul@gmail.com', 'Abhijeet@hotmail.com', 'Aditya@gmail.com', 'Salahudin@gmail.com', 'Vijay@yahoo.com']\n"
     ]
    }
   ],
   "source": [
    "a = ['Salahudin@gmail.com' , 'Vijay@yahoo.com' , 'Abdul@gmail.com', 'Abhijeet@hotmail.com' ,\n",
    "    'Aditya@gmail.com']\n",
    "\n",
    "a.sort() # reverse=False\n",
    "\n",
    "print(a)"
   ]
  },
  {
   "cell_type": "code",
   "execution_count": 63,
   "id": "5f0af4fb-e754-4ae2-86ca-5676fe1b8a88",
   "metadata": {},
   "outputs": [
    {
     "data": {
      "text/plain": [
       "['Abdul', 'Abhijeet', 'Aditya', 'Salahudin', 'Vijay']"
      ]
     },
     "execution_count": 63,
     "metadata": {},
     "output_type": "execute_result"
    }
   ],
   "source": [
    "a = ['Salahudin' , 'Vijay' , 'Abdul', 'Abhijeet' ,\n",
    "    'Aditya']\n",
    "\n",
    "a.sort() # reverse=False\n",
    "\n",
    "a # d-100 h-104 ascending order by default"
   ]
  },
  {
   "cell_type": "code",
   "execution_count": 71,
   "id": "a6ed2346-db99-4e23-b7aa-c21c33cad6cb",
   "metadata": {},
   "outputs": [
    {
     "data": {
      "text/plain": [
       "['Vijay', 'Abdul', 'Aditya', 'Abhijeet', 'Salahudin']"
      ]
     },
     "execution_count": 71,
     "metadata": {},
     "output_type": "execute_result"
    }
   ],
   "source": [
    "# sorts the strings by length, from shortest to longest\n",
    "a = ['Salahudin' , 'Vijay' , 'Abdul', 'Abhijeet' ,'Aditya']\n",
    "\n",
    "a.sort(key = len) # V 86    A 65\n",
    "a"
   ]
  },
  {
   "cell_type": "code",
   "execution_count": 64,
   "id": "d30aaddf-1f05-4094-a6a4-134da20692c2",
   "metadata": {},
   "outputs": [
    {
     "data": {
      "text/plain": [
       "['1066_Vijay', '204_Abdul', '333_Salahudin', '564_Aditya', '809_Abhijeet']"
      ]
     },
     "execution_count": 64,
     "metadata": {},
     "output_type": "execute_result"
    }
   ],
   "source": [
    "a = ['333_Salahudin' , '1066_Vijay' , '204_Abdul', '809_Abhijeet' ,'564_Aditya']\n",
    "\n",
    "a.sort()\n",
    "\n",
    "a"
   ]
  },
  {
   "cell_type": "markdown",
   "id": "5a840fa7-b651-429b-b07c-94defe0c2fcd",
   "metadata": {},
   "source": [
    "# Del"
   ]
  },
  {
   "cell_type": "code",
   "execution_count": 65,
   "id": "6a4be860-b543-4aee-810b-2e9cf20e2c35",
   "metadata": {},
   "outputs": [],
   "source": [
    "#The del keyword is used to delete objects.\n",
    "\n",
    "a = ['333_Salahudin' , '1066_Vijay' , '204_Abdul', '809_Abhijeet' ,'564_Aditya']\n",
    "\n",
    "del a"
   ]
  },
  {
   "cell_type": "code",
   "execution_count": 85,
   "id": "7f125c10-37b4-4a74-9579-092144e35c75",
   "metadata": {},
   "outputs": [
    {
     "ename": "NameError",
     "evalue": "name 'a' is not defined",
     "output_type": "error",
     "traceback": [
      "\u001b[1;31m---------------------------------------------------------------------------\u001b[0m",
      "\u001b[1;31mNameError\u001b[0m                                 Traceback (most recent call last)",
      "Cell \u001b[1;32mIn[85], line 1\u001b[0m\n\u001b[1;32m----> 1\u001b[0m a\n",
      "\u001b[1;31mNameError\u001b[0m: name 'a' is not defined"
     ]
    }
   ],
   "source": [
    "a"
   ]
  },
  {
   "cell_type": "code",
   "execution_count": 66,
   "id": "a28fea11-7a9d-4ce7-8fc9-f3409b712edf",
   "metadata": {},
   "outputs": [],
   "source": [
    "#removes all the elements from the list. It clear the list completely and returns nothing\n",
    "a = ['333_Salahudin' , '1066_Vijay' , '204_Abdul', '809_Abhijeet' ,'564_Aditya']\n",
    "\n",
    "a.clear()"
   ]
  },
  {
   "cell_type": "code",
   "execution_count": 87,
   "id": "8679f2fd-4965-4077-9af6-dbc89648cb57",
   "metadata": {},
   "outputs": [
    {
     "data": {
      "text/plain": [
       "[]"
      ]
     },
     "execution_count": 87,
     "metadata": {},
     "output_type": "execute_result"
    }
   ],
   "source": [
    "a"
   ]
  },
  {
   "cell_type": "markdown",
   "id": "24dc5668-5b56-40a3-8983-36042a7a9fa1",
   "metadata": {},
   "source": [
    "# copy \n",
    "- used to create a copy of the list as required by the user"
   ]
  },
  {
   "cell_type": "code",
   "execution_count": 88,
   "id": "c49f1bab-fd62-4886-8980-caefc79785f5",
   "metadata": {},
   "outputs": [
    {
     "name": "stdout",
     "output_type": "stream",
     "text": [
      "2483764266176\n",
      "2483766113792\n",
      "False\n"
     ]
    }
   ],
   "source": [
    "a = ['Salahudin' , 'Vijay' , 'Abdul', 'Abhijeet' ,'Aditya']\n",
    "\n",
    "b = ['Salahudin' , 'Vijay' , 'Abdul', 'Abhijeet' ,'Aditya']\n",
    "\n",
    "print(id(a))\n",
    "print(id(b))\n",
    "\n",
    "print(a is b)"
   ]
  },
  {
   "cell_type": "markdown",
   "id": "bac6879f-cca2-4998-8533-73e3b40ea957",
   "metadata": {},
   "source": [
    "# Aliasing\n",
    "- We can verify that both the objects pointing to the same memory location using id()"
   ]
  },
  {
   "cell_type": "code",
   "execution_count": 89,
   "id": "3a786dfd-f53c-47fe-8343-c9b285c931b6",
   "metadata": {},
   "outputs": [
    {
     "name": "stdout",
     "output_type": "stream",
     "text": [
      "2483766257408\n",
      "2483766257408\n",
      "True\n"
     ]
    }
   ],
   "source": [
    "a = ['Salahudin' , 'Vijay' , 'Abdul', 'Abhijeet' ,'Aditya']\n",
    "\n",
    "b = a\n",
    "\n",
    "print(id(a))\n",
    "print(id(b))\n",
    "\n",
    "print(a is b)"
   ]
  },
  {
   "cell_type": "code",
   "execution_count": 73,
   "id": "7cdbc284-9b65-4ef1-9b43-c49c85212237",
   "metadata": {},
   "outputs": [
    {
     "name": "stdout",
     "output_type": "stream",
     "text": [
      "2643438808048\n"
     ]
    }
   ],
   "source": [
    "a = 'python'\n",
    "\n",
    "print(id(a))"
   ]
  },
  {
   "cell_type": "code",
   "execution_count": 75,
   "id": "2aa2493b-b64a-4fc9-957f-50cea5b87977",
   "metadata": {},
   "outputs": [
    {
     "name": "stdout",
     "output_type": "stream",
     "text": [
      "2643394763184\n",
      "2643396368048\n"
     ]
    }
   ],
   "source": [
    "print(id(a[2]))\n",
    "print(id(a[5]))"
   ]
  },
  {
   "cell_type": "code",
   "execution_count": 71,
   "id": "43a6f307-561a-41c5-a8f9-76ee2e697bb8",
   "metadata": {},
   "outputs": [
    {
     "data": {
      "text/plain": [
       "2643431066352"
      ]
     },
     "execution_count": 71,
     "metadata": {},
     "output_type": "execute_result"
    }
   ],
   "source": [
    "b = 'cython'\n",
    "\n",
    "id(b)"
   ]
  },
  {
   "cell_type": "code",
   "execution_count": 72,
   "id": "28b267e7-06ab-400f-b2f4-4bc6fa1f8b95",
   "metadata": {},
   "outputs": [
    {
     "name": "stdout",
     "output_type": "stream",
     "text": [
      "2643394763184\n",
      "2643396368048\n"
     ]
    }
   ],
   "source": [
    "print(id(b[2]))\n",
    "print(id(b[5]))"
   ]
  },
  {
   "cell_type": "code",
   "execution_count": 80,
   "id": "9737d51c-92af-4f62-9e27-5bba59a9f10f",
   "metadata": {},
   "outputs": [
    {
     "name": "stdout",
     "output_type": "stream",
     "text": [
      "2643497298688\n",
      "2643497233536\n",
      "--------------------------\n",
      "2643390392624\n",
      "2643390392624\n",
      "--------------------------\n",
      "2643390392656\n",
      "2643390392656\n",
      "--------------------------\n",
      "2643390392688\n",
      "2643390392688\n",
      "--------------------------\n",
      "False\n"
     ]
    }
   ],
   "source": [
    "a = [1,2,3]\n",
    "b = [1,2,3]\n",
    "\n",
    "print(id(a))\n",
    "print(id(b))\n",
    "\n",
    "print('--------------------------')\n",
    "\n",
    "print(id(a[0]))\n",
    "print(id(b[0]))\n",
    "print('--------------------------')\n",
    "print(id(a[1]))\n",
    "print(id(b[1]))\n",
    "print('--------------------------')\n",
    "print(id(a[2]))\n",
    "print(id(b[2]))\n",
    "print('--------------------------')\n",
    "print(a is b)"
   ]
  },
  {
   "cell_type": "code",
   "execution_count": 77,
   "id": "b0c8275e-6aa0-4145-9415-ac00f95286bf",
   "metadata": {},
   "outputs": [
    {
     "name": "stdout",
     "output_type": "stream",
     "text": [
      "[1, 2, 3]\n",
      "[1, 2, 3]\n",
      "--------------------------\n",
      "2643497283264\n",
      "2643497283264\n",
      "--------------------------\n",
      "[99999, 2, 3]\n",
      "[99999, 2, 3]\n",
      "True\n"
     ]
    }
   ],
   "source": [
    "a = [1,2,3]\n",
    "b = a\n",
    "\n",
    "print(a)\n",
    "print(b)\n",
    "\n",
    "print('--------------------------')\n",
    "\n",
    "print(id(a))\n",
    "print(id(b))\n",
    "\n",
    "b[0] = 99999\n",
    "\n",
    "print('--------------------------')\n",
    "\n",
    "print(a)\n",
    "print(b)\n",
    "\n",
    "\n",
    "print(a is b)"
   ]
  },
  {
   "cell_type": "markdown",
   "id": "a122b1cd-0bf3-47ff-9486-4402e6438855",
   "metadata": {},
   "source": [
    "# Shallow copy\n",
    "- when you change either the source or the copy, you may also cause the other object to change too"
   ]
  },
  {
   "cell_type": "code",
   "execution_count": 105,
   "id": "1f1a6404-7fdc-4237-94c9-4132c2390724",
   "metadata": {},
   "outputs": [
    {
     "name": "stdout",
     "output_type": "stream",
     "text": [
      "[1, 2, 3]\n",
      "[1, 2, 3]\n",
      "--------------------------\n",
      "2483769825152\n",
      "2483772256448\n",
      "--------------------------\n",
      "[1, 2, 3]\n",
      "[99999, 2, 3]\n"
     ]
    }
   ],
   "source": [
    "a = [1,2,3] # simple data set\n",
    "b = a.copy()\n",
    "\n",
    "print(a)\n",
    "print(b)\n",
    "\n",
    "print('--------------------------')\n",
    "\n",
    "print(id(a))\n",
    "print(id(b))\n",
    "\n",
    "b[0] = 99999\n",
    "\n",
    "print('--------------------------')\n",
    "\n",
    "print(a)\n",
    "print(b)"
   ]
  },
  {
   "cell_type": "markdown",
   "id": "ea1ea8a4-ab73-4b49-818f-f2cc54fee96a",
   "metadata": {},
   "source": [
    "# Failing point of shallow copy"
   ]
  },
  {
   "cell_type": "code",
   "execution_count": 1,
   "id": "211c3500-8f92-4f06-8840-3e0fb7981849",
   "metadata": {},
   "outputs": [
    {
     "name": "stdout",
     "output_type": "stream",
     "text": [
      "[1, 2, 3, [4, 5]]\n",
      "[1, 2, 3, [4, 5]]\n",
      "--------------------------\n",
      "3155962306432\n",
      "3155962305408\n",
      "--------------------------\n",
      "[1, 2, 3, [4, 5]]\n",
      "[99999, 2, 3, [4, 5]]\n"
     ]
    }
   ],
   "source": [
    "a = [1,2,3 ,[4,5]]\n",
    "b = a.copy()\n",
    "\n",
    "print(a)\n",
    "print(b)\n",
    "\n",
    "print('--------------------------')\n",
    "\n",
    "print(id(a))\n",
    "print(id(b))\n",
    "\n",
    "b[0] = 99999 # trying to change not in nested list\n",
    "\n",
    "print('--------------------------')\n",
    "\n",
    "print(a)\n",
    "print(b)"
   ]
  },
  {
   "cell_type": "code",
   "execution_count": 107,
   "id": "d1f72346-930d-456e-a12c-bff83d23e5ad",
   "metadata": {
    "scrolled": true
   },
   "outputs": [
    {
     "name": "stdout",
     "output_type": "stream",
     "text": [
      "[1, 2, 3, [4, 5]]\n",
      "[1, 2, 3, [4, 5]]\n",
      "--------------------------\n",
      "2483773044224\n",
      "2483773193856\n",
      "--------------------------\n",
      "2483773193536\n",
      "2483773193536\n",
      "--------------------------\n",
      "[1, 2, 3, [4, 99999]]\n",
      "[1, 2, 3, [4, 99999]]\n"
     ]
    }
   ],
   "source": [
    "a = [1,2,3 ,[4,5]]\n",
    "b = a.copy()\n",
    "\n",
    "print(a)\n",
    "print(b)\n",
    "\n",
    "print('--------------------------')\n",
    "\n",
    "print(id(a))\n",
    "print(id(b))\n",
    "print('--------------------------')\n",
    "\n",
    "print(id(a[-1]))\n",
    "print(id(b[-1]))\n",
    "\n",
    "b[-1][-1] = 99999 #trying to change in nested list so  a=b \n",
    "\n",
    "print('--------------------------')\n",
    "# D\n",
    "print(a)\n",
    "print(b)"
   ]
  },
  {
   "cell_type": "markdown",
   "id": "5a8e1a0a-47db-4fa7-92e3-89ddb16ae86c",
   "metadata": {},
   "source": [
    "# Deep copy"
   ]
  },
  {
   "cell_type": "code",
   "execution_count": 108,
   "id": "9515d3e8-6ee7-4b46-9589-118d1830098c",
   "metadata": {},
   "outputs": [],
   "source": [
    "from copy import deepcopy"
   ]
  },
  {
   "cell_type": "code",
   "execution_count": 109,
   "id": "b49d4bb4-cbe6-4d44-be46-dd6b00d9a349",
   "metadata": {},
   "outputs": [
    {
     "name": "stdout",
     "output_type": "stream",
     "text": [
      "[1, 2, 3, [4, 5]]\n",
      "[1, 2, 3, [4, 5]]\n",
      "--------------------------\n",
      "2483760020544\n",
      "2483767489856\n",
      "--------------------------\n",
      "2483760010688\n",
      "2483767479936\n",
      "--------------------------\n",
      "[1, 2, 3, [4, 5]]\n",
      "[1, 2, 3, [4, 99999]]\n"
     ]
    }
   ],
   "source": [
    "a = [1,2,3 ,[4,5]]\n",
    "b = deepcopy(a)\n",
    "\n",
    "print(a)\n",
    "print(b)\n",
    "\n",
    "print('--------------------------')\n",
    "\n",
    "print(id(a))\n",
    "print(id(b))\n",
    "print('--------------------------')\n",
    "\n",
    "print(id(a[-1]))\n",
    "print(id(b[-1]))\n",
    "\n",
    "b[-1][-1] = 99999\n",
    "\n",
    "print('--------------------------')\n",
    "# D\n",
    "print(a)\n",
    "print(b)"
   ]
  },
  {
   "cell_type": "code",
   "execution_count": null,
   "id": "44c83e84-cb80-4aa4-ab0c-75fc566382c4",
   "metadata": {},
   "outputs": [],
   "source": []
  }
 ],
 "metadata": {
  "kernelspec": {
   "display_name": "Python 3 (ipykernel)",
   "language": "python",
   "name": "python3"
  },
  "language_info": {
   "codemirror_mode": {
    "name": "ipython",
    "version": 3
   },
   "file_extension": ".py",
   "mimetype": "text/x-python",
   "name": "python",
   "nbconvert_exporter": "python",
   "pygments_lexer": "ipython3",
   "version": "3.9.13"
  }
 },
 "nbformat": 4,
 "nbformat_minor": 5
}
